{
 "cells": [
  {
   "cell_type": "code",
   "execution_count": 1,
   "metadata": {},
   "outputs": [],
   "source": [
    "import numpy as np\n",
    "import pandas as pd\n",
    "import requests \n",
    "from bs4 import BeautifulSoup\n",
    "from fake_useragent import UserAgent\n",
    "\n",
    "from urllib.request import urlopen\n",
    "import urllib\n",
    "\n",
    "from selenium import webdriver\n",
    "import openpyxl\n",
    "import time\n",
    "import math\n",
    "from collections import Counter\n",
    "\n",
    "\n",
    "from tqdm.notebook import tqdm\n",
    "import json\n"
   ]
  },
  {
   "cell_type": "code",
   "execution_count": 20,
   "metadata": {},
   "outputs": [],
   "source": [
    "def url_split(url):\n",
    "    main_,para_1 = url.split(\"?\")\n",
    "    para_2 = para_1.split(\"&\")\n",
    "    para_3 = [d.replace(\"=\",\":\").split(\":\") for d in para_2 if len(d.replace(\"=\",\":\").split(\":\")) != 1]\n",
    "    params_ = {}\n",
    "    #print(para_3)\n",
    "    for key,value in para_3:\n",
    "        params_[key] = value\n",
    "    return main_,params_"
   ]
  },
  {
   "cell_type": "markdown",
   "metadata": {},
   "source": [
    "# Main Page"
   ]
  },
  {
   "cell_type": "code",
   "execution_count": 21,
   "metadata": {},
   "outputs": [],
   "source": [
    "ua = UserAgent()"
   ]
  },
  {
   "cell_type": "code",
   "execution_count": 22,
   "metadata": {},
   "outputs": [],
   "source": [
    "def Main_page_head(q_1,p_1):\n",
    "    url_2 =\"https://search.tmon.co.kr/api/search/v4/deals?_=1622950347304&keyword={}&mainDealOnly=true&optionDealOnly=false&page={}&showFilter=false&size=60&sortType=REVIEW&thr=hs&useTypoCorrection=true\"\n",
    "\n",
    "    html = requests.get(url_2.format(q_1,p_1)).text\n",
    "    review_1 = json.loads(html)\n",
    "\n",
    "    item_list,name_head,reveiw_count_1 = [],[],[]\n",
    "    for Ta_ in range(len(review_1[\"data\"][\"searchDeals\"])):\n",
    "        item_list.append(review_1[\"data\"][\"searchDeals\"][Ta_][\"searchDealResponse\"][\"searchInfo\"][\"id\"])\n",
    "        name_head.append(review_1[\"data\"][\"searchDeals\"][Ta_][\"searchDealResponse\"][\"dealInfo\"][\"titleName\"])\n",
    "        reveiw_count_1.append(review_1[\"data\"][\"searchDeals\"][Ta_][\"searchDealResponse\"][\"dealInfo\"][\"userPoint\"][\"reviewCount\"])\n",
    "    return pd.DataFrame([name_head,item_list,reveiw_count_1]).T.rename(columns={0:\"Name\",1:\"item_num\",2:\"Review_count\"})"
   ]
  },
  {
   "cell_type": "code",
   "execution_count": 23,
   "metadata": {},
   "outputs": [
    {
     "data": {
      "text/html": [
       "<div>\n",
       "<style scoped>\n",
       "    .dataframe tbody tr th:only-of-type {\n",
       "        vertical-align: middle;\n",
       "    }\n",
       "\n",
       "    .dataframe tbody tr th {\n",
       "        vertical-align: top;\n",
       "    }\n",
       "\n",
       "    .dataframe thead th {\n",
       "        text-align: right;\n",
       "    }\n",
       "</style>\n",
       "<table border=\"1\" class=\"dataframe\">\n",
       "  <thead>\n",
       "    <tr style=\"text-align: right;\">\n",
       "      <th></th>\n",
       "      <th>Name</th>\n",
       "      <th>item_num</th>\n",
       "      <th>Review_count</th>\n",
       "    </tr>\n",
       "  </thead>\n",
       "  <tbody>\n",
       "    <tr>\n",
       "      <th>0</th>\n",
       "      <td>[아이디어라떼] 끝판왕시리즈 우리집 아이디어 생활용품 339종 모음전</td>\n",
       "      <td>2719804166</td>\n",
       "      <td>2714</td>\n",
       "    </tr>\n",
       "    <tr>\n",
       "      <th>1</th>\n",
       "      <td>[특가] 인블룸 가을맞이 리빙/욕실/청소 필요한 모든것 94종 창고대방출</td>\n",
       "      <td>2515964826</td>\n",
       "      <td>2229</td>\n",
       "    </tr>\n",
       "    <tr>\n",
       "      <th>2</th>\n",
       "      <td>[CKI] 인기 드라이기 모음</td>\n",
       "      <td>463736766</td>\n",
       "      <td>1586</td>\n",
       "    </tr>\n",
       "    <tr>\n",
       "      <th>3</th>\n",
       "      <td>[제니아] 2200W 드라이기 템페스트 WJD-5560</td>\n",
       "      <td>2232240862</td>\n",
       "      <td>1166</td>\n",
       "    </tr>\n",
       "    <tr>\n",
       "      <th>4</th>\n",
       "      <td>[유닉스] 드라이기 UN-A1610</td>\n",
       "      <td>605332150</td>\n",
       "      <td>901</td>\n",
       "    </tr>\n",
       "    <tr>\n",
       "      <th>...</th>\n",
       "      <td>...</td>\n",
       "      <td>...</td>\n",
       "      <td>...</td>\n",
       "    </tr>\n",
       "    <tr>\n",
       "      <th>115</th>\n",
       "      <td>욕실 수납장 홀더 선반</td>\n",
       "      <td>1940666614</td>\n",
       "      <td>20</td>\n",
       "    </tr>\n",
       "    <tr>\n",
       "      <th>116</th>\n",
       "      <td>[CKI] D210 드라이기</td>\n",
       "      <td>642088722</td>\n",
       "      <td>20</td>\n",
       "    </tr>\n",
       "    <tr>\n",
       "      <th>117</th>\n",
       "      <td>다이슨 슈퍼소닉 헤어 드라이기 스크래치 방지 실리콘 커버 케이스</td>\n",
       "      <td>3686099754</td>\n",
       "      <td>19</td>\n",
       "    </tr>\n",
       "    <tr>\n",
       "      <th>118</th>\n",
       "      <td>주방 싱크대 칼꽂이 선반 조리도구 국자 조리기 걸이</td>\n",
       "      <td>2512115938</td>\n",
       "      <td>19</td>\n",
       "    </tr>\n",
       "    <tr>\n",
       "      <th>119</th>\n",
       "      <td>주방 싱크대 국자 조리도구 행주 벽 걸이 건조대 선반</td>\n",
       "      <td>2379571458</td>\n",
       "      <td>19</td>\n",
       "    </tr>\n",
       "  </tbody>\n",
       "</table>\n",
       "<p>120 rows × 3 columns</p>\n",
       "</div>"
      ],
      "text/plain": [
       "                                         Name    item_num Review_count\n",
       "0      [아이디어라떼] 끝판왕시리즈 우리집 아이디어 생활용품 339종 모음전  2719804166         2714\n",
       "1    [특가] 인블룸 가을맞이 리빙/욕실/청소 필요한 모든것 94종 창고대방출  2515964826         2229\n",
       "2                            [CKI] 인기 드라이기 모음   463736766         1586\n",
       "3              [제니아] 2200W 드라이기 템페스트 WJD-5560  2232240862         1166\n",
       "4                         [유닉스] 드라이기 UN-A1610   605332150          901\n",
       "..                                        ...         ...          ...\n",
       "115                             욕실 수납장 홀더 선반   1940666614           20\n",
       "116                           [CKI] D210 드라이기   642088722           20\n",
       "117       다이슨 슈퍼소닉 헤어 드라이기 스크래치 방지 실리콘 커버 케이스  3686099754           19\n",
       "118              주방 싱크대 칼꽂이 선반 조리도구 국자 조리기 걸이  2512115938           19\n",
       "119             주방 싱크대 국자 조리도구 행주 벽 걸이 건조대 선반  2379571458           19\n",
       "\n",
       "[120 rows x 3 columns]"
      ]
     },
     "execution_count": 23,
     "metadata": {},
     "output_type": "execute_result"
    }
   ],
   "source": [
    "main_df = pd.concat([Main_page_head(\"헤어드라이기\",1),Main_page_head(\"헤어드라이기\",2)]).reset_index(drop=True)\n",
    "main_df"
   ]
  },
  {
   "cell_type": "code",
   "execution_count": 24,
   "metadata": {},
   "outputs": [],
   "source": [
    "p_2 = 1\n",
    "\n",
    "Ta_ = 0\n",
    "\n",
    "item_n = main_df[\"item_num\"][Ta_]\n",
    "target_name = main_df[\"Name\"][Ta_]\n",
    "max_page = int(main_df[\"Review_count\"][Ta_])//200"
   ]
  },
  {
   "cell_type": "markdown",
   "metadata": {},
   "source": [
    "# Review Page"
   ]
  },
  {
   "cell_type": "code",
   "execution_count": 25,
   "metadata": {},
   "outputs": [],
   "source": [
    "def Review_page_ex(target_name,item_n,p_2):\n",
    "    url_3 = \"http://www.tmon.co.kr/api/detail/direct/v1/boardapi/api/review/search/list/{}?offset=200&page={}&reviewNo=&useSc=false&timeout=5000&useHeader=&image=Y&count=20\"\n",
    "    header = {'User-Agent':ua.chrome,\n",
    "              \"referer\":\"https://www.tmon.co.kr/\"}\n",
    "\n",
    "    html = requests.get(url_3.format(item_n,p_2),headers=header).text\n",
    "    review_2 = json.loads(html)\n",
    "    data_all = []\n",
    "    for Ta_3 in range(len(review_2[\"data\"][\"list\"])):\n",
    "        id_ = review_2[\"data\"][\"list\"][Ta_3][\"whoCreate\"]\n",
    "        date_ = review_2[\"data\"][\"list\"][Ta_3][\"createDt\"]\n",
    "        item_ = target_name\n",
    "        score_ = int(review_2[\"data\"][\"list\"][Ta_3][\"dealGpoint\"])\n",
    "        contents_ = review_2[\"data\"][\"list\"][Ta_3][\"contents\"]\n",
    "        liked_ = review_2[\"data\"][\"list\"][Ta_3][\"recommendCnt\"]\n",
    "        channel_ = \"TIMON\"\n",
    "        all_ = [date_,id_,item_,score_,contents_,liked_,channel_]\n",
    "                \n",
    "        data_all.append(all_)\n",
    "    df_ = pd.DataFrame(data_all).rename(columns={0:\"date\",1:\"id\",2:\"item\",3:\"score\",4:\"contents\",5:\"liked\",6:\"channel\"})\n",
    "    return df_"
   ]
  },
  {
   "cell_type": "code",
   "execution_count": 26,
   "metadata": {},
   "outputs": [
    {
     "data": {
      "text/html": [
       "<div>\n",
       "<style scoped>\n",
       "    .dataframe tbody tr th:only-of-type {\n",
       "        vertical-align: middle;\n",
       "    }\n",
       "\n",
       "    .dataframe tbody tr th {\n",
       "        vertical-align: top;\n",
       "    }\n",
       "\n",
       "    .dataframe thead th {\n",
       "        text-align: right;\n",
       "    }\n",
       "</style>\n",
       "<table border=\"1\" class=\"dataframe\">\n",
       "  <thead>\n",
       "    <tr style=\"text-align: right;\">\n",
       "      <th></th>\n",
       "      <th>date</th>\n",
       "      <th>id</th>\n",
       "      <th>item</th>\n",
       "      <th>score</th>\n",
       "      <th>contents</th>\n",
       "      <th>liked</th>\n",
       "      <th>channel</th>\n",
       "    </tr>\n",
       "  </thead>\n",
       "  <tbody>\n",
       "    <tr>\n",
       "      <th>0</th>\n",
       "      <td>2020-09-02 23:03:02</td>\n",
       "      <td>19j******</td>\n",
       "      <td>[특가] 인블룸 가을맞이 리빙/욕실/청소 필요한 모든것 94종 창고대방출</td>\n",
       "      <td>5</td>\n",
       "      <td>옷걸이 좋아요 가성비 좋아서 샀아요</td>\n",
       "      <td>0</td>\n",
       "      <td>TIMON</td>\n",
       "    </tr>\n",
       "    <tr>\n",
       "      <th>1</th>\n",
       "      <td>2020-09-02 18:45:41</td>\n",
       "      <td>fuo*****</td>\n",
       "      <td>[특가] 인블룸 가을맞이 리빙/욕실/청소 필요한 모든것 94종 창고대방출</td>\n",
       "      <td>4</td>\n",
       "      <td>일본제품을 써봣는데 의외로 소소하네욤 딱딱한 재질인걸보고 놀랬습니다</td>\n",
       "      <td>0</td>\n",
       "      <td>TIMON</td>\n",
       "    </tr>\n",
       "    <tr>\n",
       "      <th>2</th>\n",
       "      <td>2020-08-28 18:21:37</td>\n",
       "      <td>chi****</td>\n",
       "      <td>[특가] 인블룸 가을맞이 리빙/욕실/청소 필요한 모든것 94종 창고대방출</td>\n",
       "      <td>4</td>\n",
       "      <td>다리가 짱짱해서 만족합니다.</td>\n",
       "      <td>0</td>\n",
       "      <td>TIMON</td>\n",
       "    </tr>\n",
       "    <tr>\n",
       "      <th>3</th>\n",
       "      <td>2020-08-13 22:37:43</td>\n",
       "      <td>kim******</td>\n",
       "      <td>[특가] 인블룸 가을맞이 리빙/욕실/청소 필요한 모든것 94종 창고대방출</td>\n",
       "      <td>5</td>\n",
       "      <td>간단하게붙여서쓰기에좋아요\\n다만딱고정이안되고 살짝 불안하네용</td>\n",
       "      <td>0</td>\n",
       "      <td>TIMON</td>\n",
       "    </tr>\n",
       "    <tr>\n",
       "      <th>4</th>\n",
       "      <td>2020-08-07 17:15:01</td>\n",
       "      <td>beb*****</td>\n",
       "      <td>[특가] 인블룸 가을맞이 리빙/욕실/청소 필요한 모든것 94종 창고대방출</td>\n",
       "      <td>3</td>\n",
       "      <td>좋아요 침대밑에 딱 맞네요\\n진작 구입할껄 했어요\\n색상도 이쁘고 디자인도 좋아요</td>\n",
       "      <td>0</td>\n",
       "      <td>TIMON</td>\n",
       "    </tr>\n",
       "  </tbody>\n",
       "</table>\n",
       "</div>"
      ],
      "text/plain": [
       "                  date         id                                      item  \\\n",
       "0  2020-09-02 23:03:02  19j******  [특가] 인블룸 가을맞이 리빙/욕실/청소 필요한 모든것 94종 창고대방출   \n",
       "1  2020-09-02 18:45:41   fuo*****  [특가] 인블룸 가을맞이 리빙/욕실/청소 필요한 모든것 94종 창고대방출   \n",
       "2  2020-08-28 18:21:37    chi****  [특가] 인블룸 가을맞이 리빙/욕실/청소 필요한 모든것 94종 창고대방출   \n",
       "3  2020-08-13 22:37:43  kim******  [특가] 인블룸 가을맞이 리빙/욕실/청소 필요한 모든것 94종 창고대방출   \n",
       "4  2020-08-07 17:15:01   beb*****  [특가] 인블룸 가을맞이 리빙/욕실/청소 필요한 모든것 94종 창고대방출   \n",
       "\n",
       "   score                                       contents  liked channel  \n",
       "0      5                            옷걸이 좋아요 가성비 좋아서 샀아요      0   TIMON  \n",
       "1      4          일본제품을 써봣는데 의외로 소소하네욤 딱딱한 재질인걸보고 놀랬습니다      0   TIMON  \n",
       "2      4                                다리가 짱짱해서 만족합니다.      0   TIMON  \n",
       "3      5              간단하게붙여서쓰기에좋아요\\n다만딱고정이안되고 살짝 불안하네용      0   TIMON  \n",
       "4      3  좋아요 침대밑에 딱 맞네요\\n진작 구입할껄 했어요\\n색상도 이쁘고 디자인도 좋아요      0   TIMON  "
      ]
     },
     "execution_count": 26,
     "metadata": {},
     "output_type": "execute_result"
    }
   ],
   "source": [
    "Ta_ = 1\n",
    "item_n = main_df[\"item_num\"][Ta_]\n",
    "target_name = main_df[\"Name\"][Ta_]\n",
    "max_page = main_df[\"Review_count\"][Ta_]\n",
    "\n",
    "Review_page_ex(target_name,item_n,1).head()"
   ]
  },
  {
   "cell_type": "code",
   "execution_count": 27,
   "metadata": {},
   "outputs": [],
   "source": [
    "def Review_page_ex2(target_name,item_n,p_2):\n",
    "    url_3 = \"http://www.tmon.co.kr/api/detail/direct/v1/detailapi/api/detail/board/review/list/{}?categoryNo=57000000&page={}&count=20&useHeader=&flagSc=N\"\n",
    "    header = {'User-Agent':ua.chrome,\n",
    "              \"referer\":\"https://www.tmon.co.kr/\"}\n",
    "\n",
    "    html = requests.get(url_3.format(item_n,p_2),headers=header).text\n",
    "    review_2 = json.loads(html)\n",
    "    data_all = []\n",
    "\n",
    "    for Ta_3 in range(len(review_2[\"data\"][\"reviewContents\"])):\n",
    "        id_ = review_2[\"data\"][\"reviewContents\"][Ta_3][\"whoUpdate\"]\n",
    "        date_ = review_2[\"data\"][\"reviewContents\"][Ta_3][\"createDt\"]\n",
    "        item_ = target_name\n",
    "        score_ = int(review_2[\"data\"][\"reviewContents\"][Ta_3][\"dealGpoint\"])\n",
    "        contents_ = review_2[\"data\"][\"reviewContents\"][Ta_3][\"contents\"]\n",
    "        liked_ = review_2[\"data\"][\"reviewContents\"][Ta_3][\"recommendCnt\"]\n",
    "        channel_ = \"TIMON\"\n",
    "        all_ = [date_,id_,item_,score_,contents_,liked_,channel_]\n",
    "        data_all.append(all_)\n",
    "    df_ = pd.DataFrame(data_all).rename(columns={0:\"date\",1:\"id\",2:\"item\",3:\"score\",4:\"contents\",5:\"liked\",6:\"channel\"})\n",
    "    return df_"
   ]
  },
  {
   "cell_type": "code",
   "execution_count": 28,
   "metadata": {},
   "outputs": [
    {
     "data": {
      "text/html": [
       "<div>\n",
       "<style scoped>\n",
       "    .dataframe tbody tr th:only-of-type {\n",
       "        vertical-align: middle;\n",
       "    }\n",
       "\n",
       "    .dataframe tbody tr th {\n",
       "        vertical-align: top;\n",
       "    }\n",
       "\n",
       "    .dataframe thead th {\n",
       "        text-align: right;\n",
       "    }\n",
       "</style>\n",
       "<table border=\"1\" class=\"dataframe\">\n",
       "  <thead>\n",
       "    <tr style=\"text-align: right;\">\n",
       "      <th></th>\n",
       "      <th>date</th>\n",
       "      <th>id</th>\n",
       "      <th>item</th>\n",
       "      <th>score</th>\n",
       "      <th>contents</th>\n",
       "      <th>liked</th>\n",
       "      <th>channel</th>\n",
       "    </tr>\n",
       "  </thead>\n",
       "  <tbody>\n",
       "    <tr>\n",
       "      <th>0</th>\n",
       "      <td>2021-07-12 19:30:00</td>\n",
       "      <td>ghk*********</td>\n",
       "      <td>[특가] 인블룸 가을맞이 리빙/욕실/청소 필요한 모든것 94종 창고대방출</td>\n",
       "      <td>5</td>\n",
       "      <td>양치 하고도 이에 낀 음식물 안빠질 때!&lt;br /&gt;개운하고 잘 빠집니다~예전에 막 ...</td>\n",
       "      <td>0</td>\n",
       "      <td>TIMON</td>\n",
       "    </tr>\n",
       "    <tr>\n",
       "      <th>1</th>\n",
       "      <td>2021-06-29 10:49:53</td>\n",
       "      <td>s2e****</td>\n",
       "      <td>[특가] 인블룸 가을맞이 리빙/욕실/청소 필요한 모든것 94종 창고대방출</td>\n",
       "      <td>5</td>\n",
       "      <td>좋아용 잘쓸게용ㅇㅇㅇ</td>\n",
       "      <td>0</td>\n",
       "      <td>TIMON</td>\n",
       "    </tr>\n",
       "    <tr>\n",
       "      <th>2</th>\n",
       "      <td>2021-06-16 14:58:36</td>\n",
       "      <td>Gs2***</td>\n",
       "      <td>[특가] 인블룸 가을맞이 리빙/욕실/청소 필요한 모든것 94종 창고대방출</td>\n",
       "      <td>5</td>\n",
       "      <td>조아요조아요조아용조아용</td>\n",
       "      <td>0</td>\n",
       "      <td>TIMON</td>\n",
       "    </tr>\n",
       "    <tr>\n",
       "      <th>3</th>\n",
       "      <td>2021-05-30 20:05:14</td>\n",
       "      <td>sh4***</td>\n",
       "      <td>[특가] 인블룸 가을맞이 리빙/욕실/청소 필요한 모든것 94종 창고대방출</td>\n",
       "      <td>3</td>\n",
       "      <td>좋아요좋아요좋아요좋아요좋아요</td>\n",
       "      <td>0</td>\n",
       "      <td>TIMON</td>\n",
       "    </tr>\n",
       "    <tr>\n",
       "      <th>4</th>\n",
       "      <td>2021-05-21 09:23:46</td>\n",
       "      <td>pyj****</td>\n",
       "      <td>[특가] 인블룸 가을맞이 리빙/욕실/청소 필요한 모든것 94종 창고대방출</td>\n",
       "      <td>5</td>\n",
       "      <td>좋아서 더 주문해써용 많이파세요</td>\n",
       "      <td>0</td>\n",
       "      <td>TIMON</td>\n",
       "    </tr>\n",
       "  </tbody>\n",
       "</table>\n",
       "</div>"
      ],
      "text/plain": [
       "                  date            id  \\\n",
       "0  2021-07-12 19:30:00  ghk*********   \n",
       "1  2021-06-29 10:49:53       s2e****   \n",
       "2  2021-06-16 14:58:36        Gs2***   \n",
       "3  2021-05-30 20:05:14        sh4***   \n",
       "4  2021-05-21 09:23:46       pyj****   \n",
       "\n",
       "                                       item  score  \\\n",
       "0  [특가] 인블룸 가을맞이 리빙/욕실/청소 필요한 모든것 94종 창고대방출      5   \n",
       "1  [특가] 인블룸 가을맞이 리빙/욕실/청소 필요한 모든것 94종 창고대방출      5   \n",
       "2  [특가] 인블룸 가을맞이 리빙/욕실/청소 필요한 모든것 94종 창고대방출      5   \n",
       "3  [특가] 인블룸 가을맞이 리빙/욕실/청소 필요한 모든것 94종 창고대방출      3   \n",
       "4  [특가] 인블룸 가을맞이 리빙/욕실/청소 필요한 모든것 94종 창고대방출      5   \n",
       "\n",
       "                                            contents  liked channel  \n",
       "0  양치 하고도 이에 낀 음식물 안빠질 때!<br />개운하고 잘 빠집니다~예전에 막 ...      0   TIMON  \n",
       "1                                        좋아용 잘쓸게용ㅇㅇㅇ      0   TIMON  \n",
       "2                                      조아요조아요조아용조아용       0   TIMON  \n",
       "3                                    좋아요좋아요좋아요좋아요좋아요      0   TIMON  \n",
       "4                                 좋아서 더 주문해써용 많이파세요       0   TIMON  "
      ]
     },
     "execution_count": 28,
     "metadata": {},
     "output_type": "execute_result"
    }
   ],
   "source": [
    "Ta_ = 1\n",
    "item_n = main_df[\"item_num\"][Ta_]\n",
    "target_name = main_df[\"Name\"][Ta_]\n",
    "max_page = main_df[\"Review_count\"][Ta_]\n",
    "\n",
    "Review_page_ex2(target_name,item_n,1).head()"
   ]
  },
  {
   "cell_type": "code",
   "execution_count": 29,
   "metadata": {},
   "outputs": [],
   "source": [
    "def Crawling_Timon_all(main_df,Ta_):\n",
    "    item_n = main_df[\"item_num\"][Ta_]\n",
    "    target_name = main_df[\"Name\"][Ta_]\n",
    "    max_page = main_df[\"Review_count\"][Ta_]\n",
    "\n",
    "    MaxPage = max_page//200\n",
    "    tq = tqdm(range(MaxPage+1))\n",
    "\n",
    "    review_all = pd.DataFrame()\n",
    "    for mp in tq:\n",
    "        review_candi = pd.concat([Review_page_ex(target_name,item_n,mp+1),Review_page_ex2(target_name,item_n,mp+1)]).reset_index(drop=True)\n",
    "        review_all = pd.concat([review_all,review_candi]).reset_index(drop=True)\n",
    "    return review_all,target_name"
   ]
  },
  {
   "cell_type": "code",
   "execution_count": 30,
   "metadata": {},
   "outputs": [
    {
     "data": {
      "application/vnd.jupyter.widget-view+json": {
       "model_id": "8314926650854bf1b44eaafee0cb3a73",
       "version_major": 2,
       "version_minor": 0
      },
      "text/plain": [
       "  0%|          | 0/12 [00:00<?, ?it/s]"
      ]
     },
     "metadata": {},
     "output_type": "display_data"
    }
   ],
   "source": [
    "test_1,name_1 = Crawling_Timon_all(main_df,1)"
   ]
  },
  {
   "cell_type": "code",
   "execution_count": 31,
   "metadata": {},
   "outputs": [],
   "source": [
    "def Timon_Save_local(path_,head_df):\n",
    "    for i_ in range(len(head_df)):\n",
    "        print(\"In {} Pro From {}\".format(i_+1,len(head_df)+1))\n",
    "        print()\n",
    "        print(head_df[\"Name\"][i_])\n",
    "        out_,NA_ = Crawling_Timon_all(head_df,i_)\n",
    "        NA_ = NA_.replace(\"/\",\"\").replace(\"-\",\"\").replace(\"\\n\",\"\").strip()\n",
    "        out_.to_excel(path_.format(NA_))"
   ]
  },
  {
   "cell_type": "code",
   "execution_count": 32,
   "metadata": {
    "scrolled": true
   },
   "outputs": [
    {
     "name": "stdout",
     "output_type": "stream",
     "text": [
      "In 1 Pro From 121\n",
      "\n",
      "[아이디어라떼] 끝판왕시리즈 우리집 아이디어 생활용품 339종 모음전\n"
     ]
    },
    {
     "data": {
      "application/vnd.jupyter.widget-view+json": {
       "model_id": "3198091b14d242899f6e41daf57d850f",
       "version_major": 2,
       "version_minor": 0
      },
      "text/plain": [
       "  0%|          | 0/14 [00:00<?, ?it/s]"
      ]
     },
     "metadata": {},
     "output_type": "display_data"
    },
    {
     "name": "stdout",
     "output_type": "stream",
     "text": [
      "In 2 Pro From 121\n",
      "\n",
      "[특가] 인블룸 가을맞이 리빙/욕실/청소 필요한 모든것 94종 창고대방출\n"
     ]
    },
    {
     "data": {
      "application/vnd.jupyter.widget-view+json": {
       "model_id": "7a8413c3576e49a4ae77ebf8a40126f7",
       "version_major": 2,
       "version_minor": 0
      },
      "text/plain": [
       "  0%|          | 0/12 [00:00<?, ?it/s]"
      ]
     },
     "metadata": {},
     "output_type": "display_data"
    },
    {
     "name": "stdout",
     "output_type": "stream",
     "text": [
      "In 3 Pro From 121\n",
      "\n",
      "[CKI] 인기 드라이기 모음\n"
     ]
    },
    {
     "data": {
      "application/vnd.jupyter.widget-view+json": {
       "model_id": "ec8aee24004640a79bc57054f287084f",
       "version_major": 2,
       "version_minor": 0
      },
      "text/plain": [
       "  0%|          | 0/8 [00:00<?, ?it/s]"
      ]
     },
     "metadata": {},
     "output_type": "display_data"
    },
    {
     "name": "stdout",
     "output_type": "stream",
     "text": [
      "In 4 Pro From 121\n",
      "\n",
      "[제니아] 2200W 드라이기 템페스트 WJD-5560\n"
     ]
    },
    {
     "data": {
      "application/vnd.jupyter.widget-view+json": {
       "model_id": "04691e53469b40ed8fd9c61e20337fa1",
       "version_major": 2,
       "version_minor": 0
      },
      "text/plain": [
       "  0%|          | 0/6 [00:00<?, ?it/s]"
      ]
     },
     "metadata": {},
     "output_type": "display_data"
    },
    {
     "name": "stdout",
     "output_type": "stream",
     "text": [
      "In 5 Pro From 121\n",
      "\n",
      "[유닉스] 드라이기 UN-A1610\n"
     ]
    },
    {
     "data": {
      "application/vnd.jupyter.widget-view+json": {
       "model_id": "9ecf097dd4f14b42add6843bbf175383",
       "version_major": 2,
       "version_minor": 0
      },
      "text/plain": [
       "  0%|          | 0/5 [00:00<?, ?it/s]"
      ]
     },
     "metadata": {},
     "output_type": "display_data"
    },
    {
     "name": "stdout",
     "output_type": "stream",
     "text": [
      "In 6 Pro From 121\n",
      "\n",
      "[JMW] 항공모터 드라이기/고데기 모음\n"
     ]
    },
    {
     "data": {
      "application/vnd.jupyter.widget-view+json": {
       "model_id": "f7aa238e66ef48ba824a52f67c90e576",
       "version_major": 2,
       "version_minor": 0
      },
      "text/plain": [
       "  0%|          | 0/4 [00:00<?, ?it/s]"
      ]
     },
     "metadata": {},
     "output_type": "display_data"
    },
    {
     "name": "stdout",
     "output_type": "stream",
     "text": [
      "In 7 Pro From 121\n",
      "\n",
      "[서울쏠쏠마켓] [한일전자] 파테크 2300W 전문가용 헤어드라이기 PD-H4300\n"
     ]
    },
    {
     "data": {
      "application/vnd.jupyter.widget-view+json": {
       "model_id": "a8c6061348744d44afcef3b0b966c2eb",
       "version_major": 2,
       "version_minor": 0
      },
      "text/plain": [
       "  0%|          | 0/4 [00:00<?, ?it/s]"
      ]
     },
     "metadata": {},
     "output_type": "display_data"
    },
    {
     "name": "stdout",
     "output_type": "stream",
     "text": [
      "In 8 Pro From 121\n",
      "\n",
      "[유닉스] 전문가용 헤어 드라이기 UN-A1141\n"
     ]
    },
    {
     "data": {
      "application/vnd.jupyter.widget-view+json": {
       "model_id": "9269f5aa25dc460abaea7644f4b8f600",
       "version_major": 2,
       "version_minor": 0
      },
      "text/plain": [
       "  0%|          | 0/4 [00:00<?, ?it/s]"
      ]
     },
     "metadata": {},
     "output_type": "display_data"
    },
    {
     "name": "stdout",
     "output_type": "stream",
     "text": [
      "In 9 Pro From 121\n",
      "\n",
      "[유닉스] 메탈드라이기 UN-B1611\n"
     ]
    },
    {
     "data": {
      "application/vnd.jupyter.widget-view+json": {
       "model_id": "18de7c12ae1841458e409dc14027029d",
       "version_major": 2,
       "version_minor": 0
      },
      "text/plain": [
       "  0%|          | 0/3 [00:00<?, ?it/s]"
      ]
     },
     "metadata": {},
     "output_type": "display_data"
    },
    {
     "name": "stdout",
     "output_type": "stream",
     "text": [
      "In 10 Pro From 121\n",
      "\n",
      "[퓨어베스] 퍼퓸 드라이샴푸 \n"
     ]
    },
    {
     "data": {
      "application/vnd.jupyter.widget-view+json": {
       "model_id": "81c7cdcdf36e44be82d212ce7537ba1c",
       "version_major": 2,
       "version_minor": 0
      },
      "text/plain": [
       "  0%|          | 0/3 [00:00<?, ?it/s]"
      ]
     },
     "metadata": {},
     "output_type": "display_data"
    },
    {
     "name": "stdout",
     "output_type": "stream",
     "text": [
      "In 11 Pro From 121\n",
      "\n",
      "[다이슨] dyson HD-03 슈퍼소닉 헤어드라이기 아이언핑크\n"
     ]
    },
    {
     "data": {
      "application/vnd.jupyter.widget-view+json": {
       "model_id": "c744926064da480dae4ed2b113d67614",
       "version_major": 2,
       "version_minor": 0
      },
      "text/plain": [
       "  0%|          | 0/3 [00:00<?, ?it/s]"
      ]
     },
     "metadata": {},
     "output_type": "display_data"
    },
    {
     "name": "stdout",
     "output_type": "stream",
     "text": [
      "In 12 Pro From 121\n",
      "\n",
      "[CKI] 2000W 드라이기\n"
     ]
    },
    {
     "data": {
      "application/vnd.jupyter.widget-view+json": {
       "model_id": "3fc84bcdaca148fe958ccde0581d079d",
       "version_major": 2,
       "version_minor": 0
      },
      "text/plain": [
       "  0%|          | 0/3 [00:00<?, ?it/s]"
      ]
     },
     "metadata": {},
     "output_type": "display_data"
    },
    {
     "name": "stdout",
     "output_type": "stream",
     "text": [
      "In 13 Pro From 121\n",
      "\n",
      "[CKI] 전문가용 드라이기\n"
     ]
    },
    {
     "data": {
      "application/vnd.jupyter.widget-view+json": {
       "model_id": "540b078ace994305a62814e0fffb8dee",
       "version_major": 2,
       "version_minor": 0
      },
      "text/plain": [
       "  0%|          | 0/3 [00:00<?, ?it/s]"
      ]
     },
     "metadata": {},
     "output_type": "display_data"
    },
    {
     "name": "stdout",
     "output_type": "stream",
     "text": [
      "In 14 Pro From 121\n",
      "\n",
      "[CKI] D201 드라이기\n"
     ]
    },
    {
     "data": {
      "application/vnd.jupyter.widget-view+json": {
       "model_id": "52d1476088b549f088866afcb1d404e0",
       "version_major": 2,
       "version_minor": 0
      },
      "text/plain": [
       "  0%|          | 0/3 [00:00<?, ?it/s]"
      ]
     },
     "metadata": {},
     "output_type": "display_data"
    },
    {
     "name": "stdout",
     "output_type": "stream",
     "text": [
      "In 15 Pro From 121\n",
      "\n",
      "[특가] 유닉스 1600W 헤어 드라이기 UN-A1610\n"
     ]
    },
    {
     "data": {
      "application/vnd.jupyter.widget-view+json": {
       "model_id": "a338386cd9ac4d8cb1022c6f248c9b4e",
       "version_major": 2,
       "version_minor": 0
      },
      "text/plain": [
       "  0%|          | 0/2 [00:00<?, ?it/s]"
      ]
     },
     "metadata": {},
     "output_type": "display_data"
    },
    {
     "name": "stdout",
     "output_type": "stream",
     "text": [
      "In 16 Pro From 121\n",
      "\n",
      "유닉스 접이식 드라이기 5종\n"
     ]
    },
    {
     "data": {
      "application/vnd.jupyter.widget-view+json": {
       "model_id": "bccb4d5d776846dd8ef9ec1d3d2f1931",
       "version_major": 2,
       "version_minor": 0
      },
      "text/plain": [
       "  0%|          | 0/2 [00:00<?, ?it/s]"
      ]
     },
     "metadata": {},
     "output_type": "display_data"
    },
    {
     "name": "stdout",
     "output_type": "stream",
     "text": [
      "In 17 Pro From 121\n",
      "\n",
      "[유닉스] 드라이기/고데기 \n"
     ]
    },
    {
     "data": {
      "application/vnd.jupyter.widget-view+json": {
       "model_id": "b1a89b3075e24824b40ae642833a0b81",
       "version_major": 2,
       "version_minor": 0
      },
      "text/plain": [
       "  0%|          | 0/2 [00:00<?, ?it/s]"
      ]
     },
     "metadata": {},
     "output_type": "display_data"
    },
    {
     "name": "stdout",
     "output_type": "stream",
     "text": [
      "In 18 Pro From 121\n",
      "\n",
      "[CKI] 2000W 고출력 전문가용 드라이기 CKI-D950\n"
     ]
    },
    {
     "data": {
      "application/vnd.jupyter.widget-view+json": {
       "model_id": "2feede7cbf9b46bb9897b3de10f94d2a",
       "version_major": 2,
       "version_minor": 0
      },
      "text/plain": [
       "  0%|          | 0/2 [00:00<?, ?it/s]"
      ]
     },
     "metadata": {},
     "output_type": "display_data"
    },
    {
     "name": "stdout",
     "output_type": "stream",
     "text": [
      "In 19 Pro From 121\n",
      "\n",
      "[유닉스] 전문가용\n",
      "헤어드라이기 UN-A1340A\n"
     ]
    },
    {
     "data": {
      "application/vnd.jupyter.widget-view+json": {
       "model_id": "666d7ef57cf14ab0acd4b2d0cc34685b",
       "version_major": 2,
       "version_minor": 0
      },
      "text/plain": [
       "  0%|          | 0/2 [00:00<?, ?it/s]"
      ]
     },
     "metadata": {},
     "output_type": "display_data"
    },
    {
     "name": "stdout",
     "output_type": "stream",
     "text": [
      "In 20 Pro From 121\n",
      "\n",
      "[유닉스] 전문가용헤어드라이기 MASTER 8종\n"
     ]
    },
    {
     "data": {
      "application/vnd.jupyter.widget-view+json": {
       "model_id": "cfaf3a7f26c847d8a65e22c6121617a2",
       "version_major": 2,
       "version_minor": 0
      },
      "text/plain": [
       "  0%|          | 0/2 [00:00<?, ?it/s]"
      ]
     },
     "metadata": {},
     "output_type": "display_data"
    },
    {
     "name": "stdout",
     "output_type": "stream",
     "text": [
      "In 21 Pro From 121\n",
      "\n",
      "[CKI] 드라이기/고데기 모음전\n"
     ]
    },
    {
     "data": {
      "application/vnd.jupyter.widget-view+json": {
       "model_id": "4f8e797362cc480a857275d596773f37",
       "version_major": 2,
       "version_minor": 0
      },
      "text/plain": [
       "  0%|          | 0/2 [00:00<?, ?it/s]"
      ]
     },
     "metadata": {},
     "output_type": "display_data"
    },
    {
     "name": "stdout",
     "output_type": "stream",
     "text": [
      "In 22 Pro From 121\n",
      "\n",
      "유닉스 접이식 드라이기 7종\n"
     ]
    },
    {
     "data": {
      "application/vnd.jupyter.widget-view+json": {
       "model_id": "8bcb494f27ba4d91919a9486cfc4e046",
       "version_major": 2,
       "version_minor": 0
      },
      "text/plain": [
       "  0%|          | 0/1 [00:00<?, ?it/s]"
      ]
     },
     "metadata": {},
     "output_type": "display_data"
    },
    {
     "name": "stdout",
     "output_type": "stream",
     "text": [
      "In 23 Pro From 121\n",
      "\n",
      "[유닉스] 접이식 드라이기 UN-A1005\n"
     ]
    },
    {
     "data": {
      "application/vnd.jupyter.widget-view+json": {
       "model_id": "6f779e34cb5e4e54aa173f47d3815845",
       "version_major": 2,
       "version_minor": 0
      },
      "text/plain": [
       "  0%|          | 0/1 [00:00<?, ?it/s]"
      ]
     },
     "metadata": {},
     "output_type": "display_data"
    },
    {
     "name": "stdout",
     "output_type": "stream",
     "text": [
      "In 24 Pro From 121\n",
      "\n",
      "[티몬블랙딜] 보만 생활 가전 모음전\n"
     ]
    },
    {
     "data": {
      "application/vnd.jupyter.widget-view+json": {
       "model_id": "92daccef09c44e589a47e7d3d4e2a695",
       "version_major": 2,
       "version_minor": 0
      },
      "text/plain": [
       "  0%|          | 0/1 [00:00<?, ?it/s]"
      ]
     },
     "metadata": {},
     "output_type": "display_data"
    },
    {
     "name": "stdout",
     "output_type": "stream",
     "text": [
      "In 25 Pro From 121\n",
      "\n",
      "[바티스트]드라이샴푸 특가\n"
     ]
    },
    {
     "data": {
      "application/vnd.jupyter.widget-view+json": {
       "model_id": "e38b6f97f5024994954dc4aee45e1887",
       "version_major": 2,
       "version_minor": 0
      },
      "text/plain": [
       "  0%|          | 0/1 [00:00<?, ?it/s]"
      ]
     },
     "metadata": {},
     "output_type": "display_data"
    },
    {
     "name": "stdout",
     "output_type": "stream",
     "text": [
      "In 26 Pro From 121\n",
      "\n",
      "[필립스] 헤어미용기기 2종 모음 / HP8199 / HP8230\n"
     ]
    },
    {
     "data": {
      "application/vnd.jupyter.widget-view+json": {
       "model_id": "994bc27f12c4416c9786a29925166919",
       "version_major": 2,
       "version_minor": 0
      },
      "text/plain": [
       "  0%|          | 0/1 [00:00<?, ?it/s]"
      ]
     },
     "metadata": {},
     "output_type": "display_data"
    },
    {
     "name": "stdout",
     "output_type": "stream",
     "text": [
      "In 27 Pro From 121\n",
      "\n",
      "유닉스 1600W 드라이기\n"
     ]
    },
    {
     "data": {
      "application/vnd.jupyter.widget-view+json": {
       "model_id": "f19c721127ef45d0b66a23251688271a",
       "version_major": 2,
       "version_minor": 0
      },
      "text/plain": [
       "  0%|          | 0/1 [00:00<?, ?it/s]"
      ]
     },
     "metadata": {},
     "output_type": "display_data"
    },
    {
     "name": "stdout",
     "output_type": "stream",
     "text": [
      "In 28 Pro From 121\n",
      "\n",
      "[제니아] 헤어드라이기 3종\n",
      "\n"
     ]
    },
    {
     "data": {
      "application/vnd.jupyter.widget-view+json": {
       "model_id": "341c1accb66747219ef0cb860618402c",
       "version_major": 2,
       "version_minor": 0
      },
      "text/plain": [
       "  0%|          | 0/1 [00:00<?, ?it/s]"
      ]
     },
     "metadata": {},
     "output_type": "display_data"
    },
    {
     "name": "stdout",
     "output_type": "stream",
     "text": [
      "In 29 Pro From 121\n",
      "\n",
      "[무료배송] 압출기4p+케이스+알콜솜2p\n"
     ]
    },
    {
     "data": {
      "application/vnd.jupyter.widget-view+json": {
       "model_id": "2f63a78c254f453480a8f0be5cdb64bc",
       "version_major": 2,
       "version_minor": 0
      },
      "text/plain": [
       "  0%|          | 0/1 [00:00<?, ?it/s]"
      ]
     },
     "metadata": {},
     "output_type": "display_data"
    },
    {
     "name": "stdout",
     "output_type": "stream",
     "text": [
      "In 30 Pro From 121\n",
      "\n",
      "[디자이너스] 2000W 럭스2.0  드라이기 전문가용 헤어드라이기 DG-2000 외2종\n"
     ]
    },
    {
     "data": {
      "application/vnd.jupyter.widget-view+json": {
       "model_id": "458c19dbcf65462f89f045f772c80ea3",
       "version_major": 2,
       "version_minor": 0
      },
      "text/plain": [
       "  0%|          | 0/1 [00:00<?, ?it/s]"
      ]
     },
     "metadata": {},
     "output_type": "display_data"
    },
    {
     "name": "stdout",
     "output_type": "stream",
     "text": [
      "In 31 Pro From 121\n",
      "\n",
      "[바티스트] 드라이샴푸 특가\n"
     ]
    },
    {
     "data": {
      "application/vnd.jupyter.widget-view+json": {
       "model_id": "48ce297b7a754d9ca9c7def3f7725528",
       "version_major": 2,
       "version_minor": 0
      },
      "text/plain": [
       "  0%|          | 0/1 [00:00<?, ?it/s]"
      ]
     },
     "metadata": {},
     "output_type": "display_data"
    },
    {
     "name": "stdout",
     "output_type": "stream",
     "text": [
      "In 32 Pro From 121\n",
      "\n",
      "[티몬블랙딜] 하이나미U 베스트 필수 생활용품 골라담기\n"
     ]
    },
    {
     "data": {
      "application/vnd.jupyter.widget-view+json": {
       "model_id": "7838e0df5f26410b9069310cb559b72f",
       "version_major": 2,
       "version_minor": 0
      },
      "text/plain": [
       "  0%|          | 0/1 [00:00<?, ?it/s]"
      ]
     },
     "metadata": {},
     "output_type": "display_data"
    },
    {
     "name": "stdout",
     "output_type": "stream",
     "text": [
      "In 33 Pro From 121\n",
      "\n",
      "벽에 붙이는 안전 전신 벽 아크릴 욕실 거울 시트지\n"
     ]
    },
    {
     "data": {
      "application/vnd.jupyter.widget-view+json": {
       "model_id": "845a66ab921147ffb0b930cc74d7d672",
       "version_major": 2,
       "version_minor": 0
      },
      "text/plain": [
       "  0%|          | 0/1 [00:00<?, ?it/s]"
      ]
     },
     "metadata": {},
     "output_type": "display_data"
    },
    {
     "name": "stdout",
     "output_type": "stream",
     "text": [
      "In 34 Pro From 121\n",
      "\n",
      "[CKI] 드라이기 CKI-D101 + 파우치 증정\n"
     ]
    },
    {
     "data": {
      "application/vnd.jupyter.widget-view+json": {
       "model_id": "6328dff06d364cf2a16f8110441a72fd",
       "version_major": 2,
       "version_minor": 0
      },
      "text/plain": [
       "  0%|          | 0/1 [00:00<?, ?it/s]"
      ]
     },
     "metadata": {},
     "output_type": "display_data"
    },
    {
     "name": "stdout",
     "output_type": "stream",
     "text": [
      "In 35 Pro From 121\n",
      "\n",
      "[유닉스] 전문가용 헤어 드라이기UN-B1530/UN-B1531\n"
     ]
    },
    {
     "data": {
      "application/vnd.jupyter.widget-view+json": {
       "model_id": "698344f03e954f75a873102ef032902f",
       "version_major": 2,
       "version_minor": 0
      },
      "text/plain": [
       "  0%|          | 0/1 [00:00<?, ?it/s]"
      ]
     },
     "metadata": {},
     "output_type": "display_data"
    },
    {
     "name": "stdout",
     "output_type": "stream",
     "text": [
      "In 36 Pro From 121\n",
      "\n",
      "정품 차이슨 5세대 드라이기\n"
     ]
    },
    {
     "data": {
      "application/vnd.jupyter.widget-view+json": {
       "model_id": "964b81af9d204bd688a345f3d35d6c4a",
       "version_major": 2,
       "version_minor": 0
      },
      "text/plain": [
       "  0%|          | 0/1 [00:00<?, ?it/s]"
      ]
     },
     "metadata": {},
     "output_type": "display_data"
    },
    {
     "name": "stdout",
     "output_type": "stream",
     "text": [
      "In 37 Pro From 121\n",
      "\n",
      "드라이기 거치대 헤어드라이기 홀더 걸이 수납 선반\n"
     ]
    },
    {
     "data": {
      "application/vnd.jupyter.widget-view+json": {
       "model_id": "4beeb1fc78e645c9a9d774a24ad5c468",
       "version_major": 2,
       "version_minor": 0
      },
      "text/plain": [
       "  0%|          | 0/1 [00:00<?, ?it/s]"
      ]
     },
     "metadata": {},
     "output_type": "display_data"
    },
    {
     "name": "stdout",
     "output_type": "stream",
     "text": [
      "In 38 Pro From 121\n",
      "\n",
      "[한일전자] 드라이기 고데기\n"
     ]
    },
    {
     "data": {
      "application/vnd.jupyter.widget-view+json": {
       "model_id": "cffae6a39ade4e0e8dbea861e3631dec",
       "version_major": 2,
       "version_minor": 0
      },
      "text/plain": [
       "  0%|          | 0/1 [00:00<?, ?it/s]"
      ]
     },
     "metadata": {},
     "output_type": "display_data"
    },
    {
     "name": "stdout",
     "output_type": "stream",
     "text": [
      "In 39 Pro From 121\n",
      "\n",
      "[박준뷰티랩] 박준 Best 홈케어 / 고데기 / 드라이기 총모음전\n"
     ]
    },
    {
     "data": {
      "application/vnd.jupyter.widget-view+json": {
       "model_id": "4714da7b2c9b43678204807d34198b03",
       "version_major": 2,
       "version_minor": 0
      },
      "text/plain": [
       "  0%|          | 0/1 [00:00<?, ?it/s]"
      ]
     },
     "metadata": {},
     "output_type": "display_data"
    },
    {
     "name": "stdout",
     "output_type": "stream",
     "text": [
      "In 40 Pro From 121\n",
      "\n",
      "[무료배송] 고급형 무타공 드라이기거치대/걸이/홀더/욕실선반/욕실 수납장\n"
     ]
    },
    {
     "data": {
      "application/vnd.jupyter.widget-view+json": {
       "model_id": "b8317367f10b489a9ed9ead8facf06dd",
       "version_major": 2,
       "version_minor": 0
      },
      "text/plain": [
       "  0%|          | 0/1 [00:00<?, ?it/s]"
      ]
     },
     "metadata": {},
     "output_type": "display_data"
    },
    {
     "name": "stdout",
     "output_type": "stream",
     "text": [
      "In 41 Pro From 121\n",
      "\n",
      "욕실장 욕실 수납장 코너 화장실 선반 틈새 정리대\n"
     ]
    },
    {
     "data": {
      "application/vnd.jupyter.widget-view+json": {
       "model_id": "ae93fb9e2d354632a2462e32f102835a",
       "version_major": 2,
       "version_minor": 0
      },
      "text/plain": [
       "  0%|          | 0/1 [00:00<?, ?it/s]"
      ]
     },
     "metadata": {},
     "output_type": "display_data"
    },
    {
     "name": "stdout",
     "output_type": "stream",
     "text": [
      "In 42 Pro From 121\n",
      "\n",
      "[한일전자] 드라이기&고데기\n"
     ]
    },
    {
     "data": {
      "application/vnd.jupyter.widget-view+json": {
       "model_id": "7077df1c2d394a56a559e9b174a71e63",
       "version_major": 2,
       "version_minor": 0
      },
      "text/plain": [
       "  0%|          | 0/1 [00:00<?, ?it/s]"
      ]
     },
     "metadata": {},
     "output_type": "display_data"
    },
    {
     "name": "stdout",
     "output_type": "stream",
     "text": [
      "In 43 Pro From 121\n",
      "\n",
      "[티몬블랙딜] 노바리빙 욕실선반/ 문걸이선반/미니수납함/미니 선반 외\n"
     ]
    },
    {
     "data": {
      "application/vnd.jupyter.widget-view+json": {
       "model_id": "f873e26be7ba48a9ad7bcbc922603342",
       "version_major": 2,
       "version_minor": 0
      },
      "text/plain": [
       "  0%|          | 0/1 [00:00<?, ?it/s]"
      ]
     },
     "metadata": {},
     "output_type": "display_data"
    },
    {
     "name": "stdout",
     "output_type": "stream",
     "text": [
      "In 44 Pro From 121\n",
      "\n",
      "[유닉스] 메탈릭 레트로 2000W 파워맥스 드라이기 UN-B1643\n"
     ]
    },
    {
     "data": {
      "application/vnd.jupyter.widget-view+json": {
       "model_id": "b5630fbdef6e44d5b6a4854d4d61e2a1",
       "version_major": 2,
       "version_minor": 0
      },
      "text/plain": [
       "  0%|          | 0/1 [00:00<?, ?it/s]"
      ]
     },
     "metadata": {},
     "output_type": "display_data"
    },
    {
     "name": "stdout",
     "output_type": "stream",
     "text": [
      "In 45 Pro From 121\n",
      "\n",
      "[JMW] 드라이기/고데기 총집합\n"
     ]
    },
    {
     "data": {
      "application/vnd.jupyter.widget-view+json": {
       "model_id": "44c424d43bb44165bab87da27fd6b842",
       "version_major": 2,
       "version_minor": 0
      },
      "text/plain": [
       "  0%|          | 0/1 [00:00<?, ?it/s]"
      ]
     },
     "metadata": {},
     "output_type": "display_data"
    },
    {
     "name": "stdout",
     "output_type": "stream",
     "text": [
      "In 46 Pro From 121\n",
      "\n",
      "[JMW] 항공모터 헤어 드라이기 MG1800 PLUS 올화이트 + 거치홀더\n"
     ]
    },
    {
     "data": {
      "application/vnd.jupyter.widget-view+json": {
       "model_id": "a6462fbe3ebc4c2f8d58d8136dd8f739",
       "version_major": 2,
       "version_minor": 0
      },
      "text/plain": [
       "  0%|          | 0/1 [00:00<?, ?it/s]"
      ]
     },
     "metadata": {},
     "output_type": "display_data"
    },
    {
     "name": "stdout",
     "output_type": "stream",
     "text": [
      "In 47 Pro From 121\n",
      "\n",
      "욕실 흡착 수건 타올 행주 실내화 슬리퍼 걸이 꽂이\n"
     ]
    },
    {
     "data": {
      "application/vnd.jupyter.widget-view+json": {
       "model_id": "dcbd5f37cb924e2da2f70c72a3be830f",
       "version_major": 2,
       "version_minor": 0
      },
      "text/plain": [
       "  0%|          | 0/1 [00:00<?, ?it/s]"
      ]
     },
     "metadata": {},
     "output_type": "display_data"
    },
    {
     "name": "stdout",
     "output_type": "stream",
     "text": [
      "In 48 Pro From 121\n",
      "\n",
      "[티몬블랙딜] 하이나미U 패션 쿨토시 3세트 외 세탁망/옷걸이/후크 생활 용품 80종\n"
     ]
    },
    {
     "data": {
      "application/vnd.jupyter.widget-view+json": {
       "model_id": "01cfd740685149c99e433c41319d612a",
       "version_major": 2,
       "version_minor": 0
      },
      "text/plain": [
       "  0%|          | 0/1 [00:00<?, ?it/s]"
      ]
     },
     "metadata": {},
     "output_type": "display_data"
    },
    {
     "name": "stdout",
     "output_type": "stream",
     "text": [
      "In 49 Pro From 121\n",
      "\n",
      "[특가] 샤오미 showshe 헤어드라이기\n"
     ]
    },
    {
     "data": {
      "application/vnd.jupyter.widget-view+json": {
       "model_id": "b1b684acb87245a9b2c0226f25504eaf",
       "version_major": 2,
       "version_minor": 0
      },
      "text/plain": [
       "  0%|          | 0/1 [00:00<?, ?it/s]"
      ]
     },
     "metadata": {},
     "output_type": "display_data"
    },
    {
     "name": "stdout",
     "output_type": "stream",
     "text": [
      "In 50 Pro From 121\n",
      "\n",
      "[JMW] 공식총판 BEST 드라이기 모음전\n"
     ]
    },
    {
     "data": {
      "application/vnd.jupyter.widget-view+json": {
       "model_id": "5f1f65dbb2854399addd4a8333b8da65",
       "version_major": 2,
       "version_minor": 0
      },
      "text/plain": [
       "  0%|          | 0/1 [00:00<?, ?it/s]"
      ]
     },
     "metadata": {},
     "output_type": "display_data"
    },
    {
     "name": "stdout",
     "output_type": "stream",
     "text": [
      "In 51 Pro From 121\n",
      "\n",
      "1+1 간편부착 스테인리스 드라이기 거치대 홀더 욕실 드라이걸이\n"
     ]
    },
    {
     "data": {
      "application/vnd.jupyter.widget-view+json": {
       "model_id": "08fcf2c39fcf4ce89d7b62cac3426dbe",
       "version_major": 2,
       "version_minor": 0
      },
      "text/plain": [
       "  0%|          | 0/1 [00:00<?, ?it/s]"
      ]
     },
     "metadata": {},
     "output_type": "display_data"
    },
    {
     "name": "stdout",
     "output_type": "stream",
     "text": [
      "In 52 Pro From 121\n",
      "\n",
      "특급발송3-5일도착 차이슨드라이기D600 6세대플러스 AS센터 운영\n"
     ]
    },
    {
     "data": {
      "application/vnd.jupyter.widget-view+json": {
       "model_id": "b93226857212497f982c28f7ac90f064",
       "version_major": 2,
       "version_minor": 0
      },
      "text/plain": [
       "  0%|          | 0/1 [00:00<?, ?it/s]"
      ]
     },
     "metadata": {},
     "output_type": "display_data"
    },
    {
     "name": "stdout",
     "output_type": "stream",
     "text": [
      "In 53 Pro From 121\n",
      "\n",
      "헤어 고데기 매직기 보관 홀더 고데기거치대 드라이기걸이 욕실용품\n"
     ]
    },
    {
     "data": {
      "application/vnd.jupyter.widget-view+json": {
       "model_id": "d5a4e9b5c6344dd385e320080fa58453",
       "version_major": 2,
       "version_minor": 0
      },
      "text/plain": [
       "  0%|          | 0/1 [00:00<?, ?it/s]"
      ]
     },
     "metadata": {},
     "output_type": "display_data"
    },
    {
     "name": "stdout",
     "output_type": "stream",
     "text": [
      "In 54 Pro From 121\n",
      "\n",
      "[CKI] 1700W 고풍량 드라이기 접이식 CKI-D760 화이트\n"
     ]
    },
    {
     "data": {
      "application/vnd.jupyter.widget-view+json": {
       "model_id": "09842a374e1941f5bbc4eff8f825525b",
       "version_major": 2,
       "version_minor": 0
      },
      "text/plain": [
       "  0%|          | 0/1 [00:00<?, ?it/s]"
      ]
     },
     "metadata": {},
     "output_type": "display_data"
    },
    {
     "name": "stdout",
     "output_type": "stream",
     "text": [
      "In 55 Pro From 121\n",
      "\n",
      "이노마타 헤어드라이어 홀더 드라이기 거치대 드라이걸이\n"
     ]
    },
    {
     "data": {
      "application/vnd.jupyter.widget-view+json": {
       "model_id": "fd33d16270574e58b2251f9bc2d17177",
       "version_major": 2,
       "version_minor": 0
      },
      "text/plain": [
       "  0%|          | 0/1 [00:00<?, ?it/s]"
      ]
     },
     "metadata": {},
     "output_type": "display_data"
    },
    {
     "name": "stdout",
     "output_type": "stream",
     "text": [
      "In 56 Pro From 121\n",
      "\n",
      "[강블리] 헤어 드라이기 모음전 / 전문가용 / 접이식 미니 / 하이브리드 / BLDC 드라이기\n"
     ]
    },
    {
     "data": {
      "application/vnd.jupyter.widget-view+json": {
       "model_id": "5bd9e28ce9184a898c8dd95144bb564b",
       "version_major": 2,
       "version_minor": 0
      },
      "text/plain": [
       "  0%|          | 0/1 [00:00<?, ?it/s]"
      ]
     },
     "metadata": {},
     "output_type": "display_data"
    },
    {
     "name": "stdout",
     "output_type": "stream",
     "text": [
      "In 57 Pro From 121\n",
      "\n",
      "헤어 드라이기 거치대 홀더\n"
     ]
    },
    {
     "data": {
      "application/vnd.jupyter.widget-view+json": {
       "model_id": "b152810b92e749d9a49991e6bf9f6af3",
       "version_major": 2,
       "version_minor": 0
      },
      "text/plain": [
       "  0%|          | 0/1 [00:00<?, ?it/s]"
      ]
     },
     "metadata": {},
     "output_type": "display_data"
    },
    {
     "name": "stdout",
     "output_type": "stream",
     "text": [
      "In 58 Pro From 121\n",
      "\n",
      "헤어 브러시/헤어롤/모공세안/아크릴 화장품 정리함 외 516종\n"
     ]
    },
    {
     "data": {
      "application/vnd.jupyter.widget-view+json": {
       "model_id": "e3a331ce792e4a1c975aa9f0e97c00df",
       "version_major": 2,
       "version_minor": 0
      },
      "text/plain": [
       "  0%|          | 0/1 [00:00<?, ?it/s]"
      ]
     },
     "metadata": {},
     "output_type": "display_data"
    },
    {
     "name": "stdout",
     "output_type": "stream",
     "text": [
      "In 59 Pro From 121\n",
      "\n",
      "욕실 변기틈새 코너 수납장 정리대 화장실 주방 선반\n"
     ]
    },
    {
     "data": {
      "application/vnd.jupyter.widget-view+json": {
       "model_id": "b3da607b589e470d9e644020deb068a3",
       "version_major": 2,
       "version_minor": 0
      },
      "text/plain": [
       "  0%|          | 0/1 [00:00<?, ?it/s]"
      ]
     },
     "metadata": {},
     "output_type": "display_data"
    },
    {
     "name": "stdout",
     "output_type": "stream",
     "text": [
      "In 60 Pro From 121\n",
      "\n",
      "틴코의 대단한 흡착 욕실용품\n"
     ]
    },
    {
     "data": {
      "application/vnd.jupyter.widget-view+json": {
       "model_id": "6a56d8378d534382a826662c0465f522",
       "version_major": 2,
       "version_minor": 0
      },
      "text/plain": [
       "  0%|          | 0/1 [00:00<?, ?it/s]"
      ]
     },
     "metadata": {},
     "output_type": "display_data"
    },
    {
     "name": "stdout",
     "output_type": "stream",
     "text": [
      "In 61 Pro From 121\n",
      "\n",
      "[유닉스] 가정용 전문가용 헤어드라이기 모음전\n"
     ]
    },
    {
     "data": {
      "application/vnd.jupyter.widget-view+json": {
       "model_id": "bebe46e031c246939fac9c9d500f2eea",
       "version_major": 2,
       "version_minor": 0
      },
      "text/plain": [
       "  0%|          | 0/1 [00:00<?, ?it/s]"
      ]
     },
     "metadata": {},
     "output_type": "display_data"
    },
    {
     "name": "stdout",
     "output_type": "stream",
     "text": [
      "In 62 Pro From 121\n",
      "\n",
      "헤어드라이기 스탠드 거치대\n"
     ]
    },
    {
     "data": {
      "application/vnd.jupyter.widget-view+json": {
       "model_id": "eefa2c5e1bd748409ec8fa61bb2afe48",
       "version_major": 2,
       "version_minor": 0
      },
      "text/plain": [
       "  0%|          | 0/1 [00:00<?, ?it/s]"
      ]
     },
     "metadata": {},
     "output_type": "display_data"
    },
    {
     "name": "stdout",
     "output_type": "stream",
     "text": [
      "In 63 Pro From 121\n",
      "\n",
      "다이슨 무선청소기 / 공기청정기 / 가습기 인기가전 국내정품 모음전\n"
     ]
    },
    {
     "data": {
      "application/vnd.jupyter.widget-view+json": {
       "model_id": "916c108172d145f7aac531481af370cd",
       "version_major": 2,
       "version_minor": 0
      },
      "text/plain": [
       "  0%|          | 0/1 [00:00<?, ?it/s]"
      ]
     },
     "metadata": {},
     "output_type": "display_data"
    },
    {
     "name": "stdout",
     "output_type": "stream",
     "text": [
      "In 64 Pro From 121\n",
      "\n",
      "[CKI] 접이식 드라이기 CKI-D213\n"
     ]
    },
    {
     "data": {
      "application/vnd.jupyter.widget-view+json": {
       "model_id": "e0b3d0e19a0243a08d8ca092703a3768",
       "version_major": 2,
       "version_minor": 0
      },
      "text/plain": [
       "  0%|          | 0/1 [00:00<?, ?it/s]"
      ]
     },
     "metadata": {},
     "output_type": "display_data"
    },
    {
     "name": "stdout",
     "output_type": "stream",
     "text": [
      "In 65 Pro From 121\n",
      "\n",
      "신제품 D600 PLUS 그레이 차이슨드라이기 무료항공배송 /6세대 플러스 /최신형 220V\n"
     ]
    },
    {
     "data": {
      "application/vnd.jupyter.widget-view+json": {
       "model_id": "da33b41f5b984d42ba21f83164a314a1",
       "version_major": 2,
       "version_minor": 0
      },
      "text/plain": [
       "  0%|          | 0/1 [00:00<?, ?it/s]"
      ]
     },
     "metadata": {},
     "output_type": "display_data"
    },
    {
     "name": "stdout",
     "output_type": "stream",
     "text": [
      "In 66 Pro From 121\n",
      "\n",
      "[티몬블랙딜] 노바리빙 욕실/생활수납/홈데코/조명 추가구성혜택 문걸이방문선반/LED조명/리빙박스 외\n"
     ]
    },
    {
     "data": {
      "application/vnd.jupyter.widget-view+json": {
       "model_id": "0da0725e16cd477a8645acbcf07883b4",
       "version_major": 2,
       "version_minor": 0
      },
      "text/plain": [
       "  0%|          | 0/1 [00:00<?, ?it/s]"
      ]
     },
     "metadata": {},
     "output_type": "display_data"
    },
    {
     "name": "stdout",
     "output_type": "stream",
     "text": [
      "In 67 Pro From 121\n",
      "\n",
      "[레삐] 2차오픈브러쉬 아이롱 18/22/26mm\n"
     ]
    },
    {
     "data": {
      "application/vnd.jupyter.widget-view+json": {
       "model_id": "f332e7c2cc4b4bfb8f0580d5dfdc03de",
       "version_major": 2,
       "version_minor": 0
      },
      "text/plain": [
       "  0%|          | 0/1 [00:00<?, ?it/s]"
      ]
     },
     "metadata": {},
     "output_type": "display_data"
    },
    {
     "name": "stdout",
     "output_type": "stream",
     "text": [
      "In 68 Pro From 121\n",
      "\n",
      "[필립스][무배]전문가용/여행용 헤어 드라이기 HP8199외\n"
     ]
    },
    {
     "data": {
      "application/vnd.jupyter.widget-view+json": {
       "model_id": "5f583d0b10fc49898488ac6bb79dfc12",
       "version_major": 2,
       "version_minor": 0
      },
      "text/plain": [
       "  0%|          | 0/1 [00:00<?, ?it/s]"
      ]
     },
     "metadata": {},
     "output_type": "display_data"
    },
    {
     "name": "stdout",
     "output_type": "stream",
     "text": [
      "In 69 Pro From 121\n",
      "\n",
      "[무료배송] 앞머리 볼륨 드라이클립\n"
     ]
    },
    {
     "data": {
      "application/vnd.jupyter.widget-view+json": {
       "model_id": "c583dcdb27344712abd387f178b5f2dc",
       "version_major": 2,
       "version_minor": 0
      },
      "text/plain": [
       "  0%|          | 0/1 [00:00<?, ?it/s]"
      ]
     },
     "metadata": {},
     "output_type": "display_data"
    },
    {
     "name": "stdout",
     "output_type": "stream",
     "text": [
      "In 70 Pro From 121\n",
      "\n",
      "[로라루즈] 헤어 드라이기 음이온 전자파차단 특허기술\n"
     ]
    },
    {
     "data": {
      "application/vnd.jupyter.widget-view+json": {
       "model_id": "c45781a88fb742b9ab2ad93735d87e95",
       "version_major": 2,
       "version_minor": 0
      },
      "text/plain": [
       "  0%|          | 0/1 [00:00<?, ?it/s]"
      ]
     },
     "metadata": {},
     "output_type": "display_data"
    },
    {
     "name": "stdout",
     "output_type": "stream",
     "text": [
      "In 71 Pro From 121\n",
      "\n",
      "[샤오미] 수카스 음이온 헤어 드라이기 / 선물용한정판\n"
     ]
    },
    {
     "data": {
      "application/vnd.jupyter.widget-view+json": {
       "model_id": "076271f68ec6476b98b7bd59aeefa842",
       "version_major": 2,
       "version_minor": 0
      },
      "text/plain": [
       "  0%|          | 0/1 [00:00<?, ?it/s]"
      ]
     },
     "metadata": {},
     "output_type": "display_data"
    },
    {
     "name": "stdout",
     "output_type": "stream",
     "text": [
      "In 72 Pro From 121\n",
      "\n",
      "다용도 수납 선반 메탈 철재 현관 신발장 신발 정리대\n"
     ]
    },
    {
     "data": {
      "application/vnd.jupyter.widget-view+json": {
       "model_id": "e37b777583da4a7a93496dd237600abb",
       "version_major": 2,
       "version_minor": 0
      },
      "text/plain": [
       "  0%|          | 0/1 [00:00<?, ?it/s]"
      ]
     },
     "metadata": {},
     "output_type": "display_data"
    },
    {
     "name": "stdout",
     "output_type": "stream",
     "text": [
      "In 73 Pro From 121\n",
      "\n",
      "글라스터 샤워기거치대 걸이 홀더 샤워홀더 외 32종\n"
     ]
    },
    {
     "data": {
      "application/vnd.jupyter.widget-view+json": {
       "model_id": "47140d5a96c94b92ba9aa28526d1ceb5",
       "version_major": 2,
       "version_minor": 0
      },
      "text/plain": [
       "  0%|          | 0/1 [00:00<?, ?it/s]"
      ]
     },
     "metadata": {},
     "output_type": "display_data"
    },
    {
     "name": "stdout",
     "output_type": "stream",
     "text": [
      "In 74 Pro From 121\n",
      "\n",
      "[삼도] 드라이기걸이 외 아이디어 욕실용품 103종\n"
     ]
    },
    {
     "data": {
      "application/vnd.jupyter.widget-view+json": {
       "model_id": "e3cf2f008a13443797f19f504bf65c05",
       "version_major": 2,
       "version_minor": 0
      },
      "text/plain": [
       "  0%|          | 0/1 [00:00<?, ?it/s]"
      ]
     },
     "metadata": {},
     "output_type": "display_data"
    },
    {
     "name": "stdout",
     "output_type": "stream",
     "text": [
      "In 75 Pro From 121\n",
      "\n",
      "델루체 DC모터 헤어 드라이기 DLC-D24000\n"
     ]
    },
    {
     "data": {
      "application/vnd.jupyter.widget-view+json": {
       "model_id": "88df0ce616f4479f89577dc9d434dd45",
       "version_major": 2,
       "version_minor": 0
      },
      "text/plain": [
       "  0%|          | 0/1 [00:00<?, ?it/s]"
      ]
     },
     "metadata": {},
     "output_type": "display_data"
    },
    {
     "name": "stdout",
     "output_type": "stream",
     "text": [
      "In 76 Pro From 121\n",
      "\n",
      "욕실 수납장 화장실 세탁기 베란다 철제 선반 정리대\n"
     ]
    },
    {
     "data": {
      "application/vnd.jupyter.widget-view+json": {
       "model_id": "9132dbdfcbaf483e870169aa61fea771",
       "version_major": 2,
       "version_minor": 0
      },
      "text/plain": [
       "  0%|          | 0/1 [00:00<?, ?it/s]"
      ]
     },
     "metadata": {},
     "output_type": "display_data"
    },
    {
     "name": "stdout",
     "output_type": "stream",
     "text": [
      "In 77 Pro From 121\n",
      "\n",
      "욕실용품 수건걸이 휴지걸이 비누대 양치컵\n"
     ]
    },
    {
     "data": {
      "application/vnd.jupyter.widget-view+json": {
       "model_id": "721dae87a69445149a083342f7f6e231",
       "version_major": 2,
       "version_minor": 0
      },
      "text/plain": [
       "  0%|          | 0/1 [00:00<?, ?it/s]"
      ]
     },
     "metadata": {},
     "output_type": "display_data"
    },
    {
     "name": "stdout",
     "output_type": "stream",
     "text": [
      "In 78 Pro From 121\n",
      "\n",
      "가전가게 보만 헤어드라이기 고데기 전기면도기 토스터기 전기포트 계란찜기 이미용가전/주방가전/생활가전 모음전\n"
     ]
    },
    {
     "data": {
      "application/vnd.jupyter.widget-view+json": {
       "model_id": "ee660100a5fa4e3680d1725833dc080b",
       "version_major": 2,
       "version_minor": 0
      },
      "text/plain": [
       "  0%|          | 0/1 [00:00<?, ?it/s]"
      ]
     },
     "metadata": {},
     "output_type": "display_data"
    },
    {
     "name": "stdout",
     "output_type": "stream",
     "text": [
      "In 79 Pro From 121\n",
      "\n",
      "[필립스] 헤어드라이기 4종 \n"
     ]
    },
    {
     "data": {
      "application/vnd.jupyter.widget-view+json": {
       "model_id": "8d995ba2e2f847148394ed4f06e03584",
       "version_major": 2,
       "version_minor": 0
      },
      "text/plain": [
       "  0%|          | 0/1 [00:00<?, ?it/s]"
      ]
     },
     "metadata": {},
     "output_type": "display_data"
    },
    {
     "name": "stdout",
     "output_type": "stream",
     "text": [
      "In 80 Pro From 121\n",
      "\n",
      "유닉스 헤어드라이기 모음전\n"
     ]
    },
    {
     "data": {
      "application/vnd.jupyter.widget-view+json": {
       "model_id": "493511b399284aaf91a1ce519752dc7e",
       "version_major": 2,
       "version_minor": 0
      },
      "text/plain": [
       "  0%|          | 0/1 [00:00<?, ?it/s]"
      ]
     },
     "metadata": {},
     "output_type": "display_data"
    },
    {
     "name": "stdout",
     "output_type": "stream",
     "text": [
      "In 81 Pro From 121\n",
      "\n",
      "[rate] 레이트 헤어드라이기 F600 블랙/그레이/화이트\n"
     ]
    },
    {
     "data": {
      "application/vnd.jupyter.widget-view+json": {
       "model_id": "83efbc8445634b20b3f89686be4b03d2",
       "version_major": 2,
       "version_minor": 0
      },
      "text/plain": [
       "  0%|          | 0/1 [00:00<?, ?it/s]"
      ]
     },
     "metadata": {},
     "output_type": "display_data"
    },
    {
     "name": "stdout",
     "output_type": "stream",
     "text": [
      "In 82 Pro From 121\n",
      "\n",
      "[유닉스] NEW 프로엣지 헤어드라이기 UN-B1531N 퍼플\n"
     ]
    },
    {
     "data": {
      "application/vnd.jupyter.widget-view+json": {
       "model_id": "0369d34f6e9347ca947379f90420b754",
       "version_major": 2,
       "version_minor": 0
      },
      "text/plain": [
       "  0%|          | 0/1 [00:00<?, ?it/s]"
      ]
     },
     "metadata": {},
     "output_type": "display_data"
    },
    {
     "name": "stdout",
     "output_type": "stream",
     "text": [
      "In 83 Pro From 121\n",
      "\n",
      "욕실/코너/벽/선반/수납/정리/모음/용품/변기/부착/흡착/바구니/드라이기/코너/칫솔/꽂이\n"
     ]
    },
    {
     "data": {
      "application/vnd.jupyter.widget-view+json": {
       "model_id": "ad706bc0021542ed849ef624ad0c7d77",
       "version_major": 2,
       "version_minor": 0
      },
      "text/plain": [
       "  0%|          | 0/1 [00:00<?, ?it/s]"
      ]
     },
     "metadata": {},
     "output_type": "display_data"
    },
    {
     "name": "stdout",
     "output_type": "stream",
     "text": [
      "In 84 Pro From 121\n",
      "\n",
      "의자발커버 층간소음방지\n"
     ]
    },
    {
     "data": {
      "application/vnd.jupyter.widget-view+json": {
       "model_id": "6e271a5c3cea46c18cdfb8deaddf5087",
       "version_major": 2,
       "version_minor": 0
      },
      "text/plain": [
       "  0%|          | 0/1 [00:00<?, ?it/s]"
      ]
     },
     "metadata": {},
     "output_type": "display_data"
    },
    {
     "name": "stdout",
     "output_type": "stream",
     "text": [
      "In 85 Pro From 121\n",
      "\n",
      "욕실 벽 걸이 선반 화장실 코너 정리대 욕실장 수납장\n"
     ]
    },
    {
     "data": {
      "application/vnd.jupyter.widget-view+json": {
       "model_id": "b2b5758a2a7d4d80acd96f2a4fb54590",
       "version_major": 2,
       "version_minor": 0
      },
      "text/plain": [
       "  0%|          | 0/1 [00:00<?, ?it/s]"
      ]
     },
     "metadata": {},
     "output_type": "display_data"
    },
    {
     "name": "stdout",
     "output_type": "stream",
     "text": [
      "In 86 Pro From 121\n",
      "\n",
      "그릇 냄비 팬 정리대 후라이팬 정리대 도마 접시 꽂이\n"
     ]
    },
    {
     "data": {
      "application/vnd.jupyter.widget-view+json": {
       "model_id": "356584604681415e8d5f15d30954b60b",
       "version_major": 2,
       "version_minor": 0
      },
      "text/plain": [
       "  0%|          | 0/1 [00:00<?, ?it/s]"
      ]
     },
     "metadata": {},
     "output_type": "display_data"
    },
    {
     "name": "stdout",
     "output_type": "stream",
     "text": [
      "In 87 Pro From 121\n",
      "\n",
      "헤어드라이기 스탠드 거치대/걸이 홀더 반려동물\n"
     ]
    },
    {
     "data": {
      "application/vnd.jupyter.widget-view+json": {
       "model_id": "072d6563eb8f425d8ac3fcc4e3f4f40f",
       "version_major": 2,
       "version_minor": 0
      },
      "text/plain": [
       "  0%|          | 0/1 [00:00<?, ?it/s]"
      ]
     },
     "metadata": {},
     "output_type": "display_data"
    },
    {
     "name": "stdout",
     "output_type": "stream",
     "text": [
      "In 88 Pro From 121\n",
      "\n",
      "필수템 고급형 휴대용 헤어롤 1+1+1 총 3P 외 뷰티/생활/청소용품 총집합\n"
     ]
    },
    {
     "data": {
      "application/vnd.jupyter.widget-view+json": {
       "model_id": "ec3d1cfde65945babcb80109223839ae",
       "version_major": 2,
       "version_minor": 0
      },
      "text/plain": [
       "  0%|          | 0/1 [00:00<?, ?it/s]"
      ]
     },
     "metadata": {},
     "output_type": "display_data"
    },
    {
     "name": "stdout",
     "output_type": "stream",
     "text": [
      "In 89 Pro From 121\n",
      "\n",
      "빨리 마르는 머리 드라이수건\n"
     ]
    },
    {
     "data": {
      "application/vnd.jupyter.widget-view+json": {
       "model_id": "49840f584f234521827ee521ddce889d",
       "version_major": 2,
       "version_minor": 0
      },
      "text/plain": [
       "  0%|          | 0/1 [00:00<?, ?it/s]"
      ]
     },
     "metadata": {},
     "output_type": "display_data"
    },
    {
     "name": "stdout",
     "output_type": "stream",
     "text": [
      "In 90 Pro From 121\n",
      "\n",
      "[티몬블랙딜] 가이타이너 & 코첼라 생활 / 주방가전 모음전/ 다리미 / 텀블러 / 가습기 / 그릴 / 믹서기 / 블랜더\n"
     ]
    },
    {
     "data": {
      "application/vnd.jupyter.widget-view+json": {
       "model_id": "071ac574da564a9d9bd817366026a50d",
       "version_major": 2,
       "version_minor": 0
      },
      "text/plain": [
       "  0%|          | 0/1 [00:00<?, ?it/s]"
      ]
     },
     "metadata": {},
     "output_type": "display_data"
    },
    {
     "name": "stdout",
     "output_type": "stream",
     "text": [
      "In 91 Pro From 121\n",
      "\n",
      "침대 시트 이불 커버 밀림방지 고정핀 고정 클립 밴드\n"
     ]
    },
    {
     "data": {
      "application/vnd.jupyter.widget-view+json": {
       "model_id": "a3a41236f1724ce69081e63b95b1d847",
       "version_major": 2,
       "version_minor": 0
      },
      "text/plain": [
       "  0%|          | 0/1 [00:00<?, ?it/s]"
      ]
     },
     "metadata": {},
     "output_type": "display_data"
    },
    {
     "name": "stdout",
     "output_type": "stream",
     "text": [
      "In 92 Pro From 121\n",
      "\n",
      "흡착 욕실 주방 코너 선반 정리대 벽걸이 수납장 씽크\n"
     ]
    },
    {
     "data": {
      "application/vnd.jupyter.widget-view+json": {
       "model_id": "cae2905d33c349d887960078c9b5d48b",
       "version_major": 2,
       "version_minor": 0
      },
      "text/plain": [
       "  0%|          | 0/1 [00:00<?, ?it/s]"
      ]
     },
     "metadata": {},
     "output_type": "display_data"
    },
    {
     "name": "stdout",
     "output_type": "stream",
     "text": [
      "In 93 Pro From 121\n",
      "\n",
      "예스뷰티 미용실 헤어드라이기\n"
     ]
    },
    {
     "data": {
      "application/vnd.jupyter.widget-view+json": {
       "model_id": "922f4d3d617641fb923d9b5f0676b877",
       "version_major": 2,
       "version_minor": 0
      },
      "text/plain": [
       "  0%|          | 0/1 [00:00<?, ?it/s]"
      ]
     },
     "metadata": {},
     "output_type": "display_data"
    },
    {
     "name": "stdout",
     "output_type": "stream",
     "text": [
      "In 94 Pro From 121\n",
      "\n",
      "[무료배송] 블룸엣홈 10%쿠폰까지 아이스몰드/유리컵/믹싱볼 외 테이블웨어 모음전\n"
     ]
    },
    {
     "data": {
      "application/vnd.jupyter.widget-view+json": {
       "model_id": "6491921c85e24129a2590abfb19c103c",
       "version_major": 2,
       "version_minor": 0
      },
      "text/plain": [
       "  0%|          | 0/1 [00:00<?, ?it/s]"
      ]
     },
     "metadata": {},
     "output_type": "display_data"
    },
    {
     "name": "stdout",
     "output_type": "stream",
     "text": [
      "In 95 Pro From 121\n",
      "\n",
      "1+1 마카롱 미니 고데기/샤오미드라이기/모기퇴치용품 모음전\n"
     ]
    },
    {
     "data": {
      "application/vnd.jupyter.widget-view+json": {
       "model_id": "00615ad3e19f40f594906ad3141a2e6f",
       "version_major": 2,
       "version_minor": 0
      },
      "text/plain": [
       "  0%|          | 0/1 [00:00<?, ?it/s]"
      ]
     },
     "metadata": {},
     "output_type": "display_data"
    },
    {
     "name": "stdout",
     "output_type": "stream",
     "text": [
      "In 96 Pro From 121\n",
      "\n",
      "벽걸이 흡착 욕실 주방 정리대 수납장 코너 선반 씽크\n"
     ]
    },
    {
     "data": {
      "application/vnd.jupyter.widget-view+json": {
       "model_id": "0349b242d5a54f668a1c69b8bebd3478",
       "version_major": 2,
       "version_minor": 0
      },
      "text/plain": [
       "  0%|          | 0/1 [00:00<?, ?it/s]"
      ]
     },
     "metadata": {},
     "output_type": "display_data"
    },
    {
     "name": "stdout",
     "output_type": "stream",
     "text": [
      "In 97 Pro From 121\n",
      "\n",
      "[CKI] D303 드라이기\n"
     ]
    },
    {
     "data": {
      "application/vnd.jupyter.widget-view+json": {
       "model_id": "1372f3c4ac734918891131c8c99d1a74",
       "version_major": 2,
       "version_minor": 0
      },
      "text/plain": [
       "  0%|          | 0/1 [00:00<?, ?it/s]"
      ]
     },
     "metadata": {},
     "output_type": "display_data"
    },
    {
     "name": "stdout",
     "output_type": "stream",
     "text": [
      "In 98 Pro From 121\n",
      "\n",
      "[티몬블랙딜] JMW 여름에도 시원한 냉풍 드라이기 모음전\n"
     ]
    },
    {
     "data": {
      "application/vnd.jupyter.widget-view+json": {
       "model_id": "8c4b6360b3054aeaaed4f6302e3eca7f",
       "version_major": 2,
       "version_minor": 0
      },
      "text/plain": [
       "  0%|          | 0/1 [00:00<?, ?it/s]"
      ]
     },
     "metadata": {},
     "output_type": "display_data"
    },
    {
     "name": "stdout",
     "output_type": "stream",
     "text": [
      "In 99 Pro From 121\n",
      "\n",
      "파스텔 벽부착 포인트 원형 드라이기 걸이 홀더 헤어용품걸이 드라이걸이\n"
     ]
    },
    {
     "data": {
      "application/vnd.jupyter.widget-view+json": {
       "model_id": "d11399d286164b669a968b3d90a6e806",
       "version_major": 2,
       "version_minor": 0
      },
      "text/plain": [
       "  0%|          | 0/1 [00:00<?, ?it/s]"
      ]
     },
     "metadata": {},
     "output_type": "display_data"
    },
    {
     "name": "stdout",
     "output_type": "stream",
     "text": [
      "In 100 Pro From 121\n",
      "\n",
      "발마사지 족욕기통 안마대야\n"
     ]
    },
    {
     "data": {
      "application/vnd.jupyter.widget-view+json": {
       "model_id": "d4db5fac47d745f5934b9e38eaeef9a3",
       "version_major": 2,
       "version_minor": 0
      },
      "text/plain": [
       "  0%|          | 0/1 [00:00<?, ?it/s]"
      ]
     },
     "metadata": {},
     "output_type": "display_data"
    },
    {
     "name": "stdout",
     "output_type": "stream",
     "text": [
      "In 101 Pro From 121\n",
      "\n",
      "[CKI] D301 드라이기\n"
     ]
    },
    {
     "data": {
      "application/vnd.jupyter.widget-view+json": {
       "model_id": "0cdc05ac57dd42558707348209869035",
       "version_major": 2,
       "version_minor": 0
      },
      "text/plain": [
       "  0%|          | 0/1 [00:00<?, ?it/s]"
      ]
     },
     "metadata": {},
     "output_type": "display_data"
    },
    {
     "name": "stdout",
     "output_type": "stream",
     "text": [
      "In 102 Pro From 121\n",
      "\n",
      "주방 싱크대 벽 걸이 국자 조리도구 행주 조리기 선반\n"
     ]
    },
    {
     "data": {
      "application/vnd.jupyter.widget-view+json": {
       "model_id": "a5abf33ca8154da18589cfa7efb75685",
       "version_major": 2,
       "version_minor": 0
      },
      "text/plain": [
       "  0%|          | 0/1 [00:00<?, ?it/s]"
      ]
     },
     "metadata": {},
     "output_type": "display_data"
    },
    {
     "name": "stdout",
     "output_type": "stream",
     "text": [
      "In 103 Pro From 121\n",
      "\n",
      "필수템 고급형 휴대용 헤어롤 1+1+1 총 3P 외 뷰티/생활/청소용품 총집합\n"
     ]
    },
    {
     "data": {
      "application/vnd.jupyter.widget-view+json": {
       "model_id": "3e72b48ba02e448491a1a4ac634eddff",
       "version_major": 2,
       "version_minor": 0
      },
      "text/plain": [
       "  0%|          | 0/1 [00:00<?, ?it/s]"
      ]
     },
     "metadata": {},
     "output_type": "display_data"
    },
    {
     "name": "stdout",
     "output_type": "stream",
     "text": [
      "In 104 Pro From 121\n",
      "\n",
      "다이슨 슈퍼소닉 헤어 드라이기 실리콘 커버 케이스 거치대 스크래치 방지\n"
     ]
    },
    {
     "data": {
      "application/vnd.jupyter.widget-view+json": {
       "model_id": "9b4bf5a8ed784d589fe10371cdc91bb1",
       "version_major": 2,
       "version_minor": 0
      },
      "text/plain": [
       "  0%|          | 0/1 [00:00<?, ?it/s]"
      ]
     },
     "metadata": {},
     "output_type": "display_data"
    },
    {
     "name": "stdout",
     "output_type": "stream",
     "text": [
      "In 105 Pro From 121\n",
      "\n",
      "유미전자 피닉스 빗드라이기 미용실 볼륨 헤어에어브러쉬 봉고데기 에어스타일러 롤드라이기\n"
     ]
    },
    {
     "data": {
      "application/vnd.jupyter.widget-view+json": {
       "model_id": "2f99316b62f34c008a2060740e7863ec",
       "version_major": 2,
       "version_minor": 0
      },
      "text/plain": [
       "  0%|          | 0/1 [00:00<?, ?it/s]"
      ]
     },
     "metadata": {},
     "output_type": "display_data"
    },
    {
     "name": "stdout",
     "output_type": "stream",
     "text": [
      "In 106 Pro From 121\n",
      "\n",
      "옷걸이 바지 모자 가방 걸이 도어훅 헹거 후크 행거 \n"
     ]
    },
    {
     "data": {
      "application/vnd.jupyter.widget-view+json": {
       "model_id": "b8c0c1d7986849e7bedec840235f3614",
       "version_major": 2,
       "version_minor": 0
      },
      "text/plain": [
       "  0%|          | 0/1 [00:00<?, ?it/s]"
      ]
     },
     "metadata": {},
     "output_type": "display_data"
    },
    {
     "name": "stdout",
     "output_type": "stream",
     "text": [
      "In 107 Pro From 121\n",
      "\n",
      "[CKI] D402 드라이기\n"
     ]
    },
    {
     "data": {
      "application/vnd.jupyter.widget-view+json": {
       "model_id": "6f66655347cd4482916e6313011fa65d",
       "version_major": 2,
       "version_minor": 0
      },
      "text/plain": [
       "  0%|          | 0/1 [00:00<?, ?it/s]"
      ]
     },
     "metadata": {},
     "output_type": "display_data"
    },
    {
     "name": "stdout",
     "output_type": "stream",
     "text": [
      "In 108 Pro From 121\n",
      "\n",
      "[강블리] 전문가용 헤어드라이기 +디퓨저\n"
     ]
    },
    {
     "data": {
      "application/vnd.jupyter.widget-view+json": {
       "model_id": "89258eb9a2bd42ac80d845198092e157",
       "version_major": 2,
       "version_minor": 0
      },
      "text/plain": [
       "  0%|          | 0/1 [00:00<?, ?it/s]"
      ]
     },
     "metadata": {},
     "output_type": "display_data"
    },
    {
     "name": "stdout",
     "output_type": "stream",
     "text": [
      "In 109 Pro From 121\n",
      "\n",
      "여름맞이 블룸엣홈 10%쿠폰까지 아이스몰드/유리컵/믹싱볼 외 테이블웨어 모음전\n"
     ]
    },
    {
     "data": {
      "application/vnd.jupyter.widget-view+json": {
       "model_id": "5dcd6189fdc94f29b246977e40da5b83",
       "version_major": 2,
       "version_minor": 0
      },
      "text/plain": [
       "  0%|          | 0/1 [00:00<?, ?it/s]"
      ]
     },
     "metadata": {},
     "output_type": "display_data"
    },
    {
     "name": "stdout",
     "output_type": "stream",
     "text": [
      "In 110 Pro From 121\n",
      "\n",
      "하나 가격에 2개를 귀여운 머리끈세트+알록달록 무지개 집게핀 세트 외 생활용품 균일가 모음전\n"
     ]
    },
    {
     "data": {
      "application/vnd.jupyter.widget-view+json": {
       "model_id": "b710517024ed4600998a19ee94c2914e",
       "version_major": 2,
       "version_minor": 0
      },
      "text/plain": [
       "  0%|          | 0/1 [00:00<?, ?it/s]"
      ]
     },
     "metadata": {},
     "output_type": "display_data"
    },
    {
     "name": "stdout",
     "output_type": "stream",
     "text": [
      "In 111 Pro From 121\n",
      "\n",
      "[JMW] 초강력 BLC 항공모터 접이식 전문가용 드라이기\n"
     ]
    },
    {
     "data": {
      "application/vnd.jupyter.widget-view+json": {
       "model_id": "7b75aaa26f604b80bff730bc62763e63",
       "version_major": 2,
       "version_minor": 0
      },
      "text/plain": [
       "  0%|          | 0/1 [00:00<?, ?it/s]"
      ]
     },
     "metadata": {},
     "output_type": "display_data"
    },
    {
     "name": "stdout",
     "output_type": "stream",
     "text": [
      "In 112 Pro From 121\n",
      "\n",
      "부착패드 헤어 드라이기거치대\n"
     ]
    },
    {
     "data": {
      "application/vnd.jupyter.widget-view+json": {
       "model_id": "f2744da3b5ba4ddebd5fa47b384ed9d3",
       "version_major": 2,
       "version_minor": 0
      },
      "text/plain": [
       "  0%|          | 0/1 [00:00<?, ?it/s]"
      ]
     },
     "metadata": {},
     "output_type": "display_data"
    },
    {
     "name": "stdout",
     "output_type": "stream",
     "text": [
      "In 113 Pro From 121\n",
      "\n",
      "빨래/세탁/드라이기/욕실/걸이/청소/솔/변기/바구니/벽부착/실리콘/거치대\n"
     ]
    },
    {
     "data": {
      "application/vnd.jupyter.widget-view+json": {
       "model_id": "49e77161359642219792af68119b056c",
       "version_major": 2,
       "version_minor": 0
      },
      "text/plain": [
       "  0%|          | 0/1 [00:00<?, ?it/s]"
      ]
     },
     "metadata": {},
     "output_type": "display_data"
    },
    {
     "name": "stdout",
     "output_type": "stream",
     "text": [
      "In 114 Pro From 121\n",
      "\n",
      "유닉스 UN-A1005 접이식 헤어 드라이어 1200W\n"
     ]
    },
    {
     "data": {
      "application/vnd.jupyter.widget-view+json": {
       "model_id": "3c0d77d5a8374b9da2936659440c4ffc",
       "version_major": 2,
       "version_minor": 0
      },
      "text/plain": [
       "  0%|          | 0/1 [00:00<?, ?it/s]"
      ]
     },
     "metadata": {},
     "output_type": "display_data"
    },
    {
     "name": "stdout",
     "output_type": "stream",
     "text": [
      "In 115 Pro From 121\n",
      "\n",
      "유닉스 UN-A1006 휴대용 접이식 헤어드라이기 1400W\n"
     ]
    },
    {
     "data": {
      "application/vnd.jupyter.widget-view+json": {
       "model_id": "102634918b12495da2153b1a0acd3228",
       "version_major": 2,
       "version_minor": 0
      },
      "text/plain": [
       "  0%|          | 0/1 [00:00<?, ?it/s]"
      ]
     },
     "metadata": {},
     "output_type": "display_data"
    },
    {
     "name": "stdout",
     "output_type": "stream",
     "text": [
      "In 116 Pro From 121\n",
      "\n",
      " 욕실 수납장 홀더 선반 \n"
     ]
    },
    {
     "data": {
      "application/vnd.jupyter.widget-view+json": {
       "model_id": "b49b828dba1742a6bcd9b3872095cea1",
       "version_major": 2,
       "version_minor": 0
      },
      "text/plain": [
       "  0%|          | 0/1 [00:00<?, ?it/s]"
      ]
     },
     "metadata": {},
     "output_type": "display_data"
    },
    {
     "name": "stdout",
     "output_type": "stream",
     "text": [
      "In 117 Pro From 121\n",
      "\n",
      "[CKI] D210 드라이기\n"
     ]
    },
    {
     "data": {
      "application/vnd.jupyter.widget-view+json": {
       "model_id": "7cd3941a811e421a853fd7b5d94f7c20",
       "version_major": 2,
       "version_minor": 0
      },
      "text/plain": [
       "  0%|          | 0/1 [00:00<?, ?it/s]"
      ]
     },
     "metadata": {},
     "output_type": "display_data"
    },
    {
     "name": "stdout",
     "output_type": "stream",
     "text": [
      "In 118 Pro From 121\n",
      "\n",
      "다이슨 슈퍼소닉 헤어 드라이기 스크래치 방지 실리콘 커버 케이스\n"
     ]
    },
    {
     "data": {
      "application/vnd.jupyter.widget-view+json": {
       "model_id": "92fc274afd45458b989576df44f468b0",
       "version_major": 2,
       "version_minor": 0
      },
      "text/plain": [
       "  0%|          | 0/1 [00:00<?, ?it/s]"
      ]
     },
     "metadata": {},
     "output_type": "display_data"
    },
    {
     "name": "stdout",
     "output_type": "stream",
     "text": [
      "In 119 Pro From 121\n",
      "\n",
      "주방 싱크대 칼꽂이 선반 조리도구 국자 조리기 걸이\n"
     ]
    },
    {
     "data": {
      "application/vnd.jupyter.widget-view+json": {
       "model_id": "e1e1606c0dba48b0b9edbede40f70cce",
       "version_major": 2,
       "version_minor": 0
      },
      "text/plain": [
       "  0%|          | 0/1 [00:00<?, ?it/s]"
      ]
     },
     "metadata": {},
     "output_type": "display_data"
    },
    {
     "name": "stdout",
     "output_type": "stream",
     "text": [
      "In 120 Pro From 121\n",
      "\n",
      "주방 싱크대 국자 조리도구 행주 벽 걸이 건조대 선반\n"
     ]
    },
    {
     "data": {
      "application/vnd.jupyter.widget-view+json": {
       "model_id": "1784e66eeb6541bdaa1e40a298482bf3",
       "version_major": 2,
       "version_minor": 0
      },
      "text/plain": [
       "  0%|          | 0/1 [00:00<?, ?it/s]"
      ]
     },
     "metadata": {},
     "output_type": "display_data"
    }
   ],
   "source": [
    "path_ = r\"C:\\Users\\Samsung\\jupyter\\Project_LG_textmining\\data\\hair\\shopping_2\\TIMON\\{}.xlsx\"\n",
    "Timon_Save_local(path_,main_df)"
   ]
  },
  {
   "cell_type": "code",
   "execution_count": null,
   "metadata": {},
   "outputs": [],
   "source": []
  }
 ],
 "metadata": {
  "kernelspec": {
   "display_name": "Python 3",
   "language": "python",
   "name": "python3"
  },
  "language_info": {
   "codemirror_mode": {
    "name": "ipython",
    "version": 3
   },
   "file_extension": ".py",
   "mimetype": "text/x-python",
   "name": "python",
   "nbconvert_exporter": "python",
   "pygments_lexer": "ipython3",
   "version": "3.7.6"
  }
 },
 "nbformat": 4,
 "nbformat_minor": 4
}
