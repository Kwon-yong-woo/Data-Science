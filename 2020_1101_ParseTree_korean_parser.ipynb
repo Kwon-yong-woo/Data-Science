{
 "cells": [
  {
   "cell_type": "code",
   "execution_count": 1,
   "metadata": {},
   "outputs": [],
   "source": [
    "import konlpy\n",
    "import nltk\n",
    "from nltk import Tree, pos_tag, word_tokenize, RegexpParser \n",
    "from nltk.draw.util import CanvasFrame\n",
    "from nltk.draw import TreeWidget\n",
    "from nltk.draw.tree import TreeView\n",
    "from nltk import CFG\n",
    "\n",
    "import os\n",
    "\n",
    "import re\n",
    "\n",
    "from bokeh.io import export_png\n",
    "import threading\n",
    "\n",
    "from koalanlp import API\n",
    "from koalanlp.proc import Parser\n",
    "#from koalanlp import *\n",
    "from koalanlp.Util import initialize, finalize\n",
    "#from koalanlp.Util import initializeinitialize(hnn='LATEST')\n",
    "from koalanlp.proc import Tagger"
   ]
  },
  {
   "cell_type": "code",
   "execution_count": null,
   "metadata": {},
   "outputs": [],
   "source": [
    "\"\"\"\n",
    "노폐물 자석 미셀라로 만들어진 포뮬라가 두피와 모발 속 노폐물을 딥클렌징! 알로에베라 성분과 그린티 성분이 두피진정과 최적의 보습으로 가려움와 각질까지 해결!\n",
    "\"\"\""
   ]
  },
  {
   "cell_type": "code",
   "execution_count": null,
   "metadata": {},
   "outputs": [],
   "source": []
  },
  {
   "cell_type": "code",
   "execution_count": 2,
   "metadata": {},
   "outputs": [],
   "source": [
    "data = ['코드리스 이어폰은 기어 x 2018 이후로 두 번째 입니', '다. 기어 x를 쓰다가 외이도 염 때문에 커 널 형은 쓰지 말라고', '해서 1년 간 오픈 형 유선 이어폰으로 연명하다가 싼 맛에 쓸 만 하다는 소문을 듣고 구입해 봤습니다.', '제가 쓰는 유선 이어폰은 갤 s6 의 번들 이어폰인 eg920 입니다.', '1. 가격 일단 가격이 깡패라', '조금 덜 소중히 다뤄도 된다는 게 제일 만족스럽습니다.', '제가 쓰던 유선 이어폰의 정가가 22000원으로 기억하는데 그것보다 저렴하니까요. 그래도 파우치에 넣어 가지고 다니 긴 하지만 주머니에서 굴리다가 이어폰이 빠질까 봐 불안해서 넣습니다.', '가격이 저렴해서 망가져도 as는 딱히 받을 생각이 없지만 초기 불량에 대한 불안감이 커서 정식 제품으로 샀는데, 이 또한 만족스럽습니다.', '물론 초기 불량이 나 진 않았지만요. 2. 통화 품질 시도도 안 해봤습니다.', 't5를 쓰는 친구와 종종 통화를 하는데, 바람이 많이 불면 친구의 목소리가 아예 안 들리는 걸 경험했고, 이건 그것보다 더 별로라는 얘기를 들어서 통화할 땐 그냥 유선 이어폰을 끼고 합니다.', '인도어에서는 해도 괜찮긴 하겠네요.', '3. 음질 음질은 제가 막 귀라', '그냥저냥 듣긴 하는데 생각보다 더 구립니다.', '제가 웬만하면 음질의 차이를 구별하지 못하는데, 이건 구별이 되는 정도 니 까요.', '이게 t1 만 그런 건지, 아니면 다른 저가 형 코드리스도 그런지는 잘 모르겠네요.', '제 폰이 갤 럭 시 s8 이라, 이전에 썼던 기어 x는 삼성 폰이랑 연결하면 알아서 음질이 좋아지는 것 같은 효과를 내주는 소프트웨어? 코덱? 이 적용돼서 불편함을 느낀 적은 없던 걸로 기억하는데, 그런 요행이 없으면 대부분의 저가 형 코드리스는 비슷한 수준일 것 같긴 합니다.', '가격이 비슷한 데 좋으면 얼마나 더 좋겠어요.', '4. 영상과의 싱크 유 튜브는 불편함 없이 시청이 가능했고, 폰의 비디오 플레이어도 딱히 딜레이는 못 느꼈는데( 블루 레이 같은 고용량의 파일은 안 해봐서 모르겠습니다.)', '공 단기 플레이어로 인터넷 강의를 들을 때는 딜레이가 느껴지네요.', '이건 어차피 강사의 입을 볼게', '아니라서 저한 텐 상관없습니다.', '배속을 올리면 체감하기도 힘들고요.', '5. 음량 유일하게 불만인 점인데, 음량 자체가 너무 작습니다.', '제가 쓰던 유선 이어폰은 오픈 형 임에도 불구하고 이거보단 훨씬 커요.', '많은 차들이 빨리 달리는 도로 옆을 걷다 보면 거의 안 들리는 정도라서 그런 도로는 피해 다닙니다.', '독서실에서 강의를 들을 때도 맥시멈 인 15로 하고 들어야 잘 들리는 수준이라, 6~7 이면 충분한 유선 이어폰이랑 차이가 큽니다.', '6. 배터리 하루종일 끼고 있는 게 아니고, 한번 낄 때 끽해야 한 시간 정도만 끼고 있어서 아직 까지 부족함은 잘 모르겠습니다.', '스펙 상 명시된 연속 사용시간이 좀 적은 것 같긴 하던데, 어차피 귀가 아파서 그렇게 오래는 못 끼고 있는지라 저한테 는 충분합니다.', '초기 불량으로 인한 교환가능 시기는 지났고, 가격이 가격인 만큼 3개월만 안 망가지고 버텨 주면 그 이후에 망가져도 재구매할 것 같습니다.', '귀에 염증이 생긴 뒤로 코드리스에는 관심도 없다가 t1x 가 나온다 기에 다시 관심을 갖기 시작했는데, 아직은 정식 수입이 되는 것 같지 않길래 아쉬운 대로 t1 을 산 거라서, t1x 도 정식수입을 해 주셨으면 좋겠습니다!']"
   ]
  },
  {
   "cell_type": "code",
   "execution_count": 3,
   "metadata": {},
   "outputs": [],
   "source": [
    "grammer_v1 = \"\"\"\n",
    "NP: {<N.*>*<Suffix>?}   # Noun phrase\n",
    "VP: {<V.*>*}            # Verb phrase\n",
    "AP: {<A.*>*}            # Adjective phrase\"\"\"\n",
    "\n",
    "grammer_v2 = \"\"\"\n",
    "NP: {<DT>?<JJ>*<NN>}    #To extract Noun Phrases \n",
    "P: {<IN>}               #To extract Prepositions \n",
    "V: {<V.*>}              #To extract Verbs \n",
    "PP: {<P> <NP>}          #To extract Prepostional Phrases \n",
    "VP: {<V> <NP|PP>*}      #To extarct Verb Phrases \"\"\"\n",
    "\n",
    "grammer_v3 = \"\"\"\n",
    "VP: {<ADJ_SIM><V_PRS>}\n",
    "VP: {<ADJ_INO><V.*>}\n",
    "VP: {<V_PRS><N_SING><V_SUB>}\n",
    "NP: {<N_SING><ADJ.*><N_SING>}\n",
    "NP: {<N.*><PRO>}\n",
    "VP: {<N_SING><V_.*>}\n",
    "VP: {<V.*>+}\n",
    "NP: {<ADJ.*>?<N.*>+ <ADJ.*>?}\n",
    "DNP: {<DET><NP>}\n",
    "PP: {<ADJ_CMPR><P>}\n",
    "PP: {<ADJ_SIM><P>}\n",
    "PP: {<P><N_SING>}\n",
    "PP: {<P>*}\n",
    "DDNP: {<NP><DNP>}\n",
    "NPP: {<PP><NP>+}\"\"\""
   ]
  },
  {
   "cell_type": "code",
   "execution_count": 4,
   "metadata": {},
   "outputs": [
    {
     "name": "stderr",
     "output_type": "stream",
     "text": [
      "[koalanlp.jip] [INFO] Latest version of kr.bydelta:koalanlp-rhino (2.1.5) will be used.\n",
      "[koalanlp.jip] [INFO] Latest version of kr.bydelta:koalanlp-kkma (2.1.4) will be used.\n",
      "[koalanlp.jip] [INFO] Latest version of kr.bydelta:koalanlp-hnn (2.1.4) will be used.\n",
      "[root] Java gateway started with port number 53806\n",
      "[root] Callback server will use port number 25334\n",
      "[koalanlp.jip] JVM initialization procedure is completed.\n"
     ]
    }
   ],
   "source": [
    "#initialize(packages=[API.KKMA, API.EUNJEON], version=\"1.9.2\", java_options=\"-Xmx4g -Dfile.encoding=utf-8\")\n",
    "#initialize(java_options=\"-Xmx4g\", KKMA=\"2.0.4\", ETRI=\"2.0.4\",RHINO=\"2.1.5\")\n",
    "#initialize(java_options=\"-Xmx4g\",RHINO=\"LATEST\")\n",
    "initialize(RHINO=\"LATEST\",KKMA=\"LATEST\",HNN=\"LATEST\")"
   ]
  },
  {
   "cell_type": "code",
   "execution_count": 5,
   "metadata": {},
   "outputs": [],
   "source": [
    "tagger = Tagger(API.RHINO)\n",
    "parser = Parser(API.HNN)"
   ]
  },
  {
   "cell_type": "code",
   "execution_count": 32,
   "metadata": {},
   "outputs": [
    {
     "ename": "NameError",
     "evalue": "name 'words' is not defined",
     "output_type": "error",
     "traceback": [
      "\u001b[1;31m---------------------------------------------------------------------------\u001b[0m",
      "\u001b[1;31mNameError\u001b[0m                                 Traceback (most recent call last)",
      "\u001b[1;32m<ipython-input-32-730c51b3e7e0>\u001b[0m in \u001b[0;36m<module>\u001b[1;34m\u001b[0m\n\u001b[1;32m----> 1\u001b[1;33m \u001b[0mwords\u001b[0m\u001b[1;33m\u001b[0m\u001b[1;33m\u001b[0m\u001b[0m\n\u001b[0m",
      "\u001b[1;31mNameError\u001b[0m: name 'words' is not defined"
     ]
    }
   ],
   "source": [
    "words"
   ]
  },
  {
   "cell_type": "code",
   "execution_count": 281,
   "metadata": {},
   "outputs": [],
   "source": [
    "taggedParagraph = tagger(\"문단을 분석합니다. 자동으로 분리되어 목록을 만듭니다.\")"
   ]
  },
  {
   "cell_type": "code",
   "execution_count": 282,
   "metadata": {},
   "outputs": [
    {
     "data": {
      "text/plain": [
       "[문단을   분석합니다 .,   자동으로   분리되어   목록을   만듭니다 .]"
      ]
     },
     "execution_count": 282,
     "metadata": {},
     "output_type": "execute_result"
    }
   ],
   "source": [
    "taggedParagraph"
   ]
  },
  {
   "cell_type": "code",
   "execution_count": null,
   "metadata": {},
   "outputs": [],
   "source": []
  },
  {
   "cell_type": "code",
   "execution_count": null,
   "metadata": {},
   "outputs": [],
   "source": []
  },
  {
   "cell_type": "code",
   "execution_count": 30,
   "metadata": {},
   "outputs": [
    {
     "name": "stdout",
     "output_type": "stream",
     "text": [
      "문단/NNG+을/JKO  /SW 분석/XR+하/VX+ㅂ니다/EF ./SF\n"
     ]
    }
   ],
   "source": [
    "print(taggedParagraph[0].singleLineString())"
   ]
  },
  {
   "cell_type": "code",
   "execution_count": 31,
   "metadata": {},
   "outputs": [
    {
     "data": {
      "text/plain": [
       "[문단을   분석합니다 .,   자동으로   분리되어   목록을   만듭니다 .]"
      ]
     },
     "execution_count": 31,
     "metadata": {},
     "output_type": "execute_result"
    }
   ],
   "source": [
    "taggedParagraph"
   ]
  },
  {
   "cell_type": "code",
   "execution_count": 40,
   "metadata": {},
   "outputs": [],
   "source": [
    "\n",
    "parsed = parser(\"이 문단을 분석합니다. 문단 구분은 자동으로 합니다.\")"
   ]
  },
  {
   "cell_type": "code",
   "execution_count": 41,
   "metadata": {},
   "outputs": [
    {
     "data": {
      "text/plain": [
       "[이 문단을 분석합니다., 문단구분은 자동으로 합니다.]"
      ]
     },
     "execution_count": 41,
     "metadata": {},
     "output_type": "execute_result"
    }
   ],
   "source": [
    "parsed"
   ]
  },
  {
   "cell_type": "code",
   "execution_count": 60,
   "metadata": {},
   "outputs": [],
   "source": [
    "sent = parsed[0].getSyntaxTree().getTreeString()"
   ]
  },
  {
   "cell_type": "code",
   "execution_count": 66,
   "metadata": {},
   "outputs": [
    {
     "data": {
      "text/plain": [
       "'VP-Node()\\n| NP-Node()\\n| | DP-Node(이 = 이/MM)\\n| | NP-Node(문단을 = 문단/NNG+을/JKO)\\n| VP-Node(분석합니다. = 분석/NNG+하/XSV+ㅂ니다/EF+./SF)'"
      ]
     },
     "execution_count": 66,
     "metadata": {},
     "output_type": "execute_result"
    }
   ],
   "source": [
    "sent."
   ]
  },
  {
   "cell_type": "code",
   "execution_count": 61,
   "metadata": {},
   "outputs": [
    {
     "data": {
      "text/plain": [
       "['VP-Node()\\n|',\n",
       " 'NP-Node()\\n|',\n",
       " '|',\n",
       " 'DP-Node(이',\n",
       " '=',\n",
       " '이/MM)\\n|',\n",
       " '|',\n",
       " 'NP-Node(문단을',\n",
       " '=',\n",
       " '문단/NNG+을/JKO)\\n|',\n",
       " 'VP-Node(분석합니다.',\n",
       " '=',\n",
       " '분석/NNG+하/XSV+ㅂ니다/EF+./SF)']"
      ]
     },
     "execution_count": 61,
     "metadata": {},
     "output_type": "execute_result"
    }
   ],
   "source": [
    "parsed[0].getSyntaxTree().getTreeString().split(\" \")"
   ]
  },
  {
   "cell_type": "code",
   "execution_count": 65,
   "metadata": {},
   "outputs": [
    {
     "data": {
      "text/plain": [
       "'VP'"
      ]
     },
     "execution_count": 65,
     "metadata": {},
     "output_type": "execute_result"
    }
   ],
   "source": [
    "parsed[0].getSyntaxTree().getOriginalLabel()"
   ]
  },
  {
   "cell_type": "code",
   "execution_count": 7,
   "metadata": {
    "scrolled": false
   },
   "outputs": [
    {
     "name": "stdout",
     "output_type": "stream",
     "text": [
      "분석할 문장을 입력하세요>> 노폐물 자석 미셀라로 만들어진 포뮬라가 두피와 모발 속 노폐물을 딥클렌징! 알로에베라 성분과 그린티 성분이 두피진정과 최적의 보습으로 가려움와 각질까지 해결!\n",
      "===== Sentence =====\n",
      "노폐물/NNG+자석/NNG 미셀라/NNG+로/JKB 만들/VV+어/EC+지/VX+ㄴ/ETM 포뮬라/NNG+가/JKS 두피/NNG+와/JC 모발/NNG 속/NNG 노폐물/NNG+을/JKO 딥클렌징/MAG+!/SF\n",
      "# Dependency Parse result\n",
      "[노폐물자석]는 [미셀라로]의 NP-MOD\n",
      "[미셀라로]는 [만들어진]의 NP-AJT\n",
      "[만들어진]는 [포뮬라가]의 VP-MOD\n",
      "[포뮬라가]는 [딥클렌징!]의 NP-SBJ\n",
      "[두피와]는 [속]의 NP-CNJ\n",
      "[모발]는 [속]의 NP-MOD\n",
      "[속]는 [노폐물을]의 NP-MOD\n",
      "[노폐물을]는 [딥클렌징!]의 NP-OBJ\n",
      "[딥클렌징!]는 [ROOT]의 AP-ROOT\n",
      "===== Sentence =====\n",
      "알로에베/NNG+이/VCP+라/EC 성분/NNG+과/JC 그린티/NNG 성분/NNG+이/JKS 두피진정/NNG+과/JC 최적/NNG+의/JKG 보습/NNG+으로/JKB 가려움/NNG+와/JC 각질까지/NNG 해결/NNG+!/SF\n",
      "# Dependency Parse result\n",
      "[알로에베이라]는 [ROOT]의 VNP-ROOT\n",
      "[성분과]는 [성분이]의 NP-CNJ\n",
      "[그린티]는 [성분이]의 NP-MOD\n",
      "[성분이]는 [해결!]의 NP-SBJ\n",
      "[두피진정과]는 [최적의]의 NP-CNJ\n",
      "[최적의]는 [보습으로]의 NP-MOD\n",
      "[보습으로]는 [해결!]의 NP-AJT\n",
      "[가려움와]는 [각질까지]의 NP-CNJ\n",
      "[각질까지]는 [해결!]의 NP-MOD\n",
      "[해결!]는 [알로에베이라]의 NP-MOD\n",
      "분석할 문장을 입력하세요>> \n"
     ]
    }
   ],
   "source": [
    "while True:\n",
    "    text = input(\"분석할 문장을 입력하세요>> \").strip()\n",
    "\n",
    "    if len(text) == 0:\n",
    "        break\n",
    "\n",
    "    sentences = parser(text)\n",
    "\n",
    "    for sent in sentences:\n",
    "        print(\"===== Sentence =====\")\n",
    "        print(sent.singleLineString())\n",
    "        print(\"# Dependency Parse result\")\n",
    "\n",
    "        dependencies = sent.getDependencies()\n",
    "        if len(dependencies) > 0:\n",
    "            for edge in dependencies:\n",
    "                print(\"[%s]는 [%s]의 %s-%s\" % (edge.getDependent().getSurface(),\n",
    "                                             edge.getGovernor().getSurface() if edge.getGovernor() is not None else \"ROOT\",\n",
    "                                             str(edge.getType()),\n",
    "                                             str(edge.getDepType())))\n",
    "        else:\n",
    "            print(\"(Unexpected) NULL!\")"
   ]
  },
  {
   "cell_type": "markdown",
   "metadata": {},
   "source": [
    "### tree 문법 만들기\n",
    "\n",
    "(s, [(word/tag),(word/tag) Tree(\"node\", [word/tag])]"
   ]
  },
  {
   "cell_type": "code",
   "execution_count": 113,
   "metadata": {},
   "outputs": [
    {
     "name": "stdout",
     "output_type": "stream",
     "text": [
      "==== Word =====\n",
      "이/MM\n",
      "==== Word =====\n",
      "문단/NNG+을/JKO\n",
      "[('문단', 'NNG'), ('을', 'JKO')]\n",
      "==== Word =====\n",
      "분석/NNG+하/XSV+ㅂ니다/EF+./SF\n",
      "[('분석', 'NNG'), ('하', 'XSV'), ('ㅂ니다', 'EF'), ('.', 'SF')]\n",
      "======================================\n",
      "==== Word =====\n",
      "문단/NNG+구분/NNG+은/JX\n",
      "[('문단', 'NNG'), ('구분', 'NNG'), ('은', 'JX')]\n",
      "==== Word =====\n",
      "자동/NNG+으로/JKB\n",
      "[('자동', 'NNG'), ('으로', 'JKB')]\n",
      "==== Word =====\n",
      "하/VV+ㅂ니다/EF+./SF\n",
      "[('하', 'VV'), ('ㅂ니다', 'EF'), ('.', 'SF')]\n",
      "======================================\n"
     ]
    }
   ],
   "source": [
    "tree_parse  = ()\n",
    "for sents in parsed:\n",
    "    sent = sents.singleLineString()\n",
    "    #print(sent)\n",
    "    words = sent.split(\" \")\n",
    "    for word in words:\n",
    "        print(\"==== Word =====\")\n",
    "        print(word)\n",
    "        li_ = []\n",
    "\n",
    "        if re.findall(\"\\\\+\",word)!=[]:\n",
    "            word_sub = word.split(\"+\")\n",
    "            #print(word_sub)\n",
    "            for wss in word_sub:\n",
    "                wo,ta = wss.split(\"/\")\n",
    "                li_.append((wo,ta))\n",
    "            print(li_)\n",
    "        else:\n",
    "            pass\n",
    "    print(\"======================================\")\n",
    "    #da_.split()\n",
    "    #print(a.split(\" \"))\n",
    "    #print(a[0])"
   ]
  },
  {
   "cell_type": "code",
   "execution_count": 13,
   "metadata": {},
   "outputs": [],
   "source": [
    "def make_sting_form(data):\n",
    "    wo,ta = data.split(\"/\")\n",
    "    return \"({} {})\".format(ta,wo).strip(),ta"
   ]
  },
  {
   "cell_type": "code",
   "execution_count": null,
   "metadata": {},
   "outputs": [],
   "source": []
  },
  {
   "cell_type": "code",
   "execution_count": 14,
   "metadata": {},
   "outputs": [],
   "source": [
    "def make_string(data_1):\n",
    "    if re.findall(\"\\\\+\",data_1)!=[]:\n",
    "        ws = data_1.split(\"+\")\n",
    "        ds = \"\"\n",
    "        Ta = \"\"\n",
    "        for w in ws:\n",
    "            ds += \" \"+make_sting_form(w)[0]\n",
    "            #print(make_sting_form(w)[0])\n",
    "            #print()\n",
    "            #print(make_sting_form(w)[0])\n",
    "            Ta = Ta+\"+\"+make_sting_form(w)[1]\n",
    "        ds = ds.lstrip()\n",
    "        Ta = Ta[1:]\n",
    "        #print(Ta)\n",
    "        #print(ds)\n",
    "        d = \"({} {})\".format(Ta,ds)\n",
    "        return d\n",
    "    else:\n",
    "        d = make_sting_form(data_1)[0]\n",
    "        return d\n",
    "        \n",
    "        "
   ]
  },
  {
   "cell_type": "code",
   "execution_count": 15,
   "metadata": {},
   "outputs": [],
   "source": [
    "def make_string_2(data_1):\n",
    "    if re.findall(\"\\\\+\",data_1)!=[]:\n",
    "        ws = data_1.split(\"+\")\n",
    "        ds = \"\"\n",
    "        Ta = \"\"\n",
    "        for w in ws:\n",
    "            ds += \" \"+make_sting_form(w)[0]\n",
    "            #print(make_sting_form(w)[0])\n",
    "            #print()\n",
    "            #print(make_sting_form(w)[0])\n",
    "            Ta = Ta+\"+\"+make_sting_form(w)[1]\n",
    "        ds = ds.lstrip()\n",
    "        Ta = Ta[1:]\n",
    "        #print(Ta)\n",
    "        #print(ds)\n",
    "        d = \"({})\".format(ds)\n",
    "        return d\n",
    "    else:\n",
    "        d = make_sting_form(data_1)[0]\n",
    "        return d\n",
    "        "
   ]
  },
  {
   "cell_type": "code",
   "execution_count": 16,
   "metadata": {},
   "outputs": [
    {
     "data": {
      "text/plain": [
       "'(MM 이)'"
      ]
     },
     "execution_count": 16,
     "metadata": {},
     "output_type": "execute_result"
    }
   ],
   "source": [
    "make_string(\"이/MM\")"
   ]
  },
  {
   "cell_type": "code",
   "execution_count": 17,
   "metadata": {},
   "outputs": [
    {
     "data": {
      "text/plain": [
       "'(NNG+JKO (NNG 문단) (JKO 을))'"
      ]
     },
     "execution_count": 17,
     "metadata": {},
     "output_type": "execute_result"
    }
   ],
   "source": [
    "make_string(\"문단/NNG+을/JKO\")"
   ]
  },
  {
   "cell_type": "code",
   "execution_count": 18,
   "metadata": {},
   "outputs": [
    {
     "data": {
      "text/plain": [
       "'((NNG 문단) (JKO 을))'"
      ]
     },
     "execution_count": 18,
     "metadata": {},
     "output_type": "execute_result"
    }
   ],
   "source": [
    "make_string_2(\"문단/NNG+을/JKO\")"
   ]
  },
  {
   "cell_type": "code",
   "execution_count": 19,
   "metadata": {},
   "outputs": [],
   "source": [
    "parsed = parser(\"노폐물 자석 미셀라로 만들어진 포뮬라가 두피와 모발 속 노폐물을 딥클렌징! 알로에베라 성분과 그린티 성분이 두피진정과 최적의 보습으로 가려움와 각질까지 해결!\")"
   ]
  },
  {
   "cell_type": "code",
   "execution_count": 20,
   "metadata": {
    "scrolled": false
   },
   "outputs": [
    {
     "name": "stdout",
     "output_type": "stream",
     "text": [
      "노폐물자석 미셀라로 만들어진 포뮬라가 두피와 모발 속 노폐물을 딥클렌징!\n",
      "NPMOD('미셀라로 = 미셀라/NNG+로/JKB' → '노폐물자석 = 노폐물/NNG+자석/NNG')\n",
      "(NPMOD ((NNG+NNG (NNG 노폐물) (NNG 자석)) (NNG+JKB (NNG 미셀라) (JKB 로))))\n",
      "+++++++++++++++++++++++++++\n",
      "NPAJT('만들어진 = 만들/VV+어/EC+지/VX+ㄴ/ETM' → '미셀라로 = 미셀라/NNG+로/JKB')\n",
      "(NPAJT ((NNG+JKB (NNG 미셀라) (JKB 로)) (VV+EC+VX+ETM (VV 만들) (EC 어) (VX 지) (ETM ㄴ))))\n",
      "+++++++++++++++++++++++++++\n",
      "VPMOD('포뮬라가 = 포뮬라/NNG+가/JKS' → '만들어진 = 만들/VV+어/EC+지/VX+ㄴ/ETM')\n",
      "(VPMOD ((VV+EC+VX+ETM (VV 만들) (EC 어) (VX 지) (ETM ㄴ)) (NNG+JKS (NNG 포뮬라) (JKS 가))))\n",
      "+++++++++++++++++++++++++++\n",
      "NPSBJ('딥클렌징! = 딥클렌징/MAG+!/SF' → '포뮬라가 = 포뮬라/NNG+가/JKS')\n",
      "(NPSBJ ((NNG+JKS (NNG 포뮬라) (JKS 가)) (MAG+SF (MAG 딥클렌징) (SF !))))\n",
      "+++++++++++++++++++++++++++\n",
      "NPCNJ('속 = 속/NNG' → '두피와 = 두피/NNG+와/JC')\n",
      "(NPCNJ ((NNG+JC (NNG 두피) (JC 와)) (NNG 속)))\n",
      "+++++++++++++++++++++++++++\n",
      "NPMOD('속 = 속/NNG' → '모발 = 모발/NNG')\n",
      "(NPMOD ((NNG 모발) (NNG 속)))\n",
      "+++++++++++++++++++++++++++\n",
      "NPMOD('노폐물을 = 노폐물/NNG+을/JKO' → '속 = 속/NNG')\n",
      "(NPMOD ((NNG 속) (NNG+JKO (NNG 노폐물) (JKO 을))))\n",
      "+++++++++++++++++++++++++++\n",
      "NPOBJ('딥클렌징! = 딥클렌징/MAG+!/SF' → '노폐물을 = 노폐물/NNG+을/JKO')\n",
      "(NPOBJ ((NNG+JKO (NNG 노폐물) (JKO 을)) (MAG+SF (MAG 딥클렌징) (SF !))))\n",
      "+++++++++++++++++++++++++++\n",
      "APROOT('ROOT' → '딥클렌징! = 딥클렌징/MAG+!/SF')\n",
      "(APROOT ((MAG+SF (MAG 딥클렌징) (SF !))))\n",
      "+++++++++++++++++++++++++++\n",
      "(s, (NPMOD ((NNG+NNG (NNG 노폐물) (NNG 자석)) (NNG+JKB (NNG 미셀라) (JKB 로)))) (NPAJT ((NNG+JKB (NNG 미셀라) (JKB 로)) (VV+EC+VX+ETM (VV 만들) (EC 어) (VX 지) (ETM ㄴ)))) (VPMOD ((VV+EC+VX+ETM (VV 만들) (EC 어) (VX 지) (ETM ㄴ)) (NNG+JKS (NNG 포뮬라) (JKS 가)))) (NPSBJ ((NNG+JKS (NNG 포뮬라) (JKS 가)) (MAG+SF (MAG 딥클렌징) (SF !)))) (NPCNJ ((NNG+JC (NNG 두피) (JC 와)) (NNG 속))) (NPMOD ((NNG 모발) (NNG 속))) (NPMOD ((NNG 속) (NNG+JKO (NNG 노폐물) (JKO 을)))) (NPOBJ ((NNG+JKO (NNG 노폐물) (JKO 을)) (MAG+SF (MAG 딥클렌징) (SF !)))) (APROOT ((MAG+SF (MAG 딥클렌징) (SF !)))))\n",
      "##############################################\n",
      "알로에베이라 성분과 그린티 성분이 두피진정과 최적의 보습으로 가려움와 각질까지 해결!\n",
      "VNPROOT('ROOT' → '알로에베이라 = 알로에베/NNG+이/VCP+라/EC')\n",
      "(VNPROOT ((NNG+VCP+EC (NNG 알로에베) (VCP 이) (EC 라))))\n",
      "+++++++++++++++++++++++++++\n",
      "NPCNJ('성분이 = 성분/NNG+이/JKS' → '성분과 = 성분/NNG+과/JC')\n",
      "(NPCNJ ((NNG+JC (NNG 성분) (JC 과)) (NNG+JKS (NNG 성분) (JKS 이))))\n",
      "+++++++++++++++++++++++++++\n",
      "NPMOD('성분이 = 성분/NNG+이/JKS' → '그린티 = 그린티/NNG')\n",
      "(NPMOD ((NNG 그린티) (NNG+JKS (NNG 성분) (JKS 이))))\n",
      "+++++++++++++++++++++++++++\n",
      "NPSBJ('해결! = 해결/NNG+!/SF' → '성분이 = 성분/NNG+이/JKS')\n",
      "(NPSBJ ((NNG+JKS (NNG 성분) (JKS 이)) (NNG+SF (NNG 해결) (SF !))))\n",
      "+++++++++++++++++++++++++++\n",
      "NPCNJ('최적의 = 최적/NNG+의/JKG' → '두피진정과 = 두피진정/NNG+과/JC')\n",
      "(NPCNJ ((NNG+JC (NNG 두피진정) (JC 과)) (NNG+JKG (NNG 최적) (JKG 의))))\n",
      "+++++++++++++++++++++++++++\n",
      "NPMOD('보습으로 = 보습/NNG+으로/JKB' → '최적의 = 최적/NNG+의/JKG')\n",
      "(NPMOD ((NNG+JKG (NNG 최적) (JKG 의)) (NNG+JKB (NNG 보습) (JKB 으로))))\n",
      "+++++++++++++++++++++++++++\n",
      "NPAJT('해결! = 해결/NNG+!/SF' → '보습으로 = 보습/NNG+으로/JKB')\n",
      "(NPAJT ((NNG+JKB (NNG 보습) (JKB 으로)) (NNG+SF (NNG 해결) (SF !))))\n",
      "+++++++++++++++++++++++++++\n",
      "NPCNJ('각질까지 = 각질까지/NNG' → '가려움와 = 가려움/NNG+와/JC')\n",
      "(NPCNJ ((NNG+JC (NNG 가려움) (JC 와)) (NNG 각질까지)))\n",
      "+++++++++++++++++++++++++++\n",
      "NPMOD('해결! = 해결/NNG+!/SF' → '각질까지 = 각질까지/NNG')\n",
      "(NPMOD ((NNG 각질까지) (NNG+SF (NNG 해결) (SF !))))\n",
      "+++++++++++++++++++++++++++\n",
      "NPMOD('알로에베이라 = 알로에베/NNG+이/VCP+라/EC' → '해결! = 해결/NNG+!/SF')\n",
      "(NPMOD ((NNG+SF (NNG 해결) (SF !)) (NNG+VCP+EC (NNG 알로에베) (VCP 이) (EC 라))))\n",
      "+++++++++++++++++++++++++++\n",
      "(s, (VNPROOT ((NNG+VCP+EC (NNG 알로에베) (VCP 이) (EC 라)))) (NPCNJ ((NNG+JC (NNG 성분) (JC 과)) (NNG+JKS (NNG 성분) (JKS 이)))) (NPMOD ((NNG 그린티) (NNG+JKS (NNG 성분) (JKS 이)))) (NPSBJ ((NNG+JKS (NNG 성분) (JKS 이)) (NNG+SF (NNG 해결) (SF !)))) (NPCNJ ((NNG+JC (NNG 두피진정) (JC 과)) (NNG+JKG (NNG 최적) (JKG 의)))) (NPMOD ((NNG+JKG (NNG 최적) (JKG 의)) (NNG+JKB (NNG 보습) (JKB 으로)))) (NPAJT ((NNG+JKB (NNG 보습) (JKB 으로)) (NNG+SF (NNG 해결) (SF !)))) (NPCNJ ((NNG+JC (NNG 가려움) (JC 와)) (NNG 각질까지))) (NPMOD ((NNG 각질까지) (NNG+SF (NNG 해결) (SF !)))) (NPMOD ((NNG+SF (NNG 해결) (SF !)) (NNG+VCP+EC (NNG 알로에베) (VCP 이) (EC 라)))))\n",
      "##############################################\n"
     ]
    }
   ],
   "source": [
    "all_ = []\n",
    "for sents in parsed:\n",
    "    dependencies = sents.getDependencies()\n",
    "    DD_ = \"\"\n",
    "    print(sents)\n",
    "    for depci in dependencies:\n",
    "        print(depci)\n",
    "        #print(depci.getType())\n",
    "        #print(depci.getDepType())\n",
    "        node_ = str(depci.getType())+str(depci.getDepType())\n",
    "        #print(node_)\n",
    "        dep_ = depci.getDependent()\n",
    "        indep_ = depci.getGovernor()\n",
    "        #print(depci.getEntities())\n",
    "        if indep_ != None:\n",
    "            d_all = \"\"\n",
    "            words_dep = str(dep_).split(\"=\")[1].strip()\n",
    "            words_indep = str(indep_).split(\"=\")[1].strip()  \n",
    "            d_all = (make_string(words_dep) +\" \"+ make_string(words_indep)).strip()\n",
    "            \n",
    "            #print(d_all)\n",
    "            d_node_all = \"({} ({}))\".format(node_,d_all)\n",
    "            print(d_node_all)\n",
    "        else:\n",
    "            words_dep = str(dep_).split(\"=\")[1].strip()\n",
    "            d_all = (make_string(words_dep))\n",
    "            d_node_all = \"({} ({}))\".format(node_,d_all)\n",
    "            print(d_node_all)\n",
    "        DD_ = (DD_+\" \"+d_node_all).strip()\n",
    "        print(\"+++++++++++++++++++++++++++\")\n",
    "    DD_ = \"(s, {})\".format(DD_)\n",
    "    all_.append(DD_)\n",
    "    print(DD_)\n",
    "        \n",
    "    print(\"##############################################\")\n",
    "    #print(a.split(\" \"))\n",
    "    #print(a[0])"
   ]
  },
  {
   "cell_type": "code",
   "execution_count": 21,
   "metadata": {},
   "outputs": [
    {
     "name": "stdout",
     "output_type": "stream",
     "text": [
      "노폐물자석 미셀라로 만들어진 포뮬라가 두피와 모발 속 노폐물을 딥클렌징!\n",
      "NPMOD('미셀라로 = 미셀라/NNG+로/JKB' → '노폐물자석 = 노폐물/NNG+자석/NNG')\n",
      "(NPMOD (((NNG 노폐물) (NNG 자석)) ((NNG 미셀라) (JKB 로))))\n",
      "+++++++++++++++++++++++++++\n",
      "NPAJT('만들어진 = 만들/VV+어/EC+지/VX+ㄴ/ETM' → '미셀라로 = 미셀라/NNG+로/JKB')\n",
      "(NPAJT (((NNG 미셀라) (JKB 로)) ((VV 만들) (EC 어) (VX 지) (ETM ㄴ))))\n",
      "+++++++++++++++++++++++++++\n",
      "VPMOD('포뮬라가 = 포뮬라/NNG+가/JKS' → '만들어진 = 만들/VV+어/EC+지/VX+ㄴ/ETM')\n",
      "(VPMOD (((VV 만들) (EC 어) (VX 지) (ETM ㄴ)) ((NNG 포뮬라) (JKS 가))))\n",
      "+++++++++++++++++++++++++++\n",
      "NPSBJ('딥클렌징! = 딥클렌징/MAG+!/SF' → '포뮬라가 = 포뮬라/NNG+가/JKS')\n",
      "(NPSBJ (((NNG 포뮬라) (JKS 가)) ((MAG 딥클렌징) (SF !))))\n",
      "+++++++++++++++++++++++++++\n",
      "NPCNJ('속 = 속/NNG' → '두피와 = 두피/NNG+와/JC')\n",
      "(NPCNJ (((NNG 두피) (JC 와)) (NNG 속)))\n",
      "+++++++++++++++++++++++++++\n",
      "NPMOD('속 = 속/NNG' → '모발 = 모발/NNG')\n",
      "(NPMOD ((NNG 모발) (NNG 속)))\n",
      "+++++++++++++++++++++++++++\n",
      "NPMOD('노폐물을 = 노폐물/NNG+을/JKO' → '속 = 속/NNG')\n",
      "(NPMOD ((NNG 속) ((NNG 노폐물) (JKO 을))))\n",
      "+++++++++++++++++++++++++++\n",
      "NPOBJ('딥클렌징! = 딥클렌징/MAG+!/SF' → '노폐물을 = 노폐물/NNG+을/JKO')\n",
      "(NPOBJ (((NNG 노폐물) (JKO 을)) ((MAG 딥클렌징) (SF !))))\n",
      "+++++++++++++++++++++++++++\n",
      "APROOT('ROOT' → '딥클렌징! = 딥클렌징/MAG+!/SF')\n",
      "(APROOT (((MAG 딥클렌징) (SF !))))\n",
      "+++++++++++++++++++++++++++\n",
      "(s, (NPMOD (((NNG 노폐물) (NNG 자석)) ((NNG 미셀라) (JKB 로)))) (NPAJT (((NNG 미셀라) (JKB 로)) ((VV 만들) (EC 어) (VX 지) (ETM ㄴ)))) (VPMOD (((VV 만들) (EC 어) (VX 지) (ETM ㄴ)) ((NNG 포뮬라) (JKS 가)))) (NPSBJ (((NNG 포뮬라) (JKS 가)) ((MAG 딥클렌징) (SF !)))) (NPCNJ (((NNG 두피) (JC 와)) (NNG 속))) (NPMOD ((NNG 모발) (NNG 속))) (NPMOD ((NNG 속) ((NNG 노폐물) (JKO 을)))) (NPOBJ (((NNG 노폐물) (JKO 을)) ((MAG 딥클렌징) (SF !)))) (APROOT (((MAG 딥클렌징) (SF !)))))\n",
      "##############################################\n",
      "알로에베이라 성분과 그린티 성분이 두피진정과 최적의 보습으로 가려움와 각질까지 해결!\n",
      "VNPROOT('ROOT' → '알로에베이라 = 알로에베/NNG+이/VCP+라/EC')\n",
      "(VNPROOT (((NNG 알로에베) (VCP 이) (EC 라))))\n",
      "+++++++++++++++++++++++++++\n",
      "NPCNJ('성분이 = 성분/NNG+이/JKS' → '성분과 = 성분/NNG+과/JC')\n",
      "(NPCNJ (((NNG 성분) (JC 과)) ((NNG 성분) (JKS 이))))\n",
      "+++++++++++++++++++++++++++\n",
      "NPMOD('성분이 = 성분/NNG+이/JKS' → '그린티 = 그린티/NNG')\n",
      "(NPMOD ((NNG 그린티) ((NNG 성분) (JKS 이))))\n",
      "+++++++++++++++++++++++++++\n",
      "NPSBJ('해결! = 해결/NNG+!/SF' → '성분이 = 성분/NNG+이/JKS')\n",
      "(NPSBJ (((NNG 성분) (JKS 이)) ((NNG 해결) (SF !))))\n",
      "+++++++++++++++++++++++++++\n",
      "NPCNJ('최적의 = 최적/NNG+의/JKG' → '두피진정과 = 두피진정/NNG+과/JC')\n",
      "(NPCNJ (((NNG 두피진정) (JC 과)) ((NNG 최적) (JKG 의))))\n",
      "+++++++++++++++++++++++++++\n",
      "NPMOD('보습으로 = 보습/NNG+으로/JKB' → '최적의 = 최적/NNG+의/JKG')\n",
      "(NPMOD (((NNG 최적) (JKG 의)) ((NNG 보습) (JKB 으로))))\n",
      "+++++++++++++++++++++++++++\n",
      "NPAJT('해결! = 해결/NNG+!/SF' → '보습으로 = 보습/NNG+으로/JKB')\n",
      "(NPAJT (((NNG 보습) (JKB 으로)) ((NNG 해결) (SF !))))\n",
      "+++++++++++++++++++++++++++\n",
      "NPCNJ('각질까지 = 각질까지/NNG' → '가려움와 = 가려움/NNG+와/JC')\n",
      "(NPCNJ (((NNG 가려움) (JC 와)) (NNG 각질까지)))\n",
      "+++++++++++++++++++++++++++\n",
      "NPMOD('해결! = 해결/NNG+!/SF' → '각질까지 = 각질까지/NNG')\n",
      "(NPMOD ((NNG 각질까지) ((NNG 해결) (SF !))))\n",
      "+++++++++++++++++++++++++++\n",
      "NPMOD('알로에베이라 = 알로에베/NNG+이/VCP+라/EC' → '해결! = 해결/NNG+!/SF')\n",
      "(NPMOD (((NNG 해결) (SF !)) ((NNG 알로에베) (VCP 이) (EC 라))))\n",
      "+++++++++++++++++++++++++++\n",
      "(s, (VNPROOT (((NNG 알로에베) (VCP 이) (EC 라)))) (NPCNJ (((NNG 성분) (JC 과)) ((NNG 성분) (JKS 이)))) (NPMOD ((NNG 그린티) ((NNG 성분) (JKS 이)))) (NPSBJ (((NNG 성분) (JKS 이)) ((NNG 해결) (SF !)))) (NPCNJ (((NNG 두피진정) (JC 과)) ((NNG 최적) (JKG 의)))) (NPMOD (((NNG 최적) (JKG 의)) ((NNG 보습) (JKB 으로)))) (NPAJT (((NNG 보습) (JKB 으로)) ((NNG 해결) (SF !)))) (NPCNJ (((NNG 가려움) (JC 와)) (NNG 각질까지))) (NPMOD ((NNG 각질까지) ((NNG 해결) (SF !)))) (NPMOD (((NNG 해결) (SF !)) ((NNG 알로에베) (VCP 이) (EC 라)))))\n",
      "##############################################\n"
     ]
    }
   ],
   "source": [
    "all_2 = []\n",
    "for sents in parsed:\n",
    "    dependencies = sents.getDependencies()\n",
    "    DD_ = \"\"\n",
    "    print(sents)\n",
    "    for depci in dependencies:\n",
    "        print(depci)\n",
    "        #print(depci.getType())\n",
    "        #print(depci.getDepType())\n",
    "        node_ = str(depci.getType())+str(depci.getDepType())\n",
    "        #print(node_)\n",
    "        dep_ = depci.getDependent()\n",
    "        indep_ = depci.getGovernor()\n",
    "        #print(depci.getEntities())\n",
    "        if indep_ != None:\n",
    "            d_all = \"\"\n",
    "            words_dep = str(dep_).split(\"=\")[1].strip()\n",
    "            words_indep = str(indep_).split(\"=\")[1].strip()  \n",
    "            d_all = (make_string_2(words_dep) +\" \"+ make_string_2(words_indep)).strip()\n",
    "            \n",
    "            #print(d_all)\n",
    "            d_node_all = \"({} ({}))\".format(node_,d_all)\n",
    "            print(d_node_all)\n",
    "        else:\n",
    "            words_dep = str(dep_).split(\"=\")[1].strip()\n",
    "            d_all = (make_string_2(words_dep))\n",
    "            d_node_all = \"({} ({}))\".format(node_,d_all)\n",
    "            print(d_node_all)\n",
    "        DD_ = (DD_+\" \"+d_node_all).strip()\n",
    "        print(\"+++++++++++++++++++++++++++\")\n",
    "    DD_ = \"(s, {})\".format(DD_)\n",
    "    all_2.append(DD_)\n",
    "    print(DD_)\n",
    "    \n",
    "    print(\"##############################################\")\n",
    "    #print(a.split(\" \"))\n",
    "    #print(a[0])"
   ]
  },
  {
   "cell_type": "code",
   "execution_count": 263,
   "metadata": {},
   "outputs": [
    {
     "data": {
      "text/plain": [
       "['(s, (DPMOD ((MM 이) (NNG+JKO (NNG 문단) (JKO 을)))) (NPOBJ ((NNG+JKO (NNG 문단) (JKO 을)) (NNG+XSV+EF+SF (NNG 분석) (XSV 하) (EF ㅂ니다) (SF .)))) (VPROOT ((NNG+XSV+EF+SF (NNG 분석) (XSV 하) (EF ㅂ니다) (SF .)))))',\n",
       " '(s, (NPSBJ ((NNG+NNG+JX (NNG 문단) (NNG 구분) (JX 은)) (VV+EF+SF (VV 하) (EF ㅂ니다) (SF .)))) (NPAJT ((NNG+JKB (NNG 자동) (JKB 으로)) (VV+EF+SF (VV 하) (EF ㅂ니다) (SF .)))) (VPROOT ((VV+EF+SF (VV 하) (EF ㅂ니다) (SF .)))))']"
      ]
     },
     "execution_count": 263,
     "metadata": {},
     "output_type": "execute_result"
    }
   ],
   "source": [
    "all_"
   ]
  },
  {
   "cell_type": "code",
   "execution_count": 264,
   "metadata": {},
   "outputs": [
    {
     "data": {
      "text/plain": [
       "['(s, (DPMOD ((MM 이) ((NNG 문단) (JKO 을)))) (NPOBJ (((NNG 문단) (JKO 을)) ((NNG 분석) (XSV 하) (EF ㅂ니다) (SF .)))) (VPROOT (((NNG 분석) (XSV 하) (EF ㅂ니다) (SF .)))))',\n",
       " '(s, (NPSBJ (((NNG 문단) (NNG 구분) (JX 은)) ((VV 하) (EF ㅂ니다) (SF .)))) (NPAJT (((NNG 자동) (JKB 으로)) ((VV 하) (EF ㅂ니다) (SF .)))) (VPROOT (((VV 하) (EF ㅂ니다) (SF .)))))']"
      ]
     },
     "execution_count": 264,
     "metadata": {},
     "output_type": "execute_result"
    }
   ],
   "source": [
    "all_2"
   ]
  },
  {
   "cell_type": "code",
   "execution_count": 23,
   "metadata": {},
   "outputs": [
    {
     "name": "stdout",
     "output_type": "stream",
     "text": [
      "(s,\n",
      "  (VNPROOT ( ( (NNG 알로에베) (VCP 이) (EC 라))))\n",
      "  (NPCNJ ( ( (NNG 성분) (JC 과)) ( (NNG 성분) (JKS 이))))\n",
      "  (NPMOD ( (NNG 그린티) ( (NNG 성분) (JKS 이))))\n",
      "  (NPSBJ ( ( (NNG 성분) (JKS 이)) ( (NNG 해결) (SF !))))\n",
      "  (NPCNJ ( ( (NNG 두피진정) (JC 과)) ( (NNG 최적) (JKG 의))))\n",
      "  (NPMOD ( ( (NNG 최적) (JKG 의)) ( (NNG 보습) (JKB 으로))))\n",
      "  (NPAJT ( ( (NNG 보습) (JKB 으로)) ( (NNG 해결) (SF !))))\n",
      "  (NPCNJ ( ( (NNG 가려움) (JC 와)) (NNG 각질까지)))\n",
      "  (NPMOD ( (NNG 각질까지) ( (NNG 해결) (SF !))))\n",
      "  (NPMOD ( ( (NNG 해결) (SF !)) ( (NNG 알로에베) (VCP 이) (EC 라)))))\n"
     ]
    }
   ],
   "source": [
    "tree = Tree.fromstring(all_2[1])\n",
    "print(tree)"
   ]
  },
  {
   "cell_type": "code",
   "execution_count": 24,
   "metadata": {},
   "outputs": [
    {
     "name": "stdout",
     "output_type": "stream",
     "text": [
      "                                                                                                                               s,                                                                                                                        \n",
      "         ______________________________________________________________________________________________________________________|______________________________________________________________________________________________________________            \n",
      "     VNPROOT                 NPCNJ                 NPMOD                     NPSBJ                          NPCNJ                         NPMOD                         NPAJT                     NPCNJ           NPMOD                     NPMOD        \n",
      "        |                      |                     |                         |                              |                             |                             |                         |               |                         |           \n",
      "                                                                                                                                                                                                                                                         \n",
      "        |              ________|________         ____|____             ________|________              ________|________             ________|________             ________|________             ____|____      _____|____             ________|____       \n",
      "                                                |                                                                                                                                                        |    |                                          \n",
      "  ______|_____     ___|___           ___|___    |     ____|___     ___|___           ___|___     ____|___           ___|___     ___|___           ___|___     ___|___           ___|___     ___|____     |    |      ____|___     ___|___      ____|___   \n",
      "NNG    VCP    EC NNG      JC       NNG     JKS NNG  NNG      JKS NNG     JKS       NNG      SF NNG       JC       NNG     JKG NNG     JKG       NNG     JKB NNG     JKB       NNG      SF NNG       JC  NNG  NNG   NNG       SF NNG      SF  NNG  VCP  EC\n",
      " |      |     |   |       |         |       |   |    |        |   |       |         |       |   |        |         |       |   |       |         |       |   |       |         |       |   |        |    |    |     |        |   |       |    |    |   |  \n",
      "알로에베    이     라   성분      과         성분      이  그린티   성분       이   성분      이         해결      !  두피진정      과         최적      의   최적      의         보습      으로  보습      으로        해결      !  가려움       와   각질까지 각질까지   해결       !   해결      !   알로에베  이   라 \n",
      "\n"
     ]
    }
   ],
   "source": [
    "tree.pretty_print()"
   ]
  },
  {
   "cell_type": "code",
   "execution_count": 25,
   "metadata": {},
   "outputs": [],
   "source": [
    "tree.draw()"
   ]
  },
  {
   "cell_type": "code",
   "execution_count": 267,
   "metadata": {},
   "outputs": [
    {
     "name": "stdout",
     "output_type": "stream",
     "text": [
      "(s,\n",
      "  (NPSBJ\n",
      "    (\n",
      "      (NNG+NNG+JX (NNG 문단) (NNG 구분) (JX 은))\n",
      "      (VV+EF+SF (VV 하) (EF ㅂ니다) (SF .))))\n",
      "  (NPAJT\n",
      "    ( (NNG+JKB (NNG 자동) (JKB 으로)) (VV+EF+SF (VV 하) (EF ㅂ니다) (SF .))))\n",
      "  (VPROOT ( (VV+EF+SF (VV 하) (EF ㅂ니다) (SF .)))))\n"
     ]
    }
   ],
   "source": [
    "tree = Tree.fromstring(all_[1])\n",
    "print(tree)"
   ]
  },
  {
   "cell_type": "code",
   "execution_count": 268,
   "metadata": {},
   "outputs": [
    {
     "name": "stdout",
     "output_type": "stream",
     "text": [
      "                                       s,                                                \n",
      "                  _____________________|________________________________________          \n",
      "               NPSBJ                                  NPAJT                   VPROOT     \n",
      "                 |                                      |                       |         \n",
      "                                                                                         \n",
      "         ________|__________                  __________|______                 |         \n",
      "    NNG+NNG+JX           VV+EF+SF         NNG+JKB           VV+EF+SF         VV+EF+SF    \n",
      "  ______|________      _____|______     _____|_____      ______|______     _____|______   \n",
      "NNG    NNG       JX   VV    EF     SF NNG         JKB   VV     EF     SF  VV    EF     SF\n",
      " |      |        |    |     |      |   |           |    |      |      |   |     |      |  \n",
      " 문단     구분       은    하    ㅂ니다     .   자동          으로   하     ㅂ니다     .   하    ㅂ니다     . \n",
      "\n"
     ]
    }
   ],
   "source": [
    "tree.pretty_print()"
   ]
  },
  {
   "cell_type": "code",
   "execution_count": null,
   "metadata": {},
   "outputs": [],
   "source": []
  },
  {
   "cell_type": "code",
   "execution_count": 276,
   "metadata": {},
   "outputs": [
    {
     "name": "stdout",
     "output_type": "stream",
     "text": [
      "                           s,                                     \n",
      "           ________________|______________________________         \n",
      "        NPSBJ                         NPAJT             VPROOT    \n",
      "          |                             |                 |        \n",
      "                                                                  \n",
      "      ____|________             ________|____             |        \n",
      "                                                                  \n",
      "  ___|____      ___|___     ___|___      ____|___     ____|_____   \n",
      "NNG NNG   JX   VV  EF  SF NNG     JKB   VV   EF  SF  VV   EF    SF\n",
      " |   |    |    |   |   |   |       |    |    |   |   |    |     |  \n",
      " 문단  구분   은    하  ㅂ니다  .   자동      으로   하   ㅂ니다  .   하   ㅂ니다    . \n",
      "\n"
     ]
    }
   ],
   "source": [
    "tree = Tree.fromstring(all_2[1])\n",
    "tree.pretty_print()"
   ]
  },
  {
   "cell_type": "code",
   "execution_count": 277,
   "metadata": {},
   "outputs": [
    {
     "name": "stdout",
     "output_type": "stream",
     "text": [
      "                                     s,                           \n",
      "       ______________________________|________________             \n",
      "    DPMOD                     NPOBJ                 VPROOT        \n",
      "      |                         |                     |            \n",
      "                                                                  \n",
      "  ____|____             ________|____                 |            \n",
      " |                                                                \n",
      " |     ____|___     ___|___      ____|_______     ____|_________   \n",
      " MM  NNG      JKO NNG     JKO  NNG  XSV  EF  SF NNG  XSV    EF  SF\n",
      " |    |        |   |       |    |    |   |   |   |    |     |   |  \n",
      " 이    문단       을   문단      을    분석   하  ㅂ니다  .   분석   하    ㅂ니다  . \n",
      "\n"
     ]
    }
   ],
   "source": [
    "tree = Tree.fromstring(all_2[0])\n",
    "tree.pretty_print()"
   ]
  },
  {
   "cell_type": "code",
   "execution_count": 278,
   "metadata": {},
   "outputs": [],
   "source": [
    "tree.draw()"
   ]
  },
  {
   "cell_type": "code",
   "execution_count": 279,
   "metadata": {},
   "outputs": [
    {
     "data": {
      "text/plain": [
       "'문단/NNG+구분/NNG+은/JX 자동/NNG+으로/JKB 하/VV+ㅂ니다/EF+./SF'"
      ]
     },
     "execution_count": 279,
     "metadata": {},
     "output_type": "execute_result"
    }
   ],
   "source": [
    "sent"
   ]
  },
  {
   "cell_type": "code",
   "execution_count": 280,
   "metadata": {},
   "outputs": [
    {
     "data": {
      "text/plain": [
       "[이 문단을 분석합니다., 문단구분은 자동으로 합니다.]"
      ]
     },
     "execution_count": 280,
     "metadata": {},
     "output_type": "execute_result"
    }
   ],
   "source": [
    "parsed"
   ]
  },
  {
   "cell_type": "code",
   "execution_count": null,
   "metadata": {},
   "outputs": [],
   "source": []
  },
  {
   "cell_type": "code",
   "execution_count": null,
   "metadata": {
    "scrolled": true
   },
   "outputs": [],
   "source": [
    "finalize()"
   ]
  },
  {
   "cell_type": "code",
   "execution_count": null,
   "metadata": {},
   "outputs": [],
   "source": []
  },
  {
   "cell_type": "code",
   "execution_count": null,
   "metadata": {},
   "outputs": [],
   "source": []
  },
  {
   "cell_type": "code",
   "execution_count": null,
   "metadata": {},
   "outputs": [],
   "source": []
  },
  {
   "cell_type": "code",
   "execution_count": null,
   "metadata": {},
   "outputs": [],
   "source": []
  },
  {
   "cell_type": "code",
   "execution_count": null,
   "metadata": {},
   "outputs": [],
   "source": []
  },
  {
   "cell_type": "code",
   "execution_count": null,
   "metadata": {},
   "outputs": [],
   "source": []
  }
 ],
 "metadata": {
  "kernelspec": {
   "display_name": "Python 3",
   "language": "python",
   "name": "python3"
  },
  "language_info": {
   "codemirror_mode": {
    "name": "ipython",
    "version": 3
   },
   "file_extension": ".py",
   "mimetype": "text/x-python",
   "name": "python",
   "nbconvert_exporter": "python",
   "pygments_lexer": "ipython3",
   "version": "3.7.6"
  }
 },
 "nbformat": 4,
 "nbformat_minor": 4
}
