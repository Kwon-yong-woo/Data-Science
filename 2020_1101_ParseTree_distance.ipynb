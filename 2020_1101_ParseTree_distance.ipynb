{
 "cells": [
  {
   "cell_type": "code",
   "execution_count": 200,
   "metadata": {},
   "outputs": [],
   "source": [
    "import konlpy\n",
    "import nltk\n",
    "from nltk import Tree, pos_tag, word_tokenize, RegexpParser \n",
    "from nltk.draw.util import CanvasFrame\n",
    "from nltk.draw import TreeWidget\n",
    "from nltk.draw.tree import TreeView\n",
    "from nltk import CFG\n",
    "\n",
    "import os\n",
    "\n",
    "import re\n",
    "\n",
    "from bokeh.io import export_png\n",
    "import threading\n",
    "\n",
    "from koalanlp import API\n",
    "from koalanlp.proc import Parser"
   ]
  },
  {
   "cell_type": "code",
   "execution_count": 38,
   "metadata": {},
   "outputs": [
    {
     "name": "stderr",
     "output_type": "stream",
     "text": [
      "[nltk_data] Downloading package averaged_perceptron_tagger to\n",
      "[nltk_data]     C:\\Users\\Samsung\\AppData\\Roaming\\nltk_data...\n",
      "[nltk_data]   Package averaged_perceptron_tagger is already up-to-\n",
      "[nltk_data]       date!\n",
      "[nltk_data] Downloading package punkt to\n",
      "[nltk_data]     C:\\Users\\Samsung\\AppData\\Roaming\\nltk_data...\n",
      "[nltk_data]   Package punkt is already up-to-date!\n"
     ]
    },
    {
     "data": {
      "text/plain": [
       "True"
      ]
     },
     "execution_count": 38,
     "metadata": {},
     "output_type": "execute_result"
    }
   ],
   "source": [
    "nltk.download(\"averaged_perceptron_tagger\")\n",
    "nltk.download('punkt') "
   ]
  },
  {
   "cell_type": "code",
   "execution_count": 3,
   "metadata": {},
   "outputs": [],
   "source": [
    "data = ['코드리스 이어폰은 기어 x 2018 이후로 두 번째 입니', '다. 기어 x를 쓰다가 외이도 염 때문에 커 널 형은 쓰지 말라고', '해서 1년 간 오픈 형 유선 이어폰으로 연명하다가 싼 맛에 쓸 만 하다는 소문을 듣고 구입해 봤습니다.', '제가 쓰는 유선 이어폰은 갤 s6 의 번들 이어폰인 eg920 입니다.', '1. 가격 일단 가격이 깡패라', '조금 덜 소중히 다뤄도 된다는 게 제일 만족스럽습니다.', '제가 쓰던 유선 이어폰의 정가가 22000원으로 기억하는데 그것보다 저렴하니까요. 그래도 파우치에 넣어 가지고 다니 긴 하지만 주머니에서 굴리다가 이어폰이 빠질까 봐 불안해서 넣습니다.', '가격이 저렴해서 망가져도 as는 딱히 받을 생각이 없지만 초기 불량에 대한 불안감이 커서 정식 제품으로 샀는데, 이 또한 만족스럽습니다.', '물론 초기 불량이 나 진 않았지만요. 2. 통화 품질 시도도 안 해봤습니다.', 't5를 쓰는 친구와 종종 통화를 하는데, 바람이 많이 불면 친구의 목소리가 아예 안 들리는 걸 경험했고, 이건 그것보다 더 별로라는 얘기를 들어서 통화할 땐 그냥 유선 이어폰을 끼고 합니다.', '인도어에서는 해도 괜찮긴 하겠네요.', '3. 음질 음질은 제가 막 귀라', '그냥저냥 듣긴 하는데 생각보다 더 구립니다.', '제가 웬만하면 음질의 차이를 구별하지 못하는데, 이건 구별이 되는 정도 니 까요.', '이게 t1 만 그런 건지, 아니면 다른 저가 형 코드리스도 그런지는 잘 모르겠네요.', '제 폰이 갤 럭 시 s8 이라, 이전에 썼던 기어 x는 삼성 폰이랑 연결하면 알아서 음질이 좋아지는 것 같은 효과를 내주는 소프트웨어? 코덱? 이 적용돼서 불편함을 느낀 적은 없던 걸로 기억하는데, 그런 요행이 없으면 대부분의 저가 형 코드리스는 비슷한 수준일 것 같긴 합니다.', '가격이 비슷한 데 좋으면 얼마나 더 좋겠어요.', '4. 영상과의 싱크 유 튜브는 불편함 없이 시청이 가능했고, 폰의 비디오 플레이어도 딱히 딜레이는 못 느꼈는데( 블루 레이 같은 고용량의 파일은 안 해봐서 모르겠습니다.)', '공 단기 플레이어로 인터넷 강의를 들을 때는 딜레이가 느껴지네요.', '이건 어차피 강사의 입을 볼게', '아니라서 저한 텐 상관없습니다.', '배속을 올리면 체감하기도 힘들고요.', '5. 음량 유일하게 불만인 점인데, 음량 자체가 너무 작습니다.', '제가 쓰던 유선 이어폰은 오픈 형 임에도 불구하고 이거보단 훨씬 커요.', '많은 차들이 빨리 달리는 도로 옆을 걷다 보면 거의 안 들리는 정도라서 그런 도로는 피해 다닙니다.', '독서실에서 강의를 들을 때도 맥시멈 인 15로 하고 들어야 잘 들리는 수준이라, 6~7 이면 충분한 유선 이어폰이랑 차이가 큽니다.', '6. 배터리 하루종일 끼고 있는 게 아니고, 한번 낄 때 끽해야 한 시간 정도만 끼고 있어서 아직 까지 부족함은 잘 모르겠습니다.', '스펙 상 명시된 연속 사용시간이 좀 적은 것 같긴 하던데, 어차피 귀가 아파서 그렇게 오래는 못 끼고 있는지라 저한테 는 충분합니다.', '초기 불량으로 인한 교환가능 시기는 지났고, 가격이 가격인 만큼 3개월만 안 망가지고 버텨 주면 그 이후에 망가져도 재구매할 것 같습니다.', '귀에 염증이 생긴 뒤로 코드리스에는 관심도 없다가 t1x 가 나온다 기에 다시 관심을 갖기 시작했는데, 아직은 정식 수입이 되는 것 같지 않길래 아쉬운 대로 t1 을 산 거라서, t1x 도 정식수입을 해 주셨으면 좋겠습니다!']"
   ]
  },
  {
   "cell_type": "code",
   "execution_count": 12,
   "metadata": {
    "scrolled": true
   },
   "outputs": [],
   "source": [
    "words = konlpy.tag.Twitter().pos(data[0])"
   ]
  },
  {
   "cell_type": "code",
   "execution_count": 13,
   "metadata": {},
   "outputs": [
    {
     "data": {
      "text/plain": [
       "[('코드', 'Noun'),\n",
       " ('리스', 'Noun'),\n",
       " ('이어폰', 'Noun'),\n",
       " ('은', 'Josa'),\n",
       " ('기어', 'Noun'),\n",
       " ('x', 'Alpha'),\n",
       " ('2018', 'Number'),\n",
       " ('이후', 'Noun'),\n",
       " ('로', 'Josa'),\n",
       " ('두', 'Noun'),\n",
       " ('번째', 'Suffix'),\n",
       " ('입니', 'Adjective')]"
      ]
     },
     "execution_count": 13,
     "metadata": {},
     "output_type": "execute_result"
    }
   ],
   "source": [
    "words"
   ]
  },
  {
   "cell_type": "code",
   "execution_count": null,
   "metadata": {},
   "outputs": [],
   "source": [
    "grammar = \"\"\"\n",
    "NP: {<N.*>*<Suffix>?}   # Noun phrase\n",
    "VP: {<V.*>*}            # Verb phrase\n",
    "AP: {<A.*>*}            # Adjective phrase\n",
    "\"\"\"\n",
    "parser = nltk.RegexpParser(grammar)\n",
    "chunks = parser.parse(words)\n",
    "#chunks.draw()\n"
   ]
  },
  {
   "cell_type": "code",
   "execution_count": null,
   "metadata": {},
   "outputs": [],
   "source": []
  },
  {
   "cell_type": "code",
   "execution_count": 9,
   "metadata": {},
   "outputs": [],
   "source": [
    "cf = CanvasFrame()\n",
    "tc = TreeWidget(cf.canvas(),chunks)\n",
    "cf.add_widget(tc)"
   ]
  },
  {
   "cell_type": "code",
   "execution_count": null,
   "metadata": {},
   "outputs": [],
   "source": []
  },
  {
   "cell_type": "code",
   "execution_count": null,
   "metadata": {},
   "outputs": [],
   "source": []
  },
  {
   "cell_type": "code",
   "execution_count": 17,
   "metadata": {},
   "outputs": [],
   "source": [
    "groucho_grammar = CFG.fromstring(\"\"\"\n",
    "S -> NP VP\n",
    " PP -> P NP\n",
    " NP -> Det N | Det N PP | 'I'\n",
    " VP -> V NP | VP PP\n",
    " Det -> 'an' | 'my'\n",
    " N -> 'elephant' | 'pajamas'\n",
    " V -> 'shot'\n",
    " P -> 'in'\n",
    " \"\"\")\n",
    "parser = nltk.ChartParser(groucho_grammar)\n",
    "sent = ['I', 'shot', 'an', 'elephant', 'in', 'my', 'pajamas']\n",
    "trees = parser.parse(sent)"
   ]
  },
  {
   "cell_type": "code",
   "execution_count": 18,
   "metadata": {},
   "outputs": [],
   "source": []
  },
  {
   "cell_type": "code",
   "execution_count": 21,
   "metadata": {},
   "outputs": [],
   "source": []
  },
  {
   "cell_type": "code",
   "execution_count": 23,
   "metadata": {},
   "outputs": [],
   "source": []
  },
  {
   "cell_type": "code",
   "execution_count": 30,
   "metadata": {},
   "outputs": [
    {
     "data": {
      "text/plain": [
       "4"
      ]
     },
     "execution_count": 30,
     "metadata": {},
     "output_type": "execute_result"
    }
   ],
   "source": [
    "\n",
    "cf = CanvasFrame()\n",
    "t = Tree.fromstring('(S (NP this tree) (VP (V is) (AdjP pretty)))')\n",
    "tc = TreeWidget(cf.canvas(),t)\n",
    "cf.add_widget(tc,10,10) # (10,10) offsets\n",
    "cf.print_to_file('tree.ps')\n",
    "os.chdir(r\"C:\\Users\\Samsung\\Desktop\\Project\\이희정 교수님\\project\\parse_tree\\test\")\n",
    "os.system('convert output.ps output.png')"
   ]
  },
  {
   "cell_type": "code",
   "execution_count": 33,
   "metadata": {},
   "outputs": [],
   "source": [
    "cf = CanvasFrame()\n",
    "t = Tree.fromstring('(S (NP this tree) (VP (V is) (AdjP pretty)))')\n",
    "tc = TreeWidget(cf.canvas(),t)\n",
    "cf.add_widget(tc,10,10) # (10,10) offsets\n",
    "cf.print_to_file('tree.ps')"
   ]
  },
  {
   "cell_type": "code",
   "execution_count": null,
   "metadata": {},
   "outputs": [],
   "source": []
  },
  {
   "cell_type": "code",
   "execution_count": 40,
   "metadata": {},
   "outputs": [
    {
     "name": "stdout",
     "output_type": "stream",
     "text": [
      "After Extracting\n",
      " (S\n",
      "  (NP The/DT quick/JJ brown/NN)\n",
      "  (NP fox/NN)\n",
      "  (VP (V jumps/VBZ) (PP (P over/IN) (NP the/DT lazy/JJ dog/NN))))\n"
     ]
    }
   ],
   "source": [
    "# Import required libraries \n",
    "   \n",
    "# Example text \n",
    "sample_text = \"The quick brown fox jumps over the lazy dog\"\n",
    "   \n",
    "# Find all parts of speech in above sentence \n",
    "tagged = pos_tag(word_tokenize(sample_text)) \n",
    "   \n",
    "#Extract all parts of speech from any text \n",
    "chunker = RegexpParser(\"\"\" \n",
    "                       NP: {<DT>?<JJ>*<NN>}    #To extract Noun Phrases \n",
    "                       P: {<IN>}               #To extract Prepositions \n",
    "                       V: {<V.*>}              #To extract Verbs \n",
    "                       PP: {<P> <NP>}          #To extract Prepostional Phrases \n",
    "                       VP: {<V> <NP|PP>*}      #To extarct Verb Phrases \n",
    "                       \"\"\") \n",
    "  \n",
    "# Print all parts of speech in above sentence \n",
    "output = chunker.parse(tagged) \n",
    "print(\"After Extracting\\n\", output) "
   ]
  },
  {
   "cell_type": "code",
   "execution_count": 44,
   "metadata": {},
   "outputs": [],
   "source": [
    "output.draw()"
   ]
  },
  {
   "cell_type": "code",
   "execution_count": null,
   "metadata": {},
   "outputs": [],
   "source": []
  },
  {
   "cell_type": "code",
   "execution_count": null,
   "metadata": {},
   "outputs": [],
   "source": []
  },
  {
   "cell_type": "code",
   "execution_count": 51,
   "metadata": {},
   "outputs": [],
   "source": [
    "#words = konlpy.tag.Twitter().pos(data[2])\n",
    "#words\n",
    "words = konlpy.tag.Twitter().pos(\"TV 테스트 겸 넷 플릭스 재생 해봤는데 액션 신에서 거슬리지 않으면서 적당히 심장에 쿵쿵 울림을 주는 소리가 나옵니다.5.\")"
   ]
  },
  {
   "cell_type": "code",
   "execution_count": 53,
   "metadata": {},
   "outputs": [
    {
     "data": {
      "text/plain": [
       "[('TV', 'Alpha'),\n",
       " ('테스트', 'Noun'),\n",
       " ('겸', 'Noun'),\n",
       " ('넷', 'Noun'),\n",
       " ('플릭스', 'Noun'),\n",
       " ('재생', 'Noun'),\n",
       " ('해봤는데', 'Verb'),\n",
       " ('액션', 'Noun'),\n",
       " ('신', 'Noun'),\n",
       " ('에서', 'Josa'),\n",
       " ('거슬리지', 'Verb'),\n",
       " ('않으면서', 'Verb'),\n",
       " ('적당히', 'Adjective'),\n",
       " ('심장', 'Noun'),\n",
       " ('에', 'Josa'),\n",
       " ('쿵쿵', 'Adverb'),\n",
       " ('울림', 'Noun'),\n",
       " ('을', 'Josa'),\n",
       " ('주는', 'Verb'),\n",
       " ('소리', 'Noun'),\n",
       " ('가', 'Josa'),\n",
       " ('나옵니다', 'Verb'),\n",
       " ('.', 'Punctuation'),\n",
       " ('5', 'Number'),\n",
       " ('.', 'Punctuation')]"
      ]
     },
     "execution_count": 53,
     "metadata": {},
     "output_type": "execute_result"
    }
   ],
   "source": [
    "words"
   ]
  },
  {
   "cell_type": "code",
   "execution_count": 52,
   "metadata": {},
   "outputs": [],
   "source": [
    "chunker = RegexpParser(\"\"\" \n",
    "                       NP: {<DT>?<JJ>*<NN>}    #To extract Noun Phrases \n",
    "                       P: {<IN>}               #To extract Prepositions \n",
    "                       V: {<V.*>}              #To extract Verbs \n",
    "                       PP: {<P> <NP>}          #To extract Prepostional Phrases \n",
    "                       VP: {<V> <NP|PP>*}      #To extarct Verb Phrases \n",
    "                       \"\"\") \n",
    "output = chunker.parse(words) \n",
    "#print(\"After Extracting\\n\", output)\n",
    "output.draw()"
   ]
  },
  {
   "cell_type": "markdown",
   "metadata": {},
   "source": [
    "## grammer 별 tree 형태"
   ]
  },
  {
   "cell_type": "code",
   "execution_count": 54,
   "metadata": {},
   "outputs": [],
   "source": [
    "grammer_v1 = \"\"\"\n",
    "NP: {<N.*>*<Suffix>?}   # Noun phrase\n",
    "VP: {<V.*>*}            # Verb phrase\n",
    "AP: {<A.*>*}            # Adjective phrase\"\"\"\n",
    "\n",
    "grammer_v2 = \"\"\"\n",
    "NP: {<DT>?<JJ>*<NN>}    #To extract Noun Phrases \n",
    "P: {<IN>}               #To extract Prepositions \n",
    "V: {<V.*>}              #To extract Verbs \n",
    "PP: {<P> <NP>}          #To extract Prepostional Phrases \n",
    "VP: {<V> <NP|PP>*}      #To extarct Verb Phrases \"\"\"\n",
    "\n",
    "grammer_v3 = \"\"\"\n",
    "VP: {<ADJ_SIM><V_PRS>}\n",
    "VP: {<ADJ_INO><V.*>}\n",
    "VP: {<V_PRS><N_SING><V_SUB>}\n",
    "NP: {<N_SING><ADJ.*><N_SING>}\n",
    "NP: {<N.*><PRO>}\n",
    "VP: {<N_SING><V_.*>}\n",
    "VP: {<V.*>+}\n",
    "NP: {<ADJ.*>?<N.*>+ <ADJ.*>?}\n",
    "DNP: {<DET><NP>}\n",
    "PP: {<ADJ_CMPR><P>}\n",
    "PP: {<ADJ_SIM><P>}\n",
    "PP: {<P><N_SING>}\n",
    "PP: {<P>*}\n",
    "DDNP: {<NP><DNP>}\n",
    "NPP: {<PP><NP>+}\"\"\""
   ]
  },
  {
   "cell_type": "code",
   "execution_count": 67,
   "metadata": {},
   "outputs": [],
   "source": [
    "chunker = RegexpParser(grammer_v3) \n",
    "output = chunker.parse(words) \n",
    "#print(\"After Extracting\\n\", output)\n",
    "output.draw()"
   ]
  },
  {
   "cell_type": "markdown",
   "metadata": {},
   "source": [
    "## RegexpParser 형태를 Tree formating으로"
   ]
  },
  {
   "cell_type": "code",
   "execution_count": 60,
   "metadata": {},
   "outputs": [],
   "source": [
    "tree = Tree(\"s\",output)"
   ]
  },
  {
   "cell_type": "code",
   "execution_count": 62,
   "metadata": {},
   "outputs": [
    {
     "name": "stdout",
     "output_type": "stream",
     "text": [
      "(s\n",
      "  TV/Alpha\n",
      "  (NP 테스트/Noun 겸/Noun 넷/Noun 플릭스/Noun 재생/Noun)\n",
      "  (VP 해봤는데/Verb)\n",
      "  (NP 액션/Noun 신/Noun)\n",
      "  에서/Josa\n",
      "  (VP 거슬리지/Verb 않으면서/Verb)\n",
      "  적당히/Adjective\n",
      "  (NP 심장/Noun)\n",
      "  에/Josa\n",
      "  쿵쿵/Adverb\n",
      "  (NP 울림/Noun)\n",
      "  을/Josa\n",
      "  (VP 주는/Verb)\n",
      "  (NP 소리/Noun)\n",
      "  가/Josa\n",
      "  (VP 나옵니다/Verb)\n",
      "  ./Punctuation\n",
      "  (NP 5/Number)\n",
      "  ./Punctuation)\n"
     ]
    }
   ],
   "source": [
    "print(tree)"
   ]
  },
  {
   "cell_type": "code",
   "execution_count": 63,
   "metadata": {},
   "outputs": [],
   "source": [
    "cf = CanvasFrame()\n",
    "tree = Tree(\"s\",output)\n",
    "tc = TreeWidget(cf.canvas(),t)\n",
    "cf.add_widget(tc,10,10) # (10,10) offsets\n"
   ]
  },
  {
   "cell_type": "code",
   "execution_count": null,
   "metadata": {},
   "outputs": [],
   "source": [
    "cf.print_to_file('tree.ps')"
   ]
  },
  {
   "cell_type": "code",
   "execution_count": null,
   "metadata": {},
   "outputs": [],
   "source": []
  },
  {
   "cell_type": "code",
   "execution_count": null,
   "metadata": {},
   "outputs": [],
   "source": []
  },
  {
   "cell_type": "markdown",
   "metadata": {},
   "source": [
    "## nltk.Tree 함수"
   ]
  },
  {
   "cell_type": "code",
   "execution_count": 213,
   "metadata": {},
   "outputs": [
    {
     "name": "stdout",
     "output_type": "stream",
     "text": [
      "(s (dp (d the) (np dog)) (vp (v chased) (dp (d the) (np cat))))\n"
     ]
    }
   ],
   "source": [
    "dp1 = Tree('dp', [Tree('d', ['the']), Tree('np', ['dog'])])\n",
    "dp2 = Tree('dp', [Tree('d', ['the']), Tree('np', ['cat'])])\n",
    "vp = Tree('vp', [Tree('v', ['chased']), dp2])\n",
    "tree = Tree('s', [dp1, vp])\n",
    "print(tree)\n"
   ]
  },
  {
   "cell_type": "code",
   "execution_count": 214,
   "metadata": {},
   "outputs": [
    {
     "name": "stdout",
     "output_type": "stream",
     "text": [
      "(s (dp (d the) (np dog)) (vp (v chased) (dp (d the) (np cat))))\n"
     ]
    }
   ],
   "source": [
    "chunker = RegexpParser(grammer_v3) \n",
    "output_2 = chunker.parse(tree)\n",
    "print(output_2)"
   ]
  },
  {
   "cell_type": "code",
   "execution_count": 215,
   "metadata": {
    "scrolled": true
   },
   "outputs": [
    {
     "name": "stdout",
     "output_type": "stream",
     "text": [
      "              s               \n",
      "      ________|_____           \n",
      "     |              vp        \n",
      "     |         _____|___       \n",
      "     dp       |         dp    \n",
      "  ___|___     |      ___|___   \n",
      " d       np   v     d       np\n",
      " |       |    |     |       |  \n",
      "the     dog chased the     cat\n",
      "\n"
     ]
    }
   ],
   "source": [
    "tree.pretty_print()"
   ]
  },
  {
   "cell_type": "code",
   "execution_count": 216,
   "metadata": {},
   "outputs": [
    {
     "name": "stdout",
     "output_type": "stream",
     "text": [
      "     s                      \n",
      "  ___|___________            \n",
      " s       [('dp', [('d', ['  \n",
      "         the']), ('np', ['  \n",
      "        dog'])]), ('vp', [('\n",
      "        v', ['chased']), (' \n",
      "           dp', [('d', ['   \n",
      "         the']), ('np', ['  \n",
      "            cat'])])])]     \n",
      "\n"
     ]
    }
   ],
   "source": [
    "treea = Tree('s', a)\n",
    "treea.pretty_print()"
   ]
  },
  {
   "cell_type": "code",
   "execution_count": 217,
   "metadata": {},
   "outputs": [],
   "source": [
    "tree.draw()"
   ]
  },
  {
   "cell_type": "markdown",
   "metadata": {},
   "source": [
    "### tree element 추출\n",
    "1. top -element \"s\"는 고려하지 않는다.\n",
    "2. 원하는 위치에서 index에서 [,,....,0] 0을 추가한다."
   ]
  },
  {
   "cell_type": "code",
   "execution_count": 94,
   "metadata": {},
   "outputs": [
    {
     "data": {
      "text/plain": [
       "'chased'"
      ]
     },
     "execution_count": 94,
     "metadata": {},
     "output_type": "execute_result"
    }
   ],
   "source": [
    "tree[1,0,0]"
   ]
  },
  {
   "cell_type": "code",
   "execution_count": 92,
   "metadata": {},
   "outputs": [
    {
     "data": {
      "text/plain": [
       "'the'"
      ]
     },
     "execution_count": 92,
     "metadata": {},
     "output_type": "execute_result"
    }
   ],
   "source": [
    "tree[1,1,0,0]"
   ]
  },
  {
   "cell_type": "code",
   "execution_count": 74,
   "metadata": {},
   "outputs": [],
   "source": [
    "output_2.draw()\n",
    "tree.draw()"
   ]
  },
  {
   "cell_type": "markdown",
   "metadata": {},
   "source": [
    "### tree 안에 있는 element의 index 추출"
   ]
  },
  {
   "cell_type": "code",
   "execution_count": 142,
   "metadata": {},
   "outputs": [
    {
     "data": {
      "text/plain": [
       "[(),\n",
       " (0,),\n",
       " (0, 0),\n",
       " (0, 0, 0),\n",
       " (0, 1),\n",
       " (0, 1, 0),\n",
       " (1,),\n",
       " (1, 0),\n",
       " (1, 0, 0),\n",
       " (1, 1),\n",
       " (1, 1, 0),\n",
       " (1, 1, 0, 0),\n",
       " (1, 1, 1),\n",
       " (1, 1, 1, 0)]"
      ]
     },
     "execution_count": 142,
     "metadata": {},
     "output_type": "execute_result"
    }
   ],
   "source": [
    "# 위치 추출\n",
    "tree.treepositions()"
   ]
  },
  {
   "cell_type": "code",
   "execution_count": 143,
   "metadata": {},
   "outputs": [
    {
     "name": "stdout",
     "output_type": "stream",
     "text": [
      "(0, 0, 0)\n",
      "the\n",
      "(0, 1, 0)\n",
      "dog\n",
      "(1, 0, 0)\n",
      "chased\n",
      "(1, 1, 0, 0)\n",
      "the\n",
      "(1, 1, 1, 0)\n",
      "cat\n"
     ]
    }
   ],
   "source": [
    "### meta charater find all == \\\\ 뒤에 쓰는 것\n",
    "\n",
    "for i in tree.treepositions():\n",
    "    #print(type(tree[list(i)]))\n",
    "    if re.findall(\"\\\\(\",str(tree[list(i)])) == []:\n",
    "        print(i)\n",
    "        print(tree[list(i)])\n"
   ]
  },
  {
   "cell_type": "code",
   "execution_count": null,
   "metadata": {},
   "outputs": [],
   "source": []
  },
  {
   "cell_type": "code",
   "execution_count": 104,
   "metadata": {},
   "outputs": [
    {
     "data": {
      "text/plain": [
       "<bound method Tree.treeposition_spanning_leaves of Tree('s', [Tree('dp', [Tree('d', ['the']), Tree('np', ['dog'])]), Tree('vp', [Tree('v', ['chased']), Tree('dp', [Tree('d', ['the']), Tree('np', ['cat'])])])])>"
      ]
     },
     "execution_count": 104,
     "metadata": {},
     "output_type": "execute_result"
    }
   ],
   "source": [
    "tree.treeposition_spanning_leaves"
   ]
  },
  {
   "cell_type": "code",
   "execution_count": null,
   "metadata": {},
   "outputs": [],
   "source": []
  },
  {
   "cell_type": "markdown",
   "metadata": {},
   "source": [
    "## 이제 tree 함수 이용해서 -> 한국어 적용"
   ]
  },
  {
   "cell_type": "code",
   "execution_count": 182,
   "metadata": {},
   "outputs": [
    {
     "name": "stderr",
     "output_type": "stream",
     "text": [
      "C:\\Users\\Samsung\\anaconda3\\lib\\site-packages\\konlpy\\tag\\_okt.py:16: UserWarning: \"Twitter\" has changed to \"Okt\" since KoNLPy v0.4.5.\n",
      "  warn('\"Twitter\" has changed to \"Okt\" since KoNLPy v0.4.5.')\n"
     ]
    }
   ],
   "source": [
    "words = konlpy.tag.Twitter().pos(\"TV 테스트 겸 넷 플릭스 재생 해봤는데 액션 신에서 거슬리지 않으면서 적당히 심장에 쿵쿵 울림을 주는 소리가 나옵니다.5.\")"
   ]
  },
  {
   "cell_type": "code",
   "execution_count": 183,
   "metadata": {},
   "outputs": [],
   "source": [
    "chunker = RegexpParser(grammer_v2) \n",
    "output = chunker.parse(words)\n",
    "tree = Tree(\"s\",output)"
   ]
  },
  {
   "cell_type": "code",
   "execution_count": 184,
   "metadata": {
    "scrolled": true
   },
   "outputs": [
    {
     "name": "stdout",
     "output_type": "stream",
     "text": [
      "(s\n",
      "  TV/Alpha\n",
      "  테스트/Noun\n",
      "  겸/Noun\n",
      "  넷/Noun\n",
      "  플릭스/Noun\n",
      "  재생/Noun\n",
      "  (VP (V 해봤는데/Verb))\n",
      "  액션/Noun\n",
      "  신/Noun\n",
      "  에서/Josa\n",
      "  (VP (V 거슬리지/Verb))\n",
      "  (VP (V 않으면서/Verb))\n",
      "  적당히/Adjective\n",
      "  심장/Noun\n",
      "  에/Josa\n",
      "  쿵쿵/Adverb\n",
      "  울림/Noun\n",
      "  을/Josa\n",
      "  (VP (V 주는/Verb))\n",
      "  소리/Noun\n",
      "  가/Josa\n",
      "  (VP (V 나옵니다/Verb))\n",
      "  ./Punctuation\n",
      "  5/Number\n",
      "  ./Punctuation)\n"
     ]
    }
   ],
   "source": [
    "print(tree)"
   ]
  },
  {
   "cell_type": "code",
   "execution_count": 185,
   "metadata": {},
   "outputs": [
    {
     "name": "stdout",
     "output_type": "stream",
     "text": [
      "                                                                                                         s                                                                                                                       \n",
      "    _____________________________________________________________________________________________________|__________________________________________________________________________________________________________________      \n",
      "   |        |       |      |       |        |       |      |       |          |          |      |        |        |      |       |      |          |          |           |           VP        VP        VP       VP       VP   \n",
      "   |        |       |      |       |        |       |      |       |          |          |      |        |        |      |       |      |          |          |           |           |         |         |        |        |     \n",
      "   |        |       |      |       |        |       |      |       |          |          |      |        |        |      |       |      |          |          |           |           V         V         V        V        V    \n",
      "   |        |       |      |       |        |       |      |       |          |          |      |        |        |      |       |      |          |          |           |           |         |         |        |        |     \n",
      "TV/Alpha 테스트/Noun 겸/Noun 넷/Noun 플릭스/Noun 재생/Noun 액션/Noun 신/Noun 에서/Josa 적당히/Adjective 심장/Noun 에/Josa 쿵쿵/Adverb 울림/Noun 을/Josa 소리/Noun 가/Josa ./Punctuation 5/Number ./Punctuation 해봤는데/Verb 거슬리지/Verb 않으면서/Verb 주는/Verb 나옵니다/Verb\n",
      "\n"
     ]
    }
   ],
   "source": [
    "tree.pretty_print()"
   ]
  },
  {
   "cell_type": "code",
   "execution_count": 189,
   "metadata": {
    "scrolled": true
   },
   "outputs": [
    {
     "name": "stdout",
     "output_type": "stream",
     "text": [
      "('TV', 'Alpha')\n",
      "__________________________________________________\n",
      "TV\n",
      "__________________________________________________\n",
      "테스트\n",
      "__________________________________________________\n",
      "겸\n",
      "__________________________________________________\n",
      "넷\n",
      "__________________________________________________\n",
      "플릭스\n",
      "__________________________________________________\n",
      "재생\n",
      "__________________________________________________\n",
      "(V 해봤는데/Verb)\n",
      "__________________________________________________\n",
      "('해봤는데', 'Verb')\n",
      "__________________________________________________\n",
      "해봤는데\n",
      "__________________________________________________\n",
      "액션\n",
      "__________________________________________________\n",
      "신\n",
      "__________________________________________________\n",
      "에서\n",
      "__________________________________________________\n",
      "(V 거슬리지/Verb)\n",
      "__________________________________________________\n",
      "('거슬리지', 'Verb')\n",
      "__________________________________________________\n",
      "거슬리지\n",
      "__________________________________________________\n",
      "(V 않으면서/Verb)\n",
      "__________________________________________________\n",
      "('않으면서', 'Verb')\n",
      "__________________________________________________\n",
      "않으면서\n",
      "__________________________________________________\n",
      "적당히\n",
      "__________________________________________________\n",
      "심장\n",
      "__________________________________________________\n",
      "에\n",
      "__________________________________________________\n",
      "쿵쿵\n",
      "__________________________________________________\n",
      "울림\n",
      "__________________________________________________\n",
      "을\n",
      "__________________________________________________\n",
      "(V 주는/Verb)\n",
      "__________________________________________________\n",
      "('주는', 'Verb')\n",
      "__________________________________________________\n",
      "주는\n",
      "__________________________________________________\n",
      "소리\n",
      "__________________________________________________\n",
      "가\n",
      "__________________________________________________\n",
      "(V 나옵니다/Verb)\n",
      "__________________________________________________\n",
      "('나옵니다', 'Verb')\n",
      "__________________________________________________\n",
      "나옵니다\n",
      "__________________________________________________\n",
      ".\n",
      "__________________________________________________\n",
      "5\n",
      "__________________________________________________\n",
      ".\n",
      "__________________________________________________\n"
     ]
    }
   ],
   "source": [
    "for i in tree.treepositions():\n",
    "    print(tree[list(i)][0])\n",
    "    \n",
    "    print(\"_\"*50)"
   ]
  },
  {
   "cell_type": "code",
   "execution_count": 198,
   "metadata": {
    "scrolled": true
   },
   "outputs": [
    {
     "name": "stdout",
     "output_type": "stream",
     "text": [
      "(0,)\n",
      "('TV', 'Alpha')\n",
      "(1,)\n",
      "('테스트', 'Noun')\n",
      "(2,)\n",
      "('겸', 'Noun')\n",
      "(3,)\n",
      "('넷', 'Noun')\n",
      "(4,)\n",
      "('플릭스', 'Noun')\n",
      "(5,)\n",
      "('재생', 'Noun')\n",
      "(6, 0, 0)\n",
      "('해봤는데', 'Verb')\n",
      "(7,)\n",
      "('액션', 'Noun')\n",
      "(8,)\n",
      "('신', 'Noun')\n",
      "(9,)\n",
      "('에서', 'Josa')\n",
      "(10, 0, 0)\n",
      "('거슬리지', 'Verb')\n",
      "(11, 0, 0)\n",
      "('않으면서', 'Verb')\n",
      "(12,)\n",
      "('적당히', 'Adjective')\n",
      "(13,)\n",
      "('심장', 'Noun')\n",
      "(14,)\n",
      "('에', 'Josa')\n",
      "(15,)\n",
      "('쿵쿵', 'Adverb')\n",
      "(16,)\n",
      "('울림', 'Noun')\n",
      "(17,)\n",
      "('을', 'Josa')\n",
      "(18, 0, 0)\n",
      "('주는', 'Verb')\n",
      "(19,)\n",
      "('소리', 'Noun')\n",
      "(20,)\n",
      "('가', 'Josa')\n",
      "(21, 0, 0)\n",
      "('나옵니다', 'Verb')\n",
      "(22,)\n",
      "('.', 'Punctuation')\n",
      "(23,)\n",
      "('5', 'Number')\n",
      "(24,)\n",
      "('.', 'Punctuation')\n"
     ]
    }
   ],
   "source": [
    "for i in tree.treepositions():\n",
    "    #print(type(tree[list(i)]))\n",
    "    #print(str(tree[list(i)]))\n",
    "    if re.findall(\"\\\\(\",str((tree[list(i)])[0])) == []:\n",
    "        print(i)\n",
    "        print(tree[list(i)])\n"
   ]
  },
  {
   "cell_type": "code",
   "execution_count": 202,
   "metadata": {},
   "outputs": [
    {
     "name": "stderr",
     "output_type": "stream",
     "text": [
      "The Ghostscript executable isn't found.\n",
      "See http://web.mit.edu/ghostscript/www/Install.htm\n",
      "If you're using a Mac, you can try installing\n",
      "https://docs.brew.sh/Installation then `brew install ghostscript`\n"
     ]
    },
    {
     "ename": "LookupError",
     "evalue": "",
     "output_type": "error",
     "traceback": [
      "\u001b[1;31m---------------------------------------------------------------------------\u001b[0m",
      "\u001b[1;31mLookupError\u001b[0m                               Traceback (most recent call last)",
      "\u001b[1;32m~\\anaconda3\\lib\\site-packages\\nltk\\tree.py\u001b[0m in \u001b[0;36m_repr_png_\u001b[1;34m(self)\u001b[0m\n\u001b[0;32m    805\u001b[0m                             \u001b[0menv_vars\u001b[0m\u001b[1;33m=\u001b[0m\u001b[1;33m[\u001b[0m\u001b[1;34m'PATH'\u001b[0m\u001b[1;33m]\u001b[0m\u001b[1;33m,\u001b[0m\u001b[1;33m\u001b[0m\u001b[1;33m\u001b[0m\u001b[0m\n\u001b[1;32m--> 806\u001b[1;33m                             \u001b[0mverbose\u001b[0m\u001b[1;33m=\u001b[0m\u001b[1;32mFalse\u001b[0m\u001b[1;33m,\u001b[0m\u001b[1;33m\u001b[0m\u001b[1;33m\u001b[0m\u001b[0m\n\u001b[0m\u001b[0;32m    807\u001b[0m                         )\n",
      "\u001b[1;32m~\\anaconda3\\lib\\site-packages\\nltk\\internals.py\u001b[0m in \u001b[0;36mfind_binary\u001b[1;34m(name, path_to_bin, env_vars, searchpath, binary_names, url, verbose)\u001b[0m\n\u001b[0;32m    696\u001b[0m         find_binary_iter(\n\u001b[1;32m--> 697\u001b[1;33m             \u001b[0mname\u001b[0m\u001b[1;33m,\u001b[0m \u001b[0mpath_to_bin\u001b[0m\u001b[1;33m,\u001b[0m \u001b[0menv_vars\u001b[0m\u001b[1;33m,\u001b[0m \u001b[0msearchpath\u001b[0m\u001b[1;33m,\u001b[0m \u001b[0mbinary_names\u001b[0m\u001b[1;33m,\u001b[0m \u001b[0murl\u001b[0m\u001b[1;33m,\u001b[0m \u001b[0mverbose\u001b[0m\u001b[1;33m\u001b[0m\u001b[1;33m\u001b[0m\u001b[0m\n\u001b[0m\u001b[0;32m    698\u001b[0m         )\n",
      "\u001b[1;32m~\\anaconda3\\lib\\site-packages\\nltk\\internals.py\u001b[0m in \u001b[0;36mfind_binary_iter\u001b[1;34m(name, path_to_bin, env_vars, searchpath, binary_names, url, verbose)\u001b[0m\n\u001b[0;32m    680\u001b[0m     for file in find_file_iter(\n\u001b[1;32m--> 681\u001b[1;33m         \u001b[0mpath_to_bin\u001b[0m \u001b[1;32mor\u001b[0m \u001b[0mname\u001b[0m\u001b[1;33m,\u001b[0m \u001b[0menv_vars\u001b[0m\u001b[1;33m,\u001b[0m \u001b[0msearchpath\u001b[0m\u001b[1;33m,\u001b[0m \u001b[0mbinary_names\u001b[0m\u001b[1;33m,\u001b[0m \u001b[0murl\u001b[0m\u001b[1;33m,\u001b[0m \u001b[0mverbose\u001b[0m\u001b[1;33m\u001b[0m\u001b[1;33m\u001b[0m\u001b[0m\n\u001b[0m\u001b[0;32m    682\u001b[0m     ):\n",
      "\u001b[1;32m~\\anaconda3\\lib\\site-packages\\nltk\\internals.py\u001b[0m in \u001b[0;36mfind_file_iter\u001b[1;34m(filename, env_vars, searchpath, file_names, url, verbose, finding_dir)\u001b[0m\n\u001b[0;32m    638\u001b[0m         \u001b[0mdiv\u001b[0m \u001b[1;33m=\u001b[0m \u001b[1;34m'='\u001b[0m \u001b[1;33m*\u001b[0m \u001b[1;36m75\u001b[0m\u001b[1;33m\u001b[0m\u001b[1;33m\u001b[0m\u001b[0m\n\u001b[1;32m--> 639\u001b[1;33m         \u001b[1;32mraise\u001b[0m \u001b[0mLookupError\u001b[0m\u001b[1;33m(\u001b[0m\u001b[1;34m'\\n\\n%s\\n%s\\n%s'\u001b[0m \u001b[1;33m%\u001b[0m \u001b[1;33m(\u001b[0m\u001b[0mdiv\u001b[0m\u001b[1;33m,\u001b[0m \u001b[0mmsg\u001b[0m\u001b[1;33m,\u001b[0m \u001b[0mdiv\u001b[0m\u001b[1;33m)\u001b[0m\u001b[1;33m)\u001b[0m\u001b[1;33m\u001b[0m\u001b[1;33m\u001b[0m\u001b[0m\n\u001b[0m\u001b[0;32m    640\u001b[0m \u001b[1;33m\u001b[0m\u001b[0m\n",
      "\u001b[1;31mLookupError\u001b[0m: \n\n===========================================================================\nNLTK was unable to find the gs file!\nUse software specific configuration paramaters or set the PATH environment variable.\n===========================================================================",
      "\nDuring handling of the above exception, another exception occurred:\n",
      "\u001b[1;31mLookupError\u001b[0m                               Traceback (most recent call last)",
      "\u001b[1;32m~\\anaconda3\\lib\\site-packages\\IPython\\core\\formatters.py\u001b[0m in \u001b[0;36m__call__\u001b[1;34m(self, obj)\u001b[0m\n\u001b[0;32m    343\u001b[0m             \u001b[0mmethod\u001b[0m \u001b[1;33m=\u001b[0m \u001b[0mget_real_method\u001b[0m\u001b[1;33m(\u001b[0m\u001b[0mobj\u001b[0m\u001b[1;33m,\u001b[0m \u001b[0mself\u001b[0m\u001b[1;33m.\u001b[0m\u001b[0mprint_method\u001b[0m\u001b[1;33m)\u001b[0m\u001b[1;33m\u001b[0m\u001b[1;33m\u001b[0m\u001b[0m\n\u001b[0;32m    344\u001b[0m             \u001b[1;32mif\u001b[0m \u001b[0mmethod\u001b[0m \u001b[1;32mis\u001b[0m \u001b[1;32mnot\u001b[0m \u001b[1;32mNone\u001b[0m\u001b[1;33m:\u001b[0m\u001b[1;33m\u001b[0m\u001b[1;33m\u001b[0m\u001b[0m\n\u001b[1;32m--> 345\u001b[1;33m                 \u001b[1;32mreturn\u001b[0m \u001b[0mmethod\u001b[0m\u001b[1;33m(\u001b[0m\u001b[1;33m)\u001b[0m\u001b[1;33m\u001b[0m\u001b[1;33m\u001b[0m\u001b[0m\n\u001b[0m\u001b[0;32m    346\u001b[0m             \u001b[1;32mreturn\u001b[0m \u001b[1;32mNone\u001b[0m\u001b[1;33m\u001b[0m\u001b[1;33m\u001b[0m\u001b[0m\n\u001b[0;32m    347\u001b[0m         \u001b[1;32melse\u001b[0m\u001b[1;33m:\u001b[0m\u001b[1;33m\u001b[0m\u001b[1;33m\u001b[0m\u001b[0m\n",
      "\u001b[1;32m~\\anaconda3\\lib\\site-packages\\nltk\\tree.py\u001b[0m in \u001b[0;36m_repr_png_\u001b[1;34m(self)\u001b[0m\n\u001b[0;32m    817\u001b[0m                                         \"https://docs.brew.sh/Installation then `brew install ghostscript`\")                \n\u001b[0;32m    818\u001b[0m                 \u001b[0mprint\u001b[0m\u001b[1;33m(\u001b[0m\u001b[0mpre_error_message\u001b[0m\u001b[1;33m,\u001b[0m \u001b[0mfile\u001b[0m\u001b[1;33m=\u001b[0m\u001b[0msys\u001b[0m\u001b[1;33m.\u001b[0m\u001b[0mstderr\u001b[0m\u001b[1;33m)\u001b[0m\u001b[1;33m\u001b[0m\u001b[1;33m\u001b[0m\u001b[0m\n\u001b[1;32m--> 819\u001b[1;33m                 \u001b[1;32mraise\u001b[0m \u001b[0mLookupError\u001b[0m\u001b[1;33m\u001b[0m\u001b[1;33m\u001b[0m\u001b[0m\n\u001b[0m\u001b[0;32m    820\u001b[0m \u001b[1;33m\u001b[0m\u001b[0m\n\u001b[0;32m    821\u001b[0m             \u001b[1;32mwith\u001b[0m \u001b[0mopen\u001b[0m\u001b[1;33m(\u001b[0m\u001b[0mout_path\u001b[0m\u001b[1;33m,\u001b[0m \u001b[1;34m'rb'\u001b[0m\u001b[1;33m)\u001b[0m \u001b[1;32mas\u001b[0m \u001b[0msr\u001b[0m\u001b[1;33m:\u001b[0m\u001b[1;33m\u001b[0m\u001b[1;33m\u001b[0m\u001b[0m\n",
      "\u001b[1;31mLookupError\u001b[0m: "
     ]
    },
    {
     "data": {
      "text/plain": [
       "Tree('s', [('TV', 'Alpha'), ('테스트', 'Noun'), ('겸', 'Noun'), ('넷', 'Noun'), ('플릭스', 'Noun'), ('재생', 'Noun'), Tree('VP', [Tree('V', [('해봤는데', 'Verb')])]), ('액션', 'Noun'), ('신', 'Noun'), ('에서', 'Josa'), Tree('VP', [Tree('V', [('거슬리지', 'Verb')])]), Tree('VP', [Tree('V', [('않으면서', 'Verb')])]), ('적당히', 'Adjective'), ('심장', 'Noun'), ('에', 'Josa'), ('쿵쿵', 'Adverb'), ('울림', 'Noun'), ('을', 'Josa'), Tree('VP', [Tree('V', [('주는', 'Verb')])]), ('소리', 'Noun'), ('가', 'Josa'), Tree('VP', [Tree('V', [('나옵니다', 'Verb')])]), ('.', 'Punctuation'), ('5', 'Number'), ('.', 'Punctuation')])"
      ]
     },
     "execution_count": 202,
     "metadata": {},
     "output_type": "execute_result"
    }
   ],
   "source": [
    "tree"
   ]
  },
  {
   "cell_type": "code",
   "execution_count": null,
   "metadata": {},
   "outputs": [],
   "source": []
  },
  {
   "cell_type": "code",
   "execution_count": null,
   "metadata": {},
   "outputs": [],
   "source": []
  },
  {
   "cell_type": "code",
   "execution_count": null,
   "metadata": {},
   "outputs": [],
   "source": []
  },
  {
   "cell_type": "code",
   "execution_count": null,
   "metadata": {},
   "outputs": [],
   "source": []
  },
  {
   "cell_type": "code",
   "execution_count": null,
   "metadata": {},
   "outputs": [],
   "source": []
  },
  {
   "cell_type": "markdown",
   "metadata": {},
   "source": [
    "### 저장해보기"
   ]
  },
  {
   "cell_type": "code",
   "execution_count": 152,
   "metadata": {},
   "outputs": [],
   "source": [
    "cf = CanvasFrame()\n",
    "tc = TreeWidget(cf.canvas(),tree)\n",
    "cf.add_widget(tc,10,10) # (10,10) offsets\n",
    "cf.print_to_file('tree_1.ps')"
   ]
  },
  {
   "cell_type": "code",
   "execution_count": 151,
   "metadata": {},
   "outputs": [
    {
     "data": {
      "text/plain": [
       "4"
      ]
     },
     "execution_count": 151,
     "metadata": {},
     "output_type": "execute_result"
    }
   ],
   "source": [
    "os.system('convert output.ps output.png')"
   ]
  },
  {
   "cell_type": "code",
   "execution_count": 154,
   "metadata": {},
   "outputs": [
    {
     "data": {
      "text/plain": [
       "<nltk.draw.util.CanvasFrame at 0x18a0e601f08>"
      ]
     },
     "execution_count": 154,
     "metadata": {},
     "output_type": "execute_result"
    }
   ],
   "source": [
    "cf"
   ]
  },
  {
   "cell_type": "code",
   "execution_count": 155,
   "metadata": {},
   "outputs": [
    {
     "ename": "AttributeError",
     "evalue": "'CanvasFrame' object has no attribute 'draw'",
     "output_type": "error",
     "traceback": [
      "\u001b[1;31m---------------------------------------------------------------------------\u001b[0m",
      "\u001b[1;31mAttributeError\u001b[0m                            Traceback (most recent call last)",
      "\u001b[1;32m<ipython-input-155-cff01dc37e43>\u001b[0m in \u001b[0;36m<module>\u001b[1;34m\u001b[0m\n\u001b[1;32m----> 1\u001b[1;33m \u001b[0mcf\u001b[0m\u001b[1;33m.\u001b[0m\u001b[0mdraw\u001b[0m\u001b[1;33m(\u001b[0m\u001b[1;33m)\u001b[0m\u001b[1;33m\u001b[0m\u001b[1;33m\u001b[0m\u001b[0m\n\u001b[0m",
      "\u001b[1;31mAttributeError\u001b[0m: 'CanvasFrame' object has no attribute 'draw'"
     ]
    }
   ],
   "source": [
    "cf.draw()"
   ]
  },
  {
   "cell_type": "code",
   "execution_count": 177,
   "metadata": {},
   "outputs": [],
   "source": [
    "tree.draw()"
   ]
  },
  {
   "cell_type": "code",
   "execution_count": 170,
   "metadata": {},
   "outputs": [],
   "source": [
    "TreeView(tree)._cframe.print_to_file(r'C:\\Users\\Samsung\\Desktop\\all\\img\\7\\output_4.ps')"
   ]
  },
  {
   "cell_type": "code",
   "execution_count": 159,
   "metadata": {},
   "outputs": [
    {
     "data": {
      "text/plain": [
       "<module 'ntpath' from 'C:\\\\Users\\\\Samsung\\\\anaconda3\\\\lib\\\\ntpath.py'>"
      ]
     },
     "execution_count": 159,
     "metadata": {},
     "output_type": "execute_result"
    }
   ],
   "source": [
    "os.path"
   ]
  },
  {
   "cell_type": "code",
   "execution_count": 167,
   "metadata": {},
   "outputs": [],
   "source": [
    "a= tree.draw()"
   ]
  },
  {
   "cell_type": "code",
   "execution_count": 172,
   "metadata": {
    "scrolled": true
   },
   "outputs": [],
   "source": [
    "#export_png(a, filename=r'C:\\Users\\Samsung\\Desktop\\all\\img\\7\\output_2.png')"
   ]
  },
  {
   "cell_type": "code",
   "execution_count": null,
   "metadata": {},
   "outputs": [],
   "source": []
  },
  {
   "cell_type": "code",
   "execution_count": null,
   "metadata": {},
   "outputs": [],
   "source": []
  },
  {
   "cell_type": "code",
   "execution_count": 176,
   "metadata": {},
   "outputs": [],
   "source": [
    "TreeView(tree)._cframe.print_to_file(r'C:\\Users\\Samsung\\Desktop\\Project\\이희정 교수님\\project\\parse_tree\\test\\output_5.jpg')"
   ]
  },
  {
   "cell_type": "code",
   "execution_count": 175,
   "metadata": {},
   "outputs": [],
   "source": [
    "def file_converter(file):\n",
    "    os.system(\"file_converter.py {0} > {1}\".format(file, file.replace(\".ps\", \".jpg\")))\n",
    "\n",
    "base_dir = r\"C:\\Users\\Samsung\\Desktop\\Project\\이희정 교수님\\project\\parse_tree\\test\"\n",
    "\n",
    "for file in os.listdir(base_dir):\n",
    "    threading.Thread(target=file_converter, args=(file,)).start()"
   ]
  },
  {
   "cell_type": "code",
   "execution_count": 162,
   "metadata": {},
   "outputs": [],
   "source": []
  },
  {
   "cell_type": "code",
   "execution_count": null,
   "metadata": {},
   "outputs": [],
   "source": []
  },
  {
   "cell_type": "code",
   "execution_count": null,
   "metadata": {},
   "outputs": [],
   "source": []
  },
  {
   "cell_type": "code",
   "execution_count": null,
   "metadata": {},
   "outputs": [],
   "source": []
  },
  {
   "cell_type": "code",
   "execution_count": null,
   "metadata": {},
   "outputs": [],
   "source": []
  }
 ],
 "metadata": {
  "kernelspec": {
   "display_name": "Python 3",
   "language": "python",
   "name": "python3"
  },
  "language_info": {
   "codemirror_mode": {
    "name": "ipython",
    "version": 3
   },
   "file_extension": ".py",
   "mimetype": "text/x-python",
   "name": "python",
   "nbconvert_exporter": "python",
   "pygments_lexer": "ipython3",
   "version": "3.7.6"
  }
 },
 "nbformat": 4,
 "nbformat_minor": 4
}
