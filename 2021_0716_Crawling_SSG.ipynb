{
 "cells": [
  {
   "cell_type": "code",
   "execution_count": 1,
   "metadata": {},
   "outputs": [],
   "source": [
    "import numpy as np\n",
    "import pandas as pd\n",
    "import requests \n",
    "from bs4 import BeautifulSoup\n",
    "from fake_useragent import UserAgent\n",
    "\n",
    "from urllib.request import urlopen\n",
    "import urllib\n",
    "\n",
    "#from tqdm import tqdm\n",
    "\n",
    "from selenium import webdriver\n",
    "import openpyxl\n",
    "import time\n",
    "import math\n",
    "from collections import Counter\n",
    "\n",
    "import re\n",
    "import json\n",
    "\n",
    "from tqdm.notebook import tqdm"
   ]
  },
  {
   "cell_type": "code",
   "execution_count": 2,
   "metadata": {},
   "outputs": [],
   "source": [
    "def url_split(url):\n",
    "    main_,para_1 = url.split(\"?\")\n",
    "    para_2 = para_1.split(\"&\")\n",
    "    para_3 = [d.replace(\"=\",\":\").split(\":\") for d in para_2]\n",
    "    params_ = {}\n",
    "    for key,value in para_3:\n",
    "        params_[key] = value\n",
    "    return main_,params_"
   ]
  },
  {
   "cell_type": "code",
   "execution_count": 3,
   "metadata": {},
   "outputs": [],
   "source": [
    "ua = UserAgent()"
   ]
  },
  {
   "cell_type": "markdown",
   "metadata": {},
   "source": [
    "# Main page "
   ]
  },
  {
   "cell_type": "code",
   "execution_count": 4,
   "metadata": {},
   "outputs": [],
   "source": [
    "def Main_page_SSG(Key_,Page_):\n",
    "    ua = UserAgent()\n",
    "    header = {'User-Agent':ua.chrome,\n",
    "              \"referer\":\"http://www.ssg.com/\"}\n",
    "    page_ = Page_\n",
    "    key_ = Key_\n",
    "\n",
    "    url = \"http://www.ssg.com/search.ssg?target=all&query={}&sort=cnt&page={}\".format(key_,page_)\n",
    "    html = requests.get(url.format(key_),headers=header).text\n",
    "    soup = BeautifulSoup(html,\"html.parser\")\n",
    "    url_base_ = \"http://www.ssg.com\"\n",
    "    name_head,url_head,reveiw_count_1 = [],[],[]\n",
    "    for tag in soup.select(\"li\"):\n",
    "        try:\n",
    "            name_head.append(tag.find(\"div\",class_=\"cunit_info\").find(\"div\",class_=\"cunit_md notranslate\").find(\"a\").find(\"em\",class_=\"tx_ko\").text)\n",
    "            url_head.append(tag.find(\"div\",class_=\"cunit_info\").find(\"div\",class_=\"cunit_md notranslate\").find(\"a\")[\"href\"])\n",
    "            reveiw_count_1.append(int(tag.find(\"div\",class_=\"cunit_app\").find(\"span\",class_=\"rate_tx\").find(\"em\").text.replace(\",\",\"\")))\n",
    "    \n",
    "        except:\n",
    "            pass\n",
    "    Head_df = pd.DataFrame([name_head,reveiw_count_1,url_head]).T.rename(columns={0:\"Name\",1:\"Review_count\",2:\"Url\"})\n",
    "    return Head_df"
   ]
  },
  {
   "cell_type": "code",
   "execution_count": 5,
   "metadata": {},
   "outputs": [],
   "source": [
    "def Main_page_concat(Total_p,Key_):\n",
    "    tq = tqdm(range(Total_p))\n",
    "    head_all = pd.DataFrame()\n",
    "    for tp in tq:\n",
    "        pa_ = tp + 1\n",
    "        candi_head =  Main_page_SSG(Key_,pa_)\n",
    "        head_all = pd.concat([head_all,candi_head]).reset_index(drop=True)\n",
    "    return head_all"
   ]
  },
  {
   "cell_type": "code",
   "execution_count": 6,
   "metadata": {},
   "outputs": [
    {
     "data": {
      "application/vnd.jupyter.widget-view+json": {
       "model_id": "27194e3c350747f09c46ebeb8a9d60b1",
       "version_major": 2,
       "version_minor": 0
      },
      "text/plain": [
       "  0%|          | 0/3 [00:00<?, ?it/s]"
      ]
     },
     "metadata": {},
     "output_type": "display_data"
    },
    {
     "data": {
      "text/html": [
       "<div>\n",
       "<style scoped>\n",
       "    .dataframe tbody tr th:only-of-type {\n",
       "        vertical-align: middle;\n",
       "    }\n",
       "\n",
       "    .dataframe tbody tr th {\n",
       "        vertical-align: top;\n",
       "    }\n",
       "\n",
       "    .dataframe thead th {\n",
       "        text-align: right;\n",
       "    }\n",
       "</style>\n",
       "<table border=\"1\" class=\"dataframe\">\n",
       "  <thead>\n",
       "    <tr style=\"text-align: right;\">\n",
       "      <th></th>\n",
       "      <th>Name</th>\n",
       "      <th>Review_count</th>\n",
       "      <th>Url</th>\n",
       "    </tr>\n",
       "  </thead>\n",
       "  <tbody>\n",
       "    <tr>\n",
       "      <th>0</th>\n",
       "      <td>플라 이지랩 자동 봉고데기 및 드라이기, 고데기, 두피케어~HIT 헤어스타일러 제안</td>\n",
       "      <td>3339</td>\n",
       "      <td>/item/dealItemView.ssg?itemId=1000065874177&amp;si...</td>\n",
       "    </tr>\n",
       "    <tr>\n",
       "      <th>1</th>\n",
       "      <td>★[브랜드위크 20% 쿠폰] JMW 항공모터 드라이기/고데기 특가</td>\n",
       "      <td>2690</td>\n",
       "      <td>/item/dealItemView.ssg?itemId=1000039917682&amp;si...</td>\n",
       "    </tr>\n",
       "    <tr>\n",
       "      <th>2</th>\n",
       "      <td>★[브랜드위크 20% 쿠폰] JMW 프리미엄 항공모터 드라이기/고데기 특가</td>\n",
       "      <td>2690</td>\n",
       "      <td>/item/dealItemView.ssg?itemId=1000036476134&amp;si...</td>\n",
       "    </tr>\n",
       "    <tr>\n",
       "      <th>3</th>\n",
       "      <td>다이슨코리아 신제품 슈퍼소닉/에어랩 갓스타일의 완성</td>\n",
       "      <td>1544</td>\n",
       "      <td>/item/dealItemView.ssg?itemId=1000040673169&amp;si...</td>\n",
       "    </tr>\n",
       "    <tr>\n",
       "      <th>4</th>\n",
       "      <td>★15%쿠폰할인BLDC항공모터드라이기&amp;고데기모음전</td>\n",
       "      <td>1359</td>\n",
       "      <td>/item/dealItemView.ssg?itemId=1000039492458&amp;si...</td>\n",
       "    </tr>\n",
       "    <tr>\n",
       "      <th>...</th>\n",
       "      <td>...</td>\n",
       "      <td>...</td>\n",
       "      <td>...</td>\n",
       "    </tr>\n",
       "    <tr>\n",
       "      <th>235</th>\n",
       "      <td>D590PK - 1600W 접이식 레트로 프로페셔널 음이온 헤어 드라이기 [벽걸이용...</td>\n",
       "      <td>None</td>\n",
       "      <td>/item/itemView.ssg?itemId=1000010770411&amp;siteNo...</td>\n",
       "    </tr>\n",
       "    <tr>\n",
       "      <th>236</th>\n",
       "      <td>5224K - 1700W 코드키퍼 헤어 드라이기</td>\n",
       "      <td>None</td>\n",
       "      <td>/item/itemView.ssg?itemId=0000010701502&amp;siteNo...</td>\n",
       "    </tr>\n",
       "    <tr>\n",
       "      <th>237</th>\n",
       "      <td>어느 공간에서도 예쁘게~ 컬러 맛집! 레이트 접이식 드라이기 F600 모음전</td>\n",
       "      <td>None</td>\n",
       "      <td>/item/dealItemView.ssg?itemId=1000063156160&amp;si...</td>\n",
       "    </tr>\n",
       "    <tr>\n",
       "      <th>238</th>\n",
       "      <td>[S머니 적립] 오아 이지고데기 뿌리 볼륨 앞머리 헤어 웨이브 판 고데기</td>\n",
       "      <td>None</td>\n",
       "      <td>/item/itemView.ssg?itemId=1000054230181&amp;siteNo...</td>\n",
       "    </tr>\n",
       "    <tr>\n",
       "      <th>239</th>\n",
       "      <td>4YOU 다이슨 슈퍼소닉 헤어 드라이기 드라이어 실리콘 커버 케이스 스크래치방지</td>\n",
       "      <td>None</td>\n",
       "      <td>/item/itemView.ssg?itemId=1000051519309&amp;siteNo...</td>\n",
       "    </tr>\n",
       "  </tbody>\n",
       "</table>\n",
       "<p>240 rows × 3 columns</p>\n",
       "</div>"
      ],
      "text/plain": [
       "                                                  Name Review_count  \\\n",
       "0       플라 이지랩 자동 봉고데기 및 드라이기, 고데기, 두피케어~HIT 헤어스타일러 제안         3339   \n",
       "1                 ★[브랜드위크 20% 쿠폰] JMW 항공모터 드라이기/고데기 특가         2690   \n",
       "2            ★[브랜드위크 20% 쿠폰] JMW 프리미엄 항공모터 드라이기/고데기 특가         2690   \n",
       "3                         다이슨코리아 신제품 슈퍼소닉/에어랩 갓스타일의 완성         1544   \n",
       "4                          ★15%쿠폰할인BLDC항공모터드라이기&고데기모음전         1359   \n",
       "..                                                 ...          ...   \n",
       "235  D590PK - 1600W 접이식 레트로 프로페셔널 음이온 헤어 드라이기 [벽걸이용...         None   \n",
       "236                         5224K - 1700W 코드키퍼 헤어 드라이기         None   \n",
       "237         어느 공간에서도 예쁘게~ 컬러 맛집! 레이트 접이식 드라이기 F600 모음전         None   \n",
       "238           [S머니 적립] 오아 이지고데기 뿌리 볼륨 앞머리 헤어 웨이브 판 고데기         None   \n",
       "239       4YOU 다이슨 슈퍼소닉 헤어 드라이기 드라이어 실리콘 커버 케이스 스크래치방지         None   \n",
       "\n",
       "                                                   Url  \n",
       "0    /item/dealItemView.ssg?itemId=1000065874177&si...  \n",
       "1    /item/dealItemView.ssg?itemId=1000039917682&si...  \n",
       "2    /item/dealItemView.ssg?itemId=1000036476134&si...  \n",
       "3    /item/dealItemView.ssg?itemId=1000040673169&si...  \n",
       "4    /item/dealItemView.ssg?itemId=1000039492458&si...  \n",
       "..                                                 ...  \n",
       "235  /item/itemView.ssg?itemId=1000010770411&siteNo...  \n",
       "236  /item/itemView.ssg?itemId=0000010701502&siteNo...  \n",
       "237  /item/dealItemView.ssg?itemId=1000063156160&si...  \n",
       "238  /item/itemView.ssg?itemId=1000054230181&siteNo...  \n",
       "239  /item/itemView.ssg?itemId=1000051519309&siteNo...  \n",
       "\n",
       "[240 rows x 3 columns]"
      ]
     },
     "execution_count": 6,
     "metadata": {},
     "output_type": "execute_result"
    }
   ],
   "source": [
    "head_df = Main_page_concat(3,\"헤어드라이기\")\n",
    "head_df"
   ]
  },
  {
   "cell_type": "markdown",
   "metadata": {},
   "source": [
    "# Review_page"
   ]
  },
  {
   "cell_type": "code",
   "execution_count": 31,
   "metadata": {},
   "outputs": [],
   "source": [
    "def Review_URL(head_df,target_row):\n",
    "    \"\"\"\n",
    "    head_df = main page information\n",
    "    target_row = head_df's target product\n",
    "    page_2 = target product's review pages\n",
    "    \"\"\"\n",
    "    url_base_ = 'http://www.ssg.com'\n",
    "    Target_name = head_df[\"Name\"][target_row]\n",
    "    target_url = head_df[\"Url\"][target_row]#.encode('utf-8')\n",
    "    Target_max_p = head_df[\"Review_count\"][target_row]\n",
    "\n",
    "    ## Request HTML\n",
    "    header = {'User-Agent':ua.chrome,\n",
    "              \"referer\":\"http://www.ssg.com/\"}\n",
    "\n",
    "    html = requests.get(url_base_ + target_url,headers=header).text\n",
    "    soup = BeautifulSoup(html,\"html.parser\")\n",
    "\n",
    "    ## Review_page Params data\n",
    "\n",
    "    actu_num = 0\n",
    "    for tag in soup.select(\".chd_lst_choice \"):\n",
    "        try:\n",
    "            actu_num = tag.find(\"li\",class_=\"item\")[\"data-deal-option\"]\n",
    "        except:\n",
    "            pass\n",
    "\n",
    "    dic_ = {}\n",
    "    for m in [i.split(\"=\") for i in target_url.split(\"?\")[1].split(\"&\")]:\n",
    "        dic_[m[0]] = m[1]\n",
    "    dic_[\"itemId\"] = actu_num\n",
    "\n",
    "    ## Review_page Request\n",
    "\n",
    "    url_re_base = \"http://www.ssg.com/item/ajaxItemCommentList.ssg?itemId={}&siteNo={}&page={}&pageSize={}\"\n",
    "    item_id = dic_[\"itemId\"]\n",
    "    site_no = dic_[\"siteNo\"]\n",
    "    page_sz = 20\n",
    "    Url_review = url_re_base.format(item_id,site_no,\"{}\",page_sz)\n",
    "    return Url_review,Target_name,Target_max_p"
   ]
  },
  {
   "cell_type": "code",
   "execution_count": null,
   "metadata": {},
   "outputs": [],
   "source": []
  },
  {
   "cell_type": "code",
   "execution_count": 32,
   "metadata": {},
   "outputs": [
    {
     "data": {
      "text/plain": [
       "'http://www.ssg.com/item/ajaxItemCommentList.ssg?itemId=1000031479690&siteNo=6004&page={}&pageSize=20'"
      ]
     },
     "execution_count": 32,
     "metadata": {},
     "output_type": "execute_result"
    }
   ],
   "source": [
    "url_review,target_name,max_page = Review_URL(head_df,1)\n",
    "url_review"
   ]
  },
  {
   "cell_type": "code",
   "execution_count": 33,
   "metadata": {},
   "outputs": [
    {
     "data": {
      "text/plain": [
       "'★[브랜드위크 20% 쿠폰] JMW 항공모터 드라이기/고데기 특가'"
      ]
     },
     "execution_count": 33,
     "metadata": {},
     "output_type": "execute_result"
    }
   ],
   "source": [
    "target_name"
   ]
  },
  {
   "cell_type": "code",
   "execution_count": 34,
   "metadata": {},
   "outputs": [
    {
     "data": {
      "text/plain": [
       "269"
      ]
     },
     "execution_count": 34,
     "metadata": {},
     "output_type": "execute_result"
    }
   ],
   "source": [
    "max_page//10"
   ]
  },
  {
   "cell_type": "code",
   "execution_count": 35,
   "metadata": {},
   "outputs": [
    {
     "data": {
      "text/plain": [
       "'http://www.ssg.com/item/ajaxItemCommentList.ssg?itemId=1000031479690&siteNo=6004&page={}&pageSize=20'"
      ]
     },
     "execution_count": 35,
     "metadata": {},
     "output_type": "execute_result"
    }
   ],
   "source": [
    "url_review"
   ]
  },
  {
   "cell_type": "code",
   "execution_count": 36,
   "metadata": {},
   "outputs": [],
   "source": [
    "def Review_page_ex(url_review,target_name):\n",
    "    header = {'User-Agent':ua.chrome,\n",
    "              \"referer\":\"http://www.ssg.com/\"}\n",
    "\n",
    "    html = requests.get(url_review,headers=header).text\n",
    "    review_n = len(json.loads(html)[\"pageDto\"][\"resultList\"])\n",
    "    review_1 = json.loads(html)[\"pageDto\"][\"resultList\"]\n",
    "    display(html)\n",
    "    data_all = []\n",
    "    for re_i in range(len(json.loads(html)[\"pageDto\"][\"resultList\"])):\n",
    "        date_ = json.loads(html)[\"pageDto\"][\"resultList\"][re_i][\"wrtDt\"]\n",
    "        id_ = json.loads(html)[\"pageDto\"][\"resultList\"][re_i][\"mbrLoginId\"]\n",
    "        item_ = target_name\n",
    "        score_ = json.loads(html)[\"pageDto\"][\"resultList\"][re_i][\"recomEvalScr\"]\n",
    "        contents_ = json.loads(html)[\"pageDto\"][\"resultList\"][re_i][\"postngTitleNm\"]\n",
    "        liked_ = \"\"\n",
    "        channel_ = \"SSG\"\n",
    "        all_ = [date_,id_,item_,score_,contents_,liked_,channel_]\n",
    "        data_all.append(all_)\n",
    "    df_ = pd.DataFrame(data_all).rename(columns={0:\"date\",1:\"id\",2:\"item\",3:\"score\",4:\"contents\",5:\"liked\",6:\"channel\"})\n",
    "    return df_"
   ]
  },
  {
   "cell_type": "code",
   "execution_count": 37,
   "metadata": {},
   "outputs": [
    {
     "data": {
      "text/plain": [
       "'{\"bbsId\":null,\"postngId\":null,\"postngTitleNm\":\"\",\"wrtDt\":null,\"wrtHms\":null,\"ansstYn\":null,\"bbsTypeCd\":null,\"postngCnttTypeCd\":null,\"postngTgtNo\":null,\"wrtpeDivCd\":null,\"wrtpeIdnfNo\":null,\"postngClsCd\":null,\"postngStatCd\":null,\"postngBrwsCnt\":null,\"postngRcmdCnt\":null,\"adminRcmdCnt\":null,\"bestPrioyRankg\":null,\"dispDisabRsnCd\":null,\"dispDisabRsnDtlCntt\":null,\"dispStatChngDts\":null,\"dispStatChngUserId\":null,\"itemId\":null,\"resMdUserId\":null,\"splVenId\":null,\"siteNo\":null,\"infloSiteNo\":null,\"dvicDivCd\":null,\"ansstPostngId\":null,\"postStrtDt\":null,\"postStrtHms\":null,\"postEndDt\":null,\"postEndHms\":null,\"upmostPostngYn\":null,\"rcvGrpApnmtYn\":null,\"postngProcStatCd\":null,\"imgBeingYn\":null,\"vodBeingYn\":null,\"newrtgMarkDcnt\":null,\"dispCtgId\":null,\"ordNo\":null,\"ordItemSeq\":null,\"uitemId\":null,\"inqSalestrNo\":null,\"recomEvalScr\":null,\"recomAssiScr\":null,\"spclzSuvyCnt\":null,\"purchYn\":null,\"offerPayYn\":null,\"ansWordTypeCd\":null,\"sortOrdr\":null,\"fixSortOrdr\":null,\"regpeId\":null,\"regDts\":null,\"modpeId\":null,\"modDts\":null,\"chnlId\":null,\"promId\":null,\"mbrMktgTgtTypeCd\":null,\"recomEpndExpsrYn\":null,\"premRecomNevntId\":null,\"addRsvRecomNevntId\":null,\"mapKey\":null,\"rowNo\":null,\"postngCntt\":\"\",\"replyCntt\":\"\",\"salestrNm\":null,\"dispSiteNo\":null,\"postngImg\":null,\"totalRecomAssiScr\":null,\"totalPostngRcmdCnt\":null,\"totalCnt\":0,\"recomEvalQlt\":null,\"recomEvalPrc\":null,\"recomEvalPkg\":null,\"recomEvalShppdt\":null,\"recomEvalShppknd\":null,\"recomEvalAvg\":null,\"imgSeq\":null,\"commImgRegCnt\":null,\"imgPathNm\":null,\"imgFileNm\":null,\"vodUniqIdnfId\":null,\"thmnlImgPathNm\":null,\"vodUrl\":null,\"uitemNm\":\"\",\"uitemNmList\":null,\"tlYn\":null,\"premYn\":null,\"itemSellTypeCd\":null,\"itemPatnNmList\":null,\"itemCmPageIdx\":0,\"resCntt\":null,\"resDt\":null,\"myListYn\":null,\"qnaDetailYn\":null,\"modBtnYn\":null,\"optionYn\":null,\"rightBadgeCd\":null,\"email\":null,\"resMdUserNm\":null,\"dualzSiteNo\":null,\"postngClsCdNm\":null,\"metaInfo\":null,\"personalAttrNm\":null,\"recomAttrGrpList\":null,\"tagList\":null,\"recomAttrGrpId\":null,\"recomAttrId\":null,\"repItemId\":null,\"recomAttrNms\":null,\"oreItemId\":null,\"oreItemReviewYn\":null,\"itemRegDivCd\":null,\"itemViewUrl\":null,\"postngEvalScr\":null,\"imgPathNmList\":null,\"vodList\":null,\"personAttrGrpList\":null,\"userRegAttrList\":null,\"strRegDts\":null,\"strModDts\":null,\"postngImgCnt\":null,\"postngVodCnt\":null,\"mbrId\":null,\"imgBeingCnt\":0,\"vodBeingCnt\":0,\"recomExpsrYn\":null,\"totalAnsstCnt\":null,\"outMbrAnsstCnt\":null,\"inMbrAnsstCnt\":null,\"noAnsstCnt\":null,\"mbrLoginId\":null,\"postngReplyCnt\":null,\"emailReplyYn\":null,\"emailAddr\":null,\"replySeq\":null,\"itemNm\":null,\"regMode\":null,\"nlistCnt\":null,\"sortCol\":\"05\",\"filterCol\":null,\"mbrGrdId\":null,\"genderAge\":null,\"pageDto\":{\"resultList\":[],\"curPage\":1,\"pageSize\":10,\"totalCount\":0,\"pageNaviSize\":10,\"hasNext\":false,\"totalPage\":1,\"startPage\":1,\"endPage\":1,\"prevNaviLastPage\":1,\"nextNaviFirstPage\":1},\"itemPostngImgDtoList\":null,\"milgDtlRsnCd\":null,\"milgAmt\":null,\"milgDivNo\":null,\"ssgmyAprvNo\":null,\"ssgmyAprvDt\":null,\"milgKindCd\":null,\"milgRsnCd\":null,\"milgBasisIdnfNo1\":null,\"milgBasisIdnfNo2\":null,\"milgBasisIdnfNo3\":null,\"rcvpeTelno\":null,\"smsRcvYn\":null,\"pushYn\":null,\"reqFromDealYn\":\"N\",\"itemNotiDemndSeq\":null,\"dataForCompare\":\"∵∵postngId:null∵∵uitemNm:∵∵wrtDt:null∵∵postngClsCd:null∵∵postngClsCdNm:null∵∵postngCntt:∵∵itemId:null∵∵itemNm:null∵∵siteNo:null∵∵recomEvalScr:null∵∵mbrLoginId:null∵∵personalAttrNm:null∵∵imgPathNm:null∵∵vodUrl:null∵∵vodUniqIdnfId:null∵∵thmnlImgPathNm:null∵∵postngImgCnt:0∵∵postngVodCnt:0∵∵premYn:N\",\"startRownum\":0,\"endRownum\":0,\"totalRecordCount\":0,\"page\":1,\"pageSize\":10,\"affectedCount\":0}'"
      ]
     },
     "metadata": {},
     "output_type": "display_data"
    },
    {
     "data": {
      "text/html": [
       "<div>\n",
       "<style scoped>\n",
       "    .dataframe tbody tr th:only-of-type {\n",
       "        vertical-align: middle;\n",
       "    }\n",
       "\n",
       "    .dataframe tbody tr th {\n",
       "        vertical-align: top;\n",
       "    }\n",
       "\n",
       "    .dataframe thead th {\n",
       "        text-align: right;\n",
       "    }\n",
       "</style>\n",
       "<table border=\"1\" class=\"dataframe\">\n",
       "  <thead>\n",
       "    <tr style=\"text-align: right;\">\n",
       "      <th></th>\n",
       "    </tr>\n",
       "  </thead>\n",
       "  <tbody>\n",
       "  </tbody>\n",
       "</table>\n",
       "</div>"
      ],
      "text/plain": [
       "Empty DataFrame\n",
       "Columns: []\n",
       "Index: []"
      ]
     },
     "execution_count": 37,
     "metadata": {},
     "output_type": "execute_result"
    }
   ],
   "source": [
    "ur_ = 'http://www.ssg.com/item/ajaxItemCommentList.ssg?itemId=1000102149612&siteNo=6004&page=1&pageSize=20'\n",
    "tn_ = '플라 이지랩 자동 봉고데기 및 드라이기, 고데기, 두피케어~HIT 헤어스타일러 제안'\n",
    "Review_page_ex(ur_,tn_)"
   ]
  },
  {
   "cell_type": "code",
   "execution_count": 19,
   "metadata": {},
   "outputs": [],
   "source": [
    "def Crawling_SSG_all(head_df,TA_):\n",
    "    Url_review,target_name,max_page = Review_URL(head_df,TA_)\n",
    "    MaxPage = max_page//10\n",
    "    tq = tqdm(range(MaxPage))\n",
    "\n",
    "    review_all = pd.DataFrame()\n",
    "\n",
    "    for mp in tq:\n",
    "        url_review =Url_review.format(mp+1)\n",
    "        \n",
    "        review_candi = Review_page_ex(url_review,target_name)\n",
    "        display(url_review)\n",
    "        display(target_name)\n",
    "        display(review_candi)\n",
    "        review_all = pd.concat([review_all,review_candi]).reset_index(drop=True)\n",
    "        \n",
    "    return review_all,target_name"
   ]
  },
  {
   "cell_type": "code",
   "execution_count": 20,
   "metadata": {
    "scrolled": true
   },
   "outputs": [
    {
     "data": {
      "application/vnd.jupyter.widget-view+json": {
       "model_id": "923760ffaeea4fdcb8837f496d300d13",
       "version_major": 2,
       "version_minor": 0
      },
      "text/plain": [
       "  0%|          | 0/333 [00:00<?, ?it/s]"
      ]
     },
     "metadata": {},
     "output_type": "display_data"
    },
    {
     "data": {
      "text/plain": [
       "'http://www.ssg.com/item/ajaxItemCommentList.ssg?itemId=1000102149612&siteNo=6004&page=1&pageSize=20'"
      ]
     },
     "metadata": {},
     "output_type": "display_data"
    },
    {
     "data": {
      "text/plain": [
       "'플라 이지랩 자동 봉고데기 및 드라이기, 고데기, 두피케어~HIT 헤어스타일러 제안'"
      ]
     },
     "metadata": {},
     "output_type": "display_data"
    },
    {
     "data": {
      "text/html": [
       "<div>\n",
       "<style scoped>\n",
       "    .dataframe tbody tr th:only-of-type {\n",
       "        vertical-align: middle;\n",
       "    }\n",
       "\n",
       "    .dataframe tbody tr th {\n",
       "        vertical-align: top;\n",
       "    }\n",
       "\n",
       "    .dataframe thead th {\n",
       "        text-align: right;\n",
       "    }\n",
       "</style>\n",
       "<table border=\"1\" class=\"dataframe\">\n",
       "  <thead>\n",
       "    <tr style=\"text-align: right;\">\n",
       "      <th></th>\n",
       "    </tr>\n",
       "  </thead>\n",
       "  <tbody>\n",
       "  </tbody>\n",
       "</table>\n",
       "</div>"
      ],
      "text/plain": [
       "Empty DataFrame\n",
       "Columns: []\n",
       "Index: []"
      ]
     },
     "metadata": {},
     "output_type": "display_data"
    },
    {
     "data": {
      "text/plain": [
       "'http://www.ssg.com/item/ajaxItemCommentList.ssg?itemId=1000102149612&siteNo=6004&page=2&pageSize=20'"
      ]
     },
     "metadata": {},
     "output_type": "display_data"
    },
    {
     "data": {
      "text/plain": [
       "'플라 이지랩 자동 봉고데기 및 드라이기, 고데기, 두피케어~HIT 헤어스타일러 제안'"
      ]
     },
     "metadata": {},
     "output_type": "display_data"
    },
    {
     "data": {
      "text/html": [
       "<div>\n",
       "<style scoped>\n",
       "    .dataframe tbody tr th:only-of-type {\n",
       "        vertical-align: middle;\n",
       "    }\n",
       "\n",
       "    .dataframe tbody tr th {\n",
       "        vertical-align: top;\n",
       "    }\n",
       "\n",
       "    .dataframe thead th {\n",
       "        text-align: right;\n",
       "    }\n",
       "</style>\n",
       "<table border=\"1\" class=\"dataframe\">\n",
       "  <thead>\n",
       "    <tr style=\"text-align: right;\">\n",
       "      <th></th>\n",
       "    </tr>\n",
       "  </thead>\n",
       "  <tbody>\n",
       "  </tbody>\n",
       "</table>\n",
       "</div>"
      ],
      "text/plain": [
       "Empty DataFrame\n",
       "Columns: []\n",
       "Index: []"
      ]
     },
     "metadata": {},
     "output_type": "display_data"
    },
    {
     "data": {
      "text/plain": [
       "'http://www.ssg.com/item/ajaxItemCommentList.ssg?itemId=1000102149612&siteNo=6004&page=3&pageSize=20'"
      ]
     },
     "metadata": {},
     "output_type": "display_data"
    },
    {
     "data": {
      "text/plain": [
       "'플라 이지랩 자동 봉고데기 및 드라이기, 고데기, 두피케어~HIT 헤어스타일러 제안'"
      ]
     },
     "metadata": {},
     "output_type": "display_data"
    },
    {
     "data": {
      "text/html": [
       "<div>\n",
       "<style scoped>\n",
       "    .dataframe tbody tr th:only-of-type {\n",
       "        vertical-align: middle;\n",
       "    }\n",
       "\n",
       "    .dataframe tbody tr th {\n",
       "        vertical-align: top;\n",
       "    }\n",
       "\n",
       "    .dataframe thead th {\n",
       "        text-align: right;\n",
       "    }\n",
       "</style>\n",
       "<table border=\"1\" class=\"dataframe\">\n",
       "  <thead>\n",
       "    <tr style=\"text-align: right;\">\n",
       "      <th></th>\n",
       "    </tr>\n",
       "  </thead>\n",
       "  <tbody>\n",
       "  </tbody>\n",
       "</table>\n",
       "</div>"
      ],
      "text/plain": [
       "Empty DataFrame\n",
       "Columns: []\n",
       "Index: []"
      ]
     },
     "metadata": {},
     "output_type": "display_data"
    },
    {
     "data": {
      "text/plain": [
       "'http://www.ssg.com/item/ajaxItemCommentList.ssg?itemId=1000102149612&siteNo=6004&page=4&pageSize=20'"
      ]
     },
     "metadata": {},
     "output_type": "display_data"
    },
    {
     "data": {
      "text/plain": [
       "'플라 이지랩 자동 봉고데기 및 드라이기, 고데기, 두피케어~HIT 헤어스타일러 제안'"
      ]
     },
     "metadata": {},
     "output_type": "display_data"
    },
    {
     "data": {
      "text/html": [
       "<div>\n",
       "<style scoped>\n",
       "    .dataframe tbody tr th:only-of-type {\n",
       "        vertical-align: middle;\n",
       "    }\n",
       "\n",
       "    .dataframe tbody tr th {\n",
       "        vertical-align: top;\n",
       "    }\n",
       "\n",
       "    .dataframe thead th {\n",
       "        text-align: right;\n",
       "    }\n",
       "</style>\n",
       "<table border=\"1\" class=\"dataframe\">\n",
       "  <thead>\n",
       "    <tr style=\"text-align: right;\">\n",
       "      <th></th>\n",
       "    </tr>\n",
       "  </thead>\n",
       "  <tbody>\n",
       "  </tbody>\n",
       "</table>\n",
       "</div>"
      ],
      "text/plain": [
       "Empty DataFrame\n",
       "Columns: []\n",
       "Index: []"
      ]
     },
     "metadata": {},
     "output_type": "display_data"
    },
    {
     "data": {
      "text/plain": [
       "'http://www.ssg.com/item/ajaxItemCommentList.ssg?itemId=1000102149612&siteNo=6004&page=5&pageSize=20'"
      ]
     },
     "metadata": {},
     "output_type": "display_data"
    },
    {
     "data": {
      "text/plain": [
       "'플라 이지랩 자동 봉고데기 및 드라이기, 고데기, 두피케어~HIT 헤어스타일러 제안'"
      ]
     },
     "metadata": {},
     "output_type": "display_data"
    },
    {
     "data": {
      "text/html": [
       "<div>\n",
       "<style scoped>\n",
       "    .dataframe tbody tr th:only-of-type {\n",
       "        vertical-align: middle;\n",
       "    }\n",
       "\n",
       "    .dataframe tbody tr th {\n",
       "        vertical-align: top;\n",
       "    }\n",
       "\n",
       "    .dataframe thead th {\n",
       "        text-align: right;\n",
       "    }\n",
       "</style>\n",
       "<table border=\"1\" class=\"dataframe\">\n",
       "  <thead>\n",
       "    <tr style=\"text-align: right;\">\n",
       "      <th></th>\n",
       "    </tr>\n",
       "  </thead>\n",
       "  <tbody>\n",
       "  </tbody>\n",
       "</table>\n",
       "</div>"
      ],
      "text/plain": [
       "Empty DataFrame\n",
       "Columns: []\n",
       "Index: []"
      ]
     },
     "metadata": {},
     "output_type": "display_data"
    },
    {
     "data": {
      "text/plain": [
       "'http://www.ssg.com/item/ajaxItemCommentList.ssg?itemId=1000102149612&siteNo=6004&page=6&pageSize=20'"
      ]
     },
     "metadata": {},
     "output_type": "display_data"
    },
    {
     "data": {
      "text/plain": [
       "'플라 이지랩 자동 봉고데기 및 드라이기, 고데기, 두피케어~HIT 헤어스타일러 제안'"
      ]
     },
     "metadata": {},
     "output_type": "display_data"
    },
    {
     "data": {
      "text/html": [
       "<div>\n",
       "<style scoped>\n",
       "    .dataframe tbody tr th:only-of-type {\n",
       "        vertical-align: middle;\n",
       "    }\n",
       "\n",
       "    .dataframe tbody tr th {\n",
       "        vertical-align: top;\n",
       "    }\n",
       "\n",
       "    .dataframe thead th {\n",
       "        text-align: right;\n",
       "    }\n",
       "</style>\n",
       "<table border=\"1\" class=\"dataframe\">\n",
       "  <thead>\n",
       "    <tr style=\"text-align: right;\">\n",
       "      <th></th>\n",
       "    </tr>\n",
       "  </thead>\n",
       "  <tbody>\n",
       "  </tbody>\n",
       "</table>\n",
       "</div>"
      ],
      "text/plain": [
       "Empty DataFrame\n",
       "Columns: []\n",
       "Index: []"
      ]
     },
     "metadata": {},
     "output_type": "display_data"
    },
    {
     "data": {
      "text/plain": [
       "'http://www.ssg.com/item/ajaxItemCommentList.ssg?itemId=1000102149612&siteNo=6004&page=7&pageSize=20'"
      ]
     },
     "metadata": {},
     "output_type": "display_data"
    },
    {
     "data": {
      "text/plain": [
       "'플라 이지랩 자동 봉고데기 및 드라이기, 고데기, 두피케어~HIT 헤어스타일러 제안'"
      ]
     },
     "metadata": {},
     "output_type": "display_data"
    },
    {
     "data": {
      "text/html": [
       "<div>\n",
       "<style scoped>\n",
       "    .dataframe tbody tr th:only-of-type {\n",
       "        vertical-align: middle;\n",
       "    }\n",
       "\n",
       "    .dataframe tbody tr th {\n",
       "        vertical-align: top;\n",
       "    }\n",
       "\n",
       "    .dataframe thead th {\n",
       "        text-align: right;\n",
       "    }\n",
       "</style>\n",
       "<table border=\"1\" class=\"dataframe\">\n",
       "  <thead>\n",
       "    <tr style=\"text-align: right;\">\n",
       "      <th></th>\n",
       "    </tr>\n",
       "  </thead>\n",
       "  <tbody>\n",
       "  </tbody>\n",
       "</table>\n",
       "</div>"
      ],
      "text/plain": [
       "Empty DataFrame\n",
       "Columns: []\n",
       "Index: []"
      ]
     },
     "metadata": {},
     "output_type": "display_data"
    },
    {
     "data": {
      "text/plain": [
       "'http://www.ssg.com/item/ajaxItemCommentList.ssg?itemId=1000102149612&siteNo=6004&page=8&pageSize=20'"
      ]
     },
     "metadata": {},
     "output_type": "display_data"
    },
    {
     "data": {
      "text/plain": [
       "'플라 이지랩 자동 봉고데기 및 드라이기, 고데기, 두피케어~HIT 헤어스타일러 제안'"
      ]
     },
     "metadata": {},
     "output_type": "display_data"
    },
    {
     "data": {
      "text/html": [
       "<div>\n",
       "<style scoped>\n",
       "    .dataframe tbody tr th:only-of-type {\n",
       "        vertical-align: middle;\n",
       "    }\n",
       "\n",
       "    .dataframe tbody tr th {\n",
       "        vertical-align: top;\n",
       "    }\n",
       "\n",
       "    .dataframe thead th {\n",
       "        text-align: right;\n",
       "    }\n",
       "</style>\n",
       "<table border=\"1\" class=\"dataframe\">\n",
       "  <thead>\n",
       "    <tr style=\"text-align: right;\">\n",
       "      <th></th>\n",
       "    </tr>\n",
       "  </thead>\n",
       "  <tbody>\n",
       "  </tbody>\n",
       "</table>\n",
       "</div>"
      ],
      "text/plain": [
       "Empty DataFrame\n",
       "Columns: []\n",
       "Index: []"
      ]
     },
     "metadata": {},
     "output_type": "display_data"
    },
    {
     "data": {
      "text/plain": [
       "'http://www.ssg.com/item/ajaxItemCommentList.ssg?itemId=1000102149612&siteNo=6004&page=9&pageSize=20'"
      ]
     },
     "metadata": {},
     "output_type": "display_data"
    },
    {
     "data": {
      "text/plain": [
       "'플라 이지랩 자동 봉고데기 및 드라이기, 고데기, 두피케어~HIT 헤어스타일러 제안'"
      ]
     },
     "metadata": {},
     "output_type": "display_data"
    },
    {
     "data": {
      "text/html": [
       "<div>\n",
       "<style scoped>\n",
       "    .dataframe tbody tr th:only-of-type {\n",
       "        vertical-align: middle;\n",
       "    }\n",
       "\n",
       "    .dataframe tbody tr th {\n",
       "        vertical-align: top;\n",
       "    }\n",
       "\n",
       "    .dataframe thead th {\n",
       "        text-align: right;\n",
       "    }\n",
       "</style>\n",
       "<table border=\"1\" class=\"dataframe\">\n",
       "  <thead>\n",
       "    <tr style=\"text-align: right;\">\n",
       "      <th></th>\n",
       "    </tr>\n",
       "  </thead>\n",
       "  <tbody>\n",
       "  </tbody>\n",
       "</table>\n",
       "</div>"
      ],
      "text/plain": [
       "Empty DataFrame\n",
       "Columns: []\n",
       "Index: []"
      ]
     },
     "metadata": {},
     "output_type": "display_data"
    },
    {
     "ename": "KeyboardInterrupt",
     "evalue": "",
     "output_type": "error",
     "traceback": [
      "\u001b[1;31m---------------------------------------------------------------------------\u001b[0m",
      "\u001b[1;31mKeyboardInterrupt\u001b[0m                         Traceback (most recent call last)",
      "\u001b[1;32m<ipython-input-20-e382f64ed5f8>\u001b[0m in \u001b[0;36m<module>\u001b[1;34m\u001b[0m\n\u001b[1;32m----> 1\u001b[1;33m \u001b[0mout_\u001b[0m\u001b[1;33m,\u001b[0m\u001b[0mNA_\u001b[0m \u001b[1;33m=\u001b[0m \u001b[0mCrawling_SSG_all\u001b[0m\u001b[1;33m(\u001b[0m\u001b[0mhead_df\u001b[0m\u001b[1;33m,\u001b[0m\u001b[1;36m0\u001b[0m\u001b[1;33m)\u001b[0m\u001b[1;33m\u001b[0m\u001b[1;33m\u001b[0m\u001b[0m\n\u001b[0m\u001b[0;32m      2\u001b[0m \u001b[0mout_\u001b[0m\u001b[1;33m\u001b[0m\u001b[1;33m\u001b[0m\u001b[0m\n",
      "\u001b[1;32m<ipython-input-19-a2e510fe0800>\u001b[0m in \u001b[0;36mCrawling_SSG_all\u001b[1;34m(head_df, TA_)\u001b[0m\n\u001b[0;32m      9\u001b[0m         \u001b[0murl_review\u001b[0m \u001b[1;33m=\u001b[0m\u001b[0mUrl_review\u001b[0m\u001b[1;33m.\u001b[0m\u001b[0mformat\u001b[0m\u001b[1;33m(\u001b[0m\u001b[0mmp\u001b[0m\u001b[1;33m+\u001b[0m\u001b[1;36m1\u001b[0m\u001b[1;33m)\u001b[0m\u001b[1;33m\u001b[0m\u001b[1;33m\u001b[0m\u001b[0m\n\u001b[0;32m     10\u001b[0m \u001b[1;33m\u001b[0m\u001b[0m\n\u001b[1;32m---> 11\u001b[1;33m         \u001b[0mreview_candi\u001b[0m \u001b[1;33m=\u001b[0m \u001b[0mReview_page_ex\u001b[0m\u001b[1;33m(\u001b[0m\u001b[0murl_review\u001b[0m\u001b[1;33m,\u001b[0m\u001b[0mtarget_name\u001b[0m\u001b[1;33m)\u001b[0m\u001b[1;33m\u001b[0m\u001b[1;33m\u001b[0m\u001b[0m\n\u001b[0m\u001b[0;32m     12\u001b[0m         \u001b[0mdisplay\u001b[0m\u001b[1;33m(\u001b[0m\u001b[0murl_review\u001b[0m\u001b[1;33m)\u001b[0m\u001b[1;33m\u001b[0m\u001b[1;33m\u001b[0m\u001b[0m\n\u001b[0;32m     13\u001b[0m         \u001b[0mdisplay\u001b[0m\u001b[1;33m(\u001b[0m\u001b[0mtarget_name\u001b[0m\u001b[1;33m)\u001b[0m\u001b[1;33m\u001b[0m\u001b[1;33m\u001b[0m\u001b[0m\n",
      "\u001b[1;32m<ipython-input-12-b271d2633181>\u001b[0m in \u001b[0;36mReview_page_ex\u001b[1;34m(url_review, target_name)\u001b[0m\n\u001b[0;32m      3\u001b[0m               \"referer\":\"http://www.ssg.com/\"}\n\u001b[0;32m      4\u001b[0m \u001b[1;33m\u001b[0m\u001b[0m\n\u001b[1;32m----> 5\u001b[1;33m     \u001b[0mhtml\u001b[0m \u001b[1;33m=\u001b[0m \u001b[0mrequests\u001b[0m\u001b[1;33m.\u001b[0m\u001b[0mget\u001b[0m\u001b[1;33m(\u001b[0m\u001b[0murl_review\u001b[0m\u001b[1;33m,\u001b[0m\u001b[0mheaders\u001b[0m\u001b[1;33m=\u001b[0m\u001b[0mheader\u001b[0m\u001b[1;33m)\u001b[0m\u001b[1;33m.\u001b[0m\u001b[0mtext\u001b[0m\u001b[1;33m\u001b[0m\u001b[1;33m\u001b[0m\u001b[0m\n\u001b[0m\u001b[0;32m      6\u001b[0m     \u001b[0mreview_n\u001b[0m \u001b[1;33m=\u001b[0m \u001b[0mlen\u001b[0m\u001b[1;33m(\u001b[0m\u001b[0mjson\u001b[0m\u001b[1;33m.\u001b[0m\u001b[0mloads\u001b[0m\u001b[1;33m(\u001b[0m\u001b[0mhtml\u001b[0m\u001b[1;33m)\u001b[0m\u001b[1;33m[\u001b[0m\u001b[1;34m\"pageDto\"\u001b[0m\u001b[1;33m]\u001b[0m\u001b[1;33m[\u001b[0m\u001b[1;34m\"resultList\"\u001b[0m\u001b[1;33m]\u001b[0m\u001b[1;33m)\u001b[0m\u001b[1;33m\u001b[0m\u001b[1;33m\u001b[0m\u001b[0m\n\u001b[0;32m      7\u001b[0m     \u001b[0mreview_1\u001b[0m \u001b[1;33m=\u001b[0m \u001b[0mjson\u001b[0m\u001b[1;33m.\u001b[0m\u001b[0mloads\u001b[0m\u001b[1;33m(\u001b[0m\u001b[0mhtml\u001b[0m\u001b[1;33m)\u001b[0m\u001b[1;33m[\u001b[0m\u001b[1;34m\"pageDto\"\u001b[0m\u001b[1;33m]\u001b[0m\u001b[1;33m[\u001b[0m\u001b[1;34m\"resultList\"\u001b[0m\u001b[1;33m]\u001b[0m\u001b[1;33m\u001b[0m\u001b[1;33m\u001b[0m\u001b[0m\n",
      "\u001b[1;32m~\\anaconda3\\lib\\site-packages\\requests\\api.py\u001b[0m in \u001b[0;36mget\u001b[1;34m(url, params, **kwargs)\u001b[0m\n\u001b[0;32m     70\u001b[0m \u001b[1;33m\u001b[0m\u001b[0m\n\u001b[0;32m     71\u001b[0m     \u001b[0mkwargs\u001b[0m\u001b[1;33m.\u001b[0m\u001b[0msetdefault\u001b[0m\u001b[1;33m(\u001b[0m\u001b[1;34m'allow_redirects'\u001b[0m\u001b[1;33m,\u001b[0m \u001b[1;32mTrue\u001b[0m\u001b[1;33m)\u001b[0m\u001b[1;33m\u001b[0m\u001b[1;33m\u001b[0m\u001b[0m\n\u001b[1;32m---> 72\u001b[1;33m     \u001b[1;32mreturn\u001b[0m \u001b[0mrequest\u001b[0m\u001b[1;33m(\u001b[0m\u001b[1;34m'get'\u001b[0m\u001b[1;33m,\u001b[0m \u001b[0murl\u001b[0m\u001b[1;33m,\u001b[0m \u001b[0mparams\u001b[0m\u001b[1;33m=\u001b[0m\u001b[0mparams\u001b[0m\u001b[1;33m,\u001b[0m \u001b[1;33m**\u001b[0m\u001b[0mkwargs\u001b[0m\u001b[1;33m)\u001b[0m\u001b[1;33m\u001b[0m\u001b[1;33m\u001b[0m\u001b[0m\n\u001b[0m\u001b[0;32m     73\u001b[0m \u001b[1;33m\u001b[0m\u001b[0m\n\u001b[0;32m     74\u001b[0m \u001b[1;33m\u001b[0m\u001b[0m\n",
      "\u001b[1;32m~\\anaconda3\\lib\\site-packages\\requests\\api.py\u001b[0m in \u001b[0;36mrequest\u001b[1;34m(method, url, **kwargs)\u001b[0m\n\u001b[0;32m     56\u001b[0m     \u001b[1;31m# cases, and look like a memory leak in others.\u001b[0m\u001b[1;33m\u001b[0m\u001b[1;33m\u001b[0m\u001b[1;33m\u001b[0m\u001b[0m\n\u001b[0;32m     57\u001b[0m     \u001b[1;32mwith\u001b[0m \u001b[0msessions\u001b[0m\u001b[1;33m.\u001b[0m\u001b[0mSession\u001b[0m\u001b[1;33m(\u001b[0m\u001b[1;33m)\u001b[0m \u001b[1;32mas\u001b[0m \u001b[0msession\u001b[0m\u001b[1;33m:\u001b[0m\u001b[1;33m\u001b[0m\u001b[1;33m\u001b[0m\u001b[0m\n\u001b[1;32m---> 58\u001b[1;33m         \u001b[1;32mreturn\u001b[0m \u001b[0msession\u001b[0m\u001b[1;33m.\u001b[0m\u001b[0mrequest\u001b[0m\u001b[1;33m(\u001b[0m\u001b[0mmethod\u001b[0m\u001b[1;33m=\u001b[0m\u001b[0mmethod\u001b[0m\u001b[1;33m,\u001b[0m \u001b[0murl\u001b[0m\u001b[1;33m=\u001b[0m\u001b[0murl\u001b[0m\u001b[1;33m,\u001b[0m \u001b[1;33m**\u001b[0m\u001b[0mkwargs\u001b[0m\u001b[1;33m)\u001b[0m\u001b[1;33m\u001b[0m\u001b[1;33m\u001b[0m\u001b[0m\n\u001b[0m\u001b[0;32m     59\u001b[0m \u001b[1;33m\u001b[0m\u001b[0m\n\u001b[0;32m     60\u001b[0m \u001b[1;33m\u001b[0m\u001b[0m\n",
      "\u001b[1;32m~\\anaconda3\\lib\\site-packages\\requests\\sessions.py\u001b[0m in \u001b[0;36mrequest\u001b[1;34m(self, method, url, params, data, headers, cookies, files, auth, timeout, allow_redirects, proxies, hooks, stream, verify, cert, json)\u001b[0m\n\u001b[0;32m    506\u001b[0m         }\n\u001b[0;32m    507\u001b[0m         \u001b[0msend_kwargs\u001b[0m\u001b[1;33m.\u001b[0m\u001b[0mupdate\u001b[0m\u001b[1;33m(\u001b[0m\u001b[0msettings\u001b[0m\u001b[1;33m)\u001b[0m\u001b[1;33m\u001b[0m\u001b[1;33m\u001b[0m\u001b[0m\n\u001b[1;32m--> 508\u001b[1;33m         \u001b[0mresp\u001b[0m \u001b[1;33m=\u001b[0m \u001b[0mself\u001b[0m\u001b[1;33m.\u001b[0m\u001b[0msend\u001b[0m\u001b[1;33m(\u001b[0m\u001b[0mprep\u001b[0m\u001b[1;33m,\u001b[0m \u001b[1;33m**\u001b[0m\u001b[0msend_kwargs\u001b[0m\u001b[1;33m)\u001b[0m\u001b[1;33m\u001b[0m\u001b[1;33m\u001b[0m\u001b[0m\n\u001b[0m\u001b[0;32m    509\u001b[0m \u001b[1;33m\u001b[0m\u001b[0m\n\u001b[0;32m    510\u001b[0m         \u001b[1;32mreturn\u001b[0m \u001b[0mresp\u001b[0m\u001b[1;33m\u001b[0m\u001b[1;33m\u001b[0m\u001b[0m\n",
      "\u001b[1;32m~\\anaconda3\\lib\\site-packages\\requests\\sessions.py\u001b[0m in \u001b[0;36msend\u001b[1;34m(self, request, **kwargs)\u001b[0m\n\u001b[0;32m    616\u001b[0m \u001b[1;33m\u001b[0m\u001b[0m\n\u001b[0;32m    617\u001b[0m         \u001b[1;31m# Send the request\u001b[0m\u001b[1;33m\u001b[0m\u001b[1;33m\u001b[0m\u001b[1;33m\u001b[0m\u001b[0m\n\u001b[1;32m--> 618\u001b[1;33m         \u001b[0mr\u001b[0m \u001b[1;33m=\u001b[0m \u001b[0madapter\u001b[0m\u001b[1;33m.\u001b[0m\u001b[0msend\u001b[0m\u001b[1;33m(\u001b[0m\u001b[0mrequest\u001b[0m\u001b[1;33m,\u001b[0m \u001b[1;33m**\u001b[0m\u001b[0mkwargs\u001b[0m\u001b[1;33m)\u001b[0m\u001b[1;33m\u001b[0m\u001b[1;33m\u001b[0m\u001b[0m\n\u001b[0m\u001b[0;32m    619\u001b[0m \u001b[1;33m\u001b[0m\u001b[0m\n\u001b[0;32m    620\u001b[0m         \u001b[1;31m# Total elapsed time of the request (approximately)\u001b[0m\u001b[1;33m\u001b[0m\u001b[1;33m\u001b[0m\u001b[1;33m\u001b[0m\u001b[0m\n",
      "\u001b[1;32m~\\anaconda3\\lib\\site-packages\\requests\\adapters.py\u001b[0m in \u001b[0;36msend\u001b[1;34m(self, request, stream, timeout, verify, cert, proxies)\u001b[0m\n\u001b[0;32m    438\u001b[0m                     \u001b[0mdecode_content\u001b[0m\u001b[1;33m=\u001b[0m\u001b[1;32mFalse\u001b[0m\u001b[1;33m,\u001b[0m\u001b[1;33m\u001b[0m\u001b[1;33m\u001b[0m\u001b[0m\n\u001b[0;32m    439\u001b[0m                     \u001b[0mretries\u001b[0m\u001b[1;33m=\u001b[0m\u001b[0mself\u001b[0m\u001b[1;33m.\u001b[0m\u001b[0mmax_retries\u001b[0m\u001b[1;33m,\u001b[0m\u001b[1;33m\u001b[0m\u001b[1;33m\u001b[0m\u001b[0m\n\u001b[1;32m--> 440\u001b[1;33m                     \u001b[0mtimeout\u001b[0m\u001b[1;33m=\u001b[0m\u001b[0mtimeout\u001b[0m\u001b[1;33m\u001b[0m\u001b[1;33m\u001b[0m\u001b[0m\n\u001b[0m\u001b[0;32m    441\u001b[0m                 )\n\u001b[0;32m    442\u001b[0m \u001b[1;33m\u001b[0m\u001b[0m\n",
      "\u001b[1;32m~\\anaconda3\\lib\\site-packages\\urllib3\\connectionpool.py\u001b[0m in \u001b[0;36murlopen\u001b[1;34m(self, method, url, body, headers, retries, redirect, assert_same_host, timeout, pool_timeout, release_conn, chunked, body_pos, **response_kw)\u001b[0m\n\u001b[0;32m    599\u001b[0m                                                   \u001b[0mtimeout\u001b[0m\u001b[1;33m=\u001b[0m\u001b[0mtimeout_obj\u001b[0m\u001b[1;33m,\u001b[0m\u001b[1;33m\u001b[0m\u001b[1;33m\u001b[0m\u001b[0m\n\u001b[0;32m    600\u001b[0m                                                   \u001b[0mbody\u001b[0m\u001b[1;33m=\u001b[0m\u001b[0mbody\u001b[0m\u001b[1;33m,\u001b[0m \u001b[0mheaders\u001b[0m\u001b[1;33m=\u001b[0m\u001b[0mheaders\u001b[0m\u001b[1;33m,\u001b[0m\u001b[1;33m\u001b[0m\u001b[1;33m\u001b[0m\u001b[0m\n\u001b[1;32m--> 601\u001b[1;33m                                                   chunked=chunked)\n\u001b[0m\u001b[0;32m    602\u001b[0m \u001b[1;33m\u001b[0m\u001b[0m\n\u001b[0;32m    603\u001b[0m             \u001b[1;31m# If we're going to release the connection in ``finally:``, then\u001b[0m\u001b[1;33m\u001b[0m\u001b[1;33m\u001b[0m\u001b[1;33m\u001b[0m\u001b[0m\n",
      "\u001b[1;32m~\\anaconda3\\lib\\site-packages\\urllib3\\connectionpool.py\u001b[0m in \u001b[0;36m_make_request\u001b[1;34m(self, conn, method, url, timeout, chunked, **httplib_request_kw)\u001b[0m\n\u001b[0;32m    355\u001b[0m             \u001b[0mconn\u001b[0m\u001b[1;33m.\u001b[0m\u001b[0mrequest_chunked\u001b[0m\u001b[1;33m(\u001b[0m\u001b[0mmethod\u001b[0m\u001b[1;33m,\u001b[0m \u001b[0murl\u001b[0m\u001b[1;33m,\u001b[0m \u001b[1;33m**\u001b[0m\u001b[0mhttplib_request_kw\u001b[0m\u001b[1;33m)\u001b[0m\u001b[1;33m\u001b[0m\u001b[1;33m\u001b[0m\u001b[0m\n\u001b[0;32m    356\u001b[0m         \u001b[1;32melse\u001b[0m\u001b[1;33m:\u001b[0m\u001b[1;33m\u001b[0m\u001b[1;33m\u001b[0m\u001b[0m\n\u001b[1;32m--> 357\u001b[1;33m             \u001b[0mconn\u001b[0m\u001b[1;33m.\u001b[0m\u001b[0mrequest\u001b[0m\u001b[1;33m(\u001b[0m\u001b[0mmethod\u001b[0m\u001b[1;33m,\u001b[0m \u001b[0murl\u001b[0m\u001b[1;33m,\u001b[0m \u001b[1;33m**\u001b[0m\u001b[0mhttplib_request_kw\u001b[0m\u001b[1;33m)\u001b[0m\u001b[1;33m\u001b[0m\u001b[1;33m\u001b[0m\u001b[0m\n\u001b[0m\u001b[0;32m    358\u001b[0m \u001b[1;33m\u001b[0m\u001b[0m\n\u001b[0;32m    359\u001b[0m         \u001b[1;31m# Reset the timeout for the recv() on the socket\u001b[0m\u001b[1;33m\u001b[0m\u001b[1;33m\u001b[0m\u001b[1;33m\u001b[0m\u001b[0m\n",
      "\u001b[1;32m~\\anaconda3\\lib\\http\\client.py\u001b[0m in \u001b[0;36mrequest\u001b[1;34m(self, method, url, body, headers, encode_chunked)\u001b[0m\n\u001b[0;32m   1250\u001b[0m                 encode_chunked=False):\n\u001b[0;32m   1251\u001b[0m         \u001b[1;34m\"\"\"Send a complete request to the server.\"\"\"\u001b[0m\u001b[1;33m\u001b[0m\u001b[1;33m\u001b[0m\u001b[0m\n\u001b[1;32m-> 1252\u001b[1;33m         \u001b[0mself\u001b[0m\u001b[1;33m.\u001b[0m\u001b[0m_send_request\u001b[0m\u001b[1;33m(\u001b[0m\u001b[0mmethod\u001b[0m\u001b[1;33m,\u001b[0m \u001b[0murl\u001b[0m\u001b[1;33m,\u001b[0m \u001b[0mbody\u001b[0m\u001b[1;33m,\u001b[0m \u001b[0mheaders\u001b[0m\u001b[1;33m,\u001b[0m \u001b[0mencode_chunked\u001b[0m\u001b[1;33m)\u001b[0m\u001b[1;33m\u001b[0m\u001b[1;33m\u001b[0m\u001b[0m\n\u001b[0m\u001b[0;32m   1253\u001b[0m \u001b[1;33m\u001b[0m\u001b[0m\n\u001b[0;32m   1254\u001b[0m     \u001b[1;32mdef\u001b[0m \u001b[0m_send_request\u001b[0m\u001b[1;33m(\u001b[0m\u001b[0mself\u001b[0m\u001b[1;33m,\u001b[0m \u001b[0mmethod\u001b[0m\u001b[1;33m,\u001b[0m \u001b[0murl\u001b[0m\u001b[1;33m,\u001b[0m \u001b[0mbody\u001b[0m\u001b[1;33m,\u001b[0m \u001b[0mheaders\u001b[0m\u001b[1;33m,\u001b[0m \u001b[0mencode_chunked\u001b[0m\u001b[1;33m)\u001b[0m\u001b[1;33m:\u001b[0m\u001b[1;33m\u001b[0m\u001b[1;33m\u001b[0m\u001b[0m\n",
      "\u001b[1;32m~\\anaconda3\\lib\\http\\client.py\u001b[0m in \u001b[0;36m_send_request\u001b[1;34m(self, method, url, body, headers, encode_chunked)\u001b[0m\n\u001b[0;32m   1296\u001b[0m             \u001b[1;31m# default charset of iso-8859-1.\u001b[0m\u001b[1;33m\u001b[0m\u001b[1;33m\u001b[0m\u001b[1;33m\u001b[0m\u001b[0m\n\u001b[0;32m   1297\u001b[0m             \u001b[0mbody\u001b[0m \u001b[1;33m=\u001b[0m \u001b[0m_encode\u001b[0m\u001b[1;33m(\u001b[0m\u001b[0mbody\u001b[0m\u001b[1;33m,\u001b[0m \u001b[1;34m'body'\u001b[0m\u001b[1;33m)\u001b[0m\u001b[1;33m\u001b[0m\u001b[1;33m\u001b[0m\u001b[0m\n\u001b[1;32m-> 1298\u001b[1;33m         \u001b[0mself\u001b[0m\u001b[1;33m.\u001b[0m\u001b[0mendheaders\u001b[0m\u001b[1;33m(\u001b[0m\u001b[0mbody\u001b[0m\u001b[1;33m,\u001b[0m \u001b[0mencode_chunked\u001b[0m\u001b[1;33m=\u001b[0m\u001b[0mencode_chunked\u001b[0m\u001b[1;33m)\u001b[0m\u001b[1;33m\u001b[0m\u001b[1;33m\u001b[0m\u001b[0m\n\u001b[0m\u001b[0;32m   1299\u001b[0m \u001b[1;33m\u001b[0m\u001b[0m\n\u001b[0;32m   1300\u001b[0m     \u001b[1;32mdef\u001b[0m \u001b[0mgetresponse\u001b[0m\u001b[1;33m(\u001b[0m\u001b[0mself\u001b[0m\u001b[1;33m)\u001b[0m\u001b[1;33m:\u001b[0m\u001b[1;33m\u001b[0m\u001b[1;33m\u001b[0m\u001b[0m\n",
      "\u001b[1;32m~\\anaconda3\\lib\\http\\client.py\u001b[0m in \u001b[0;36mendheaders\u001b[1;34m(self, message_body, encode_chunked)\u001b[0m\n\u001b[0;32m   1245\u001b[0m         \u001b[1;32melse\u001b[0m\u001b[1;33m:\u001b[0m\u001b[1;33m\u001b[0m\u001b[1;33m\u001b[0m\u001b[0m\n\u001b[0;32m   1246\u001b[0m             \u001b[1;32mraise\u001b[0m \u001b[0mCannotSendHeader\u001b[0m\u001b[1;33m(\u001b[0m\u001b[1;33m)\u001b[0m\u001b[1;33m\u001b[0m\u001b[1;33m\u001b[0m\u001b[0m\n\u001b[1;32m-> 1247\u001b[1;33m         \u001b[0mself\u001b[0m\u001b[1;33m.\u001b[0m\u001b[0m_send_output\u001b[0m\u001b[1;33m(\u001b[0m\u001b[0mmessage_body\u001b[0m\u001b[1;33m,\u001b[0m \u001b[0mencode_chunked\u001b[0m\u001b[1;33m=\u001b[0m\u001b[0mencode_chunked\u001b[0m\u001b[1;33m)\u001b[0m\u001b[1;33m\u001b[0m\u001b[1;33m\u001b[0m\u001b[0m\n\u001b[0m\u001b[0;32m   1248\u001b[0m \u001b[1;33m\u001b[0m\u001b[0m\n\u001b[0;32m   1249\u001b[0m     def request(self, method, url, body=None, headers={}, *,\n",
      "\u001b[1;32m~\\anaconda3\\lib\\http\\client.py\u001b[0m in \u001b[0;36m_send_output\u001b[1;34m(self, message_body, encode_chunked)\u001b[0m\n\u001b[0;32m   1024\u001b[0m         \u001b[0mmsg\u001b[0m \u001b[1;33m=\u001b[0m \u001b[1;34mb\"\\r\\n\"\u001b[0m\u001b[1;33m.\u001b[0m\u001b[0mjoin\u001b[0m\u001b[1;33m(\u001b[0m\u001b[0mself\u001b[0m\u001b[1;33m.\u001b[0m\u001b[0m_buffer\u001b[0m\u001b[1;33m)\u001b[0m\u001b[1;33m\u001b[0m\u001b[1;33m\u001b[0m\u001b[0m\n\u001b[0;32m   1025\u001b[0m         \u001b[1;32mdel\u001b[0m \u001b[0mself\u001b[0m\u001b[1;33m.\u001b[0m\u001b[0m_buffer\u001b[0m\u001b[1;33m[\u001b[0m\u001b[1;33m:\u001b[0m\u001b[1;33m]\u001b[0m\u001b[1;33m\u001b[0m\u001b[1;33m\u001b[0m\u001b[0m\n\u001b[1;32m-> 1026\u001b[1;33m         \u001b[0mself\u001b[0m\u001b[1;33m.\u001b[0m\u001b[0msend\u001b[0m\u001b[1;33m(\u001b[0m\u001b[0mmsg\u001b[0m\u001b[1;33m)\u001b[0m\u001b[1;33m\u001b[0m\u001b[1;33m\u001b[0m\u001b[0m\n\u001b[0m\u001b[0;32m   1027\u001b[0m \u001b[1;33m\u001b[0m\u001b[0m\n\u001b[0;32m   1028\u001b[0m         \u001b[1;32mif\u001b[0m \u001b[0mmessage_body\u001b[0m \u001b[1;32mis\u001b[0m \u001b[1;32mnot\u001b[0m \u001b[1;32mNone\u001b[0m\u001b[1;33m:\u001b[0m\u001b[1;33m\u001b[0m\u001b[1;33m\u001b[0m\u001b[0m\n",
      "\u001b[1;32m~\\anaconda3\\lib\\http\\client.py\u001b[0m in \u001b[0;36msend\u001b[1;34m(self, data)\u001b[0m\n\u001b[0;32m    964\u001b[0m         \u001b[1;32mif\u001b[0m \u001b[0mself\u001b[0m\u001b[1;33m.\u001b[0m\u001b[0msock\u001b[0m \u001b[1;32mis\u001b[0m \u001b[1;32mNone\u001b[0m\u001b[1;33m:\u001b[0m\u001b[1;33m\u001b[0m\u001b[1;33m\u001b[0m\u001b[0m\n\u001b[0;32m    965\u001b[0m             \u001b[1;32mif\u001b[0m \u001b[0mself\u001b[0m\u001b[1;33m.\u001b[0m\u001b[0mauto_open\u001b[0m\u001b[1;33m:\u001b[0m\u001b[1;33m\u001b[0m\u001b[1;33m\u001b[0m\u001b[0m\n\u001b[1;32m--> 966\u001b[1;33m                 \u001b[0mself\u001b[0m\u001b[1;33m.\u001b[0m\u001b[0mconnect\u001b[0m\u001b[1;33m(\u001b[0m\u001b[1;33m)\u001b[0m\u001b[1;33m\u001b[0m\u001b[1;33m\u001b[0m\u001b[0m\n\u001b[0m\u001b[0;32m    967\u001b[0m             \u001b[1;32melse\u001b[0m\u001b[1;33m:\u001b[0m\u001b[1;33m\u001b[0m\u001b[1;33m\u001b[0m\u001b[0m\n\u001b[0;32m    968\u001b[0m                 \u001b[1;32mraise\u001b[0m \u001b[0mNotConnected\u001b[0m\u001b[1;33m(\u001b[0m\u001b[1;33m)\u001b[0m\u001b[1;33m\u001b[0m\u001b[1;33m\u001b[0m\u001b[0m\n",
      "\u001b[1;32m~\\anaconda3\\lib\\site-packages\\urllib3\\connection.py\u001b[0m in \u001b[0;36mconnect\u001b[1;34m(self)\u001b[0m\n\u001b[0;32m    164\u001b[0m \u001b[1;33m\u001b[0m\u001b[0m\n\u001b[0;32m    165\u001b[0m     \u001b[1;32mdef\u001b[0m \u001b[0mconnect\u001b[0m\u001b[1;33m(\u001b[0m\u001b[0mself\u001b[0m\u001b[1;33m)\u001b[0m\u001b[1;33m:\u001b[0m\u001b[1;33m\u001b[0m\u001b[1;33m\u001b[0m\u001b[0m\n\u001b[1;32m--> 166\u001b[1;33m         \u001b[0mconn\u001b[0m \u001b[1;33m=\u001b[0m \u001b[0mself\u001b[0m\u001b[1;33m.\u001b[0m\u001b[0m_new_conn\u001b[0m\u001b[1;33m(\u001b[0m\u001b[1;33m)\u001b[0m\u001b[1;33m\u001b[0m\u001b[1;33m\u001b[0m\u001b[0m\n\u001b[0m\u001b[0;32m    167\u001b[0m         \u001b[0mself\u001b[0m\u001b[1;33m.\u001b[0m\u001b[0m_prepare_conn\u001b[0m\u001b[1;33m(\u001b[0m\u001b[0mconn\u001b[0m\u001b[1;33m)\u001b[0m\u001b[1;33m\u001b[0m\u001b[1;33m\u001b[0m\u001b[0m\n\u001b[0;32m    168\u001b[0m \u001b[1;33m\u001b[0m\u001b[0m\n",
      "\u001b[1;32m~\\anaconda3\\lib\\site-packages\\urllib3\\connection.py\u001b[0m in \u001b[0;36m_new_conn\u001b[1;34m(self)\u001b[0m\n\u001b[0;32m    139\u001b[0m         \u001b[1;32mtry\u001b[0m\u001b[1;33m:\u001b[0m\u001b[1;33m\u001b[0m\u001b[1;33m\u001b[0m\u001b[0m\n\u001b[0;32m    140\u001b[0m             conn = connection.create_connection(\n\u001b[1;32m--> 141\u001b[1;33m                 (self.host, self.port), self.timeout, **extra_kw)\n\u001b[0m\u001b[0;32m    142\u001b[0m \u001b[1;33m\u001b[0m\u001b[0m\n\u001b[0;32m    143\u001b[0m         \u001b[1;32mexcept\u001b[0m \u001b[0mSocketTimeout\u001b[0m \u001b[1;32mas\u001b[0m \u001b[0me\u001b[0m\u001b[1;33m:\u001b[0m\u001b[1;33m\u001b[0m\u001b[1;33m\u001b[0m\u001b[0m\n",
      "\u001b[1;32m~\\anaconda3\\lib\\site-packages\\urllib3\\util\\connection.py\u001b[0m in \u001b[0;36mcreate_connection\u001b[1;34m(address, timeout, source_address, socket_options)\u001b[0m\n\u001b[0;32m     71\u001b[0m             \u001b[1;32mif\u001b[0m \u001b[0msource_address\u001b[0m\u001b[1;33m:\u001b[0m\u001b[1;33m\u001b[0m\u001b[1;33m\u001b[0m\u001b[0m\n\u001b[0;32m     72\u001b[0m                 \u001b[0msock\u001b[0m\u001b[1;33m.\u001b[0m\u001b[0mbind\u001b[0m\u001b[1;33m(\u001b[0m\u001b[0msource_address\u001b[0m\u001b[1;33m)\u001b[0m\u001b[1;33m\u001b[0m\u001b[1;33m\u001b[0m\u001b[0m\n\u001b[1;32m---> 73\u001b[1;33m             \u001b[0msock\u001b[0m\u001b[1;33m.\u001b[0m\u001b[0mconnect\u001b[0m\u001b[1;33m(\u001b[0m\u001b[0msa\u001b[0m\u001b[1;33m)\u001b[0m\u001b[1;33m\u001b[0m\u001b[1;33m\u001b[0m\u001b[0m\n\u001b[0m\u001b[0;32m     74\u001b[0m             \u001b[1;32mreturn\u001b[0m \u001b[0msock\u001b[0m\u001b[1;33m\u001b[0m\u001b[1;33m\u001b[0m\u001b[0m\n\u001b[0;32m     75\u001b[0m \u001b[1;33m\u001b[0m\u001b[0m\n",
      "\u001b[1;31mKeyboardInterrupt\u001b[0m: "
     ]
    }
   ],
   "source": [
    "out_,NA_ = Crawling_SSG_all(head_df,0)\n",
    "out_"
   ]
  },
  {
   "cell_type": "code",
   "execution_count": null,
   "metadata": {},
   "outputs": [],
   "source": []
  },
  {
   "cell_type": "code",
   "execution_count": 15,
   "metadata": {},
   "outputs": [],
   "source": [
    "def SSG_Save_local(path_,head_df):\n",
    "    for i_ in range(len(head_df)):\n",
    "        print(\"In {} Pro From {}\".format(i_+1,len(head_df)+1))\n",
    "        print()\n",
    "        print(head_df[\"Name\"][i_])\n",
    "        out_,NA_ = Crawling_SSG_all(head_df,i_)\n",
    "        NA_ = NA_.replace(\"/\",\"\")\n",
    "        out_.to_excel(path_.format(NA_))"
   ]
  },
  {
   "cell_type": "code",
   "execution_count": 16,
   "metadata": {
    "scrolled": true
   },
   "outputs": [
    {
     "name": "stdout",
     "output_type": "stream",
     "text": [
      "In 1 Pro From 161\n",
      "\n",
      "플라 이지랩 자동 봉고데기 및 드라이기, 고데기, 두피케어~HIT 헤어스타일러 제안\n"
     ]
    },
    {
     "data": {
      "application/vnd.jupyter.widget-view+json": {
       "model_id": "0e66fc97e98e401584be2709bb64ec58",
       "version_major": 2,
       "version_minor": 0
      },
      "text/plain": [
       "  0%|          | 0/297 [00:00<?, ?it/s]"
      ]
     },
     "metadata": {},
     "output_type": "display_data"
    },
    {
     "name": "stdout",
     "output_type": "stream",
     "text": [
      "In 2 Pro From 161\n",
      "\n",
      "★[브랜드위크 20% 쿠폰] JMW 항공모터 드라이기/고데기 특가\n"
     ]
    },
    {
     "data": {
      "application/vnd.jupyter.widget-view+json": {
       "model_id": "14551d80826a4013adc8508afc9b0d44",
       "version_major": 2,
       "version_minor": 0
      },
      "text/plain": [
       "  0%|          | 0/251 [00:00<?, ?it/s]"
      ]
     },
     "metadata": {},
     "output_type": "display_data"
    },
    {
     "name": "stdout",
     "output_type": "stream",
     "text": [
      "In 3 Pro From 161\n",
      "\n",
      "★[브랜드위크 20% 쿠폰] JMW 프리미엄 항공모터 드라이기/고데기 특가\n"
     ]
    },
    {
     "data": {
      "application/vnd.jupyter.widget-view+json": {
       "model_id": "3cde2d0e11794acea1d13cbcd4368f99",
       "version_major": 2,
       "version_minor": 0
      },
      "text/plain": [
       "  0%|          | 0/251 [00:00<?, ?it/s]"
      ]
     },
     "metadata": {},
     "output_type": "display_data"
    },
    {
     "name": "stdout",
     "output_type": "stream",
     "text": [
      "In 4 Pro From 161\n",
      "\n",
      "고데기/매직기/드라이어 베스트 모델 모음전!\n"
     ]
    },
    {
     "data": {
      "application/vnd.jupyter.widget-view+json": {
       "model_id": "94d59f283d6047d6880f33c68940dfb5",
       "version_major": 2,
       "version_minor": 0
      },
      "text/plain": [
       "  0%|          | 0/153 [00:00<?, ?it/s]"
      ]
     },
     "metadata": {},
     "output_type": "display_data"
    },
    {
     "name": "stdout",
     "output_type": "stream",
     "text": [
      "In 5 Pro From 161\n",
      "\n",
      "[JMW브랜드위크 +15% 추가쿠폰] JMW BEST드라이기 & 고데기 최저가 특별구성\n"
     ]
    },
    {
     "data": {
      "application/vnd.jupyter.widget-view+json": {
       "model_id": "5946768c266a4bf19ccf42d546a5d4e1",
       "version_major": 2,
       "version_minor": 0
      },
      "text/plain": [
       "  0%|          | 0/122 [00:00<?, ?it/s]"
      ]
     },
     "metadata": {},
     "output_type": "display_data"
    },
    {
     "name": "stdout",
     "output_type": "stream",
     "text": [
      "In 6 Pro From 161\n",
      "\n",
      "BLDC항공모터드라이기&고데기모음전\n"
     ]
    },
    {
     "data": {
      "application/vnd.jupyter.widget-view+json": {
       "model_id": "a1e839068321413c973dcab0a163f9c6",
       "version_major": 2,
       "version_minor": 0
      },
      "text/plain": [
       "  0%|          | 0/121 [00:00<?, ?it/s]"
      ]
     },
     "metadata": {},
     "output_type": "display_data"
    },
    {
     "name": "stdout",
     "output_type": "stream",
     "text": [
      "In 7 Pro From 161\n",
      "\n",
      "★[브랜드위크 12% 쿠폰] JMW 에어젯 터보 MS6020B 항공모터 헤어 드라이기 블랙+사은품\n"
     ]
    },
    {
     "data": {
      "application/vnd.jupyter.widget-view+json": {
       "model_id": "90bf3fcb227e44e2b46ec5801d4bc43a",
       "version_major": 2,
       "version_minor": 0
      },
      "text/plain": [
       "  0%|          | 0/112 [00:00<?, ?it/s]"
      ]
     },
     "metadata": {},
     "output_type": "display_data"
    },
    {
     "name": "stdout",
     "output_type": "stream",
     "text": [
      "In 8 Pro From 161\n",
      "\n",
      "드라이기&고데기 베스트상품 모음제안 택1\n"
     ]
    },
    {
     "data": {
      "application/vnd.jupyter.widget-view+json": {
       "model_id": "c4b6e7fe2978424f809e39c45ea9919d",
       "version_major": 2,
       "version_minor": 0
      },
      "text/plain": [
       "  0%|          | 0/103 [00:00<?, ?it/s]"
      ]
     },
     "metadata": {},
     "output_type": "display_data"
    },
    {
     "name": "stdout",
     "output_type": "stream",
     "text": [
      "In 9 Pro From 161\n",
      "\n",
      "다이슨코리아 슈퍼소닉/에어랩 등 갓스타일의 완성\n"
     ]
    },
    {
     "data": {
      "application/vnd.jupyter.widget-view+json": {
       "model_id": "5afe78c00b494aac865245f5c028d8dd",
       "version_major": 2,
       "version_minor": 0
      },
      "text/plain": [
       "  0%|          | 0/68 [00:00<?, ?it/s]"
      ]
     },
     "metadata": {},
     "output_type": "display_data"
    },
    {
     "name": "stdout",
     "output_type": "stream",
     "text": [
      "In 10 Pro From 161\n",
      "\n",
      "[필립스] 면도기,드라이기, 소닉케어外 34종 택1\n"
     ]
    },
    {
     "data": {
      "application/vnd.jupyter.widget-view+json": {
       "model_id": "b53e8fcff7164ac59dc22341fc05c481",
       "version_major": 2,
       "version_minor": 0
      },
      "text/plain": [
       "  0%|          | 0/57 [00:00<?, ?it/s]"
      ]
     },
     "metadata": {},
     "output_type": "display_data"
    },
    {
     "name": "stdout",
     "output_type": "stream",
     "text": [
      "In 11 Pro From 161\n",
      "\n",
      "자주6월1차행사★거실화/가전/디퓨저 등 생활용품 최대50%매가인하\n"
     ]
    },
    {
     "data": {
      "application/vnd.jupyter.widget-view+json": {
       "model_id": "c6c5f28327974a4ab31033b91dc410e8",
       "version_major": 2,
       "version_minor": 0
      },
      "text/plain": [
       "  0%|          | 0/55 [00:00<?, ?it/s]"
      ]
     },
     "metadata": {},
     "output_type": "display_data"
    },
    {
     "name": "stdout",
     "output_type": "stream",
     "text": [
      "In 12 Pro From 161\n",
      "\n",
      "★[브랜드위크 13% 쿠폰] JMW M5001A PLUS 전문가용 항공모터 헤어 드라이기+사은품\n"
     ]
    },
    {
     "data": {
      "application/vnd.jupyter.widget-view+json": {
       "model_id": "1532b2300b2b408c8c5ef8a07998db95",
       "version_major": 2,
       "version_minor": 0
      },
      "text/plain": [
       "  0%|          | 0/49 [00:00<?, ?it/s]"
      ]
     },
     "metadata": {},
     "output_type": "display_data"
    },
    {
     "name": "stdout",
     "output_type": "stream",
     "text": [
      "In 13 Pro From 161\n",
      "\n",
      "★[15%쿠폰할인+거치홀더증정]JMW BLDC항공모터 드라이기 MG1800 화이트\n"
     ]
    },
    {
     "data": {
      "application/vnd.jupyter.widget-view+json": {
       "model_id": "e5b5a2ea6e5d4a33a15adf10a2f14166",
       "version_major": 2,
       "version_minor": 0
      },
      "text/plain": [
       "  0%|          | 0/47 [00:00<?, ?it/s]"
      ]
     },
     "metadata": {},
     "output_type": "display_data"
    },
    {
     "name": "stdout",
     "output_type": "stream",
     "text": [
      "In 14 Pro From 161\n",
      "\n",
      "[로그인15%할인쿠폰] JMW BEST드라이기 &고데기 상품 특별모음전\n"
     ]
    },
    {
     "data": {
      "application/vnd.jupyter.widget-view+json": {
       "model_id": "2c7659f3e6e7441dafe2125e124c697d",
       "version_major": 2,
       "version_minor": 0
      },
      "text/plain": [
       "  0%|          | 0/44 [00:00<?, ?it/s]"
      ]
     },
     "metadata": {},
     "output_type": "display_data"
    },
    {
     "name": "stdout",
     "output_type": "stream",
     "text": [
      "In 15 Pro From 161\n",
      "\n",
      "[바비리스] BEST 드라이기 / 고데기 / 봉고데기 / 스타일러 모음전\n"
     ]
    },
    {
     "data": {
      "application/vnd.jupyter.widget-view+json": {
       "model_id": "f57376f4be43453a8a15fb68b38b7c35",
       "version_major": 2,
       "version_minor": 0
      },
      "text/plain": [
       "  0%|          | 0/43 [00:00<?, ?it/s]"
      ]
     },
     "metadata": {},
     "output_type": "display_data"
    },
    {
     "name": "stdout",
     "output_type": "stream",
     "text": [
      "In 16 Pro From 161\n",
      "\n",
      "M5001A PLUS 항공모터 전문가용 드라이기 LB035\n"
     ]
    },
    {
     "data": {
      "application/vnd.jupyter.widget-view+json": {
       "model_id": "c544a7f757e14a2b8d077348fc6007d6",
       "version_major": 2,
       "version_minor": 0
      },
      "text/plain": [
       "  0%|          | 0/37 [00:00<?, ?it/s]"
      ]
     },
     "metadata": {},
     "output_type": "display_data"
    },
    {
     "name": "stdout",
     "output_type": "stream",
     "text": [
      "In 17 Pro From 161\n",
      "\n",
      "[드라이기 HP8230/00]\n"
     ]
    },
    {
     "data": {
      "application/vnd.jupyter.widget-view+json": {
       "model_id": "67b85d6256f84d669a9cb4ebbaebd111",
       "version_major": 2,
       "version_minor": 0
      },
      "text/plain": [
       "  0%|          | 0/36 [00:00<?, ?it/s]"
      ]
     },
     "metadata": {},
     "output_type": "display_data"
    },
    {
     "name": "stdout",
     "output_type": "stream",
     "text": [
      "In 18 Pro From 161\n",
      "\n",
      "3만원적립금 5/31까지★[본사직영]다이슨 HD03 슈퍼소닉 (푸시아/아이언)\n"
     ]
    },
    {
     "data": {
      "application/vnd.jupyter.widget-view+json": {
       "model_id": "df0f9a7ce2184458bb998b19e8940e98",
       "version_major": 2,
       "version_minor": 0
      },
      "text/plain": [
       "  0%|          | 0/32 [00:00<?, ?it/s]"
      ]
     },
     "metadata": {},
     "output_type": "display_data"
    },
    {
     "name": "stdout",
     "output_type": "stream",
     "text": [
      "In 19 Pro From 161\n",
      "\n",
      "[공식] 샤오미 생활 가전 모음전 / 스팀 청소기 / 스마트 쓰레기통 / 헤어 드라이기 / 체중계 등\n"
     ]
    },
    {
     "data": {
      "application/vnd.jupyter.widget-view+json": {
       "model_id": "ac5fc7d0c8d04c8181ecdb90db0470e1",
       "version_major": 2,
       "version_minor": 0
      },
      "text/plain": [
       "  0%|          | 0/31 [00:00<?, ?it/s]"
      ]
     },
     "metadata": {},
     "output_type": "display_data"
    },
    {
     "name": "stdout",
     "output_type": "stream",
     "text": [
      "In 20 Pro From 161\n",
      "\n",
      "★[브랜드위크 12% 쿠폰] JMW 에어젯 터보 MS6010A 항공모터 헤어 드라이기+사은품\n"
     ]
    },
    {
     "data": {
      "application/vnd.jupyter.widget-view+json": {
       "model_id": "618e3ce6e2134af6b77de43dc1a85297",
       "version_major": 2,
       "version_minor": 0
      },
      "text/plain": [
       "  0%|          | 0/28 [00:00<?, ?it/s]"
      ]
     },
     "metadata": {},
     "output_type": "display_data"
    },
    {
     "name": "stdout",
     "output_type": "stream",
     "text": [
      "In 21 Pro From 161\n",
      "\n",
      "★[쿠폰적용가 54,000원] JMW MA6001A 전문가용 항공모터 헤어 드라이기+사은품\n"
     ]
    },
    {
     "data": {
      "application/vnd.jupyter.widget-view+json": {
       "model_id": "d26a8b360152402c812279a7603387b0",
       "version_major": 2,
       "version_minor": 0
      },
      "text/plain": [
       "  0%|          | 0/28 [00:00<?, ?it/s]"
      ]
     },
     "metadata": {},
     "output_type": "display_data"
    },
    {
     "name": "stdout",
     "output_type": "stream",
     "text": [
      "In 22 Pro From 161\n",
      "\n",
      "★[15%쿠폰할인 + 거치홀더증정]JMW 터보항공모터 드라이기 팬텀 MS6001A 로즈골드\n"
     ]
    },
    {
     "data": {
      "application/vnd.jupyter.widget-view+json": {
       "model_id": "65027a2149e041109e2261aa5b75d1cc",
       "version_major": 2,
       "version_minor": 0
      },
      "text/plain": [
       "  0%|          | 0/27 [00:00<?, ?it/s]"
      ]
     },
     "metadata": {},
     "output_type": "display_data"
    },
    {
     "name": "stdout",
     "output_type": "stream",
     "text": [
      "In 23 Pro From 161\n",
      "\n",
      "[드라이기 HP8232/00]\n"
     ]
    },
    {
     "data": {
      "application/vnd.jupyter.widget-view+json": {
       "model_id": "30bcaa81eb8346ff8877873e1683e565",
       "version_major": 2,
       "version_minor": 0
      },
      "text/plain": [
       "  0%|          | 0/26 [00:00<?, ?it/s]"
      ]
     },
     "metadata": {},
     "output_type": "display_data"
    },
    {
     "name": "stdout",
     "output_type": "stream",
     "text": [
      "In 24 Pro From 161\n",
      "\n",
      "FHIKOREA 프리미엄 헤어기기 특가전\n"
     ]
    },
    {
     "data": {
      "application/vnd.jupyter.widget-view+json": {
       "model_id": "d69e61e24bf74298a4679fcb828ff05d",
       "version_major": 2,
       "version_minor": 0
      },
      "text/plain": [
       "  0%|          | 0/24 [00:00<?, ?it/s]"
      ]
     },
     "metadata": {},
     "output_type": "display_data"
    },
    {
     "name": "stdout",
     "output_type": "stream",
     "text": [
      "In 25 Pro From 161\n",
      "\n",
      "음이온 고풍량(2000W) 드라이기 UN-B1570\n"
     ]
    },
    {
     "data": {
      "application/vnd.jupyter.widget-view+json": {
       "model_id": "d509e12fa1c84e1a973a6706ee185a2d",
       "version_major": 2,
       "version_minor": 0
      },
      "text/plain": [
       "  0%|          | 0/23 [00:00<?, ?it/s]"
      ]
     },
     "metadata": {},
     "output_type": "display_data"
    },
    {
     "name": "stdout",
     "output_type": "stream",
     "text": [
      "In 26 Pro From 161\n",
      "\n",
      "로그인 6%쿠폰★유닉스 1600W 메탈 바이올렛 헤어드라이기 UN-B1611\n"
     ]
    },
    {
     "data": {
      "application/vnd.jupyter.widget-view+json": {
       "model_id": "41514aec6a5c4bed8d3da0c07150243f",
       "version_major": 2,
       "version_minor": 0
      },
      "text/plain": [
       "  0%|          | 0/22 [00:00<?, ?it/s]"
      ]
     },
     "metadata": {},
     "output_type": "display_data"
    },
    {
     "name": "stdout",
     "output_type": "stream",
     "text": [
      "In 27 Pro From 161\n",
      "\n",
      "★JMW,브라운,오랄비,셀리턴★가정의달 선물 모음전\n"
     ]
    },
    {
     "data": {
      "application/vnd.jupyter.widget-view+json": {
       "model_id": "e28fd6b49c7a4e3b9e335bc397f95bba",
       "version_major": 2,
       "version_minor": 0
      },
      "text/plain": [
       "  0%|          | 0/21 [00:00<?, ?it/s]"
      ]
     },
     "metadata": {},
     "output_type": "display_data"
    },
    {
     "name": "stdout",
     "output_type": "stream",
     "text": [
      "In 28 Pro From 161\n",
      "\n",
      "써모프로텍트 헤어드라이어 HP8246/09\n"
     ]
    },
    {
     "data": {
      "application/vnd.jupyter.widget-view+json": {
       "model_id": "6ff5e414ce304622b452808997c98e6a",
       "version_major": 2,
       "version_minor": 0
      },
      "text/plain": [
       "  0%|          | 0/18 [00:00<?, ?it/s]"
      ]
     },
     "metadata": {},
     "output_type": "display_data"
    },
    {
     "name": "stdout",
     "output_type": "stream",
     "text": [
      "In 29 Pro From 161\n",
      "\n",
      "본사 신상 LED 케어 테라피 드라이기 런칭! 특가 + 사은품 혜택\n"
     ]
    },
    {
     "data": {
      "application/vnd.jupyter.widget-view+json": {
       "model_id": "abef45b8099d44c58d43aee57afed0c0",
       "version_major": 2,
       "version_minor": 0
      },
      "text/plain": [
       "  0%|          | 0/17 [00:00<?, ?it/s]"
      ]
     },
     "metadata": {},
     "output_type": "display_data"
    },
    {
     "name": "stdout",
     "output_type": "stream",
     "text": [
      "In 30 Pro From 161\n",
      "\n",
      "메탈 1600W 접이식 헤어 드라이기 UN-A1610\n"
     ]
    },
    {
     "data": {
      "application/vnd.jupyter.widget-view+json": {
       "model_id": "bb9b9207cd504b77b718dc81af077a35",
       "version_major": 2,
       "version_minor": 0
      },
      "text/plain": [
       "  0%|          | 0/15 [00:00<?, ?it/s]"
      ]
     },
     "metadata": {},
     "output_type": "display_data"
    },
    {
     "name": "stdout",
     "output_type": "stream",
     "text": [
      "In 31 Pro From 161\n",
      "\n",
      " 2000W 고출력 음이온 헤어 드라이기 EPD-2011\n"
     ]
    },
    {
     "data": {
      "application/vnd.jupyter.widget-view+json": {
       "model_id": "e7ce9dd0bc52480ebe7a0eabc8f56ced",
       "version_major": 2,
       "version_minor": 0
      },
      "text/plain": [
       "  0%|          | 0/15 [00:00<?, ?it/s]"
      ]
     },
     "metadata": {},
     "output_type": "display_data"
    },
    {
     "name": "stdout",
     "output_type": "stream",
     "text": [
      "In 32 Pro From 161\n",
      "\n",
      "[JMW 본사] BLDC 드라이기/고데기 최대 20% 할인 & 사은품 증정\n"
     ]
    },
    {
     "data": {
      "application/vnd.jupyter.widget-view+json": {
       "model_id": "d08c21b23d2b48d59b2068158a442aa5",
       "version_major": 2,
       "version_minor": 0
      },
      "text/plain": [
       "  0%|          | 0/15 [00:00<?, ?it/s]"
      ]
     },
     "metadata": {},
     "output_type": "display_data"
    },
    {
     "name": "stdout",
     "output_type": "stream",
     "text": [
      "In 33 Pro From 161\n",
      "\n",
      "[SMF] 2200W 프리미엄케어 전문가용 헤어 드라이기 SMF-2202AH 쿨샷/전문가용/저소음/온도조절\n"
     ]
    },
    {
     "data": {
      "application/vnd.jupyter.widget-view+json": {
       "model_id": "bcdec20922f447268bf8fc919ae74552",
       "version_major": 2,
       "version_minor": 0
      },
      "text/plain": [
       "  0%|          | 0/15 [00:00<?, ?it/s]"
      ]
     },
     "metadata": {},
     "output_type": "display_data"
    },
    {
     "name": "stdout",
     "output_type": "stream",
     "text": [
      "In 34 Pro From 161\n",
      "\n",
      "★JMW 에어젯 터보 항공모터 헤어 드라이기 MS6020B 1600W + 거치대 세트\n"
     ]
    },
    {
     "data": {
      "application/vnd.jupyter.widget-view+json": {
       "model_id": "b3d92e065747420cb3b25f8d5f768bf7",
       "version_major": 2,
       "version_minor": 0
      },
      "text/plain": [
       "  0%|          | 0/14 [00:00<?, ?it/s]"
      ]
     },
     "metadata": {},
     "output_type": "display_data"
    },
    {
     "name": "stdout",
     "output_type": "stream",
     "text": [
      "In 35 Pro From 161\n",
      "\n",
      "이온 헤어드라이기 UN-A1980\n"
     ]
    },
    {
     "data": {
      "application/vnd.jupyter.widget-view+json": {
       "model_id": "0964e5747f594b108124f65f983dcd4f",
       "version_major": 2,
       "version_minor": 0
      },
      "text/plain": [
       "  0%|          | 0/13 [00:00<?, ?it/s]"
      ]
     },
     "metadata": {},
     "output_type": "display_data"
    },
    {
     "name": "stdout",
     "output_type": "stream",
     "text": [
      "In 36 Pro From 161\n",
      "\n",
      "써모밸런스 헤어드라이어+마사지 디퓨저 BHD184/09\n"
     ]
    },
    {
     "data": {
      "application/vnd.jupyter.widget-view+json": {
       "model_id": "8d611dea49974606912c77531909ce3c",
       "version_major": 2,
       "version_minor": 0
      },
      "text/plain": [
       "  0%|          | 0/12 [00:00<?, ?it/s]"
      ]
     },
     "metadata": {},
     "output_type": "display_data"
    },
    {
     "name": "stdout",
     "output_type": "stream",
     "text": [
      "In 37 Pro From 161\n",
      "\n",
      "[10%쿠폰할인]JMW 터보항공모터 드라이기 팬텀 MS6001A 로즈골드\n"
     ]
    },
    {
     "data": {
      "application/vnd.jupyter.widget-view+json": {
       "model_id": "ddbf10048d6e49eca9d21f2363becc5a",
       "version_major": 2,
       "version_minor": 0
      },
      "text/plain": [
       "  0%|          | 0/11 [00:00<?, ?it/s]"
      ]
     },
     "metadata": {},
     "output_type": "display_data"
    },
    {
     "name": "stdout",
     "output_type": "stream",
     "text": [
      "In 38 Pro From 161\n",
      "\n",
      "파나소닉 신상 헤어스타일러 EH-KA31-w/헤어컬/빗드라이기/화이트색상\n"
     ]
    },
    {
     "data": {
      "application/vnd.jupyter.widget-view+json": {
       "model_id": "e901c2198aa847009aff95383cef30e1",
       "version_major": 2,
       "version_minor": 0
      },
      "text/plain": [
       "  0%|          | 0/11 [00:00<?, ?it/s]"
      ]
     },
     "metadata": {},
     "output_type": "display_data"
    },
    {
     "name": "stdout",
     "output_type": "stream",
     "text": [
      "In 39 Pro From 161\n",
      "\n",
      "전문가용 드라이기  보라색/업소용/1650W\n"
     ]
    },
    {
     "data": {
      "application/vnd.jupyter.widget-view+json": {
       "model_id": "4484f649756940a791aaad3b8e1d753c",
       "version_major": 2,
       "version_minor": 0
      },
      "text/plain": [
       "  0%|          | 0/11 [00:00<?, ?it/s]"
      ]
     },
     "metadata": {},
     "output_type": "display_data"
    },
    {
     "name": "stdout",
     "output_type": "stream",
     "text": [
      "In 40 Pro From 161\n",
      "\n",
      "★[15%쿠폰할인 + 거치홀더증정]JMW 팬텀 프라임 드라이기 MS6003C 무광블랙에디션\n"
     ]
    },
    {
     "data": {
      "application/vnd.jupyter.widget-view+json": {
       "model_id": "e61975e90aca46519ee74061e7af49f0",
       "version_major": 2,
       "version_minor": 0
      },
      "text/plain": [
       "  0%|          | 0/10 [00:00<?, ?it/s]"
      ]
     },
     "metadata": {},
     "output_type": "display_data"
    },
    {
     "name": "stdout",
     "output_type": "stream",
     "text": [
      "In 41 Pro From 161\n",
      "\n",
      "유닉스 드라이어 UN-A1454\n"
     ]
    },
    {
     "data": {
      "application/vnd.jupyter.widget-view+json": {
       "model_id": "419eb56851954b36951f5634319616bd",
       "version_major": 2,
       "version_minor": 0
      },
      "text/plain": [
       "  0%|          | 0/10 [00:00<?, ?it/s]"
      ]
     },
     "metadata": {},
     "output_type": "display_data"
    },
    {
     "name": "stdout",
     "output_type": "stream",
     "text": [
      "In 42 Pro From 161\n",
      "\n",
      "★[15%쿠폰할인 + 거치홀더증정]JMW 뉴항공기모터 드라이기 맥스 MF5002B 다크블루\n"
     ]
    },
    {
     "data": {
      "application/vnd.jupyter.widget-view+json": {
       "model_id": "1b7a79cd960a4d65b0dc83fc2e1e446b",
       "version_major": 2,
       "version_minor": 0
      },
      "text/plain": [
       "  0%|          | 0/10 [00:00<?, ?it/s]"
      ]
     },
     "metadata": {},
     "output_type": "display_data"
    },
    {
     "name": "stdout",
     "output_type": "stream",
     "text": [
      "In 43 Pro From 161\n",
      "\n",
      "이온 헤어드라이기 UN-A1980\n"
     ]
    },
    {
     "data": {
      "application/vnd.jupyter.widget-view+json": {
       "model_id": "bd6917011145442eafea19dcf4af0843",
       "version_major": 2,
       "version_minor": 0
      },
      "text/plain": [
       "  0%|          | 0/10 [00:00<?, ?it/s]"
      ]
     },
     "metadata": {},
     "output_type": "display_data"
    },
    {
     "name": "stdout",
     "output_type": "stream",
     "text": [
      "In 44 Pro From 161\n",
      "\n",
      "★[쿠폰적용가 69,000원] JMW MF5001A 전문가용 항공모터 접이식 헤어 드라이기 화이트+사은품\n"
     ]
    },
    {
     "data": {
      "application/vnd.jupyter.widget-view+json": {
       "model_id": "5fa6295ac6cc48c295fcdddb152d40af",
       "version_major": 2,
       "version_minor": 0
      },
      "text/plain": [
       "  0%|          | 0/9 [00:00<?, ?it/s]"
      ]
     },
     "metadata": {},
     "output_type": "display_data"
    },
    {
     "name": "stdout",
     "output_type": "stream",
     "text": [
      "In 45 Pro From 161\n",
      "\n",
      " FHI 미니 고데기/매직기/전용파우치/코드 분리형/여행용 고데기/프리볼트/휴대용 고데기/학생 고데기/FHI_MINI / AT-01M\n"
     ]
    },
    {
     "data": {
      "application/vnd.jupyter.widget-view+json": {
       "model_id": "d493cef7dbce491da3d131ce5d2f6818",
       "version_major": 2,
       "version_minor": 0
      },
      "text/plain": [
       "  0%|          | 0/9 [00:00<?, ?it/s]"
      ]
     },
     "metadata": {},
     "output_type": "display_data"
    },
    {
     "name": "stdout",
     "output_type": "stream",
     "text": [
      "In 46 Pro From 161\n",
      "\n",
      "★[15%쿠폰할인 + 거치홀더증정]JMW BLDC항공모터 드라이기 MG1700 블랙\n"
     ]
    },
    {
     "data": {
      "application/vnd.jupyter.widget-view+json": {
       "model_id": "835140b221eb444393ddf2bea713a703",
       "version_major": 2,
       "version_minor": 0
      },
      "text/plain": [
       "  0%|          | 0/9 [00:00<?, ?it/s]"
      ]
     },
     "metadata": {},
     "output_type": "display_data"
    },
    {
     "name": "stdout",
     "output_type": "stream",
     "text": [
      "In 47 Pro From 161\n",
      "\n",
      "필립스 드라이어 BHD143/09\n"
     ]
    },
    {
     "data": {
      "application/vnd.jupyter.widget-view+json": {
       "model_id": "f5b66af7aa19432d87e511d8524e24b6",
       "version_major": 2,
       "version_minor": 0
      },
      "text/plain": [
       "  0%|          | 0/8 [00:00<?, ?it/s]"
      ]
     },
     "metadata": {},
     "output_type": "display_data"
    },
    {
     "name": "stdout",
     "output_type": "stream",
     "text": [
      "In 48 Pro From 161\n",
      "\n",
      "예스뷰티/피닉스 스타일링 이미용가전 모음\n"
     ]
    },
    {
     "data": {
      "application/vnd.jupyter.widget-view+json": {
       "model_id": "746a83dfea9a42acb98063e0d5b4f92c",
       "version_major": 2,
       "version_minor": 0
      },
      "text/plain": [
       "  0%|          | 0/8 [00:00<?, ?it/s]"
      ]
     },
     "metadata": {},
     "output_type": "display_data"
    },
    {
     "name": "stdout",
     "output_type": "stream",
     "text": [
      "In 49 Pro From 161\n",
      "\n",
      "다이슨 헤어드라이기 거치대\n"
     ]
    },
    {
     "data": {
      "application/vnd.jupyter.widget-view+json": {
       "model_id": "29ab2c22e421420caf521507a86d8c37",
       "version_major": 2,
       "version_minor": 0
      },
      "text/plain": [
       "  0%|          | 0/7 [00:00<?, ?it/s]"
      ]
     },
     "metadata": {},
     "output_type": "display_data"
    },
    {
     "name": "stdout",
     "output_type": "stream",
     "text": [
      "In 50 Pro From 161\n",
      "\n",
      "[ 10%할인쿠폰+사은품증정] JMW 본사 직영 2021년형 신제품 드라이기 & 고데기 프로모션\n"
     ]
    },
    {
     "data": {
      "application/vnd.jupyter.widget-view+json": {
       "model_id": "0af4662be5d14c8b8d0e57135dcb53a2",
       "version_major": 2,
       "version_minor": 0
      },
      "text/plain": [
       "  0%|          | 0/7 [00:00<?, ?it/s]"
      ]
     },
     "metadata": {},
     "output_type": "display_data"
    },
    {
     "name": "stdout",
     "output_type": "stream",
     "text": [
      "In 51 Pro From 161\n",
      "\n",
      "[10%쿠폰할인]JMW 팬텀 프라임 드라이기 MS6003C 무광블랙에디션\n"
     ]
    },
    {
     "data": {
      "application/vnd.jupyter.widget-view+json": {
       "model_id": "fff7259ef12145dd8ef2d330c60a3b30",
       "version_major": 2,
       "version_minor": 0
      },
      "text/plain": [
       "  0%|          | 0/7 [00:00<?, ?it/s]"
      ]
     },
     "metadata": {},
     "output_type": "display_data"
    },
    {
     "name": "stdout",
     "output_type": "stream",
     "text": [
      "In 52 Pro From 161\n",
      "\n",
      "써모프로텍트 헤어드라이어 HP8244/09\n"
     ]
    },
    {
     "data": {
      "application/vnd.jupyter.widget-view+json": {
       "model_id": "fd832cf18d1f4ca881cf5d2194c2fb15",
       "version_major": 2,
       "version_minor": 0
      },
      "text/plain": [
       "  0%|          | 0/7 [00:00<?, ?it/s]"
      ]
     },
     "metadata": {},
     "output_type": "display_data"
    },
    {
     "name": "stdout",
     "output_type": "stream",
     "text": [
      "In 53 Pro From 161\n",
      "\n",
      "★항공기모터장착/[유닉스] SUPER D+(슈퍼디플러스) BLDC 드라이기  UN-B4010S\n"
     ]
    },
    {
     "data": {
      "application/vnd.jupyter.widget-view+json": {
       "model_id": "28ed3970d970481e8db1870287bb20dd",
       "version_major": 2,
       "version_minor": 0
      },
      "text/plain": [
       "  0%|          | 0/6 [00:00<?, ?it/s]"
      ]
     },
     "metadata": {},
     "output_type": "display_data"
    },
    {
     "name": "stdout",
     "output_type": "stream",
     "text": [
      "In 54 Pro From 161\n",
      "\n",
      "트위니 나노 핸디 스팀다리미 DV9000\n"
     ]
    },
    {
     "data": {
      "application/vnd.jupyter.widget-view+json": {
       "model_id": "ea654ceb49ce47cb9507907153885c5a",
       "version_major": 2,
       "version_minor": 0
      },
      "text/plain": [
       "  0%|          | 0/6 [00:00<?, ?it/s]"
      ]
     },
     "metadata": {},
     "output_type": "display_data"
    },
    {
     "name": "stdout",
     "output_type": "stream",
     "text": [
      "In 55 Pro From 161\n",
      "\n",
      "[12%쿠폰할인] JMW BLDC항공모터 드라이기 MG1800 화이트\n"
     ]
    },
    {
     "data": {
      "application/vnd.jupyter.widget-view+json": {
       "model_id": "bee0da244f1943be9c196d5cc1875343",
       "version_major": 2,
       "version_minor": 0
      },
      "text/plain": [
       "  0%|          | 0/6 [00:00<?, ?it/s]"
      ]
     },
     "metadata": {},
     "output_type": "display_data"
    },
    {
     "name": "stdout",
     "output_type": "stream",
     "text": [
      "In 56 Pro From 161\n",
      "\n",
      "업소용 드라이기  /음이온/전문가용/대용량\n"
     ]
    },
    {
     "data": {
      "application/vnd.jupyter.widget-view+json": {
       "model_id": "2e2a55d8c2284cd49da0343d6adf5380",
       "version_major": 2,
       "version_minor": 0
      },
      "text/plain": [
       "  0%|          | 0/6 [00:00<?, ?it/s]"
      ]
     },
     "metadata": {},
     "output_type": "display_data"
    },
    {
     "name": "stdout",
     "output_type": "stream",
     "text": [
      "In 57 Pro From 161\n",
      "\n",
      "★JMW 항공모터 헤어 드라이기 MA6001A 1600W + 거치대 세트\n"
     ]
    },
    {
     "data": {
      "application/vnd.jupyter.widget-view+json": {
       "model_id": "918e79cc2be44673ae311fb6260c358f",
       "version_major": 2,
       "version_minor": 0
      },
      "text/plain": [
       "  0%|          | 0/5 [00:00<?, ?it/s]"
      ]
     },
     "metadata": {},
     "output_type": "display_data"
    },
    {
     "name": "stdout",
     "output_type": "stream",
     "text": [
      "In 58 Pro From 161\n",
      "\n",
      "2200W 전문가용 드라이기 RH-4200\n"
     ]
    },
    {
     "data": {
      "application/vnd.jupyter.widget-view+json": {
       "model_id": "3d6be767038b46bf83bec83f97445ec1",
       "version_major": 2,
       "version_minor": 0
      },
      "text/plain": [
       "  0%|          | 0/5 [00:00<?, ?it/s]"
      ]
     },
     "metadata": {},
     "output_type": "display_data"
    },
    {
     "name": "stdout",
     "output_type": "stream",
     "text": [
      "In 59 Pro From 161\n",
      "\n",
      " 라이프썸 LED거울/고데기/드라이기 등 뷰티,이미용기기 모음전\n"
     ]
    },
    {
     "data": {
      "application/vnd.jupyter.widget-view+json": {
       "model_id": "b9c3ecead61e4744814e827ee18d160d",
       "version_major": 2,
       "version_minor": 0
      },
      "text/plain": [
       "  0%|          | 0/5 [00:00<?, ?it/s]"
      ]
     },
     "metadata": {},
     "output_type": "display_data"
    },
    {
     "name": "stdout",
     "output_type": "stream",
     "text": [
      "In 60 Pro From 161\n",
      "\n",
      "슈퍼디플러스 BLDC 접이식 드라이기 UN-A6010\n"
     ]
    },
    {
     "data": {
      "application/vnd.jupyter.widget-view+json": {
       "model_id": "06d75ccdbe354562a4af250e9e820dc6",
       "version_major": 2,
       "version_minor": 0
      },
      "text/plain": [
       "  0%|          | 0/5 [00:00<?, ?it/s]"
      ]
     },
     "metadata": {},
     "output_type": "display_data"
    },
    {
     "name": "stdout",
     "output_type": "stream",
     "text": [
      "In 61 Pro From 161\n",
      "\n",
      "고풍량 저소음 전문가용 드라이기 UN-B1990\n"
     ]
    },
    {
     "data": {
      "application/vnd.jupyter.widget-view+json": {
       "model_id": "8a56eab1b6c942969bfa9069aebfbe0c",
       "version_major": 2,
       "version_minor": 0
      },
      "text/plain": [
       "  0%|          | 0/5 [00:00<?, ?it/s]"
      ]
     },
     "metadata": {},
     "output_type": "display_data"
    },
    {
     "name": "stdout",
     "output_type": "stream",
     "text": [
      "In 62 Pro From 161\n",
      "\n",
      "3만원적립 5/31까지★슈퍼소닉(푸시아/니켈) 스페셜 기프트 에디션\n"
     ]
    },
    {
     "data": {
      "application/vnd.jupyter.widget-view+json": {
       "model_id": "65e5d789165c4733a25cb88601a7699d",
       "version_major": 2,
       "version_minor": 0
      },
      "text/plain": [
       "  0%|          | 0/4 [00:00<?, ?it/s]"
      ]
     },
     "metadata": {},
     "output_type": "display_data"
    },
    {
     "name": "stdout",
     "output_type": "stream",
     "text": [
      "In 63 Pro From 161\n",
      "\n",
      "헤어드라이어 포켓파워 HV1720K0\n"
     ]
    },
    {
     "data": {
      "application/vnd.jupyter.widget-view+json": {
       "model_id": "1e39548899e040a687a2a6528fa870a3",
       "version_major": 2,
       "version_minor": 0
      },
      "text/plain": [
       "  0%|          | 0/4 [00:00<?, ?it/s]"
      ]
     },
     "metadata": {},
     "output_type": "display_data"
    },
    {
     "name": "stdout",
     "output_type": "stream",
     "text": [
      "In 64 Pro From 161\n",
      "\n",
      "헤어 드라이기 프리미엄케어 무빙에어 HV6078\n"
     ]
    },
    {
     "data": {
      "application/vnd.jupyter.widget-view+json": {
       "model_id": "08417f3d42144e6e90d2bf792b860895",
       "version_major": 2,
       "version_minor": 0
      },
      "text/plain": [
       "  0%|          | 0/5 [00:00<?, ?it/s]"
      ]
     },
     "metadata": {},
     "output_type": "display_data"
    },
    {
     "name": "stdout",
     "output_type": "stream",
     "text": [
      "In 65 Pro From 161\n",
      "\n",
      "[SMF] 1600W 프리미엄케어 접이식 여행용 드라이기 SMF-1601AH 냉풍/쎈힘/슬라이딩스위치\n"
     ]
    },
    {
     "data": {
      "application/vnd.jupyter.widget-view+json": {
       "model_id": "adf65386d44f4bbdbfc09f095f6a8dd6",
       "version_major": 2,
       "version_minor": 0
      },
      "text/plain": [
       "  0%|          | 0/4 [00:00<?, ?it/s]"
      ]
     },
     "metadata": {},
     "output_type": "display_data"
    },
    {
     "name": "stdout",
     "output_type": "stream",
     "text": [
      "In 66 Pro From 161\n",
      "\n",
      "세라믹홈스타일러 고데기 UCI-2944FS\n"
     ]
    },
    {
     "data": {
      "application/vnd.jupyter.widget-view+json": {
       "model_id": "1b0bb3b0828d48d6b5a65141cb4abca8",
       "version_major": 2,
       "version_minor": 0
      },
      "text/plain": [
       "  0%|          | 0/4 [00:00<?, ?it/s]"
      ]
     },
     "metadata": {},
     "output_type": "display_data"
    },
    {
     "name": "stdout",
     "output_type": "stream",
     "text": [
      "In 67 Pro From 161\n",
      "\n",
      "[로그인12%쿠폰할인] JMW 프리미엄 드라이기 에어센스 MS7002B 어반코랄\n"
     ]
    },
    {
     "data": {
      "application/vnd.jupyter.widget-view+json": {
       "model_id": "4cb87a5f43da4e8cba75d87b1afb1635",
       "version_major": 2,
       "version_minor": 0
      },
      "text/plain": [
       "  0%|          | 0/4 [00:00<?, ?it/s]"
      ]
     },
     "metadata": {},
     "output_type": "display_data"
    },
    {
     "name": "stdout",
     "output_type": "stream",
     "text": [
      "In 68 Pro From 161\n",
      "\n",
      "일렉맨 혼족 헤어 드라이어 HG-E2411\n"
     ]
    },
    {
     "data": {
      "application/vnd.jupyter.widget-view+json": {
       "model_id": "514562478b6942afbff43d56866c3362",
       "version_major": 2,
       "version_minor": 0
      },
      "text/plain": [
       "  0%|          | 0/4 [00:00<?, ?it/s]"
      ]
     },
     "metadata": {},
     "output_type": "display_data"
    },
    {
     "name": "stdout",
     "output_type": "stream",
     "text": [
      "In 69 Pro From 161\n",
      "\n",
      "★[쿠폰적용가 65,000원] JMW M5001A 전문가용 BLDC항공모터 헤어 드라이기+사은품\n"
     ]
    },
    {
     "data": {
      "application/vnd.jupyter.widget-view+json": {
       "model_id": "fe793414fda34434a8115fb42fd37dfb",
       "version_major": 2,
       "version_minor": 0
      },
      "text/plain": [
       "  0%|          | 0/4 [00:00<?, ?it/s]"
      ]
     },
     "metadata": {},
     "output_type": "display_data"
    },
    {
     "name": "stdout",
     "output_type": "stream",
     "text": [
      "In 70 Pro From 161\n",
      "\n",
      "헤어드라이기 UN-1340 외 드라이기 모음\n"
     ]
    },
    {
     "data": {
      "application/vnd.jupyter.widget-view+json": {
       "model_id": "4b867e98ff8f4197b7bf4afced78c2b3",
       "version_major": 2,
       "version_minor": 0
      },
      "text/plain": [
       "  0%|          | 0/4 [00:00<?, ?it/s]"
      ]
     },
     "metadata": {},
     "output_type": "display_data"
    },
    {
     "name": "stdout",
     "output_type": "stream",
     "text": [
      "In 71 Pro From 161\n",
      "\n",
      "★[신상위크 13% 쿠폰] JMW 에어젯 울트라 MS6031E 항공모터 헤어 드라이기+사은품\n"
     ]
    },
    {
     "data": {
      "application/vnd.jupyter.widget-view+json": {
       "model_id": "55c2a0ec560a4dd19a9817267cfc976a",
       "version_major": 2,
       "version_minor": 0
      },
      "text/plain": [
       "  0%|          | 0/4 [00:00<?, ?it/s]"
      ]
     },
     "metadata": {},
     "output_type": "display_data"
    },
    {
     "name": "stdout",
     "output_type": "stream",
     "text": [
      "In 72 Pro From 161\n",
      "\n",
      "헤어드라이어 포켓파워 HV1720K0\n"
     ]
    },
    {
     "data": {
      "application/vnd.jupyter.widget-view+json": {
       "model_id": "a06cda8c8c544c6ca78e33f9f49b88da",
       "version_major": 2,
       "version_minor": 0
      },
      "text/plain": [
       "  0%|          | 0/4 [00:00<?, ?it/s]"
      ]
     },
     "metadata": {},
     "output_type": "display_data"
    },
    {
     "name": "stdout",
     "output_type": "stream",
     "text": [
      "In 73 Pro From 161\n",
      "\n",
      "드라이어/음이온/쿨버튼/온도조절 UN-B1641\n"
     ]
    },
    {
     "data": {
      "application/vnd.jupyter.widget-view+json": {
       "model_id": "0ad8b7fb660a4706add075628cd53dbb",
       "version_major": 2,
       "version_minor": 0
      },
      "text/plain": [
       "  0%|          | 0/3 [00:00<?, ?it/s]"
      ]
     },
     "metadata": {},
     "output_type": "display_data"
    },
    {
     "name": "stdout",
     "output_type": "stream",
     "text": [
      "In 74 Pro From 161\n",
      "\n",
      "1500W UN-A1141 전문가용드라이기/미용실헤어드라이기/업소용드라이기/음이온/강약냉풍조절/4단조절\n"
     ]
    },
    {
     "data": {
      "application/vnd.jupyter.widget-view+json": {
       "model_id": "82dc6143e7a14f8aa17c926e24e6e324",
       "version_major": 2,
       "version_minor": 0
      },
      "text/plain": [
       "  0%|          | 0/3 [00:00<?, ?it/s]"
      ]
     },
     "metadata": {},
     "output_type": "display_data"
    },
    {
     "name": "stdout",
     "output_type": "stream",
     "text": [
      "In 75 Pro From 161\n",
      "\n",
      "[바비리스]AS100VK - 900W 3in1 멀티 에어 스타일러 브러쉬 [탈부착 필터/보관용 파우치]\n"
     ]
    },
    {
     "data": {
      "application/vnd.jupyter.widget-view+json": {
       "model_id": "5d36cb1cf6914ff7a06d4c76be6a3937",
       "version_major": 2,
       "version_minor": 0
      },
      "text/plain": [
       "  0%|          | 0/3 [00:00<?, ?it/s]"
      ]
     },
     "metadata": {},
     "output_type": "display_data"
    },
    {
     "name": "stdout",
     "output_type": "stream",
     "text": [
      "In 76 Pro From 161\n",
      "\n",
      "프리미엄케어 스튜디오 드라이 HV5461\n"
     ]
    },
    {
     "data": {
      "application/vnd.jupyter.widget-view+json": {
       "model_id": "df8f529dbda44e619e7fe5e31d0323da",
       "version_major": 2,
       "version_minor": 0
      },
      "text/plain": [
       "  0%|          | 0/3 [00:00<?, ?it/s]"
      ]
     },
     "metadata": {},
     "output_type": "display_data"
    },
    {
     "name": "stdout",
     "output_type": "stream",
     "text": [
      "In 77 Pro From 161\n",
      "\n",
      "4YOU 다이슨 에어랩 실리콘 커버 케이스 스크래치방지\n"
     ]
    },
    {
     "data": {
      "application/vnd.jupyter.widget-view+json": {
       "model_id": "9779c7f64b8f4455bbe7d024041eb35d",
       "version_major": 2,
       "version_minor": 0
      },
      "text/plain": [
       "  0%|          | 0/3 [00:00<?, ?it/s]"
      ]
     },
     "metadata": {},
     "output_type": "display_data"
    },
    {
     "name": "stdout",
     "output_type": "stream",
     "text": [
      "In 78 Pro From 161\n",
      "\n",
      "★[15%쿠폰할인 + 거치홀더증정]JMW 프리미엄 드라이기 에어센스 MS7001A 올화이트\n"
     ]
    },
    {
     "data": {
      "application/vnd.jupyter.widget-view+json": {
       "model_id": "5d75748e42ef46fe9aae92b5c6e8d208",
       "version_major": 2,
       "version_minor": 0
      },
      "text/plain": [
       "  0%|          | 0/3 [00:00<?, ?it/s]"
      ]
     },
     "metadata": {},
     "output_type": "display_data"
    },
    {
     "name": "stdout",
     "output_type": "stream",
     "text": [
      "In 79 Pro From 161\n",
      "\n",
      "이놀 JMW 옥토퍼스 드라이기 거치대 홀더 블랙/화이트\n"
     ]
    },
    {
     "data": {
      "application/vnd.jupyter.widget-view+json": {
       "model_id": "0c577d79ce9d4238bb7e2f2c07060ed6",
       "version_major": 2,
       "version_minor": 0
      },
      "text/plain": [
       "  0%|          | 0/3 [00:00<?, ?it/s]"
      ]
     },
     "metadata": {},
     "output_type": "display_data"
    },
    {
     "name": "stdout",
     "output_type": "stream",
     "text": [
      "In 80 Pro From 161\n",
      "\n",
      "드라이기 헤어 드라이어 스타일러 마사지기 안마기  모음전\n"
     ]
    },
    {
     "data": {
      "application/vnd.jupyter.widget-view+json": {
       "model_id": "b57afbedbfa544eb9695584b69464b4e",
       "version_major": 2,
       "version_minor": 0
      },
      "text/plain": [
       "  0%|          | 0/3 [00:00<?, ?it/s]"
      ]
     },
     "metadata": {},
     "output_type": "display_data"
    },
    {
     "name": "stdout",
     "output_type": "stream",
     "text": [
      "In 81 Pro From 161\n",
      "\n",
      "[한샘] 여행용 미니 드라이기 HS\n"
     ]
    },
    {
     "data": {
      "application/vnd.jupyter.widget-view+json": {
       "model_id": "b377b69e31b146d19bf9968755c6ec68",
       "version_major": 2,
       "version_minor": 0
      },
      "text/plain": [
       "  0%|          | 0/1 [00:00<?, ?it/s]"
      ]
     },
     "metadata": {},
     "output_type": "display_data"
    },
    {
     "name": "stdout",
     "output_type": "stream",
     "text": [
      "In 82 Pro From 161\n",
      "\n",
      "CKI-D303 저소음 전문가용 드라이기\n"
     ]
    },
    {
     "data": {
      "application/vnd.jupyter.widget-view+json": {
       "model_id": "0cbb37e3befb4fee90bdb0b5e4712b77",
       "version_major": 2,
       "version_minor": 0
      },
      "text/plain": [
       "  0%|          | 0/1 [00:00<?, ?it/s]"
      ]
     },
     "metadata": {},
     "output_type": "display_data"
    },
    {
     "name": "stdout",
     "output_type": "stream",
     "text": [
      "In 83 Pro From 161\n",
      "\n",
      "5561K - 1400W 접이식 콤팩트 헤어 드라이기\n"
     ]
    },
    {
     "data": {
      "application/vnd.jupyter.widget-view+json": {
       "model_id": "f2bc15ca4eaa483189f1759fe51853ad",
       "version_major": 2,
       "version_minor": 0
      },
      "text/plain": [
       "  0%|          | 0/1 [00:00<?, ?it/s]"
      ]
     },
     "metadata": {},
     "output_type": "display_data"
    },
    {
     "name": "stdout",
     "output_type": "stream",
     "text": [
      "In 84 Pro From 161\n",
      "\n",
      "국산 전문가용 헤어 드라이기 UN-A1824B 헤어스타일러 스타일러 1300W\n"
     ]
    },
    {
     "data": {
      "application/vnd.jupyter.widget-view+json": {
       "model_id": "a73e54410a6f4188ba524a21cca46f68",
       "version_major": 2,
       "version_minor": 0
      },
      "text/plain": [
       "  0%|          | 0/1 [00:00<?, ?it/s]"
      ]
     },
     "metadata": {},
     "output_type": "display_data"
    },
    {
     "name": "stdout",
     "output_type": "stream",
     "text": [
      "In 85 Pro From 161\n",
      "\n",
      "CKI-D201 헤어드라이기 미니드라이기 휴대용 접이식\n"
     ]
    },
    {
     "data": {
      "application/vnd.jupyter.widget-view+json": {
       "model_id": "2d2523fee8f14880aac94b23ce6a7d59",
       "version_major": 2,
       "version_minor": 0
      },
      "text/plain": [
       "  0%|          | 0/1 [00:00<?, ?it/s]"
      ]
     },
     "metadata": {},
     "output_type": "display_data"
    },
    {
     "name": "stdout",
     "output_type": "stream",
     "text": [
      "In 86 Pro From 161\n",
      "\n",
      "CKI-1102 브러쉬 고데기\n"
     ]
    },
    {
     "data": {
      "application/vnd.jupyter.widget-view+json": {
       "model_id": "455d30c8b7854dac9f38b72d60658399",
       "version_major": 2,
       "version_minor": 0
      },
      "text/plain": [
       "  0%|          | 0/1 [00:00<?, ?it/s]"
      ]
     },
     "metadata": {},
     "output_type": "display_data"
    },
    {
     "name": "stdout",
     "output_type": "stream",
     "text": [
      "In 87 Pro From 161\n",
      "\n",
      "웨이브노즐 헤어드라이기 UN-A1005\n"
     ]
    },
    {
     "data": {
      "application/vnd.jupyter.widget-view+json": {
       "model_id": "49e2be394d044b84b3d0627a5e1f2f99",
       "version_major": 2,
       "version_minor": 0
      },
      "text/plain": [
       "  0%|          | 0/1 [00:00<?, ?it/s]"
      ]
     },
     "metadata": {},
     "output_type": "display_data"
    },
    {
     "name": "stdout",
     "output_type": "stream",
     "text": [
      "In 88 Pro From 161\n",
      "\n",
      "가먼스티머 프로스타일 IT3424K0\n"
     ]
    },
    {
     "data": {
      "application/vnd.jupyter.widget-view+json": {
       "model_id": "e2d230a791964b808835779ecb106490",
       "version_major": 2,
       "version_minor": 0
      },
      "text/plain": [
       "  0%|          | 0/1 [00:00<?, ?it/s]"
      ]
     },
     "metadata": {},
     "output_type": "display_data"
    },
    {
     "name": "stdout",
     "output_type": "stream",
     "text": [
      "In 89 Pro From 161\n",
      "\n",
      "[정품 스타일링 디퓨저 증정]JMW 본사 직영 BLDC 항공모터 드라이기 터보 MS6210A\n"
     ]
    },
    {
     "data": {
      "application/vnd.jupyter.widget-view+json": {
       "model_id": "f21faad972084bddbfd3c7459cdb6c54",
       "version_major": 2,
       "version_minor": 0
      },
      "text/plain": [
       "  0%|          | 0/1 [00:00<?, ?it/s]"
      ]
     },
     "metadata": {},
     "output_type": "display_data"
    },
    {
     "name": "stdout",
     "output_type": "stream",
     "text": [
      "In 90 Pro From 161\n",
      "\n",
      "굿센스 스파이더락 흡착식 와이어 드라이어걸이(싱글)\n"
     ]
    },
    {
     "data": {
      "application/vnd.jupyter.widget-view+json": {
       "model_id": "c81c151e01c54f3282329ac7fb61070a",
       "version_major": 2,
       "version_minor": 0
      },
      "text/plain": [
       "  0%|          | 0/1 [00:00<?, ?it/s]"
      ]
     },
     "metadata": {},
     "output_type": "display_data"
    },
    {
     "name": "stdout",
     "output_type": "stream",
     "text": [
      "In 91 Pro From 161\n",
      "\n",
      " 멀티 스타일러 브러쉬 볼륨 매직 고데기 EPM-6000\n"
     ]
    },
    {
     "data": {
      "application/vnd.jupyter.widget-view+json": {
       "model_id": "9b6e5f89bf374935be75d59ba57f080e",
       "version_major": 2,
       "version_minor": 0
      },
      "text/plain": [
       "  0%|          | 0/1 [00:00<?, ?it/s]"
      ]
     },
     "metadata": {},
     "output_type": "display_data"
    },
    {
     "name": "stdout",
     "output_type": "stream",
     "text": [
      "In 92 Pro From 161\n",
      "\n",
      "D321K - 2000W 엑스퍼트 헤어 드라이기[3단/쿨샷/걸이용 고리]\n"
     ]
    },
    {
     "data": {
      "application/vnd.jupyter.widget-view+json": {
       "model_id": "5f3ca31396e247e8bbd46ee2dc6c517b",
       "version_major": 2,
       "version_minor": 0
      },
      "text/plain": [
       "  0%|          | 0/1 [00:00<?, ?it/s]"
      ]
     },
     "metadata": {},
     "output_type": "display_data"
    },
    {
     "name": "stdout",
     "output_type": "stream",
     "text": [
      "In 93 Pro From 161\n",
      "\n",
      "가정 및 업소용 음이온 헤어드라이기 KHD-5307I[1350W 음이온 4단풍량, 모발유입방지필터장착]\n"
     ]
    },
    {
     "data": {
      "application/vnd.jupyter.widget-view+json": {
       "model_id": "b9d704b003f54be28f807c3154cbffd9",
       "version_major": 2,
       "version_minor": 0
      },
      "text/plain": [
       "  0%|          | 0/1 [00:00<?, ?it/s]"
      ]
     },
     "metadata": {},
     "output_type": "display_data"
    },
    {
     "name": "stdout",
     "output_type": "stream",
     "text": [
      "In 94 Pro From 161\n",
      "\n",
      "헤어드라이어 무빙에어 HV6076K0\n"
     ]
    },
    {
     "data": {
      "application/vnd.jupyter.widget-view+json": {
       "model_id": "9c4b89ac9e734d28b63a5e160865c5bf",
       "version_major": 2,
       "version_minor": 0
      },
      "text/plain": [
       "  0%|          | 0/1 [00:00<?, ?it/s]"
      ]
     },
     "metadata": {},
     "output_type": "display_data"
    },
    {
     "name": "stdout",
     "output_type": "stream",
     "text": [
      "In 95 Pro From 161\n",
      "\n",
      "[JAJU/자주] 부드러운 바람 헤어 드라이어\n"
     ]
    },
    {
     "data": {
      "application/vnd.jupyter.widget-view+json": {
       "model_id": "5e2f9ee24f66489db68929f279f99843",
       "version_major": 2,
       "version_minor": 0
      },
      "text/plain": [
       "  0%|          | 0/1 [00:00<?, ?it/s]"
      ]
     },
     "metadata": {},
     "output_type": "display_data"
    },
    {
     "name": "stdout",
     "output_type": "stream",
     "text": [
      "In 96 Pro From 161\n",
      "\n",
      "★[쿠폰적용가 65,000원] JMW M5002B PLUS 전문가용 항공모터 헤어 드라이기 블랙+사은품\n"
     ]
    },
    {
     "data": {
      "application/vnd.jupyter.widget-view+json": {
       "model_id": "c3aba9dfd8254af8bb77466e16a1b2af",
       "version_major": 2,
       "version_minor": 0
      },
      "text/plain": [
       "  0%|          | 0/1 [00:00<?, ?it/s]"
      ]
     },
     "metadata": {},
     "output_type": "display_data"
    },
    {
     "name": "stdout",
     "output_type": "stream",
     "text": [
      "In 97 Pro From 161\n",
      "\n",
      "에어젯 울트라 MS6040D 항공모터 헤어 드라이기 코랄핑크\n"
     ]
    },
    {
     "data": {
      "application/vnd.jupyter.widget-view+json": {
       "model_id": "1c2e3d4095b34e71a828c744ad4007a3",
       "version_major": 2,
       "version_minor": 0
      },
      "text/plain": [
       "  0%|          | 0/1 [00:00<?, ?it/s]"
      ]
     },
     "metadata": {},
     "output_type": "display_data"
    },
    {
     "name": "stdout",
     "output_type": "stream",
     "text": [
      "In 98 Pro From 161\n",
      "\n",
      "★59,900→39,900★[JAJU/자주] 부드러운 바람 헤어 드라이어\n"
     ]
    },
    {
     "data": {
      "application/vnd.jupyter.widget-view+json": {
       "model_id": "d136c643d7174749b6984f10a6c92383",
       "version_major": 2,
       "version_minor": 0
      },
      "text/plain": [
       "  0%|          | 0/1 [00:00<?, ?it/s]"
      ]
     },
     "metadata": {},
     "output_type": "display_data"
    },
    {
     "name": "stdout",
     "output_type": "stream",
     "text": [
      "In 99 Pro From 161\n",
      "\n",
      "오브제 LED 헤어 드라이기 UN-A1918\n"
     ]
    },
    {
     "data": {
      "application/vnd.jupyter.widget-view+json": {
       "model_id": "0e812113f51c417b94f55d1256a07114",
       "version_major": 2,
       "version_minor": 0
      },
      "text/plain": [
       "  0%|          | 0/1 [00:00<?, ?it/s]"
      ]
     },
     "metadata": {},
     "output_type": "display_data"
    },
    {
     "name": "stdout",
     "output_type": "stream",
     "text": [
      "In 100 Pro From 161\n",
      "\n",
      "[DASHU] 다슈 페이스 커버 씨스루(앞가리개)\n"
     ]
    },
    {
     "data": {
      "application/vnd.jupyter.widget-view+json": {
       "model_id": "dadc34c3e844405381d4419dcf0edb4f",
       "version_major": 2,
       "version_minor": 0
      },
      "text/plain": [
       "  0%|          | 0/1 [00:00<?, ?it/s]"
      ]
     },
     "metadata": {},
     "output_type": "display_data"
    },
    {
     "name": "stdout",
     "output_type": "stream",
     "text": [
      "In 101 Pro From 161\n",
      "\n",
      "터보 드라이기 UN-A1330N 전문가용 1650W 국내생산 업소용 레드\n"
     ]
    },
    {
     "data": {
      "application/vnd.jupyter.widget-view+json": {
       "model_id": "2c55cd4449544d2ab9f06e84ee85ab35",
       "version_major": 2,
       "version_minor": 0
      },
      "text/plain": [
       "  0%|          | 0/1 [00:00<?, ?it/s]"
      ]
     },
     "metadata": {},
     "output_type": "display_data"
    },
    {
     "name": "stdout",
     "output_type": "stream",
     "text": [
      "In 102 Pro From 161\n",
      "\n",
      "필립스 에센셜 케어 스트레이트너 BHS375\n"
     ]
    },
    {
     "data": {
      "application/vnd.jupyter.widget-view+json": {
       "model_id": "8e5d94470cd442c992a848aaa2a5ba1d",
       "version_major": 2,
       "version_minor": 0
      },
      "text/plain": [
       "  0%|          | 0/1 [00:00<?, ?it/s]"
      ]
     },
     "metadata": {},
     "output_type": "display_data"
    },
    {
     "name": "stdout",
     "output_type": "stream",
     "text": [
      "In 103 Pro From 161\n",
      "\n",
      "테이크아웃 미니 트립 드라이어 UN-B1727\n"
     ]
    },
    {
     "data": {
      "application/vnd.jupyter.widget-view+json": {
       "model_id": "3bc4b379fe0e4f6bb8bb40cfc2ff5bc1",
       "version_major": 2,
       "version_minor": 0
      },
      "text/plain": [
       "  0%|          | 0/1 [00:00<?, ?it/s]"
      ]
     },
     "metadata": {},
     "output_type": "display_data"
    },
    {
     "name": "stdout",
     "output_type": "stream",
     "text": [
      "In 104 Pro From 161\n",
      "\n",
      "헤어 드라이기 시그니쳐 프로 AC HV7846\n"
     ]
    },
    {
     "data": {
      "application/vnd.jupyter.widget-view+json": {
       "model_id": "24181b54c2c94f0eae999d60847a0b24",
       "version_major": 2,
       "version_minor": 0
      },
      "text/plain": [
       "  0%|          | 0/1 [00:00<?, ?it/s]"
      ]
     },
     "metadata": {},
     "output_type": "display_data"
    },
    {
     "name": "stdout",
     "output_type": "stream",
     "text": [
      "In 105 Pro From 161\n",
      "\n",
      "[바비리스]D580PK - 1600W 접이식 레트로 프로페셔널 헤어 드라이기\n"
     ]
    },
    {
     "data": {
      "application/vnd.jupyter.widget-view+json": {
       "model_id": "90e170bf5d8642a68d05b27197103249",
       "version_major": 2,
       "version_minor": 0
      },
      "text/plain": [
       "  0%|          | 0/1 [00:00<?, ?it/s]"
      ]
     },
     "metadata": {},
     "output_type": "display_data"
    },
    {
     "name": "stdout",
     "output_type": "stream",
     "text": [
      "In 106 Pro From 161\n",
      "\n",
      "FHI HEAT 드라이기 WP_1900/평생쓰는 드라이기 이왕이면 명품브랜드로/미국연속3년최우수제품선정\n"
     ]
    },
    {
     "data": {
      "application/vnd.jupyter.widget-view+json": {
       "model_id": "8f5461b7ee184ecd98194ea6c76dc6cf",
       "version_major": 2,
       "version_minor": 0
      },
      "text/plain": [
       "  0%|          | 0/1 [00:00<?, ?it/s]"
      ]
     },
     "metadata": {},
     "output_type": "display_data"
    },
    {
     "name": "stdout",
     "output_type": "stream",
     "text": [
      "In 107 Pro From 161\n",
      "\n",
      "전문가용 음이온 드라이기 UN-A1501\n"
     ]
    },
    {
     "data": {
      "application/vnd.jupyter.widget-view+json": {
       "model_id": "79612d90d8064ff2a7462653e14d0313",
       "version_major": 2,
       "version_minor": 0
      },
      "text/plain": [
       "|          | 0/0 [00:00<?, ?it/s]"
      ]
     },
     "metadata": {},
     "output_type": "display_data"
    },
    {
     "name": "stdout",
     "output_type": "stream",
     "text": [
      "In 108 Pro From 161\n",
      "\n",
      "알루미늄 헤어롤(특대)\n"
     ]
    },
    {
     "data": {
      "application/vnd.jupyter.widget-view+json": {
       "model_id": "df03655a75d74dafbee0afc6d896afcd",
       "version_major": 2,
       "version_minor": 0
      },
      "text/plain": [
       "|          | 0/0 [00:00<?, ?it/s]"
      ]
     },
     "metadata": {},
     "output_type": "display_data"
    },
    {
     "name": "stdout",
     "output_type": "stream",
     "text": [
      "In 109 Pro From 161\n",
      "\n",
      "[헤어오일 증정][15% 할인] 제이엠더블유 본사 직영 BLDC 터치 드라이기 터치온 MCS6002B\n"
     ]
    },
    {
     "data": {
      "application/vnd.jupyter.widget-view+json": {
       "model_id": "56bdb1e715bc4588b4774431dcae46c8",
       "version_major": 2,
       "version_minor": 0
      },
      "text/plain": [
       "|          | 0/0 [00:00<?, ?it/s]"
      ]
     },
     "metadata": {},
     "output_type": "display_data"
    },
    {
     "name": "stdout",
     "output_type": "stream",
     "text": [
      "In 110 Pro From 161\n",
      "\n",
      "[정품 접이식 파우치 증정]JMW 본사 직영 BLDC 항공모터 접이식 드라이기 MF5102F\n"
     ]
    },
    {
     "data": {
      "application/vnd.jupyter.widget-view+json": {
       "model_id": "5450a866135644ca8ffa58e0e3e289dd",
       "version_major": 2,
       "version_minor": 0
      },
      "text/plain": [
       "|          | 0/0 [00:00<?, ?it/s]"
      ]
     },
     "metadata": {},
     "output_type": "display_data"
    },
    {
     "name": "stdout",
     "output_type": "stream",
     "text": [
      "In 111 Pro From 161\n",
      "\n",
      "한일전자 파테크 헤어드라이어 R23W\n"
     ]
    },
    {
     "data": {
      "application/vnd.jupyter.widget-view+json": {
       "model_id": "b046ddeaff674e0b86638daac2c9a56f",
       "version_major": 2,
       "version_minor": 0
      },
      "text/plain": [
       "|          | 0/0 [00:00<?, ?it/s]"
      ]
     },
     "metadata": {},
     "output_type": "display_data"
    },
    {
     "name": "stdout",
     "output_type": "stream",
     "text": [
      "In 112 Pro From 161\n",
      "\n",
      "드라이기/음이온/쿨버튼/온도조절 UN-B1642\n"
     ]
    },
    {
     "data": {
      "application/vnd.jupyter.widget-view+json": {
       "model_id": "501b3648322645f3b1d2e1c6253ff0cc",
       "version_major": 2,
       "version_minor": 0
      },
      "text/plain": [
       "|          | 0/0 [00:00<?, ?it/s]"
      ]
     },
     "metadata": {},
     "output_type": "display_data"
    },
    {
     "name": "stdout",
     "output_type": "stream",
     "text": [
      "In 113 Pro From 161\n",
      "\n",
      "도어훅 드라이기 거치대-삼도\n"
     ]
    },
    {
     "data": {
      "application/vnd.jupyter.widget-view+json": {
       "model_id": "9571a206f3a7487a95b446dc4bc89dd8",
       "version_major": 2,
       "version_minor": 0
      },
      "text/plain": [
       "|          | 0/0 [00:00<?, ?it/s]"
      ]
     },
     "metadata": {},
     "output_type": "display_data"
    },
    {
     "name": "stdout",
     "output_type": "stream",
     "text": [
      "In 114 Pro From 161\n",
      "\n",
      "전문가용 헤어드라이기 MASTER D2 UN-1880S\n"
     ]
    },
    {
     "data": {
      "application/vnd.jupyter.widget-view+json": {
       "model_id": "cb6651e47fe04c4d8ad137864adb17e9",
       "version_major": 2,
       "version_minor": 0
      },
      "text/plain": [
       "|          | 0/0 [00:00<?, ?it/s]"
      ]
     },
     "metadata": {},
     "output_type": "display_data"
    },
    {
     "name": "stdout",
     "output_type": "stream",
     "text": [
      "In 115 Pro From 161\n",
      "\n",
      "일렉맨 혼족 여행용 드라이어 HG-1501\n"
     ]
    },
    {
     "data": {
      "application/vnd.jupyter.widget-view+json": {
       "model_id": "1df051b4bf9f4c8fb64f13c10d53cb7e",
       "version_major": 2,
       "version_minor": 0
      },
      "text/plain": [
       "|          | 0/0 [00:00<?, ?it/s]"
      ]
     },
     "metadata": {},
     "output_type": "display_data"
    },
    {
     "name": "stdout",
     "output_type": "stream",
     "text": [
      "In 116 Pro From 161\n",
      "\n",
      "무타공 메탈라인 선반일체형 다이슨 드라이기 거치대 G70\n"
     ]
    },
    {
     "data": {
      "application/vnd.jupyter.widget-view+json": {
       "model_id": "003437d1a07d46d98f5d06960e090a49",
       "version_major": 2,
       "version_minor": 0
      },
      "text/plain": [
       "|          | 0/0 [00:00<?, ?it/s]"
      ]
     },
     "metadata": {},
     "output_type": "display_data"
    },
    {
     "name": "stdout",
     "output_type": "stream",
     "text": [
      "In 117 Pro From 161\n",
      "\n",
      "전용사은품! 글램팜 터치 드라이어 GP715 화이트 드라이기 GP715WH\n"
     ]
    },
    {
     "data": {
      "application/vnd.jupyter.widget-view+json": {
       "model_id": "27dd581223d5458db70f5f0717ef3f60",
       "version_major": 2,
       "version_minor": 0
      },
      "text/plain": [
       "|          | 0/0 [00:00<?, ?it/s]"
      ]
     },
     "metadata": {},
     "output_type": "display_data"
    },
    {
     "name": "stdout",
     "output_type": "stream",
     "text": [
      "In 118 Pro From 161\n",
      "\n",
      "프리미엄 항공 드라이기 MS8001A\n"
     ]
    },
    {
     "data": {
      "application/vnd.jupyter.widget-view+json": {
       "model_id": "b30aca8f6cf34408852452503da72d50",
       "version_major": 2,
       "version_minor": 0
      },
      "text/plain": [
       "|          | 0/0 [00:00<?, ?it/s]"
      ]
     },
     "metadata": {},
     "output_type": "display_data"
    },
    {
     "name": "stdout",
     "output_type": "stream",
     "text": [
      "In 119 Pro From 161\n",
      "\n",
      " 컴팩트 프로 헤어 드라이기 HV4771 외1종 택1 빠른건조 강력한 파워\n"
     ]
    },
    {
     "data": {
      "application/vnd.jupyter.widget-view+json": {
       "model_id": "a09073c4be7d42b38816750ad737788d",
       "version_major": 2,
       "version_minor": 0
      },
      "text/plain": [
       "|          | 0/0 [00:00<?, ?it/s]"
      ]
     },
     "metadata": {},
     "output_type": "display_data"
    },
    {
     "name": "stdout",
     "output_type": "stream",
     "text": [
      "In 120 Pro From 161\n",
      "\n",
      "★[15%쿠폰할인 ]JMW 터보 항공기 드라이기 MG1800 PLUS 올화이트\n"
     ]
    },
    {
     "data": {
      "application/vnd.jupyter.widget-view+json": {
       "model_id": "961de4bb2741450dafa251eb3c6a0361",
       "version_major": 2,
       "version_minor": 0
      },
      "text/plain": [
       "|          | 0/0 [00:00<?, ?it/s]"
      ]
     },
     "metadata": {},
     "output_type": "display_data"
    },
    {
     "name": "stdout",
     "output_type": "stream",
     "text": [
      "In 121 Pro From 161\n",
      "\n",
      "드라이어 스튜디오 플러스 HV5433K0\n"
     ]
    },
    {
     "data": {
      "application/vnd.jupyter.widget-view+json": {
       "model_id": "85c3c57dbe314c8a8477304748f5fe3c",
       "version_major": 2,
       "version_minor": 0
      },
      "text/plain": [
       "|          | 0/0 [00:00<?, ?it/s]"
      ]
     },
     "metadata": {},
     "output_type": "display_data"
    },
    {
     "name": "stdout",
     "output_type": "stream",
     "text": [
      "In 122 Pro From 161\n",
      "\n",
      "드라이어 접이식/음이온/2000W/쿨버튼 UN-A1454\n"
     ]
    },
    {
     "data": {
      "application/vnd.jupyter.widget-view+json": {
       "model_id": "beeb4220234b49b9b56996580c1ca826",
       "version_major": 2,
       "version_minor": 0
      },
      "text/plain": [
       "|          | 0/0 [00:00<?, ?it/s]"
      ]
     },
     "metadata": {},
     "output_type": "display_data"
    },
    {
     "name": "stdout",
     "output_type": "stream",
     "text": [
      "In 123 Pro From 161\n",
      "\n",
      "[로그인12%쿠폰할인] JMW 뉴항공기모터 드라이기 맥스 MF5002B 다크블루\n"
     ]
    },
    {
     "data": {
      "application/vnd.jupyter.widget-view+json": {
       "model_id": "e32a41c0d8f84b1391e11674f7649b43",
       "version_major": 2,
       "version_minor": 0
      },
      "text/plain": [
       "|          | 0/0 [00:00<?, ?it/s]"
      ]
     },
     "metadata": {},
     "output_type": "display_data"
    },
    {
     "name": "stdout",
     "output_type": "stream",
     "text": [
      "In 124 Pro From 161\n",
      "\n",
      "CKI-D402 전문가용 드라이기\n"
     ]
    },
    {
     "data": {
      "application/vnd.jupyter.widget-view+json": {
       "model_id": "d47689077e834a68bd69d9993db880ac",
       "version_major": 2,
       "version_minor": 0
      },
      "text/plain": [
       "|          | 0/0 [00:00<?, ?it/s]"
      ]
     },
     "metadata": {},
     "output_type": "display_data"
    },
    {
     "name": "stdout",
     "output_type": "stream",
     "text": [
      "In 125 Pro From 161\n",
      "\n",
      "접이식 헤어 드라이기 UN-2895A 여행용 1600W 코드홀드\n"
     ]
    },
    {
     "data": {
      "application/vnd.jupyter.widget-view+json": {
       "model_id": "bffe3d6554384d96955c3911d52ad716",
       "version_major": 2,
       "version_minor": 0
      },
      "text/plain": [
       "|          | 0/0 [00:00<?, ?it/s]"
      ]
     },
     "metadata": {},
     "output_type": "display_data"
    },
    {
     "name": "stdout",
     "output_type": "stream",
     "text": [
      "In 126 Pro From 161\n",
      "\n",
      "2000W 강력모터 냉풍/온도3단계조절 KHD-5380\n"
     ]
    },
    {
     "data": {
      "application/vnd.jupyter.widget-view+json": {
       "model_id": "90b1d52022ea46c097c28f98f280541b",
       "version_major": 2,
       "version_minor": 0
      },
      "text/plain": [
       "|          | 0/0 [00:00<?, ?it/s]"
      ]
     },
     "metadata": {},
     "output_type": "display_data"
    },
    {
     "name": "stdout",
     "output_type": "stream",
     "text": [
      "In 127 Pro From 161\n",
      "\n",
      "D580IK - 1600W 접이식 레트로 프로페셔널 헤어 드라이기 [2단 조절/쿨샷버튼/걸이용 고리]\n"
     ]
    },
    {
     "data": {
      "application/vnd.jupyter.widget-view+json": {
       "model_id": "5ebce43561a54d7ea2da2abe4bfe4553",
       "version_major": 2,
       "version_minor": 0
      },
      "text/plain": [
       "|          | 0/0 [00:00<?, ?it/s]"
      ]
     },
     "metadata": {},
     "output_type": "display_data"
    },
    {
     "name": "stdout",
     "output_type": "stream",
     "text": [
      "In 128 Pro From 161\n",
      "\n",
      "드라이어 스튜디오 플러스 HV5433K0\n"
     ]
    },
    {
     "data": {
      "application/vnd.jupyter.widget-view+json": {
       "model_id": "16321a9506b745138b6fb5c3d775da9a",
       "version_major": 2,
       "version_minor": 0
      },
      "text/plain": [
       "|          | 0/0 [00:00<?, ?it/s]"
      ]
     },
     "metadata": {},
     "output_type": "display_data"
    },
    {
     "name": "stdout",
     "output_type": "stream",
     "text": [
      "In 129 Pro From 161\n",
      "\n",
      "[공식] 샤오미 즈바이 아쿠아소닉 음이온 헤어 드라이어 HL312\n"
     ]
    },
    {
     "data": {
      "application/vnd.jupyter.widget-view+json": {
       "model_id": "a343c8cf2a2648779f9db237ededb3a6",
       "version_major": 2,
       "version_minor": 0
      },
      "text/plain": [
       "|          | 0/0 [00:00<?, ?it/s]"
      ]
     },
     "metadata": {},
     "output_type": "display_data"
    },
    {
     "name": "stdout",
     "output_type": "stream",
     "text": [
      "In 130 Pro From 161\n",
      "\n",
      "[국내발송] 샤오미수카스 고속 음이온 헤어드라이기 H3S 실버-레드\n"
     ]
    },
    {
     "data": {
      "application/vnd.jupyter.widget-view+json": {
       "model_id": "e8864b40f30f45e0b1611403b33672e4",
       "version_major": 2,
       "version_minor": 0
      },
      "text/plain": [
       "|          | 0/0 [00:00<?, ?it/s]"
      ]
     },
     "metadata": {},
     "output_type": "display_data"
    },
    {
     "name": "stdout",
     "output_type": "stream",
     "text": [
      "In 131 Pro From 161\n",
      "\n",
      "BHD827/09 필립스 센스IQ 헤어 드라이기\n"
     ]
    },
    {
     "data": {
      "application/vnd.jupyter.widget-view+json": {
       "model_id": "58c16785c9bf4feb80e74e6d28f90adc",
       "version_major": 2,
       "version_minor": 0
      },
      "text/plain": [
       "|          | 0/0 [00:00<?, ?it/s]"
      ]
     },
     "metadata": {},
     "output_type": "display_data"
    },
    {
     "name": "stdout",
     "output_type": "stream",
     "text": [
      "In 132 Pro From 161\n",
      "\n",
      " VS20WCBFV - 소프트바 판고데기/매직기 크리미블루 프리볼트\n"
     ]
    },
    {
     "data": {
      "application/vnd.jupyter.widget-view+json": {
       "model_id": "358cc4741f074819ab797ba918c3bc33",
       "version_major": 2,
       "version_minor": 0
      },
      "text/plain": [
       "|          | 0/0 [00:00<?, ?it/s]"
      ]
     },
     "metadata": {},
     "output_type": "display_data"
    },
    {
     "name": "stdout",
     "output_type": "stream",
     "text": [
      "In 133 Pro From 161\n",
      "\n",
      "헤어 드라이어 모션드라이기 HV5510K0\n"
     ]
    },
    {
     "data": {
      "application/vnd.jupyter.widget-view+json": {
       "model_id": "0651b4d6c0d743af9915c495001f1f0e",
       "version_major": 2,
       "version_minor": 0
      },
      "text/plain": [
       "|          | 0/0 [00:00<?, ?it/s]"
      ]
     },
     "metadata": {},
     "output_type": "display_data"
    },
    {
     "name": "stdout",
     "output_type": "stream",
     "text": [
      "In 134 Pro From 161\n",
      "\n",
      "[로그인12%쿠폰할인]JMW 터보 항공기 드라이기 MG1800 PLUS 올화이트\n"
     ]
    },
    {
     "data": {
      "application/vnd.jupyter.widget-view+json": {
       "model_id": "8828129530764e749e6ab2a9f49398ce",
       "version_major": 2,
       "version_minor": 0
      },
      "text/plain": [
       "|          | 0/0 [00:00<?, ?it/s]"
      ]
     },
     "metadata": {},
     "output_type": "display_data"
    },
    {
     "name": "stdout",
     "output_type": "stream",
     "text": [
      "In 135 Pro From 161\n",
      "\n",
      "★한일전자 파테크 하이퍼소닉 BLDC-G1 헤어드라이기 화이트\n"
     ]
    },
    {
     "data": {
      "application/vnd.jupyter.widget-view+json": {
       "model_id": "1f71637c46354478bf09f4a684fe3fd8",
       "version_major": 2,
       "version_minor": 0
      },
      "text/plain": [
       "|          | 0/0 [00:00<?, ?it/s]"
      ]
     },
     "metadata": {},
     "output_type": "display_data"
    },
    {
     "name": "stdout",
     "output_type": "stream",
     "text": [
      "In 136 Pro From 161\n",
      "\n",
      "코맨드 메탈 헤어드라이 홀더 1개입\n"
     ]
    },
    {
     "data": {
      "application/vnd.jupyter.widget-view+json": {
       "model_id": "9b02fc7231c9443ba963539d34188485",
       "version_major": 2,
       "version_minor": 0
      },
      "text/plain": [
       "|          | 0/0 [00:00<?, ?it/s]"
      ]
     },
     "metadata": {},
     "output_type": "display_data"
    },
    {
     "name": "stdout",
     "output_type": "stream",
     "text": [
      "In 137 Pro From 161\n",
      "\n",
      "한일전자 파테크 싸이클론V2 전문가용 헤어드라이기 R22W\n"
     ]
    },
    {
     "data": {
      "application/vnd.jupyter.widget-view+json": {
       "model_id": "1b382cfb7f0146b99f72e1df23a0d21a",
       "version_major": 2,
       "version_minor": 0
      },
      "text/plain": [
       "|          | 0/0 [00:00<?, ?it/s]"
      ]
     },
     "metadata": {},
     "output_type": "display_data"
    },
    {
     "name": "stdout",
     "output_type": "stream",
     "text": [
      "In 138 Pro From 161\n",
      "\n",
      "파나소닉 헤어 드라이기 EH-NE15 1500W 헤어스타일러 헤어컬\n"
     ]
    },
    {
     "data": {
      "application/vnd.jupyter.widget-view+json": {
       "model_id": "7516e4f50efb421286c9ea2cfaae0e56",
       "version_major": 2,
       "version_minor": 0
      },
      "text/plain": [
       "|          | 0/0 [00:00<?, ?it/s]"
      ]
     },
     "metadata": {},
     "output_type": "display_data"
    },
    {
     "name": "stdout",
     "output_type": "stream",
     "text": [
      "In 139 Pro From 161\n",
      "\n",
      "[12%쿠폰할인] JMW BLDC항공모터 드라이기 MG1700 블랙\n"
     ]
    },
    {
     "data": {
      "application/vnd.jupyter.widget-view+json": {
       "model_id": "93d637cf0fdb45709e24d4b078ea1e1f",
       "version_major": 2,
       "version_minor": 0
      },
      "text/plain": [
       "|          | 0/0 [00:00<?, ?it/s]"
      ]
     },
     "metadata": {},
     "output_type": "display_data"
    },
    {
     "name": "stdout",
     "output_type": "stream",
     "text": [
      "In 140 Pro From 161\n",
      "\n",
      "CKI-I103 디지털 온도조절 브러쉬 고데기\n"
     ]
    },
    {
     "data": {
      "application/vnd.jupyter.widget-view+json": {
       "model_id": "414b684f27434a7b914c9d64b85e67f3",
       "version_major": 2,
       "version_minor": 0
      },
      "text/plain": [
       "|          | 0/0 [00:00<?, ?it/s]"
      ]
     },
     "metadata": {},
     "output_type": "display_data"
    },
    {
     "name": "stdout",
     "output_type": "stream",
     "text": [
      "In 141 Pro From 161\n",
      "\n",
      "드라이기 UN-A1262 접이식 냉풍 헤어드라이기 스타일러\n"
     ]
    },
    {
     "data": {
      "application/vnd.jupyter.widget-view+json": {
       "model_id": "26ebd9d6d4f34830919ed5653eb53bd5",
       "version_major": 2,
       "version_minor": 0
      },
      "text/plain": [
       "|          | 0/0 [00:00<?, ?it/s]"
      ]
     },
     "metadata": {},
     "output_type": "display_data"
    },
    {
     "name": "stdout",
     "output_type": "stream",
     "text": [
      "In 142 Pro From 161\n",
      "\n",
      "D590PK - 1600W 접이식 레트로 프로페셔널 음이온 헤어 드라이기 [벽걸이용 고리]\n"
     ]
    },
    {
     "data": {
      "application/vnd.jupyter.widget-view+json": {
       "model_id": "028e7377ef1147fbb8e1ec5857e40998",
       "version_major": 2,
       "version_minor": 0
      },
      "text/plain": [
       "|          | 0/0 [00:00<?, ?it/s]"
      ]
     },
     "metadata": {},
     "output_type": "display_data"
    },
    {
     "name": "stdout",
     "output_type": "stream",
     "text": [
      "In 143 Pro From 161\n",
      "\n",
      "5224K - 1700W 코드키퍼 헤어 드라이기\n"
     ]
    },
    {
     "data": {
      "application/vnd.jupyter.widget-view+json": {
       "model_id": "0b8faf8fd6344f0ba654ccb3c47d9aea",
       "version_major": 2,
       "version_minor": 0
      },
      "text/plain": [
       "|          | 0/0 [00:00<?, ?it/s]"
      ]
     },
     "metadata": {},
     "output_type": "display_data"
    },
    {
     "name": "stdout",
     "output_type": "stream",
     "text": [
      "In 144 Pro From 161\n",
      "\n",
      "[2021 신제품 출시 - 10% 할인쿠폰] JMW 터보항공 드라이기 팬텀S MS6401A 스페셜모델\n"
     ]
    },
    {
     "data": {
      "application/vnd.jupyter.widget-view+json": {
       "model_id": "e9fa424b9c194142b8c22efe97f49a00",
       "version_major": 2,
       "version_minor": 0
      },
      "text/plain": [
       "|          | 0/0 [00:00<?, ?it/s]"
      ]
     },
     "metadata": {},
     "output_type": "display_data"
    },
    {
     "name": "stdout",
     "output_type": "stream",
     "text": [
      "In 145 Pro From 161\n",
      "\n",
      "4YOU 다이슨 슈퍼소닉 헤어 드라이기 드라이어 실리콘 커버 케이스 스크래치방지\n"
     ]
    },
    {
     "data": {
      "application/vnd.jupyter.widget-view+json": {
       "model_id": "cdd88fde66c44264bc4c951b587ae50b",
       "version_major": 2,
       "version_minor": 0
      },
      "text/plain": [
       "|          | 0/0 [00:00<?, ?it/s]"
      ]
     },
     "metadata": {},
     "output_type": "display_data"
    },
    {
     "name": "stdout",
     "output_type": "stream",
     "text": [
      "In 146 Pro From 161\n",
      "\n",
      "[공식] 샤오미 즈바이 아쿠아소닉  헤어 드라이어 HL355\n"
     ]
    },
    {
     "data": {
      "application/vnd.jupyter.widget-view+json": {
       "model_id": "e718329c94b845bab7e060c953b8acd1",
       "version_major": 2,
       "version_minor": 0
      },
      "text/plain": [
       "|          | 0/0 [00:00<?, ?it/s]"
      ]
     },
     "metadata": {},
     "output_type": "display_data"
    },
    {
     "name": "stdout",
     "output_type": "stream",
     "text": [
      "In 147 Pro From 161\n",
      "\n",
      "[20%다운쿠폰][정품 거치대 증정]JMW 본사 직영 프리미엄 BLDC 항공모터 드라이기 에어컬렉션 MS8001A\n"
     ]
    },
    {
     "data": {
      "application/vnd.jupyter.widget-view+json": {
       "model_id": "fa78c1082e9d4246bf4d656a6586bcca",
       "version_major": 2,
       "version_minor": 0
      },
      "text/plain": [
       "|          | 0/0 [00:00<?, ?it/s]"
      ]
     },
     "metadata": {},
     "output_type": "display_data"
    },
    {
     "name": "stdout",
     "output_type": "stream",
     "text": [
      "In 148 Pro From 161\n",
      "\n",
      "JMW 전문가용 헤어 드라이기 베이비핑크 DM5565E\n"
     ]
    },
    {
     "data": {
      "application/vnd.jupyter.widget-view+json": {
       "model_id": "9862fd94f6144f98b909748c2a691c6d",
       "version_major": 2,
       "version_minor": 0
      },
      "text/plain": [
       "|          | 0/0 [00:00<?, ?it/s]"
      ]
     },
     "metadata": {},
     "output_type": "display_data"
    },
    {
     "name": "stdout",
     "output_type": "stream",
     "text": [
      "In 149 Pro From 161\n",
      "\n",
      "필립스 BHD-004 에센셜 케어 드라이어 BHD004 외1종 택1\n"
     ]
    },
    {
     "data": {
      "application/vnd.jupyter.widget-view+json": {
       "model_id": "a4f95ab0014941fb90811e200ba6e438",
       "version_major": 2,
       "version_minor": 0
      },
      "text/plain": [
       "|          | 0/0 [00:00<?, ?it/s]"
      ]
     },
     "metadata": {},
     "output_type": "display_data"
    },
    {
     "name": "stdout",
     "output_type": "stream",
     "text": [
      "In 150 Pro From 161\n",
      "\n",
      "2000W 전문가용 헤어 드라이기 UN-A1930\n"
     ]
    },
    {
     "data": {
      "application/vnd.jupyter.widget-view+json": {
       "model_id": "61b3a30b227d4e7cac1eb4f457cb703f",
       "version_major": 2,
       "version_minor": 0
      },
      "text/plain": [
       "|          | 0/0 [00:00<?, ?it/s]"
      ]
     },
     "metadata": {},
     "output_type": "display_data"
    },
    {
     "name": "stdout",
     "output_type": "stream",
     "text": [
      "In 151 Pro From 161\n",
      "\n",
      "bob 다이슨 슈퍼소닉 헤어 드라이기 전용 실리콘 커버 케이스 dyson 드라이어\n"
     ]
    },
    {
     "data": {
      "application/vnd.jupyter.widget-view+json": {
       "model_id": "8d4d3298a57c465aa83b309150462f1d",
       "version_major": 2,
       "version_minor": 0
      },
      "text/plain": [
       "|          | 0/0 [00:00<?, ?it/s]"
      ]
     },
     "metadata": {},
     "output_type": "display_data"
    },
    {
     "name": "stdout",
     "output_type": "stream",
     "text": [
      "In 152 Pro From 161\n",
      "\n",
      "헤어퀵드라이장갑1P\n"
     ]
    },
    {
     "data": {
      "application/vnd.jupyter.widget-view+json": {
       "model_id": "132d87929e7d467496335c3b38425cd6",
       "version_major": 2,
       "version_minor": 0
      },
      "text/plain": [
       "|          | 0/0 [00:00<?, ?it/s]"
      ]
     },
     "metadata": {},
     "output_type": "display_data"
    },
    {
     "name": "stdout",
     "output_type": "stream",
     "text": [
      "In 153 Pro From 161\n",
      "\n",
      "무타공 초간편 1분설치 헤어드라이기거치대 2구\n"
     ]
    },
    {
     "data": {
      "application/vnd.jupyter.widget-view+json": {
       "model_id": "3cf5342e75254abc9571391892a42a93",
       "version_major": 2,
       "version_minor": 0
      },
      "text/plain": [
       "|          | 0/0 [00:00<?, ?it/s]"
      ]
     },
     "metadata": {},
     "output_type": "display_data"
    },
    {
     "name": "stdout",
     "output_type": "stream",
     "text": [
      "In 154 Pro From 161\n",
      "\n",
      "[★]JMW 전문가용 드라이기 DM55 시리즈\n"
     ]
    },
    {
     "data": {
      "application/vnd.jupyter.widget-view+json": {
       "model_id": "cb9a34740197473caac40a4fdc02adfd",
       "version_major": 2,
       "version_minor": 0
      },
      "text/plain": [
       "|          | 0/0 [00:00<?, ?it/s]"
      ]
     },
     "metadata": {},
     "output_type": "display_data"
    },
    {
     "name": "stdout",
     "output_type": "stream",
     "text": [
      "In 155 Pro From 161\n",
      "\n",
      "테이크아웃 슈가롤 USB헤어롤 PW-5638MB(블루)\n"
     ]
    },
    {
     "data": {
      "application/vnd.jupyter.widget-view+json": {
       "model_id": "31093ead7dfb4171a5f1fcfbbc832018",
       "version_major": 2,
       "version_minor": 0
      },
      "text/plain": [
       "|          | 0/0 [00:00<?, ?it/s]"
      ]
     },
     "metadata": {},
     "output_type": "display_data"
    },
    {
     "name": "stdout",
     "output_type": "stream",
     "text": [
      "In 156 Pro From 161\n",
      "\n",
      "드라이기 헤어드라이기 국산 예스뷰티 음이온 전문가용 드라이기 미용실드라이기 모발보호기능 4단스위치\n"
     ]
    },
    {
     "data": {
      "application/vnd.jupyter.widget-view+json": {
       "model_id": "c4d8ad70a6aa42629f0aa5c48902c00b",
       "version_major": 2,
       "version_minor": 0
      },
      "text/plain": [
       "|          | 0/0 [00:00<?, ?it/s]"
      ]
     },
     "metadata": {},
     "output_type": "display_data"
    },
    {
     "name": "stdout",
     "output_type": "stream",
     "text": [
      "In 157 Pro From 161\n",
      "\n",
      "CKI-D210 접이식 가정용 드라이기\n"
     ]
    },
    {
     "data": {
      "application/vnd.jupyter.widget-view+json": {
       "model_id": "cf2771fe1b7a4307b4955022938652ee",
       "version_major": 2,
       "version_minor": 0
      },
      "text/plain": [
       "|          | 0/0 [00:00<?, ?it/s]"
      ]
     },
     "metadata": {},
     "output_type": "display_data"
    },
    {
     "name": "stdout",
     "output_type": "stream",
     "text": [
      "In 158 Pro From 161\n",
      "\n",
      "전문가용 드라이기 /헤어 스타일러 YB1900 레드\n"
     ]
    },
    {
     "data": {
      "application/vnd.jupyter.widget-view+json": {
       "model_id": "1ddd8f396079467c9b034951078bd7c5",
       "version_major": 2,
       "version_minor": 0
      },
      "text/plain": [
       "|          | 0/0 [00:00<?, ?it/s]"
      ]
     },
     "metadata": {},
     "output_type": "display_data"
    },
    {
     "name": "stdout",
     "output_type": "stream",
     "text": [
      "In 159 Pro From 161\n",
      "\n",
      "어느 공간에서도 예쁘게~ 컬러 맛집! 레이트 접이식 드라이기 F600 모음전\n"
     ]
    },
    {
     "data": {
      "application/vnd.jupyter.widget-view+json": {
       "model_id": "57e04b01c6d646edb12b6466a9929735",
       "version_major": 2,
       "version_minor": 0
      },
      "text/plain": [
       "|          | 0/0 [00:00<?, ?it/s]"
      ]
     },
     "metadata": {},
     "output_type": "display_data"
    },
    {
     "name": "stdout",
     "output_type": "stream",
     "text": [
      "In 160 Pro From 161\n",
      "\n",
      "헤어퀵드라이장갑1P\n"
     ]
    },
    {
     "data": {
      "application/vnd.jupyter.widget-view+json": {
       "model_id": "8ec6731de2ec4e388ba24cf959ad21d1",
       "version_major": 2,
       "version_minor": 0
      },
      "text/plain": [
       "|          | 0/0 [00:00<?, ?it/s]"
      ]
     },
     "metadata": {},
     "output_type": "display_data"
    }
   ],
   "source": [
    "path_ = r\"C:\\Users\\Samsung\\jupyter\\Project_LG_textmining\\data\\hair\\shopping\\SSG\\{}.xlsx\"\n",
    "SSG_Save_local(path_,head_df)"
   ]
  },
  {
   "cell_type": "code",
   "execution_count": null,
   "metadata": {},
   "outputs": [],
   "source": []
  },
  {
   "cell_type": "code",
   "execution_count": null,
   "metadata": {},
   "outputs": [],
   "source": [
    "import numpy as np\n",
    "import pandas as pd\n",
    "import requests \n",
    "from bs4 import BeautifulSoup\n",
    "from fake_useragent import UserAgent\n",
    "\n",
    "from urllib.request import urlopen\n",
    "import urllib\n",
    "\n",
    "#from tqdm import tqdm\n",
    "\n",
    "from selenium import webdriver\n",
    "import openpyxl\n",
    "import time\n",
    "import math\n",
    "from collections import Counter\n",
    "\n",
    "import re\n",
    "import json\n",
    "\n",
    "from tqdm.notebook import tqdm\n",
    "\n",
    "def url_split(url):\n",
    "    main_,para_1 = url.split(\"?\")\n",
    "    para_2 = para_1.split(\"&\")\n",
    "    para_3 = [d.replace(\"=\",\":\").split(\":\") for d in para_2]\n",
    "    params_ = {}\n",
    "    for key,value in para_3:\n",
    "        params_[key] = value\n",
    "    return main_,params_\n",
    "\n",
    "ua = UserAgent()\n",
    "\n",
    "# Main page \n",
    "\n",
    "def Main_page_SSG(Key_,Page_):\n",
    "    ua = UserAgent()\n",
    "    header = {'User-Agent':ua.chrome,\n",
    "              \"referer\":\"http://www.ssg.com/\"}\n",
    "    page_ = Page_\n",
    "    key_ = Key_\n",
    "\n",
    "    url = \"http://www.ssg.com/search.ssg?target=all&query={}&sort=cnt&page={}\".format(key_,page_)\n",
    "    html = requests.get(url.format(key_),headers=header).text\n",
    "    soup = BeautifulSoup(html,\"html.parser\")\n",
    "    url_base_ = \"http://www.ssg.com\"\n",
    "    name_head,url_head,reveiw_count_1 = [],[],[]\n",
    "    for tag in soup.select(\"li\"):\n",
    "        try:\n",
    "            name_head.append(tag.find(\"div\",class_=\"cunit_info\").find(\"div\",class_=\"cunit_md notranslate\").find(\"a\").find(\"em\",class_=\"tx_ko\").text)\n",
    "            url_head.append(tag.find(\"div\",class_=\"cunit_info\").find(\"div\",class_=\"cunit_md notranslate\").find(\"a\")[\"href\"])\n",
    "            reveiw_count_1.append(int(tag.find(\"div\",class_=\"cunit_app\").find(\"span\",class_=\"rate_tx\").find(\"em\").text.replace(\",\",\"\")))\n",
    "    \n",
    "        except:\n",
    "            pass\n",
    "    Head_df = pd.DataFrame([name_head,reveiw_count_1,url_head]).T.rename(columns={0:\"Name\",1:\"Review_count\",2:\"Url\"})\n",
    "    return Head_df\n",
    "\n",
    "def Main_page_concat(Total_p,Key_):\n",
    "    tq = tqdm(range(Total_p))\n",
    "    head_all = pd.DataFrame()\n",
    "    for tp in tq:\n",
    "        pa_ = tp + 1\n",
    "        candi_head =  Main_page_SSG(Key_,pa_)\n",
    "        head_all = pd.concat([head_all,candi_head]).reset_index(drop=True)\n",
    "    return head_all\n",
    "\n",
    "head_df = Main_page_concat(3,\"헤어드라이기\")\n",
    "head_df\n",
    "\n",
    "# Review_page\n",
    "\n",
    "def Review_URL(head_df,target_row):\n",
    "    \"\"\"\n",
    "    head_df = main page information\n",
    "    target_row = head_df's target product\n",
    "    page_2 = target product's review pages\n",
    "    \"\"\"\n",
    "    url_base_ = 'http://www.ssg.com'\n",
    "    Target_name = head_df[\"Name\"][target_row]\n",
    "    target_url = head_df[\"Url\"][target_row]#.encode('utf-8')\n",
    "    Target_max_p = head_df[\"Review_count\"][target_row]\n",
    "\n",
    "    ## Request HTML\n",
    "    header = {'User-Agent':ua.chrome,\n",
    "              \"referer\":\"http://www.ssg.com/\"}\n",
    "\n",
    "    html = requests.get(url_base_ + target_url,headers=header).text\n",
    "    soup = BeautifulSoup(html,\"html.parser\")\n",
    "\n",
    "    ## Review_page Params data\n",
    "\n",
    "    actu_num = 0\n",
    "    for tag in soup.select(\".chd_lst_choice \"):\n",
    "        try:\n",
    "            actu_num = tag.find(\"li\",class_=\"item\")[\"data-deal-option\"]\n",
    "        except:\n",
    "            pass\n",
    "\n",
    "    dic_ = {}\n",
    "    for m in [i.split(\"=\") for i in target_url.split(\"?\")[1].split(\"&\")]:\n",
    "        dic_[m[0]] = m[1]\n",
    "    dic_[\"itemId\"] = actu_num\n",
    "\n",
    "    ## Review_page Request\n",
    "\n",
    "    url_re_base = \"http://www.ssg.com/item/ajaxItemCommentList.ssg?itemId={}&siteNo={}&page={}&pageSize={}\"\n",
    "    item_id = dic_[\"itemId\"]\n",
    "    site_no = dic_[\"siteNo\"]\n",
    "    page_sz = 20\n",
    "    Url_review = url_re_base.format(item_id,site_no,\"{}\",page_sz)\n",
    "    return Url_review,Target_name,Target_max_p\n",
    "\n",
    "\n",
    "\n",
    "url_review,target_name,max_page = Review_URL(head_df,1)\n",
    "url_review\n",
    "\n",
    "target_name\n",
    "\n",
    "max_page//10\n",
    "\n",
    "url_review\n",
    "\n",
    "def Review_page_ex(url_review,target_name):\n",
    "    header = {'User-Agent':ua.chrome,\n",
    "              \"referer\":\"http://www.ssg.com/\"}\n",
    "\n",
    "    html = requests.get(url_review,headers=header).text\n",
    "    review_n = len(json.loads(html)[\"pageDto\"][\"resultList\"])\n",
    "    review_1 = json.loads(html)[\"pageDto\"][\"resultList\"]\n",
    "    data_all = []\n",
    "    for re_i in range(len(json.loads(html)[\"pageDto\"][\"resultList\"])):\n",
    "        date_ = json.loads(html)[\"pageDto\"][\"resultList\"][re_i][\"wrtDt\"]\n",
    "        id_ = json.loads(html)[\"pageDto\"][\"resultList\"][re_i][\"mbrLoginId\"]\n",
    "        item_ = target_name\n",
    "        score_ = json.loads(html)[\"pageDto\"][\"resultList\"][re_i][\"recomEvalScr\"]\n",
    "        contents_ = json.loads(html)[\"pageDto\"][\"resultList\"][re_i][\"postngTitleNm\"]\n",
    "        liked_ = \"\"   \n",
    "        all_ = [date_,id_,item_,score_,contents_,liked_]\n",
    "        data_all.append(all_)\n",
    "    df_ = pd.DataFrame(data_all).rename(columns={0:\"date\",1:\"id\",2:\"item\",3:\"score\",4:\"contents\",5:\"liked\"})\n",
    "    return df_\n",
    "\n",
    "\n",
    "\n",
    "def Crawling_SSG_all(head_df,TA_):\n",
    "    Url_review,target_name,max_page = Review_URL(head_df,TA_)\n",
    "    MaxPage = max_page//10\n",
    "    tq = tqdm(range(MaxPage))\n",
    "\n",
    "    review_all = pd.DataFrame()\n",
    "\n",
    "    for mp in tq:\n",
    "        url_review =Url_review.format(mp+1)\n",
    "\n",
    "        review_candi = Review_page_ex(url_review,target_name)\n",
    "        review_all = pd.concat([review_all,review_candi]).reset_index(drop=True)\n",
    "    return review_all,target_name\n",
    "\n",
    "out_,NA_ = Crawling_SSG_all(head_df,0)\n",
    "out_\n",
    "\n",
    "\n",
    "\n",
    "def SSG_Save_local(path_,head_df):\n",
    "    for i_ in range(len(head_df)):\n",
    "        print(\"In {} Pro From {}\".format(i_+1,len(head_df)+1))\n",
    "        print()\n",
    "        print(head_df[\"Name\"][i_])\n",
    "        out_,NA_ = Crawling_SSG_all(head_df,i_)\n",
    "        NA_ = NA_.replace(\"/\",\"\")\n",
    "        out_.to_excel(path_.format(NA_))\n",
    "\n",
    "path_ = r\"C:\\Users\\Samsung\\jupyter\\Project_LG_textmining\\data\\hair\\shopping\\SSG\\{}.xlsx\"\n",
    "SSG_Save_local(path_,head_df)\n",
    "\n"
   ]
  }
 ],
 "metadata": {
  "kernelspec": {
   "display_name": "Python 3",
   "language": "python",
   "name": "python3"
  },
  "language_info": {
   "codemirror_mode": {
    "name": "ipython",
    "version": 3
   },
   "file_extension": ".py",
   "mimetype": "text/x-python",
   "name": "python",
   "nbconvert_exporter": "python",
   "pygments_lexer": "ipython3",
   "version": "3.7.6"
  }
 },
 "nbformat": 4,
 "nbformat_minor": 4
}
