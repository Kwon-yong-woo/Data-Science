{
 "cells": [
  {
   "cell_type": "code",
   "execution_count": 1,
   "metadata": {},
   "outputs": [],
   "source": [
    "import numpy as np\n",
    "import pandas as pd\n",
    "import requests \n",
    "from bs4 import BeautifulSoup\n",
    "from fake_useragent import UserAgent\n",
    "\n",
    "from urllib.request import urlopen\n",
    "import urllib\n",
    "\n",
    "from selenium import webdriver\n",
    "import openpyxl\n",
    "import time\n",
    "import math\n",
    "from collections import Counter\n",
    "\n",
    "\n",
    "from tqdm.notebook import tqdm\n"
   ]
  },
  {
   "cell_type": "code",
   "execution_count": 2,
   "metadata": {},
   "outputs": [],
   "source": [
    "def url_split(url):\n",
    "    main_,para_1 = url.split(\"?\")\n",
    "    para_2 = para_1.split(\"&\")\n",
    "    para_3 = [d.replace(\"=\",\":\").split(\":\") for d in para_2]\n",
    "    params_ = {}\n",
    "    for key,value in para_3:\n",
    "        params_[key] = value\n",
    "    return main_,params_"
   ]
  },
  {
   "cell_type": "code",
   "execution_count": 3,
   "metadata": {},
   "outputs": [],
   "source": [
    "ua = UserAgent()"
   ]
  },
  {
   "cell_type": "code",
   "execution_count": 4,
   "metadata": {
    "scrolled": true
   },
   "outputs": [],
   "source": [
    "## 일단 상품평 많은 순으로 상위 60개만 긁어오기\n",
    "\n",
    "def Main_page_SSG(Key_):\n",
    "    header = {'User-Agent':ua.chrome,\n",
    "              \"referer\":\"https://with.gsshop.com/shop/search/main.gs\"}\n",
    "\n",
    "    url = \"https://with.gsshop.com/shop/search/mainJson.gs?tq={}&rq=&cls=&eh=eyJzb3J0VHlwZSI6IlJFVklFV19DT1VOVCIsInNlbGVjdGVkIjoib3B0LXNvcnQifQ%3D%3D&lseq=395203 \"\n",
    "\n",
    "    html = requests.get(url.format(Key_),headers=header).text\n",
    "    soup = BeautifulSoup(html,\"html.parser\")\n",
    "\n",
    "\n",
    "    name_head,url_head,reveiw_count_1 = [],[],[]\n",
    "    for tag in soup.select(\"li\"):\n",
    "        url_head.append(tag.find(\"a\")[\"href\"])\n",
    "        name_head.append(tag.find(\"dt\",class_=\"prd-name\").text.strip().replace(\"\\n\",\"\").replace(\"\\t\",\"\"))\n",
    "        reveiw_count_1.append(tag.find(\"dd\",class_=\"user-side\").find(\"button\").text.replace(\"상품평\",\"\").replace(\" \",\"\").replace(\",\",\"\"))\n",
    "    Head_df = pd.DataFrame([name_head,reveiw_count_1,url_head]).T.rename(columns={0:\"Name\",1:\"Review_count\",2:\"Url\"})\n",
    "    return Head_df"
   ]
  },
  {
   "cell_type": "code",
   "execution_count": 5,
   "metadata": {
    "scrolled": true
   },
   "outputs": [
    {
     "data": {
      "text/html": [
       "<div>\n",
       "<style scoped>\n",
       "    .dataframe tbody tr th:only-of-type {\n",
       "        vertical-align: middle;\n",
       "    }\n",
       "\n",
       "    .dataframe tbody tr th {\n",
       "        vertical-align: top;\n",
       "    }\n",
       "\n",
       "    .dataframe thead th {\n",
       "        text-align: right;\n",
       "    }\n",
       "</style>\n",
       "<table border=\"1\" class=\"dataframe\">\n",
       "  <thead>\n",
       "    <tr style=\"text-align: right;\">\n",
       "      <th></th>\n",
       "      <th>Name</th>\n",
       "      <th>Review_count</th>\n",
       "      <th>Url</th>\n",
       "    </tr>\n",
       "  </thead>\n",
       "  <tbody>\n",
       "    <tr>\n",
       "      <th>0</th>\n",
       "      <td>[TV상품]다이슨 에어랩 볼륨앤쉐이프</td>\n",
       "      <td>찜하기</td>\n",
       "      <td>http://www.gsshop.com/prd/prd.gs?prdid=6759532...</td>\n",
       "    </tr>\n",
       "    <tr>\n",
       "      <th>1</th>\n",
       "      <td>[TV상품]프리미엄라인 순수 골드라벨 염색제 + 살롱 드라이기</td>\n",
       "      <td>찜하기</td>\n",
       "      <td>http://www.gsshop.com/prd/prd.gs?prdid=5803382...</td>\n",
       "    </tr>\n",
       "    <tr>\n",
       "      <th>2</th>\n",
       "      <td>박준뷰티랩 식스모션 헤어 드라이기 PJP-3500 / 거치대 증정</td>\n",
       "      <td>4286</td>\n",
       "      <td>http://www.gsshop.com/prd/prd.gs?prdid=1055079...</td>\n",
       "    </tr>\n",
       "    <tr>\n",
       "      <th>3</th>\n",
       "      <td>JMW M5001A PLUS 전문가용 항공모터 드라이기</td>\n",
       "      <td>4124</td>\n",
       "      <td>http://www.gsshop.com/prd/prd.gs?prdid=6526506...</td>\n",
       "    </tr>\n",
       "    <tr>\n",
       "      <th>4</th>\n",
       "      <td>[14%할인+거치홀더]JMW 팬텀 로즈골드 MS6001A 항공모터드라이기</td>\n",
       "      <td>2787</td>\n",
       "      <td>http://www.gsshop.com/prd/prd.gs?prdid=2539903...</td>\n",
       "    </tr>\n",
       "    <tr>\n",
       "      <th>5</th>\n",
       "      <td>JMW 터보 항공기 드라이기 MS6001A 팬텀 펄화이트</td>\n",
       "      <td>2736</td>\n",
       "      <td>http://www.gsshop.com/prd/prd.gs?prdid=5291306...</td>\n",
       "    </tr>\n",
       "    <tr>\n",
       "      <th>6</th>\n",
       "      <td>[결제시14%할인]JMW BLDC항공모터 드라이기 MG1800 화이트</td>\n",
       "      <td>2392</td>\n",
       "      <td>http://www.gsshop.com/prd/prd.gs?prdid=2514706...</td>\n",
       "    </tr>\n",
       "    <tr>\n",
       "      <th>7</th>\n",
       "      <td>디자이너스 프리미엄 화이트 골드 헤어 드라이기 DGCB-004</td>\n",
       "      <td>1796</td>\n",
       "      <td>http://www.gsshop.com/prd/prd.gs?prdid=1318716...</td>\n",
       "    </tr>\n",
       "    <tr>\n",
       "      <th>8</th>\n",
       "      <td>[시크릿특가] JMW 에어젯 터보 MS6020B 항공모터 헤어 드라이기</td>\n",
       "      <td>1483</td>\n",
       "      <td>http://www.gsshop.com/prd/prd.gs?prdid=3468330...</td>\n",
       "    </tr>\n",
       "    <tr>\n",
       "      <th>9</th>\n",
       "      <td>[TV상품]순수 디어뮤즈 염색제 10박스 + 순수 살롱 드라이기</td>\n",
       "      <td>찜하기</td>\n",
       "      <td>http://www.gsshop.com/prd/prd.gs?prdid=6574101...</td>\n",
       "    </tr>\n",
       "    <tr>\n",
       "      <th>10</th>\n",
       "      <td>[TV상품]RATE 헤어 드라이어 F600 풀패키지</td>\n",
       "      <td>찜하기</td>\n",
       "      <td>http://www.gsshop.com/prd/prd.gs?prdid=5849022...</td>\n",
       "    </tr>\n",
       "    <tr>\n",
       "      <th>11</th>\n",
       "      <td>[TV상품]더블에스샤이니 롤드라이기 다이아몬드 디지털 빵빵고데기 2세트</td>\n",
       "      <td>찜하기</td>\n",
       "      <td>http://www.gsshop.com/prd/prd.gs?prdid=1364778...</td>\n",
       "    </tr>\n",
       "    <tr>\n",
       "      <th>12</th>\n",
       "      <td>[엘라] 2000W 고출력 강한 바람 전문가 드라이기 EPD-2011</td>\n",
       "      <td>1023</td>\n",
       "      <td>http://www.gsshop.com/prd/prd.gs?prdid=1503310...</td>\n",
       "    </tr>\n",
       "    <tr>\n",
       "      <th>13</th>\n",
       "      <td>다이슨 헤어드라이기 거치대</td>\n",
       "      <td>754</td>\n",
       "      <td>http://www.gsshop.com/prd/prd.gs?prdid=3459209...</td>\n",
       "    </tr>\n",
       "    <tr>\n",
       "      <th>14</th>\n",
       "      <td>[결제시14%할인]JMW 팬텀 프라임 드라이기 MS6003C 무광블랙</td>\n",
       "      <td>649</td>\n",
       "      <td>http://www.gsshop.com/prd/prd.gs?prdid=2684028...</td>\n",
       "    </tr>\n",
       "    <tr>\n",
       "      <th>15</th>\n",
       "      <td>JMW 팬텀 프라임 드라이기 MS6003C 무광블랙에디션</td>\n",
       "      <td>638</td>\n",
       "      <td>http://www.gsshop.com/prd/prd.gs?prdid=5526269...</td>\n",
       "    </tr>\n",
       "    <tr>\n",
       "      <th>16</th>\n",
       "      <td>[PHILIPS 필립스 드라이기 HP8232/00]</td>\n",
       "      <td>575</td>\n",
       "      <td>http://www.gsshop.com/prd/prd.gs?prdid=1213463...</td>\n",
       "    </tr>\n",
       "    <tr>\n",
       "      <th>17</th>\n",
       "      <td>JMW M5001A 전문가용 BLDC항공모터 헤어 드라이기 퍼플</td>\n",
       "      <td>561</td>\n",
       "      <td>http://www.gsshop.com/prd/prd.gs?prdid=6526506...</td>\n",
       "    </tr>\n",
       "    <tr>\n",
       "      <th>18</th>\n",
       "      <td>[TV상품]JMW 누보에디션 드라이어(골드/화이트 중 택1)+파우치</td>\n",
       "      <td>찜하기</td>\n",
       "      <td>http://www.gsshop.com/prd/prd.gs?prdid=6578416...</td>\n",
       "    </tr>\n",
       "    <tr>\n",
       "      <th>19</th>\n",
       "      <td>JMW MF5001A MAX 전문가용 항공모터 접이식 헤어 드라이기</td>\n",
       "      <td>525</td>\n",
       "      <td>http://www.gsshop.com/prd/prd.gs?prdid=6526506...</td>\n",
       "    </tr>\n",
       "    <tr>\n",
       "      <th>20</th>\n",
       "      <td>[결제시14%할인]JMW 항공기모터 드라이기접이식 MF5002B다크블루</td>\n",
       "      <td>464</td>\n",
       "      <td>http://www.gsshop.com/prd/prd.gs?prdid=2514707...</td>\n",
       "    </tr>\n",
       "    <tr>\n",
       "      <th>21</th>\n",
       "      <td>JMW MA6001A 전문가용 BLDC항공모터 헤어 드라이기 블랙</td>\n",
       "      <td>453</td>\n",
       "      <td>http://www.gsshop.com/prd/prd.gs?prdid=3468473...</td>\n",
       "    </tr>\n",
       "    <tr>\n",
       "      <th>22</th>\n",
       "      <td>비달사순 2,000W 강력 헤어드라이기/헤어드라이어 VSD5129K</td>\n",
       "      <td>402</td>\n",
       "      <td>http://www.gsshop.com/prd/prd.gs?prdid=5923198...</td>\n",
       "    </tr>\n",
       "    <tr>\n",
       "      <th>23</th>\n",
       "      <td>유닉스 헤어 에센셜 케어 1600W 드라이기 UN-2895A</td>\n",
       "      <td>393</td>\n",
       "      <td>http://www.gsshop.com/prd/prd.gs?prdid=2974546...</td>\n",
       "    </tr>\n",
       "    <tr>\n",
       "      <th>24</th>\n",
       "      <td>유닉스 최신상 2000W 파워맥스 이온 헤어 드라이어 UN-B1641</td>\n",
       "      <td>333</td>\n",
       "      <td>http://www.gsshop.com/prd/prd.gs?prdid=3035836...</td>\n",
       "    </tr>\n",
       "    <tr>\n",
       "      <th>25</th>\n",
       "      <td>[PHILIPS 필립스 드라이기 HP8230/00]</td>\n",
       "      <td>297</td>\n",
       "      <td>http://www.gsshop.com/prd/prd.gs?prdid=1213462...</td>\n",
       "    </tr>\n",
       "    <tr>\n",
       "      <th>26</th>\n",
       "      <td>[바비리스] D580PK - 1600W 접이식 헤어 드라이기</td>\n",
       "      <td>285</td>\n",
       "      <td>http://www.gsshop.com/prd/prd.gs?prdid=1919259...</td>\n",
       "    </tr>\n",
       "    <tr>\n",
       "      <th>27</th>\n",
       "      <td>[결제시14%할인]JMW BLDC항공모터 드라이기 MG1700 블랙</td>\n",
       "      <td>281</td>\n",
       "      <td>http://www.gsshop.com/prd/prd.gs?prdid=2514706...</td>\n",
       "    </tr>\n",
       "    <tr>\n",
       "      <th>28</th>\n",
       "      <td>박준뷰티랩 이미용기기 미용실 헤어 드라이어 드라이기 PJP-2901</td>\n",
       "      <td>262</td>\n",
       "      <td>http://www.gsshop.com/prd/prd.gs?prdid=4045852...</td>\n",
       "    </tr>\n",
       "    <tr>\n",
       "      <th>29</th>\n",
       "      <td>JMW  항공모터 접이식 드라이기 누보 (골드/로즈)</td>\n",
       "      <td>259</td>\n",
       "      <td>http://www.gsshop.com/prd/prd.gs?prdid=3218121...</td>\n",
       "    </tr>\n",
       "    <tr>\n",
       "      <th>30</th>\n",
       "      <td>JMW MA6001A 전문가용 BLDC항공모터 헤어 드라이기 블랙</td>\n",
       "      <td>222</td>\n",
       "      <td>http://www.gsshop.com/prd/prd.gs?prdid=5289725...</td>\n",
       "    </tr>\n",
       "    <tr>\n",
       "      <th>31</th>\n",
       "      <td>[결제시11%할인]JMW 프리미엄 드라이기 MS7002B 어반코랄</td>\n",
       "      <td>217</td>\n",
       "      <td>http://www.gsshop.com/prd/prd.gs?prdid=3599190...</td>\n",
       "    </tr>\n",
       "    <tr>\n",
       "      <th>32</th>\n",
       "      <td>JMW 항공기 드라이기 MG1800PLUS 올화이트</td>\n",
       "      <td>207</td>\n",
       "      <td>http://www.gsshop.com/prd/prd.gs?prdid=5670853...</td>\n",
       "    </tr>\n",
       "    <tr>\n",
       "      <th>33</th>\n",
       "      <td>[엘라] 휴대용/여행용 접이식 미니 헤어 드라이기 MMD-3222</td>\n",
       "      <td>207</td>\n",
       "      <td>http://www.gsshop.com/prd/prd.gs?prdid=1427828...</td>\n",
       "    </tr>\n",
       "    <tr>\n",
       "      <th>34</th>\n",
       "      <td>박준뷰티랩 이미용기기 살롱 헤어 드라이어 드라이기 PJP-2913</td>\n",
       "      <td>204</td>\n",
       "      <td>http://www.gsshop.com/prd/prd.gs?prdid=4045851...</td>\n",
       "    </tr>\n",
       "    <tr>\n",
       "      <th>35</th>\n",
       "      <td>JMW 에어젯 터보 MS6010A 항공모터 헤어 드라이기 화이트</td>\n",
       "      <td>202</td>\n",
       "      <td>http://www.gsshop.com/prd/prd.gs?prdid=3468473...</td>\n",
       "    </tr>\n",
       "    <tr>\n",
       "      <th>36</th>\n",
       "      <td>파나소닉 신상 헤어스타일러 EH-KA31 빗드라이기 롤 브러쉬</td>\n",
       "      <td>185</td>\n",
       "      <td>http://www.gsshop.com/prd/prd.gs?prdid=5344957...</td>\n",
       "    </tr>\n",
       "    <tr>\n",
       "      <th>37</th>\n",
       "      <td>FHI HEAT WP1900 전문가용 드라이기</td>\n",
       "      <td>184</td>\n",
       "      <td>http://www.gsshop.com/prd/prd.gs?prdid=6123881...</td>\n",
       "    </tr>\n",
       "    <tr>\n",
       "      <th>38</th>\n",
       "      <td>유닉스 1500W UN-A1141 전문가용드라이기,미용실드라이기,업소용</td>\n",
       "      <td>162</td>\n",
       "      <td>http://www.gsshop.com/prd/prd.gs?prdid=3030765...</td>\n",
       "    </tr>\n",
       "    <tr>\n",
       "      <th>39</th>\n",
       "      <td>JMW 하이브리드 드라이기 DM6528B 블랙</td>\n",
       "      <td>154</td>\n",
       "      <td>http://www.gsshop.com/prd/prd.gs?prdid=2514707...</td>\n",
       "    </tr>\n",
       "    <tr>\n",
       "      <th>40</th>\n",
       "      <td>[바비리스] 1800W 고성능 AC모터 헤어 드라이기 6630K</td>\n",
       "      <td>148</td>\n",
       "      <td>http://www.gsshop.com/prd/prd.gs?prdid=1643764...</td>\n",
       "    </tr>\n",
       "    <tr>\n",
       "      <th>41</th>\n",
       "      <td>박준뷰티랩 전문가용 식스모션 헤어 드라이기 PJP-3500</td>\n",
       "      <td>147</td>\n",
       "      <td>http://www.gsshop.com/prd/prd.gs?prdid=1949778...</td>\n",
       "    </tr>\n",
       "    <tr>\n",
       "      <th>42</th>\n",
       "      <td>[엘라]2000W 전문가용 접이식 헤어 드라이기 EPD-2022</td>\n",
       "      <td>145</td>\n",
       "      <td>http://www.gsshop.com/prd/prd.gs?prdid=2154845...</td>\n",
       "    </tr>\n",
       "    <tr>\n",
       "      <th>43</th>\n",
       "      <td>[PHILIPS필립스써모프로텍트 헤어드라이어 HP8244/09]</td>\n",
       "      <td>139</td>\n",
       "      <td>http://www.gsshop.com/prd/prd.gs?prdid=2044972...</td>\n",
       "    </tr>\n",
       "    <tr>\n",
       "      <th>44</th>\n",
       "      <td>[TV상품]JMW 팬텀프라임 XP드라이기+거치대</td>\n",
       "      <td>찜하기</td>\n",
       "      <td>http://www.gsshop.com/prd/prd.gs?prdid=6454825...</td>\n",
       "    </tr>\n",
       "    <tr>\n",
       "      <th>45</th>\n",
       "      <td>JMW 전문가용 헤어 드라이기 베이비핑크 DM5565E</td>\n",
       "      <td>131</td>\n",
       "      <td>http://www.gsshop.com/prd/prd.gs?prdid=5719345...</td>\n",
       "    </tr>\n",
       "    <tr>\n",
       "      <th>46</th>\n",
       "      <td>[TV상품][21년 최신상/GS단독] 바비리스 멀티 에어스타일러 회전 드라이기</td>\n",
       "      <td>찜하기</td>\n",
       "      <td>http://www.gsshop.com/prd/prd.gs?prdid=6683978...</td>\n",
       "    </tr>\n",
       "    <tr>\n",
       "      <th>47</th>\n",
       "      <td>[PHILIPS 필립스 써모프로텍트 헤어드라이어 HP8246/09]</td>\n",
       "      <td>122</td>\n",
       "      <td>http://www.gsshop.com/prd/prd.gs?prdid=2044973...</td>\n",
       "    </tr>\n",
       "    <tr>\n",
       "      <th>48</th>\n",
       "      <td>유닉스 메탈 무광블랙 1600W 접이식 헤어 드라이기 UN-A1610</td>\n",
       "      <td>119</td>\n",
       "      <td>http://www.gsshop.com/prd/prd.gs?prdid=3030766...</td>\n",
       "    </tr>\n",
       "    <tr>\n",
       "      <th>49</th>\n",
       "      <td>유닉스 메탈티 샤이골드 1700W 접이식 헤어 드라이기 UN-A1690</td>\n",
       "      <td>111</td>\n",
       "      <td>http://www.gsshop.com/prd/prd.gs?prdid=3749655...</td>\n",
       "    </tr>\n",
       "    <tr>\n",
       "      <th>50</th>\n",
       "      <td>유닉스 접이식 헤어드라이기 UN-A1454 (2000W)</td>\n",
       "      <td>109</td>\n",
       "      <td>http://www.gsshop.com/prd/prd.gs?prdid=3004900...</td>\n",
       "    </tr>\n",
       "    <tr>\n",
       "      <th>51</th>\n",
       "      <td>[결제시16%할인]JMW 터보 항공기 드라이기 MG1800 PLUS 올화이트</td>\n",
       "      <td>109</td>\n",
       "      <td>http://www.gsshop.com/prd/prd.gs?prdid=3421996...</td>\n",
       "    </tr>\n",
       "    <tr>\n",
       "      <th>52</th>\n",
       "      <td>[디자이너스] 드라이기 거치대 화이트</td>\n",
       "      <td>98</td>\n",
       "      <td>http://www.gsshop.com/prd/prd.gs?prdid=1916002...</td>\n",
       "    </tr>\n",
       "    <tr>\n",
       "      <th>53</th>\n",
       "      <td>JMW 에어젯 터보 MS6010A 항공모터 헤어 드라이기 화이트</td>\n",
       "      <td>97</td>\n",
       "      <td>http://www.gsshop.com/prd/prd.gs?prdid=5289725...</td>\n",
       "    </tr>\n",
       "    <tr>\n",
       "      <th>54</th>\n",
       "      <td>[바비리스] D105K - 프로 스피드 2000W 전문가용 드라이기</td>\n",
       "      <td>93</td>\n",
       "      <td>http://www.gsshop.com/prd/prd.gs?prdid=2777908...</td>\n",
       "    </tr>\n",
       "    <tr>\n",
       "      <th>55</th>\n",
       "      <td>JMW 터보 항공기 드라이기 MS6003C 무광블랙</td>\n",
       "      <td>88</td>\n",
       "      <td>http://www.gsshop.com/prd/prd.gs?prdid=5670854...</td>\n",
       "    </tr>\n",
       "    <tr>\n",
       "      <th>56</th>\n",
       "      <td>JMW 하이브리드 드라이기 DM6001A 블루</td>\n",
       "      <td>85</td>\n",
       "      <td>http://www.gsshop.com/prd/prd.gs?prdid=2514707...</td>\n",
       "    </tr>\n",
       "    <tr>\n",
       "      <th>57</th>\n",
       "      <td>유닉스 터보 드라이기 UN-A1330NA 퍼플 전문가용 국산 1650W</td>\n",
       "      <td>84</td>\n",
       "      <td>http://www.gsshop.com/prd/prd.gs?prdid=5263399...</td>\n",
       "    </tr>\n",
       "    <tr>\n",
       "      <th>58</th>\n",
       "      <td>다이슨 슈퍼소닉 헤어 드라이기 실리콘 커버 케이스</td>\n",
       "      <td>81</td>\n",
       "      <td>http://www.gsshop.com/prd/prd.gs?prdid=5420259...</td>\n",
       "    </tr>\n",
       "    <tr>\n",
       "      <th>59</th>\n",
       "      <td>비달사순 2,000W 강력 헤어드라이기/헤어드라이어 VSD120K</td>\n",
       "      <td>79</td>\n",
       "      <td>http://www.gsshop.com/prd/prd.gs?prdid=5923198...</td>\n",
       "    </tr>\n",
       "  </tbody>\n",
       "</table>\n",
       "</div>"
      ],
      "text/plain": [
       "                                           Name Review_count  \\\n",
       "0                          [TV상품]다이슨 에어랩 볼륨앤쉐이프          찜하기   \n",
       "1            [TV상품]프리미엄라인 순수 골드라벨 염색제 + 살롱 드라이기          찜하기   \n",
       "2          박준뷰티랩 식스모션 헤어 드라이기 PJP-3500 / 거치대 증정         4286   \n",
       "3                JMW M5001A PLUS 전문가용 항공모터 드라이기         4124   \n",
       "4      [14%할인+거치홀더]JMW 팬텀 로즈골드 MS6001A 항공모터드라이기         2787   \n",
       "5               JMW 터보 항공기 드라이기 MS6001A 팬텀 펄화이트         2736   \n",
       "6        [결제시14%할인]JMW BLDC항공모터 드라이기 MG1800 화이트         2392   \n",
       "7            디자이너스 프리미엄 화이트 골드 헤어 드라이기 DGCB-004         1796   \n",
       "8       [시크릿특가] JMW 에어젯 터보 MS6020B 항공모터 헤어 드라이기         1483   \n",
       "9           [TV상품]순수 디어뮤즈 염색제 10박스 + 순수 살롱 드라이기          찜하기   \n",
       "10                 [TV상품]RATE 헤어 드라이어 F600 풀패키지          찜하기   \n",
       "11      [TV상품]더블에스샤이니 롤드라이기 다이아몬드 디지털 빵빵고데기 2세트          찜하기   \n",
       "12       [엘라] 2000W 고출력 강한 바람 전문가 드라이기 EPD-2011         1023   \n",
       "13                               다이슨 헤어드라이기 거치대          754   \n",
       "14       [결제시14%할인]JMW 팬텀 프라임 드라이기 MS6003C 무광블랙          649   \n",
       "15              JMW 팬텀 프라임 드라이기 MS6003C 무광블랙에디션          638   \n",
       "16                 [PHILIPS 필립스 드라이기 HP8232/00]          575   \n",
       "17          JMW M5001A 전문가용 BLDC항공모터 헤어 드라이기 퍼플          561   \n",
       "18        [TV상품]JMW 누보에디션 드라이어(골드/화이트 중 택1)+파우치          찜하기   \n",
       "19        JMW MF5001A MAX 전문가용 항공모터 접이식 헤어 드라이기          525   \n",
       "20      [결제시14%할인]JMW 항공기모터 드라이기접이식 MF5002B다크블루          464   \n",
       "21         JMW MA6001A 전문가용 BLDC항공모터 헤어 드라이기 블랙          453   \n",
       "22        비달사순 2,000W 강력 헤어드라이기/헤어드라이어 VSD5129K          402   \n",
       "23            유닉스 헤어 에센셜 케어 1600W 드라이기 UN-2895A          393   \n",
       "24       유닉스 최신상 2000W 파워맥스 이온 헤어 드라이어 UN-B1641          333   \n",
       "25                 [PHILIPS 필립스 드라이기 HP8230/00]          297   \n",
       "26            [바비리스] D580PK - 1600W 접이식 헤어 드라이기          285   \n",
       "27        [결제시14%할인]JMW BLDC항공모터 드라이기 MG1700 블랙          281   \n",
       "28        박준뷰티랩 이미용기기 미용실 헤어 드라이어 드라이기 PJP-2901          262   \n",
       "29                JMW  항공모터 접이식 드라이기 누보 (골드/로즈)          259   \n",
       "30         JMW MA6001A 전문가용 BLDC항공모터 헤어 드라이기 블랙          222   \n",
       "31         [결제시11%할인]JMW 프리미엄 드라이기 MS7002B 어반코랄          217   \n",
       "32                 JMW 항공기 드라이기 MG1800PLUS 올화이트          207   \n",
       "33         [엘라] 휴대용/여행용 접이식 미니 헤어 드라이기 MMD-3222          207   \n",
       "34         박준뷰티랩 이미용기기 살롱 헤어 드라이어 드라이기 PJP-2913          204   \n",
       "35          JMW 에어젯 터보 MS6010A 항공모터 헤어 드라이기 화이트          202   \n",
       "36           파나소닉 신상 헤어스타일러 EH-KA31 빗드라이기 롤 브러쉬          185   \n",
       "37                    FHI HEAT WP1900 전문가용 드라이기          184   \n",
       "38      유닉스 1500W UN-A1141 전문가용드라이기,미용실드라이기,업소용          162   \n",
       "39                    JMW 하이브리드 드라이기 DM6528B 블랙          154   \n",
       "40          [바비리스] 1800W 고성능 AC모터 헤어 드라이기 6630K          148   \n",
       "41             박준뷰티랩 전문가용 식스모션 헤어 드라이기 PJP-3500          147   \n",
       "42          [엘라]2000W 전문가용 접이식 헤어 드라이기 EPD-2022          145   \n",
       "43          [PHILIPS필립스써모프로텍트 헤어드라이어 HP8244/09]          139   \n",
       "44                   [TV상품]JMW 팬텀프라임 XP드라이기+거치대          찜하기   \n",
       "45               JMW 전문가용 헤어 드라이기 베이비핑크 DM5565E          131   \n",
       "46  [TV상품][21년 최신상/GS단독] 바비리스 멀티 에어스타일러 회전 드라이기          찜하기   \n",
       "47        [PHILIPS 필립스 써모프로텍트 헤어드라이어 HP8246/09]          122   \n",
       "48       유닉스 메탈 무광블랙 1600W 접이식 헤어 드라이기 UN-A1610          119   \n",
       "49      유닉스 메탈티 샤이골드 1700W 접이식 헤어 드라이기 UN-A1690          111   \n",
       "50              유닉스 접이식 헤어드라이기 UN-A1454 (2000W)          109   \n",
       "51   [결제시16%할인]JMW 터보 항공기 드라이기 MG1800 PLUS 올화이트          109   \n",
       "52                         [디자이너스] 드라이기 거치대 화이트           98   \n",
       "53          JMW 에어젯 터보 MS6010A 항공모터 헤어 드라이기 화이트           97   \n",
       "54        [바비리스] D105K - 프로 스피드 2000W 전문가용 드라이기           93   \n",
       "55                 JMW 터보 항공기 드라이기 MS6003C 무광블랙           88   \n",
       "56                    JMW 하이브리드 드라이기 DM6001A 블루           85   \n",
       "57      유닉스 터보 드라이기 UN-A1330NA 퍼플 전문가용 국산 1650W           84   \n",
       "58                  다이슨 슈퍼소닉 헤어 드라이기 실리콘 커버 케이스           81   \n",
       "59         비달사순 2,000W 강력 헤어드라이기/헤어드라이어 VSD120K           79   \n",
       "\n",
       "                                                  Url  \n",
       "0   http://www.gsshop.com/prd/prd.gs?prdid=6759532...  \n",
       "1   http://www.gsshop.com/prd/prd.gs?prdid=5803382...  \n",
       "2   http://www.gsshop.com/prd/prd.gs?prdid=1055079...  \n",
       "3   http://www.gsshop.com/prd/prd.gs?prdid=6526506...  \n",
       "4   http://www.gsshop.com/prd/prd.gs?prdid=2539903...  \n",
       "5   http://www.gsshop.com/prd/prd.gs?prdid=5291306...  \n",
       "6   http://www.gsshop.com/prd/prd.gs?prdid=2514706...  \n",
       "7   http://www.gsshop.com/prd/prd.gs?prdid=1318716...  \n",
       "8   http://www.gsshop.com/prd/prd.gs?prdid=3468330...  \n",
       "9   http://www.gsshop.com/prd/prd.gs?prdid=6574101...  \n",
       "10  http://www.gsshop.com/prd/prd.gs?prdid=5849022...  \n",
       "11  http://www.gsshop.com/prd/prd.gs?prdid=1364778...  \n",
       "12  http://www.gsshop.com/prd/prd.gs?prdid=1503310...  \n",
       "13  http://www.gsshop.com/prd/prd.gs?prdid=3459209...  \n",
       "14  http://www.gsshop.com/prd/prd.gs?prdid=2684028...  \n",
       "15  http://www.gsshop.com/prd/prd.gs?prdid=5526269...  \n",
       "16  http://www.gsshop.com/prd/prd.gs?prdid=1213463...  \n",
       "17  http://www.gsshop.com/prd/prd.gs?prdid=6526506...  \n",
       "18  http://www.gsshop.com/prd/prd.gs?prdid=6578416...  \n",
       "19  http://www.gsshop.com/prd/prd.gs?prdid=6526506...  \n",
       "20  http://www.gsshop.com/prd/prd.gs?prdid=2514707...  \n",
       "21  http://www.gsshop.com/prd/prd.gs?prdid=3468473...  \n",
       "22  http://www.gsshop.com/prd/prd.gs?prdid=5923198...  \n",
       "23  http://www.gsshop.com/prd/prd.gs?prdid=2974546...  \n",
       "24  http://www.gsshop.com/prd/prd.gs?prdid=3035836...  \n",
       "25  http://www.gsshop.com/prd/prd.gs?prdid=1213462...  \n",
       "26  http://www.gsshop.com/prd/prd.gs?prdid=1919259...  \n",
       "27  http://www.gsshop.com/prd/prd.gs?prdid=2514706...  \n",
       "28  http://www.gsshop.com/prd/prd.gs?prdid=4045852...  \n",
       "29  http://www.gsshop.com/prd/prd.gs?prdid=3218121...  \n",
       "30  http://www.gsshop.com/prd/prd.gs?prdid=5289725...  \n",
       "31  http://www.gsshop.com/prd/prd.gs?prdid=3599190...  \n",
       "32  http://www.gsshop.com/prd/prd.gs?prdid=5670853...  \n",
       "33  http://www.gsshop.com/prd/prd.gs?prdid=1427828...  \n",
       "34  http://www.gsshop.com/prd/prd.gs?prdid=4045851...  \n",
       "35  http://www.gsshop.com/prd/prd.gs?prdid=3468473...  \n",
       "36  http://www.gsshop.com/prd/prd.gs?prdid=5344957...  \n",
       "37  http://www.gsshop.com/prd/prd.gs?prdid=6123881...  \n",
       "38  http://www.gsshop.com/prd/prd.gs?prdid=3030765...  \n",
       "39  http://www.gsshop.com/prd/prd.gs?prdid=2514707...  \n",
       "40  http://www.gsshop.com/prd/prd.gs?prdid=1643764...  \n",
       "41  http://www.gsshop.com/prd/prd.gs?prdid=1949778...  \n",
       "42  http://www.gsshop.com/prd/prd.gs?prdid=2154845...  \n",
       "43  http://www.gsshop.com/prd/prd.gs?prdid=2044972...  \n",
       "44  http://www.gsshop.com/prd/prd.gs?prdid=6454825...  \n",
       "45  http://www.gsshop.com/prd/prd.gs?prdid=5719345...  \n",
       "46  http://www.gsshop.com/prd/prd.gs?prdid=6683978...  \n",
       "47  http://www.gsshop.com/prd/prd.gs?prdid=2044973...  \n",
       "48  http://www.gsshop.com/prd/prd.gs?prdid=3030766...  \n",
       "49  http://www.gsshop.com/prd/prd.gs?prdid=3749655...  \n",
       "50  http://www.gsshop.com/prd/prd.gs?prdid=3004900...  \n",
       "51  http://www.gsshop.com/prd/prd.gs?prdid=3421996...  \n",
       "52  http://www.gsshop.com/prd/prd.gs?prdid=1916002...  \n",
       "53  http://www.gsshop.com/prd/prd.gs?prdid=5289725...  \n",
       "54  http://www.gsshop.com/prd/prd.gs?prdid=2777908...  \n",
       "55  http://www.gsshop.com/prd/prd.gs?prdid=5670854...  \n",
       "56  http://www.gsshop.com/prd/prd.gs?prdid=2514707...  \n",
       "57  http://www.gsshop.com/prd/prd.gs?prdid=5263399...  \n",
       "58  http://www.gsshop.com/prd/prd.gs?prdid=5420259...  \n",
       "59  http://www.gsshop.com/prd/prd.gs?prdid=5923198...  "
      ]
     },
     "execution_count": 5,
     "metadata": {},
     "output_type": "execute_result"
    }
   ],
   "source": [
    "head_df = Main_page_SSG(\"헤어드라이기\")\n",
    "head_df"
   ]
  },
  {
   "cell_type": "code",
   "execution_count": 6,
   "metadata": {},
   "outputs": [
    {
     "data": {
      "text/plain": [
       "'67595326'"
      ]
     },
     "execution_count": 6,
     "metadata": {},
     "output_type": "execute_result"
    }
   ],
   "source": [
    "Ta_ = 0 \n",
    "\n",
    "url1 = head_df[\"Url\"][Ta_]\n",
    "product_name = head_df[\"Name\"][Ta_]\n",
    "main,para = url_split(url1)\n",
    "pro_id = para[\"prdid\"]\n",
    "pro_id"
   ]
  },
  {
   "cell_type": "code",
   "execution_count": 13,
   "metadata": {},
   "outputs": [],
   "source": [
    "def First_id(head_df,Ta_):\n",
    "    url1 = head_df[\"Url\"][Ta_]\n",
    "    product_name = head_df[\"Name\"][Ta_]\n",
    "    try:\n",
    "        max_r  = int(head_df[\"Review_count\"][Ta_])\n",
    "    except:\n",
    "        Ta_2 = int(Ta_)\n",
    "        max_r = None\n",
    "        while max_r is None:\n",
    "            Ta_2 = Ta_2 +1\n",
    "            try:\n",
    "                max_r  = int(head_df[\"Review_count\"][Ta_2])\n",
    "            except:\n",
    "                 pass\n",
    "    \n",
    "    main,para = url_split(url1)\n",
    "    pro_id = para[\"prdid\"]\n",
    "    header = {'User-Agent':ua.chrome,\n",
    "          \"referer\":\"https://gsshop.com/\"}\n",
    "    main_2 = 'http://www.gsshop.com/mi15/knownew/revw/revwList.gs'\n",
    "    para_2 = { 'contentDisNoYn': 'N'}\n",
    "    para_2[\"prdid\"] = pro_id\n",
    "    html = requests.get(main_2,headers=header,params=para_2).text\n",
    "    soup = BeautifulSoup(html,\"html.parser\")\n",
    "    first_meid = 0\n",
    "    for tag in soup.select(\"#reveiw-list\"):\n",
    "        first_meid = tag.find_all(\"article\")[0][\"data-messageid\"]\n",
    "    return first_meid,product_name,pro_id,max_r"
   ]
  },
  {
   "cell_type": "code",
   "execution_count": 16,
   "metadata": {},
   "outputs": [
    {
     "data": {
      "text/plain": [
       "('163700240', 'JMW M5001A PLUS 전문가용 항공모터 드라이기', '65265063', 4124)"
      ]
     },
     "execution_count": 16,
     "metadata": {},
     "output_type": "execute_result"
    }
   ],
   "source": [
    "First_id(head_df,3)"
   ]
  },
  {
   "cell_type": "code",
   "execution_count": 24,
   "metadata": {
    "scrolled": true
   },
   "outputs": [],
   "source": [
    "def Extraction(pro_id,first_meid):\n",
    "    header = {'User-Agent':ua.chrome,\n",
    "          \"referer\":\"https://gsshop.com/\"}\n",
    "    \n",
    "    main_3 = 'http://www.gsshop.com/mi15/knownew/revw/page/revwList.gs'\n",
    "    para_3 = {}\n",
    "\n",
    "    para_3[\"prdid\"] = pro_id\n",
    "    para_3['$messageId'] = first_meid\n",
    "    html = requests.get(main_3,headers=header,params=para_3).text\n",
    "    soup = BeautifulSoup(html,\"html.parser\")\n",
    "\n",
    "    data_all = []\n",
    "    for tag in soup.select(\"article\"):\n",
    "        header_ = tag.find(\"header\").find(\"div\",class_=\"write-info\")\n",
    "        date_ = header_.find(\"span\",class_=\"date\").text.replace(\"작성일\",\"\")\n",
    "        id_ = header_.find(\"span\",class_=\"writer\").text.replace(\"작성자\",\"\")\n",
    "        item_ = product_name\n",
    "        score_ =int(header_.find(\"span\",class_=\"star-rate\").find(\"em\")[\"style\"].replace(\"width:\",\"\").replace(\"%\",\"\"))/20\n",
    "        contents_ = tag.find(\"main\").find(\"p\").text\n",
    "        no_ = int(tag.find(\"footer\").find_all(\"button\")[0][\"data-rcmdcnt\"])\n",
    "        li_ = int(tag.find(\"footer\").find_all(\"button\")[1][\"data-rcmdcnt\"])\n",
    "        channel_ = \"GS\"\n",
    "        if li_ == 0:\n",
    "            liked_ = 0\n",
    "        else:\n",
    "            liked_ = (li_ - no_)\n",
    "        all_ = [date_,id_,item_,score_,contents_,liked_,channel_]\n",
    "        data_all.append(all_)\n",
    "    df_ = pd.DataFrame(data_all).rename(columns={0:\"date\",1:\"id\",2:\"item\",3:\"score\",4:\"contents\",5:\"liked\",6:\"channel\"})\n",
    "    \n",
    "    next_id = 0\n",
    "    for tag in soup.select(\"div.next\"):\n",
    "        next_id = tag[\"data-messageid\"]\n",
    "        \n",
    "    return df_,next_id"
   ]
  },
  {
   "cell_type": "code",
   "execution_count": 25,
   "metadata": {},
   "outputs": [
    {
     "data": {
      "text/plain": [
       "'161680494'"
      ]
     },
     "execution_count": 25,
     "metadata": {},
     "output_type": "execute_result"
    }
   ],
   "source": [
    "Extraction(pro_id,161684680)[1]"
   ]
  },
  {
   "cell_type": "code",
   "execution_count": 26,
   "metadata": {},
   "outputs": [
    {
     "data": {
      "text/plain": [
       "'161464014'"
      ]
     },
     "execution_count": 26,
     "metadata": {},
     "output_type": "execute_result"
    }
   ],
   "source": [
    "Extraction(pro_id,\"161516758\")[1]"
   ]
  },
  {
   "cell_type": "code",
   "execution_count": null,
   "metadata": {},
   "outputs": [],
   "source": []
  },
  {
   "cell_type": "code",
   "execution_count": 27,
   "metadata": {},
   "outputs": [],
   "source": [
    "def Crawling_all_GS(head_df,Ta_,loop_):\n",
    "    fi,name_,pro_id,maxn = First_id(head_df,Ta_)\n",
    "    review_all,nid_ = Extraction(pro_id,fi)\n",
    "    #print(maxn)\n",
    "    try:\n",
    "        loop_ = (maxn//10)\n",
    "        #print(loop_)\n",
    "    except:\n",
    "        pass\n",
    "    tq = tqdm(range(loop_))\n",
    "\n",
    "    for i in tq:\n",
    "        review_candi,nid_ = Extraction(pro_id,nid_)\n",
    "        review_all = pd.concat([review_all,review_candi]).reset_index(drop=True)\n",
    "    return review_all,name_"
   ]
  },
  {
   "cell_type": "code",
   "execution_count": 28,
   "metadata": {},
   "outputs": [
    {
     "data": {
      "application/vnd.jupyter.widget-view+json": {
       "model_id": "a851cd6c30b644afb1d7bbc93123a115",
       "version_major": 2,
       "version_minor": 0
      },
      "text/plain": [
       "  0%|          | 0/10 [00:00<?, ?it/s]"
      ]
     },
     "metadata": {},
     "output_type": "display_data"
    },
    {
     "data": {
      "text/html": [
       "<div>\n",
       "<style scoped>\n",
       "    .dataframe tbody tr th:only-of-type {\n",
       "        vertical-align: middle;\n",
       "    }\n",
       "\n",
       "    .dataframe tbody tr th {\n",
       "        vertical-align: top;\n",
       "    }\n",
       "\n",
       "    .dataframe thead th {\n",
       "        text-align: right;\n",
       "    }\n",
       "</style>\n",
       "<table border=\"1\" class=\"dataframe\">\n",
       "  <thead>\n",
       "    <tr style=\"text-align: right;\">\n",
       "      <th></th>\n",
       "      <th>date</th>\n",
       "      <th>id</th>\n",
       "      <th>item</th>\n",
       "      <th>score</th>\n",
       "      <th>contents</th>\n",
       "      <th>liked</th>\n",
       "      <th>channel</th>\n",
       "    </tr>\n",
       "  </thead>\n",
       "  <tbody>\n",
       "    <tr>\n",
       "      <th>0</th>\n",
       "      <td>2021.07.08</td>\n",
       "      <td>cou******</td>\n",
       "      <td>[TV상품]다이슨 에어랩 볼륨앤쉐이프</td>\n",
       "      <td>5.00</td>\n",
       "      <td>추천할만하게 좋네요. 바람이 쎄지만 소음은 심하지 않고, 빨리 말릴 수 있습니다</td>\n",
       "      <td>0</td>\n",
       "      <td>GS</td>\n",
       "    </tr>\n",
       "    <tr>\n",
       "      <th>1</th>\n",
       "      <td>2021.07.03</td>\n",
       "      <td>js3****</td>\n",
       "      <td>[TV상품]다이슨 에어랩 볼륨앤쉐이프</td>\n",
       "      <td>3.00</td>\n",
       "      <td>가볍긴한데 드라이기 헤드가 헐렁해서 자꾸 빠지니까 짜증나서 잘안씁니다ㅠㅠ</td>\n",
       "      <td>0</td>\n",
       "      <td>GS</td>\n",
       "    </tr>\n",
       "    <tr>\n",
       "      <th>2</th>\n",
       "      <td>2021.06.30</td>\n",
       "      <td>c0**********@gmail.com</td>\n",
       "      <td>[TV상품]다이슨 에어랩 볼륨앤쉐이프</td>\n",
       "      <td>5.00</td>\n",
       "      <td>가볍고 색깔도 이쁘고요.바람이 써서 머리 빨리 말릴수 있어서 넘 좋아요.</td>\n",
       "      <td>0</td>\n",
       "      <td>GS</td>\n",
       "    </tr>\n",
       "    <tr>\n",
       "      <th>3</th>\n",
       "      <td>2021.06.30</td>\n",
       "      <td>pjs****</td>\n",
       "      <td>[TV상품]다이슨 에어랩 볼륨앤쉐이프</td>\n",
       "      <td>3.00</td>\n",
       "      <td>가격대비  여러가지가 사용하기에  좋아요~~</td>\n",
       "      <td>0</td>\n",
       "      <td>GS</td>\n",
       "    </tr>\n",
       "    <tr>\n",
       "      <th>4</th>\n",
       "      <td>2021.06.27</td>\n",
       "      <td>pur******</td>\n",
       "      <td>[TV상품]다이슨 에어랩 볼륨앤쉐이프</td>\n",
       "      <td>5.00</td>\n",
       "      <td>처음쓸때 고무탄내? 전기탄내가나서 교환하려했더니 3일정도 써보라고해서 써보고 지켜봤...</td>\n",
       "      <td>0</td>\n",
       "      <td>GS</td>\n",
       "    </tr>\n",
       "    <tr>\n",
       "      <th>...</th>\n",
       "      <td>...</td>\n",
       "      <td>...</td>\n",
       "      <td>...</td>\n",
       "      <td>...</td>\n",
       "      <td>...</td>\n",
       "      <td>...</td>\n",
       "      <td>...</td>\n",
       "    </tr>\n",
       "    <tr>\n",
       "      <th>104</th>\n",
       "      <td>2018.04.27</td>\n",
       "      <td>yun*******</td>\n",
       "      <td>[TV상품]다이슨 에어랩 볼륨앤쉐이프</td>\n",
       "      <td>5.00</td>\n",
       "      <td>소리는조금크지만  만족합니다</td>\n",
       "      <td>0</td>\n",
       "      <td>GS</td>\n",
       "    </tr>\n",
       "    <tr>\n",
       "      <th>105</th>\n",
       "      <td>2018.04.18</td>\n",
       "      <td>dem******</td>\n",
       "      <td>[TV상품]다이슨 에어랩 볼륨앤쉐이프</td>\n",
       "      <td>5.00</td>\n",
       "      <td>기존 낮은 와트 제품 이용하다 센것으로 사용하니 빠르고 좋으네요..맘에 듭니다~</td>\n",
       "      <td>2</td>\n",
       "      <td>GS</td>\n",
       "    </tr>\n",
       "    <tr>\n",
       "      <th>106</th>\n",
       "      <td>2018.04.17</td>\n",
       "      <td>jew********</td>\n",
       "      <td>[TV상품]다이슨 에어랩 볼륨앤쉐이프</td>\n",
       "      <td>5.00</td>\n",
       "      <td>좋아요.좋아요</td>\n",
       "      <td>0</td>\n",
       "      <td>GS</td>\n",
       "    </tr>\n",
       "    <tr>\n",
       "      <th>107</th>\n",
       "      <td>2018.04.13</td>\n",
       "      <td>soj*****</td>\n",
       "      <td>[TV상품]다이슨 에어랩 볼륨앤쉐이프</td>\n",
       "      <td>4.75</td>\n",
       "      <td>기존에도 유닉스를 사용해서 이번에도 유닉스꺼로 구매햇습니다~~ \\r전에 사용하던것보...</td>\n",
       "      <td>0</td>\n",
       "      <td>GS</td>\n",
       "    </tr>\n",
       "    <tr>\n",
       "      <th>108</th>\n",
       "      <td>2018.03.21</td>\n",
       "      <td>lee******</td>\n",
       "      <td>[TV상품]다이슨 에어랩 볼륨앤쉐이프</td>\n",
       "      <td>3.75</td>\n",
       "      <td>가격대비 만족합니다</td>\n",
       "      <td>1</td>\n",
       "      <td>GS</td>\n",
       "    </tr>\n",
       "  </tbody>\n",
       "</table>\n",
       "<p>109 rows × 7 columns</p>\n",
       "</div>"
      ],
      "text/plain": [
       "           date                      id                  item  score  \\\n",
       "0    2021.07.08               cou******  [TV상품]다이슨 에어랩 볼륨앤쉐이프   5.00   \n",
       "1    2021.07.03                 js3****  [TV상품]다이슨 에어랩 볼륨앤쉐이프   3.00   \n",
       "2    2021.06.30  c0**********@gmail.com  [TV상품]다이슨 에어랩 볼륨앤쉐이프   5.00   \n",
       "3    2021.06.30                 pjs****  [TV상품]다이슨 에어랩 볼륨앤쉐이프   3.00   \n",
       "4    2021.06.27               pur******  [TV상품]다이슨 에어랩 볼륨앤쉐이프   5.00   \n",
       "..          ...                     ...                   ...    ...   \n",
       "104  2018.04.27              yun*******  [TV상품]다이슨 에어랩 볼륨앤쉐이프   5.00   \n",
       "105  2018.04.18               dem******  [TV상품]다이슨 에어랩 볼륨앤쉐이프   5.00   \n",
       "106  2018.04.17             jew********  [TV상품]다이슨 에어랩 볼륨앤쉐이프   5.00   \n",
       "107  2018.04.13                soj*****  [TV상품]다이슨 에어랩 볼륨앤쉐이프   4.75   \n",
       "108  2018.03.21               lee******  [TV상품]다이슨 에어랩 볼륨앤쉐이프   3.75   \n",
       "\n",
       "                                              contents  liked channel  \n",
       "0         추천할만하게 좋네요. 바람이 쎄지만 소음은 심하지 않고, 빨리 말릴 수 있습니다      0      GS  \n",
       "1             가볍긴한데 드라이기 헤드가 헐렁해서 자꾸 빠지니까 짜증나서 잘안씁니다ㅠㅠ      0      GS  \n",
       "2             가볍고 색깔도 이쁘고요.바람이 써서 머리 빨리 말릴수 있어서 넘 좋아요.      0      GS  \n",
       "3                             가격대비  여러가지가 사용하기에  좋아요~~      0      GS  \n",
       "4    처음쓸때 고무탄내? 전기탄내가나서 교환하려했더니 3일정도 써보라고해서 써보고 지켜봤...      0      GS  \n",
       "..                                                 ...    ...     ...  \n",
       "104                                    소리는조금크지만  만족합니다      0      GS  \n",
       "105       기존 낮은 와트 제품 이용하다 센것으로 사용하니 빠르고 좋으네요..맘에 듭니다~      2      GS  \n",
       "106                                            좋아요.좋아요      0      GS  \n",
       "107  기존에도 유닉스를 사용해서 이번에도 유닉스꺼로 구매햇습니다~~ \\r전에 사용하던것보...      0      GS  \n",
       "108                                         가격대비 만족합니다      1      GS  \n",
       "\n",
       "[109 rows x 7 columns]"
      ]
     },
     "execution_count": 28,
     "metadata": {},
     "output_type": "execute_result"
    }
   ],
   "source": [
    "test_,tdf_ = Crawling_all_GS(head_df,50,1)\n",
    "test_"
   ]
  },
  {
   "cell_type": "code",
   "execution_count": 29,
   "metadata": {},
   "outputs": [],
   "source": [
    "def Save_GS(head_df,path_,loop_):\n",
    "    for i_ in range(len(head_df)):\n",
    "        print(\"In {} Pro From {}\".format(i_+1,len(head_df)+1))\n",
    "        print()\n",
    "        print(head_df[\"Name\"][i_])\n",
    "        out_,NA_ = Crawling_all_GS(head_df,i_,loop_)\n",
    "        NA_ = NA_.replace(\"/\",\"\")\n",
    "        out_.to_excel(path_.format(NA_))"
   ]
  },
  {
   "cell_type": "code",
   "execution_count": 30,
   "metadata": {},
   "outputs": [
    {
     "name": "stdout",
     "output_type": "stream",
     "text": [
      "In 1 Pro From 61\n",
      "\n",
      "[TV상품]다이슨 에어랩 볼륨앤쉐이프\n"
     ]
    },
    {
     "data": {
      "application/vnd.jupyter.widget-view+json": {
       "model_id": "9cb102c033e943d1b25b5e822c812b9c",
       "version_major": 2,
       "version_minor": 0
      },
      "text/plain": [
       "  0%|          | 0/428 [00:00<?, ?it/s]"
      ]
     },
     "metadata": {},
     "output_type": "display_data"
    },
    {
     "name": "stdout",
     "output_type": "stream",
     "text": [
      "In 2 Pro From 61\n",
      "\n",
      "[TV상품]프리미엄라인 순수 골드라벨 염색제 + 살롱 드라이기\n"
     ]
    },
    {
     "data": {
      "application/vnd.jupyter.widget-view+json": {
       "model_id": "757ac601112444ae9559ed3264242382",
       "version_major": 2,
       "version_minor": 0
      },
      "text/plain": [
       "  0%|          | 0/428 [00:00<?, ?it/s]"
      ]
     },
     "metadata": {},
     "output_type": "display_data"
    },
    {
     "name": "stdout",
     "output_type": "stream",
     "text": [
      "In 3 Pro From 61\n",
      "\n",
      "박준뷰티랩 식스모션 헤어 드라이기 PJP-3500 / 거치대 증정\n"
     ]
    },
    {
     "data": {
      "application/vnd.jupyter.widget-view+json": {
       "model_id": "371da41abe394529b2e00ded494ae892",
       "version_major": 2,
       "version_minor": 0
      },
      "text/plain": [
       "  0%|          | 0/428 [00:00<?, ?it/s]"
      ]
     },
     "metadata": {},
     "output_type": "display_data"
    },
    {
     "name": "stdout",
     "output_type": "stream",
     "text": [
      "In 4 Pro From 61\n",
      "\n",
      "JMW M5001A PLUS 전문가용 항공모터 드라이기\n"
     ]
    },
    {
     "data": {
      "application/vnd.jupyter.widget-view+json": {
       "model_id": "ad4b3fa4888b4238bc02d7627a7a7441",
       "version_major": 2,
       "version_minor": 0
      },
      "text/plain": [
       "  0%|          | 0/412 [00:00<?, ?it/s]"
      ]
     },
     "metadata": {},
     "output_type": "display_data"
    },
    {
     "name": "stdout",
     "output_type": "stream",
     "text": [
      "In 5 Pro From 61\n",
      "\n",
      "[14%할인+거치홀더]JMW 팬텀 로즈골드 MS6001A 항공모터드라이기\n"
     ]
    },
    {
     "data": {
      "application/vnd.jupyter.widget-view+json": {
       "model_id": "51a831159271437897bd1e12a82de54b",
       "version_major": 2,
       "version_minor": 0
      },
      "text/plain": [
       "  0%|          | 0/278 [00:00<?, ?it/s]"
      ]
     },
     "metadata": {},
     "output_type": "display_data"
    },
    {
     "name": "stdout",
     "output_type": "stream",
     "text": [
      "In 6 Pro From 61\n",
      "\n",
      "JMW 터보 항공기 드라이기 MS6001A 팬텀 펄화이트\n"
     ]
    },
    {
     "data": {
      "application/vnd.jupyter.widget-view+json": {
       "model_id": "9c731e155590433bb76f3266f6f3b352",
       "version_major": 2,
       "version_minor": 0
      },
      "text/plain": [
       "  0%|          | 0/273 [00:00<?, ?it/s]"
      ]
     },
     "metadata": {},
     "output_type": "display_data"
    },
    {
     "name": "stdout",
     "output_type": "stream",
     "text": [
      "In 7 Pro From 61\n",
      "\n",
      "[결제시14%할인]JMW BLDC항공모터 드라이기 MG1800 화이트\n"
     ]
    },
    {
     "data": {
      "application/vnd.jupyter.widget-view+json": {
       "model_id": "a00815e7d36447239109be8d38631143",
       "version_major": 2,
       "version_minor": 0
      },
      "text/plain": [
       "  0%|          | 0/239 [00:00<?, ?it/s]"
      ]
     },
     "metadata": {},
     "output_type": "display_data"
    },
    {
     "name": "stdout",
     "output_type": "stream",
     "text": [
      "In 8 Pro From 61\n",
      "\n",
      "디자이너스 프리미엄 화이트 골드 헤어 드라이기 DGCB-004\n"
     ]
    },
    {
     "data": {
      "application/vnd.jupyter.widget-view+json": {
       "model_id": "067aeeb7b93a46f9ae726eb251e77e12",
       "version_major": 2,
       "version_minor": 0
      },
      "text/plain": [
       "  0%|          | 0/179 [00:00<?, ?it/s]"
      ]
     },
     "metadata": {},
     "output_type": "display_data"
    },
    {
     "name": "stdout",
     "output_type": "stream",
     "text": [
      "In 9 Pro From 61\n",
      "\n",
      "[시크릿특가] JMW 에어젯 터보 MS6020B 항공모터 헤어 드라이기\n"
     ]
    },
    {
     "data": {
      "application/vnd.jupyter.widget-view+json": {
       "model_id": "c8eaefcf4f3344a7a0c8e3a72a84e189",
       "version_major": 2,
       "version_minor": 0
      },
      "text/plain": [
       "  0%|          | 0/148 [00:00<?, ?it/s]"
      ]
     },
     "metadata": {},
     "output_type": "display_data"
    },
    {
     "name": "stdout",
     "output_type": "stream",
     "text": [
      "In 10 Pro From 61\n",
      "\n",
      "[TV상품]순수 디어뮤즈 염색제 10박스 + 순수 살롱 드라이기\n"
     ]
    },
    {
     "data": {
      "application/vnd.jupyter.widget-view+json": {
       "model_id": "4621fd71e55b4ae7befcc50ff14c9bdc",
       "version_major": 2,
       "version_minor": 0
      },
      "text/plain": [
       "  0%|          | 0/102 [00:00<?, ?it/s]"
      ]
     },
     "metadata": {},
     "output_type": "display_data"
    },
    {
     "name": "stdout",
     "output_type": "stream",
     "text": [
      "In 11 Pro From 61\n",
      "\n",
      "[TV상품]RATE 헤어 드라이어 F600 풀패키지\n"
     ]
    },
    {
     "data": {
      "application/vnd.jupyter.widget-view+json": {
       "model_id": "2309f7c8024e439890ead4b3960405a2",
       "version_major": 2,
       "version_minor": 0
      },
      "text/plain": [
       "  0%|          | 0/102 [00:00<?, ?it/s]"
      ]
     },
     "metadata": {},
     "output_type": "display_data"
    },
    {
     "name": "stdout",
     "output_type": "stream",
     "text": [
      "In 12 Pro From 61\n",
      "\n",
      "[TV상품]더블에스샤이니 롤드라이기 다이아몬드 디지털 빵빵고데기 2세트\n"
     ]
    },
    {
     "data": {
      "application/vnd.jupyter.widget-view+json": {
       "model_id": "fca54b0aad2f4445b2b895b65e8cc867",
       "version_major": 2,
       "version_minor": 0
      },
      "text/plain": [
       "  0%|          | 0/102 [00:00<?, ?it/s]"
      ]
     },
     "metadata": {},
     "output_type": "display_data"
    },
    {
     "name": "stdout",
     "output_type": "stream",
     "text": [
      "In 13 Pro From 61\n",
      "\n",
      "[엘라] 2000W 고출력 강한 바람 전문가 드라이기 EPD-2011\n"
     ]
    },
    {
     "data": {
      "application/vnd.jupyter.widget-view+json": {
       "model_id": "e4fe53cc9e0e43b5b11e846386fa31e1",
       "version_major": 2,
       "version_minor": 0
      },
      "text/plain": [
       "  0%|          | 0/102 [00:00<?, ?it/s]"
      ]
     },
     "metadata": {},
     "output_type": "display_data"
    },
    {
     "name": "stdout",
     "output_type": "stream",
     "text": [
      "In 14 Pro From 61\n",
      "\n",
      "다이슨 헤어드라이기 거치대\n"
     ]
    },
    {
     "data": {
      "application/vnd.jupyter.widget-view+json": {
       "model_id": "43bd3ffb44dd47828322f4cb1fb79088",
       "version_major": 2,
       "version_minor": 0
      },
      "text/plain": [
       "  0%|          | 0/75 [00:00<?, ?it/s]"
      ]
     },
     "metadata": {},
     "output_type": "display_data"
    },
    {
     "name": "stdout",
     "output_type": "stream",
     "text": [
      "In 15 Pro From 61\n",
      "\n",
      "[결제시14%할인]JMW 팬텀 프라임 드라이기 MS6003C 무광블랙\n"
     ]
    },
    {
     "data": {
      "application/vnd.jupyter.widget-view+json": {
       "model_id": "7cdf1a54f1f645f78381509ca618f67c",
       "version_major": 2,
       "version_minor": 0
      },
      "text/plain": [
       "  0%|          | 0/64 [00:00<?, ?it/s]"
      ]
     },
     "metadata": {},
     "output_type": "display_data"
    },
    {
     "name": "stdout",
     "output_type": "stream",
     "text": [
      "In 16 Pro From 61\n",
      "\n",
      "JMW 팬텀 프라임 드라이기 MS6003C 무광블랙에디션\n"
     ]
    },
    {
     "data": {
      "application/vnd.jupyter.widget-view+json": {
       "model_id": "9b82e29208834eddbc10b39d5a838e39",
       "version_major": 2,
       "version_minor": 0
      },
      "text/plain": [
       "  0%|          | 0/63 [00:00<?, ?it/s]"
      ]
     },
     "metadata": {},
     "output_type": "display_data"
    },
    {
     "name": "stdout",
     "output_type": "stream",
     "text": [
      "In 17 Pro From 61\n",
      "\n",
      "[PHILIPS 필립스 드라이기 HP8232/00]\n"
     ]
    },
    {
     "data": {
      "application/vnd.jupyter.widget-view+json": {
       "model_id": "0a9230b9561c4eb7907e863bc8e44a45",
       "version_major": 2,
       "version_minor": 0
      },
      "text/plain": [
       "  0%|          | 0/57 [00:00<?, ?it/s]"
      ]
     },
     "metadata": {},
     "output_type": "display_data"
    },
    {
     "name": "stdout",
     "output_type": "stream",
     "text": [
      "In 18 Pro From 61\n",
      "\n",
      "JMW M5001A 전문가용 BLDC항공모터 헤어 드라이기 퍼플\n"
     ]
    },
    {
     "data": {
      "application/vnd.jupyter.widget-view+json": {
       "model_id": "9af6434c9a3b4651a8d5eefaa0d1e349",
       "version_major": 2,
       "version_minor": 0
      },
      "text/plain": [
       "  0%|          | 0/56 [00:00<?, ?it/s]"
      ]
     },
     "metadata": {},
     "output_type": "display_data"
    },
    {
     "name": "stdout",
     "output_type": "stream",
     "text": [
      "In 19 Pro From 61\n",
      "\n",
      "[TV상품]JMW 누보에디션 드라이어(골드/화이트 중 택1)+파우치\n"
     ]
    },
    {
     "data": {
      "application/vnd.jupyter.widget-view+json": {
       "model_id": "fa86c1d97f95435ab85da97898cdda26",
       "version_major": 2,
       "version_minor": 0
      },
      "text/plain": [
       "  0%|          | 0/52 [00:00<?, ?it/s]"
      ]
     },
     "metadata": {},
     "output_type": "display_data"
    },
    {
     "name": "stdout",
     "output_type": "stream",
     "text": [
      "In 20 Pro From 61\n",
      "\n",
      "JMW MF5001A MAX 전문가용 항공모터 접이식 헤어 드라이기\n"
     ]
    },
    {
     "data": {
      "application/vnd.jupyter.widget-view+json": {
       "model_id": "ff38f39abd014a609ad4d430c66d2b96",
       "version_major": 2,
       "version_minor": 0
      },
      "text/plain": [
       "  0%|          | 0/52 [00:00<?, ?it/s]"
      ]
     },
     "metadata": {},
     "output_type": "display_data"
    },
    {
     "name": "stdout",
     "output_type": "stream",
     "text": [
      "In 21 Pro From 61\n",
      "\n",
      "[결제시14%할인]JMW 항공기모터 드라이기접이식 MF5002B다크블루\n"
     ]
    },
    {
     "data": {
      "application/vnd.jupyter.widget-view+json": {
       "model_id": "8cdc063c362041d999ae56ca0378d6d0",
       "version_major": 2,
       "version_minor": 0
      },
      "text/plain": [
       "  0%|          | 0/46 [00:00<?, ?it/s]"
      ]
     },
     "metadata": {},
     "output_type": "display_data"
    },
    {
     "name": "stdout",
     "output_type": "stream",
     "text": [
      "In 22 Pro From 61\n",
      "\n",
      "JMW MA6001A 전문가용 BLDC항공모터 헤어 드라이기 블랙\n"
     ]
    },
    {
     "data": {
      "application/vnd.jupyter.widget-view+json": {
       "model_id": "b2e56f7567034a8496d3f40f54ba7059",
       "version_major": 2,
       "version_minor": 0
      },
      "text/plain": [
       "  0%|          | 0/45 [00:00<?, ?it/s]"
      ]
     },
     "metadata": {},
     "output_type": "display_data"
    },
    {
     "name": "stdout",
     "output_type": "stream",
     "text": [
      "In 23 Pro From 61\n",
      "\n",
      "비달사순 2,000W 강력 헤어드라이기/헤어드라이어 VSD5129K\n"
     ]
    },
    {
     "data": {
      "application/vnd.jupyter.widget-view+json": {
       "model_id": "cc119e1dc1494ffc951079f7c3c74b77",
       "version_major": 2,
       "version_minor": 0
      },
      "text/plain": [
       "  0%|          | 0/40 [00:00<?, ?it/s]"
      ]
     },
     "metadata": {},
     "output_type": "display_data"
    },
    {
     "name": "stdout",
     "output_type": "stream",
     "text": [
      "In 24 Pro From 61\n",
      "\n",
      "유닉스 헤어 에센셜 케어 1600W 드라이기 UN-2895A\n"
     ]
    },
    {
     "data": {
      "application/vnd.jupyter.widget-view+json": {
       "model_id": "fcaa4db8ea5e4c3d8aca4cb43bc89897",
       "version_major": 2,
       "version_minor": 0
      },
      "text/plain": [
       "  0%|          | 0/39 [00:00<?, ?it/s]"
      ]
     },
     "metadata": {},
     "output_type": "display_data"
    },
    {
     "name": "stdout",
     "output_type": "stream",
     "text": [
      "In 25 Pro From 61\n",
      "\n",
      "유닉스 최신상 2000W 파워맥스 이온 헤어 드라이어 UN-B1641\n"
     ]
    },
    {
     "data": {
      "application/vnd.jupyter.widget-view+json": {
       "model_id": "6ffc644b7781431c93025bfa90692c14",
       "version_major": 2,
       "version_minor": 0
      },
      "text/plain": [
       "  0%|          | 0/33 [00:00<?, ?it/s]"
      ]
     },
     "metadata": {},
     "output_type": "display_data"
    },
    {
     "name": "stdout",
     "output_type": "stream",
     "text": [
      "In 26 Pro From 61\n",
      "\n",
      "[PHILIPS 필립스 드라이기 HP8230/00]\n"
     ]
    },
    {
     "data": {
      "application/vnd.jupyter.widget-view+json": {
       "model_id": "3d36264a061a4ad6b9425b3a4540c173",
       "version_major": 2,
       "version_minor": 0
      },
      "text/plain": [
       "  0%|          | 0/29 [00:00<?, ?it/s]"
      ]
     },
     "metadata": {},
     "output_type": "display_data"
    },
    {
     "name": "stdout",
     "output_type": "stream",
     "text": [
      "In 27 Pro From 61\n",
      "\n",
      "[바비리스] D580PK - 1600W 접이식 헤어 드라이기\n"
     ]
    },
    {
     "data": {
      "application/vnd.jupyter.widget-view+json": {
       "model_id": "bdd445226c26418d90ed1699643e32ba",
       "version_major": 2,
       "version_minor": 0
      },
      "text/plain": [
       "  0%|          | 0/28 [00:00<?, ?it/s]"
      ]
     },
     "metadata": {},
     "output_type": "display_data"
    },
    {
     "name": "stdout",
     "output_type": "stream",
     "text": [
      "In 28 Pro From 61\n",
      "\n",
      "[결제시14%할인]JMW BLDC항공모터 드라이기 MG1700 블랙\n"
     ]
    },
    {
     "data": {
      "application/vnd.jupyter.widget-view+json": {
       "model_id": "06cac4f129244c89a29a6547adc1ad3c",
       "version_major": 2,
       "version_minor": 0
      },
      "text/plain": [
       "  0%|          | 0/28 [00:00<?, ?it/s]"
      ]
     },
     "metadata": {},
     "output_type": "display_data"
    },
    {
     "name": "stdout",
     "output_type": "stream",
     "text": [
      "In 29 Pro From 61\n",
      "\n",
      "박준뷰티랩 이미용기기 미용실 헤어 드라이어 드라이기 PJP-2901\n"
     ]
    },
    {
     "data": {
      "application/vnd.jupyter.widget-view+json": {
       "model_id": "ebbad67cc7ec4e849fffaf509723b43f",
       "version_major": 2,
       "version_minor": 0
      },
      "text/plain": [
       "  0%|          | 0/26 [00:00<?, ?it/s]"
      ]
     },
     "metadata": {},
     "output_type": "display_data"
    },
    {
     "name": "stdout",
     "output_type": "stream",
     "text": [
      "In 30 Pro From 61\n",
      "\n",
      "JMW  항공모터 접이식 드라이기 누보 (골드/로즈)\n"
     ]
    },
    {
     "data": {
      "application/vnd.jupyter.widget-view+json": {
       "model_id": "8fbfd09cd16648ef8be771f7d59c9d18",
       "version_major": 2,
       "version_minor": 0
      },
      "text/plain": [
       "  0%|          | 0/25 [00:00<?, ?it/s]"
      ]
     },
     "metadata": {},
     "output_type": "display_data"
    },
    {
     "name": "stdout",
     "output_type": "stream",
     "text": [
      "In 31 Pro From 61\n",
      "\n",
      "JMW MA6001A 전문가용 BLDC항공모터 헤어 드라이기 블랙\n"
     ]
    },
    {
     "data": {
      "application/vnd.jupyter.widget-view+json": {
       "model_id": "5e8b08750e544f94a1107221d3eaea4f",
       "version_major": 2,
       "version_minor": 0
      },
      "text/plain": [
       "  0%|          | 0/22 [00:00<?, ?it/s]"
      ]
     },
     "metadata": {},
     "output_type": "display_data"
    },
    {
     "name": "stdout",
     "output_type": "stream",
     "text": [
      "In 32 Pro From 61\n",
      "\n",
      "[결제시11%할인]JMW 프리미엄 드라이기 MS7002B 어반코랄\n"
     ]
    },
    {
     "data": {
      "application/vnd.jupyter.widget-view+json": {
       "model_id": "68abc6df8959462fa10644984fcfbf0a",
       "version_major": 2,
       "version_minor": 0
      },
      "text/plain": [
       "  0%|          | 0/21 [00:00<?, ?it/s]"
      ]
     },
     "metadata": {},
     "output_type": "display_data"
    },
    {
     "name": "stdout",
     "output_type": "stream",
     "text": [
      "In 33 Pro From 61\n",
      "\n",
      "JMW 항공기 드라이기 MG1800PLUS 올화이트\n"
     ]
    },
    {
     "data": {
      "application/vnd.jupyter.widget-view+json": {
       "model_id": "b8473ffc6c8a4fec975b8d172a3cc761",
       "version_major": 2,
       "version_minor": 0
      },
      "text/plain": [
       "  0%|          | 0/20 [00:00<?, ?it/s]"
      ]
     },
     "metadata": {},
     "output_type": "display_data"
    },
    {
     "name": "stdout",
     "output_type": "stream",
     "text": [
      "In 34 Pro From 61\n",
      "\n",
      "[엘라] 휴대용/여행용 접이식 미니 헤어 드라이기 MMD-3222\n"
     ]
    },
    {
     "data": {
      "application/vnd.jupyter.widget-view+json": {
       "model_id": "a58cc0f3a5a64dd397364316f8354dbf",
       "version_major": 2,
       "version_minor": 0
      },
      "text/plain": [
       "  0%|          | 0/20 [00:00<?, ?it/s]"
      ]
     },
     "metadata": {},
     "output_type": "display_data"
    },
    {
     "name": "stdout",
     "output_type": "stream",
     "text": [
      "In 35 Pro From 61\n",
      "\n",
      "박준뷰티랩 이미용기기 살롱 헤어 드라이어 드라이기 PJP-2913\n"
     ]
    },
    {
     "data": {
      "application/vnd.jupyter.widget-view+json": {
       "model_id": "ee8432840bb946dfb78da1e04a7f537b",
       "version_major": 2,
       "version_minor": 0
      },
      "text/plain": [
       "  0%|          | 0/20 [00:00<?, ?it/s]"
      ]
     },
     "metadata": {},
     "output_type": "display_data"
    },
    {
     "name": "stdout",
     "output_type": "stream",
     "text": [
      "In 36 Pro From 61\n",
      "\n",
      "JMW 에어젯 터보 MS6010A 항공모터 헤어 드라이기 화이트\n"
     ]
    },
    {
     "data": {
      "application/vnd.jupyter.widget-view+json": {
       "model_id": "8a57a2e9e569449e9045cc84524c4fec",
       "version_major": 2,
       "version_minor": 0
      },
      "text/plain": [
       "  0%|          | 0/20 [00:00<?, ?it/s]"
      ]
     },
     "metadata": {},
     "output_type": "display_data"
    },
    {
     "name": "stdout",
     "output_type": "stream",
     "text": [
      "In 37 Pro From 61\n",
      "\n",
      "파나소닉 신상 헤어스타일러 EH-KA31 빗드라이기 롤 브러쉬\n"
     ]
    },
    {
     "data": {
      "application/vnd.jupyter.widget-view+json": {
       "model_id": "023cbd2a0ce74b2b979ca882d8f84ae8",
       "version_major": 2,
       "version_minor": 0
      },
      "text/plain": [
       "  0%|          | 0/18 [00:00<?, ?it/s]"
      ]
     },
     "metadata": {},
     "output_type": "display_data"
    },
    {
     "name": "stdout",
     "output_type": "stream",
     "text": [
      "In 38 Pro From 61\n",
      "\n",
      "FHI HEAT WP1900 전문가용 드라이기\n"
     ]
    },
    {
     "data": {
      "application/vnd.jupyter.widget-view+json": {
       "model_id": "601867b101df4eb8950f0dbffced2bc2",
       "version_major": 2,
       "version_minor": 0
      },
      "text/plain": [
       "  0%|          | 0/18 [00:00<?, ?it/s]"
      ]
     },
     "metadata": {},
     "output_type": "display_data"
    },
    {
     "name": "stdout",
     "output_type": "stream",
     "text": [
      "In 39 Pro From 61\n",
      "\n",
      "유닉스 1500W UN-A1141 전문가용드라이기,미용실드라이기,업소용\n"
     ]
    },
    {
     "data": {
      "application/vnd.jupyter.widget-view+json": {
       "model_id": "b9914ba8ec684b968e927efb315e3430",
       "version_major": 2,
       "version_minor": 0
      },
      "text/plain": [
       "  0%|          | 0/16 [00:00<?, ?it/s]"
      ]
     },
     "metadata": {},
     "output_type": "display_data"
    },
    {
     "name": "stdout",
     "output_type": "stream",
     "text": [
      "In 40 Pro From 61\n",
      "\n",
      "JMW 하이브리드 드라이기 DM6528B 블랙\n"
     ]
    },
    {
     "data": {
      "application/vnd.jupyter.widget-view+json": {
       "model_id": "437095e48ff44babb198858da1e3eb65",
       "version_major": 2,
       "version_minor": 0
      },
      "text/plain": [
       "  0%|          | 0/15 [00:00<?, ?it/s]"
      ]
     },
     "metadata": {},
     "output_type": "display_data"
    },
    {
     "name": "stdout",
     "output_type": "stream",
     "text": [
      "In 41 Pro From 61\n",
      "\n",
      "[바비리스] 1800W 고성능 AC모터 헤어 드라이기 6630K\n"
     ]
    },
    {
     "data": {
      "application/vnd.jupyter.widget-view+json": {
       "model_id": "a84c4ac3bf2d486c9d1c54654eea494e",
       "version_major": 2,
       "version_minor": 0
      },
      "text/plain": [
       "  0%|          | 0/14 [00:00<?, ?it/s]"
      ]
     },
     "metadata": {},
     "output_type": "display_data"
    },
    {
     "name": "stdout",
     "output_type": "stream",
     "text": [
      "In 42 Pro From 61\n",
      "\n",
      "박준뷰티랩 전문가용 식스모션 헤어 드라이기 PJP-3500\n"
     ]
    },
    {
     "data": {
      "application/vnd.jupyter.widget-view+json": {
       "model_id": "45d0be51dcbc4777aadc8e0bfeada59b",
       "version_major": 2,
       "version_minor": 0
      },
      "text/plain": [
       "  0%|          | 0/14 [00:00<?, ?it/s]"
      ]
     },
     "metadata": {},
     "output_type": "display_data"
    },
    {
     "name": "stdout",
     "output_type": "stream",
     "text": [
      "In 43 Pro From 61\n",
      "\n",
      "[엘라]2000W 전문가용 접이식 헤어 드라이기 EPD-2022\n"
     ]
    },
    {
     "data": {
      "application/vnd.jupyter.widget-view+json": {
       "model_id": "24f7f792a3f74ec19e880be04e4c4743",
       "version_major": 2,
       "version_minor": 0
      },
      "text/plain": [
       "  0%|          | 0/14 [00:00<?, ?it/s]"
      ]
     },
     "metadata": {},
     "output_type": "display_data"
    },
    {
     "name": "stdout",
     "output_type": "stream",
     "text": [
      "In 44 Pro From 61\n",
      "\n",
      "[PHILIPS필립스써모프로텍트 헤어드라이어 HP8244/09]\n"
     ]
    },
    {
     "data": {
      "application/vnd.jupyter.widget-view+json": {
       "model_id": "364adf794de341c7a357cd7570f32b78",
       "version_major": 2,
       "version_minor": 0
      },
      "text/plain": [
       "  0%|          | 0/13 [00:00<?, ?it/s]"
      ]
     },
     "metadata": {},
     "output_type": "display_data"
    },
    {
     "name": "stdout",
     "output_type": "stream",
     "text": [
      "In 45 Pro From 61\n",
      "\n",
      "[TV상품]JMW 팬텀프라임 XP드라이기+거치대\n"
     ]
    },
    {
     "data": {
      "application/vnd.jupyter.widget-view+json": {
       "model_id": "b062acb24ad742ce8a14f61dfc64983c",
       "version_major": 2,
       "version_minor": 0
      },
      "text/plain": [
       "  0%|          | 0/13 [00:00<?, ?it/s]"
      ]
     },
     "metadata": {},
     "output_type": "display_data"
    },
    {
     "name": "stdout",
     "output_type": "stream",
     "text": [
      "In 46 Pro From 61\n",
      "\n",
      "JMW 전문가용 헤어 드라이기 베이비핑크 DM5565E\n"
     ]
    },
    {
     "data": {
      "application/vnd.jupyter.widget-view+json": {
       "model_id": "3129897d43b740d18f137dd112431f47",
       "version_major": 2,
       "version_minor": 0
      },
      "text/plain": [
       "  0%|          | 0/13 [00:00<?, ?it/s]"
      ]
     },
     "metadata": {},
     "output_type": "display_data"
    },
    {
     "name": "stdout",
     "output_type": "stream",
     "text": [
      "In 47 Pro From 61\n",
      "\n",
      "[TV상품][21년 최신상/GS단독] 바비리스 멀티 에어스타일러 회전 드라이기\n"
     ]
    },
    {
     "data": {
      "application/vnd.jupyter.widget-view+json": {
       "model_id": "70ea33a7c7bd4befbe7414e99f78adb5",
       "version_major": 2,
       "version_minor": 0
      },
      "text/plain": [
       "  0%|          | 0/12 [00:00<?, ?it/s]"
      ]
     },
     "metadata": {},
     "output_type": "display_data"
    },
    {
     "name": "stdout",
     "output_type": "stream",
     "text": [
      "In 48 Pro From 61\n",
      "\n",
      "[PHILIPS 필립스 써모프로텍트 헤어드라이어 HP8246/09]\n"
     ]
    },
    {
     "data": {
      "application/vnd.jupyter.widget-view+json": {
       "model_id": "885f12928ed8410b9661810f5b128f3e",
       "version_major": 2,
       "version_minor": 0
      },
      "text/plain": [
       "  0%|          | 0/12 [00:00<?, ?it/s]"
      ]
     },
     "metadata": {},
     "output_type": "display_data"
    },
    {
     "name": "stdout",
     "output_type": "stream",
     "text": [
      "In 49 Pro From 61\n",
      "\n",
      "유닉스 메탈 무광블랙 1600W 접이식 헤어 드라이기 UN-A1610\n"
     ]
    },
    {
     "data": {
      "application/vnd.jupyter.widget-view+json": {
       "model_id": "2f37f59a2dc24c6bad21faa35991a349",
       "version_major": 2,
       "version_minor": 0
      },
      "text/plain": [
       "  0%|          | 0/11 [00:00<?, ?it/s]"
      ]
     },
     "metadata": {},
     "output_type": "display_data"
    },
    {
     "name": "stdout",
     "output_type": "stream",
     "text": [
      "In 50 Pro From 61\n",
      "\n",
      "유닉스 메탈티 샤이골드 1700W 접이식 헤어 드라이기 UN-A1690\n"
     ]
    },
    {
     "data": {
      "application/vnd.jupyter.widget-view+json": {
       "model_id": "01b1b59ecf214ad98d03151bea13aa4c",
       "version_major": 2,
       "version_minor": 0
      },
      "text/plain": [
       "  0%|          | 0/11 [00:00<?, ?it/s]"
      ]
     },
     "metadata": {},
     "output_type": "display_data"
    },
    {
     "name": "stdout",
     "output_type": "stream",
     "text": [
      "In 51 Pro From 61\n",
      "\n",
      "유닉스 접이식 헤어드라이기 UN-A1454 (2000W)\n"
     ]
    },
    {
     "data": {
      "application/vnd.jupyter.widget-view+json": {
       "model_id": "bc4d6fdbf06a4c58b2cf737c9ecceca9",
       "version_major": 2,
       "version_minor": 0
      },
      "text/plain": [
       "  0%|          | 0/10 [00:00<?, ?it/s]"
      ]
     },
     "metadata": {},
     "output_type": "display_data"
    },
    {
     "name": "stdout",
     "output_type": "stream",
     "text": [
      "In 52 Pro From 61\n",
      "\n",
      "[결제시16%할인]JMW 터보 항공기 드라이기 MG1800 PLUS 올화이트\n"
     ]
    },
    {
     "data": {
      "application/vnd.jupyter.widget-view+json": {
       "model_id": "7d3e39bba99941c59879c72b241f2f69",
       "version_major": 2,
       "version_minor": 0
      },
      "text/plain": [
       "  0%|          | 0/10 [00:00<?, ?it/s]"
      ]
     },
     "metadata": {},
     "output_type": "display_data"
    },
    {
     "name": "stdout",
     "output_type": "stream",
     "text": [
      "In 53 Pro From 61\n",
      "\n",
      "[디자이너스] 드라이기 거치대 화이트\n"
     ]
    },
    {
     "data": {
      "application/vnd.jupyter.widget-view+json": {
       "model_id": "10c756e8774e4338b4d86f68abfb126a",
       "version_major": 2,
       "version_minor": 0
      },
      "text/plain": [
       "  0%|          | 0/9 [00:00<?, ?it/s]"
      ]
     },
     "metadata": {},
     "output_type": "display_data"
    },
    {
     "name": "stdout",
     "output_type": "stream",
     "text": [
      "In 54 Pro From 61\n",
      "\n",
      "JMW 에어젯 터보 MS6010A 항공모터 헤어 드라이기 화이트\n"
     ]
    },
    {
     "data": {
      "application/vnd.jupyter.widget-view+json": {
       "model_id": "b8a2b9a693c04be7ae320002e82a1e1c",
       "version_major": 2,
       "version_minor": 0
      },
      "text/plain": [
       "  0%|          | 0/9 [00:00<?, ?it/s]"
      ]
     },
     "metadata": {},
     "output_type": "display_data"
    },
    {
     "name": "stdout",
     "output_type": "stream",
     "text": [
      "In 55 Pro From 61\n",
      "\n",
      "[바비리스] D105K - 프로 스피드 2000W 전문가용 드라이기\n"
     ]
    },
    {
     "data": {
      "application/vnd.jupyter.widget-view+json": {
       "model_id": "0ffa016fd1d345caa1daf739777c6a00",
       "version_major": 2,
       "version_minor": 0
      },
      "text/plain": [
       "  0%|          | 0/9 [00:00<?, ?it/s]"
      ]
     },
     "metadata": {},
     "output_type": "display_data"
    },
    {
     "name": "stdout",
     "output_type": "stream",
     "text": [
      "In 56 Pro From 61\n",
      "\n",
      "JMW 터보 항공기 드라이기 MS6003C 무광블랙\n"
     ]
    },
    {
     "data": {
      "application/vnd.jupyter.widget-view+json": {
       "model_id": "0be7e07b04f845d19064d37674389874",
       "version_major": 2,
       "version_minor": 0
      },
      "text/plain": [
       "  0%|          | 0/8 [00:00<?, ?it/s]"
      ]
     },
     "metadata": {},
     "output_type": "display_data"
    },
    {
     "name": "stdout",
     "output_type": "stream",
     "text": [
      "In 57 Pro From 61\n",
      "\n",
      "JMW 하이브리드 드라이기 DM6001A 블루\n"
     ]
    },
    {
     "data": {
      "application/vnd.jupyter.widget-view+json": {
       "model_id": "68b03f02292b42c289c9da94ff7abf2c",
       "version_major": 2,
       "version_minor": 0
      },
      "text/plain": [
       "  0%|          | 0/8 [00:00<?, ?it/s]"
      ]
     },
     "metadata": {},
     "output_type": "display_data"
    },
    {
     "name": "stdout",
     "output_type": "stream",
     "text": [
      "In 58 Pro From 61\n",
      "\n",
      "유닉스 터보 드라이기 UN-A1330NA 퍼플 전문가용 국산 1650W\n"
     ]
    },
    {
     "data": {
      "application/vnd.jupyter.widget-view+json": {
       "model_id": "5d5c5a9cb5004139880c074188e84333",
       "version_major": 2,
       "version_minor": 0
      },
      "text/plain": [
       "  0%|          | 0/8 [00:00<?, ?it/s]"
      ]
     },
     "metadata": {},
     "output_type": "display_data"
    },
    {
     "name": "stdout",
     "output_type": "stream",
     "text": [
      "In 59 Pro From 61\n",
      "\n",
      "다이슨 슈퍼소닉 헤어 드라이기 실리콘 커버 케이스\n"
     ]
    },
    {
     "data": {
      "application/vnd.jupyter.widget-view+json": {
       "model_id": "9b6fe421bb5f4613a707864ff938c711",
       "version_major": 2,
       "version_minor": 0
      },
      "text/plain": [
       "  0%|          | 0/8 [00:00<?, ?it/s]"
      ]
     },
     "metadata": {},
     "output_type": "display_data"
    },
    {
     "name": "stdout",
     "output_type": "stream",
     "text": [
      "In 60 Pro From 61\n",
      "\n",
      "비달사순 2,000W 강력 헤어드라이기/헤어드라이어 VSD120K\n"
     ]
    },
    {
     "data": {
      "application/vnd.jupyter.widget-view+json": {
       "model_id": "362e6e17ac274c10ad4f2f562da2d1ae",
       "version_major": 2,
       "version_minor": 0
      },
      "text/plain": [
       "  0%|          | 0/7 [00:00<?, ?it/s]"
      ]
     },
     "metadata": {},
     "output_type": "display_data"
    }
   ],
   "source": [
    "path_ = r\"C:\\Users\\Samsung\\jupyter\\Project_LG_textmining\\data\\hair\\shopping_2\\GS\\{}.xlsx\"\n",
    "Save_GS(head_df,path_,100)"
   ]
  },
  {
   "cell_type": "code",
   "execution_count": null,
   "metadata": {},
   "outputs": [],
   "source": []
  },
  {
   "cell_type": "code",
   "execution_count": null,
   "metadata": {},
   "outputs": [],
   "source": []
  }
 ],
 "metadata": {
  "kernelspec": {
   "display_name": "Python 3",
   "language": "python",
   "name": "python3"
  },
  "language_info": {
   "codemirror_mode": {
    "name": "ipython",
    "version": 3
   },
   "file_extension": ".py",
   "mimetype": "text/x-python",
   "name": "python",
   "nbconvert_exporter": "python",
   "pygments_lexer": "ipython3",
   "version": "3.7.6"
  }
 },
 "nbformat": 4,
 "nbformat_minor": 4
}
