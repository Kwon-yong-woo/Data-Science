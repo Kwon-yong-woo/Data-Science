{
 "cells": [
  {
   "cell_type": "code",
   "execution_count": 40,
   "metadata": {},
   "outputs": [],
   "source": [
    "import concepts\n",
    "import numpy as np\n",
    "import pandas as pd\n",
    "\n",
    "\n",
    "from dateutil.parser import parse\n",
    "from datetime import datetime\n",
    "\n",
    "\n",
    "import plotly.express as px\n",
    "import plotly.graph_objects as go\n",
    "from plotly.offline import download_plotlyjs, init_notebook_mode, plot, iplot"
   ]
  },
  {
   "cell_type": "code",
   "execution_count": 2,
   "metadata": {},
   "outputs": [
    {
     "data": {
      "text/html": [
       "<div>\n",
       "<style scoped>\n",
       "    .dataframe tbody tr th:only-of-type {\n",
       "        vertical-align: middle;\n",
       "    }\n",
       "\n",
       "    .dataframe tbody tr th {\n",
       "        vertical-align: top;\n",
       "    }\n",
       "\n",
       "    .dataframe thead th {\n",
       "        text-align: right;\n",
       "    }\n",
       "</style>\n",
       "<table border=\"1\" class=\"dataframe\">\n",
       "  <thead>\n",
       "    <tr style=\"text-align: right;\">\n",
       "      <th></th>\n",
       "      <th>demo</th>\n",
       "      <th>sido</th>\n",
       "      <th>sigungu</th>\n",
       "      <th>period</th>\n",
       "      <th>맥주_amt</th>\n",
       "      <th>양주_amt</th>\n",
       "      <th>전통주_amt</th>\n",
       "      <th>와인_amt</th>\n",
       "      <th>소주_amt</th>\n",
       "      <th>맥주_cnt</th>\n",
       "      <th>양주_cnt</th>\n",
       "      <th>전통주_cnt</th>\n",
       "      <th>와인_cnt</th>\n",
       "      <th>소주_cnt</th>\n",
       "    </tr>\n",
       "  </thead>\n",
       "  <tbody>\n",
       "    <tr>\n",
       "      <th>0</th>\n",
       "      <td>F20</td>\n",
       "      <td>강원도</td>\n",
       "      <td>강릉시</td>\n",
       "      <td>201805</td>\n",
       "      <td>488340</td>\n",
       "      <td>305500</td>\n",
       "      <td>38660</td>\n",
       "      <td>24080</td>\n",
       "      <td>256280</td>\n",
       "      <td>149</td>\n",
       "      <td>80</td>\n",
       "      <td>25</td>\n",
       "      <td>4</td>\n",
       "      <td>158</td>\n",
       "    </tr>\n",
       "    <tr>\n",
       "      <th>1</th>\n",
       "      <td>F20</td>\n",
       "      <td>강원도</td>\n",
       "      <td>강릉시</td>\n",
       "      <td>201808</td>\n",
       "      <td>2222000</td>\n",
       "      <td>70170</td>\n",
       "      <td>8210</td>\n",
       "      <td>131500</td>\n",
       "      <td>99900</td>\n",
       "      <td>628</td>\n",
       "      <td>14</td>\n",
       "      <td>5</td>\n",
       "      <td>15</td>\n",
       "      <td>60</td>\n",
       "    </tr>\n",
       "    <tr>\n",
       "      <th>2</th>\n",
       "      <td>F20</td>\n",
       "      <td>강원도</td>\n",
       "      <td>강릉시</td>\n",
       "      <td>201810</td>\n",
       "      <td>412380</td>\n",
       "      <td>18230</td>\n",
       "      <td>5280</td>\n",
       "      <td>36600</td>\n",
       "      <td>58620</td>\n",
       "      <td>109</td>\n",
       "      <td>5</td>\n",
       "      <td>3</td>\n",
       "      <td>5</td>\n",
       "      <td>35</td>\n",
       "    </tr>\n",
       "    <tr>\n",
       "      <th>3</th>\n",
       "      <td>F20</td>\n",
       "      <td>강원도</td>\n",
       "      <td>강릉시</td>\n",
       "      <td>201901</td>\n",
       "      <td>800440</td>\n",
       "      <td>4020</td>\n",
       "      <td>69200</td>\n",
       "      <td>60430</td>\n",
       "      <td>88510</td>\n",
       "      <td>240</td>\n",
       "      <td>2</td>\n",
       "      <td>36</td>\n",
       "      <td>6</td>\n",
       "      <td>50</td>\n",
       "    </tr>\n",
       "    <tr>\n",
       "      <th>4</th>\n",
       "      <td>F20</td>\n",
       "      <td>강원도</td>\n",
       "      <td>강릉시</td>\n",
       "      <td>201903</td>\n",
       "      <td>124870</td>\n",
       "      <td>682400</td>\n",
       "      <td>11830</td>\n",
       "      <td>13200</td>\n",
       "      <td>543000</td>\n",
       "      <td>38</td>\n",
       "      <td>104</td>\n",
       "      <td>6</td>\n",
       "      <td>3</td>\n",
       "      <td>348</td>\n",
       "    </tr>\n",
       "  </tbody>\n",
       "</table>\n",
       "</div>"
      ],
      "text/plain": [
       "  demo sido sigungu  period   맥주_amt  양주_amt  전통주_amt  와인_amt  소주_amt  맥주_cnt  \\\n",
       "0  F20  강원도     강릉시  201805   488340  305500    38660   24080  256280     149   \n",
       "1  F20  강원도     강릉시  201808  2222000   70170     8210  131500   99900     628   \n",
       "2  F20  강원도     강릉시  201810   412380   18230     5280   36600   58620     109   \n",
       "3  F20  강원도     강릉시  201901   800440    4020    69200   60430   88510     240   \n",
       "4  F20  강원도     강릉시  201903   124870  682400    11830   13200  543000      38   \n",
       "\n",
       "   양주_cnt  전통주_cnt  와인_cnt  소주_cnt  \n",
       "0      80       25       4     158  \n",
       "1      14        5      15      60  \n",
       "2       5        3       5      35  \n",
       "3       2       36       6      50  \n",
       "4     104        6       3     348  "
      ]
     },
     "execution_count": 2,
     "metadata": {},
     "output_type": "execute_result"
    }
   ],
   "source": [
    "data_1 = pd.read_excel(r\"C:\\Users\\Samsung\\jupyter\\Project_LG_textmining\\data\\result\\0502\\data_origin.xlsx\")\n",
    "data_1.head()"
   ]
  },
  {
   "cell_type": "code",
   "execution_count": 3,
   "metadata": {},
   "outputs": [],
   "source": [
    "def parsing_date(df_1,col_):\n",
    "    df_ = df_1.copy()\n",
    "    df_[col_] = df_[col_].map(lambda x : str(x))\n",
    "    mon_ = [int(datetime.strptime(va,\"%Y%m\").month) for va in df_[col_]]\n",
    "    year_ = [int(datetime.strptime(va,\"%Y%m\").year) for va in df_[col_]]\n",
    "    df_[\"month\"] = mon_\n",
    "    df_[\"year\"] =year_\n",
    "    return df_"
   ]
  },
  {
   "cell_type": "code",
   "execution_count": 4,
   "metadata": {},
   "outputs": [],
   "source": [
    "def hyperparmeter_period(df_,type_,date_):\n",
    "    \n",
    "    # tpye_ \"year\" = input [2017,2019]\n",
    "    # type_ \"month\" = input [(2017,10),(2019,12)]\n",
    "\n",
    "    df_1 = df_.copy()\n",
    "    if type_ == \"year\":\n",
    "        min_ = date_[0]\n",
    "        max_ = date_[1]\n",
    "        return df_1[df_1[type_] >= min_][df_1[type_] <= max_]\n",
    "    elif type_ == \"month\":\n",
    "        min_y = date_[0][0]\n",
    "        min_m = date_[0][1]\n",
    "        \n",
    "        max_y = date_[1][0]\n",
    "        max_m = date_[1][1]\n",
    "        \n",
    "        df_2 = df_1[df_1[\"year\"] >= min_y][df_1[\"month\"] >= min_m]\n",
    "        df_3 = df_2[df_2[\"year\"] <= max_y][df_2[\"month\"] <=max_m]\n",
    "        return df_3\n"
   ]
  },
  {
   "cell_type": "code",
   "execution_count": 5,
   "metadata": {},
   "outputs": [],
   "source": [
    "def hyperparameter_district(df_1,type_,districts_):\n",
    "    df_ = df_1.copy()\n",
    "    return df_[df_[type_].map(lambda x: x in districts_)]\n",
    "\n",
    "#data_3[data_3[\"sido\"].map(lambda x :  x in [ \"경기도\" , \"서울특별시\"])][\"sido\"].value_counts()"
   ]
  },
  {
   "cell_type": "code",
   "execution_count": 6,
   "metadata": {},
   "outputs": [],
   "source": [
    "def group_dataframe(df_1,col_list):\n",
    "    df_ = df_1.copy()\n",
    "    gro_all = pd.DataFrame()\n",
    "    for pro_ in col_list:\n",
    "        gro_1 = pd.DataFrame(df_.groupby(\"demo\")[pro_].sum())\n",
    "        gro_all = pd.concat([gro_all,gro_1],join=\"outer\",axis=1)\n",
    "    return gro_all"
   ]
  },
  {
   "cell_type": "code",
   "execution_count": 7,
   "metadata": {},
   "outputs": [],
   "source": [
    "def simpify_colnames(df_):\n",
    "    col_change = {}\n",
    "    for i in df_.columns:\n",
    "        col_change[i] = i.replace(\"_cnt\",\"\")\n",
    "\n",
    "    return df_.rename(columns=col_change)"
   ]
  },
  {
   "cell_type": "code",
   "execution_count": 8,
   "metadata": {},
   "outputs": [],
   "source": [
    "def quan_value(df_,quan_tar):\n",
    "    quan_df = df_.quantile(quan_tar,axis=0).rename(index={0.25:1,0.5:2,0.75:3,1:4})\n",
    "    return quan_df"
   ]
  },
  {
   "cell_type": "code",
   "execution_count": 9,
   "metadata": {},
   "outputs": [],
   "source": [
    "def deter_quantile(test_value,tar_quan):\n",
    "    quan_result = []\n",
    "    for key_,value_ in tar_quan.items():\n",
    "        if test_value > value_:\n",
    "            quan_result.append(key_)\n",
    "\n",
    "    if quan_result ==[]:\n",
    "        return 1\n",
    "    else:\n",
    "        return max(quan_result) + 1"
   ]
  },
  {
   "cell_type": "code",
   "execution_count": 10,
   "metadata": {},
   "outputs": [],
   "source": [
    "def quantile_output(df_1,df_qun):\n",
    "    df_ = df_1.copy()\n",
    "    for col_ in df_.columns:\n",
    "        tests_ = df_[col_]\n",
    "        tar_quan = df_qun[col_]\n",
    "        df_[\"{}_q\".format(col_)] = [deter_quantile(test,tar_quan) for test in tests_]\n",
    "    return df_.drop(columns=df_1.columns)"
   ]
  },
  {
   "cell_type": "code",
   "execution_count": 20,
   "metadata": {},
   "outputs": [],
   "source": [
    "#df_ = data_7.copy()\n",
    "\n",
    "def make_container(df_1,col):\n",
    "    df_ = df_1.copy()\n",
    "    for col_ in col_list:\n",
    "        for i in range(1,5):\n",
    "            df_[\"{}_{}\".format(col_,i)] = None\n",
    "    return df_.drop(columns=df_1.columns)"
   ]
  },
  {
   "cell_type": "code",
   "execution_count": 21,
   "metadata": {},
   "outputs": [],
   "source": [
    "def make_output(df_front1,df_back1):\n",
    "    df_front = df_front1.copy()\n",
    "    df_back = df_back1.copy()\n",
    "    for row,col in df_front.iterrows():\n",
    "        for key_ in col.keys():\n",
    "            count_ = col[key_]\n",
    "            name_ = key_.replace(\"q\",\"{}\")\n",
    "            for i in range(count_):\n",
    "                col_dack = name_.format(i+1)\n",
    "                df_back.loc[row,col_dack] = 1\n",
    "                #print(col_dack)\n",
    "            #print(\"((()))\")\n",
    "            #print(count_)\n",
    "    return df_back"
   ]
  },
  {
   "cell_type": "code",
   "execution_count": 22,
   "metadata": {},
   "outputs": [],
   "source": [
    "data_2 = parsing_date(data_1,\"period\")\n",
    "data_3 = hyperparmeter_period(data_2,\"month\",[(2018,2),(2019,11)])\n",
    "data_4 = hyperparameter_district(data_3,\"sido\",[\"경기도\",\"경상남도\"])\n",
    "col_list = ['맥주_cnt', '양주_cnt', '전통주_cnt', '와인_cnt', '소주_cnt']\n",
    "data_5 = group_dataframe(data_4,col_list)\n",
    "data_6 = simpify_colnames(data_5)\n",
    "quan_tar = [0.25,0.5,0.75,1]\n",
    "quantile_ = quan_value(data_6,quan_tar)\n",
    "data_7 = quantile_output(data_6,quantile_)\n",
    "col_list = [col_.replace(\"_q\",\"\") for col_ in data_7.columns]\n",
    "data_8  = make_container(data_7,col_list)\n",
    "out_ = make_output(data_7,data_8)"
   ]
  },
  {
   "cell_type": "code",
   "execution_count": 23,
   "metadata": {},
   "outputs": [
    {
     "data": {
      "text/html": [
       "<div>\n",
       "<style scoped>\n",
       "    .dataframe tbody tr th:only-of-type {\n",
       "        vertical-align: middle;\n",
       "    }\n",
       "\n",
       "    .dataframe tbody tr th {\n",
       "        vertical-align: top;\n",
       "    }\n",
       "\n",
       "    .dataframe thead th {\n",
       "        text-align: right;\n",
       "    }\n",
       "</style>\n",
       "<table border=\"1\" class=\"dataframe\">\n",
       "  <thead>\n",
       "    <tr style=\"text-align: right;\">\n",
       "      <th></th>\n",
       "      <th>맥주_1</th>\n",
       "      <th>맥주_2</th>\n",
       "      <th>맥주_3</th>\n",
       "      <th>맥주_4</th>\n",
       "      <th>양주_1</th>\n",
       "      <th>양주_2</th>\n",
       "      <th>양주_3</th>\n",
       "      <th>양주_4</th>\n",
       "      <th>전통주_1</th>\n",
       "      <th>전통주_2</th>\n",
       "      <th>전통주_3</th>\n",
       "      <th>전통주_4</th>\n",
       "      <th>와인_1</th>\n",
       "      <th>와인_2</th>\n",
       "      <th>와인_3</th>\n",
       "      <th>와인_4</th>\n",
       "      <th>소주_1</th>\n",
       "      <th>소주_2</th>\n",
       "      <th>소주_3</th>\n",
       "      <th>소주_4</th>\n",
       "    </tr>\n",
       "    <tr>\n",
       "      <th>demo</th>\n",
       "      <th></th>\n",
       "      <th></th>\n",
       "      <th></th>\n",
       "      <th></th>\n",
       "      <th></th>\n",
       "      <th></th>\n",
       "      <th></th>\n",
       "      <th></th>\n",
       "      <th></th>\n",
       "      <th></th>\n",
       "      <th></th>\n",
       "      <th></th>\n",
       "      <th></th>\n",
       "      <th></th>\n",
       "      <th></th>\n",
       "      <th></th>\n",
       "      <th></th>\n",
       "      <th></th>\n",
       "      <th></th>\n",
       "      <th></th>\n",
       "    </tr>\n",
       "  </thead>\n",
       "  <tbody>\n",
       "    <tr>\n",
       "      <th>F20</th>\n",
       "      <td>1</td>\n",
       "      <td>1</td>\n",
       "      <td>None</td>\n",
       "      <td>None</td>\n",
       "      <td>1</td>\n",
       "      <td>1</td>\n",
       "      <td>1</td>\n",
       "      <td>None</td>\n",
       "      <td>1</td>\n",
       "      <td>None</td>\n",
       "      <td>None</td>\n",
       "      <td>None</td>\n",
       "      <td>1</td>\n",
       "      <td>1</td>\n",
       "      <td>None</td>\n",
       "      <td>None</td>\n",
       "      <td>1</td>\n",
       "      <td>None</td>\n",
       "      <td>None</td>\n",
       "      <td>None</td>\n",
       "    </tr>\n",
       "    <tr>\n",
       "      <th>F30</th>\n",
       "      <td>1</td>\n",
       "      <td>1</td>\n",
       "      <td>1</td>\n",
       "      <td>1</td>\n",
       "      <td>1</td>\n",
       "      <td>1</td>\n",
       "      <td>1</td>\n",
       "      <td>1</td>\n",
       "      <td>1</td>\n",
       "      <td>1</td>\n",
       "      <td>1</td>\n",
       "      <td>1</td>\n",
       "      <td>1</td>\n",
       "      <td>1</td>\n",
       "      <td>1</td>\n",
       "      <td>1</td>\n",
       "      <td>1</td>\n",
       "      <td>1</td>\n",
       "      <td>1</td>\n",
       "      <td>1</td>\n",
       "    </tr>\n",
       "    <tr>\n",
       "      <th>F40</th>\n",
       "      <td>1</td>\n",
       "      <td>1</td>\n",
       "      <td>1</td>\n",
       "      <td>1</td>\n",
       "      <td>1</td>\n",
       "      <td>1</td>\n",
       "      <td>1</td>\n",
       "      <td>1</td>\n",
       "      <td>1</td>\n",
       "      <td>1</td>\n",
       "      <td>1</td>\n",
       "      <td>1</td>\n",
       "      <td>1</td>\n",
       "      <td>1</td>\n",
       "      <td>1</td>\n",
       "      <td>1</td>\n",
       "      <td>1</td>\n",
       "      <td>1</td>\n",
       "      <td>1</td>\n",
       "      <td>1</td>\n",
       "    </tr>\n",
       "    <tr>\n",
       "      <th>F50</th>\n",
       "      <td>1</td>\n",
       "      <td>1</td>\n",
       "      <td>1</td>\n",
       "      <td>None</td>\n",
       "      <td>1</td>\n",
       "      <td>1</td>\n",
       "      <td>1</td>\n",
       "      <td>None</td>\n",
       "      <td>1</td>\n",
       "      <td>1</td>\n",
       "      <td>1</td>\n",
       "      <td>1</td>\n",
       "      <td>1</td>\n",
       "      <td>1</td>\n",
       "      <td>1</td>\n",
       "      <td>1</td>\n",
       "      <td>1</td>\n",
       "      <td>1</td>\n",
       "      <td>1</td>\n",
       "      <td>1</td>\n",
       "    </tr>\n",
       "    <tr>\n",
       "      <th>F60</th>\n",
       "      <td>1</td>\n",
       "      <td>None</td>\n",
       "      <td>None</td>\n",
       "      <td>None</td>\n",
       "      <td>1</td>\n",
       "      <td>None</td>\n",
       "      <td>None</td>\n",
       "      <td>None</td>\n",
       "      <td>1</td>\n",
       "      <td>1</td>\n",
       "      <td>None</td>\n",
       "      <td>None</td>\n",
       "      <td>1</td>\n",
       "      <td>None</td>\n",
       "      <td>None</td>\n",
       "      <td>None</td>\n",
       "      <td>1</td>\n",
       "      <td>1</td>\n",
       "      <td>None</td>\n",
       "      <td>None</td>\n",
       "    </tr>\n",
       "    <tr>\n",
       "      <th>M20</th>\n",
       "      <td>1</td>\n",
       "      <td>None</td>\n",
       "      <td>None</td>\n",
       "      <td>None</td>\n",
       "      <td>1</td>\n",
       "      <td>1</td>\n",
       "      <td>None</td>\n",
       "      <td>None</td>\n",
       "      <td>1</td>\n",
       "      <td>None</td>\n",
       "      <td>None</td>\n",
       "      <td>None</td>\n",
       "      <td>1</td>\n",
       "      <td>None</td>\n",
       "      <td>None</td>\n",
       "      <td>None</td>\n",
       "      <td>1</td>\n",
       "      <td>None</td>\n",
       "      <td>None</td>\n",
       "      <td>None</td>\n",
       "    </tr>\n",
       "    <tr>\n",
       "      <th>M30</th>\n",
       "      <td>1</td>\n",
       "      <td>1</td>\n",
       "      <td>1</td>\n",
       "      <td>None</td>\n",
       "      <td>1</td>\n",
       "      <td>1</td>\n",
       "      <td>1</td>\n",
       "      <td>1</td>\n",
       "      <td>1</td>\n",
       "      <td>1</td>\n",
       "      <td>None</td>\n",
       "      <td>None</td>\n",
       "      <td>1</td>\n",
       "      <td>1</td>\n",
       "      <td>1</td>\n",
       "      <td>None</td>\n",
       "      <td>1</td>\n",
       "      <td>1</td>\n",
       "      <td>1</td>\n",
       "      <td>None</td>\n",
       "    </tr>\n",
       "    <tr>\n",
       "      <th>M40</th>\n",
       "      <td>1</td>\n",
       "      <td>1</td>\n",
       "      <td>1</td>\n",
       "      <td>1</td>\n",
       "      <td>1</td>\n",
       "      <td>1</td>\n",
       "      <td>None</td>\n",
       "      <td>None</td>\n",
       "      <td>1</td>\n",
       "      <td>1</td>\n",
       "      <td>1</td>\n",
       "      <td>None</td>\n",
       "      <td>1</td>\n",
       "      <td>1</td>\n",
       "      <td>1</td>\n",
       "      <td>None</td>\n",
       "      <td>1</td>\n",
       "      <td>1</td>\n",
       "      <td>1</td>\n",
       "      <td>None</td>\n",
       "    </tr>\n",
       "    <tr>\n",
       "      <th>M50</th>\n",
       "      <td>1</td>\n",
       "      <td>1</td>\n",
       "      <td>None</td>\n",
       "      <td>None</td>\n",
       "      <td>1</td>\n",
       "      <td>None</td>\n",
       "      <td>None</td>\n",
       "      <td>None</td>\n",
       "      <td>1</td>\n",
       "      <td>1</td>\n",
       "      <td>1</td>\n",
       "      <td>None</td>\n",
       "      <td>1</td>\n",
       "      <td>1</td>\n",
       "      <td>None</td>\n",
       "      <td>None</td>\n",
       "      <td>1</td>\n",
       "      <td>1</td>\n",
       "      <td>None</td>\n",
       "      <td>None</td>\n",
       "    </tr>\n",
       "    <tr>\n",
       "      <th>M60</th>\n",
       "      <td>1</td>\n",
       "      <td>None</td>\n",
       "      <td>None</td>\n",
       "      <td>None</td>\n",
       "      <td>1</td>\n",
       "      <td>None</td>\n",
       "      <td>None</td>\n",
       "      <td>None</td>\n",
       "      <td>1</td>\n",
       "      <td>None</td>\n",
       "      <td>None</td>\n",
       "      <td>None</td>\n",
       "      <td>1</td>\n",
       "      <td>None</td>\n",
       "      <td>None</td>\n",
       "      <td>None</td>\n",
       "      <td>1</td>\n",
       "      <td>None</td>\n",
       "      <td>None</td>\n",
       "      <td>None</td>\n",
       "    </tr>\n",
       "  </tbody>\n",
       "</table>\n",
       "</div>"
      ],
      "text/plain": [
       "     맥주_1  맥주_2  맥주_3  맥주_4 양주_1  양주_2  양주_3  양주_4 전통주_1 전통주_2 전통주_3 전통주_4  \\\n",
       "demo                                                                         \n",
       "F20     1     1  None  None    1     1     1  None     1  None  None  None   \n",
       "F30     1     1     1     1    1     1     1     1     1     1     1     1   \n",
       "F40     1     1     1     1    1     1     1     1     1     1     1     1   \n",
       "F50     1     1     1  None    1     1     1  None     1     1     1     1   \n",
       "F60     1  None  None  None    1  None  None  None     1     1  None  None   \n",
       "M20     1  None  None  None    1     1  None  None     1  None  None  None   \n",
       "M30     1     1     1  None    1     1     1     1     1     1  None  None   \n",
       "M40     1     1     1     1    1     1  None  None     1     1     1  None   \n",
       "M50     1     1  None  None    1  None  None  None     1     1     1  None   \n",
       "M60     1  None  None  None    1  None  None  None     1  None  None  None   \n",
       "\n",
       "     와인_1  와인_2  와인_3  와인_4 소주_1  소주_2  소주_3  소주_4  \n",
       "demo                                                \n",
       "F20     1     1  None  None    1  None  None  None  \n",
       "F30     1     1     1     1    1     1     1     1  \n",
       "F40     1     1     1     1    1     1     1     1  \n",
       "F50     1     1     1     1    1     1     1     1  \n",
       "F60     1  None  None  None    1     1  None  None  \n",
       "M20     1  None  None  None    1  None  None  None  \n",
       "M30     1     1     1  None    1     1     1  None  \n",
       "M40     1     1     1  None    1     1     1  None  \n",
       "M50     1     1  None  None    1     1  None  None  \n",
       "M60     1  None  None  None    1  None  None  None  "
      ]
     },
     "execution_count": 23,
     "metadata": {},
     "output_type": "execute_result"
    }
   ],
   "source": [
    "out_"
   ]
  },
  {
   "cell_type": "code",
   "execution_count": 24,
   "metadata": {},
   "outputs": [],
   "source": [
    "out_.to_csv(r\"C:\\Users\\Samsung\\jupyter\\Project_LG_textmining\\data\\result\\0509\\out_put.csv\")"
   ]
  },
  {
   "cell_type": "markdown",
   "metadata": {},
   "source": [
    "# FCA"
   ]
  },
  {
   "cell_type": "code",
   "execution_count": 25,
   "metadata": {},
   "outputs": [],
   "source": [
    "CONTEXT =r'C:\\Users\\Samsung\\jupyter\\Project_LG_textmining\\data\\result\\0509\\out_put.csv'\n",
    "\n",
    "cc = concepts.load_csv(CONTEXT)"
   ]
  },
  {
   "cell_type": "code",
   "execution_count": 26,
   "metadata": {},
   "outputs": [
    {
     "name": "stdout",
     "output_type": "stream",
     "text": [
      "<Context object mapping 10 objects to 20 properties [cc26b98f] at 0x1995482f108>\n",
      "       |맥주_1|맥주_2|맥주_3|맥주_4|양주_1|양주_2|양주_3|양주_4|전통주_1|전통주_2|전통주_3|전통주_4|와인_1|와인_2|와인_3|와인_4|소주_1|소주_2|소주_3|소주_4|\n",
      "    F20|X   |X   |    |    |X   |X   |X   |    |X    |     |     |     |X   |X   |    |    |X   |    |    |    |\n",
      "    F30|X   |X   |X   |X   |X   |X   |X   |X   |X    |X    |X    |X    |X   |X   |X   |X   |X   |X   |X   |X   |\n",
      "    F40|X   |X   |X   |X   |X   |X   |X   |X   |X    |X    |X    |X    |X   |X   |X   |X   |X   |X   |X   |X   |\n",
      "    F50|X   |X   |X   |    |X   |X   |X   |    |X    |X    |X    |X    |X   |X   |X   |X   |X   |X   |X   |X   |\n",
      "    F60|X   |    |    |    |X   |    |    |    |X    |X    |     |     |X   |    |    |    |X   |X   |    |    |\n",
      "    M20|X   |    |    |    |X   |X   |    |    |X    |     |     |     |X   |    |    |    |X   |    |    |    |\n",
      "    M30|X   |X   |X   |    |X   |X   |X   |X   |X    |X    |     |     |X   |X   |X   |    |X   |X   |X   |    |\n",
      "    M40|X   |X   |X   |X   |X   |X   |    |    |X    |X    |X    |     |X   |X   |X   |    |X   |X   |X   |    |\n",
      "    M50|X   |X   |    |    |X   |    |    |    |X    |X    |X    |     |X   |X   |    |    |X   |X   |    |    |\n",
      "    M60|X   |    |    |    |X   |    |    |    |X    |     |     |     |X   |    |    |    |X   |    |    |    |\n"
     ]
    }
   ],
   "source": [
    "print(cc)"
   ]
  },
  {
   "cell_type": "code",
   "execution_count": 27,
   "metadata": {},
   "outputs": [
    {
     "data": {
      "text/plain": [
       "[<Infimum {F30, F40} <-> [맥주_1 맥주_2 맥주_3 맥주_4 양주_1 양주_2 양주_3 양주_4 전통주_1 전통주_2 전통주_3 전통주_4 와인_1 와인_2 와인_3 와인_4 소주_1 소주_2 소주_3 소주_4] <=> F30 F40>,\n",
       " <Atom {F30, F40, F50} <-> [맥주_1 맥주_2 맥주_3 양주_1 양주_2 양주_3 전통주_1 전통주_2 전통주_3 전통주_4 와인_1 와인_2 와인_3 와인_4 소주_1 소주_2 소주_3 소주_4] <=> F50 <=> 전통주_4 와인_4 소주_4>,\n",
       " <Atom {F30, F40, M30} <-> [맥주_1 맥주_2 맥주_3 양주_1 양주_2 양주_3 양주_4 전통주_1 전통주_2 와인_1 와인_2 와인_3 소주_1 소주_2 소주_3] <=> M30 <=> 양주_4>,\n",
       " <Atom {F30, F40, M40} <-> [맥주_1 맥주_2 맥주_3 맥주_4 양주_1 양주_2 전통주_1 전통주_2 전통주_3 와인_1 와인_2 와인_3 소주_1 소주_2 소주_3] <=> M40 <=> 맥주_4>,\n",
       " <Concept {F30, F40, F50, M30} <-> [맥주_1 맥주_2 맥주_3 양주_1 양주_2 양주_3 전통주_1 전통주_2 와인_1 와인_2 와인_3 소주_1 소주_2 소주_3]>,\n",
       " <Concept {F30, F40, F50, M40} <-> [맥주_1 맥주_2 맥주_3 양주_1 양주_2 전통주_1 전통주_2 전통주_3 와인_1 와인_2 와인_3 소주_1 소주_2 소주_3]>,\n",
       " <Concept {F20, F30, F40, F50, M30} <-> [맥주_1 맥주_2 양주_1 양주_2 양주_3 전통주_1 와인_1 와인_2 소주_1] <=> F20 <=> 양주_3>,\n",
       " <Concept {F30, F40, F50, M30, M40} <-> [맥주_1 맥주_2 맥주_3 양주_1 양주_2 전통주_1 전통주_2 와인_1 와인_2 와인_3 소주_1 소주_2 소주_3] <=> 맥주_3 와인_3 소주_3>,\n",
       " <Concept {F30, F40, F50, M40, M50} <-> [맥주_1 맥주_2 양주_1 전통주_1 전통주_2 전통주_3 와인_1 와인_2 소주_1 소주_2] <=> M50 <=> 전통주_3>,\n",
       " <Concept {F20, F30, F40, F50, M30, M40} <-> [맥주_1 맥주_2 양주_1 양주_2 전통주_1 와인_1 와인_2 소주_1]>,\n",
       " <Concept {F30, F40, F50, M30, M40, M50} <-> [맥주_1 맥주_2 양주_1 전통주_1 전통주_2 와인_1 와인_2 소주_1 소주_2]>,\n",
       " <Concept {F20, F30, F40, F50, M20, M30, M40} <-> [맥주_1 양주_1 양주_2 전통주_1 와인_1 소주_1] <=> M20 <=> 양주_2>,\n",
       " <Concept {F20, F30, F40, F50, M30, M40, M50} <-> [맥주_1 맥주_2 양주_1 전통주_1 와인_1 와인_2 소주_1] <=> 맥주_2 와인_2>,\n",
       " <Concept {F30, F40, F50, F60, M30, M40, M50} <-> [맥주_1 양주_1 전통주_1 전통주_2 와인_1 소주_1 소주_2] <=> F60 <=> 전통주_2 소주_2>,\n",
       " <Supremum {F20, F30, F40, F50, F60, M20, M30, M40, M50, M60} <-> [맥주_1 양주_1 전통주_1 와인_1 소주_1] <=> M60 <=> 맥주_1 양주_1 전통주_1 와인_1 소주_1>]"
      ]
     },
     "execution_count": 27,
     "metadata": {},
     "output_type": "execute_result"
    }
   ],
   "source": [
    "test_ = [re_ for re_ in cc.lattice]\n",
    "test_"
   ]
  },
  {
   "cell_type": "code",
   "execution_count": 28,
   "metadata": {},
   "outputs": [
    {
     "name": "stdout",
     "output_type": "stream",
     "text": [
      "{F30, F40} <-> [맥주_1 맥주_2 맥주_3 맥주_4 양주_1 양주_2 양주_3 양주_4 전통주_1 전통주_2 전통주_3 전통주_4 와인_1 와인_2 와인_3 와인_4 소주_1 소주_2 소주_3 소주_4] <=> F30 F40\n",
      "{F30, F40, F50} <-> [맥주_1 맥주_2 맥주_3 양주_1 양주_2 양주_3 전통주_1 전통주_2 전통주_3 전통주_4 와인_1 와인_2 와인_3 와인_4 소주_1 소주_2 소주_3 소주_4] <=> F50 <=> 전통주_4 와인_4 소주_4\n",
      "{F30, F40, M30} <-> [맥주_1 맥주_2 맥주_3 양주_1 양주_2 양주_3 양주_4 전통주_1 전통주_2 와인_1 와인_2 와인_3 소주_1 소주_2 소주_3] <=> M30 <=> 양주_4\n",
      "{F30, F40, M40} <-> [맥주_1 맥주_2 맥주_3 맥주_4 양주_1 양주_2 전통주_1 전통주_2 전통주_3 와인_1 와인_2 와인_3 소주_1 소주_2 소주_3] <=> M40 <=> 맥주_4\n",
      "{F30, F40, F50, M30} <-> [맥주_1 맥주_2 맥주_3 양주_1 양주_2 양주_3 전통주_1 전통주_2 와인_1 와인_2 와인_3 소주_1 소주_2 소주_3]\n",
      "{F30, F40, F50, M40} <-> [맥주_1 맥주_2 맥주_3 양주_1 양주_2 전통주_1 전통주_2 전통주_3 와인_1 와인_2 와인_3 소주_1 소주_2 소주_3]\n",
      "{F20, F30, F40, F50, M30} <-> [맥주_1 맥주_2 양주_1 양주_2 양주_3 전통주_1 와인_1 와인_2 소주_1] <=> F20 <=> 양주_3\n",
      "{F30, F40, F50, M30, M40} <-> [맥주_1 맥주_2 맥주_3 양주_1 양주_2 전통주_1 전통주_2 와인_1 와인_2 와인_3 소주_1 소주_2 소주_3] <=> 맥주_3 와인_3 소주_3\n",
      "{F30, F40, F50, M40, M50} <-> [맥주_1 맥주_2 양주_1 전통주_1 전통주_2 전통주_3 와인_1 와인_2 소주_1 소주_2] <=> M50 <=> 전통주_3\n",
      "{F20, F30, F40, F50, M30, M40} <-> [맥주_1 맥주_2 양주_1 양주_2 전통주_1 와인_1 와인_2 소주_1]\n",
      "{F30, F40, F50, M30, M40, M50} <-> [맥주_1 맥주_2 양주_1 전통주_1 전통주_2 와인_1 와인_2 소주_1 소주_2]\n",
      "{F20, F30, F40, F50, M20, M30, M40} <-> [맥주_1 양주_1 양주_2 전통주_1 와인_1 소주_1] <=> M20 <=> 양주_2\n",
      "{F20, F30, F40, F50, M30, M40, M50} <-> [맥주_1 맥주_2 양주_1 전통주_1 와인_1 와인_2 소주_1] <=> 맥주_2 와인_2\n",
      "{F30, F40, F50, F60, M30, M40, M50} <-> [맥주_1 양주_1 전통주_1 전통주_2 와인_1 소주_1 소주_2] <=> F60 <=> 전통주_2 소주_2\n",
      "{F20, F30, F40, F50, F60, M20, M30, M40, M50, M60} <-> [맥주_1 양주_1 전통주_1 와인_1 소주_1] <=> M60 <=> 맥주_1 양주_1 전통주_1 와인_1 소주_1\n"
     ]
    }
   ],
   "source": [
    "for concept in cc.lattice:\n",
    "    print(concept)"
   ]
  },
  {
   "cell_type": "code",
   "execution_count": 29,
   "metadata": {},
   "outputs": [
    {
     "data": {
      "image/svg+xml": [
       "<?xml version=\"1.0\" encoding=\"UTF-8\" standalone=\"no\"?>\r\n",
       "<!DOCTYPE svg PUBLIC \"-//W3C//DTD SVG 1.1//EN\"\r\n",
       " \"http://www.w3.org/Graphics/SVG/1.1/DTD/svg11.dtd\">\r\n",
       "<!-- Generated by graphviz version 2.38.0 (20140413.2041)\r\n",
       " -->\r\n",
       "<!-- Title: Lattice Pages: 1 -->\r\n",
       "<svg width=\"235pt\" height=\"607pt\"\r\n",
       " viewBox=\"0.00 0.00 235.00 607.06\" xmlns=\"http://www.w3.org/2000/svg\" xmlns:xlink=\"http://www.w3.org/1999/xlink\">\r\n",
       "<g id=\"graph0\" class=\"graph\" transform=\"scale(1 1) rotate(0) translate(4 603.06)\">\r\n",
       "<title>Lattice</title>\r\n",
       "<polygon fill=\"white\" stroke=\"none\" points=\"-4,4 -4,-603.06 231,-603.06 231,4 -4,4\"/>\r\n",
       "<!-- c0 -->\r\n",
       "<g id=\"node1\" class=\"node\"><title>c0</title>\r\n",
       "<ellipse fill=\"lightgrey\" stroke=\"black\" cx=\"105.451\" cy=\"-27.0354\" rx=\"9\" ry=\"9\"/>\r\n",
       "</g>\r\n",
       "<!-- c0&#45;&gt;c0 -->\r\n",
       "<g id=\"edge1\" class=\"edge\"><title>c0&#45;&gt;c0</title>\r\n",
       "<path fill=\"none\" stroke=\"none\" d=\"M112.64,-32.8181C121.683,-37.4708 132.451,-35.5432 132.451,-27.0354 132.451,-18.5276 121.683,-16.6001 112.64,-21.2528\"/>\r\n",
       "<text text-anchor=\"middle\" x=\"106.652\" y=\"-3.8\" font-family=\"Times New Roman,serif\" font-size=\"14.00\">F30 F40</text>\r\n",
       "</g>\r\n",
       "<!-- c1 -->\r\n",
       "<g id=\"node2\" class=\"node\"><title>c1</title>\r\n",
       "<ellipse fill=\"lightgrey\" stroke=\"black\" cx=\"105.451\" cy=\"-118.035\" rx=\"9\" ry=\"9\"/>\r\n",
       "</g>\r\n",
       "<!-- c1&#45;&gt;c0 -->\r\n",
       "<g id=\"edge4\" class=\"edge\"><title>c1&#45;&gt;c0</title>\r\n",
       "<path fill=\"none\" stroke=\"black\" d=\"M105.451,-108.822C105.451,-91.8672 105.451,-53.1668 105.451,-36.2289\"/>\r\n",
       "</g>\r\n",
       "<!-- c1&#45;&gt;c1 -->\r\n",
       "<g id=\"edge2\" class=\"edge\"><title>c1&#45;&gt;c1</title>\r\n",
       "<path fill=\"none\" stroke=\"none\" d=\"M114.022,-121.254C122.744,-123.147 132.451,-122.074 132.451,-118.035 132.451,-113.996 122.744,-112.923 114.022,-114.817\"/>\r\n",
       "<text text-anchor=\"middle\" x=\"111.339\" y=\"-96.3586\" font-family=\"Times New Roman,serif\" font-size=\"14.00\">F50</text>\r\n",
       "</g>\r\n",
       "<!-- c1&#45;&gt;c1 -->\r\n",
       "<g id=\"edge3\" class=\"edge\"><title>c1&#45;&gt;c1</title>\r\n",
       "<path fill=\"none\" stroke=\"none\" d=\"M113.409,-122.386C129.094,-128.767 150.451,-127.317 150.451,-118.035 150.451,-108.754 129.094,-107.304 113.409,-113.685\"/>\r\n",
       "<text text-anchor=\"middle\" x=\"108.5\" y=\"-132.86\" font-family=\"Times New Roman,serif\" font-size=\"14.00\">전통주_4 와인_4 소주_4</text>\r\n",
       "</g>\r\n",
       "<!-- c2 -->\r\n",
       "<g id=\"node3\" class=\"node\"><title>c2</title>\r\n",
       "<ellipse fill=\"lightgrey\" stroke=\"black\" cx=\"33.4511\" cy=\"-118.035\" rx=\"9\" ry=\"9\"/>\r\n",
       "</g>\r\n",
       "<!-- c2&#45;&gt;c0 -->\r\n",
       "<g id=\"edge7\" class=\"edge\"><title>c2&#45;&gt;c0</title>\r\n",
       "<path fill=\"none\" stroke=\"black\" d=\"M38.6291,-110.635C51.7847,-94.373 86.4062,-51.577 99.9283,-34.8621\"/>\r\n",
       "</g>\r\n",
       "<!-- c2&#45;&gt;c2 -->\r\n",
       "<g id=\"edge5\" class=\"edge\"><title>c2&#45;&gt;c2</title>\r\n",
       "<path fill=\"none\" stroke=\"none\" d=\"M42.022,-121.254C50.7436,-123.147 60.4511,-122.074 60.4511,-118.035 60.4511,-113.996 50.7436,-112.923 42.022,-114.817\"/>\r\n",
       "<text text-anchor=\"middle\" x=\"39.3395\" y=\"-96.3586\" font-family=\"Times New Roman,serif\" font-size=\"14.00\">M30</text>\r\n",
       "</g>\r\n",
       "<!-- c2&#45;&gt;c2 -->\r\n",
       "<g id=\"edge6\" class=\"edge\"><title>c2&#45;&gt;c2</title>\r\n",
       "<path fill=\"none\" stroke=\"none\" d=\"M41.4093,-122.386C57.0937,-128.767 78.4511,-127.317 78.4511,-118.035 78.4511,-108.754 57.0937,-107.304 41.4093,-113.685\"/>\r\n",
       "<text text-anchor=\"middle\" x=\"36.5\" y=\"-132.86\" font-family=\"Times New Roman,serif\" font-size=\"14.00\">양주_4</text>\r\n",
       "</g>\r\n",
       "<!-- c3 -->\r\n",
       "<g id=\"node4\" class=\"node\"><title>c3</title>\r\n",
       "<ellipse fill=\"lightgrey\" stroke=\"black\" cx=\"177.451\" cy=\"-118.035\" rx=\"9\" ry=\"9\"/>\r\n",
       "</g>\r\n",
       "<!-- c3&#45;&gt;c0 -->\r\n",
       "<g id=\"edge10\" class=\"edge\"><title>c3&#45;&gt;c0</title>\r\n",
       "<path fill=\"none\" stroke=\"black\" d=\"M172.273,-110.635C159.117,-94.373 124.496,-51.577 110.974,-34.8621\"/>\r\n",
       "</g>\r\n",
       "<!-- c3&#45;&gt;c3 -->\r\n",
       "<g id=\"edge8\" class=\"edge\"><title>c3&#45;&gt;c3</title>\r\n",
       "<path fill=\"none\" stroke=\"none\" d=\"M186.022,-121.254C194.744,-123.147 204.451,-122.074 204.451,-118.035 204.451,-113.996 194.744,-112.923 186.022,-114.817\"/>\r\n",
       "<text text-anchor=\"middle\" x=\"183.339\" y=\"-96.3586\" font-family=\"Times New Roman,serif\" font-size=\"14.00\">M40</text>\r\n",
       "</g>\r\n",
       "<!-- c3&#45;&gt;c3 -->\r\n",
       "<g id=\"edge9\" class=\"edge\"><title>c3&#45;&gt;c3</title>\r\n",
       "<path fill=\"none\" stroke=\"none\" d=\"M185.409,-122.386C201.094,-128.767 222.451,-127.317 222.451,-118.035 222.451,-108.754 201.094,-107.304 185.409,-113.685\"/>\r\n",
       "<text text-anchor=\"middle\" x=\"180.5\" y=\"-132.86\" font-family=\"Times New Roman,serif\" font-size=\"14.00\">맥주_4</text>\r\n",
       "</g>\r\n",
       "<!-- c4 -->\r\n",
       "<g id=\"node5\" class=\"node\"><title>c4</title>\r\n",
       "<ellipse fill=\"lightgrey\" stroke=\"black\" cx=\"41.4511\" cy=\"-209.035\" rx=\"9\" ry=\"9\"/>\r\n",
       "</g>\r\n",
       "<!-- c4&#45;&gt;c1 -->\r\n",
       "<g id=\"edge11\" class=\"edge\"><title>c4&#45;&gt;c1</title>\r\n",
       "<path fill=\"none\" stroke=\"black\" d=\"M46.2615,-201.346C58.1221,-184.852 88.6658,-142.377 100.585,-125.803\"/>\r\n",
       "</g>\r\n",
       "<!-- c4&#45;&gt;c2 -->\r\n",
       "<g id=\"edge12\" class=\"edge\"><title>c4&#45;&gt;c2</title>\r\n",
       "<path fill=\"none\" stroke=\"black\" d=\"M40.7128,-199.822C39.1888,-182.867 35.7101,-144.167 34.1876,-127.229\"/>\r\n",
       "</g>\r\n",
       "<!-- c5 -->\r\n",
       "<g id=\"node6\" class=\"node\"><title>c5</title>\r\n",
       "<ellipse fill=\"lightgrey\" stroke=\"black\" cx=\"118.451\" cy=\"-209.035\" rx=\"9\" ry=\"9\"/>\r\n",
       "</g>\r\n",
       "<!-- c5&#45;&gt;c1 -->\r\n",
       "<g id=\"edge13\" class=\"edge\"><title>c5&#45;&gt;c1</title>\r\n",
       "<path fill=\"none\" stroke=\"black\" d=\"M117.251,-199.822C114.762,-182.781 109.064,-143.773 106.61,-126.973\"/>\r\n",
       "</g>\r\n",
       "<!-- c5&#45;&gt;c3 -->\r\n",
       "<g id=\"edge14\" class=\"edge\"><title>c5&#45;&gt;c3</title>\r\n",
       "<path fill=\"none\" stroke=\"black\" d=\"M123.081,-201.052C134.056,-184.496 161.563,-143.003 172.679,-126.234\"/>\r\n",
       "</g>\r\n",
       "<!-- c6 -->\r\n",
       "<g id=\"node7\" class=\"node\"><title>c6</title>\r\n",
       "<ellipse fill=\"lightgrey\" stroke=\"black\" cx=\"34.4511\" cy=\"-300.035\" rx=\"9\" ry=\"9\"/>\r\n",
       "</g>\r\n",
       "<!-- c6&#45;&gt;c4 -->\r\n",
       "<g id=\"edge17\" class=\"edge\"><title>c6&#45;&gt;c4</title>\r\n",
       "<path fill=\"none\" stroke=\"black\" d=\"M35.0971,-290.822C36.4306,-273.867 39.4744,-235.167 40.8066,-218.229\"/>\r\n",
       "</g>\r\n",
       "<!-- c6&#45;&gt;c6 -->\r\n",
       "<g id=\"edge15\" class=\"edge\"><title>c6&#45;&gt;c6</title>\r\n",
       "<path fill=\"none\" stroke=\"none\" d=\"M43.022,-303.254C51.7436,-305.147 61.4511,-304.074 61.4511,-300.035 61.4511,-295.996 51.7436,-294.923 43.022,-296.817\"/>\r\n",
       "<text text-anchor=\"middle\" x=\"40.3395\" y=\"-278.359\" font-family=\"Times New Roman,serif\" font-size=\"14.00\">F20</text>\r\n",
       "</g>\r\n",
       "<!-- c6&#45;&gt;c6 -->\r\n",
       "<g id=\"edge16\" class=\"edge\"><title>c6&#45;&gt;c6</title>\r\n",
       "<path fill=\"none\" stroke=\"none\" d=\"M42.4093,-304.386C58.0937,-310.767 79.4511,-309.317 79.4511,-300.035 79.4511,-290.754 58.0937,-289.304 42.4093,-295.685\"/>\r\n",
       "<text text-anchor=\"middle\" x=\"37.5\" y=\"-314.86\" font-family=\"Times New Roman,serif\" font-size=\"14.00\">양주_3</text>\r\n",
       "</g>\r\n",
       "<!-- c7 -->\r\n",
       "<g id=\"node8\" class=\"node\"><title>c7</title>\r\n",
       "<ellipse fill=\"lightgrey\" stroke=\"black\" cx=\"106.451\" cy=\"-300.035\" rx=\"9\" ry=\"9\"/>\r\n",
       "</g>\r\n",
       "<!-- c7&#45;&gt;c4 -->\r\n",
       "<g id=\"edge19\" class=\"edge\"><title>c7&#45;&gt;c4</title>\r\n",
       "<path fill=\"none\" stroke=\"black\" d=\"M101.566,-292.346C89.5196,-275.852 58.4986,-233.377 46.3933,-216.803\"/>\r\n",
       "</g>\r\n",
       "<!-- c7&#45;&gt;c5 -->\r\n",
       "<g id=\"edge20\" class=\"edge\"><title>c7&#45;&gt;c5</title>\r\n",
       "<path fill=\"none\" stroke=\"black\" d=\"M107.558,-290.822C109.856,-273.781 115.116,-234.773 117.381,-217.973\"/>\r\n",
       "</g>\r\n",
       "<!-- c7&#45;&gt;c7 -->\r\n",
       "<g id=\"edge18\" class=\"edge\"><title>c7&#45;&gt;c7</title>\r\n",
       "<path fill=\"none\" stroke=\"none\" d=\"M113.64,-305.818C122.683,-310.471 133.451,-308.543 133.451,-300.035 133.451,-291.528 122.683,-289.6 113.64,-294.253\"/>\r\n",
       "<text text-anchor=\"middle\" x=\"107.652\" y=\"-315.871\" font-family=\"Times New Roman,serif\" font-size=\"14.00\">맥주_3 와인_3 소주_3</text>\r\n",
       "</g>\r\n",
       "<!-- c8 -->\r\n",
       "<g id=\"node9\" class=\"node\"><title>c8</title>\r\n",
       "<ellipse fill=\"lightgrey\" stroke=\"black\" cx=\"160.451\" cy=\"-300.035\" rx=\"9\" ry=\"9\"/>\r\n",
       "</g>\r\n",
       "<!-- c8&#45;&gt;c5 -->\r\n",
       "<g id=\"edge23\" class=\"edge\"><title>c8&#45;&gt;c5</title>\r\n",
       "<path fill=\"none\" stroke=\"black\" d=\"M156.87,-291.447C148.935,-274.633 129.949,-234.401 122.023,-217.604\"/>\r\n",
       "</g>\r\n",
       "<!-- c8&#45;&gt;c8 -->\r\n",
       "<g id=\"edge21\" class=\"edge\"><title>c8&#45;&gt;c8</title>\r\n",
       "<path fill=\"none\" stroke=\"none\" d=\"M169.022,-303.254C177.744,-305.147 187.451,-304.074 187.451,-300.035 187.451,-295.996 177.744,-294.923 169.022,-296.817\"/>\r\n",
       "<text text-anchor=\"middle\" x=\"166.339\" y=\"-278.359\" font-family=\"Times New Roman,serif\" font-size=\"14.00\">M50</text>\r\n",
       "</g>\r\n",
       "<!-- c8&#45;&gt;c8 -->\r\n",
       "<g id=\"edge22\" class=\"edge\"><title>c8&#45;&gt;c8</title>\r\n",
       "<path fill=\"none\" stroke=\"none\" d=\"M168.409,-304.386C184.094,-310.767 205.451,-309.317 205.451,-300.035 205.451,-290.754 184.094,-289.304 168.409,-295.685\"/>\r\n",
       "<text text-anchor=\"middle\" x=\"163.5\" y=\"-314.86\" font-family=\"Times New Roman,serif\" font-size=\"14.00\">전통주_3</text>\r\n",
       "</g>\r\n",
       "<!-- c9 -->\r\n",
       "<g id=\"node10\" class=\"node\"><title>c9</title>\r\n",
       "<ellipse fill=\"lightgrey\" stroke=\"black\" cx=\"41.4511\" cy=\"-391.035\" rx=\"9\" ry=\"9\"/>\r\n",
       "</g>\r\n",
       "<!-- c9&#45;&gt;c6 -->\r\n",
       "<g id=\"edge24\" class=\"edge\"><title>c9&#45;&gt;c6</title>\r\n",
       "<path fill=\"none\" stroke=\"black\" d=\"M40.8051,-381.822C39.4715,-364.867 36.4277,-326.167 35.0955,-309.229\"/>\r\n",
       "</g>\r\n",
       "<!-- c9&#45;&gt;c7 -->\r\n",
       "<g id=\"edge25\" class=\"edge\"><title>c9&#45;&gt;c7</title>\r\n",
       "<path fill=\"none\" stroke=\"black\" d=\"M46.3366,-383.346C58.3826,-366.852 89.4036,-324.377 101.509,-307.803\"/>\r\n",
       "</g>\r\n",
       "<!-- c10 -->\r\n",
       "<g id=\"node11\" class=\"node\"><title>c10</title>\r\n",
       "<ellipse fill=\"lightgrey\" stroke=\"black\" cx=\"119.451\" cy=\"-391.035\" rx=\"9\" ry=\"9\"/>\r\n",
       "</g>\r\n",
       "<!-- c10&#45;&gt;c7 -->\r\n",
       "<g id=\"edge26\" class=\"edge\"><title>c10&#45;&gt;c7</title>\r\n",
       "<path fill=\"none\" stroke=\"black\" d=\"M118.251,-381.822C115.762,-364.781 110.064,-325.773 107.61,-308.973\"/>\r\n",
       "</g>\r\n",
       "<!-- c10&#45;&gt;c8 -->\r\n",
       "<g id=\"edge27\" class=\"edge\"><title>c10&#45;&gt;c8</title>\r\n",
       "<path fill=\"none\" stroke=\"black\" d=\"M122.947,-382.447C130.693,-365.633 149.226,-325.401 156.964,-308.604\"/>\r\n",
       "</g>\r\n",
       "<!-- c11 -->\r\n",
       "<g id=\"node12\" class=\"node\"><title>c11</title>\r\n",
       "<ellipse fill=\"lightgrey\" stroke=\"black\" cx=\"38.4511\" cy=\"-482.035\" rx=\"9\" ry=\"9\"/>\r\n",
       "</g>\r\n",
       "<!-- c11&#45;&gt;c9 -->\r\n",
       "<g id=\"edge30\" class=\"edge\"><title>c11&#45;&gt;c9</title>\r\n",
       "<path fill=\"none\" stroke=\"black\" d=\"M38.7279,-472.822C39.2994,-455.867 40.6039,-417.167 41.1749,-400.229\"/>\r\n",
       "</g>\r\n",
       "<!-- c11&#45;&gt;c11 -->\r\n",
       "<g id=\"edge28\" class=\"edge\"><title>c11&#45;&gt;c11</title>\r\n",
       "<path fill=\"none\" stroke=\"none\" d=\"M47.022,-485.254C55.7436,-487.147 65.4511,-486.074 65.4511,-482.035 65.4511,-477.996 55.7436,-476.923 47.022,-478.817\"/>\r\n",
       "<text text-anchor=\"middle\" x=\"44.3395\" y=\"-460.359\" font-family=\"Times New Roman,serif\" font-size=\"14.00\">M20</text>\r\n",
       "</g>\r\n",
       "<!-- c11&#45;&gt;c11 -->\r\n",
       "<g id=\"edge29\" class=\"edge\"><title>c11&#45;&gt;c11</title>\r\n",
       "<path fill=\"none\" stroke=\"none\" d=\"M46.4093,-486.386C62.0937,-492.767 83.4511,-491.317 83.4511,-482.035 83.4511,-472.754 62.0937,-471.304 46.4093,-477.685\"/>\r\n",
       "<text text-anchor=\"middle\" x=\"41.5\" y=\"-496.86\" font-family=\"Times New Roman,serif\" font-size=\"14.00\">양주_2</text>\r\n",
       "</g>\r\n",
       "<!-- c12 -->\r\n",
       "<g id=\"node13\" class=\"node\"><title>c12</title>\r\n",
       "<ellipse fill=\"lightgrey\" stroke=\"black\" cx=\"110.451\" cy=\"-482.035\" rx=\"9\" ry=\"9\"/>\r\n",
       "</g>\r\n",
       "<!-- c12&#45;&gt;c9 -->\r\n",
       "<g id=\"edge32\" class=\"edge\"><title>c12&#45;&gt;c9</title>\r\n",
       "<path fill=\"none\" stroke=\"black\" d=\"M105.265,-474.346C92.4776,-457.852 59.5477,-415.377 46.6975,-398.803\"/>\r\n",
       "</g>\r\n",
       "<!-- c12&#45;&gt;c10 -->\r\n",
       "<g id=\"edge33\" class=\"edge\"><title>c12&#45;&gt;c10</title>\r\n",
       "<path fill=\"none\" stroke=\"black\" d=\"M111.282,-472.822C112.996,-455.867 116.91,-417.167 118.623,-400.229\"/>\r\n",
       "</g>\r\n",
       "<!-- c12&#45;&gt;c12 -->\r\n",
       "<g id=\"edge31\" class=\"edge\"><title>c12&#45;&gt;c12</title>\r\n",
       "<path fill=\"none\" stroke=\"none\" d=\"M117.64,-487.818C126.683,-492.471 137.451,-490.543 137.451,-482.035 137.451,-473.528 126.683,-471.6 117.64,-476.253\"/>\r\n",
       "<text text-anchor=\"middle\" x=\"111.652\" y=\"-497.871\" font-family=\"Times New Roman,serif\" font-size=\"14.00\">맥주_2 와인_2</text>\r\n",
       "</g>\r\n",
       "<!-- c13 -->\r\n",
       "<g id=\"node14\" class=\"node\"><title>c13</title>\r\n",
       "<ellipse fill=\"lightgrey\" stroke=\"black\" cx=\"164.451\" cy=\"-482.035\" rx=\"9\" ry=\"9\"/>\r\n",
       "</g>\r\n",
       "<!-- c13&#45;&gt;c10 -->\r\n",
       "<g id=\"edge36\" class=\"edge\"><title>c13&#45;&gt;c10</title>\r\n",
       "<path fill=\"none\" stroke=\"black\" d=\"M160.769,-473.752C152.372,-457.146 131.877,-416.611 123.312,-399.672\"/>\r\n",
       "</g>\r\n",
       "<!-- c13&#45;&gt;c13 -->\r\n",
       "<g id=\"edge34\" class=\"edge\"><title>c13&#45;&gt;c13</title>\r\n",
       "<path fill=\"none\" stroke=\"none\" d=\"M173.022,-485.254C181.744,-487.147 191.451,-486.074 191.451,-482.035 191.451,-477.996 181.744,-476.923 173.022,-478.817\"/>\r\n",
       "<text text-anchor=\"middle\" x=\"170.339\" y=\"-460.359\" font-family=\"Times New Roman,serif\" font-size=\"14.00\">F60</text>\r\n",
       "</g>\r\n",
       "<!-- c13&#45;&gt;c13 -->\r\n",
       "<g id=\"edge35\" class=\"edge\"><title>c13&#45;&gt;c13</title>\r\n",
       "<path fill=\"none\" stroke=\"none\" d=\"M172.409,-486.386C188.094,-492.767 209.451,-491.317 209.451,-482.035 209.451,-472.754 188.094,-471.304 172.409,-477.685\"/>\r\n",
       "<text text-anchor=\"middle\" x=\"167.5\" y=\"-496.86\" font-family=\"Times New Roman,serif\" font-size=\"14.00\">전통주_2 소주_2</text>\r\n",
       "</g>\r\n",
       "<!-- c14 -->\r\n",
       "<g id=\"node15\" class=\"node\"><title>c14</title>\r\n",
       "<ellipse fill=\"lightgrey\" stroke=\"black\" cx=\"110.451\" cy=\"-573.035\" rx=\"9\" ry=\"9\"/>\r\n",
       "</g>\r\n",
       "<!-- c14&#45;&gt;c11 -->\r\n",
       "<g id=\"edge39\" class=\"edge\"><title>c14&#45;&gt;c11</title>\r\n",
       "<path fill=\"none\" stroke=\"black\" d=\"M105.273,-565.635C92.1174,-549.373 57.496,-506.577 43.9738,-489.862\"/>\r\n",
       "</g>\r\n",
       "<!-- c14&#45;&gt;c12 -->\r\n",
       "<g id=\"edge40\" class=\"edge\"><title>c14&#45;&gt;c12</title>\r\n",
       "<path fill=\"none\" stroke=\"black\" d=\"M110.451,-563.822C110.451,-546.867 110.451,-508.167 110.451,-491.229\"/>\r\n",
       "</g>\r\n",
       "<!-- c14&#45;&gt;c13 -->\r\n",
       "<g id=\"edge41\" class=\"edge\"><title>c14&#45;&gt;c13</title>\r\n",
       "<path fill=\"none\" stroke=\"black\" d=\"M114.688,-565.052C124.733,-548.496 149.909,-507.003 160.083,-490.234\"/>\r\n",
       "</g>\r\n",
       "<!-- c14&#45;&gt;c14 -->\r\n",
       "<g id=\"edge37\" class=\"edge\"><title>c14&#45;&gt;c14</title>\r\n",
       "<path fill=\"none\" stroke=\"none\" d=\"M119.022,-576.254C127.744,-578.147 137.451,-577.074 137.451,-573.035 137.451,-568.996 127.744,-567.923 119.022,-569.817\"/>\r\n",
       "<text text-anchor=\"middle\" x=\"116.339\" y=\"-551.359\" font-family=\"Times New Roman,serif\" font-size=\"14.00\">M60</text>\r\n",
       "</g>\r\n",
       "<!-- c14&#45;&gt;c14 -->\r\n",
       "<g id=\"edge38\" class=\"edge\"><title>c14&#45;&gt;c14</title>\r\n",
       "<path fill=\"none\" stroke=\"none\" d=\"M118.409,-577.386C134.094,-583.767 155.451,-582.317 155.451,-573.035 155.451,-563.754 134.094,-562.304 118.409,-568.685\"/>\r\n",
       "<text text-anchor=\"middle\" x=\"113.5\" y=\"-587.86\" font-family=\"Times New Roman,serif\" font-size=\"14.00\">맥주_1 양주_1 전통주_1 와인_1 소주_1</text>\r\n",
       "</g>\r\n",
       "</g>\r\n",
       "</svg>\r\n"
      ],
      "text/plain": [
       "<graphviz.dot.Digraph at 0x1995597b2c8>"
      ]
     },
     "execution_count": 29,
     "metadata": {},
     "output_type": "execute_result"
    }
   ],
   "source": [
    "cc.lattice.graphviz()"
   ]
  },
  {
   "cell_type": "markdown",
   "metadata": {},
   "source": [
    "# Concept"
   ]
  },
  {
   "cell_type": "code",
   "execution_count": 30,
   "metadata": {},
   "outputs": [],
   "source": [
    "con_list = []\n",
    "for concept in cc.lattice:\n",
    "    con_list.append(concept)"
   ]
  },
  {
   "cell_type": "code",
   "execution_count": 69,
   "metadata": {},
   "outputs": [
    {
     "data": {
      "text/plain": [
       "('F30', 'F40', 'F50')"
      ]
     },
     "execution_count": 69,
     "metadata": {},
     "output_type": "execute_result"
    }
   ],
   "source": [
    "ex_test = con_list[1].extent\n",
    "ex_test"
   ]
  },
  {
   "cell_type": "code",
   "execution_count": 70,
   "metadata": {},
   "outputs": [
    {
     "data": {
      "text/plain": [
       "('맥주_1',\n",
       " '맥주_2',\n",
       " '맥주_3',\n",
       " '양주_1',\n",
       " '양주_2',\n",
       " '양주_3',\n",
       " '전통주_1',\n",
       " '전통주_2',\n",
       " '전통주_3',\n",
       " '전통주_4',\n",
       " '와인_1',\n",
       " '와인_2',\n",
       " '와인_3',\n",
       " '와인_4',\n",
       " '소주_1',\n",
       " '소주_2',\n",
       " '소주_3',\n",
       " '소주_4')"
      ]
     },
     "execution_count": 70,
     "metadata": {},
     "output_type": "execute_result"
    }
   ],
   "source": [
    "in_test = con_list[1].intent\n",
    "in_test"
   ]
  },
  {
   "cell_type": "code",
   "execution_count": 71,
   "metadata": {},
   "outputs": [
    {
     "data": {
      "text/plain": [
       "{'맥주': '3', '양주': '3', '전통주': '4', '와인': '4', '소주': '4'}"
      ]
     },
     "execution_count": 71,
     "metadata": {},
     "output_type": "execute_result"
    }
   ],
   "source": [
    "count_dic = {}\n",
    "for it in in_test:\n",
    "    name_,num_ = it.split(\"_\")\n",
    "    try:\n",
    "        if count_dic[name_] < num_:\n",
    "            count_dic[name_] = num_\n",
    "        else:\n",
    "            pass\n",
    "    except:\n",
    "        count_dic[name_] = num_\n",
    "count_dic"
   ]
  },
  {
   "cell_type": "code",
   "execution_count": 80,
   "metadata": {},
   "outputs": [
    {
     "data": {
      "text/plain": [
       "'Group F30, F40, F50'"
      ]
     },
     "execution_count": 80,
     "metadata": {},
     "output_type": "execute_result"
    }
   ],
   "source": [
    "gra_name = \"Group \"+\", \".join([ex_ for ex_ in ex_test])\n",
    "gra_name"
   ]
  },
  {
   "cell_type": "code",
   "execution_count": 81,
   "metadata": {},
   "outputs": [
    {
     "data": {
      "text/plain": [
       "['맥주', '양주', '전통주', '와인', '소주']"
      ]
     },
     "execution_count": 81,
     "metadata": {},
     "output_type": "execute_result"
    }
   ],
   "source": [
    "name_x = [key_ for key_ in count_dic.keys()]\n",
    "name_x"
   ]
  },
  {
   "cell_type": "code",
   "execution_count": 82,
   "metadata": {},
   "outputs": [
    {
     "data": {
      "text/plain": [
       "[3, 3, 4, 4, 4]"
      ]
     },
     "execution_count": 82,
     "metadata": {},
     "output_type": "execute_result"
    }
   ],
   "source": [
    "num_y = [int(value_) for value_ in count_dic.values()]\n",
    "num_y"
   ]
  },
  {
   "cell_type": "code",
   "execution_count": 91,
   "metadata": {},
   "outputs": [
    {
     "data": {
      "application/vnd.plotly.v1+json": {
       "config": {
        "plotlyServerURL": "https://plot.ly"
       },
       "data": [
        {
         "type": "bar",
         "x": [
          "맥주",
          "양주",
          "전통주",
          "와인",
          "소주"
         ],
         "y": [
          3,
          3,
          4,
          4,
          4
         ]
        }
       ],
       "layout": {
        "barmode": "stack",
        "font": {
         "color": "RebeccaPurple",
         "family": "Times New Roman",
         "size": 18
        },
        "legend": {
         "title": {
          "font": {
           "color": "green"
          }
         }
        },
        "plot_bgcolor": "white",
        "template": {
         "data": {
          "bar": [
           {
            "error_x": {
             "color": "#2a3f5f"
            },
            "error_y": {
             "color": "#2a3f5f"
            },
            "marker": {
             "line": {
              "color": "#E5ECF6",
              "width": 0.5
             }
            },
            "type": "bar"
           }
          ],
          "barpolar": [
           {
            "marker": {
             "line": {
              "color": "#E5ECF6",
              "width": 0.5
             }
            },
            "type": "barpolar"
           }
          ],
          "carpet": [
           {
            "aaxis": {
             "endlinecolor": "#2a3f5f",
             "gridcolor": "white",
             "linecolor": "white",
             "minorgridcolor": "white",
             "startlinecolor": "#2a3f5f"
            },
            "baxis": {
             "endlinecolor": "#2a3f5f",
             "gridcolor": "white",
             "linecolor": "white",
             "minorgridcolor": "white",
             "startlinecolor": "#2a3f5f"
            },
            "type": "carpet"
           }
          ],
          "choropleth": [
           {
            "colorbar": {
             "outlinewidth": 0,
             "ticks": ""
            },
            "type": "choropleth"
           }
          ],
          "contour": [
           {
            "colorbar": {
             "outlinewidth": 0,
             "ticks": ""
            },
            "colorscale": [
             [
              0,
              "#0d0887"
             ],
             [
              0.1111111111111111,
              "#46039f"
             ],
             [
              0.2222222222222222,
              "#7201a8"
             ],
             [
              0.3333333333333333,
              "#9c179e"
             ],
             [
              0.4444444444444444,
              "#bd3786"
             ],
             [
              0.5555555555555556,
              "#d8576b"
             ],
             [
              0.6666666666666666,
              "#ed7953"
             ],
             [
              0.7777777777777778,
              "#fb9f3a"
             ],
             [
              0.8888888888888888,
              "#fdca26"
             ],
             [
              1,
              "#f0f921"
             ]
            ],
            "type": "contour"
           }
          ],
          "contourcarpet": [
           {
            "colorbar": {
             "outlinewidth": 0,
             "ticks": ""
            },
            "type": "contourcarpet"
           }
          ],
          "heatmap": [
           {
            "colorbar": {
             "outlinewidth": 0,
             "ticks": ""
            },
            "colorscale": [
             [
              0,
              "#0d0887"
             ],
             [
              0.1111111111111111,
              "#46039f"
             ],
             [
              0.2222222222222222,
              "#7201a8"
             ],
             [
              0.3333333333333333,
              "#9c179e"
             ],
             [
              0.4444444444444444,
              "#bd3786"
             ],
             [
              0.5555555555555556,
              "#d8576b"
             ],
             [
              0.6666666666666666,
              "#ed7953"
             ],
             [
              0.7777777777777778,
              "#fb9f3a"
             ],
             [
              0.8888888888888888,
              "#fdca26"
             ],
             [
              1,
              "#f0f921"
             ]
            ],
            "type": "heatmap"
           }
          ],
          "heatmapgl": [
           {
            "colorbar": {
             "outlinewidth": 0,
             "ticks": ""
            },
            "colorscale": [
             [
              0,
              "#0d0887"
             ],
             [
              0.1111111111111111,
              "#46039f"
             ],
             [
              0.2222222222222222,
              "#7201a8"
             ],
             [
              0.3333333333333333,
              "#9c179e"
             ],
             [
              0.4444444444444444,
              "#bd3786"
             ],
             [
              0.5555555555555556,
              "#d8576b"
             ],
             [
              0.6666666666666666,
              "#ed7953"
             ],
             [
              0.7777777777777778,
              "#fb9f3a"
             ],
             [
              0.8888888888888888,
              "#fdca26"
             ],
             [
              1,
              "#f0f921"
             ]
            ],
            "type": "heatmapgl"
           }
          ],
          "histogram": [
           {
            "marker": {
             "colorbar": {
              "outlinewidth": 0,
              "ticks": ""
             }
            },
            "type": "histogram"
           }
          ],
          "histogram2d": [
           {
            "colorbar": {
             "outlinewidth": 0,
             "ticks": ""
            },
            "colorscale": [
             [
              0,
              "#0d0887"
             ],
             [
              0.1111111111111111,
              "#46039f"
             ],
             [
              0.2222222222222222,
              "#7201a8"
             ],
             [
              0.3333333333333333,
              "#9c179e"
             ],
             [
              0.4444444444444444,
              "#bd3786"
             ],
             [
              0.5555555555555556,
              "#d8576b"
             ],
             [
              0.6666666666666666,
              "#ed7953"
             ],
             [
              0.7777777777777778,
              "#fb9f3a"
             ],
             [
              0.8888888888888888,
              "#fdca26"
             ],
             [
              1,
              "#f0f921"
             ]
            ],
            "type": "histogram2d"
           }
          ],
          "histogram2dcontour": [
           {
            "colorbar": {
             "outlinewidth": 0,
             "ticks": ""
            },
            "colorscale": [
             [
              0,
              "#0d0887"
             ],
             [
              0.1111111111111111,
              "#46039f"
             ],
             [
              0.2222222222222222,
              "#7201a8"
             ],
             [
              0.3333333333333333,
              "#9c179e"
             ],
             [
              0.4444444444444444,
              "#bd3786"
             ],
             [
              0.5555555555555556,
              "#d8576b"
             ],
             [
              0.6666666666666666,
              "#ed7953"
             ],
             [
              0.7777777777777778,
              "#fb9f3a"
             ],
             [
              0.8888888888888888,
              "#fdca26"
             ],
             [
              1,
              "#f0f921"
             ]
            ],
            "type": "histogram2dcontour"
           }
          ],
          "mesh3d": [
           {
            "colorbar": {
             "outlinewidth": 0,
             "ticks": ""
            },
            "type": "mesh3d"
           }
          ],
          "parcoords": [
           {
            "line": {
             "colorbar": {
              "outlinewidth": 0,
              "ticks": ""
             }
            },
            "type": "parcoords"
           }
          ],
          "pie": [
           {
            "automargin": true,
            "type": "pie"
           }
          ],
          "scatter": [
           {
            "marker": {
             "colorbar": {
              "outlinewidth": 0,
              "ticks": ""
             }
            },
            "type": "scatter"
           }
          ],
          "scatter3d": [
           {
            "line": {
             "colorbar": {
              "outlinewidth": 0,
              "ticks": ""
             }
            },
            "marker": {
             "colorbar": {
              "outlinewidth": 0,
              "ticks": ""
             }
            },
            "type": "scatter3d"
           }
          ],
          "scattercarpet": [
           {
            "marker": {
             "colorbar": {
              "outlinewidth": 0,
              "ticks": ""
             }
            },
            "type": "scattercarpet"
           }
          ],
          "scattergeo": [
           {
            "marker": {
             "colorbar": {
              "outlinewidth": 0,
              "ticks": ""
             }
            },
            "type": "scattergeo"
           }
          ],
          "scattergl": [
           {
            "marker": {
             "colorbar": {
              "outlinewidth": 0,
              "ticks": ""
             }
            },
            "type": "scattergl"
           }
          ],
          "scattermapbox": [
           {
            "marker": {
             "colorbar": {
              "outlinewidth": 0,
              "ticks": ""
             }
            },
            "type": "scattermapbox"
           }
          ],
          "scatterpolar": [
           {
            "marker": {
             "colorbar": {
              "outlinewidth": 0,
              "ticks": ""
             }
            },
            "type": "scatterpolar"
           }
          ],
          "scatterpolargl": [
           {
            "marker": {
             "colorbar": {
              "outlinewidth": 0,
              "ticks": ""
             }
            },
            "type": "scatterpolargl"
           }
          ],
          "scatterternary": [
           {
            "marker": {
             "colorbar": {
              "outlinewidth": 0,
              "ticks": ""
             }
            },
            "type": "scatterternary"
           }
          ],
          "surface": [
           {
            "colorbar": {
             "outlinewidth": 0,
             "ticks": ""
            },
            "colorscale": [
             [
              0,
              "#0d0887"
             ],
             [
              0.1111111111111111,
              "#46039f"
             ],
             [
              0.2222222222222222,
              "#7201a8"
             ],
             [
              0.3333333333333333,
              "#9c179e"
             ],
             [
              0.4444444444444444,
              "#bd3786"
             ],
             [
              0.5555555555555556,
              "#d8576b"
             ],
             [
              0.6666666666666666,
              "#ed7953"
             ],
             [
              0.7777777777777778,
              "#fb9f3a"
             ],
             [
              0.8888888888888888,
              "#fdca26"
             ],
             [
              1,
              "#f0f921"
             ]
            ],
            "type": "surface"
           }
          ],
          "table": [
           {
            "cells": {
             "fill": {
              "color": "#EBF0F8"
             },
             "line": {
              "color": "white"
             }
            },
            "header": {
             "fill": {
              "color": "#C8D4E3"
             },
             "line": {
              "color": "white"
             }
            },
            "type": "table"
           }
          ]
         },
         "layout": {
          "annotationdefaults": {
           "arrowcolor": "#2a3f5f",
           "arrowhead": 0,
           "arrowwidth": 1
          },
          "autotypenumbers": "strict",
          "coloraxis": {
           "colorbar": {
            "outlinewidth": 0,
            "ticks": ""
           }
          },
          "colorscale": {
           "diverging": [
            [
             0,
             "#8e0152"
            ],
            [
             0.1,
             "#c51b7d"
            ],
            [
             0.2,
             "#de77ae"
            ],
            [
             0.3,
             "#f1b6da"
            ],
            [
             0.4,
             "#fde0ef"
            ],
            [
             0.5,
             "#f7f7f7"
            ],
            [
             0.6,
             "#e6f5d0"
            ],
            [
             0.7,
             "#b8e186"
            ],
            [
             0.8,
             "#7fbc41"
            ],
            [
             0.9,
             "#4d9221"
            ],
            [
             1,
             "#276419"
            ]
           ],
           "sequential": [
            [
             0,
             "#0d0887"
            ],
            [
             0.1111111111111111,
             "#46039f"
            ],
            [
             0.2222222222222222,
             "#7201a8"
            ],
            [
             0.3333333333333333,
             "#9c179e"
            ],
            [
             0.4444444444444444,
             "#bd3786"
            ],
            [
             0.5555555555555556,
             "#d8576b"
            ],
            [
             0.6666666666666666,
             "#ed7953"
            ],
            [
             0.7777777777777778,
             "#fb9f3a"
            ],
            [
             0.8888888888888888,
             "#fdca26"
            ],
            [
             1,
             "#f0f921"
            ]
           ],
           "sequentialminus": [
            [
             0,
             "#0d0887"
            ],
            [
             0.1111111111111111,
             "#46039f"
            ],
            [
             0.2222222222222222,
             "#7201a8"
            ],
            [
             0.3333333333333333,
             "#9c179e"
            ],
            [
             0.4444444444444444,
             "#bd3786"
            ],
            [
             0.5555555555555556,
             "#d8576b"
            ],
            [
             0.6666666666666666,
             "#ed7953"
            ],
            [
             0.7777777777777778,
             "#fb9f3a"
            ],
            [
             0.8888888888888888,
             "#fdca26"
            ],
            [
             1,
             "#f0f921"
            ]
           ]
          },
          "colorway": [
           "#636efa",
           "#EF553B",
           "#00cc96",
           "#ab63fa",
           "#FFA15A",
           "#19d3f3",
           "#FF6692",
           "#B6E880",
           "#FF97FF",
           "#FECB52"
          ],
          "font": {
           "color": "#2a3f5f"
          },
          "geo": {
           "bgcolor": "white",
           "lakecolor": "white",
           "landcolor": "#E5ECF6",
           "showlakes": true,
           "showland": true,
           "subunitcolor": "white"
          },
          "hoverlabel": {
           "align": "left"
          },
          "hovermode": "closest",
          "mapbox": {
           "style": "light"
          },
          "paper_bgcolor": "white",
          "plot_bgcolor": "#E5ECF6",
          "polar": {
           "angularaxis": {
            "gridcolor": "white",
            "linecolor": "white",
            "ticks": ""
           },
           "bgcolor": "#E5ECF6",
           "radialaxis": {
            "gridcolor": "white",
            "linecolor": "white",
            "ticks": ""
           }
          },
          "scene": {
           "xaxis": {
            "backgroundcolor": "#E5ECF6",
            "gridcolor": "white",
            "gridwidth": 2,
            "linecolor": "white",
            "showbackground": true,
            "ticks": "",
            "zerolinecolor": "white"
           },
           "yaxis": {
            "backgroundcolor": "#E5ECF6",
            "gridcolor": "white",
            "gridwidth": 2,
            "linecolor": "white",
            "showbackground": true,
            "ticks": "",
            "zerolinecolor": "white"
           },
           "zaxis": {
            "backgroundcolor": "#E5ECF6",
            "gridcolor": "white",
            "gridwidth": 2,
            "linecolor": "white",
            "showbackground": true,
            "ticks": "",
            "zerolinecolor": "white"
           }
          },
          "shapedefaults": {
           "line": {
            "color": "#2a3f5f"
           }
          },
          "ternary": {
           "aaxis": {
            "gridcolor": "white",
            "linecolor": "white",
            "ticks": ""
           },
           "baxis": {
            "gridcolor": "white",
            "linecolor": "white",
            "ticks": ""
           },
           "bgcolor": "#E5ECF6",
           "caxis": {
            "gridcolor": "white",
            "linecolor": "white",
            "ticks": ""
           }
          },
          "title": {
           "x": 0.05
          },
          "xaxis": {
           "automargin": true,
           "gridcolor": "white",
           "linecolor": "white",
           "ticks": "",
           "title": {
            "standoff": 15
           },
           "zerolinecolor": "white",
           "zerolinewidth": 2
          },
          "yaxis": {
           "automargin": true,
           "gridcolor": "white",
           "linecolor": "white",
           "ticks": "",
           "title": {
            "standoff": 15
           },
           "zerolinecolor": "white",
           "zerolinewidth": 2
          }
         }
        },
        "title": {
         "text": "Group F30, F40, F50"
        },
        "uniformtext": {
         "minsize": 10,
         "mode": "hide"
        },
        "yaxis": {
         "range": [
          0,
          5
         ]
        }
       }
      },
      "text/html": [
       "<div>                            <div id=\"0c1d355c-7097-475d-a793-ea8d7e567744\" class=\"plotly-graph-div\" style=\"height:525px; width:100%;\"></div>            <script type=\"text/javascript\">                require([\"plotly\"], function(Plotly) {                    window.PLOTLYENV=window.PLOTLYENV || {};                                    if (document.getElementById(\"0c1d355c-7097-475d-a793-ea8d7e567744\")) {                    Plotly.newPlot(                        \"0c1d355c-7097-475d-a793-ea8d7e567744\",                        [{\"type\": \"bar\", \"x\": [\"\\ub9e5\\uc8fc\", \"\\uc591\\uc8fc\", \"\\uc804\\ud1b5\\uc8fc\", \"\\uc640\\uc778\", \"\\uc18c\\uc8fc\"], \"y\": [3, 3, 4, 4, 4]}],                        {\"barmode\": \"stack\", \"font\": {\"color\": \"RebeccaPurple\", \"family\": \"Times New Roman\", \"size\": 18}, \"legend\": {\"title\": {\"font\": {\"color\": \"green\"}}}, \"plot_bgcolor\": \"white\", \"template\": {\"data\": {\"bar\": [{\"error_x\": {\"color\": \"#2a3f5f\"}, \"error_y\": {\"color\": \"#2a3f5f\"}, \"marker\": {\"line\": {\"color\": \"#E5ECF6\", \"width\": 0.5}}, \"type\": \"bar\"}], \"barpolar\": [{\"marker\": {\"line\": {\"color\": \"#E5ECF6\", \"width\": 0.5}}, \"type\": \"barpolar\"}], \"carpet\": [{\"aaxis\": {\"endlinecolor\": \"#2a3f5f\", \"gridcolor\": \"white\", \"linecolor\": \"white\", \"minorgridcolor\": \"white\", \"startlinecolor\": \"#2a3f5f\"}, \"baxis\": {\"endlinecolor\": \"#2a3f5f\", \"gridcolor\": \"white\", \"linecolor\": \"white\", \"minorgridcolor\": \"white\", \"startlinecolor\": \"#2a3f5f\"}, \"type\": \"carpet\"}], \"choropleth\": [{\"colorbar\": {\"outlinewidth\": 0, \"ticks\": \"\"}, \"type\": \"choropleth\"}], \"contour\": [{\"colorbar\": {\"outlinewidth\": 0, \"ticks\": \"\"}, \"colorscale\": [[0.0, \"#0d0887\"], [0.1111111111111111, \"#46039f\"], [0.2222222222222222, \"#7201a8\"], [0.3333333333333333, \"#9c179e\"], [0.4444444444444444, \"#bd3786\"], [0.5555555555555556, \"#d8576b\"], [0.6666666666666666, \"#ed7953\"], [0.7777777777777778, \"#fb9f3a\"], [0.8888888888888888, \"#fdca26\"], [1.0, \"#f0f921\"]], \"type\": \"contour\"}], \"contourcarpet\": [{\"colorbar\": {\"outlinewidth\": 0, \"ticks\": \"\"}, \"type\": \"contourcarpet\"}], \"heatmap\": [{\"colorbar\": {\"outlinewidth\": 0, \"ticks\": \"\"}, \"colorscale\": [[0.0, \"#0d0887\"], [0.1111111111111111, \"#46039f\"], [0.2222222222222222, \"#7201a8\"], [0.3333333333333333, \"#9c179e\"], [0.4444444444444444, \"#bd3786\"], [0.5555555555555556, \"#d8576b\"], [0.6666666666666666, \"#ed7953\"], [0.7777777777777778, \"#fb9f3a\"], [0.8888888888888888, \"#fdca26\"], [1.0, \"#f0f921\"]], \"type\": \"heatmap\"}], \"heatmapgl\": [{\"colorbar\": {\"outlinewidth\": 0, \"ticks\": \"\"}, \"colorscale\": [[0.0, \"#0d0887\"], [0.1111111111111111, \"#46039f\"], [0.2222222222222222, \"#7201a8\"], [0.3333333333333333, \"#9c179e\"], [0.4444444444444444, \"#bd3786\"], [0.5555555555555556, \"#d8576b\"], [0.6666666666666666, \"#ed7953\"], [0.7777777777777778, \"#fb9f3a\"], [0.8888888888888888, \"#fdca26\"], [1.0, \"#f0f921\"]], \"type\": \"heatmapgl\"}], \"histogram\": [{\"marker\": {\"colorbar\": {\"outlinewidth\": 0, \"ticks\": \"\"}}, \"type\": \"histogram\"}], \"histogram2d\": [{\"colorbar\": {\"outlinewidth\": 0, \"ticks\": \"\"}, \"colorscale\": [[0.0, \"#0d0887\"], [0.1111111111111111, \"#46039f\"], [0.2222222222222222, \"#7201a8\"], [0.3333333333333333, \"#9c179e\"], [0.4444444444444444, \"#bd3786\"], [0.5555555555555556, \"#d8576b\"], [0.6666666666666666, \"#ed7953\"], [0.7777777777777778, \"#fb9f3a\"], [0.8888888888888888, \"#fdca26\"], [1.0, \"#f0f921\"]], \"type\": \"histogram2d\"}], \"histogram2dcontour\": [{\"colorbar\": {\"outlinewidth\": 0, \"ticks\": \"\"}, \"colorscale\": [[0.0, \"#0d0887\"], [0.1111111111111111, \"#46039f\"], [0.2222222222222222, \"#7201a8\"], [0.3333333333333333, \"#9c179e\"], [0.4444444444444444, \"#bd3786\"], [0.5555555555555556, \"#d8576b\"], [0.6666666666666666, \"#ed7953\"], [0.7777777777777778, \"#fb9f3a\"], [0.8888888888888888, \"#fdca26\"], [1.0, \"#f0f921\"]], \"type\": \"histogram2dcontour\"}], \"mesh3d\": [{\"colorbar\": {\"outlinewidth\": 0, \"ticks\": \"\"}, \"type\": \"mesh3d\"}], \"parcoords\": [{\"line\": {\"colorbar\": {\"outlinewidth\": 0, \"ticks\": \"\"}}, \"type\": \"parcoords\"}], \"pie\": [{\"automargin\": true, \"type\": \"pie\"}], \"scatter\": [{\"marker\": {\"colorbar\": {\"outlinewidth\": 0, \"ticks\": \"\"}}, \"type\": \"scatter\"}], \"scatter3d\": [{\"line\": {\"colorbar\": {\"outlinewidth\": 0, \"ticks\": \"\"}}, \"marker\": {\"colorbar\": {\"outlinewidth\": 0, \"ticks\": \"\"}}, \"type\": \"scatter3d\"}], \"scattercarpet\": [{\"marker\": {\"colorbar\": {\"outlinewidth\": 0, \"ticks\": \"\"}}, \"type\": \"scattercarpet\"}], \"scattergeo\": [{\"marker\": {\"colorbar\": {\"outlinewidth\": 0, \"ticks\": \"\"}}, \"type\": \"scattergeo\"}], \"scattergl\": [{\"marker\": {\"colorbar\": {\"outlinewidth\": 0, \"ticks\": \"\"}}, \"type\": \"scattergl\"}], \"scattermapbox\": [{\"marker\": {\"colorbar\": {\"outlinewidth\": 0, \"ticks\": \"\"}}, \"type\": \"scattermapbox\"}], \"scatterpolar\": [{\"marker\": {\"colorbar\": {\"outlinewidth\": 0, \"ticks\": \"\"}}, \"type\": \"scatterpolar\"}], \"scatterpolargl\": [{\"marker\": {\"colorbar\": {\"outlinewidth\": 0, \"ticks\": \"\"}}, \"type\": \"scatterpolargl\"}], \"scatterternary\": [{\"marker\": {\"colorbar\": {\"outlinewidth\": 0, \"ticks\": \"\"}}, \"type\": \"scatterternary\"}], \"surface\": [{\"colorbar\": {\"outlinewidth\": 0, \"ticks\": \"\"}, \"colorscale\": [[0.0, \"#0d0887\"], [0.1111111111111111, \"#46039f\"], [0.2222222222222222, \"#7201a8\"], [0.3333333333333333, \"#9c179e\"], [0.4444444444444444, \"#bd3786\"], [0.5555555555555556, \"#d8576b\"], [0.6666666666666666, \"#ed7953\"], [0.7777777777777778, \"#fb9f3a\"], [0.8888888888888888, \"#fdca26\"], [1.0, \"#f0f921\"]], \"type\": \"surface\"}], \"table\": [{\"cells\": {\"fill\": {\"color\": \"#EBF0F8\"}, \"line\": {\"color\": \"white\"}}, \"header\": {\"fill\": {\"color\": \"#C8D4E3\"}, \"line\": {\"color\": \"white\"}}, \"type\": \"table\"}]}, \"layout\": {\"annotationdefaults\": {\"arrowcolor\": \"#2a3f5f\", \"arrowhead\": 0, \"arrowwidth\": 1}, \"autotypenumbers\": \"strict\", \"coloraxis\": {\"colorbar\": {\"outlinewidth\": 0, \"ticks\": \"\"}}, \"colorscale\": {\"diverging\": [[0, \"#8e0152\"], [0.1, \"#c51b7d\"], [0.2, \"#de77ae\"], [0.3, \"#f1b6da\"], [0.4, \"#fde0ef\"], [0.5, \"#f7f7f7\"], [0.6, \"#e6f5d0\"], [0.7, \"#b8e186\"], [0.8, \"#7fbc41\"], [0.9, \"#4d9221\"], [1, \"#276419\"]], \"sequential\": [[0.0, \"#0d0887\"], [0.1111111111111111, \"#46039f\"], [0.2222222222222222, \"#7201a8\"], [0.3333333333333333, \"#9c179e\"], [0.4444444444444444, \"#bd3786\"], [0.5555555555555556, \"#d8576b\"], [0.6666666666666666, \"#ed7953\"], [0.7777777777777778, \"#fb9f3a\"], [0.8888888888888888, \"#fdca26\"], [1.0, \"#f0f921\"]], \"sequentialminus\": [[0.0, \"#0d0887\"], [0.1111111111111111, \"#46039f\"], [0.2222222222222222, \"#7201a8\"], [0.3333333333333333, \"#9c179e\"], [0.4444444444444444, \"#bd3786\"], [0.5555555555555556, \"#d8576b\"], [0.6666666666666666, \"#ed7953\"], [0.7777777777777778, \"#fb9f3a\"], [0.8888888888888888, \"#fdca26\"], [1.0, \"#f0f921\"]]}, \"colorway\": [\"#636efa\", \"#EF553B\", \"#00cc96\", \"#ab63fa\", \"#FFA15A\", \"#19d3f3\", \"#FF6692\", \"#B6E880\", \"#FF97FF\", \"#FECB52\"], \"font\": {\"color\": \"#2a3f5f\"}, \"geo\": {\"bgcolor\": \"white\", \"lakecolor\": \"white\", \"landcolor\": \"#E5ECF6\", \"showlakes\": true, \"showland\": true, \"subunitcolor\": \"white\"}, \"hoverlabel\": {\"align\": \"left\"}, \"hovermode\": \"closest\", \"mapbox\": {\"style\": \"light\"}, \"paper_bgcolor\": \"white\", \"plot_bgcolor\": \"#E5ECF6\", \"polar\": {\"angularaxis\": {\"gridcolor\": \"white\", \"linecolor\": \"white\", \"ticks\": \"\"}, \"bgcolor\": \"#E5ECF6\", \"radialaxis\": {\"gridcolor\": \"white\", \"linecolor\": \"white\", \"ticks\": \"\"}}, \"scene\": {\"xaxis\": {\"backgroundcolor\": \"#E5ECF6\", \"gridcolor\": \"white\", \"gridwidth\": 2, \"linecolor\": \"white\", \"showbackground\": true, \"ticks\": \"\", \"zerolinecolor\": \"white\"}, \"yaxis\": {\"backgroundcolor\": \"#E5ECF6\", \"gridcolor\": \"white\", \"gridwidth\": 2, \"linecolor\": \"white\", \"showbackground\": true, \"ticks\": \"\", \"zerolinecolor\": \"white\"}, \"zaxis\": {\"backgroundcolor\": \"#E5ECF6\", \"gridcolor\": \"white\", \"gridwidth\": 2, \"linecolor\": \"white\", \"showbackground\": true, \"ticks\": \"\", \"zerolinecolor\": \"white\"}}, \"shapedefaults\": {\"line\": {\"color\": \"#2a3f5f\"}}, \"ternary\": {\"aaxis\": {\"gridcolor\": \"white\", \"linecolor\": \"white\", \"ticks\": \"\"}, \"baxis\": {\"gridcolor\": \"white\", \"linecolor\": \"white\", \"ticks\": \"\"}, \"bgcolor\": \"#E5ECF6\", \"caxis\": {\"gridcolor\": \"white\", \"linecolor\": \"white\", \"ticks\": \"\"}}, \"title\": {\"x\": 0.05}, \"xaxis\": {\"automargin\": true, \"gridcolor\": \"white\", \"linecolor\": \"white\", \"ticks\": \"\", \"title\": {\"standoff\": 15}, \"zerolinecolor\": \"white\", \"zerolinewidth\": 2}, \"yaxis\": {\"automargin\": true, \"gridcolor\": \"white\", \"linecolor\": \"white\", \"ticks\": \"\", \"title\": {\"standoff\": 15}, \"zerolinecolor\": \"white\", \"zerolinewidth\": 2}}}, \"title\": {\"text\": \"Group F30, F40, F50\"}, \"uniformtext\": {\"minsize\": 10, \"mode\": \"hide\"}, \"yaxis\": {\"range\": [0, 5]}},                        {\"responsive\": true}                    ).then(function(){\n",
       "                            \n",
       "var gd = document.getElementById('0c1d355c-7097-475d-a793-ea8d7e567744');\n",
       "var x = new MutationObserver(function (mutations, observer) {{\n",
       "        var display = window.getComputedStyle(gd).display;\n",
       "        if (!display || display === 'none') {{\n",
       "            console.log([gd, 'removed!']);\n",
       "            Plotly.purge(gd);\n",
       "            observer.disconnect();\n",
       "        }}\n",
       "}});\n",
       "\n",
       "// Listen for the removal of the full notebook cells\n",
       "var notebookContainer = gd.closest('#notebook-container');\n",
       "if (notebookContainer) {{\n",
       "    x.observe(notebookContainer, {childList: true});\n",
       "}}\n",
       "\n",
       "// Listen for the clearing of the current output cell\n",
       "var outputEl = gd.closest('.output');\n",
       "if (outputEl) {{\n",
       "    x.observe(outputEl, {childList: true});\n",
       "}}\n",
       "\n",
       "                        })                };                });            </script>        </div>"
      ]
     },
     "metadata": {},
     "output_type": "display_data"
    }
   ],
   "source": [
    "\n",
    "\n",
    "fig = go.Figure([go.Bar(x=name_x, y=num_y)])\n",
    "fig.update_yaxes(range=[0,5])\n",
    "fig.update_layout(\n",
    "    title_text=gra_name,\n",
    "    barmode=\"stack\",\n",
    "    uniformtext=dict(mode=\"hide\", minsize=10),\n",
    "    plot_bgcolor='white',\n",
    "    legend_title_font_color=\"green\",\n",
    "    font=dict(\n",
    "        family=\"Times New Roman\",\n",
    "        size=18,\n",
    "        color=\"RebeccaPurple\"\n",
    "    )\n",
    ")\n",
    "fig.show()"
   ]
  },
  {
   "cell_type": "code",
   "execution_count": 87,
   "metadata": {},
   "outputs": [],
   "source": [
    "def make_concept(cc):\n",
    "    display(cc.lattice.graphviz())\n",
    "    con_list = []\n",
    "    for concept in cc.lattice:\n",
    "        con_list.append(concept)\n",
    "    \n",
    "    return con_list"
   ]
  },
  {
   "cell_type": "code",
   "execution_count": 88,
   "metadata": {},
   "outputs": [
    {
     "data": {
      "image/svg+xml": [
       "<?xml version=\"1.0\" encoding=\"UTF-8\" standalone=\"no\"?>\r\n",
       "<!DOCTYPE svg PUBLIC \"-//W3C//DTD SVG 1.1//EN\"\r\n",
       " \"http://www.w3.org/Graphics/SVG/1.1/DTD/svg11.dtd\">\r\n",
       "<!-- Generated by graphviz version 2.38.0 (20140413.2041)\r\n",
       " -->\r\n",
       "<!-- Title: Lattice Pages: 1 -->\r\n",
       "<svg width=\"235pt\" height=\"607pt\"\r\n",
       " viewBox=\"0.00 0.00 235.00 607.06\" xmlns=\"http://www.w3.org/2000/svg\" xmlns:xlink=\"http://www.w3.org/1999/xlink\">\r\n",
       "<g id=\"graph0\" class=\"graph\" transform=\"scale(1 1) rotate(0) translate(4 603.06)\">\r\n",
       "<title>Lattice</title>\r\n",
       "<polygon fill=\"white\" stroke=\"none\" points=\"-4,4 -4,-603.06 231,-603.06 231,4 -4,4\"/>\r\n",
       "<!-- c0 -->\r\n",
       "<g id=\"node1\" class=\"node\"><title>c0</title>\r\n",
       "<ellipse fill=\"lightgrey\" stroke=\"black\" cx=\"105.451\" cy=\"-27.0354\" rx=\"9\" ry=\"9\"/>\r\n",
       "</g>\r\n",
       "<!-- c0&#45;&gt;c0 -->\r\n",
       "<g id=\"edge1\" class=\"edge\"><title>c0&#45;&gt;c0</title>\r\n",
       "<path fill=\"none\" stroke=\"none\" d=\"M112.64,-32.8181C121.683,-37.4708 132.451,-35.5432 132.451,-27.0354 132.451,-18.5276 121.683,-16.6001 112.64,-21.2528\"/>\r\n",
       "<text text-anchor=\"middle\" x=\"106.652\" y=\"-3.8\" font-family=\"Times New Roman,serif\" font-size=\"14.00\">F30 F40</text>\r\n",
       "</g>\r\n",
       "<!-- c1 -->\r\n",
       "<g id=\"node2\" class=\"node\"><title>c1</title>\r\n",
       "<ellipse fill=\"lightgrey\" stroke=\"black\" cx=\"105.451\" cy=\"-118.035\" rx=\"9\" ry=\"9\"/>\r\n",
       "</g>\r\n",
       "<!-- c1&#45;&gt;c0 -->\r\n",
       "<g id=\"edge4\" class=\"edge\"><title>c1&#45;&gt;c0</title>\r\n",
       "<path fill=\"none\" stroke=\"black\" d=\"M105.451,-108.822C105.451,-91.8672 105.451,-53.1668 105.451,-36.2289\"/>\r\n",
       "</g>\r\n",
       "<!-- c1&#45;&gt;c1 -->\r\n",
       "<g id=\"edge2\" class=\"edge\"><title>c1&#45;&gt;c1</title>\r\n",
       "<path fill=\"none\" stroke=\"none\" d=\"M114.022,-121.254C122.744,-123.147 132.451,-122.074 132.451,-118.035 132.451,-113.996 122.744,-112.923 114.022,-114.817\"/>\r\n",
       "<text text-anchor=\"middle\" x=\"111.339\" y=\"-96.3586\" font-family=\"Times New Roman,serif\" font-size=\"14.00\">F50</text>\r\n",
       "</g>\r\n",
       "<!-- c1&#45;&gt;c1 -->\r\n",
       "<g id=\"edge3\" class=\"edge\"><title>c1&#45;&gt;c1</title>\r\n",
       "<path fill=\"none\" stroke=\"none\" d=\"M113.409,-122.386C129.094,-128.767 150.451,-127.317 150.451,-118.035 150.451,-108.754 129.094,-107.304 113.409,-113.685\"/>\r\n",
       "<text text-anchor=\"middle\" x=\"108.5\" y=\"-132.86\" font-family=\"Times New Roman,serif\" font-size=\"14.00\">전통주_4 와인_4 소주_4</text>\r\n",
       "</g>\r\n",
       "<!-- c2 -->\r\n",
       "<g id=\"node3\" class=\"node\"><title>c2</title>\r\n",
       "<ellipse fill=\"lightgrey\" stroke=\"black\" cx=\"33.4511\" cy=\"-118.035\" rx=\"9\" ry=\"9\"/>\r\n",
       "</g>\r\n",
       "<!-- c2&#45;&gt;c0 -->\r\n",
       "<g id=\"edge7\" class=\"edge\"><title>c2&#45;&gt;c0</title>\r\n",
       "<path fill=\"none\" stroke=\"black\" d=\"M38.6291,-110.635C51.7847,-94.373 86.4062,-51.577 99.9283,-34.8621\"/>\r\n",
       "</g>\r\n",
       "<!-- c2&#45;&gt;c2 -->\r\n",
       "<g id=\"edge5\" class=\"edge\"><title>c2&#45;&gt;c2</title>\r\n",
       "<path fill=\"none\" stroke=\"none\" d=\"M42.022,-121.254C50.7436,-123.147 60.4511,-122.074 60.4511,-118.035 60.4511,-113.996 50.7436,-112.923 42.022,-114.817\"/>\r\n",
       "<text text-anchor=\"middle\" x=\"39.3395\" y=\"-96.3586\" font-family=\"Times New Roman,serif\" font-size=\"14.00\">M30</text>\r\n",
       "</g>\r\n",
       "<!-- c2&#45;&gt;c2 -->\r\n",
       "<g id=\"edge6\" class=\"edge\"><title>c2&#45;&gt;c2</title>\r\n",
       "<path fill=\"none\" stroke=\"none\" d=\"M41.4093,-122.386C57.0937,-128.767 78.4511,-127.317 78.4511,-118.035 78.4511,-108.754 57.0937,-107.304 41.4093,-113.685\"/>\r\n",
       "<text text-anchor=\"middle\" x=\"36.5\" y=\"-132.86\" font-family=\"Times New Roman,serif\" font-size=\"14.00\">양주_4</text>\r\n",
       "</g>\r\n",
       "<!-- c3 -->\r\n",
       "<g id=\"node4\" class=\"node\"><title>c3</title>\r\n",
       "<ellipse fill=\"lightgrey\" stroke=\"black\" cx=\"177.451\" cy=\"-118.035\" rx=\"9\" ry=\"9\"/>\r\n",
       "</g>\r\n",
       "<!-- c3&#45;&gt;c0 -->\r\n",
       "<g id=\"edge10\" class=\"edge\"><title>c3&#45;&gt;c0</title>\r\n",
       "<path fill=\"none\" stroke=\"black\" d=\"M172.273,-110.635C159.117,-94.373 124.496,-51.577 110.974,-34.8621\"/>\r\n",
       "</g>\r\n",
       "<!-- c3&#45;&gt;c3 -->\r\n",
       "<g id=\"edge8\" class=\"edge\"><title>c3&#45;&gt;c3</title>\r\n",
       "<path fill=\"none\" stroke=\"none\" d=\"M186.022,-121.254C194.744,-123.147 204.451,-122.074 204.451,-118.035 204.451,-113.996 194.744,-112.923 186.022,-114.817\"/>\r\n",
       "<text text-anchor=\"middle\" x=\"183.339\" y=\"-96.3586\" font-family=\"Times New Roman,serif\" font-size=\"14.00\">M40</text>\r\n",
       "</g>\r\n",
       "<!-- c3&#45;&gt;c3 -->\r\n",
       "<g id=\"edge9\" class=\"edge\"><title>c3&#45;&gt;c3</title>\r\n",
       "<path fill=\"none\" stroke=\"none\" d=\"M185.409,-122.386C201.094,-128.767 222.451,-127.317 222.451,-118.035 222.451,-108.754 201.094,-107.304 185.409,-113.685\"/>\r\n",
       "<text text-anchor=\"middle\" x=\"180.5\" y=\"-132.86\" font-family=\"Times New Roman,serif\" font-size=\"14.00\">맥주_4</text>\r\n",
       "</g>\r\n",
       "<!-- c4 -->\r\n",
       "<g id=\"node5\" class=\"node\"><title>c4</title>\r\n",
       "<ellipse fill=\"lightgrey\" stroke=\"black\" cx=\"41.4511\" cy=\"-209.035\" rx=\"9\" ry=\"9\"/>\r\n",
       "</g>\r\n",
       "<!-- c4&#45;&gt;c1 -->\r\n",
       "<g id=\"edge11\" class=\"edge\"><title>c4&#45;&gt;c1</title>\r\n",
       "<path fill=\"none\" stroke=\"black\" d=\"M46.2615,-201.346C58.1221,-184.852 88.6658,-142.377 100.585,-125.803\"/>\r\n",
       "</g>\r\n",
       "<!-- c4&#45;&gt;c2 -->\r\n",
       "<g id=\"edge12\" class=\"edge\"><title>c4&#45;&gt;c2</title>\r\n",
       "<path fill=\"none\" stroke=\"black\" d=\"M40.7128,-199.822C39.1888,-182.867 35.7101,-144.167 34.1876,-127.229\"/>\r\n",
       "</g>\r\n",
       "<!-- c5 -->\r\n",
       "<g id=\"node6\" class=\"node\"><title>c5</title>\r\n",
       "<ellipse fill=\"lightgrey\" stroke=\"black\" cx=\"118.451\" cy=\"-209.035\" rx=\"9\" ry=\"9\"/>\r\n",
       "</g>\r\n",
       "<!-- c5&#45;&gt;c1 -->\r\n",
       "<g id=\"edge13\" class=\"edge\"><title>c5&#45;&gt;c1</title>\r\n",
       "<path fill=\"none\" stroke=\"black\" d=\"M117.251,-199.822C114.762,-182.781 109.064,-143.773 106.61,-126.973\"/>\r\n",
       "</g>\r\n",
       "<!-- c5&#45;&gt;c3 -->\r\n",
       "<g id=\"edge14\" class=\"edge\"><title>c5&#45;&gt;c3</title>\r\n",
       "<path fill=\"none\" stroke=\"black\" d=\"M123.081,-201.052C134.056,-184.496 161.563,-143.003 172.679,-126.234\"/>\r\n",
       "</g>\r\n",
       "<!-- c6 -->\r\n",
       "<g id=\"node7\" class=\"node\"><title>c6</title>\r\n",
       "<ellipse fill=\"lightgrey\" stroke=\"black\" cx=\"34.4511\" cy=\"-300.035\" rx=\"9\" ry=\"9\"/>\r\n",
       "</g>\r\n",
       "<!-- c6&#45;&gt;c4 -->\r\n",
       "<g id=\"edge17\" class=\"edge\"><title>c6&#45;&gt;c4</title>\r\n",
       "<path fill=\"none\" stroke=\"black\" d=\"M35.0971,-290.822C36.4306,-273.867 39.4744,-235.167 40.8066,-218.229\"/>\r\n",
       "</g>\r\n",
       "<!-- c6&#45;&gt;c6 -->\r\n",
       "<g id=\"edge15\" class=\"edge\"><title>c6&#45;&gt;c6</title>\r\n",
       "<path fill=\"none\" stroke=\"none\" d=\"M43.022,-303.254C51.7436,-305.147 61.4511,-304.074 61.4511,-300.035 61.4511,-295.996 51.7436,-294.923 43.022,-296.817\"/>\r\n",
       "<text text-anchor=\"middle\" x=\"40.3395\" y=\"-278.359\" font-family=\"Times New Roman,serif\" font-size=\"14.00\">F20</text>\r\n",
       "</g>\r\n",
       "<!-- c6&#45;&gt;c6 -->\r\n",
       "<g id=\"edge16\" class=\"edge\"><title>c6&#45;&gt;c6</title>\r\n",
       "<path fill=\"none\" stroke=\"none\" d=\"M42.4093,-304.386C58.0937,-310.767 79.4511,-309.317 79.4511,-300.035 79.4511,-290.754 58.0937,-289.304 42.4093,-295.685\"/>\r\n",
       "<text text-anchor=\"middle\" x=\"37.5\" y=\"-314.86\" font-family=\"Times New Roman,serif\" font-size=\"14.00\">양주_3</text>\r\n",
       "</g>\r\n",
       "<!-- c7 -->\r\n",
       "<g id=\"node8\" class=\"node\"><title>c7</title>\r\n",
       "<ellipse fill=\"lightgrey\" stroke=\"black\" cx=\"106.451\" cy=\"-300.035\" rx=\"9\" ry=\"9\"/>\r\n",
       "</g>\r\n",
       "<!-- c7&#45;&gt;c4 -->\r\n",
       "<g id=\"edge19\" class=\"edge\"><title>c7&#45;&gt;c4</title>\r\n",
       "<path fill=\"none\" stroke=\"black\" d=\"M101.566,-292.346C89.5196,-275.852 58.4986,-233.377 46.3933,-216.803\"/>\r\n",
       "</g>\r\n",
       "<!-- c7&#45;&gt;c5 -->\r\n",
       "<g id=\"edge20\" class=\"edge\"><title>c7&#45;&gt;c5</title>\r\n",
       "<path fill=\"none\" stroke=\"black\" d=\"M107.558,-290.822C109.856,-273.781 115.116,-234.773 117.381,-217.973\"/>\r\n",
       "</g>\r\n",
       "<!-- c7&#45;&gt;c7 -->\r\n",
       "<g id=\"edge18\" class=\"edge\"><title>c7&#45;&gt;c7</title>\r\n",
       "<path fill=\"none\" stroke=\"none\" d=\"M113.64,-305.818C122.683,-310.471 133.451,-308.543 133.451,-300.035 133.451,-291.528 122.683,-289.6 113.64,-294.253\"/>\r\n",
       "<text text-anchor=\"middle\" x=\"107.652\" y=\"-315.871\" font-family=\"Times New Roman,serif\" font-size=\"14.00\">맥주_3 와인_3 소주_3</text>\r\n",
       "</g>\r\n",
       "<!-- c8 -->\r\n",
       "<g id=\"node9\" class=\"node\"><title>c8</title>\r\n",
       "<ellipse fill=\"lightgrey\" stroke=\"black\" cx=\"160.451\" cy=\"-300.035\" rx=\"9\" ry=\"9\"/>\r\n",
       "</g>\r\n",
       "<!-- c8&#45;&gt;c5 -->\r\n",
       "<g id=\"edge23\" class=\"edge\"><title>c8&#45;&gt;c5</title>\r\n",
       "<path fill=\"none\" stroke=\"black\" d=\"M156.87,-291.447C148.935,-274.633 129.949,-234.401 122.023,-217.604\"/>\r\n",
       "</g>\r\n",
       "<!-- c8&#45;&gt;c8 -->\r\n",
       "<g id=\"edge21\" class=\"edge\"><title>c8&#45;&gt;c8</title>\r\n",
       "<path fill=\"none\" stroke=\"none\" d=\"M169.022,-303.254C177.744,-305.147 187.451,-304.074 187.451,-300.035 187.451,-295.996 177.744,-294.923 169.022,-296.817\"/>\r\n",
       "<text text-anchor=\"middle\" x=\"166.339\" y=\"-278.359\" font-family=\"Times New Roman,serif\" font-size=\"14.00\">M50</text>\r\n",
       "</g>\r\n",
       "<!-- c8&#45;&gt;c8 -->\r\n",
       "<g id=\"edge22\" class=\"edge\"><title>c8&#45;&gt;c8</title>\r\n",
       "<path fill=\"none\" stroke=\"none\" d=\"M168.409,-304.386C184.094,-310.767 205.451,-309.317 205.451,-300.035 205.451,-290.754 184.094,-289.304 168.409,-295.685\"/>\r\n",
       "<text text-anchor=\"middle\" x=\"163.5\" y=\"-314.86\" font-family=\"Times New Roman,serif\" font-size=\"14.00\">전통주_3</text>\r\n",
       "</g>\r\n",
       "<!-- c9 -->\r\n",
       "<g id=\"node10\" class=\"node\"><title>c9</title>\r\n",
       "<ellipse fill=\"lightgrey\" stroke=\"black\" cx=\"41.4511\" cy=\"-391.035\" rx=\"9\" ry=\"9\"/>\r\n",
       "</g>\r\n",
       "<!-- c9&#45;&gt;c6 -->\r\n",
       "<g id=\"edge24\" class=\"edge\"><title>c9&#45;&gt;c6</title>\r\n",
       "<path fill=\"none\" stroke=\"black\" d=\"M40.8051,-381.822C39.4715,-364.867 36.4277,-326.167 35.0955,-309.229\"/>\r\n",
       "</g>\r\n",
       "<!-- c9&#45;&gt;c7 -->\r\n",
       "<g id=\"edge25\" class=\"edge\"><title>c9&#45;&gt;c7</title>\r\n",
       "<path fill=\"none\" stroke=\"black\" d=\"M46.3366,-383.346C58.3826,-366.852 89.4036,-324.377 101.509,-307.803\"/>\r\n",
       "</g>\r\n",
       "<!-- c10 -->\r\n",
       "<g id=\"node11\" class=\"node\"><title>c10</title>\r\n",
       "<ellipse fill=\"lightgrey\" stroke=\"black\" cx=\"119.451\" cy=\"-391.035\" rx=\"9\" ry=\"9\"/>\r\n",
       "</g>\r\n",
       "<!-- c10&#45;&gt;c7 -->\r\n",
       "<g id=\"edge26\" class=\"edge\"><title>c10&#45;&gt;c7</title>\r\n",
       "<path fill=\"none\" stroke=\"black\" d=\"M118.251,-381.822C115.762,-364.781 110.064,-325.773 107.61,-308.973\"/>\r\n",
       "</g>\r\n",
       "<!-- c10&#45;&gt;c8 -->\r\n",
       "<g id=\"edge27\" class=\"edge\"><title>c10&#45;&gt;c8</title>\r\n",
       "<path fill=\"none\" stroke=\"black\" d=\"M122.947,-382.447C130.693,-365.633 149.226,-325.401 156.964,-308.604\"/>\r\n",
       "</g>\r\n",
       "<!-- c11 -->\r\n",
       "<g id=\"node12\" class=\"node\"><title>c11</title>\r\n",
       "<ellipse fill=\"lightgrey\" stroke=\"black\" cx=\"38.4511\" cy=\"-482.035\" rx=\"9\" ry=\"9\"/>\r\n",
       "</g>\r\n",
       "<!-- c11&#45;&gt;c9 -->\r\n",
       "<g id=\"edge30\" class=\"edge\"><title>c11&#45;&gt;c9</title>\r\n",
       "<path fill=\"none\" stroke=\"black\" d=\"M38.7279,-472.822C39.2994,-455.867 40.6039,-417.167 41.1749,-400.229\"/>\r\n",
       "</g>\r\n",
       "<!-- c11&#45;&gt;c11 -->\r\n",
       "<g id=\"edge28\" class=\"edge\"><title>c11&#45;&gt;c11</title>\r\n",
       "<path fill=\"none\" stroke=\"none\" d=\"M47.022,-485.254C55.7436,-487.147 65.4511,-486.074 65.4511,-482.035 65.4511,-477.996 55.7436,-476.923 47.022,-478.817\"/>\r\n",
       "<text text-anchor=\"middle\" x=\"44.3395\" y=\"-460.359\" font-family=\"Times New Roman,serif\" font-size=\"14.00\">M20</text>\r\n",
       "</g>\r\n",
       "<!-- c11&#45;&gt;c11 -->\r\n",
       "<g id=\"edge29\" class=\"edge\"><title>c11&#45;&gt;c11</title>\r\n",
       "<path fill=\"none\" stroke=\"none\" d=\"M46.4093,-486.386C62.0937,-492.767 83.4511,-491.317 83.4511,-482.035 83.4511,-472.754 62.0937,-471.304 46.4093,-477.685\"/>\r\n",
       "<text text-anchor=\"middle\" x=\"41.5\" y=\"-496.86\" font-family=\"Times New Roman,serif\" font-size=\"14.00\">양주_2</text>\r\n",
       "</g>\r\n",
       "<!-- c12 -->\r\n",
       "<g id=\"node13\" class=\"node\"><title>c12</title>\r\n",
       "<ellipse fill=\"lightgrey\" stroke=\"black\" cx=\"110.451\" cy=\"-482.035\" rx=\"9\" ry=\"9\"/>\r\n",
       "</g>\r\n",
       "<!-- c12&#45;&gt;c9 -->\r\n",
       "<g id=\"edge32\" class=\"edge\"><title>c12&#45;&gt;c9</title>\r\n",
       "<path fill=\"none\" stroke=\"black\" d=\"M105.265,-474.346C92.4776,-457.852 59.5477,-415.377 46.6975,-398.803\"/>\r\n",
       "</g>\r\n",
       "<!-- c12&#45;&gt;c10 -->\r\n",
       "<g id=\"edge33\" class=\"edge\"><title>c12&#45;&gt;c10</title>\r\n",
       "<path fill=\"none\" stroke=\"black\" d=\"M111.282,-472.822C112.996,-455.867 116.91,-417.167 118.623,-400.229\"/>\r\n",
       "</g>\r\n",
       "<!-- c12&#45;&gt;c12 -->\r\n",
       "<g id=\"edge31\" class=\"edge\"><title>c12&#45;&gt;c12</title>\r\n",
       "<path fill=\"none\" stroke=\"none\" d=\"M117.64,-487.818C126.683,-492.471 137.451,-490.543 137.451,-482.035 137.451,-473.528 126.683,-471.6 117.64,-476.253\"/>\r\n",
       "<text text-anchor=\"middle\" x=\"111.652\" y=\"-497.871\" font-family=\"Times New Roman,serif\" font-size=\"14.00\">맥주_2 와인_2</text>\r\n",
       "</g>\r\n",
       "<!-- c13 -->\r\n",
       "<g id=\"node14\" class=\"node\"><title>c13</title>\r\n",
       "<ellipse fill=\"lightgrey\" stroke=\"black\" cx=\"164.451\" cy=\"-482.035\" rx=\"9\" ry=\"9\"/>\r\n",
       "</g>\r\n",
       "<!-- c13&#45;&gt;c10 -->\r\n",
       "<g id=\"edge36\" class=\"edge\"><title>c13&#45;&gt;c10</title>\r\n",
       "<path fill=\"none\" stroke=\"black\" d=\"M160.769,-473.752C152.372,-457.146 131.877,-416.611 123.312,-399.672\"/>\r\n",
       "</g>\r\n",
       "<!-- c13&#45;&gt;c13 -->\r\n",
       "<g id=\"edge34\" class=\"edge\"><title>c13&#45;&gt;c13</title>\r\n",
       "<path fill=\"none\" stroke=\"none\" d=\"M173.022,-485.254C181.744,-487.147 191.451,-486.074 191.451,-482.035 191.451,-477.996 181.744,-476.923 173.022,-478.817\"/>\r\n",
       "<text text-anchor=\"middle\" x=\"170.339\" y=\"-460.359\" font-family=\"Times New Roman,serif\" font-size=\"14.00\">F60</text>\r\n",
       "</g>\r\n",
       "<!-- c13&#45;&gt;c13 -->\r\n",
       "<g id=\"edge35\" class=\"edge\"><title>c13&#45;&gt;c13</title>\r\n",
       "<path fill=\"none\" stroke=\"none\" d=\"M172.409,-486.386C188.094,-492.767 209.451,-491.317 209.451,-482.035 209.451,-472.754 188.094,-471.304 172.409,-477.685\"/>\r\n",
       "<text text-anchor=\"middle\" x=\"167.5\" y=\"-496.86\" font-family=\"Times New Roman,serif\" font-size=\"14.00\">전통주_2 소주_2</text>\r\n",
       "</g>\r\n",
       "<!-- c14 -->\r\n",
       "<g id=\"node15\" class=\"node\"><title>c14</title>\r\n",
       "<ellipse fill=\"lightgrey\" stroke=\"black\" cx=\"110.451\" cy=\"-573.035\" rx=\"9\" ry=\"9\"/>\r\n",
       "</g>\r\n",
       "<!-- c14&#45;&gt;c11 -->\r\n",
       "<g id=\"edge39\" class=\"edge\"><title>c14&#45;&gt;c11</title>\r\n",
       "<path fill=\"none\" stroke=\"black\" d=\"M105.273,-565.635C92.1174,-549.373 57.496,-506.577 43.9738,-489.862\"/>\r\n",
       "</g>\r\n",
       "<!-- c14&#45;&gt;c12 -->\r\n",
       "<g id=\"edge40\" class=\"edge\"><title>c14&#45;&gt;c12</title>\r\n",
       "<path fill=\"none\" stroke=\"black\" d=\"M110.451,-563.822C110.451,-546.867 110.451,-508.167 110.451,-491.229\"/>\r\n",
       "</g>\r\n",
       "<!-- c14&#45;&gt;c13 -->\r\n",
       "<g id=\"edge41\" class=\"edge\"><title>c14&#45;&gt;c13</title>\r\n",
       "<path fill=\"none\" stroke=\"black\" d=\"M114.688,-565.052C124.733,-548.496 149.909,-507.003 160.083,-490.234\"/>\r\n",
       "</g>\r\n",
       "<!-- c14&#45;&gt;c14 -->\r\n",
       "<g id=\"edge37\" class=\"edge\"><title>c14&#45;&gt;c14</title>\r\n",
       "<path fill=\"none\" stroke=\"none\" d=\"M119.022,-576.254C127.744,-578.147 137.451,-577.074 137.451,-573.035 137.451,-568.996 127.744,-567.923 119.022,-569.817\"/>\r\n",
       "<text text-anchor=\"middle\" x=\"116.339\" y=\"-551.359\" font-family=\"Times New Roman,serif\" font-size=\"14.00\">M60</text>\r\n",
       "</g>\r\n",
       "<!-- c14&#45;&gt;c14 -->\r\n",
       "<g id=\"edge38\" class=\"edge\"><title>c14&#45;&gt;c14</title>\r\n",
       "<path fill=\"none\" stroke=\"none\" d=\"M118.409,-577.386C134.094,-583.767 155.451,-582.317 155.451,-573.035 155.451,-563.754 134.094,-562.304 118.409,-568.685\"/>\r\n",
       "<text text-anchor=\"middle\" x=\"113.5\" y=\"-587.86\" font-family=\"Times New Roman,serif\" font-size=\"14.00\">맥주_1 양주_1 전통주_1 와인_1 소주_1</text>\r\n",
       "</g>\r\n",
       "</g>\r\n",
       "</svg>\r\n"
      ],
      "text/plain": [
       "<graphviz.dot.Digraph at 0x19953e6fb08>"
      ]
     },
     "metadata": {},
     "output_type": "display_data"
    },
    {
     "data": {
      "text/plain": [
       "[<Infimum {F30, F40} <-> [맥주_1 맥주_2 맥주_3 맥주_4 양주_1 양주_2 양주_3 양주_4 전통주_1 전통주_2 전통주_3 전통주_4 와인_1 와인_2 와인_3 와인_4 소주_1 소주_2 소주_3 소주_4] <=> F30 F40>,\n",
       " <Atom {F30, F40, F50} <-> [맥주_1 맥주_2 맥주_3 양주_1 양주_2 양주_3 전통주_1 전통주_2 전통주_3 전통주_4 와인_1 와인_2 와인_3 와인_4 소주_1 소주_2 소주_3 소주_4] <=> F50 <=> 전통주_4 와인_4 소주_4>,\n",
       " <Atom {F30, F40, M30} <-> [맥주_1 맥주_2 맥주_3 양주_1 양주_2 양주_3 양주_4 전통주_1 전통주_2 와인_1 와인_2 와인_3 소주_1 소주_2 소주_3] <=> M30 <=> 양주_4>,\n",
       " <Atom {F30, F40, M40} <-> [맥주_1 맥주_2 맥주_3 맥주_4 양주_1 양주_2 전통주_1 전통주_2 전통주_3 와인_1 와인_2 와인_3 소주_1 소주_2 소주_3] <=> M40 <=> 맥주_4>,\n",
       " <Concept {F30, F40, F50, M30} <-> [맥주_1 맥주_2 맥주_3 양주_1 양주_2 양주_3 전통주_1 전통주_2 와인_1 와인_2 와인_3 소주_1 소주_2 소주_3]>,\n",
       " <Concept {F30, F40, F50, M40} <-> [맥주_1 맥주_2 맥주_3 양주_1 양주_2 전통주_1 전통주_2 전통주_3 와인_1 와인_2 와인_3 소주_1 소주_2 소주_3]>,\n",
       " <Concept {F20, F30, F40, F50, M30} <-> [맥주_1 맥주_2 양주_1 양주_2 양주_3 전통주_1 와인_1 와인_2 소주_1] <=> F20 <=> 양주_3>,\n",
       " <Concept {F30, F40, F50, M30, M40} <-> [맥주_1 맥주_2 맥주_3 양주_1 양주_2 전통주_1 전통주_2 와인_1 와인_2 와인_3 소주_1 소주_2 소주_3] <=> 맥주_3 와인_3 소주_3>,\n",
       " <Concept {F30, F40, F50, M40, M50} <-> [맥주_1 맥주_2 양주_1 전통주_1 전통주_2 전통주_3 와인_1 와인_2 소주_1 소주_2] <=> M50 <=> 전통주_3>,\n",
       " <Concept {F20, F30, F40, F50, M30, M40} <-> [맥주_1 맥주_2 양주_1 양주_2 전통주_1 와인_1 와인_2 소주_1]>,\n",
       " <Concept {F30, F40, F50, M30, M40, M50} <-> [맥주_1 맥주_2 양주_1 전통주_1 전통주_2 와인_1 와인_2 소주_1 소주_2]>,\n",
       " <Concept {F20, F30, F40, F50, M20, M30, M40} <-> [맥주_1 양주_1 양주_2 전통주_1 와인_1 소주_1] <=> M20 <=> 양주_2>,\n",
       " <Concept {F20, F30, F40, F50, M30, M40, M50} <-> [맥주_1 맥주_2 양주_1 전통주_1 와인_1 와인_2 소주_1] <=> 맥주_2 와인_2>,\n",
       " <Concept {F30, F40, F50, F60, M30, M40, M50} <-> [맥주_1 양주_1 전통주_1 전통주_2 와인_1 소주_1 소주_2] <=> F60 <=> 전통주_2 소주_2>,\n",
       " <Supremum {F20, F30, F40, F50, F60, M20, M30, M40, M50, M60} <-> [맥주_1 양주_1 전통주_1 와인_1 소주_1] <=> M60 <=> 맥주_1 양주_1 전통주_1 와인_1 소주_1>]"
      ]
     },
     "execution_count": 88,
     "metadata": {},
     "output_type": "execute_result"
    }
   ],
   "source": [
    "make_concept(cc)"
   ]
  },
  {
   "cell_type": "code",
   "execution_count": 93,
   "metadata": {},
   "outputs": [],
   "source": [
    "def make_graph(con_list,target_num):\n",
    "    ex_test = con_list[target_num].extent\n",
    "    in_test = con_list[target_num].intent\n",
    "    count_dic = {}\n",
    "    for it in in_test:\n",
    "        name_,num_ = it.split(\"_\")\n",
    "        try:\n",
    "            if count_dic[name_] < num_:\n",
    "                count_dic[name_] = num_\n",
    "            else:\n",
    "                pass\n",
    "        except:\n",
    "            count_dic[name_] = num_\n",
    "    num_y = [int(value_) for value_ in count_dic.values()]\n",
    "    gra_name = \"Group \"+\", \".join([ex_ for ex_ in ex_test])\n",
    "    name_x = [key_ for key_ in count_dic.keys()]\n",
    "    fig = go.Figure([go.Bar(x=name_x, y=num_y)])\n",
    "    fig.update_yaxes(range=[0,5])\n",
    "    fig.update_layout(\n",
    "        title_text=gra_name,\n",
    "        barmode=\"stack\",\n",
    "        uniformtext=dict(mode=\"hide\", minsize=10),\n",
    "        plot_bgcolor='white',\n",
    "        legend_title_font_color=\"green\",\n",
    "        font=dict(\n",
    "            family=\"Times New Roman\",\n",
    "            size=18,\n",
    "            color=\"RebeccaPurple\"\n",
    "        )\n",
    "    )\n",
    "    fig.show()"
   ]
  },
  {
   "cell_type": "code",
   "execution_count": 94,
   "metadata": {},
   "outputs": [
    {
     "data": {
      "application/vnd.plotly.v1+json": {
       "config": {
        "plotlyServerURL": "https://plot.ly"
       },
       "data": [
        {
         "type": "bar",
         "x": [
          "맥주",
          "양주",
          "전통주",
          "와인",
          "소주"
         ],
         "y": [
          3,
          4,
          2,
          3,
          3
         ]
        }
       ],
       "layout": {
        "barmode": "stack",
        "font": {
         "color": "RebeccaPurple",
         "family": "Times New Roman",
         "size": 18
        },
        "legend": {
         "title": {
          "font": {
           "color": "green"
          }
         }
        },
        "plot_bgcolor": "white",
        "template": {
         "data": {
          "bar": [
           {
            "error_x": {
             "color": "#2a3f5f"
            },
            "error_y": {
             "color": "#2a3f5f"
            },
            "marker": {
             "line": {
              "color": "#E5ECF6",
              "width": 0.5
             }
            },
            "type": "bar"
           }
          ],
          "barpolar": [
           {
            "marker": {
             "line": {
              "color": "#E5ECF6",
              "width": 0.5
             }
            },
            "type": "barpolar"
           }
          ],
          "carpet": [
           {
            "aaxis": {
             "endlinecolor": "#2a3f5f",
             "gridcolor": "white",
             "linecolor": "white",
             "minorgridcolor": "white",
             "startlinecolor": "#2a3f5f"
            },
            "baxis": {
             "endlinecolor": "#2a3f5f",
             "gridcolor": "white",
             "linecolor": "white",
             "minorgridcolor": "white",
             "startlinecolor": "#2a3f5f"
            },
            "type": "carpet"
           }
          ],
          "choropleth": [
           {
            "colorbar": {
             "outlinewidth": 0,
             "ticks": ""
            },
            "type": "choropleth"
           }
          ],
          "contour": [
           {
            "colorbar": {
             "outlinewidth": 0,
             "ticks": ""
            },
            "colorscale": [
             [
              0,
              "#0d0887"
             ],
             [
              0.1111111111111111,
              "#46039f"
             ],
             [
              0.2222222222222222,
              "#7201a8"
             ],
             [
              0.3333333333333333,
              "#9c179e"
             ],
             [
              0.4444444444444444,
              "#bd3786"
             ],
             [
              0.5555555555555556,
              "#d8576b"
             ],
             [
              0.6666666666666666,
              "#ed7953"
             ],
             [
              0.7777777777777778,
              "#fb9f3a"
             ],
             [
              0.8888888888888888,
              "#fdca26"
             ],
             [
              1,
              "#f0f921"
             ]
            ],
            "type": "contour"
           }
          ],
          "contourcarpet": [
           {
            "colorbar": {
             "outlinewidth": 0,
             "ticks": ""
            },
            "type": "contourcarpet"
           }
          ],
          "heatmap": [
           {
            "colorbar": {
             "outlinewidth": 0,
             "ticks": ""
            },
            "colorscale": [
             [
              0,
              "#0d0887"
             ],
             [
              0.1111111111111111,
              "#46039f"
             ],
             [
              0.2222222222222222,
              "#7201a8"
             ],
             [
              0.3333333333333333,
              "#9c179e"
             ],
             [
              0.4444444444444444,
              "#bd3786"
             ],
             [
              0.5555555555555556,
              "#d8576b"
             ],
             [
              0.6666666666666666,
              "#ed7953"
             ],
             [
              0.7777777777777778,
              "#fb9f3a"
             ],
             [
              0.8888888888888888,
              "#fdca26"
             ],
             [
              1,
              "#f0f921"
             ]
            ],
            "type": "heatmap"
           }
          ],
          "heatmapgl": [
           {
            "colorbar": {
             "outlinewidth": 0,
             "ticks": ""
            },
            "colorscale": [
             [
              0,
              "#0d0887"
             ],
             [
              0.1111111111111111,
              "#46039f"
             ],
             [
              0.2222222222222222,
              "#7201a8"
             ],
             [
              0.3333333333333333,
              "#9c179e"
             ],
             [
              0.4444444444444444,
              "#bd3786"
             ],
             [
              0.5555555555555556,
              "#d8576b"
             ],
             [
              0.6666666666666666,
              "#ed7953"
             ],
             [
              0.7777777777777778,
              "#fb9f3a"
             ],
             [
              0.8888888888888888,
              "#fdca26"
             ],
             [
              1,
              "#f0f921"
             ]
            ],
            "type": "heatmapgl"
           }
          ],
          "histogram": [
           {
            "marker": {
             "colorbar": {
              "outlinewidth": 0,
              "ticks": ""
             }
            },
            "type": "histogram"
           }
          ],
          "histogram2d": [
           {
            "colorbar": {
             "outlinewidth": 0,
             "ticks": ""
            },
            "colorscale": [
             [
              0,
              "#0d0887"
             ],
             [
              0.1111111111111111,
              "#46039f"
             ],
             [
              0.2222222222222222,
              "#7201a8"
             ],
             [
              0.3333333333333333,
              "#9c179e"
             ],
             [
              0.4444444444444444,
              "#bd3786"
             ],
             [
              0.5555555555555556,
              "#d8576b"
             ],
             [
              0.6666666666666666,
              "#ed7953"
             ],
             [
              0.7777777777777778,
              "#fb9f3a"
             ],
             [
              0.8888888888888888,
              "#fdca26"
             ],
             [
              1,
              "#f0f921"
             ]
            ],
            "type": "histogram2d"
           }
          ],
          "histogram2dcontour": [
           {
            "colorbar": {
             "outlinewidth": 0,
             "ticks": ""
            },
            "colorscale": [
             [
              0,
              "#0d0887"
             ],
             [
              0.1111111111111111,
              "#46039f"
             ],
             [
              0.2222222222222222,
              "#7201a8"
             ],
             [
              0.3333333333333333,
              "#9c179e"
             ],
             [
              0.4444444444444444,
              "#bd3786"
             ],
             [
              0.5555555555555556,
              "#d8576b"
             ],
             [
              0.6666666666666666,
              "#ed7953"
             ],
             [
              0.7777777777777778,
              "#fb9f3a"
             ],
             [
              0.8888888888888888,
              "#fdca26"
             ],
             [
              1,
              "#f0f921"
             ]
            ],
            "type": "histogram2dcontour"
           }
          ],
          "mesh3d": [
           {
            "colorbar": {
             "outlinewidth": 0,
             "ticks": ""
            },
            "type": "mesh3d"
           }
          ],
          "parcoords": [
           {
            "line": {
             "colorbar": {
              "outlinewidth": 0,
              "ticks": ""
             }
            },
            "type": "parcoords"
           }
          ],
          "pie": [
           {
            "automargin": true,
            "type": "pie"
           }
          ],
          "scatter": [
           {
            "marker": {
             "colorbar": {
              "outlinewidth": 0,
              "ticks": ""
             }
            },
            "type": "scatter"
           }
          ],
          "scatter3d": [
           {
            "line": {
             "colorbar": {
              "outlinewidth": 0,
              "ticks": ""
             }
            },
            "marker": {
             "colorbar": {
              "outlinewidth": 0,
              "ticks": ""
             }
            },
            "type": "scatter3d"
           }
          ],
          "scattercarpet": [
           {
            "marker": {
             "colorbar": {
              "outlinewidth": 0,
              "ticks": ""
             }
            },
            "type": "scattercarpet"
           }
          ],
          "scattergeo": [
           {
            "marker": {
             "colorbar": {
              "outlinewidth": 0,
              "ticks": ""
             }
            },
            "type": "scattergeo"
           }
          ],
          "scattergl": [
           {
            "marker": {
             "colorbar": {
              "outlinewidth": 0,
              "ticks": ""
             }
            },
            "type": "scattergl"
           }
          ],
          "scattermapbox": [
           {
            "marker": {
             "colorbar": {
              "outlinewidth": 0,
              "ticks": ""
             }
            },
            "type": "scattermapbox"
           }
          ],
          "scatterpolar": [
           {
            "marker": {
             "colorbar": {
              "outlinewidth": 0,
              "ticks": ""
             }
            },
            "type": "scatterpolar"
           }
          ],
          "scatterpolargl": [
           {
            "marker": {
             "colorbar": {
              "outlinewidth": 0,
              "ticks": ""
             }
            },
            "type": "scatterpolargl"
           }
          ],
          "scatterternary": [
           {
            "marker": {
             "colorbar": {
              "outlinewidth": 0,
              "ticks": ""
             }
            },
            "type": "scatterternary"
           }
          ],
          "surface": [
           {
            "colorbar": {
             "outlinewidth": 0,
             "ticks": ""
            },
            "colorscale": [
             [
              0,
              "#0d0887"
             ],
             [
              0.1111111111111111,
              "#46039f"
             ],
             [
              0.2222222222222222,
              "#7201a8"
             ],
             [
              0.3333333333333333,
              "#9c179e"
             ],
             [
              0.4444444444444444,
              "#bd3786"
             ],
             [
              0.5555555555555556,
              "#d8576b"
             ],
             [
              0.6666666666666666,
              "#ed7953"
             ],
             [
              0.7777777777777778,
              "#fb9f3a"
             ],
             [
              0.8888888888888888,
              "#fdca26"
             ],
             [
              1,
              "#f0f921"
             ]
            ],
            "type": "surface"
           }
          ],
          "table": [
           {
            "cells": {
             "fill": {
              "color": "#EBF0F8"
             },
             "line": {
              "color": "white"
             }
            },
            "header": {
             "fill": {
              "color": "#C8D4E3"
             },
             "line": {
              "color": "white"
             }
            },
            "type": "table"
           }
          ]
         },
         "layout": {
          "annotationdefaults": {
           "arrowcolor": "#2a3f5f",
           "arrowhead": 0,
           "arrowwidth": 1
          },
          "autotypenumbers": "strict",
          "coloraxis": {
           "colorbar": {
            "outlinewidth": 0,
            "ticks": ""
           }
          },
          "colorscale": {
           "diverging": [
            [
             0,
             "#8e0152"
            ],
            [
             0.1,
             "#c51b7d"
            ],
            [
             0.2,
             "#de77ae"
            ],
            [
             0.3,
             "#f1b6da"
            ],
            [
             0.4,
             "#fde0ef"
            ],
            [
             0.5,
             "#f7f7f7"
            ],
            [
             0.6,
             "#e6f5d0"
            ],
            [
             0.7,
             "#b8e186"
            ],
            [
             0.8,
             "#7fbc41"
            ],
            [
             0.9,
             "#4d9221"
            ],
            [
             1,
             "#276419"
            ]
           ],
           "sequential": [
            [
             0,
             "#0d0887"
            ],
            [
             0.1111111111111111,
             "#46039f"
            ],
            [
             0.2222222222222222,
             "#7201a8"
            ],
            [
             0.3333333333333333,
             "#9c179e"
            ],
            [
             0.4444444444444444,
             "#bd3786"
            ],
            [
             0.5555555555555556,
             "#d8576b"
            ],
            [
             0.6666666666666666,
             "#ed7953"
            ],
            [
             0.7777777777777778,
             "#fb9f3a"
            ],
            [
             0.8888888888888888,
             "#fdca26"
            ],
            [
             1,
             "#f0f921"
            ]
           ],
           "sequentialminus": [
            [
             0,
             "#0d0887"
            ],
            [
             0.1111111111111111,
             "#46039f"
            ],
            [
             0.2222222222222222,
             "#7201a8"
            ],
            [
             0.3333333333333333,
             "#9c179e"
            ],
            [
             0.4444444444444444,
             "#bd3786"
            ],
            [
             0.5555555555555556,
             "#d8576b"
            ],
            [
             0.6666666666666666,
             "#ed7953"
            ],
            [
             0.7777777777777778,
             "#fb9f3a"
            ],
            [
             0.8888888888888888,
             "#fdca26"
            ],
            [
             1,
             "#f0f921"
            ]
           ]
          },
          "colorway": [
           "#636efa",
           "#EF553B",
           "#00cc96",
           "#ab63fa",
           "#FFA15A",
           "#19d3f3",
           "#FF6692",
           "#B6E880",
           "#FF97FF",
           "#FECB52"
          ],
          "font": {
           "color": "#2a3f5f"
          },
          "geo": {
           "bgcolor": "white",
           "lakecolor": "white",
           "landcolor": "#E5ECF6",
           "showlakes": true,
           "showland": true,
           "subunitcolor": "white"
          },
          "hoverlabel": {
           "align": "left"
          },
          "hovermode": "closest",
          "mapbox": {
           "style": "light"
          },
          "paper_bgcolor": "white",
          "plot_bgcolor": "#E5ECF6",
          "polar": {
           "angularaxis": {
            "gridcolor": "white",
            "linecolor": "white",
            "ticks": ""
           },
           "bgcolor": "#E5ECF6",
           "radialaxis": {
            "gridcolor": "white",
            "linecolor": "white",
            "ticks": ""
           }
          },
          "scene": {
           "xaxis": {
            "backgroundcolor": "#E5ECF6",
            "gridcolor": "white",
            "gridwidth": 2,
            "linecolor": "white",
            "showbackground": true,
            "ticks": "",
            "zerolinecolor": "white"
           },
           "yaxis": {
            "backgroundcolor": "#E5ECF6",
            "gridcolor": "white",
            "gridwidth": 2,
            "linecolor": "white",
            "showbackground": true,
            "ticks": "",
            "zerolinecolor": "white"
           },
           "zaxis": {
            "backgroundcolor": "#E5ECF6",
            "gridcolor": "white",
            "gridwidth": 2,
            "linecolor": "white",
            "showbackground": true,
            "ticks": "",
            "zerolinecolor": "white"
           }
          },
          "shapedefaults": {
           "line": {
            "color": "#2a3f5f"
           }
          },
          "ternary": {
           "aaxis": {
            "gridcolor": "white",
            "linecolor": "white",
            "ticks": ""
           },
           "baxis": {
            "gridcolor": "white",
            "linecolor": "white",
            "ticks": ""
           },
           "bgcolor": "#E5ECF6",
           "caxis": {
            "gridcolor": "white",
            "linecolor": "white",
            "ticks": ""
           }
          },
          "title": {
           "x": 0.05
          },
          "xaxis": {
           "automargin": true,
           "gridcolor": "white",
           "linecolor": "white",
           "ticks": "",
           "title": {
            "standoff": 15
           },
           "zerolinecolor": "white",
           "zerolinewidth": 2
          },
          "yaxis": {
           "automargin": true,
           "gridcolor": "white",
           "linecolor": "white",
           "ticks": "",
           "title": {
            "standoff": 15
           },
           "zerolinecolor": "white",
           "zerolinewidth": 2
          }
         }
        },
        "title": {
         "text": "Group F30, F40, M30"
        },
        "uniformtext": {
         "minsize": 10,
         "mode": "hide"
        },
        "yaxis": {
         "range": [
          0,
          5
         ]
        }
       }
      },
      "text/html": [
       "<div>                            <div id=\"dd73cdf7-3d5b-4e20-b0c7-f0db445a2f11\" class=\"plotly-graph-div\" style=\"height:525px; width:100%;\"></div>            <script type=\"text/javascript\">                require([\"plotly\"], function(Plotly) {                    window.PLOTLYENV=window.PLOTLYENV || {};                                    if (document.getElementById(\"dd73cdf7-3d5b-4e20-b0c7-f0db445a2f11\")) {                    Plotly.newPlot(                        \"dd73cdf7-3d5b-4e20-b0c7-f0db445a2f11\",                        [{\"type\": \"bar\", \"x\": [\"\\ub9e5\\uc8fc\", \"\\uc591\\uc8fc\", \"\\uc804\\ud1b5\\uc8fc\", \"\\uc640\\uc778\", \"\\uc18c\\uc8fc\"], \"y\": [3, 4, 2, 3, 3]}],                        {\"barmode\": \"stack\", \"font\": {\"color\": \"RebeccaPurple\", \"family\": \"Times New Roman\", \"size\": 18}, \"legend\": {\"title\": {\"font\": {\"color\": \"green\"}}}, \"plot_bgcolor\": \"white\", \"template\": {\"data\": {\"bar\": [{\"error_x\": {\"color\": \"#2a3f5f\"}, \"error_y\": {\"color\": \"#2a3f5f\"}, \"marker\": {\"line\": {\"color\": \"#E5ECF6\", \"width\": 0.5}}, \"type\": \"bar\"}], \"barpolar\": [{\"marker\": {\"line\": {\"color\": \"#E5ECF6\", \"width\": 0.5}}, \"type\": \"barpolar\"}], \"carpet\": [{\"aaxis\": {\"endlinecolor\": \"#2a3f5f\", \"gridcolor\": \"white\", \"linecolor\": \"white\", \"minorgridcolor\": \"white\", \"startlinecolor\": \"#2a3f5f\"}, \"baxis\": {\"endlinecolor\": \"#2a3f5f\", \"gridcolor\": \"white\", \"linecolor\": \"white\", \"minorgridcolor\": \"white\", \"startlinecolor\": \"#2a3f5f\"}, \"type\": \"carpet\"}], \"choropleth\": [{\"colorbar\": {\"outlinewidth\": 0, \"ticks\": \"\"}, \"type\": \"choropleth\"}], \"contour\": [{\"colorbar\": {\"outlinewidth\": 0, \"ticks\": \"\"}, \"colorscale\": [[0.0, \"#0d0887\"], [0.1111111111111111, \"#46039f\"], [0.2222222222222222, \"#7201a8\"], [0.3333333333333333, \"#9c179e\"], [0.4444444444444444, \"#bd3786\"], [0.5555555555555556, \"#d8576b\"], [0.6666666666666666, \"#ed7953\"], [0.7777777777777778, \"#fb9f3a\"], [0.8888888888888888, \"#fdca26\"], [1.0, \"#f0f921\"]], \"type\": \"contour\"}], \"contourcarpet\": [{\"colorbar\": {\"outlinewidth\": 0, \"ticks\": \"\"}, \"type\": \"contourcarpet\"}], \"heatmap\": [{\"colorbar\": {\"outlinewidth\": 0, \"ticks\": \"\"}, \"colorscale\": [[0.0, \"#0d0887\"], [0.1111111111111111, \"#46039f\"], [0.2222222222222222, \"#7201a8\"], [0.3333333333333333, \"#9c179e\"], [0.4444444444444444, \"#bd3786\"], [0.5555555555555556, \"#d8576b\"], [0.6666666666666666, \"#ed7953\"], [0.7777777777777778, \"#fb9f3a\"], [0.8888888888888888, \"#fdca26\"], [1.0, \"#f0f921\"]], \"type\": \"heatmap\"}], \"heatmapgl\": [{\"colorbar\": {\"outlinewidth\": 0, \"ticks\": \"\"}, \"colorscale\": [[0.0, \"#0d0887\"], [0.1111111111111111, \"#46039f\"], [0.2222222222222222, \"#7201a8\"], [0.3333333333333333, \"#9c179e\"], [0.4444444444444444, \"#bd3786\"], [0.5555555555555556, \"#d8576b\"], [0.6666666666666666, \"#ed7953\"], [0.7777777777777778, \"#fb9f3a\"], [0.8888888888888888, \"#fdca26\"], [1.0, \"#f0f921\"]], \"type\": \"heatmapgl\"}], \"histogram\": [{\"marker\": {\"colorbar\": {\"outlinewidth\": 0, \"ticks\": \"\"}}, \"type\": \"histogram\"}], \"histogram2d\": [{\"colorbar\": {\"outlinewidth\": 0, \"ticks\": \"\"}, \"colorscale\": [[0.0, \"#0d0887\"], [0.1111111111111111, \"#46039f\"], [0.2222222222222222, \"#7201a8\"], [0.3333333333333333, \"#9c179e\"], [0.4444444444444444, \"#bd3786\"], [0.5555555555555556, \"#d8576b\"], [0.6666666666666666, \"#ed7953\"], [0.7777777777777778, \"#fb9f3a\"], [0.8888888888888888, \"#fdca26\"], [1.0, \"#f0f921\"]], \"type\": \"histogram2d\"}], \"histogram2dcontour\": [{\"colorbar\": {\"outlinewidth\": 0, \"ticks\": \"\"}, \"colorscale\": [[0.0, \"#0d0887\"], [0.1111111111111111, \"#46039f\"], [0.2222222222222222, \"#7201a8\"], [0.3333333333333333, \"#9c179e\"], [0.4444444444444444, \"#bd3786\"], [0.5555555555555556, \"#d8576b\"], [0.6666666666666666, \"#ed7953\"], [0.7777777777777778, \"#fb9f3a\"], [0.8888888888888888, \"#fdca26\"], [1.0, \"#f0f921\"]], \"type\": \"histogram2dcontour\"}], \"mesh3d\": [{\"colorbar\": {\"outlinewidth\": 0, \"ticks\": \"\"}, \"type\": \"mesh3d\"}], \"parcoords\": [{\"line\": {\"colorbar\": {\"outlinewidth\": 0, \"ticks\": \"\"}}, \"type\": \"parcoords\"}], \"pie\": [{\"automargin\": true, \"type\": \"pie\"}], \"scatter\": [{\"marker\": {\"colorbar\": {\"outlinewidth\": 0, \"ticks\": \"\"}}, \"type\": \"scatter\"}], \"scatter3d\": [{\"line\": {\"colorbar\": {\"outlinewidth\": 0, \"ticks\": \"\"}}, \"marker\": {\"colorbar\": {\"outlinewidth\": 0, \"ticks\": \"\"}}, \"type\": \"scatter3d\"}], \"scattercarpet\": [{\"marker\": {\"colorbar\": {\"outlinewidth\": 0, \"ticks\": \"\"}}, \"type\": \"scattercarpet\"}], \"scattergeo\": [{\"marker\": {\"colorbar\": {\"outlinewidth\": 0, \"ticks\": \"\"}}, \"type\": \"scattergeo\"}], \"scattergl\": [{\"marker\": {\"colorbar\": {\"outlinewidth\": 0, \"ticks\": \"\"}}, \"type\": \"scattergl\"}], \"scattermapbox\": [{\"marker\": {\"colorbar\": {\"outlinewidth\": 0, \"ticks\": \"\"}}, \"type\": \"scattermapbox\"}], \"scatterpolar\": [{\"marker\": {\"colorbar\": {\"outlinewidth\": 0, \"ticks\": \"\"}}, \"type\": \"scatterpolar\"}], \"scatterpolargl\": [{\"marker\": {\"colorbar\": {\"outlinewidth\": 0, \"ticks\": \"\"}}, \"type\": \"scatterpolargl\"}], \"scatterternary\": [{\"marker\": {\"colorbar\": {\"outlinewidth\": 0, \"ticks\": \"\"}}, \"type\": \"scatterternary\"}], \"surface\": [{\"colorbar\": {\"outlinewidth\": 0, \"ticks\": \"\"}, \"colorscale\": [[0.0, \"#0d0887\"], [0.1111111111111111, \"#46039f\"], [0.2222222222222222, \"#7201a8\"], [0.3333333333333333, \"#9c179e\"], [0.4444444444444444, \"#bd3786\"], [0.5555555555555556, \"#d8576b\"], [0.6666666666666666, \"#ed7953\"], [0.7777777777777778, \"#fb9f3a\"], [0.8888888888888888, \"#fdca26\"], [1.0, \"#f0f921\"]], \"type\": \"surface\"}], \"table\": [{\"cells\": {\"fill\": {\"color\": \"#EBF0F8\"}, \"line\": {\"color\": \"white\"}}, \"header\": {\"fill\": {\"color\": \"#C8D4E3\"}, \"line\": {\"color\": \"white\"}}, \"type\": \"table\"}]}, \"layout\": {\"annotationdefaults\": {\"arrowcolor\": \"#2a3f5f\", \"arrowhead\": 0, \"arrowwidth\": 1}, \"autotypenumbers\": \"strict\", \"coloraxis\": {\"colorbar\": {\"outlinewidth\": 0, \"ticks\": \"\"}}, \"colorscale\": {\"diverging\": [[0, \"#8e0152\"], [0.1, \"#c51b7d\"], [0.2, \"#de77ae\"], [0.3, \"#f1b6da\"], [0.4, \"#fde0ef\"], [0.5, \"#f7f7f7\"], [0.6, \"#e6f5d0\"], [0.7, \"#b8e186\"], [0.8, \"#7fbc41\"], [0.9, \"#4d9221\"], [1, \"#276419\"]], \"sequential\": [[0.0, \"#0d0887\"], [0.1111111111111111, \"#46039f\"], [0.2222222222222222, \"#7201a8\"], [0.3333333333333333, \"#9c179e\"], [0.4444444444444444, \"#bd3786\"], [0.5555555555555556, \"#d8576b\"], [0.6666666666666666, \"#ed7953\"], [0.7777777777777778, \"#fb9f3a\"], [0.8888888888888888, \"#fdca26\"], [1.0, \"#f0f921\"]], \"sequentialminus\": [[0.0, \"#0d0887\"], [0.1111111111111111, \"#46039f\"], [0.2222222222222222, \"#7201a8\"], [0.3333333333333333, \"#9c179e\"], [0.4444444444444444, \"#bd3786\"], [0.5555555555555556, \"#d8576b\"], [0.6666666666666666, \"#ed7953\"], [0.7777777777777778, \"#fb9f3a\"], [0.8888888888888888, \"#fdca26\"], [1.0, \"#f0f921\"]]}, \"colorway\": [\"#636efa\", \"#EF553B\", \"#00cc96\", \"#ab63fa\", \"#FFA15A\", \"#19d3f3\", \"#FF6692\", \"#B6E880\", \"#FF97FF\", \"#FECB52\"], \"font\": {\"color\": \"#2a3f5f\"}, \"geo\": {\"bgcolor\": \"white\", \"lakecolor\": \"white\", \"landcolor\": \"#E5ECF6\", \"showlakes\": true, \"showland\": true, \"subunitcolor\": \"white\"}, \"hoverlabel\": {\"align\": \"left\"}, \"hovermode\": \"closest\", \"mapbox\": {\"style\": \"light\"}, \"paper_bgcolor\": \"white\", \"plot_bgcolor\": \"#E5ECF6\", \"polar\": {\"angularaxis\": {\"gridcolor\": \"white\", \"linecolor\": \"white\", \"ticks\": \"\"}, \"bgcolor\": \"#E5ECF6\", \"radialaxis\": {\"gridcolor\": \"white\", \"linecolor\": \"white\", \"ticks\": \"\"}}, \"scene\": {\"xaxis\": {\"backgroundcolor\": \"#E5ECF6\", \"gridcolor\": \"white\", \"gridwidth\": 2, \"linecolor\": \"white\", \"showbackground\": true, \"ticks\": \"\", \"zerolinecolor\": \"white\"}, \"yaxis\": {\"backgroundcolor\": \"#E5ECF6\", \"gridcolor\": \"white\", \"gridwidth\": 2, \"linecolor\": \"white\", \"showbackground\": true, \"ticks\": \"\", \"zerolinecolor\": \"white\"}, \"zaxis\": {\"backgroundcolor\": \"#E5ECF6\", \"gridcolor\": \"white\", \"gridwidth\": 2, \"linecolor\": \"white\", \"showbackground\": true, \"ticks\": \"\", \"zerolinecolor\": \"white\"}}, \"shapedefaults\": {\"line\": {\"color\": \"#2a3f5f\"}}, \"ternary\": {\"aaxis\": {\"gridcolor\": \"white\", \"linecolor\": \"white\", \"ticks\": \"\"}, \"baxis\": {\"gridcolor\": \"white\", \"linecolor\": \"white\", \"ticks\": \"\"}, \"bgcolor\": \"#E5ECF6\", \"caxis\": {\"gridcolor\": \"white\", \"linecolor\": \"white\", \"ticks\": \"\"}}, \"title\": {\"x\": 0.05}, \"xaxis\": {\"automargin\": true, \"gridcolor\": \"white\", \"linecolor\": \"white\", \"ticks\": \"\", \"title\": {\"standoff\": 15}, \"zerolinecolor\": \"white\", \"zerolinewidth\": 2}, \"yaxis\": {\"automargin\": true, \"gridcolor\": \"white\", \"linecolor\": \"white\", \"ticks\": \"\", \"title\": {\"standoff\": 15}, \"zerolinecolor\": \"white\", \"zerolinewidth\": 2}}}, \"title\": {\"text\": \"Group F30, F40, M30\"}, \"uniformtext\": {\"minsize\": 10, \"mode\": \"hide\"}, \"yaxis\": {\"range\": [0, 5]}},                        {\"responsive\": true}                    ).then(function(){\n",
       "                            \n",
       "var gd = document.getElementById('dd73cdf7-3d5b-4e20-b0c7-f0db445a2f11');\n",
       "var x = new MutationObserver(function (mutations, observer) {{\n",
       "        var display = window.getComputedStyle(gd).display;\n",
       "        if (!display || display === 'none') {{\n",
       "            console.log([gd, 'removed!']);\n",
       "            Plotly.purge(gd);\n",
       "            observer.disconnect();\n",
       "        }}\n",
       "}});\n",
       "\n",
       "// Listen for the removal of the full notebook cells\n",
       "var notebookContainer = gd.closest('#notebook-container');\n",
       "if (notebookContainer) {{\n",
       "    x.observe(notebookContainer, {childList: true});\n",
       "}}\n",
       "\n",
       "// Listen for the clearing of the current output cell\n",
       "var outputEl = gd.closest('.output');\n",
       "if (outputEl) {{\n",
       "    x.observe(outputEl, {childList: true});\n",
       "}}\n",
       "\n",
       "                        })                };                });            </script>        </div>"
      ]
     },
     "metadata": {},
     "output_type": "display_data"
    }
   ],
   "source": [
    "make_graph(con_list,2)"
   ]
  },
  {
   "cell_type": "code",
   "execution_count": null,
   "metadata": {},
   "outputs": [],
   "source": []
  },
  {
   "cell_type": "code",
   "execution_count": null,
   "metadata": {},
   "outputs": [],
   "source": []
  },
  {
   "cell_type": "code",
   "execution_count": null,
   "metadata": {},
   "outputs": [],
   "source": []
  }
 ],
 "metadata": {
  "kernelspec": {
   "display_name": "Python 3",
   "language": "python",
   "name": "python3"
  },
  "language_info": {
   "codemirror_mode": {
    "name": "ipython",
    "version": 3
   },
   "file_extension": ".py",
   "mimetype": "text/x-python",
   "name": "python",
   "nbconvert_exporter": "python",
   "pygments_lexer": "ipython3",
   "version": "3.7.6"
  }
 },
 "nbformat": 4,
 "nbformat_minor": 4
}
