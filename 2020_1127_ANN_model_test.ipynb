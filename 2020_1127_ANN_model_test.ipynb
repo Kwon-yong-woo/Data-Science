{
 "cells": [
  {
   "cell_type": "code",
   "execution_count": 1,
   "metadata": {},
   "outputs": [],
   "source": [
    "import numpy as np\n",
    "import pandas as pd\n",
    "import re\n",
    "\n",
    "from IPython.display import display\n",
    "import matplotlib.pyplot as plt\n",
    "\n",
    "from nltk.tokenize import word_tokenize  \n",
    "import nltk\n",
    "from collections import Counter\n",
    "import string\n",
    "\n",
    "from konlpy.tag import Kkma\n",
    "from konlpy.tag import Mecab\n",
    "from konlpy.utils import pprint\n",
    "from konlpy.tag import Twitter,Okt\n",
    "\n",
    "import os\n",
    "\n",
    "from tqdm import tqdm\n",
    "import ast\n",
    "\n",
    "from gensim.models import Word2Vec\n",
    "import random\n",
    "\n",
    "import timeit\n",
    "\n",
    "from sklearn.model_selection import train_test_split\n",
    "\n",
    "import tensorflow as tf\n",
    "from tensorflow import keras\n",
    "from tensorflow.keras import layers\n",
    "from tensorflow.keras.layers.experimental import preprocessing\n",
    "from keras.utils.vis_utils import plot_model\n",
    "\n",
    "\n",
    "\n",
    "from imblearn.over_sampling import SMOTE\n",
    "\n",
    "import random"
   ]
  },
  {
   "cell_type": "code",
   "execution_count": 2,
   "metadata": {
    "scrolled": true
   },
   "outputs": [
    {
     "name": "stderr",
     "output_type": "stream",
     "text": [
      "C:\\Users\\Samsung\\anaconda3\\lib\\site-packages\\konlpy\\tag\\_okt.py:16: UserWarning: \"Twitter\" has changed to \"Okt\" since KoNLPy v0.4.5.\n",
      "  warn('\"Twitter\" has changed to \"Okt\" since KoNLPy v0.4.5.')\n"
     ]
    }
   ],
   "source": [
    "twitter = Twitter()\n",
    "kkma = Kkma()"
   ]
  },
  {
   "cell_type": "code",
   "execution_count": 3,
   "metadata": {
    "scrolled": true
   },
   "outputs": [
    {
     "name": "stderr",
     "output_type": "stream",
     "text": [
      "100%|███████████████████████████████████████████████████████████████████████████| 36253/36253 [04:51<00:00, 124.36it/s]\n"
     ]
    },
    {
     "name": "stdout",
     "output_type": "stream",
     "text": [
      "Time:  291.6565284999999\n"
     ]
    },
    {
     "data": {
      "text/html": [
       "<div>\n",
       "<style scoped>\n",
       "    .dataframe tbody tr th:only-of-type {\n",
       "        vertical-align: middle;\n",
       "    }\n",
       "\n",
       "    .dataframe tbody tr th {\n",
       "        vertical-align: top;\n",
       "    }\n",
       "\n",
       "    .dataframe thead th {\n",
       "        text-align: right;\n",
       "    }\n",
       "</style>\n",
       "<table border=\"1\" class=\"dataframe\">\n",
       "  <thead>\n",
       "    <tr style=\"text-align: right;\">\n",
       "      <th></th>\n",
       "      <th>Unnamed: 0</th>\n",
       "      <th>ID</th>\n",
       "      <th>Date</th>\n",
       "      <th>Contents</th>\n",
       "      <th>rates</th>\n",
       "      <th>Rate</th>\n",
       "      <th>POS</th>\n",
       "    </tr>\n",
       "  </thead>\n",
       "  <tbody>\n",
       "    <tr>\n",
       "      <th>0</th>\n",
       "      <td>0</td>\n",
       "      <td>bjr*******</td>\n",
       "      <td>2020/11/24</td>\n",
       "      <td>약간 끈적이는 감이 있지않나 싶을쯤 싸악 스며들어서 좋아요~ 홈쇼핑방송처럼 드라마틱...</td>\n",
       "      <td>s50</td>\n",
       "      <td>5</td>\n",
       "      <td>[(약간, Noun), (끈, Noun), (적, Suffix), (이는, Verb...</td>\n",
       "    </tr>\n",
       "    <tr>\n",
       "      <th>1</th>\n",
       "      <td>1</td>\n",
       "      <td>jan******@126.com</td>\n",
       "      <td>2020/11/17</td>\n",
       "      <td>박수홍씨 홈쇼핑하는거보고 믿고 구매해봤어요.용량부족하다는 품평이 많아서 받자마자 뜯...</td>\n",
       "      <td>s50</td>\n",
       "      <td>5</td>\n",
       "      <td>[(박수홍, Noun), (씨, Suffix), (홈쇼핑, Noun), (하는거, ...</td>\n",
       "    </tr>\n",
       "    <tr>\n",
       "      <th>2</th>\n",
       "      <td>2</td>\n",
       "      <td>yja****</td>\n",
       "      <td>2020/11/15</td>\n",
       "      <td>잘받았습니다..늘 사용하는 제품입니다..</td>\n",
       "      <td>s50</td>\n",
       "      <td>5</td>\n",
       "      <td>[(잘, VerbPrefix), (받았습니다, Verb), (.., Punctuat...</td>\n",
       "    </tr>\n",
       "    <tr>\n",
       "      <th>3</th>\n",
       "      <td>3</td>\n",
       "      <td>mod****@naver.com</td>\n",
       "      <td>2020/11/14</td>\n",
       "      <td>이것만 써요. 수홍씨 피부좋아진거 보고 작년부터 재구매중이에요</td>\n",
       "      <td>s50</td>\n",
       "      <td>5</td>\n",
       "      <td>[(이, Determiner), (것, Noun), (만, Josa), (써요, V...</td>\n",
       "    </tr>\n",
       "    <tr>\n",
       "      <th>4</th>\n",
       "      <td>4</td>\n",
       "      <td>sta*****</td>\n",
       "      <td>2020/11/11</td>\n",
       "      <td>딸이 좋아해서 계속시키네요</td>\n",
       "      <td>s50</td>\n",
       "      <td>5</td>\n",
       "      <td>[(딸, Noun), (이, Josa), (좋아해서, Adjective), (계속,...</td>\n",
       "    </tr>\n",
       "  </tbody>\n",
       "</table>\n",
       "</div>"
      ],
      "text/plain": [
       "   Unnamed: 0                 ID        Date  \\\n",
       "0           0         bjr*******  2020/11/24   \n",
       "1           1  jan******@126.com  2020/11/17   \n",
       "2           2            yja****  2020/11/15   \n",
       "3           3  mod****@naver.com  2020/11/14   \n",
       "4           4           sta*****  2020/11/11   \n",
       "\n",
       "                                            Contents rates  Rate  \\\n",
       "0  약간 끈적이는 감이 있지않나 싶을쯤 싸악 스며들어서 좋아요~ 홈쇼핑방송처럼 드라마틱...   s50     5   \n",
       "1  박수홍씨 홈쇼핑하는거보고 믿고 구매해봤어요.용량부족하다는 품평이 많아서 받자마자 뜯...   s50     5   \n",
       "2                             잘받았습니다..늘 사용하는 제품입니다..   s50     5   \n",
       "3                 이것만 써요. 수홍씨 피부좋아진거 보고 작년부터 재구매중이에요   s50     5   \n",
       "4                                     딸이 좋아해서 계속시키네요   s50     5   \n",
       "\n",
       "                                                 POS  \n",
       "0  [(약간, Noun), (끈, Noun), (적, Suffix), (이는, Verb...  \n",
       "1  [(박수홍, Noun), (씨, Suffix), (홈쇼핑, Noun), (하는거, ...  \n",
       "2  [(잘, VerbPrefix), (받았습니다, Verb), (.., Punctuat...  \n",
       "3  [(이, Determiner), (것, Noun), (만, Josa), (써요, V...  \n",
       "4  [(딸, Noun), (이, Josa), (좋아해서, Adjective), (계속,...  "
      ]
     },
     "execution_count": 3,
     "metadata": {},
     "output_type": "execute_result"
    }
   ],
   "source": [
    "data_ = pd.read_excel(r\"C:\\Users\\Samsung\\Desktop\\Project\\이희정 교수님\\project\\sentiment analysis\\supervised\\스킨케어_plus.xlsx\")\n",
    "data_[\"Rate\"] = [int(ra.replace(\"0\",\"\").replace(\"s\",\"\")) for ra in data_[\"rates\"]]\n",
    "start = timeit.default_timer()\n",
    "pos_list = []\n",
    "for word in tqdm(data_[\"Contents\"]):\n",
    "    pos_list.append(twitter.pos(word))\n",
    "\n",
    "data_[\"POS\"] = pos_list    \n",
    "\n",
    "stop = timeit.default_timer()\n",
    "\n",
    "print('Time: ', stop - start) \n",
    "data_.head()"
   ]
  },
  {
   "cell_type": "code",
   "execution_count": null,
   "metadata": {},
   "outputs": [],
   "source": []
  },
  {
   "cell_type": "markdown",
   "metadata": {},
   "source": [
    "# 1. Voca 만들기"
   ]
  },
  {
   "cell_type": "code",
   "execution_count": 4,
   "metadata": {},
   "outputs": [],
   "source": [
    "def tokenize(doc):\n",
    "    return [\"/\".join(t) for t in doc]"
   ]
  },
  {
   "cell_type": "code",
   "execution_count": 5,
   "metadata": {},
   "outputs": [],
   "source": [
    "def term_frequency(doc):\n",
    "    return [doc.count(word) for word in selected]"
   ]
  },
  {
   "cell_type": "code",
   "execution_count": 6,
   "metadata": {},
   "outputs": [],
   "source": [
    "def plot_history(history):\n",
    "    hist = pd.DataFrame(history.history)\n",
    "    hist[\"epoch\"] = history.epoch\n",
    "    plt.subplot(2,1,1)\n",
    "    plt.xlabel(\"Epoch\")\n",
    "    plt.ylabel(\"loss\")\n",
    "    plt.plot(hist[\"epoch\"],hist[\"loss\"],label=\"train_loss\")\n",
    "    plt.plot(hist[\"epoch\"],hist[\"val_loss\"],label=\"val_loss\")\n",
    "    \n",
    "    plt.subplot(2,1,2)\n",
    "    plt.xlabel(\"Epoch\")\n",
    "    plt.ylabel(\"Accuracy\")\n",
    "    plt.plot(hist[\"epoch\"],hist[\"acc\"],label=\"train_acc\")\n",
    "    plt.plot(hist[\"epoch\"],hist[\"val_acc\"],label=\"val_acc\")\n",
    "    \n",
    "    plt.legend()\n",
    "    plt.show()\n",
    "    "
   ]
  },
  {
   "cell_type": "code",
   "execution_count": 7,
   "metadata": {},
   "outputs": [],
   "source": [
    "data_[\"POS_join\"] = [tokenize(pos) for pos in data_[\"POS\"]]\n",
    "data_set = [(row[0],row[1]) for row in data_[[\"POS_join\",\"Rate\"]].values]\n",
    "\n",
    "set_1 = [i for i in data_set if i[1]==1]\n",
    "set_2 = [i for i in data_set if i[1]==2]\n",
    "set_3 = [i for i in data_set if i[1]==3]\n",
    "set_4 = [i for i in data_set if i[1]==4]\n",
    "set_5 = [i for i in data_set if i[1]==5]\n",
    "\n",
    "\n",
    "## 1,2 은 negative / 4,5 positive / 3은애매하니까 제외\n",
    "\n",
    "set_1_ne = [(n,0) for n,j in set_1]\n",
    "set_2_ne = [(n,0) for n,j in set_2]\n",
    "set_4_ne = [(n,1) for n,j in set_4]\n",
    "set_5_ne = [(n,1) for n,j in set_5]\n",
    "\n",
    "data_imbal = []\n",
    "data_imbal.extend(random.sample(set_1_ne,500))\n",
    "data_imbal.extend(random.sample(set_2_ne,500))\n",
    "data_imbal.extend(random.sample(set_4_ne,500))\n",
    "data_imbal.extend(random.sample(set_5_ne,500))"
   ]
  },
  {
   "cell_type": "code",
   "execution_count": 8,
   "metadata": {},
   "outputs": [],
   "source": [
    "tokens_all = [t for d in data_imbal for t in d[0]]\n",
    "tag_only = ['Noun',  'Verb', 'Josa', 'Adjective',\n",
    "             'Adverb', 'Determiner', 'VerbPrefix', \n",
    "            'Modifier',  'Number', \n",
    "            'KoreanParticle', 'Conjunction',  'Eomi']\n",
    "\n",
    "tokens_only = []\n",
    "for i in tokens_all:\n",
    "    try:\n",
    "        word_,pos_ = i.split(\"/\")\n",
    "        if pos_ in tag_only:\n",
    "            tokens_only.append(i)\n",
    "    except:\n",
    "        pass"
   ]
  },
  {
   "cell_type": "code",
   "execution_count": 9,
   "metadata": {},
   "outputs": [
    {
     "data": {
      "text/plain": [
       "6448"
      ]
     },
     "execution_count": 9,
     "metadata": {},
     "output_type": "execute_result"
    }
   ],
   "source": [
    "text = nltk.Text(tokens_only,name=\"NMSC\")\n",
    "len(text.vocab().most_common())"
   ]
  },
  {
   "cell_type": "code",
   "execution_count": 10,
   "metadata": {},
   "outputs": [],
   "source": [
    "topn = 6631\n",
    "\n",
    "text.vocab().most_common(topn)\n",
    "selected = [f[0] for f in text.vocab().most_common(topn)]"
   ]
  },
  {
   "cell_type": "code",
   "execution_count": 11,
   "metadata": {},
   "outputs": [
    {
     "data": {
      "text/plain": [
       "6448"
      ]
     },
     "execution_count": 11,
     "metadata": {},
     "output_type": "execute_result"
    }
   ],
   "source": [
    "topn = len(selected)\n",
    "len(selected)"
   ]
  },
  {
   "cell_type": "markdown",
   "metadata": {},
   "source": [
    "# ANN"
   ]
  },
  {
   "cell_type": "code",
   "execution_count": 25,
   "metadata": {},
   "outputs": [],
   "source": [
    "train, test = train_test_split(data_imbal, test_size=0.2)\n",
    "train_x = [term_frequency(d) for d, _ in train]\n",
    "test_x = [term_frequency(d) for d, _ in test]\n",
    "train_y = [c for _, c in train]\n",
    "test_y = [c for _, c in test]\n",
    "x_train = np.asarray(train_x).astype('float32')\n",
    "x_test = np.asarray(test_x).astype('float32')\n",
    "y_train = np.asarray(train_y).astype('float32')\n",
    "y_test = np.asarray(test_y).astype('float32')"
   ]
  },
  {
   "cell_type": "code",
   "execution_count": 26,
   "metadata": {
    "scrolled": true
   },
   "outputs": [
    {
     "name": "stdout",
     "output_type": "stream",
     "text": [
      "Epoch 1/15\n",
      "3/3 [==============================] - 0s 112ms/step - loss: 0.6815 - acc: 0.6118 - val_loss: 0.6667 - val_acc: 0.6438\n",
      "Epoch 2/15\n",
      "3/3 [==============================] - 0s 13ms/step - loss: 0.6166 - acc: 0.8611 - val_loss: 0.6268 - val_acc: 0.7625\n",
      "Epoch 3/15\n",
      "3/3 [==============================] - 0s 12ms/step - loss: 0.5390 - acc: 0.9229 - val_loss: 0.5904 - val_acc: 0.7875\n",
      "Epoch 4/15\n",
      "3/3 [==============================] - 0s 13ms/step - loss: 0.4596 - acc: 0.9243 - val_loss: 0.5486 - val_acc: 0.7812\n",
      "Epoch 5/15\n",
      "3/3 [==============================] - 0s 13ms/step - loss: 0.3890 - acc: 0.9347 - val_loss: 0.5323 - val_acc: 0.7812\n",
      "Epoch 6/15\n",
      "3/3 [==============================] - 0s 13ms/step - loss: 0.3292 - acc: 0.9507 - val_loss: 0.4976 - val_acc: 0.7937\n",
      "Epoch 7/15\n",
      "3/3 [==============================] - 0s 15ms/step - loss: 0.2809 - acc: 0.9542 - val_loss: 0.4909 - val_acc: 0.7812\n",
      "Epoch 8/15\n",
      "3/3 [==============================] - 0s 18ms/step - loss: 0.2407 - acc: 0.9639 - val_loss: 0.4778 - val_acc: 0.7875\n",
      "Epoch 9/15\n",
      "3/3 [==============================] - 0s 15ms/step - loss: 0.2079 - acc: 0.9667 - val_loss: 0.4811 - val_acc: 0.7937\n",
      "Epoch 10/15\n",
      "3/3 [==============================] - 0s 15ms/step - loss: 0.1801 - acc: 0.9688 - val_loss: 0.4826 - val_acc: 0.7937\n",
      "Epoch 11/15\n",
      "3/3 [==============================] - 0s 13ms/step - loss: 0.1572 - acc: 0.9715 - val_loss: 0.4785 - val_acc: 0.7812\n",
      "Epoch 12/15\n",
      "3/3 [==============================] - 0s 14ms/step - loss: 0.1367 - acc: 0.9743 - val_loss: 0.4847 - val_acc: 0.8000\n",
      "Epoch 13/15\n",
      "3/3 [==============================] - 0s 10ms/step - loss: 0.1200 - acc: 0.9778 - val_loss: 0.4854 - val_acc: 0.8000\n",
      "Epoch 14/15\n",
      "3/3 [==============================] - 0s 10ms/step - loss: 0.1056 - acc: 0.9819 - val_loss: 0.4929 - val_acc: 0.7875\n",
      "Epoch 15/15\n",
      "3/3 [==============================] - 0s 11ms/step - loss: 0.0929 - acc: 0.9833 - val_loss: 0.5082 - val_acc: 0.7875\n"
     ]
    }
   ],
   "source": [
    "#레이어 구성\n",
    "model = tf.keras.models.Sequential([\n",
    "    tf.keras.layers.Dense(64, activation='relu', input_shape=(6589,)),\n",
    "    tf.keras.layers.Dense(64, activation='relu'),\n",
    "    tf.keras.layers.Dense(1, activation='sigmoid')\n",
    "])\n",
    "model.compile(optimizer=tf.keras.optimizers.RMSprop(lr=0.001),\n",
    "    loss=\"binary_crossentropy\",\n",
    "    metrics=[\"acc\"]\n",
    "    )\n",
    "\n",
    "history = model.fit(x_train, y_train, epochs=15,validation_split=0.1 ,batch_size=512)\n",
    "hist = pd.DataFrame(history.history)\n",
    "hist[\"epoch\"] = history.epoch"
   ]
  },
  {
   "cell_type": "code",
   "execution_count": 27,
   "metadata": {},
   "outputs": [
    {
     "data": {
      "text/html": [
       "<div>\n",
       "<style scoped>\n",
       "    .dataframe tbody tr th:only-of-type {\n",
       "        vertical-align: middle;\n",
       "    }\n",
       "\n",
       "    .dataframe tbody tr th {\n",
       "        vertical-align: top;\n",
       "    }\n",
       "\n",
       "    .dataframe thead th {\n",
       "        text-align: right;\n",
       "    }\n",
       "</style>\n",
       "<table border=\"1\" class=\"dataframe\">\n",
       "  <thead>\n",
       "    <tr style=\"text-align: right;\">\n",
       "      <th></th>\n",
       "      <th>loss</th>\n",
       "      <th>acc</th>\n",
       "      <th>val_loss</th>\n",
       "      <th>val_acc</th>\n",
       "      <th>epoch</th>\n",
       "    </tr>\n",
       "  </thead>\n",
       "  <tbody>\n",
       "    <tr>\n",
       "      <th>10</th>\n",
       "      <td>0.157170</td>\n",
       "      <td>0.971528</td>\n",
       "      <td>0.478490</td>\n",
       "      <td>0.78125</td>\n",
       "      <td>10</td>\n",
       "    </tr>\n",
       "    <tr>\n",
       "      <th>11</th>\n",
       "      <td>0.136746</td>\n",
       "      <td>0.974306</td>\n",
       "      <td>0.484692</td>\n",
       "      <td>0.80000</td>\n",
       "      <td>11</td>\n",
       "    </tr>\n",
       "    <tr>\n",
       "      <th>12</th>\n",
       "      <td>0.119993</td>\n",
       "      <td>0.977778</td>\n",
       "      <td>0.485352</td>\n",
       "      <td>0.80000</td>\n",
       "      <td>12</td>\n",
       "    </tr>\n",
       "    <tr>\n",
       "      <th>13</th>\n",
       "      <td>0.105642</td>\n",
       "      <td>0.981944</td>\n",
       "      <td>0.492920</td>\n",
       "      <td>0.78750</td>\n",
       "      <td>13</td>\n",
       "    </tr>\n",
       "    <tr>\n",
       "      <th>14</th>\n",
       "      <td>0.092934</td>\n",
       "      <td>0.983333</td>\n",
       "      <td>0.508237</td>\n",
       "      <td>0.78750</td>\n",
       "      <td>14</td>\n",
       "    </tr>\n",
       "  </tbody>\n",
       "</table>\n",
       "</div>"
      ],
      "text/plain": [
       "        loss       acc  val_loss  val_acc  epoch\n",
       "10  0.157170  0.971528  0.478490  0.78125     10\n",
       "11  0.136746  0.974306  0.484692  0.80000     11\n",
       "12  0.119993  0.977778  0.485352  0.80000     12\n",
       "13  0.105642  0.981944  0.492920  0.78750     13\n",
       "14  0.092934  0.983333  0.508237  0.78750     14"
      ]
     },
     "execution_count": 27,
     "metadata": {},
     "output_type": "execute_result"
    }
   ],
   "source": [
    "hist.tail()"
   ]
  },
  {
   "cell_type": "code",
   "execution_count": 28,
   "metadata": {},
   "outputs": [
    {
     "data": {
      "image/png": "[encoded data removed]",
      "text/plain": [
       "<Figure size 432x288 with 2 Axes>"
      ]
     },
     "metadata": {
      "needs_background": "light"
     },
     "output_type": "display_data"
    }
   ],
   "source": [
    "plot_history(history)"
   ]
  },
  {
   "cell_type": "code",
   "execution_count": 29,
   "metadata": {},
   "outputs": [
    {
     "name": "stdout",
     "output_type": "stream",
     "text": [
      "13/13 [==============================] - 0s 921us/step - loss: 0.4175 - acc: 0.8200\n"
     ]
    }
   ],
   "source": [
    "results = model.evaluate(x_test, y_test)"
   ]
  },
  {
   "cell_type": "code",
   "execution_count": 96,
   "metadata": {},
   "outputs": [
    {
     "data": {
      "text/plain": [
       "0.9034187197685242"
      ]
     },
     "execution_count": 96,
     "metadata": {},
     "output_type": "execute_result"
    }
   ],
   "source": [
    "review = \"가성비도 좋고 생각보다 피부에 좋아요\"\n",
    "pos_rev = twitter.pos(review)\n",
    "token = tokenize(pos_rev)\n",
    "tf1 = term_frequency(token)\n",
    "data = np.expand_dims(np.asarray(tf1).astype('float32'), axis=0)\n",
    "float(model.predict(data))"
   ]
  },
  {
   "cell_type": "code",
   "execution_count": 107,
   "metadata": {},
   "outputs": [
    {
     "data": {
      "text/plain": [
       "0.4508243501186371"
      ]
     },
     "execution_count": 107,
     "metadata": {},
     "output_type": "execute_result"
    }
   ],
   "source": [
    "review = \"마음먹고 한번 구입해 보았는데, 생각 보다 질도 않 좋고, 별로네요 최악\"\n",
    "pos_rev = twitter.pos(review)\n",
    "token = tokenize(pos_rev)\n",
    "tf1 = term_frequency(token)\n",
    "data = np.expand_dims(np.asarray(tf1).astype('float32'), axis=0)\n",
    "float(model.predict(data))"
   ]
  },
  {
   "cell_type": "code",
   "execution_count": 106,
   "metadata": {},
   "outputs": [
    {
     "data": {
      "text/plain": [
       "0.5464159250259399"
      ]
     },
     "execution_count": 106,
     "metadata": {},
     "output_type": "execute_result"
    }
   ],
   "source": [
    "review = \"마음먹고 한번 구입해 보았는데, 생각 보다 질도 않 좋고, 별로네요 가성비도 최악\"\n",
    "pos_rev = twitter.pos(review)\n",
    "token = tokenize(pos_rev)\n",
    "tf1 = term_frequency(token)\n",
    "data = np.expand_dims(np.asarray(tf1).astype('float32'), axis=0)\n",
    "float(model.predict(data))"
   ]
  },
  {
   "cell_type": "code",
   "execution_count": 33,
   "metadata": {},
   "outputs": [
    {
     "data": {
      "text/plain": [
       "0.7824869751930237"
      ]
     },
     "execution_count": 33,
     "metadata": {},
     "output_type": "execute_result"
    }
   ],
   "source": [
    "review = \"마음먹고 한번 구입해 보았는데, 생각 보다 질도 않 좋고, 별로네요 가성비\"\n",
    "pos_rev = twitter.pos(review)\n",
    "token = tokenize(pos_rev)\n",
    "tf1 = term_frequency(token)\n",
    "data = np.expand_dims(np.asarray(tf1).astype('float32'), axis=0)\n",
    "float(model.predict(data))"
   ]
  },
  {
   "cell_type": "code",
   "execution_count": 34,
   "metadata": {},
   "outputs": [
    {
     "data": {
      "text/plain": [
       "0.7336323261260986"
      ]
     },
     "execution_count": 34,
     "metadata": {},
     "output_type": "execute_result"
    }
   ],
   "source": [
    "review = \"마음먹고 한번 구입해 보았는데, 생각 보다 질도 않 좋고, 별로네요\"\n",
    "pos_rev = twitter.pos(review)\n",
    "token = tokenize(pos_rev)\n",
    "tf1 = term_frequency(token)\n",
    "data = np.expand_dims(np.asarray(tf1).astype('float32'), axis=0)\n",
    "float(model.predict(data))"
   ]
  },
  {
   "cell_type": "code",
   "execution_count": 35,
   "metadata": {},
   "outputs": [
    {
     "data": {
      "text/plain": [
       "0.3510132431983948"
      ]
     },
     "execution_count": 35,
     "metadata": {},
     "output_type": "execute_result"
    }
   ],
   "source": [
    "review = \"그닥.. 별로인듯해요\"\n",
    "pos_rev = twitter.pos(review)\n",
    "token = tokenize(pos_rev)\n",
    "tf1 = term_frequency(token)\n",
    "data = np.expand_dims(np.asarray(tf1).astype('float32'), axis=0)\n",
    "float(model.predict(data))"
   ]
  },
  {
   "cell_type": "code",
   "execution_count": null,
   "metadata": {},
   "outputs": [],
   "source": []
  },
  {
   "cell_type": "code",
   "execution_count": null,
   "metadata": {},
   "outputs": [],
   "source": []
  },
  {
   "cell_type": "markdown",
   "metadata": {},
   "source": [
    "## Extraction"
   ]
  },
  {
   "cell_type": "code",
   "execution_count": 136,
   "metadata": {},
   "outputs": [],
   "source": [
    "voca_ad = pd.read_excel(r\"C:\\Users\\Samsung\\Desktop\\Project\\이희정 교수님\\project\\sentiment analysis\\voca\\try_1\\total_ad.xlsx\")\n",
    "voca_adj = pd.read_excel(r\"C:\\Users\\Samsung\\Desktop\\Project\\이희정 교수님\\project\\sentiment analysis\\voca\\try_1\\total_adj.xlsx\")\n",
    "voca_n = pd.read_excel(r\"C:\\Users\\Samsung\\Desktop\\Project\\이희정 교수님\\project\\sentiment analysis\\voca\\try_1\\total_n.xlsx\")\n",
    "voca_v = pd.read_excel(r\"C:\\Users\\Samsung\\Desktop\\Project\\이희정 교수님\\project\\sentiment analysis\\voca\\try_1\\total_v.xlsx\")\n",
    "\n",
    "voca_all = pd.read_excel(r\"C:\\Users\\Samsung\\Desktop\\Project\\이희정 교수님\\project\\data\\result\\result_long\\most_long\\most_tf_idf\\TFIDF_스킨 케어_Adj.xlsx\")\n",
    "voca_all2 = pd.read_excel(r\"C:\\Users\\Samsung\\Desktop\\Project\\이희정 교수님\\project\\data\\result\\result_long\\most_long\\most_tf_idf\\TFIDF_스킨 케어_Noun.xlsx\")\n",
    "voca_all3 = pd.read_excel(r\"C:\\Users\\Samsung\\Desktop\\Project\\이희정 교수님\\project\\data\\result\\result_long\\most_long\\most_tf_idf\\TFIDF_스킨 케어_Adverb.xlsx\")\n",
    "voca_all4 = pd.read_excel(r\"C:\\Users\\Samsung\\Desktop\\Project\\이희정 교수님\\project\\data\\result\\result_long\\most_long\\most_tf_idf\\TFIDF_스킨 케어_Verb.xlsx\")"
   ]
  },
  {
   "cell_type": "code",
   "execution_count": 137,
   "metadata": {},
   "outputs": [],
   "source": [
    "voca_nadj = pd.concat([voca_n,voca_adj]).reset_index()[\"word\"]\n",
    "Voca_ = pd.concat([voca_nadj,voca_all4[\"word\"],voca_all3[\"word\"],voca_all2[\"word\"],voca_all[\"word\"]]).reset_index()[\"word\"]\n",
    "Voca_ = set(Voca_)"
   ]
  },
  {
   "cell_type": "code",
   "execution_count": 138,
   "metadata": {},
   "outputs": [],
   "source": [
    "def tester(review):\n",
    "    pos_rev = kkma.pos(review)\n",
    "    token = tokenize(pos_rev)\n",
    "    token_ = [w.split(\"/\")[0] for w in token]\n",
    "    tf1 = term_frequency(token_)\n",
    "    data = np.expand_dims(np.asarray(tf1).astype('float32'), axis=0)\n",
    "    score = float(model.predict(data))\n",
    "    ta_ = [word for word in Voca_]\n",
    "    extrac_ = [W for W in token_ if W in ta_]\n",
    "    return score,extrac_"
   ]
  },
  {
   "cell_type": "code",
   "execution_count": null,
   "metadata": {},
   "outputs": [],
   "source": []
  },
  {
   "cell_type": "code",
   "execution_count": 139,
   "metadata": {},
   "outputs": [
    {
     "data": {
      "text/plain": [
       "(0.5730999708175659, ['가', '아', '좋', '고', '생각', '보다', '피부', '에', '좋'])"
      ]
     },
     "execution_count": 139,
     "metadata": {},
     "output_type": "execute_result"
    }
   ],
   "source": [
    "tester(\"가성비도 좋고 생각보다 피부에 좋아요\")"
   ]
  },
  {
   "cell_type": "code",
   "execution_count": 140,
   "metadata": {},
   "outputs": [
    {
     "data": {
      "text/plain": [
       "(0.5730999708175659,\n",
       " ['고', '한번', '구입', '하', '어', '보', '생각', '보다', '않', '좋', '고', '별로', '요'])"
      ]
     },
     "execution_count": 140,
     "metadata": {},
     "output_type": "execute_result"
    }
   ],
   "source": [
    "tester(\"마음먹고 한번 구입해 보았는데, 생각 보다 질도 않 좋고, 별로네요 최악\")"
   ]
  },
  {
   "cell_type": "code",
   "execution_count": null,
   "metadata": {},
   "outputs": [],
   "source": []
  },
  {
   "cell_type": "code",
   "execution_count": null,
   "metadata": {},
   "outputs": [],
   "source": []
  },
  {
   "cell_type": "markdown",
   "metadata": {},
   "source": [
    "# RNN 모델로 "
   ]
  },
  {
   "cell_type": "code",
   "execution_count": 110,
   "metadata": {},
   "outputs": [],
   "source": [
    "def split_(List):\n",
    "    List2 = []\n",
    "    for li in List:\n",
    "        List2.append(li.split(\"/\")[0])\n",
    "    return List2"
   ]
  },
  {
   "cell_type": "code",
   "execution_count": 111,
   "metadata": {},
   "outputs": [],
   "source": [
    "x_  = [split_(d) for d,_ in data_imbal]\n",
    "y_ = [c for _,c in data_imbal]"
   ]
  },
  {
   "cell_type": "code",
   "execution_count": 112,
   "metadata": {
    "scrolled": true
   },
   "outputs": [],
   "source": [
    "# padding\n",
    "max_len = max([len(x) for x in x_])\n",
    "padding_lambda = lambda x: x + [\"\"]*(max_len-len(x))\n",
    "x_padding =  list(map(padding_lambda,x_))"
   ]
  },
  {
   "cell_type": "code",
   "execution_count": 113,
   "metadata": {},
   "outputs": [],
   "source": [
    "voca_li = list(Counter([i.split(\"/\")[0] for i in tokens_only]).keys())\n",
    "data_const = tf.constant(x_padding)"
   ]
  },
  {
   "cell_type": "code",
   "execution_count": 114,
   "metadata": {},
   "outputs": [
    {
     "data": {
      "text/plain": [
       "6456"
      ]
     },
     "execution_count": 114,
     "metadata": {},
     "output_type": "execute_result"
    }
   ],
   "source": [
    "len(voca_li)"
   ]
  },
  {
   "cell_type": "code",
   "execution_count": 115,
   "metadata": {
    "scrolled": true
   },
   "outputs": [],
   "source": [
    "encoder = preprocessing.StringLookup(vocabulary=voca_li)\n",
    "x_vector = encoder(data_const)"
   ]
  },
  {
   "cell_type": "code",
   "execution_count": 116,
   "metadata": {},
   "outputs": [
    {
     "data": {
      "text/plain": [
       "<tf.Tensor: shape=(2000, 415), dtype=int64, numpy=\n",
       "array([[   2,    3,    4, ...,    0,    0,    0],\n",
       "       [  24,   25,   26, ...,    0,    0,    0],\n",
       "       [  40,   41,    1, ...,    0,    0,    0],\n",
       "       ...,\n",
       "       [ 263,   51,   40, ...,    0,    0,    0],\n",
       "       [1643, 6449, 6450, ...,    0,    0,    0],\n",
       "       [6457,  211,   73, ...,    0,    0,    0]], dtype=int64)>"
      ]
     },
     "execution_count": 116,
     "metadata": {},
     "output_type": "execute_result"
    }
   ],
   "source": [
    "x_vector"
   ]
  },
  {
   "cell_type": "code",
   "execution_count": 117,
   "metadata": {},
   "outputs": [],
   "source": [
    "# strion 안으로 변환후에 다시 써보자 \n",
    "x_string  = [\" , \".join(i) for i in x_]\n",
    "encoder = tf.keras.layers.experimental.preprocessing.TextVectorization()\n",
    "encoder.adapt(x_string)\n",
    "x_vector_2 = encoder(x_string)"
   ]
  },
  {
   "cell_type": "code",
   "execution_count": 118,
   "metadata": {},
   "outputs": [
    {
     "data": {
      "text/plain": [
       "'한번 , 도 , 화장품 , 발라 , 서 , 얼굴 , 이 , 뒤집 , 힌 , 적 , 없는데 , , , 유일하게 , 한번 , 바르고 , 얼굴 , 완전 , 뒤집힌 , 화장품 , . , 좁쌀 , 만 , 한 , 것 , 이 , 온 , 얼굴 , 에 , 뒤집어짐 , . , 절대 , 비추 , !!'"
      ]
     },
     "execution_count": 118,
     "metadata": {},
     "output_type": "execute_result"
    }
   ],
   "source": [
    "x_string[0]"
   ]
  },
  {
   "cell_type": "code",
   "execution_count": 119,
   "metadata": {},
   "outputs": [
    {
     "data": {
      "text/plain": [
       "['', '[UNK]', '이', '에', '가', '도', '사용', '은', '잘', '는']"
      ]
     },
     "execution_count": 119,
     "metadata": {},
     "output_type": "execute_result"
    }
   ],
   "source": [
    "encoder.get_vocabulary()[0:10]"
   ]
  },
  {
   "cell_type": "code",
   "execution_count": 120,
   "metadata": {},
   "outputs": [
    {
     "data": {
      "text/plain": [
       "<tf.Tensor: shape=(2000, 387), dtype=int64, numpy=\n",
       "array([[  72,    5,  120, ...,    0,    0,    0],\n",
       "       [  43,  651,  240, ...,    0,    0,    0],\n",
       "       [   8,  196,   49, ...,    0,    0,    0],\n",
       "       ...,\n",
       "       [ 128,    4,    8, ...,    0,    0,    0],\n",
       "       [2181, 3728, 6107, ...,    0,    0,    0],\n",
       "       [5394,   31,    6, ...,    0,    0,    0]], dtype=int64)>"
      ]
     },
     "execution_count": 120,
     "metadata": {},
     "output_type": "execute_result"
    }
   ],
   "source": [
    "x_vector_2"
   ]
  },
  {
   "cell_type": "markdown",
   "metadata": {},
   "source": [
    "### Bidirectional RNN"
   ]
  },
  {
   "attachments": {
    "image.png": {
     "image/png": "[encoded data removed]"
    }
   },
   "cell_type": "markdown",
   "metadata": {},
   "source": [
    "![image.png](attachment:image.png)"
   ]
  },
  {
   "cell_type": "code",
   "execution_count": 121,
   "metadata": {},
   "outputs": [
    {
     "data": {
      "text/plain": [
       "6534"
      ]
     },
     "execution_count": 121,
     "metadata": {},
     "output_type": "execute_result"
    }
   ],
   "source": [
    "input_len =  len(encoder.get_vocabulary())\n",
    "input_len"
   ]
  },
  {
   "cell_type": "code",
   "execution_count": null,
   "metadata": {},
   "outputs": [],
   "source": []
  },
  {
   "cell_type": "code",
   "execution_count": 122,
   "metadata": {},
   "outputs": [],
   "source": [
    "def build_model():\n",
    "    model = tf.keras.Sequential([\n",
    "        encoder,\n",
    "        tf.keras.layers.Embedding(\n",
    "            input_dim=len(encoder.get_vocabulary()),\n",
    "            output_dim=64,\n",
    "            # Use masking to handle the variable sequence lengths\n",
    "            mask_zero=True),\n",
    "        tf.keras.layers.Bidirectional(tf.keras.layers.LSTM(64)),\n",
    "        tf.keras.layers.Dense(64, activation='relu'),\n",
    "        tf.keras.layers.Dense(1)\n",
    "    ])\n",
    "    \n",
    "    model.compile(loss=tf.keras.losses.BinaryCrossentropy(from_logits=True),\n",
    "        optimizer=tf.keras.optimizers.Adam(1e-4),\n",
    "        metrics=['accuracy'])\n",
    "\n",
    "    return model"
   ]
  },
  {
   "cell_type": "code",
   "execution_count": 123,
   "metadata": {},
   "outputs": [],
   "source": [
    "def build_model2():\n",
    "    model = tf.keras.Sequential(encoder)\n",
    "    #model.add(encoder)\n",
    "    model.add(layers.Embedding(input_dim=len(encoder.get_vocabulary()),output_dim=64,mask_zero=True))\n",
    "    model.add(layers.SimpleRNN(64, return_sequences=False))\n",
    "    model.add(layers.Dense(8,activation=\"softmax\"))\n",
    "    model.add(layers.Dense(1))\n",
    "    \n",
    "    model.compile(loss=tf.keras.losses.BinaryCrossentropy(from_logits=True),\n",
    "        optimizer=tf.keras.optimizers.Adam(1e-4),\n",
    "        metrics=['accuracy'])\n",
    "\n",
    "    return model"
   ]
  },
  {
   "cell_type": "code",
   "execution_count": 124,
   "metadata": {},
   "outputs": [],
   "source": [
    "def build_model3():\n",
    "    model = tf.keras.Sequential([\n",
    "        encoder,\n",
    "        tf.keras.layers.Embedding(\n",
    "            input_dim=len(encoder.get_vocabulary()),\n",
    "            output_dim=64,\n",
    "            # Use masking to handle the variable sequence lengths\n",
    "            mask_zero=True),\n",
    "        tf.keras.layers.SimpleRNN(64),\n",
    "        tf.keras.layers.Dense(64, activation='relu'),\n",
    "        tf.keras.layers.Dense(1)\n",
    "    ])\n",
    "    \n",
    "    model.compile(loss=tf.keras.losses.BinaryCrossentropy(from_logits=True),\n",
    "        optimizer=tf.keras.optimizers.Adam(1e-4),\n",
    "        metrics=['accuracy'])\n",
    "\n",
    "    return model"
   ]
  },
  {
   "cell_type": "code",
   "execution_count": 125,
   "metadata": {
    "scrolled": true
   },
   "outputs": [],
   "source": [
    "model_1 = build_model()"
   ]
  },
  {
   "cell_type": "code",
   "execution_count": null,
   "metadata": {},
   "outputs": [],
   "source": []
  },
  {
   "cell_type": "code",
   "execution_count": 126,
   "metadata": {},
   "outputs": [],
   "source": [
    "data_vector = []\n",
    "for i in range(len(x_string)):\n",
    "    data_vector.append((x_string[i],y_[i]))"
   ]
  },
  {
   "cell_type": "code",
   "execution_count": 127,
   "metadata": {},
   "outputs": [],
   "source": [
    "train, test = train_test_split(data_vector, test_size=0.2)\n",
    "\n",
    "\n",
    "train_x = [d for d, _ in train]\n",
    "test_x = [d for d, _ in test]\n",
    "train_y = [c for _, c in train]\n",
    "test_y = [c for _, c in test]\n",
    "\n",
    "y_train = np.asarray(train_y).astype('float32')\n",
    "y_test = np.asarray(test_y).astype('float32')"
   ]
  },
  {
   "cell_type": "code",
   "execution_count": 128,
   "metadata": {
    "scrolled": true
   },
   "outputs": [
    {
     "name": "stdout",
     "output_type": "stream",
     "text": [
      "Epoch 1/10\n",
      "50/50 [==============================] - 3s 54ms/step - loss: 0.6928 - accuracy: 0.5019\n",
      "Epoch 2/10\n",
      "50/50 [==============================] - 3s 53ms/step - loss: 0.6907 - accuracy: 0.5019\n",
      "Epoch 3/10\n",
      "50/50 [==============================] - 3s 54ms/step - loss: 0.6861 - accuracy: 0.5019\n",
      "Epoch 4/10\n",
      "50/50 [==============================] - 3s 60ms/step - loss: 0.6619 - accuracy: 0.5019\n",
      "Epoch 5/10\n",
      "50/50 [==============================] - 3s 56ms/step - loss: 0.5196 - accuracy: 0.6044\n",
      "Epoch 6/10\n",
      "50/50 [==============================] - 3s 55ms/step - loss: 0.3916 - accuracy: 0.7869\n",
      "Epoch 7/10\n",
      "50/50 [==============================] - 3s 52ms/step - loss: 0.3369 - accuracy: 0.8450\n",
      "Epoch 8/10\n",
      "50/50 [==============================] - 3s 54ms/step - loss: 0.2825 - accuracy: 0.8819\n",
      "Epoch 9/10\n",
      "50/50 [==============================] - 3s 61ms/step - loss: 0.2524 - accuracy: 0.9050\n",
      "Epoch 10/10\n",
      "50/50 [==============================] - 3s 51ms/step - loss: 0.2286 - accuracy: 0.9294 0s - loss: 0.224\n"
     ]
    }
   ],
   "source": [
    "history = model_1.fit(train_x, train_y,epochs=10)\n",
    "hist = pd.DataFrame(history.history)\n",
    "hist[\"epoch\"] = history.epoch"
   ]
  },
  {
   "cell_type": "markdown",
   "metadata": {},
   "source": [
    "history = model.fit(train_dataset, epochs=10,\n",
    "                    validation_data=test_dataset, \n",
    "                    validation_steps=30)"
   ]
  },
  {
   "cell_type": "code",
   "execution_count": 129,
   "metadata": {},
   "outputs": [
    {
     "name": "stdout",
     "output_type": "stream",
     "text": [
      "13/13 [==============================] - 0s 12ms/step - loss: 0.7166 - accuracy: 0.7775\n"
     ]
    }
   ],
   "source": [
    "test_loss, test_acc = model_1.evaluate(test_x,test_y)"
   ]
  },
  {
   "cell_type": "code",
   "execution_count": 133,
   "metadata": {},
   "outputs": [
    {
     "name": "stdout",
     "output_type": "stream",
     "text": [
      "단 , 품 , 으로 , 사서 , 사용 , 했는데 , 순하고 , 조아서 , . , \r",
      " , 방송 , 기다리고 , 있었어요 , ~\n"
     ]
    },
    {
     "data": {
      "text/plain": [
       "array([[1.1976914]], dtype=float32)"
      ]
     },
     "execution_count": 133,
     "metadata": {},
     "output_type": "execute_result"
    }
   ],
   "source": [
    "i = 0 \n",
    "print(test_x[i])\n",
    "model_1.predict(np.array([test_x[i]]))"
   ]
  },
  {
   "cell_type": "code",
   "execution_count": 135,
   "metadata": {},
   "outputs": [
    {
     "name": "stdout",
     "output_type": "stream",
     "text": [
      "스킨 , 로션 , 흡수 , 도 , 잘 , 되고 , 좋아요 , 행여 , \r",
      "  , 색조화 , 장할 , 때 , 밀릴까봐 , 걱정 , 했는데 , 밀리지도 , 않고 , 좋아요 , ㅡ\n"
     ]
    },
    {
     "data": {
      "text/plain": [
       "array([[4.372138]], dtype=float32)"
      ]
     },
     "execution_count": 135,
     "metadata": {},
     "output_type": "execute_result"
    }
   ],
   "source": [
    "i = 2 \n",
    "print(test_x[i])\n",
    "model_1.predict(np.array([test_x[i]]))"
   ]
  },
  {
   "cell_type": "code",
   "execution_count": 303,
   "metadata": {},
   "outputs": [
    {
     "data": {
      "text/plain": [
       "array([[-1.3249133]], dtype=float32)"
      ]
     },
     "execution_count": 303,
     "metadata": {},
     "output_type": "execute_result"
    }
   ],
   "source": [
    "sample_text = twitter.pos('생각보다 피부에도 좋지않고,  최악인 것 같아요. 비추천해요')\n",
    "s_t = [w[0] for w in sample_text]\n",
    "test_string = \" , \".join(s_t)\n",
    "predictions = model_1.predict(np.array([test_string]))\n",
    "predictions"
   ]
  },
  {
   "cell_type": "code",
   "execution_count": 295,
   "metadata": {},
   "outputs": [
    {
     "data": {
      "text/plain": [
       "array([[0.5818152]], dtype=float32)"
      ]
     },
     "execution_count": 295,
     "metadata": {},
     "output_type": "execute_result"
    }
   ],
   "source": [
    "sample_text = twitter.pos('정말 좋은 것 같아요')\n",
    "s_t = [w[0] for w in sample_text]\n",
    "test_string = \" , \".join(s_t)\n",
    "predictions = model_1.predict(np.array([test_string]))\n",
    "predictions"
   ]
  },
  {
   "cell_type": "code",
   "execution_count": 304,
   "metadata": {},
   "outputs": [
    {
     "name": "stdout",
     "output_type": "stream",
     "text": [
      "[[0.78925055]]\n"
     ]
    }
   ],
   "source": [
    "sample_text = twitter.pos('정말 추천해요 피부에도 가성비도 좋은 것 같아요')\n",
    "s_t = [w[0] for w in sample_text]\n",
    "test_string = \" , \".join(s_t)\n",
    "predictions = model_1.predict(np.array([test_string]))\n",
    "print(predictions)"
   ]
  },
  {
   "cell_type": "code",
   "execution_count": 246,
   "metadata": {
    "scrolled": true
   },
   "outputs": [],
   "source": [
    "model = build_model3()"
   ]
  },
  {
   "cell_type": "code",
   "execution_count": null,
   "metadata": {},
   "outputs": [],
   "source": []
  },
  {
   "cell_type": "code",
   "execution_count": 247,
   "metadata": {},
   "outputs": [],
   "source": [
    "data_vector = []\n",
    "for i in range(len(x_string)):\n",
    "    data_vector.append((x_string[i],y_[i]))"
   ]
  },
  {
   "cell_type": "code",
   "execution_count": 248,
   "metadata": {},
   "outputs": [],
   "source": [
    "train, test = train_test_split(data_vector, test_size=0.2)\n",
    "\n",
    "\n",
    "train_x = [d for d, _ in train]\n",
    "test_x = [d for d, _ in test]\n",
    "train_y = [c for _, c in train]\n",
    "test_y = [c for _, c in test]\n",
    "\n",
    "y_train = np.asarray(train_y).astype('float32')\n",
    "y_test = np.asarray(test_y).astype('float32')"
   ]
  },
  {
   "cell_type": "code",
   "execution_count": 249,
   "metadata": {
    "scrolled": true
   },
   "outputs": [
    {
     "name": "stdout",
     "output_type": "stream",
     "text": [
      "Epoch 1/10\n",
      "50/50 [==============================] - 1s 21ms/step - loss: 0.6895 - accuracy: 0.4963\n",
      "Epoch 2/10\n",
      "50/50 [==============================] - 1s 19ms/step - loss: 0.6625 - accuracy: 0.4963\n",
      "Epoch 3/10\n",
      "50/50 [==============================] - 1s 19ms/step - loss: 0.6261 - accuracy: 0.4975\n",
      "Epoch 4/10\n",
      "50/50 [==============================] - 1s 20ms/step - loss: 0.5749 - accuracy: 0.5456\n",
      "Epoch 5/10\n",
      "50/50 [==============================] - 1s 20ms/step - loss: 0.5246 - accuracy: 0.6244\n",
      "Epoch 6/10\n",
      "50/50 [==============================] - 1s 20ms/step - loss: 0.4598 - accuracy: 0.6956\n",
      "Epoch 7/10\n",
      "50/50 [==============================] - 1s 20ms/step - loss: 0.4119 - accuracy: 0.7462\n",
      "Epoch 8/10\n",
      "50/50 [==============================] - 1s 21ms/step - loss: 0.3546 - accuracy: 0.8056\n",
      "Epoch 9/10\n",
      "50/50 [==============================] - 1s 20ms/step - loss: 0.3010 - accuracy: 0.8656\n",
      "Epoch 10/10\n",
      "50/50 [==============================] - 1s 20ms/step - loss: 0.2630 - accuracy: 0.9062\n"
     ]
    }
   ],
   "source": [
    "history = model.fit(train_x, train_y,epochs=10)\n",
    "hist = pd.DataFrame(history.history)\n",
    "hist[\"epoch\"] = history.epoch"
   ]
  },
  {
   "cell_type": "markdown",
   "metadata": {},
   "source": [
    "history = model.fit(train_dataset, epochs=10,\n",
    "                    validation_data=test_dataset, \n",
    "                    validation_steps=30)"
   ]
  },
  {
   "cell_type": "code",
   "execution_count": 250,
   "metadata": {},
   "outputs": [
    {
     "name": "stdout",
     "output_type": "stream",
     "text": [
      "13/13 [==============================] - 0s 7ms/step - loss: 0.5726 - accuracy: 0.7350\n"
     ]
    }
   ],
   "source": [
    "test_loss, test_acc = model.evaluate(test_x,test_y)"
   ]
  },
  {
   "cell_type": "code",
   "execution_count": 251,
   "metadata": {},
   "outputs": [
    {
     "data": {
      "text/plain": [
       "array([[1.2017783]], dtype=float32)"
      ]
     },
     "execution_count": 251,
     "metadata": {},
     "output_type": "execute_result"
    }
   ],
   "source": [
    "sample_text = ('생각보다 피부에도 좋지않고,  최악인 것 같아요')\n",
    "predictions = model.predict(np.array([sample_text]))\n",
    "predictions"
   ]
  },
  {
   "cell_type": "code",
   "execution_count": 252,
   "metadata": {},
   "outputs": [
    {
     "data": {
      "text/plain": [
       "array([[0.71874285]], dtype=float32)"
      ]
     },
     "execution_count": 252,
     "metadata": {},
     "output_type": "execute_result"
    }
   ],
   "source": [
    "sample_text = ('정말 좋은 것 같아요')\n",
    "predictions = model.predict(np.array([sample_text]))\n",
    "predictions"
   ]
  },
  {
   "cell_type": "code",
   "execution_count": null,
   "metadata": {},
   "outputs": [],
   "source": [
    "x_string"
   ]
  },
  {
   "cell_type": "code",
   "execution_count": null,
   "metadata": {},
   "outputs": [],
   "source": []
  },
  {
   "cell_type": "markdown",
   "metadata": {},
   "source": [
    "## text 길이 문제"
   ]
  },
  {
   "cell_type": "code",
   "execution_count": 310,
   "metadata": {
    "scrolled": true
   },
   "outputs": [
    {
     "data": {
      "text/plain": [
       "(array([161., 464., 288., 213., 143., 143., 106., 103.,  51.,  34.,  48.,\n",
       "         33.,  26.,  28.,  20.,  16.,  11.,   8.,   2.,   6.,  15.,  13.,\n",
       "         19.,   3.,   4.,   3.,   3.,   1.,   5.,   4.,   0.,   0.,   0.,\n",
       "          2.,   1.,   0.,   0.,   8.,   1.,   2.,   0.,   0.,   0.,   0.,\n",
       "          0.,   3.,   0.,   3.,   0.,   0.,   0.,   0.,   0.,   0.,   0.,\n",
       "          0.,   0.,   0.,   3.,   0.,   0.,   0.,   0.,   0.,   1.,   0.,\n",
       "          0.,   0.,   0.,   0.,   0.,   0.,   0.,   0.,   0.,   0.,   0.,\n",
       "          0.,   0.,   0.,   0.,   0.,   0.,   0.,   0.,   0.,   0.,   0.,\n",
       "          0.,   0.,   0.,   0.,   0.,   0.,   0.,   0.,   0.,   0.,   0.,\n",
       "          2.]),\n",
       " array([  1.  ,   5.14,   9.28,  13.42,  17.56,  21.7 ,  25.84,  29.98,\n",
       "         34.12,  38.26,  42.4 ,  46.54,  50.68,  54.82,  58.96,  63.1 ,\n",
       "         67.24,  71.38,  75.52,  79.66,  83.8 ,  87.94,  92.08,  96.22,\n",
       "        100.36, 104.5 , 108.64, 112.78, 116.92, 121.06, 125.2 , 129.34,\n",
       "        133.48, 137.62, 141.76, 145.9 , 150.04, 154.18, 158.32, 162.46,\n",
       "        166.6 , 170.74, 174.88, 179.02, 183.16, 187.3 , 191.44, 195.58,\n",
       "        199.72, 203.86, 208.  , 212.14, 216.28, 220.42, 224.56, 228.7 ,\n",
       "        232.84, 236.98, 241.12, 245.26, 249.4 , 253.54, 257.68, 261.82,\n",
       "        265.96, 270.1 , 274.24, 278.38, 282.52, 286.66, 290.8 , 294.94,\n",
       "        299.08, 303.22, 307.36, 311.5 , 315.64, 319.78, 323.92, 328.06,\n",
       "        332.2 , 336.34, 340.48, 344.62, 348.76, 352.9 , 357.04, 361.18,\n",
       "        365.32, 369.46, 373.6 , 377.74, 381.88, 386.02, 390.16, 394.3 ,\n",
       "        398.44, 402.58, 406.72, 410.86, 415.  ]),\n",
       " <a list of 100 Patch objects>)"
      ]
     },
     "execution_count": 310,
     "metadata": {},
     "output_type": "execute_result"
    },
    {
     "data": {
      "image/png": "[encoded data removed]",
      "text/plain": [
       "<Figure size 432x288 with 1 Axes>"
      ]
     },
     "metadata": {
      "needs_background": "light"
     },
     "output_type": "display_data"
    }
   ],
   "source": [
    "x_len = [len(x) for x in x_]\n",
    "plt.hist(x_len,bins=100)"
   ]
  },
  {
   "cell_type": "code",
   "execution_count": null,
   "metadata": {},
   "outputs": [],
   "source": []
  },
  {
   "cell_type": "code",
   "execution_count": null,
   "metadata": {},
   "outputs": [],
   "source": []
  },
  {
   "cell_type": "code",
   "execution_count": null,
   "metadata": {},
   "outputs": [],
   "source": []
  }
 ],
 "metadata": {
  "kernelspec": {
   "display_name": "Python 3",
   "language": "python",
   "name": "python3"
  },
  "language_info": {
   "codemirror_mode": {
    "name": "ipython",
    "version": 3
   },
   "file_extension": ".py",
   "mimetype": "text/x-python",
   "name": "python",
   "nbconvert_exporter": "python",
   "pygments_lexer": "ipython3",
   "version": "3.7.6"
  }
 },
 "nbformat": 4,
 "nbformat_minor": 4
}
