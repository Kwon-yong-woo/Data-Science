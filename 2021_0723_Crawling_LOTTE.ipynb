{
 "cells": [
  {
   "cell_type": "code",
   "execution_count": 1,
   "metadata": {},
   "outputs": [],
   "source": [
    "import numpy as np\n",
    "import pandas as pd\n",
    "import requests \n",
    "from bs4 import BeautifulSoup\n",
    "from fake_useragent import UserAgent\n",
    "\n",
    "from urllib.request import urlopen\n",
    "import urllib\n",
    "\n",
    "from selenium import webdriver\n",
    "import openpyxl\n",
    "import time\n",
    "import math\n",
    "from collections import Counter\n",
    "\n",
    "\n",
    "from tqdm.notebook import tqdm\n"
   ]
  },
  {
   "cell_type": "code",
   "execution_count": 2,
   "metadata": {},
   "outputs": [],
   "source": [
    "def url_split(url):\n",
    "    main_,para_1 = url.split(\"?\")\n",
    "    para_2 = para_1.split(\"&\")\n",
    "    para_3 = [d.replace(\"=\",\":\").split(\":\") for d in para_2 if len(d.replace(\"=\",\":\").split(\":\")) != 1]\n",
    "    params_ = {}\n",
    "    #print(para_3)\n",
    "    for key,value in para_3:\n",
    "        params_[key] = value\n",
    "    return main_,params_"
   ]
  },
  {
   "cell_type": "code",
   "execution_count": 3,
   "metadata": {},
   "outputs": [],
   "source": [
    "ua = UserAgent()"
   ]
  },
  {
   "cell_type": "markdown",
   "metadata": {},
   "source": [
    "# Main Page Crawling"
   ]
  },
  {
   "cell_type": "code",
   "execution_count": 4,
   "metadata": {},
   "outputs": [],
   "source": [
    "def Main_page_head(q_1,p_1):\n",
    "    url_2 = \"http://www.lotteimall.com/search/searchMain.lotte?headerQuery={}&page={}&requery=&searchType=S&cate_depth=1&lvl1_cate_no=&lvl2_cate_no=&lvl3_cate_no=&lvl4_cate_no=&lvl5_cate_no=&color_cd=&brand_no=&brand_sort=RANK%2FDESC&min_price=&max_price=&check_tvShop=&gdas_cnt_yn=&inst_cpn_yn=&dlv_free_yn=&smtp_yn=&stpup_yn=&stap_yn=&stap_cd=&size_cd=&gender_cd=&stpup_entr_contr_no=&dpml_no=&colldisplay=60&lst_sort_cd=GDAS_CNT%2FDESC&cate_depth=1&lvl1_cate_no=&lvl2_cate_no=\"\n",
    "\n",
    "    url_2_2 = url_2.format(q_1,p_1)\n",
    "    html = requests.get(url_2_2).text\n",
    "    soup = BeautifulSoup(html,\"html.parser\")\n",
    "    item_list,name_head,reveiw_count_1 = [],[],[]\n",
    "    for tag in soup.select(\".wrap_unitlist ul li\"):\n",
    "        item_list.append(tag[\"goodsno\"])\n",
    "        name_head.append(tag.find(\"p\",class_=\"title\").text.strip())\n",
    "        reveiw_count_1.append(int(tag.find(\"p\",class_=\"info2\").find(\"span\",class_=\"comment\").text.replace(\"상품평\",\"\").strip().replace(\",\",\"\")))\n",
    "    return pd.DataFrame([name_head,item_list,reveiw_count_1]).T.rename(columns={0:\"Name\",1:\"item_num\",2:\"Review_count\"})"
   ]
  },
  {
   "cell_type": "code",
   "execution_count": 5,
   "metadata": {},
   "outputs": [
    {
     "data": {
      "text/html": [
       "<div>\n",
       "<style scoped>\n",
       "    .dataframe tbody tr th:only-of-type {\n",
       "        vertical-align: middle;\n",
       "    }\n",
       "\n",
       "    .dataframe tbody tr th {\n",
       "        vertical-align: top;\n",
       "    }\n",
       "\n",
       "    .dataframe thead th {\n",
       "        text-align: right;\n",
       "    }\n",
       "</style>\n",
       "<table border=\"1\" class=\"dataframe\">\n",
       "  <thead>\n",
       "    <tr style=\"text-align: right;\">\n",
       "      <th></th>\n",
       "      <th>Name</th>\n",
       "      <th>item_num</th>\n",
       "      <th>Review_count</th>\n",
       "    </tr>\n",
       "  </thead>\n",
       "  <tbody>\n",
       "    <tr>\n",
       "      <th>0</th>\n",
       "      <td>[공식] 슈퍼소닉 드라이어 HD03 아이언핑크</td>\n",
       "      <td>12610778</td>\n",
       "      <td>1166</td>\n",
       "    </tr>\n",
       "    <tr>\n",
       "      <th>1</th>\n",
       "      <td>팸퍼스 베이비드라이 밴드 2/3/4/5/6단계 1박스 기저귀</td>\n",
       "      <td>1409491229</td>\n",
       "      <td>693</td>\n",
       "    </tr>\n",
       "    <tr>\n",
       "      <th>2</th>\n",
       "      <td>팸퍼스 베이비드라이 팬티 3/4/5/6단계 4팩 기저귀</td>\n",
       "      <td>1472398945</td>\n",
       "      <td>537</td>\n",
       "    </tr>\n",
       "    <tr>\n",
       "      <th>3</th>\n",
       "      <td>JMW M5001A PLUS 전문가용 항공모터 헤어 드라이기</td>\n",
       "      <td>1630255408</td>\n",
       "      <td>529</td>\n",
       "    </tr>\n",
       "    <tr>\n",
       "      <th>4</th>\n",
       "      <td>JMW M5001A PLUS 전문가용 항공모터 헤어 드라이기+사은품</td>\n",
       "      <td>1630257815</td>\n",
       "      <td>509</td>\n",
       "    </tr>\n",
       "  </tbody>\n",
       "</table>\n",
       "</div>"
      ],
      "text/plain": [
       "                                    Name    item_num Review_count\n",
       "0              [공식] 슈퍼소닉 드라이어 HD03 아이언핑크    12610778         1166\n",
       "1      팸퍼스 베이비드라이 밴드 2/3/4/5/6단계 1박스 기저귀  1409491229          693\n",
       "2         팸퍼스 베이비드라이 팬티 3/4/5/6단계 4팩 기저귀  1472398945          537\n",
       "3      JMW M5001A PLUS 전문가용 항공모터 헤어 드라이기  1630255408          529\n",
       "4  JMW M5001A PLUS 전문가용 항공모터 헤어 드라이기+사은품  1630257815          509"
      ]
     },
     "execution_count": 5,
     "metadata": {},
     "output_type": "execute_result"
    }
   ],
   "source": [
    "main_df = Main_page_head(\"헤어드라이기\",1)\n",
    "main_df.head()"
   ]
  },
  {
   "cell_type": "markdown",
   "metadata": {},
   "source": [
    "# Review page crawling"
   ]
  },
  {
   "cell_type": "code",
   "execution_count": 6,
   "metadata": {},
   "outputs": [],
   "source": [
    "def Review_page_ex(target_name,item_n,p_2):\n",
    "    main_2 = 'http://www.lotteimall.com/goods/searchMultiGdasInfo.lotte'\n",
    "    url_main = 'http://www.lotteimall.com/goods/searchPrGdasInfoList.lotte'\n",
    "    params = {'goods_no': item_n,\n",
    "     'gdas_no': '',\n",
    "     'hdr_tp_cd': '10',\n",
    "     'rowsPerPage': '200',\n",
    "     'pageIdx': p_2,\n",
    "     'opt_desc': '',\n",
    "     'size_desc': '',\n",
    "     'gdas_stfd_val': '',\n",
    "     'gdasAvgScore': '99',\n",
    "     'totalCnt': '236',\n",
    "     'healthfood_yn': 'N',\n",
    "     'healthfood_disp': 'N',\n",
    "     'tap_no': '0',\n",
    "     'multi': 'all',\n",
    "     'isEcoupon': 'N',\n",
    "     'ec_goods_artc_cd': '108',\n",
    "     'gdasSelectImgIndex': '',\n",
    "     'list_no': '',\n",
    "     'preb': ''}\n",
    "\n",
    "    html = requests.get(url_main,params=params).text\n",
    "    soup = BeautifulSoup(html,\"html.parser\")\n",
    "\n",
    "    data_all = []\n",
    "    for tag in soup.select(\".list_comment li\"):\n",
    "        id_,date_ = tag.find(\"div\",class_=\"info_list\").find(\"p\").text.split(\"|\")\n",
    "        item_ = target_name\n",
    "        score_ = int(tag.find(\"div\",class_=\"info_list\").find(\"div\").find('div')[\"class\"][2].replace(\"s\",\"\"))/10\n",
    "        contents_ = tag.find(\"div\",class_=\"cont\").find(\"span\").text\n",
    "        liked_ = \"\"\n",
    "        channel_ = \"LOTTE\"\n",
    "        all_ = [date_,id_,item_,score_,contents_,liked_,channel_]\n",
    "        data_all.append(all_)\n",
    "    df_ = pd.DataFrame(data_all).rename(columns={0:\"date\",1:\"id\",2:\"item\",3:\"score\",4:\"contents\",5:\"liked\",6:\"channel\"})\n",
    "    return df_\n"
   ]
  },
  {
   "cell_type": "code",
   "execution_count": 7,
   "metadata": {
    "scrolled": true
   },
   "outputs": [
    {
     "data": {
      "text/html": [
       "<div>\n",
       "<style scoped>\n",
       "    .dataframe tbody tr th:only-of-type {\n",
       "        vertical-align: middle;\n",
       "    }\n",
       "\n",
       "    .dataframe tbody tr th {\n",
       "        vertical-align: top;\n",
       "    }\n",
       "\n",
       "    .dataframe thead th {\n",
       "        text-align: right;\n",
       "    }\n",
       "</style>\n",
       "<table border=\"1\" class=\"dataframe\">\n",
       "  <thead>\n",
       "    <tr style=\"text-align: right;\">\n",
       "      <th></th>\n",
       "      <th>date</th>\n",
       "      <th>id</th>\n",
       "      <th>item</th>\n",
       "      <th>score</th>\n",
       "      <th>contents</th>\n",
       "      <th>liked</th>\n",
       "      <th>channel</th>\n",
       "    </tr>\n",
       "  </thead>\n",
       "  <tbody>\n",
       "    <tr>\n",
       "      <th>0</th>\n",
       "      <td>2017/01/21</td>\n",
       "      <td>kwa*****@hanmail.net</td>\n",
       "      <td>JMW M5001A PLUS 전문가용 항공모터 헤어 드라이기</td>\n",
       "      <td>5.0</td>\n",
       "      <td>좋은제품감사해요~사업번창하세요~</td>\n",
       "      <td></td>\n",
       "      <td>LOTTE</td>\n",
       "    </tr>\n",
       "    <tr>\n",
       "      <th>1</th>\n",
       "      <td>2017/01/21</td>\n",
       "      <td>nih****</td>\n",
       "      <td>JMW M5001A PLUS 전문가용 항공모터 헤어 드라이기</td>\n",
       "      <td>5.0</td>\n",
       "      <td>만족합니다 추천합니다</td>\n",
       "      <td></td>\n",
       "      <td>LOTTE</td>\n",
       "    </tr>\n",
       "    <tr>\n",
       "      <th>2</th>\n",
       "      <td>2017/01/20</td>\n",
       "      <td>sib****</td>\n",
       "      <td>JMW M5001A PLUS 전문가용 항공모터 헤어 드라이기</td>\n",
       "      <td>5.0</td>\n",
       "      <td>머리숱 많은데 머리말리는 시간이 줄어서 만족해요\\r크기만 좀 작았어도</td>\n",
       "      <td></td>\n",
       "      <td>LOTTE</td>\n",
       "    </tr>\n",
       "    <tr>\n",
       "      <th>3</th>\n",
       "      <td>2017/01/20</td>\n",
       "      <td>ans*****@hanmail.net</td>\n",
       "      <td>JMW M5001A PLUS 전문가용 항공모터 헤어 드라이기</td>\n",
       "      <td>5.0</td>\n",
       "      <td>만족합니다~수고하세요</td>\n",
       "      <td></td>\n",
       "      <td>LOTTE</td>\n",
       "    </tr>\n",
       "    <tr>\n",
       "      <th>4</th>\n",
       "      <td>2017/01/20</td>\n",
       "      <td>unn*****</td>\n",
       "      <td>JMW M5001A PLUS 전문가용 항공모터 헤어 드라이기</td>\n",
       "      <td>5.0</td>\n",
       "      <td>완전 짱입니다\\r아침마다 머리카락 말리는데 시간 많이 걸려서 힘들었는데 시간도 단축...</td>\n",
       "      <td></td>\n",
       "      <td>LOTTE</td>\n",
       "    </tr>\n",
       "  </tbody>\n",
       "</table>\n",
       "</div>"
      ],
      "text/plain": [
       "          date                     id                               item  \\\n",
       "0   2017/01/21  kwa*****@hanmail.net   JMW M5001A PLUS 전문가용 항공모터 헤어 드라이기   \n",
       "1   2017/01/21               nih****   JMW M5001A PLUS 전문가용 항공모터 헤어 드라이기   \n",
       "2   2017/01/20               sib****   JMW M5001A PLUS 전문가용 항공모터 헤어 드라이기   \n",
       "3   2017/01/20  ans*****@hanmail.net   JMW M5001A PLUS 전문가용 항공모터 헤어 드라이기   \n",
       "4   2017/01/20              unn*****   JMW M5001A PLUS 전문가용 항공모터 헤어 드라이기   \n",
       "\n",
       "   score                                           contents liked channel  \n",
       "0    5.0                                 좋은제품감사해요~사업번창하세요~          LOTTE  \n",
       "1    5.0                                       만족합니다 추천합니다          LOTTE  \n",
       "2    5.0            머리숱 많은데 머리말리는 시간이 줄어서 만족해요\\r크기만 좀 작았어도          LOTTE  \n",
       "3    5.0                                       만족합니다~수고하세요          LOTTE  \n",
       "4    5.0  완전 짱입니다\\r아침마다 머리카락 말리는데 시간 많이 걸려서 힘들었는데 시간도 단축...         LOTTE  "
      ]
     },
     "execution_count": 7,
     "metadata": {},
     "output_type": "execute_result"
    }
   ],
   "source": [
    "Ta_ = 3\n",
    "item_n = main_df[\"item_num\"][Ta_]\n",
    "target_name = main_df[\"Name\"][Ta_]\n",
    "max_page = main_df[\"Review_count\"][Ta_]\n",
    "\n",
    "Review_page_ex(target_name,item_n,2).head()"
   ]
  },
  {
   "cell_type": "code",
   "execution_count": 8,
   "metadata": {},
   "outputs": [],
   "source": [
    "def Crawling_Lotte_all(main_df,Ta_):\n",
    "    item_n = main_df[\"item_num\"][Ta_]\n",
    "    target_name = main_df[\"Name\"][Ta_]\n",
    "    max_page = main_df[\"Review_count\"][Ta_]\n",
    "\n",
    "    MaxPage = max_page//200\n",
    "    tq = tqdm(range(MaxPage+1))\n",
    "\n",
    "    review_all = pd.DataFrame()\n",
    "    for mp in tq:\n",
    "        review_candi = Review_page_ex(target_name,item_n,mp+1)\n",
    "        review_all = pd.concat([review_all,review_candi]).reset_index(drop=True)\n",
    "    return review_all,target_name"
   ]
  },
  {
   "cell_type": "code",
   "execution_count": null,
   "metadata": {},
   "outputs": [],
   "source": []
  },
  {
   "cell_type": "code",
   "execution_count": 9,
   "metadata": {},
   "outputs": [],
   "source": [
    "def Lotte_Save_local(path_,head_df):\n",
    "    for i_ in range(len(head_df)):\n",
    "        print(\"In {} Pro From {}\".format(i_+1,len(head_df)+1))\n",
    "        print()\n",
    "        print(head_df[\"Name\"][i_])\n",
    "        out_,NA_ = Crawling_Lotte_all(head_df,i_)\n",
    "        NA_ = NA_.replace(\"/\",\"\")\n",
    "        out_.to_excel(path_.format(NA_))"
   ]
  },
  {
   "cell_type": "code",
   "execution_count": 11,
   "metadata": {
    "scrolled": true
   },
   "outputs": [
    {
     "name": "stdout",
     "output_type": "stream",
     "text": [
      "In 1 Pro From 61\n",
      "\n",
      "[공식] 슈퍼소닉 드라이어 HD03 아이언핑크\n"
     ]
    },
    {
     "data": {
      "application/vnd.jupyter.widget-view+json": {
       "model_id": "a74fc27cd5bf402ea0d891546e8c1755",
       "version_major": 2,
       "version_minor": 0
      },
      "text/plain": [
       "  0%|          | 0/6 [00:00<?, ?it/s]"
      ]
     },
     "metadata": {},
     "output_type": "display_data"
    },
    {
     "name": "stdout",
     "output_type": "stream",
     "text": [
      "In 2 Pro From 61\n",
      "\n",
      "팸퍼스 베이비드라이 밴드 2/3/4/5/6단계 1박스 기저귀\n"
     ]
    },
    {
     "data": {
      "application/vnd.jupyter.widget-view+json": {
       "model_id": "cc727e6cc5fd47d1b59b89581ac8bbfa",
       "version_major": 2,
       "version_minor": 0
      },
      "text/plain": [
       "  0%|          | 0/4 [00:00<?, ?it/s]"
      ]
     },
     "metadata": {},
     "output_type": "display_data"
    },
    {
     "name": "stdout",
     "output_type": "stream",
     "text": [
      "In 3 Pro From 61\n",
      "\n",
      "팸퍼스 베이비드라이 팬티 3/4/5/6단계 4팩 기저귀\n"
     ]
    },
    {
     "data": {
      "application/vnd.jupyter.widget-view+json": {
       "model_id": "be07c462a58746b2b7b5b1a5cca64d75",
       "version_major": 2,
       "version_minor": 0
      },
      "text/plain": [
       "  0%|          | 0/3 [00:00<?, ?it/s]"
      ]
     },
     "metadata": {},
     "output_type": "display_data"
    },
    {
     "name": "stdout",
     "output_type": "stream",
     "text": [
      "In 4 Pro From 61\n",
      "\n",
      "JMW M5001A PLUS 전문가용 항공모터 헤어 드라이기\n"
     ]
    },
    {
     "data": {
      "application/vnd.jupyter.widget-view+json": {
       "model_id": "36701d8ab22d41b5b4113ce02d88289d",
       "version_major": 2,
       "version_minor": 0
      },
      "text/plain": [
       "  0%|          | 0/3 [00:00<?, ?it/s]"
      ]
     },
     "metadata": {},
     "output_type": "display_data"
    },
    {
     "name": "stdout",
     "output_type": "stream",
     "text": [
      "In 5 Pro From 61\n",
      "\n",
      "JMW M5001A PLUS 전문가용 항공모터 헤어 드라이기+사은품\n"
     ]
    },
    {
     "data": {
      "application/vnd.jupyter.widget-view+json": {
       "model_id": "5a9051b318974f11941caa3c3c442c1e",
       "version_major": 2,
       "version_minor": 0
      },
      "text/plain": [
       "  0%|          | 0/3 [00:00<?, ?it/s]"
      ]
     },
     "metadata": {},
     "output_type": "display_data"
    },
    {
     "name": "stdout",
     "output_type": "stream",
     "text": [
      "In 6 Pro From 61\n",
      "\n",
      "2020 최신상 제니하우스 일루미네이션 염색제 패키지(염색제 10박스+트리트먼트 10개+헤어오일 5개...\n"
     ]
    },
    {
     "data": {
      "application/vnd.jupyter.widget-view+json": {
       "model_id": "23e5a6637c864d62ac54564460f9de9a",
       "version_major": 2,
       "version_minor": 0
      },
      "text/plain": [
       "  0%|          | 0/3 [00:00<?, ?it/s]"
      ]
     },
     "metadata": {},
     "output_type": "display_data"
    },
    {
     "name": "stdout",
     "output_type": "stream",
     "text": [
      "In 7 Pro From 61\n",
      "\n",
      "★JMW BLDC항공모터 드라이기 MG1800 화이트.\n"
     ]
    },
    {
     "data": {
      "application/vnd.jupyter.widget-view+json": {
       "model_id": "2e427b48c338416996f0b528eaa5a676",
       "version_major": 2,
       "version_minor": 0
      },
      "text/plain": [
       "  0%|          | 0/2 [00:00<?, ?it/s]"
      ]
     },
     "metadata": {},
     "output_type": "display_data"
    },
    {
     "name": "stdout",
     "output_type": "stream",
     "text": [
      "In 8 Pro From 61\n",
      "\n",
      "[빠른배송]테팔 헤어 드라이기 프리미엄케어 무빙에어 HV6078(그레이)\n"
     ]
    },
    {
     "data": {
      "application/vnd.jupyter.widget-view+json": {
       "model_id": "28934f03b08641eebf5db24fdb9b4471",
       "version_major": 2,
       "version_minor": 0
      },
      "text/plain": [
       "  0%|          | 0/2 [00:00<?, ?it/s]"
      ]
     },
     "metadata": {},
     "output_type": "display_data"
    },
    {
     "name": "stdout",
     "output_type": "stream",
     "text": [
      "In 9 Pro From 61\n",
      "\n",
      "테팔 헤어 드라이기 프리미엄케어 무빙에어 HV6078\n"
     ]
    },
    {
     "data": {
      "application/vnd.jupyter.widget-view+json": {
       "model_id": "5462cb1d17f742f4b4840cc75be0c02d",
       "version_major": 2,
       "version_minor": 0
      },
      "text/plain": [
       "  0%|          | 0/2 [00:00<?, ?it/s]"
      ]
     },
     "metadata": {},
     "output_type": "display_data"
    },
    {
     "name": "stdout",
     "output_type": "stream",
     "text": [
      "In 10 Pro From 61\n",
      "\n",
      "[베나모르] 포르투갈 직수입 핸드크림 30ml x 3종 + 바디크림 150ml x 2종 + 드라이오일...\n"
     ]
    },
    {
     "data": {
      "application/vnd.jupyter.widget-view+json": {
       "model_id": "ba95c70dc2554d00ae0765a4c7cb6abf",
       "version_major": 2,
       "version_minor": 0
      },
      "text/plain": [
       "  0%|          | 0/2 [00:00<?, ?it/s]"
      ]
     },
     "metadata": {},
     "output_type": "display_data"
    },
    {
     "name": "stdout",
     "output_type": "stream",
     "text": [
      "In 11 Pro From 61\n",
      "\n",
      "[필립스] 에어플로스 울트라 치간세정기 HX8332/01\n"
     ]
    },
    {
     "data": {
      "application/vnd.jupyter.widget-view+json": {
       "model_id": "e6d52a0cd2ea4e23a03bf8ee7118b158",
       "version_major": 2,
       "version_minor": 0
      },
      "text/plain": [
       "  0%|          | 0/2 [00:00<?, ?it/s]"
      ]
     },
     "metadata": {},
     "output_type": "display_data"
    },
    {
     "name": "stdout",
     "output_type": "stream",
     "text": [
      "In 12 Pro From 61\n",
      "\n",
      "JMW M5001A 전문가용 항공모터 헤어 드라이기 퍼플+사은품\n"
     ]
    },
    {
     "data": {
      "application/vnd.jupyter.widget-view+json": {
       "model_id": "29f304bea87d4203834195571685484a",
       "version_major": 2,
       "version_minor": 0
      },
      "text/plain": [
       "  0%|          | 0/2 [00:00<?, ?it/s]"
      ]
     },
     "metadata": {},
     "output_type": "display_data"
    },
    {
     "name": "stdout",
     "output_type": "stream",
     "text": [
      "In 13 Pro From 61\n",
      "\n",
      "PHILIPS 헤어 드라이기 HP8230/00\n"
     ]
    },
    {
     "data": {
      "application/vnd.jupyter.widget-view+json": {
       "model_id": "719afa14b2d84fb897ecbced7370f966",
       "version_major": 2,
       "version_minor": 0
      },
      "text/plain": [
       "  0%|          | 0/2 [00:00<?, ?it/s]"
      ]
     },
     "metadata": {},
     "output_type": "display_data"
    },
    {
     "name": "stdout",
     "output_type": "stream",
     "text": [
      "In 14 Pro From 61\n",
      "\n",
      "[세제혁명] 홈드라이세제 이젠드라이 플러스 1000ml 6통\n"
     ]
    },
    {
     "data": {
      "application/vnd.jupyter.widget-view+json": {
       "model_id": "8bd15359da1c4758ac180f187540f301",
       "version_major": 2,
       "version_minor": 0
      },
      "text/plain": [
       "  0%|          | 0/2 [00:00<?, ?it/s]"
      ]
     },
     "metadata": {},
     "output_type": "display_data"
    },
    {
     "name": "stdout",
     "output_type": "stream",
     "text": [
      "In 15 Pro From 61\n",
      "\n",
      "★JMW 터보항공모터 드라이기 팬텀 MS6001A 로즈골드.\n"
     ]
    },
    {
     "data": {
      "application/vnd.jupyter.widget-view+json": {
       "model_id": "fe84a21b2755434480b7834547ca038e",
       "version_major": 2,
       "version_minor": 0
      },
      "text/plain": [
       "  0%|          | 0/2 [00:00<?, ?it/s]"
      ]
     },
     "metadata": {},
     "output_type": "display_data"
    },
    {
     "name": "stdout",
     "output_type": "stream",
     "text": [
      "In 16 Pro From 61\n",
      "\n",
      "[스파이더락] 흡착식 와이어 드라이어걸이\n"
     ]
    },
    {
     "data": {
      "application/vnd.jupyter.widget-view+json": {
       "model_id": "2de0aa601fa64b47908952504a302255",
       "version_major": 2,
       "version_minor": 0
      },
      "text/plain": [
       "  0%|          | 0/1 [00:00<?, ?it/s]"
      ]
     },
     "metadata": {},
     "output_type": "display_data"
    },
    {
     "name": "stdout",
     "output_type": "stream",
     "text": [
      "In 17 Pro From 61\n",
      "\n",
      "[엘지생활건강]샤프란 아우라 드라이시트 40매 x4개\n"
     ]
    },
    {
     "data": {
      "application/vnd.jupyter.widget-view+json": {
       "model_id": "560a16112ebc48aab34d2393f67a22fc",
       "version_major": 2,
       "version_minor": 0
      },
      "text/plain": [
       "  0%|          | 0/1 [00:00<?, ?it/s]"
      ]
     },
     "metadata": {},
     "output_type": "display_data"
    },
    {
     "name": "stdout",
     "output_type": "stream",
     "text": [
      "In 18 Pro From 61\n",
      "\n",
      "[푸마] 에어 드라이 컬러 라인 7종 패키지 (9차)\n"
     ]
    },
    {
     "data": {
      "application/vnd.jupyter.widget-view+json": {
       "model_id": "63589f9c9d7740f398b5da7146976e05",
       "version_major": 2,
       "version_minor": 0
      },
      "text/plain": [
       "  0%|          | 0/1 [00:00<?, ?it/s]"
      ]
     },
     "metadata": {},
     "output_type": "display_data"
    },
    {
     "name": "stdout",
     "output_type": "stream",
     "text": [
      "In 19 Pro From 61\n",
      "\n",
      "JMW M3001A 전문가용 BLDC항공모터 헤어 드라이기 퍼플\n"
     ]
    },
    {
     "data": {
      "application/vnd.jupyter.widget-view+json": {
       "model_id": "ea5f2e6fc7154f12ad1449f3ba524af2",
       "version_major": 2,
       "version_minor": 0
      },
      "text/plain": [
       "  0%|          | 0/1 [00:00<?, ?it/s]"
      ]
     },
     "metadata": {},
     "output_type": "display_data"
    },
    {
     "name": "stdout",
     "output_type": "stream",
     "text": [
      "In 20 Pro From 61\n",
      "\n",
      "[베나모르] 포르투갈 직수입 핸드크림 30ml x 3종 + 바디버터 200ml x 2종 + 드라이오일...\n"
     ]
    },
    {
     "data": {
      "application/vnd.jupyter.widget-view+json": {
       "model_id": "d68007157fe548beab798ddeeeef29be",
       "version_major": 2,
       "version_minor": 0
      },
      "text/plain": [
       "  0%|          | 0/1 [00:00<?, ?it/s]"
      ]
     },
     "metadata": {},
     "output_type": "display_data"
    },
    {
     "name": "stdout",
     "output_type": "stream",
     "text": [
      "In 21 Pro From 61\n",
      "\n",
      "[하임리빙]다이슨 헤어드라이기 거치대\n"
     ]
    },
    {
     "data": {
      "application/vnd.jupyter.widget-view+json": {
       "model_id": "d89776cfcfde46fc8ac1d521e3d4319a",
       "version_major": 2,
       "version_minor": 0
      },
      "text/plain": [
       "  0%|          | 0/1 [00:00<?, ?it/s]"
      ]
     },
     "metadata": {},
     "output_type": "display_data"
    },
    {
     "name": "stdout",
     "output_type": "stream",
     "text": [
      "In 22 Pro From 61\n",
      "\n",
      "JMW 에어젯 터보 MS6020B 항공모터 헤어 드라이기+사은품\n"
     ]
    },
    {
     "data": {
      "application/vnd.jupyter.widget-view+json": {
       "model_id": "c6105eb725c64b71a0269ee37be3cb07",
       "version_major": 2,
       "version_minor": 0
      },
      "text/plain": [
       "  0%|          | 0/1 [00:00<?, ?it/s]"
      ]
     },
     "metadata": {},
     "output_type": "display_data"
    },
    {
     "name": "stdout",
     "output_type": "stream",
     "text": [
      "In 23 Pro From 61\n",
      "\n",
      "JMW 터보 항공기 드라이기 MS60시리즈 펄화이트\n"
     ]
    },
    {
     "data": {
      "application/vnd.jupyter.widget-view+json": {
       "model_id": "916f5c44d38b4e02a8e63e159e9c6b43",
       "version_major": 2,
       "version_minor": 0
      },
      "text/plain": [
       "  0%|          | 0/1 [00:00<?, ?it/s]"
      ]
     },
     "metadata": {},
     "output_type": "display_data"
    },
    {
     "name": "stdout",
     "output_type": "stream",
     "text": [
      "In 24 Pro From 61\n",
      "\n",
      "필립스 헤어드라이어기 HP-8232\n"
     ]
    },
    {
     "data": {
      "application/vnd.jupyter.widget-view+json": {
       "model_id": "ec0d4bc2b8a044d6bf6345702158831c",
       "version_major": 2,
       "version_minor": 0
      },
      "text/plain": [
       "  0%|          | 0/1 [00:00<?, ?it/s]"
      ]
     },
     "metadata": {},
     "output_type": "display_data"
    },
    {
     "name": "stdout",
     "output_type": "stream",
     "text": [
      "In 25 Pro From 61\n",
      "\n",
      "★JMW 뉴항공기모터 드라이기 맥스 MF5002B 다크블루\n"
     ]
    },
    {
     "data": {
      "application/vnd.jupyter.widget-view+json": {
       "model_id": "69ed6352d08e41bcafd3971b6e173f4f",
       "version_major": 2,
       "version_minor": 0
      },
      "text/plain": [
       "  0%|          | 0/1 [00:00<?, ?it/s]"
      ]
     },
     "metadata": {},
     "output_type": "display_data"
    },
    {
     "name": "stdout",
     "output_type": "stream",
     "text": [
      "In 26 Pro From 61\n",
      "\n",
      "[푸마] ★ 남성 드라이셀 플레이 웨어 4종 패키지\n"
     ]
    },
    {
     "data": {
      "application/vnd.jupyter.widget-view+json": {
       "model_id": "b8613d0d413440d3875c342271a6d747",
       "version_major": 2,
       "version_minor": 0
      },
      "text/plain": [
       "  0%|          | 0/1 [00:00<?, ?it/s]"
      ]
     },
     "metadata": {},
     "output_type": "display_data"
    },
    {
     "name": "stdout",
     "output_type": "stream",
     "text": [
      "In 27 Pro From 61\n",
      "\n",
      "[초코브라운]더마클라센 단백질 젤리 세럼 염색제 8박스 + 엘라 드라이기\n"
     ]
    },
    {
     "data": {
      "application/vnd.jupyter.widget-view+json": {
       "model_id": "3971d0aaf2be468b9339734874ceddf9",
       "version_major": 2,
       "version_minor": 0
      },
      "text/plain": [
       "  0%|          | 0/1 [00:00<?, ?it/s]"
      ]
     },
     "metadata": {},
     "output_type": "display_data"
    },
    {
     "name": "stdout",
     "output_type": "stream",
     "text": [
      "In 28 Pro From 61\n",
      "\n",
      "[밀크브라운]더마클라센 단백질 젤리 세럼 염색제 8박스 + 엘라 드라이기\n"
     ]
    },
    {
     "data": {
      "application/vnd.jupyter.widget-view+json": {
       "model_id": "89f2685715c14d76a75b6731c7149232",
       "version_major": 2,
       "version_minor": 0
      },
      "text/plain": [
       "  0%|          | 0/1 [00:00<?, ?it/s]"
      ]
     },
     "metadata": {},
     "output_type": "display_data"
    },
    {
     "name": "stdout",
     "output_type": "stream",
     "text": [
      "In 29 Pro From 61\n",
      "\n",
      "[세제혁명] 홈드라이세제 이젠드라이 플러스 1000ml 1통\n"
     ]
    },
    {
     "data": {
      "application/vnd.jupyter.widget-view+json": {
       "model_id": "683adb05fb4647539145446ad68a70ab",
       "version_major": 2,
       "version_minor": 0
      },
      "text/plain": [
       "  0%|          | 0/1 [00:00<?, ?it/s]"
      ]
     },
     "metadata": {},
     "output_type": "display_data"
    },
    {
     "name": "stdout",
     "output_type": "stream",
     "text": [
      "In 30 Pro From 61\n",
      "\n",
      "[혼합]더마클라센 염색제 초코브라운4박스,밀크브라운4박스 + 엘라 드라이기\n"
     ]
    },
    {
     "data": {
      "application/vnd.jupyter.widget-view+json": {
       "model_id": "a0386efc7ae94ee09bac72addb2ca48d",
       "version_major": 2,
       "version_minor": 0
      },
      "text/plain": [
       "  0%|          | 0/1 [00:00<?, ?it/s]"
      ]
     },
     "metadata": {},
     "output_type": "display_data"
    },
    {
     "name": "stdout",
     "output_type": "stream",
     "text": [
      "In 31 Pro From 61\n",
      "\n",
      "PHILIPS 써모프로텍트 헤어드라이어 HP8246/09\n"
     ]
    },
    {
     "data": {
      "application/vnd.jupyter.widget-view+json": {
       "model_id": "8847ae0e1ebb4e579004ca50054864bf",
       "version_major": 2,
       "version_minor": 0
      },
      "text/plain": [
       "  0%|          | 0/1 [00:00<?, ?it/s]"
      ]
     },
     "metadata": {},
     "output_type": "display_data"
    },
    {
     "name": "stdout",
     "output_type": "stream",
     "text": [
      "In 32 Pro From 61\n",
      "\n",
      "★JMW 팬텀 프라임 드라이기 MS6003C 무광블랙에디션.\n"
     ]
    },
    {
     "data": {
      "application/vnd.jupyter.widget-view+json": {
       "model_id": "d0bf2942f9624d7bb759252049c25bd0",
       "version_major": 2,
       "version_minor": 0
      },
      "text/plain": [
       "  0%|          | 0/1 [00:00<?, ?it/s]"
      ]
     },
     "metadata": {},
     "output_type": "display_data"
    },
    {
     "name": "stdout",
     "output_type": "stream",
     "text": [
      "In 33 Pro From 61\n",
      "\n",
      "유닉스 웨이브노즐 헤어드라이기 UN-A1005\n"
     ]
    },
    {
     "data": {
      "application/vnd.jupyter.widget-view+json": {
       "model_id": "d117e5d7ecca4f778946ca33eb4e8016",
       "version_major": 2,
       "version_minor": 0
      },
      "text/plain": [
       "  0%|          | 0/1 [00:00<?, ?it/s]"
      ]
     },
     "metadata": {},
     "output_type": "display_data"
    },
    {
     "name": "stdout",
     "output_type": "stream",
     "text": [
      "In 34 Pro From 61\n",
      "\n",
      "JMW MF5001A 항공모터 접이식 헤어 드라이기\n"
     ]
    },
    {
     "data": {
      "application/vnd.jupyter.widget-view+json": {
       "model_id": "3d61d8615921418a9382c433e35864d5",
       "version_major": 2,
       "version_minor": 0
      },
      "text/plain": [
       "  0%|          | 0/1 [00:00<?, ?it/s]"
      ]
     },
     "metadata": {},
     "output_type": "display_data"
    },
    {
     "name": "stdout",
     "output_type": "stream",
     "text": [
      "In 35 Pro From 61\n",
      "\n",
      "JMW 에어젯 터보 MS6020B 항공모터 헤어 드라이기 블랙\n"
     ]
    },
    {
     "data": {
      "application/vnd.jupyter.widget-view+json": {
       "model_id": "f9ee1895b85b45bc8c7eeddaa38394c2",
       "version_major": 2,
       "version_minor": 0
      },
      "text/plain": [
       "  0%|          | 0/1 [00:00<?, ?it/s]"
      ]
     },
     "metadata": {},
     "output_type": "display_data"
    },
    {
     "name": "stdout",
     "output_type": "stream",
     "text": [
      "In 36 Pro From 61\n",
      "\n",
      "헤어드라이어 HP-8230 [온도 3단계/풍속 2단계 조절/모발보호(Thermoprotect)/14m...\n"
     ]
    },
    {
     "data": {
      "application/vnd.jupyter.widget-view+json": {
       "model_id": "8eb797db8a1d43dfb56f49b33be831b5",
       "version_major": 2,
       "version_minor": 0
      },
      "text/plain": [
       "  0%|          | 0/1 [00:00<?, ?it/s]"
      ]
     },
     "metadata": {},
     "output_type": "display_data"
    },
    {
     "name": "stdout",
     "output_type": "stream",
     "text": [
      "In 37 Pro From 61\n",
      "\n",
      "팸퍼스 베이비드라이 팬티형 3/4/5/6단계 3팩 기저귀\n"
     ]
    },
    {
     "data": {
      "application/vnd.jupyter.widget-view+json": {
       "model_id": "5ea2fbf061b34f828b2e5d8576c20ff7",
       "version_major": 2,
       "version_minor": 0
      },
      "text/plain": [
       "  0%|          | 0/1 [00:00<?, ?it/s]"
      ]
     },
     "metadata": {},
     "output_type": "display_data"
    },
    {
     "name": "stdout",
     "output_type": "stream",
     "text": [
      "In 38 Pro From 61\n",
      "\n",
      "JMW 항공기 드라이기 MG시리즈 플러스 올화이트\n"
     ]
    },
    {
     "data": {
      "application/vnd.jupyter.widget-view+json": {
       "model_id": "dcfe3d58adfa44f79b2807a15e7daaca",
       "version_major": 2,
       "version_minor": 0
      },
      "text/plain": [
       "  0%|          | 0/1 [00:00<?, ?it/s]"
      ]
     },
     "metadata": {},
     "output_type": "display_data"
    },
    {
     "name": "stdout",
     "output_type": "stream",
     "text": [
      "In 39 Pro From 61\n",
      "\n",
      "태양 오토 드라이롱 볼륨 고데기 CG-AV01/퀸스 고데기/홈쇼핑 동일상품/32mm 아이롱/착탈식 브...\n"
     ]
    },
    {
     "data": {
      "application/vnd.jupyter.widget-view+json": {
       "model_id": "6e9e1819f8374c9381430830af1a5c8b",
       "version_major": 2,
       "version_minor": 0
      },
      "text/plain": [
       "  0%|          | 0/1 [00:00<?, ?it/s]"
      ]
     },
     "metadata": {},
     "output_type": "display_data"
    },
    {
     "name": "stdout",
     "output_type": "stream",
     "text": [
      "In 40 Pro From 61\n",
      "\n",
      "2020 최신상 순수 염색약 더 살롱 컬러 골드라벨 10박스(염색제+트리트먼트+에센스)+순수 더 살롱...\n"
     ]
    },
    {
     "data": {
      "application/vnd.jupyter.widget-view+json": {
       "model_id": "b1660718e8404bc2bf42842371b6688d",
       "version_major": 2,
       "version_minor": 0
      },
      "text/plain": [
       "  0%|          | 0/1 [00:00<?, ?it/s]"
      ]
     },
     "metadata": {},
     "output_type": "display_data"
    },
    {
     "name": "stdout",
     "output_type": "stream",
     "text": [
      "In 41 Pro From 61\n",
      "\n",
      "푸마 남성 드라이셀 멀티 이지웨어 3세트(상의 3종 + 하의 3종)\n"
     ]
    },
    {
     "data": {
      "application/vnd.jupyter.widget-view+json": {
       "model_id": "819bb7ff5e5c40759a1b73467ee50ff6",
       "version_major": 2,
       "version_minor": 0
      },
      "text/plain": [
       "  0%|          | 0/1 [00:00<?, ?it/s]"
      ]
     },
     "metadata": {},
     "output_type": "display_data"
    },
    {
     "name": "stdout",
     "output_type": "stream",
     "text": [
      "In 42 Pro From 61\n",
      "\n",
      "[필립스] 필립스 드라이기 BHD184/09\n"
     ]
    },
    {
     "data": {
      "application/vnd.jupyter.widget-view+json": {
       "model_id": "a8aa7927a0e44879b89c3a62a98cc80b",
       "version_major": 2,
       "version_minor": 0
      },
      "text/plain": [
       "  0%|          | 0/1 [00:00<?, ?it/s]"
      ]
     },
     "metadata": {},
     "output_type": "display_data"
    },
    {
     "name": "stdout",
     "output_type": "stream",
     "text": [
      "In 43 Pro From 61\n",
      "\n",
      "유닉스 헤어 드라이기 UN-1966\n"
     ]
    },
    {
     "data": {
      "application/vnd.jupyter.widget-view+json": {
       "model_id": "c5fdfde09f8d4a53b91192b7bf024eee",
       "version_major": 2,
       "version_minor": 0
      },
      "text/plain": [
       "  0%|          | 0/1 [00:00<?, ?it/s]"
      ]
     },
     "metadata": {},
     "output_type": "display_data"
    },
    {
     "name": "stdout",
     "output_type": "stream",
     "text": [
      "In 44 Pro From 61\n",
      "\n",
      "[리젠] 저소음 펫 애견 드라이기 LD-100M / 애견용품 강아지용품\n"
     ]
    },
    {
     "data": {
      "application/vnd.jupyter.widget-view+json": {
       "model_id": "05d961c1a6c04881bb7842aa9b9e0049",
       "version_major": 2,
       "version_minor": 0
      },
      "text/plain": [
       "  0%|          | 0/1 [00:00<?, ?it/s]"
      ]
     },
     "metadata": {},
     "output_type": "display_data"
    },
    {
     "name": "stdout",
     "output_type": "stream",
     "text": [
      "In 45 Pro From 61\n",
      "\n",
      "JMW 프리미엄 드라이기 에어센스 MS7002B 어반코랄\n"
     ]
    },
    {
     "data": {
      "application/vnd.jupyter.widget-view+json": {
       "model_id": "0d1f954fc88d4e8f8211c055ba70841d",
       "version_major": 2,
       "version_minor": 0
      },
      "text/plain": [
       "  0%|          | 0/1 [00:00<?, ?it/s]"
      ]
     },
     "metadata": {},
     "output_type": "display_data"
    },
    {
     "name": "stdout",
     "output_type": "stream",
     "text": [
      "In 46 Pro From 61\n",
      "\n",
      "[스파이더락][아이홈] 스파이더락 와이어드라이어걸이\n"
     ]
    },
    {
     "data": {
      "application/vnd.jupyter.widget-view+json": {
       "model_id": "b4f8bfb1f2934c36a845df4c160b8cc7",
       "version_major": 2,
       "version_minor": 0
      },
      "text/plain": [
       "  0%|          | 0/1 [00:00<?, ?it/s]"
      ]
     },
     "metadata": {},
     "output_type": "display_data"
    },
    {
     "name": "stdout",
     "output_type": "stream",
     "text": [
      "In 47 Pro From 61\n",
      "\n",
      "[릴리바이레드] 무드라이어 벨벳틴트\n"
     ]
    },
    {
     "data": {
      "application/vnd.jupyter.widget-view+json": {
       "model_id": "539152e0935941a98f0e24352e51bc65",
       "version_major": 2,
       "version_minor": 0
      },
      "text/plain": [
       "  0%|          | 0/1 [00:00<?, ?it/s]"
      ]
     },
     "metadata": {},
     "output_type": "display_data"
    },
    {
     "name": "stdout",
     "output_type": "stream",
     "text": [
      "In 48 Pro From 61\n",
      "\n",
      "전문가용 드라이기 YB-1900 RED\n"
     ]
    },
    {
     "data": {
      "application/vnd.jupyter.widget-view+json": {
       "model_id": "21fc4dd150dd47858745e54c001ac822",
       "version_major": 2,
       "version_minor": 0
      },
      "text/plain": [
       "  0%|          | 0/1 [00:00<?, ?it/s]"
      ]
     },
     "metadata": {},
     "output_type": "display_data"
    },
    {
     "name": "stdout",
     "output_type": "stream",
     "text": [
      "In 49 Pro From 61\n",
      "\n",
      "PHILIPS 써모프로텍트 헤어드라이어 HP8244/09\n"
     ]
    },
    {
     "data": {
      "application/vnd.jupyter.widget-view+json": {
       "model_id": "2e8858c21cc44d18a5a73c4a1dc99426",
       "version_major": 2,
       "version_minor": 0
      },
      "text/plain": [
       "  0%|          | 0/1 [00:00<?, ?it/s]"
      ]
     },
     "metadata": {},
     "output_type": "display_data"
    },
    {
     "name": "stdout",
     "output_type": "stream",
     "text": [
      "In 50 Pro From 61\n",
      "\n",
      "D580PK - 1600W 접이식 헤어 드라이기 [벽걸이용 고리]\n"
     ]
    },
    {
     "data": {
      "application/vnd.jupyter.widget-view+json": {
       "model_id": "740bd2487ead4464ae7fe7e2438b497c",
       "version_major": 2,
       "version_minor": 0
      },
      "text/plain": [
       "  0%|          | 0/1 [00:00<?, ?it/s]"
      ]
     },
     "metadata": {},
     "output_type": "display_data"
    },
    {
     "name": "stdout",
     "output_type": "stream",
     "text": [
      "In 51 Pro From 61\n",
      "\n",
      "[텐바이텐]MD글로벌 다이슨 드라이기 거치대\n"
     ]
    },
    {
     "data": {
      "application/vnd.jupyter.widget-view+json": {
       "model_id": "3c4712fd2c834964ad88b2090220199e",
       "version_major": 2,
       "version_minor": 0
      },
      "text/plain": [
       "  0%|          | 0/1 [00:00<?, ?it/s]"
      ]
     },
     "metadata": {},
     "output_type": "display_data"
    },
    {
     "name": "stdout",
     "output_type": "stream",
     "text": [
      "In 52 Pro From 61\n",
      "\n",
      "JMW MF5001A BLDC항공모터 접이식 헤어 드라이기+사은품\n"
     ]
    },
    {
     "data": {
      "application/vnd.jupyter.widget-view+json": {
       "model_id": "fcdc9717a3cd44dca0ae679dfa121638",
       "version_major": 2,
       "version_minor": 0
      },
      "text/plain": [
       "  0%|          | 0/1 [00:00<?, ?it/s]"
      ]
     },
     "metadata": {},
     "output_type": "display_data"
    },
    {
     "name": "stdout",
     "output_type": "stream",
     "text": [
      "In 53 Pro From 61\n",
      "\n",
      "PHILIPS 써모밸런스 헤어드라이어+마사지 디퓨저 BHD184/09\n"
     ]
    },
    {
     "data": {
      "application/vnd.jupyter.widget-view+json": {
       "model_id": "d51bb940f43a4f40965de2128389b62e",
       "version_major": 2,
       "version_minor": 0
      },
      "text/plain": [
       "  0%|          | 0/1 [00:00<?, ?it/s]"
      ]
     },
     "metadata": {},
     "output_type": "display_data"
    },
    {
     "name": "stdout",
     "output_type": "stream",
     "text": [
      "In 54 Pro From 61\n",
      "\n",
      "[엘지생활건강]테크 울드라이 중성세제 리필 1.3L x5개\n"
     ]
    },
    {
     "data": {
      "application/vnd.jupyter.widget-view+json": {
       "model_id": "7b4ac981eeab4ee1bd779917c9bd1214",
       "version_major": 2,
       "version_minor": 0
      },
      "text/plain": [
       "  0%|          | 0/1 [00:00<?, ?it/s]"
      ]
     },
     "metadata": {},
     "output_type": "display_data"
    },
    {
     "name": "stdout",
     "output_type": "stream",
     "text": [
      "In 55 Pro From 61\n",
      "\n",
      "[다린]뿌리 볼륨 집게 3개1세트 1탄 셀프 드라이 앞머리컬 헤어롤\n"
     ]
    },
    {
     "data": {
      "application/vnd.jupyter.widget-view+json": {
       "model_id": "6bad5bc92dcb44c486e0224734805edf",
       "version_major": 2,
       "version_minor": 0
      },
      "text/plain": [
       "  0%|          | 0/1 [00:00<?, ?it/s]"
      ]
     },
     "metadata": {},
     "output_type": "display_data"
    },
    {
     "name": "stdout",
     "output_type": "stream",
     "text": [
      "In 56 Pro From 61\n",
      "\n",
      "바세린 드라이 스킨 리페어 바디로션 450ml 2개\n"
     ]
    },
    {
     "data": {
      "application/vnd.jupyter.widget-view+json": {
       "model_id": "e916ee342e4945038d1ffda1ed1b99a5",
       "version_major": 2,
       "version_minor": 0
      },
      "text/plain": [
       "  0%|          | 0/1 [00:00<?, ?it/s]"
      ]
     },
     "metadata": {},
     "output_type": "display_data"
    },
    {
     "name": "stdout",
     "output_type": "stream",
     "text": [
      "In 57 Pro From 61\n",
      "\n",
      "PHILIPS 헤어 드라이기 HP8232/00\n"
     ]
    },
    {
     "data": {
      "application/vnd.jupyter.widget-view+json": {
       "model_id": "d858756f0b524eada1bdff6ed08ddc37",
       "version_major": 2,
       "version_minor": 0
      },
      "text/plain": [
       "  0%|          | 0/1 [00:00<?, ?it/s]"
      ]
     },
     "metadata": {},
     "output_type": "display_data"
    },
    {
     "name": "stdout",
     "output_type": "stream",
     "text": [
      "In 58 Pro From 61\n",
      "\n",
      "[제이엠더블유] 접이식 헤어사이언스 헤어드라이기 럭스 BLDC모터_MF6003C\n"
     ]
    },
    {
     "data": {
      "application/vnd.jupyter.widget-view+json": {
       "model_id": "97590d48217249e58e463a8fc1780743",
       "version_major": 2,
       "version_minor": 0
      },
      "text/plain": [
       "  0%|          | 0/1 [00:00<?, ?it/s]"
      ]
     },
     "metadata": {},
     "output_type": "display_data"
    },
    {
     "name": "stdout",
     "output_type": "stream",
     "text": [
      "In 59 Pro From 61\n",
      "\n",
      "푸마 여성 드라이셀 멀티 이지웨어 3세트(상의 2종 + 하의 2종+원피스1종+레깅스1종)\n"
     ]
    },
    {
     "data": {
      "application/vnd.jupyter.widget-view+json": {
       "model_id": "a0311784589341fcb85d8f1e8b26e9d0",
       "version_major": 2,
       "version_minor": 0
      },
      "text/plain": [
       "  0%|          | 0/1 [00:00<?, ?it/s]"
      ]
     },
     "metadata": {},
     "output_type": "display_data"
    },
    {
     "name": "stdout",
     "output_type": "stream",
     "text": [
      "In 60 Pro From 61\n",
      "\n",
      "피트엑스 드라이쿨 남녀 베이직 덧신 3매세트/페이크삭스/기능성원사/빅사이즈\n"
     ]
    },
    {
     "data": {
      "application/vnd.jupyter.widget-view+json": {
       "model_id": "f71fe5dcd9c645ad813bc85c58b2a9bc",
       "version_major": 2,
       "version_minor": 0
      },
      "text/plain": [
       "  0%|          | 0/1 [00:00<?, ?it/s]"
      ]
     },
     "metadata": {},
     "output_type": "display_data"
    }
   ],
   "source": [
    "path_ = r\"C:\\Users\\Samsung\\jupyter\\Project_LG_textmining\\data\\hair\\shopping_2\\LOTTE\\{}.xlsx\"\n",
    "Lotte_Save_local(path_,main_df)"
   ]
  },
  {
   "cell_type": "code",
   "execution_count": null,
   "metadata": {},
   "outputs": [],
   "source": []
  }
 ],
 "metadata": {
  "kernelspec": {
   "display_name": "Python 3",
   "language": "python",
   "name": "python3"
  },
  "language_info": {
   "codemirror_mode": {
    "name": "ipython",
    "version": 3
   },
   "file_extension": ".py",
   "mimetype": "text/x-python",
   "name": "python",
   "nbconvert_exporter": "python",
   "pygments_lexer": "ipython3",
   "version": "3.7.6"
  }
 },
 "nbformat": 4,
 "nbformat_minor": 4
}
