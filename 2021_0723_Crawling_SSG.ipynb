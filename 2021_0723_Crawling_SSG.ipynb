{
 "cells": [
  {
   "cell_type": "code",
   "execution_count": 10,
   "metadata": {},
   "outputs": [],
   "source": [
    "import numpy as np\n",
    "import pandas as pd\n",
    "import requests \n",
    "from bs4 import BeautifulSoup\n",
    "from fake_useragent import UserAgent\n",
    "\n",
    "from urllib.request import urlopen\n",
    "import urllib\n",
    "\n",
    "#from tqdm import tqdm\n",
    "\n",
    "from selenium import webdriver\n",
    "import openpyxl\n",
    "import time\n",
    "import math\n",
    "from collections import Counter\n",
    "\n",
    "import re\n",
    "import json\n",
    "\n",
    "from tqdm.notebook import tqdm"
   ]
  },
  {
   "cell_type": "code",
   "execution_count": 11,
   "metadata": {},
   "outputs": [],
   "source": [
    "def url_split(url):\n",
    "    main_,para_1 = url.split(\"?\")\n",
    "    para_2 = para_1.split(\"&\")\n",
    "    para_3 = [d.replace(\"=\",\":\").split(\":\") for d in para_2]\n",
    "    params_ = {}\n",
    "    for key,value in para_3:\n",
    "        params_[key] = value\n",
    "    return main_,params_"
   ]
  },
  {
   "cell_type": "code",
   "execution_count": 12,
   "metadata": {},
   "outputs": [],
   "source": [
    "ua = UserAgent()"
   ]
  },
  {
   "cell_type": "markdown",
   "metadata": {},
   "source": [
    "# Main page "
   ]
  },
  {
   "cell_type": "code",
   "execution_count": 13,
   "metadata": {},
   "outputs": [],
   "source": [
    "def Main_page_SSG(Key_,Page_):\n",
    "    ua = UserAgent()\n",
    "    header = {'User-Agent':ua.chrome,\n",
    "              \"referer\":\"http://www.ssg.com/\"}\n",
    "    page_ = Page_\n",
    "    key_ = Key_\n",
    "\n",
    "    url = \"http://www.ssg.com/search.ssg?target=all&query={}&sort=cnt&page={}\".format(key_,page_)\n",
    "    html = requests.get(url.format(key_),headers=header).text\n",
    "    soup = BeautifulSoup(html,\"html.parser\")\n",
    "    url_base_ = \"http://www.ssg.com\"\n",
    "    name_head,url_head,reveiw_count_1 = [],[],[]\n",
    "    for tag in soup.select(\"li\"):\n",
    "        try:\n",
    "            name_head.append(tag.find(\"div\",class_=\"cunit_info\").find(\"div\",class_=\"cunit_md notranslate\").find(\"a\").find(\"em\",class_=\"tx_ko\").text)\n",
    "            url_head.append(tag.find(\"div\",class_=\"cunit_info\").find(\"div\",class_=\"cunit_md notranslate\").find(\"a\")[\"href\"])\n",
    "            reveiw_count_1.append(int(tag.find(\"div\",class_=\"cunit_app\").find(\"span\",class_=\"rate_tx\").find(\"em\").text.replace(\",\",\"\")))\n",
    "    \n",
    "        except:\n",
    "            pass\n",
    "    Head_df = pd.DataFrame([name_head,reveiw_count_1,url_head]).T.rename(columns={0:\"Name\",1:\"Review_count\",2:\"Url\"})\n",
    "    return Head_df"
   ]
  },
  {
   "cell_type": "code",
   "execution_count": 14,
   "metadata": {},
   "outputs": [],
   "source": [
    "def Main_page_concat(Total_p,Key_):\n",
    "    tq = tqdm(range(Total_p))\n",
    "    head_all = pd.DataFrame()\n",
    "    for tp in tq:\n",
    "        pa_ = tp + 1\n",
    "        candi_head =  Main_page_SSG(Key_,pa_)\n",
    "        head_all = pd.concat([head_all,candi_head]).reset_index(drop=True)\n",
    "    return head_all"
   ]
  },
  {
   "cell_type": "code",
   "execution_count": 15,
   "metadata": {},
   "outputs": [
    {
     "data": {
      "application/vnd.jupyter.widget-view+json": {
       "model_id": "4f03c4214d614f4196682d8a0a48d465",
       "version_major": 2,
       "version_minor": 0
      },
      "text/plain": [
       "  0%|          | 0/1 [00:00<?, ?it/s]"
      ]
     },
     "metadata": {},
     "output_type": "display_data"
    },
    {
     "data": {
      "text/html": [
       "<div>\n",
       "<style scoped>\n",
       "    .dataframe tbody tr th:only-of-type {\n",
       "        vertical-align: middle;\n",
       "    }\n",
       "\n",
       "    .dataframe tbody tr th {\n",
       "        vertical-align: top;\n",
       "    }\n",
       "\n",
       "    .dataframe thead th {\n",
       "        text-align: right;\n",
       "    }\n",
       "</style>\n",
       "<table border=\"1\" class=\"dataframe\">\n",
       "  <thead>\n",
       "    <tr style=\"text-align: right;\">\n",
       "      <th></th>\n",
       "      <th>Name</th>\n",
       "      <th>Review_count</th>\n",
       "      <th>Url</th>\n",
       "    </tr>\n",
       "  </thead>\n",
       "  <tbody>\n",
       "    <tr>\n",
       "      <th>0</th>\n",
       "      <td>플라 이지랩 자동 봉고데기 및 드라이기, 고데기, 두피케어~HIT 헤어스타일러 제안</td>\n",
       "      <td>3402</td>\n",
       "      <td>/item/dealItemView.ssg?itemId=1000065874177&amp;si...</td>\n",
       "    </tr>\n",
       "    <tr>\n",
       "      <th>1</th>\n",
       "      <td>★[브랜드위크 20% 쿠폰] JMW 항공모터 드라이기/고데기 특가</td>\n",
       "      <td>2709</td>\n",
       "      <td>/item/dealItemView.ssg?itemId=1000039917682&amp;si...</td>\n",
       "    </tr>\n",
       "    <tr>\n",
       "      <th>2</th>\n",
       "      <td>★[브랜드위크 20% 쿠폰] JMW 프리미엄 항공모터 드라이기/고데기 특가</td>\n",
       "      <td>2709</td>\n",
       "      <td>/item/dealItemView.ssg?itemId=1000036476134&amp;si...</td>\n",
       "    </tr>\n",
       "    <tr>\n",
       "      <th>3</th>\n",
       "      <td>다이슨코리아 슈퍼소닉/에어랩 갓스타일의 완성</td>\n",
       "      <td>1618</td>\n",
       "      <td>/item/dealItemView.ssg?itemId=1000040673169&amp;si...</td>\n",
       "    </tr>\n",
       "    <tr>\n",
       "      <th>4</th>\n",
       "      <td>★15%쿠폰할인BLDC항공모터드라이기&amp;고데기모음전</td>\n",
       "      <td>1374</td>\n",
       "      <td>/item/dealItemView.ssg?itemId=1000039492458&amp;si...</td>\n",
       "    </tr>\n",
       "    <tr>\n",
       "      <th>...</th>\n",
       "      <td>...</td>\n",
       "      <td>...</td>\n",
       "      <td>...</td>\n",
       "    </tr>\n",
       "    <tr>\n",
       "      <th>75</th>\n",
       "      <td>아름다움의 시작 케어에서부터, JMW 외 이미용가전 모음전</td>\n",
       "      <td>37</td>\n",
       "      <td>/item/dealItemView.ssg?itemId=1000066879600&amp;si...</td>\n",
       "    </tr>\n",
       "    <tr>\n",
       "      <th>76</th>\n",
       "      <td>1500W UN-A1141 전문가용드라이기/미용실헤어드라이기/업소용드라이기/음이온/...</td>\n",
       "      <td>None</td>\n",
       "      <td>/item/itemView.ssg?itemId=1000010220834&amp;siteNo...</td>\n",
       "    </tr>\n",
       "    <tr>\n",
       "      <th>77</th>\n",
       "      <td>4YOU 다이슨 에어랩 실리콘 커버 케이스 스크래치방지</td>\n",
       "      <td>None</td>\n",
       "      <td>/item/itemView.ssg?itemId=1000051519330&amp;siteNo...</td>\n",
       "    </tr>\n",
       "    <tr>\n",
       "      <th>78</th>\n",
       "      <td>프리미엄케어 스튜디오 드라이 HV5461</td>\n",
       "      <td>None</td>\n",
       "      <td>/item/itemView.ssg?itemId=1000060383446&amp;siteNo...</td>\n",
       "    </tr>\n",
       "    <tr>\n",
       "      <th>79</th>\n",
       "      <td>★[최저가할인 + 거치홀더증정]JMW 프리미엄 드라이기 에어센스 MS7001A 올화이트</td>\n",
       "      <td>None</td>\n",
       "      <td>/item/itemView.ssg?itemId=1000039305001&amp;siteNo...</td>\n",
       "    </tr>\n",
       "  </tbody>\n",
       "</table>\n",
       "<p>80 rows × 3 columns</p>\n",
       "</div>"
      ],
      "text/plain": [
       "                                                 Name Review_count  \\\n",
       "0      플라 이지랩 자동 봉고데기 및 드라이기, 고데기, 두피케어~HIT 헤어스타일러 제안         3402   \n",
       "1                ★[브랜드위크 20% 쿠폰] JMW 항공모터 드라이기/고데기 특가         2709   \n",
       "2           ★[브랜드위크 20% 쿠폰] JMW 프리미엄 항공모터 드라이기/고데기 특가         2709   \n",
       "3                            다이슨코리아 슈퍼소닉/에어랩 갓스타일의 완성         1618   \n",
       "4                         ★15%쿠폰할인BLDC항공모터드라이기&고데기모음전         1374   \n",
       "..                                                ...          ...   \n",
       "75                   아름다움의 시작 케어에서부터, JMW 외 이미용가전 모음전           37   \n",
       "76  1500W UN-A1141 전문가용드라이기/미용실헤어드라이기/업소용드라이기/음이온/...         None   \n",
       "77                     4YOU 다이슨 에어랩 실리콘 커버 케이스 스크래치방지         None   \n",
       "78                             프리미엄케어 스튜디오 드라이 HV5461         None   \n",
       "79   ★[최저가할인 + 거치홀더증정]JMW 프리미엄 드라이기 에어센스 MS7001A 올화이트         None   \n",
       "\n",
       "                                                  Url  \n",
       "0   /item/dealItemView.ssg?itemId=1000065874177&si...  \n",
       "1   /item/dealItemView.ssg?itemId=1000039917682&si...  \n",
       "2   /item/dealItemView.ssg?itemId=1000036476134&si...  \n",
       "3   /item/dealItemView.ssg?itemId=1000040673169&si...  \n",
       "4   /item/dealItemView.ssg?itemId=1000039492458&si...  \n",
       "..                                                ...  \n",
       "75  /item/dealItemView.ssg?itemId=1000066879600&si...  \n",
       "76  /item/itemView.ssg?itemId=1000010220834&siteNo...  \n",
       "77  /item/itemView.ssg?itemId=1000051519330&siteNo...  \n",
       "78  /item/itemView.ssg?itemId=1000060383446&siteNo...  \n",
       "79  /item/itemView.ssg?itemId=1000039305001&siteNo...  \n",
       "\n",
       "[80 rows x 3 columns]"
      ]
     },
     "execution_count": 15,
     "metadata": {},
     "output_type": "execute_result"
    }
   ],
   "source": [
    "head_df = Main_page_concat(1,\"헤어드라이기\")\n",
    "head_df"
   ]
  },
  {
   "cell_type": "markdown",
   "metadata": {},
   "source": [
    "# Review_page"
   ]
  },
  {
   "cell_type": "code",
   "execution_count": 16,
   "metadata": {},
   "outputs": [],
   "source": [
    "def Review_URL(head_df,target_row):\n",
    "    \"\"\"\n",
    "    head_df = main page information\n",
    "    target_row = head_df's target product\n",
    "    page_2 = target product's review pages\n",
    "    \"\"\"\n",
    "    url_base_ = 'http://www.ssg.com'\n",
    "    Target_name = head_df[\"Name\"][target_row]\n",
    "    target_url = head_df[\"Url\"][target_row]#.encode('utf-8')\n",
    "    Target_max_p = head_df[\"Review_count\"][target_row]\n",
    "\n",
    "    ## Request HTML\n",
    "    header = {'User-Agent':ua.chrome,\n",
    "              \"referer\":\"http://www.ssg.com/\"}\n",
    "\n",
    "    html = requests.get(url_base_ + target_url,headers=header).text\n",
    "    soup = BeautifulSoup(html,\"html.parser\")\n",
    "\n",
    "    ## Review_page Params data\n",
    "\n",
    "    actu_num = 0\n",
    "    for tag in soup.select(\".chd_lst_choice \"):\n",
    "        try:\n",
    "            actu_num = tag.find(\"li\",class_=\"item\")[\"data-deal-option\"]\n",
    "        except:\n",
    "            pass\n",
    "\n",
    "    dic_ = {}\n",
    "    for m in [i.split(\"=\") for i in target_url.split(\"?\")[1].split(\"&\")]:\n",
    "        dic_[m[0]] = m[1]\n",
    "    dic_[\"itemId\"] = actu_num\n",
    "\n",
    "    ## Review_page Request\n",
    "\n",
    "    url_re_base = \"http://www.ssg.com/item/ajaxItemCommentList.ssg?itemId={}&siteNo={}&page={}&pageSize={}\"\n",
    "    item_id = dic_[\"itemId\"]\n",
    "    site_no = dic_[\"siteNo\"]\n",
    "    page_sz = 20\n",
    "    Url_review = url_re_base.format(item_id,site_no,\"{}\",page_sz)\n",
    "    return Url_review,Target_name,Target_max_p"
   ]
  },
  {
   "cell_type": "code",
   "execution_count": 18,
   "metadata": {},
   "outputs": [
    {
     "data": {
      "text/plain": [
       "'http://www.ssg.com/item/ajaxItemCommentList.ssg?itemId=1000031479690&siteNo=6004&page={}&pageSize=20'"
      ]
     },
     "execution_count": 18,
     "metadata": {},
     "output_type": "execute_result"
    }
   ],
   "source": [
    "url_review,target_name,max_page = Review_URL(head_df,1)\n",
    "url_review"
   ]
  },
  {
   "cell_type": "code",
   "execution_count": 19,
   "metadata": {},
   "outputs": [
    {
     "data": {
      "text/plain": [
       "'★[브랜드위크 20% 쿠폰] JMW 항공모터 드라이기/고데기 특가'"
      ]
     },
     "execution_count": 19,
     "metadata": {},
     "output_type": "execute_result"
    }
   ],
   "source": [
    "target_name"
   ]
  },
  {
   "cell_type": "code",
   "execution_count": null,
   "metadata": {},
   "outputs": [],
   "source": []
  },
  {
   "cell_type": "code",
   "execution_count": 36,
   "metadata": {},
   "outputs": [],
   "source": [
    "def Review_page_ex(url_review,target_name):\n",
    "    header = {'User-Agent':ua.chrome,\n",
    "              \"referer\":\"http://www.ssg.com/\"}\n",
    "\n",
    "    html = requests.get(url_review,headers=header).text\n",
    "    review_n = len(json.loads(html)[\"pageDto\"][\"resultList\"])\n",
    "    review_1 = json.loads(html)[\"pageDto\"][\"resultList\"]\n",
    "    data_all = []\n",
    "    for re_i in range(len(json.loads(html)[\"pageDto\"][\"resultList\"])):\n",
    "        date_ = json.loads(html)[\"pageDto\"][\"resultList\"][re_i][\"wrtDt\"]\n",
    "        id_ = json.loads(html)[\"pageDto\"][\"resultList\"][re_i][\"mbrLoginId\"]\n",
    "        item_ = target_name\n",
    "        score_ = json.loads(html)[\"pageDto\"][\"resultList\"][re_i][\"recomEvalScr\"]\n",
    "        contents_ = json.loads(html)[\"pageDto\"][\"resultList\"][re_i][\"postngTitleNm\"]\n",
    "        liked_ = \"\"\n",
    "        channel_ = \"SSG\"\n",
    "        all_ = [date_,id_,item_,score_,contents_,liked_,channel_]\n",
    "        data_all.append(all_)\n",
    "    df_ = pd.DataFrame(data_all).rename(columns={0:\"date\",1:\"id\",2:\"item\",3:\"score\",4:\"contents\",5:\"liked\",6:\"channel\"})\n",
    "    return df_"
   ]
  },
  {
   "cell_type": "code",
   "execution_count": 37,
   "metadata": {},
   "outputs": [],
   "source": [
    "def Crawling_SSG_all(head_df,TA_):\n",
    "    Url_review,target_name,max_page = Review_URL(head_df,TA_)\n",
    "    MaxPage = max_page//10\n",
    "    tq = tqdm(range(MaxPage))\n",
    "\n",
    "    review_all = pd.DataFrame()\n",
    "\n",
    "    for mp in tq:\n",
    "        url_review =Url_review.format(mp+1)\n",
    "    #    print(url_review)\n",
    "        review_candi = Review_page_ex(url_review,target_name)\n",
    "        review_all = pd.concat([review_all,review_candi]).reset_index(drop=True)\n",
    "    return review_all,target_name"
   ]
  },
  {
   "cell_type": "code",
   "execution_count": 38,
   "metadata": {
    "scrolled": true
   },
   "outputs": [
    {
     "data": {
      "application/vnd.jupyter.widget-view+json": {
       "model_id": "836880d389a64462856ef7ee89484ec2",
       "version_major": 2,
       "version_minor": 0
      },
      "text/plain": [
       "  0%|          | 0/270 [00:00<?, ?it/s]"
      ]
     },
     "metadata": {},
     "output_type": "display_data"
    },
    {
     "data": {
      "text/html": [
       "<div>\n",
       "<style scoped>\n",
       "    .dataframe tbody tr th:only-of-type {\n",
       "        vertical-align: middle;\n",
       "    }\n",
       "\n",
       "    .dataframe tbody tr th {\n",
       "        vertical-align: top;\n",
       "    }\n",
       "\n",
       "    .dataframe thead th {\n",
       "        text-align: right;\n",
       "    }\n",
       "</style>\n",
       "<table border=\"1\" class=\"dataframe\">\n",
       "  <thead>\n",
       "    <tr style=\"text-align: right;\">\n",
       "      <th></th>\n",
       "      <th>date</th>\n",
       "      <th>id</th>\n",
       "      <th>item</th>\n",
       "      <th>score</th>\n",
       "      <th>contents</th>\n",
       "      <th>liked</th>\n",
       "      <th>channel</th>\n",
       "    </tr>\n",
       "  </thead>\n",
       "  <tbody>\n",
       "    <tr>\n",
       "      <th>0</th>\n",
       "      <td>20210527</td>\n",
       "      <td>cjj*******</td>\n",
       "      <td>★[브랜드위크 20% 쿠폰] JMW 항공모터 드라이기/고데기 특가</td>\n",
       "      <td>5</td>\n",
       "      <td>아기가 드라이기를 자꾸 망가트려서 튼튼하면서도 전자파걱정 없는 제품찾다가 구매했어요...</td>\n",
       "      <td></td>\n",
       "      <td>SSG</td>\n",
       "    </tr>\n",
       "    <tr>\n",
       "      <th>1</th>\n",
       "      <td>20210410</td>\n",
       "      <td>les*******</td>\n",
       "      <td>★[브랜드위크 20% 쿠폰] JMW 항공모터 드라이기/고데기 특가</td>\n",
       "      <td>5</td>\n",
       "      <td>현재 사용중인 헤어드라이기가 10년이 넘게 사용하고 있었지요. 딱히 새로 살 필요성...</td>\n",
       "      <td></td>\n",
       "      <td>SSG</td>\n",
       "    </tr>\n",
       "    <tr>\n",
       "      <th>2</th>\n",
       "      <td>20210712</td>\n",
       "      <td>cha*******</td>\n",
       "      <td>★[브랜드위크 20% 쿠폰] JMW 항공모터 드라이기/고데기 특가</td>\n",
       "      <td>5</td>\n",
       "      <td>바람세기가 low high turbo 3단계로되어있어서\\n다양하게 활용가능해요.\\n...</td>\n",
       "      <td></td>\n",
       "      <td>SSG</td>\n",
       "    </tr>\n",
       "    <tr>\n",
       "      <th>3</th>\n",
       "      <td>20210707</td>\n",
       "      <td>yel*******</td>\n",
       "      <td>★[브랜드위크 20% 쿠폰] JMW 항공모터 드라이기/고데기 특가</td>\n",
       "      <td>5</td>\n",
       "      <td>믿고 쓰는 JMW  슥닷컴 사은품과 만원 할인 쿠폰까지\\n만족한 가격에 구입 했네요...</td>\n",
       "      <td></td>\n",
       "      <td>SSG</td>\n",
       "    </tr>\n",
       "    <tr>\n",
       "      <th>4</th>\n",
       "      <td>20210126</td>\n",
       "      <td>ghk*******</td>\n",
       "      <td>★[브랜드위크 20% 쿠폰] JMW 항공모터 드라이기/고데기 특가</td>\n",
       "      <td>4</td>\n",
       "      <td>가볍고 바람이 정말 세고 좋아요! \\r\\n단점이라면 바람이 너무 세서 그런지 좀 엉...</td>\n",
       "      <td></td>\n",
       "      <td>SSG</td>\n",
       "    </tr>\n",
       "    <tr>\n",
       "      <th>...</th>\n",
       "      <td>...</td>\n",
       "      <td>...</td>\n",
       "      <td>...</td>\n",
       "      <td>...</td>\n",
       "      <td>...</td>\n",
       "      <td>...</td>\n",
       "      <td>...</td>\n",
       "    </tr>\n",
       "    <tr>\n",
       "      <th>1151</th>\n",
       "      <td>20190417</td>\n",
       "      <td>pas*******</td>\n",
       "      <td>★[브랜드위크 20% 쿠폰] JMW 항공모터 드라이기/고데기 특가</td>\n",
       "      <td>5</td>\n",
       "      <td>성능과 디자인 모두 만족스러운 제품</td>\n",
       "      <td></td>\n",
       "      <td>SSG</td>\n",
       "    </tr>\n",
       "    <tr>\n",
       "      <th>1152</th>\n",
       "      <td>20190410</td>\n",
       "      <td>dus*******</td>\n",
       "      <td>★[브랜드위크 20% 쿠폰] JMW 항공모터 드라이기/고데기 특가</td>\n",
       "      <td>5</td>\n",
       "      <td>가성비최고네요무엇보다가벼워서좋아요</td>\n",
       "      <td></td>\n",
       "      <td>SSG</td>\n",
       "    </tr>\n",
       "    <tr>\n",
       "      <th>1153</th>\n",
       "      <td>20190330</td>\n",
       "      <td>lov*******</td>\n",
       "      <td>★[브랜드위크 20% 쿠폰] JMW 항공모터 드라이기/고데기 특가</td>\n",
       "      <td>5</td>\n",
       "      <td>가볍고 바람이 강하면서도 부드러워요~</td>\n",
       "      <td></td>\n",
       "      <td>SSG</td>\n",
       "    </tr>\n",
       "    <tr>\n",
       "      <th>1154</th>\n",
       "      <td>20190215</td>\n",
       "      <td>tty*******</td>\n",
       "      <td>★[브랜드위크 20% 쿠폰] JMW 항공모터 드라이기/고데기 특가</td>\n",
       "      <td>5</td>\n",
       "      <td>포장 잘되어서 오네요\\r\\n이마트 좋습니다.</td>\n",
       "      <td></td>\n",
       "      <td>SSG</td>\n",
       "    </tr>\n",
       "    <tr>\n",
       "      <th>1155</th>\n",
       "      <td>20190210</td>\n",
       "      <td>jde*******</td>\n",
       "      <td>★[브랜드위크 20% 쿠폰] JMW 항공모터 드라이기/고데기 특가</td>\n",
       "      <td>5</td>\n",
       "      <td>가볍고 바람잘나오네요\\n무광 블랙이라 고급스러워요</td>\n",
       "      <td></td>\n",
       "      <td>SSG</td>\n",
       "    </tr>\n",
       "  </tbody>\n",
       "</table>\n",
       "<p>1156 rows × 7 columns</p>\n",
       "</div>"
      ],
      "text/plain": [
       "          date          id                                  item  score  \\\n",
       "0     20210527  cjj*******  ★[브랜드위크 20% 쿠폰] JMW 항공모터 드라이기/고데기 특가      5   \n",
       "1     20210410  les*******  ★[브랜드위크 20% 쿠폰] JMW 항공모터 드라이기/고데기 특가      5   \n",
       "2     20210712  cha*******  ★[브랜드위크 20% 쿠폰] JMW 항공모터 드라이기/고데기 특가      5   \n",
       "3     20210707  yel*******  ★[브랜드위크 20% 쿠폰] JMW 항공모터 드라이기/고데기 특가      5   \n",
       "4     20210126  ghk*******  ★[브랜드위크 20% 쿠폰] JMW 항공모터 드라이기/고데기 특가      4   \n",
       "...        ...         ...                                   ...    ...   \n",
       "1151  20190417  pas*******  ★[브랜드위크 20% 쿠폰] JMW 항공모터 드라이기/고데기 특가      5   \n",
       "1152  20190410  dus*******  ★[브랜드위크 20% 쿠폰] JMW 항공모터 드라이기/고데기 특가      5   \n",
       "1153  20190330  lov*******  ★[브랜드위크 20% 쿠폰] JMW 항공모터 드라이기/고데기 특가      5   \n",
       "1154  20190215  tty*******  ★[브랜드위크 20% 쿠폰] JMW 항공모터 드라이기/고데기 특가      5   \n",
       "1155  20190210  jde*******  ★[브랜드위크 20% 쿠폰] JMW 항공모터 드라이기/고데기 특가      5   \n",
       "\n",
       "                                               contents liked channel  \n",
       "0     아기가 드라이기를 자꾸 망가트려서 튼튼하면서도 전자파걱정 없는 제품찾다가 구매했어요...           SSG  \n",
       "1     현재 사용중인 헤어드라이기가 10년이 넘게 사용하고 있었지요. 딱히 새로 살 필요성...           SSG  \n",
       "2     바람세기가 low high turbo 3단계로되어있어서\\n다양하게 활용가능해요.\\n...           SSG  \n",
       "3     믿고 쓰는 JMW  슥닷컴 사은품과 만원 할인 쿠폰까지\\n만족한 가격에 구입 했네요...           SSG  \n",
       "4     가볍고 바람이 정말 세고 좋아요! \\r\\n단점이라면 바람이 너무 세서 그런지 좀 엉...           SSG  \n",
       "...                                                 ...   ...     ...  \n",
       "1151                                성능과 디자인 모두 만족스러운 제품           SSG  \n",
       "1152                                 가성비최고네요무엇보다가벼워서좋아요           SSG  \n",
       "1153                               가볍고 바람이 강하면서도 부드러워요~           SSG  \n",
       "1154                           포장 잘되어서 오네요\\r\\n이마트 좋습니다.           SSG  \n",
       "1155                        가볍고 바람잘나오네요\\n무광 블랙이라 고급스러워요           SSG  \n",
       "\n",
       "[1156 rows x 7 columns]"
      ]
     },
     "execution_count": 38,
     "metadata": {},
     "output_type": "execute_result"
    }
   ],
   "source": [
    "out_,NA_ = Crawling_SSG_all(head_df,1)\n",
    "out_"
   ]
  },
  {
   "cell_type": "code",
   "execution_count": null,
   "metadata": {},
   "outputs": [],
   "source": []
  },
  {
   "cell_type": "code",
   "execution_count": 39,
   "metadata": {},
   "outputs": [],
   "source": [
    "def SSG_Save_local(path_,head_df):\n",
    "    for i_ in range(len(head_df)):\n",
    "        print(\"In {} Pro From {}\".format(i_+1,len(head_df)+1))\n",
    "        print()\n",
    "        print(head_df[\"Name\"][i_])\n",
    "        out_,NA_ = Crawling_SSG_all(head_df,i_)\n",
    "        NA_ = NA_.replace(\"/\",\"\")\n",
    "        out_.to_excel(path_.format(NA_))"
   ]
  },
  {
   "cell_type": "code",
   "execution_count": 40,
   "metadata": {
    "scrolled": true
   },
   "outputs": [
    {
     "name": "stdout",
     "output_type": "stream",
     "text": [
      "In 1 Pro From 81\n",
      "\n",
      "플라 이지랩 자동 봉고데기 및 드라이기, 고데기, 두피케어~HIT 헤어스타일러 제안\n"
     ]
    },
    {
     "data": {
      "application/vnd.jupyter.widget-view+json": {
       "model_id": "22e9b20e33be43a3865dbe692362067f",
       "version_major": 2,
       "version_minor": 0
      },
      "text/plain": [
       "  0%|          | 0/340 [00:00<?, ?it/s]"
      ]
     },
     "metadata": {},
     "output_type": "display_data"
    },
    {
     "name": "stdout",
     "output_type": "stream",
     "text": [
      "In 2 Pro From 81\n",
      "\n",
      "★[브랜드위크 20% 쿠폰] JMW 항공모터 드라이기/고데기 특가\n"
     ]
    },
    {
     "data": {
      "application/vnd.jupyter.widget-view+json": {
       "model_id": "c84b8ec47b0442fcb0d3c38ac39afaec",
       "version_major": 2,
       "version_minor": 0
      },
      "text/plain": [
       "  0%|          | 0/270 [00:00<?, ?it/s]"
      ]
     },
     "metadata": {},
     "output_type": "display_data"
    },
    {
     "name": "stdout",
     "output_type": "stream",
     "text": [
      "In 3 Pro From 81\n",
      "\n",
      "★[브랜드위크 20% 쿠폰] JMW 프리미엄 항공모터 드라이기/고데기 특가\n"
     ]
    },
    {
     "data": {
      "application/vnd.jupyter.widget-view+json": {
       "model_id": "b05e9bbdeb84440eacbf34e60580e5d5",
       "version_major": 2,
       "version_minor": 0
      },
      "text/plain": [
       "  0%|          | 0/270 [00:00<?, ?it/s]"
      ]
     },
     "metadata": {},
     "output_type": "display_data"
    },
    {
     "name": "stdout",
     "output_type": "stream",
     "text": [
      "In 4 Pro From 81\n",
      "\n",
      "다이슨코리아 슈퍼소닉/에어랩 갓스타일의 완성\n"
     ]
    },
    {
     "data": {
      "application/vnd.jupyter.widget-view+json": {
       "model_id": "632c245d86d5474b8a8e5ef0043037c4",
       "version_major": 2,
       "version_minor": 0
      },
      "text/plain": [
       "  0%|          | 0/161 [00:00<?, ?it/s]"
      ]
     },
     "metadata": {},
     "output_type": "display_data"
    },
    {
     "name": "stdout",
     "output_type": "stream",
     "text": [
      "In 5 Pro From 81\n",
      "\n",
      "★15%쿠폰할인BLDC항공모터드라이기&고데기모음전\n"
     ]
    },
    {
     "data": {
      "application/vnd.jupyter.widget-view+json": {
       "model_id": "1a05626daaac474eaa1ccf819d6d3c73",
       "version_major": 2,
       "version_minor": 0
      },
      "text/plain": [
       "  0%|          | 0/137 [00:00<?, ?it/s]"
      ]
     },
     "metadata": {},
     "output_type": "display_data"
    },
    {
     "name": "stdout",
     "output_type": "stream",
     "text": [
      "In 6 Pro From 81\n",
      "\n",
      "[추가15%쿠폰할인 + 거치홀더증정 ]JMW BEST드라이기 &고데기  특별구성\n"
     ]
    },
    {
     "data": {
      "application/vnd.jupyter.widget-view+json": {
       "model_id": "68f7d765360143449e16bcb5f5185daf",
       "version_major": 2,
       "version_minor": 0
      },
      "text/plain": [
       "  0%|          | 0/133 [00:00<?, ?it/s]"
      ]
     },
     "metadata": {},
     "output_type": "display_data"
    },
    {
     "name": "stdout",
     "output_type": "stream",
     "text": [
      "In 7 Pro From 81\n",
      "\n",
      "고데기/매직기/드라이어 베스트 모델 모음전!\n"
     ]
    },
    {
     "data": {
      "application/vnd.jupyter.widget-view+json": {
       "model_id": "0dec71e2896e44d18a042664aacaefc4",
       "version_major": 2,
       "version_minor": 0
      },
      "text/plain": [
       "  0%|          | 0/131 [00:00<?, ?it/s]"
      ]
     },
     "metadata": {},
     "output_type": "display_data"
    },
    {
     "name": "stdout",
     "output_type": "stream",
     "text": [
      "In 8 Pro From 81\n",
      "\n",
      "★[썸머위크 12% 할인쿠폰] JMW 에어젯 터보 MS6020B 항공모터 헤어 드라이기 블랙+사은품\n"
     ]
    },
    {
     "data": {
      "application/vnd.jupyter.widget-view+json": {
       "model_id": "14cb4732c8f44f15af5e4f103d399678",
       "version_major": 2,
       "version_minor": 0
      },
      "text/plain": [
       "  0%|          | 0/116 [00:00<?, ?it/s]"
      ]
     },
     "metadata": {},
     "output_type": "display_data"
    },
    {
     "name": "stdout",
     "output_type": "stream",
     "text": [
      "In 9 Pro From 81\n",
      "\n",
      "드라이기&고데기 베스트상품 모음제안 택1\n"
     ]
    },
    {
     "data": {
      "application/vnd.jupyter.widget-view+json": {
       "model_id": "b671bfc3eba1445b888db16257bc189e",
       "version_major": 2,
       "version_minor": 0
      },
      "text/plain": [
       "  0%|          | 0/108 [00:00<?, ?it/s]"
      ]
     },
     "metadata": {},
     "output_type": "display_data"
    },
    {
     "name": "stdout",
     "output_type": "stream",
     "text": [
      "In 10 Pro From 81\n",
      "\n",
      "[필립스] 면도기,드라이기, 소닉케어外 34종 택1\n"
     ]
    },
    {
     "data": {
      "application/vnd.jupyter.widget-view+json": {
       "model_id": "80cb30ad0a8f44fe8e935b0ea8ae0e14",
       "version_major": 2,
       "version_minor": 0
      },
      "text/plain": [
       "  0%|          | 0/60 [00:00<?, ?it/s]"
      ]
     },
     "metadata": {},
     "output_type": "display_data"
    },
    {
     "name": "stdout",
     "output_type": "stream",
     "text": [
      "In 11 Pro From 81\n",
      "\n",
      "★[썸머위크 13% 할인쿠폰] JMW M5001A PLUS 전문가용 항공모터 헤어 드라이기 블랙+사은품\n"
     ]
    },
    {
     "data": {
      "application/vnd.jupyter.widget-view+json": {
       "model_id": "5d574a36a4e74a7392dbcce25c3b1972",
       "version_major": 2,
       "version_minor": 0
      },
      "text/plain": [
       "  0%|          | 0/53 [00:00<?, ?it/s]"
      ]
     },
     "metadata": {},
     "output_type": "display_data"
    },
    {
     "name": "stdout",
     "output_type": "stream",
     "text": [
      "In 12 Pro From 81\n",
      "\n",
      "[바비리스] BEST 드라이기 / 고데기 / 봉고데기 / 스타일러 모음전\n"
     ]
    },
    {
     "data": {
      "application/vnd.jupyter.widget-view+json": {
       "model_id": "f0f33bb0c1e74a8196175a6a9104caa9",
       "version_major": 2,
       "version_minor": 0
      },
      "text/plain": [
       "  0%|          | 0/51 [00:00<?, ?it/s]"
      ]
     },
     "metadata": {},
     "output_type": "display_data"
    },
    {
     "name": "stdout",
     "output_type": "stream",
     "text": [
      "In 13 Pro From 81\n",
      "\n",
      "★[15%쿠폰할인+거치홀더증정]JMW BLDC항공모터 드라이기 MG1800 화이트\n"
     ]
    },
    {
     "data": {
      "application/vnd.jupyter.widget-view+json": {
       "model_id": "161fc781c8f048c5ba1c3d995258719d",
       "version_major": 2,
       "version_minor": 0
      },
      "text/plain": [
       "  0%|          | 0/49 [00:00<?, ?it/s]"
      ]
     },
     "metadata": {},
     "output_type": "display_data"
    },
    {
     "name": "stdout",
     "output_type": "stream",
     "text": [
      "In 14 Pro From 81\n",
      "\n",
      "★최신상! 다이슨 슈퍼소닉 HD08 (푸시아/아이언) 플라이어웨이 노즐 추가구성\n"
     ]
    },
    {
     "data": {
      "application/vnd.jupyter.widget-view+json": {
       "model_id": "6264a34dc97740599f2805f036d430bd",
       "version_major": 2,
       "version_minor": 0
      },
      "text/plain": [
       "  0%|          | 0/45 [00:00<?, ?it/s]"
      ]
     },
     "metadata": {},
     "output_type": "display_data"
    },
    {
     "name": "stdout",
     "output_type": "stream",
     "text": [
      "In 15 Pro From 81\n",
      "\n",
      "M5001A PLUS 항공모터 전문가용 드라이기 LB035\n"
     ]
    },
    {
     "data": {
      "application/vnd.jupyter.widget-view+json": {
       "model_id": "be9abb4d0dfb4ca4a3dd14aa882ac891",
       "version_major": 2,
       "version_minor": 0
      },
      "text/plain": [
       "  0%|          | 0/37 [00:00<?, ?it/s]"
      ]
     },
     "metadata": {},
     "output_type": "display_data"
    },
    {
     "name": "stdout",
     "output_type": "stream",
     "text": [
      "In 16 Pro From 81\n",
      "\n",
      "드라이케어 어드밴스드 헤어드라이기 HP8230/00\n"
     ]
    },
    {
     "data": {
      "application/vnd.jupyter.widget-view+json": {
       "model_id": "5b60291e7b3a4fa68ef37c71858b6b7c",
       "version_major": 2,
       "version_minor": 0
      },
      "text/plain": [
       "  0%|          | 0/36 [00:00<?, ?it/s]"
      ]
     },
     "metadata": {},
     "output_type": "display_data"
    },
    {
     "name": "stdout",
     "output_type": "stream",
     "text": [
      "In 17 Pro From 81\n",
      "\n",
      "★[썸머위크 13% 할인쿠폰] JMW MA6001A 전문가용 항공모터 헤어 드라이기 블랙+사은품\n"
     ]
    },
    {
     "data": {
      "application/vnd.jupyter.widget-view+json": {
       "model_id": "cb9a2bf6a54e40518bfae6e64e1b3e03",
       "version_major": 2,
       "version_minor": 0
      },
      "text/plain": [
       "  0%|          | 0/30 [00:00<?, ?it/s]"
      ]
     },
     "metadata": {},
     "output_type": "display_data"
    },
    {
     "name": "stdout",
     "output_type": "stream",
     "text": [
      "In 18 Pro From 81\n",
      "\n",
      "★[썸머위크 12% 할인쿠폰] JMW 에어젯 터보 MS6010A 항공모터 헤어 드라이기 화이트+사은품\n"
     ]
    },
    {
     "data": {
      "application/vnd.jupyter.widget-view+json": {
       "model_id": "0bf4c5d9c195475284c06cc6ba0a60a7",
       "version_major": 2,
       "version_minor": 0
      },
      "text/plain": [
       "  0%|          | 0/29 [00:00<?, ?it/s]"
      ]
     },
     "metadata": {},
     "output_type": "display_data"
    },
    {
     "name": "stdout",
     "output_type": "stream",
     "text": [
      "In 19 Pro From 81\n",
      "\n",
      "★[15%쿠폰할인 + 거치홀더증정]JMW 터보항공모터 드라이기 팬텀 MS6001A 로즈골드\n"
     ]
    },
    {
     "data": {
      "application/vnd.jupyter.widget-view+json": {
       "model_id": "a396446bb66445869cdd57e90bd376e0",
       "version_major": 2,
       "version_minor": 0
      },
      "text/plain": [
       "  0%|          | 0/28 [00:00<?, ?it/s]"
      ]
     },
     "metadata": {},
     "output_type": "display_data"
    },
    {
     "name": "stdout",
     "output_type": "stream",
     "text": [
      "In 20 Pro From 81\n",
      "\n",
      "[드라이기 HP8232/00]\n"
     ]
    },
    {
     "data": {
      "application/vnd.jupyter.widget-view+json": {
       "model_id": "3bf037d9ead546be98ec467ac2b21117",
       "version_major": 2,
       "version_minor": 0
      },
      "text/plain": [
       "  0%|          | 0/26 [00:00<?, ?it/s]"
      ]
     },
     "metadata": {},
     "output_type": "display_data"
    },
    {
     "name": "stdout",
     "output_type": "stream",
     "text": [
      "In 21 Pro From 81\n",
      "\n",
      "FHIKOREA 프리미엄 헤어기기 특가전\n"
     ]
    },
    {
     "data": {
      "application/vnd.jupyter.widget-view+json": {
       "model_id": "c38dac8d2c87479ca574500bab61e00b",
       "version_major": 2,
       "version_minor": 0
      },
      "text/plain": [
       "  0%|          | 0/25 [00:00<?, ?it/s]"
      ]
     },
     "metadata": {},
     "output_type": "display_data"
    },
    {
     "name": "stdout",
     "output_type": "stream",
     "text": [
      "In 22 Pro From 81\n",
      "\n",
      "로그인 6%쿠폰★유닉스 1600W 메탈 바이올렛 헤어드라이기 UN-B1611\n"
     ]
    },
    {
     "data": {
      "application/vnd.jupyter.widget-view+json": {
       "model_id": "3d906e290dbe4a208593424a66feb5dc",
       "version_major": 2,
       "version_minor": 0
      },
      "text/plain": [
       "  0%|          | 0/24 [00:00<?, ?it/s]"
      ]
     },
     "metadata": {},
     "output_type": "display_data"
    },
    {
     "name": "stdout",
     "output_type": "stream",
     "text": [
      "In 23 Pro From 81\n",
      "\n",
      "음이온 고풍량(2000W) 드라이기 UN-B1570\n"
     ]
    },
    {
     "data": {
      "application/vnd.jupyter.widget-view+json": {
       "model_id": "07d2850c885d429fad7075be17285444",
       "version_major": 2,
       "version_minor": 0
      },
      "text/plain": [
       "  0%|          | 0/23 [00:00<?, ?it/s]"
      ]
     },
     "metadata": {},
     "output_type": "display_data"
    },
    {
     "name": "stdout",
     "output_type": "stream",
     "text": [
      "In 24 Pro From 81\n",
      "\n",
      "JMW, 테팔 外 리빙, 이미용 가전 총집합\n"
     ]
    },
    {
     "data": {
      "application/vnd.jupyter.widget-view+json": {
       "model_id": "c50a857f0967483eb106b8bd1c969fbf",
       "version_major": 2,
       "version_minor": 0
      },
      "text/plain": [
       "  0%|          | 0/21 [00:00<?, ?it/s]"
      ]
     },
     "metadata": {},
     "output_type": "display_data"
    },
    {
     "name": "stdout",
     "output_type": "stream",
     "text": [
      "In 25 Pro From 81\n",
      "\n",
      "JMW,브라운,셀리턴 외 셀프케어 가전 모음\n"
     ]
    },
    {
     "data": {
      "application/vnd.jupyter.widget-view+json": {
       "model_id": "1b54c6c23ed8479f9a5293db8bd54af0",
       "version_major": 2,
       "version_minor": 0
      },
      "text/plain": [
       "  0%|          | 0/21 [00:00<?, ?it/s]"
      ]
     },
     "metadata": {},
     "output_type": "display_data"
    },
    {
     "name": "stdout",
     "output_type": "stream",
     "text": [
      "In 26 Pro From 81\n",
      "\n",
      "본사 신상 LED 케어 테라피 드라이기 런칭! 특가 + 사은품 혜택\n"
     ]
    },
    {
     "data": {
      "application/vnd.jupyter.widget-view+json": {
       "model_id": "682eb0efef6247ae9ea47fa063fc11fd",
       "version_major": 2,
       "version_minor": 0
      },
      "text/plain": [
       "  0%|          | 0/21 [00:00<?, ?it/s]"
      ]
     },
     "metadata": {},
     "output_type": "display_data"
    },
    {
     "name": "stdout",
     "output_type": "stream",
     "text": [
      "In 27 Pro From 81\n",
      "\n",
      "써모프로텍트 헤어드라이어 HP8246/09\n"
     ]
    },
    {
     "data": {
      "application/vnd.jupyter.widget-view+json": {
       "model_id": "c6d6b1e35c114c47a350540080ae3253",
       "version_major": 2,
       "version_minor": 0
      },
      "text/plain": [
       "  0%|          | 0/19 [00:00<?, ?it/s]"
      ]
     },
     "metadata": {},
     "output_type": "display_data"
    },
    {
     "name": "stdout",
     "output_type": "stream",
     "text": [
      "In 28 Pro From 81\n",
      "\n",
      "[JMW 본사] BLDC 드라이기/고데기 최대 20% 할인 & 사은품 증정\n"
     ]
    },
    {
     "data": {
      "application/vnd.jupyter.widget-view+json": {
       "model_id": "3b26a1bb9c004b4bb81ae50055c3db9e",
       "version_major": 2,
       "version_minor": 0
      },
      "text/plain": [
       "  0%|          | 0/18 [00:00<?, ?it/s]"
      ]
     },
     "metadata": {},
     "output_type": "display_data"
    },
    {
     "name": "stdout",
     "output_type": "stream",
     "text": [
      "In 29 Pro From 81\n",
      "\n",
      "[SMF] 2200W 프리미엄케어 전문가용 헤어 드라이기 SMF-2202AH 쿨샷/전문가용/저소음/온도조절\n"
     ]
    },
    {
     "data": {
      "application/vnd.jupyter.widget-view+json": {
       "model_id": "a8e45c6a03074cda8ed42a0094518ed6",
       "version_major": 2,
       "version_minor": 0
      },
      "text/plain": [
       "  0%|          | 0/16 [00:00<?, ?it/s]"
      ]
     },
     "metadata": {},
     "output_type": "display_data"
    },
    {
     "name": "stdout",
     "output_type": "stream",
     "text": [
      "In 30 Pro From 81\n",
      "\n",
      "메탈 1600W 접이식 헤어 드라이기 UN-A1610\n"
     ]
    },
    {
     "data": {
      "application/vnd.jupyter.widget-view+json": {
       "model_id": "80e87240370b4274999ddf0d7fec495c",
       "version_major": 2,
       "version_minor": 0
      },
      "text/plain": [
       "  0%|          | 0/15 [00:00<?, ?it/s]"
      ]
     },
     "metadata": {},
     "output_type": "display_data"
    },
    {
     "name": "stdout",
     "output_type": "stream",
     "text": [
      "In 31 Pro From 81\n",
      "\n",
      " 2000W 고출력 음이온 헤어 드라이기 EPD-2011\n"
     ]
    },
    {
     "data": {
      "application/vnd.jupyter.widget-view+json": {
       "model_id": "299b5eef85ae4ec6a7d0b97d7e61d61d",
       "version_major": 2,
       "version_minor": 0
      },
      "text/plain": [
       "  0%|          | 0/15 [00:00<?, ?it/s]"
      ]
     },
     "metadata": {},
     "output_type": "display_data"
    },
    {
     "name": "stdout",
     "output_type": "stream",
     "text": [
      "In 32 Pro From 81\n",
      "\n",
      "★JMW 에어젯 터보 항공모터 헤어 드라이기 MS6020B 1600W + 거치대 세트\n"
     ]
    },
    {
     "data": {
      "application/vnd.jupyter.widget-view+json": {
       "model_id": "85ba9ec605fa408c9718598b495834b1",
       "version_major": 2,
       "version_minor": 0
      },
      "text/plain": [
       "  0%|          | 0/14 [00:00<?, ?it/s]"
      ]
     },
     "metadata": {},
     "output_type": "display_data"
    },
    {
     "name": "stdout",
     "output_type": "stream",
     "text": [
      "In 33 Pro From 81\n",
      "\n",
      "[필립스] 우리집 생활 필수템 (면도기,전동칫솔,헤어드라이기 8종 택1)\n"
     ]
    },
    {
     "data": {
      "application/vnd.jupyter.widget-view+json": {
       "model_id": "fca5a3898d4a45e0b5d5afc80df6b2ed",
       "version_major": 2,
       "version_minor": 0
      },
      "text/plain": [
       "  0%|          | 0/14 [00:00<?, ?it/s]"
      ]
     },
     "metadata": {},
     "output_type": "display_data"
    },
    {
     "name": "stdout",
     "output_type": "stream",
     "text": [
      "In 34 Pro From 81\n",
      "\n",
      "이온 헤어드라이기 UN-A1980\n"
     ]
    },
    {
     "data": {
      "application/vnd.jupyter.widget-view+json": {
       "model_id": "cb7cad9155674705a7bdfb38d7b89bfb",
       "version_major": 2,
       "version_minor": 0
      },
      "text/plain": [
       "  0%|          | 0/13 [00:00<?, ?it/s]"
      ]
     },
     "metadata": {},
     "output_type": "display_data"
    },
    {
     "name": "stdout",
     "output_type": "stream",
     "text": [
      "In 35 Pro From 81\n",
      "\n",
      "써모밸런스 헤어드라이어+마사지 디퓨저 BHD184/09\n"
     ]
    },
    {
     "data": {
      "application/vnd.jupyter.widget-view+json": {
       "model_id": "a17d60bb9179496ca3fc205cffa57bfc",
       "version_major": 2,
       "version_minor": 0
      },
      "text/plain": [
       "  0%|          | 0/13 [00:00<?, ?it/s]"
      ]
     },
     "metadata": {},
     "output_type": "display_data"
    },
    {
     "name": "stdout",
     "output_type": "stream",
     "text": [
      "In 36 Pro From 81\n",
      "\n",
      "[10%쿠폰할인]JMW 터보항공모터 드라이기 팬텀 MS6001A 로즈골드\n"
     ]
    },
    {
     "data": {
      "application/vnd.jupyter.widget-view+json": {
       "model_id": "e25c3b75f9c44dfda346fdfbf160b95d",
       "version_major": 2,
       "version_minor": 0
      },
      "text/plain": [
       "  0%|          | 0/12 [00:00<?, ?it/s]"
      ]
     },
     "metadata": {},
     "output_type": "display_data"
    },
    {
     "name": "stdout",
     "output_type": "stream",
     "text": [
      "In 37 Pro From 81\n",
      "\n",
      "파나소닉 신상 헤어스타일러 EH-KA31-w/헤어컬/빗드라이기/화이트색상\n"
     ]
    },
    {
     "data": {
      "application/vnd.jupyter.widget-view+json": {
       "model_id": "d9ec1d3f352e4efeb0925d3cef2718fd",
       "version_major": 2,
       "version_minor": 0
      },
      "text/plain": [
       "  0%|          | 0/11 [00:00<?, ?it/s]"
      ]
     },
     "metadata": {},
     "output_type": "display_data"
    },
    {
     "name": "stdout",
     "output_type": "stream",
     "text": [
      "In 38 Pro From 81\n",
      "\n",
      "★[최저가할인 + 거치홀더증정]JMW 팬텀 프라임 드라이기 MS6003C 무광블랙에디션\n"
     ]
    },
    {
     "data": {
      "application/vnd.jupyter.widget-view+json": {
       "model_id": "2478ba1ad3c141c4a3778fb25a744e1b",
       "version_major": 2,
       "version_minor": 0
      },
      "text/plain": [
       "  0%|          | 0/11 [00:00<?, ?it/s]"
      ]
     },
     "metadata": {},
     "output_type": "display_data"
    },
    {
     "name": "stdout",
     "output_type": "stream",
     "text": [
      "In 39 Pro From 81\n",
      "\n",
      "전문가용 드라이기  보라색/업소용/1650W\n"
     ]
    },
    {
     "data": {
      "application/vnd.jupyter.widget-view+json": {
       "model_id": "872628e790244f4e83243b8325176e91",
       "version_major": 2,
       "version_minor": 0
      },
      "text/plain": [
       "  0%|          | 0/10 [00:00<?, ?it/s]"
      ]
     },
     "metadata": {},
     "output_type": "display_data"
    },
    {
     "name": "stdout",
     "output_type": "stream",
     "text": [
      "In 40 Pro From 81\n",
      "\n",
      "유닉스 드라이어 UN-A1454\n"
     ]
    },
    {
     "data": {
      "application/vnd.jupyter.widget-view+json": {
       "model_id": "76dd386f95fe4d209d1b2ab0b1fd630f",
       "version_major": 2,
       "version_minor": 0
      },
      "text/plain": [
       "  0%|          | 0/10 [00:00<?, ?it/s]"
      ]
     },
     "metadata": {},
     "output_type": "display_data"
    },
    {
     "name": "stdout",
     "output_type": "stream",
     "text": [
      "In 41 Pro From 81\n",
      "\n",
      "드라이기/고데기 외 인기상품 특가전\n"
     ]
    },
    {
     "data": {
      "application/vnd.jupyter.widget-view+json": {
       "model_id": "2741556a2ec04a49a07398308c5ca4f8",
       "version_major": 2,
       "version_minor": 0
      },
      "text/plain": [
       "  0%|          | 0/10 [00:00<?, ?it/s]"
      ]
     },
     "metadata": {},
     "output_type": "display_data"
    },
    {
     "name": "stdout",
     "output_type": "stream",
     "text": [
      "In 42 Pro From 81\n",
      "\n",
      "이온 헤어드라이기 UN-A1980\n"
     ]
    },
    {
     "data": {
      "application/vnd.jupyter.widget-view+json": {
       "model_id": "8bc1ed7b84c24a1d97b5481f4cc1054a",
       "version_major": 2,
       "version_minor": 0
      },
      "text/plain": [
       "  0%|          | 0/10 [00:00<?, ?it/s]"
      ]
     },
     "metadata": {},
     "output_type": "display_data"
    },
    {
     "name": "stdout",
     "output_type": "stream",
     "text": [
      "In 43 Pro From 81\n",
      "\n",
      "★[썸머위크 14% 할인쿠폰] JMW MF5001A 전문가용 항공모터 접이식 헤어 드라이기 화이트+사은품\n"
     ]
    },
    {
     "data": {
      "application/vnd.jupyter.widget-view+json": {
       "model_id": "ff95b6cdd2bf4b7f93c5acf133d23863",
       "version_major": 2,
       "version_minor": 0
      },
      "text/plain": [
       "  0%|          | 0/9 [00:00<?, ?it/s]"
      ]
     },
     "metadata": {},
     "output_type": "display_data"
    },
    {
     "name": "stdout",
     "output_type": "stream",
     "text": [
      "In 44 Pro From 81\n",
      "\n",
      "강블리 고데기/드라이기/이발기/안마기/마사지기 등 이미용/건강가전 모음전\n"
     ]
    },
    {
     "data": {
      "application/vnd.jupyter.widget-view+json": {
       "model_id": "a3b7b5c94ca8494bacc8ec9c74c9f413",
       "version_major": 2,
       "version_minor": 0
      },
      "text/plain": [
       "  0%|          | 0/9 [00:00<?, ?it/s]"
      ]
     },
     "metadata": {},
     "output_type": "display_data"
    },
    {
     "name": "stdout",
     "output_type": "stream",
     "text": [
      "In 45 Pro From 81\n",
      "\n",
      "★[썸머위크 13% 쿠폰] JMW 에어젯 울트라 MS6031E 항공모터 헤어 드라이기 블랙+사은품\n"
     ]
    },
    {
     "data": {
      "application/vnd.jupyter.widget-view+json": {
       "model_id": "4d7854585c43451dbbfa8a115001188a",
       "version_major": 2,
       "version_minor": 0
      },
      "text/plain": [
       "  0%|          | 0/9 [00:00<?, ?it/s]"
      ]
     },
     "metadata": {},
     "output_type": "display_data"
    },
    {
     "name": "stdout",
     "output_type": "stream",
     "text": [
      "In 46 Pro From 81\n",
      "\n",
      "★[15%쿠폰할인 + 거치홀더증정]JMW BLDC항공모터 드라이기 MG1700 블랙\n"
     ]
    },
    {
     "data": {
      "application/vnd.jupyter.widget-view+json": {
       "model_id": "08e034812bdc454a94377dfd03b10997",
       "version_major": 2,
       "version_minor": 0
      },
      "text/plain": [
       "  0%|          | 0/9 [00:00<?, ?it/s]"
      ]
     },
     "metadata": {},
     "output_type": "display_data"
    },
    {
     "name": "stdout",
     "output_type": "stream",
     "text": [
      "In 47 Pro From 81\n",
      "\n",
      " FHI 미니 고데기/매직기/전용파우치/코드 분리형/여행용 고데기/프리볼트/휴대용 고데기/학생 고데기/FHI_MINI / AT-01M\n"
     ]
    },
    {
     "data": {
      "application/vnd.jupyter.widget-view+json": {
       "model_id": "c8714f36868c4cfa844fba2ef76caea9",
       "version_major": 2,
       "version_minor": 0
      },
      "text/plain": [
       "  0%|          | 0/8 [00:00<?, ?it/s]"
      ]
     },
     "metadata": {},
     "output_type": "display_data"
    },
    {
     "name": "stdout",
     "output_type": "stream",
     "text": [
      "In 48 Pro From 81\n",
      "\n",
      "[신제품] JMW 본사 직영 터치온 드라이기 & 스타일온 고데기\n"
     ]
    },
    {
     "data": {
      "application/vnd.jupyter.widget-view+json": {
       "model_id": "480ac362cb1c4c2bbe08649380dbc146",
       "version_major": 2,
       "version_minor": 0
      },
      "text/plain": [
       "  0%|          | 0/8 [00:00<?, ?it/s]"
      ]
     },
     "metadata": {},
     "output_type": "display_data"
    },
    {
     "name": "stdout",
     "output_type": "stream",
     "text": [
      "In 49 Pro From 81\n",
      "\n",
      "예스뷰티/피닉스 스타일링 이미용가전 모음\n"
     ]
    },
    {
     "data": {
      "application/vnd.jupyter.widget-view+json": {
       "model_id": "b9ef757ac26b4428b42744133cafe37e",
       "version_major": 2,
       "version_minor": 0
      },
      "text/plain": [
       "  0%|          | 0/8 [00:00<?, ?it/s]"
      ]
     },
     "metadata": {},
     "output_type": "display_data"
    },
    {
     "name": "stdout",
     "output_type": "stream",
     "text": [
      "In 50 Pro From 81\n",
      "\n",
      "다이슨 헤어드라이기 거치대\n"
     ]
    },
    {
     "data": {
      "application/vnd.jupyter.widget-view+json": {
       "model_id": "e5462cab0d264c0da399ee0f8f73ef18",
       "version_major": 2,
       "version_minor": 0
      },
      "text/plain": [
       "  0%|          | 0/7 [00:00<?, ?it/s]"
      ]
     },
     "metadata": {},
     "output_type": "display_data"
    },
    {
     "name": "stdout",
     "output_type": "stream",
     "text": [
      "In 51 Pro From 81\n",
      "\n",
      "[10%쿠폰할인]JMW 팬텀 프라임 드라이기 MS6003C 무광블랙에디션\n"
     ]
    },
    {
     "data": {
      "application/vnd.jupyter.widget-view+json": {
       "model_id": "5ed779dbd55443fe85b7e003cfc3ce2f",
       "version_major": 2,
       "version_minor": 0
      },
      "text/plain": [
       "  0%|          | 0/7 [00:00<?, ?it/s]"
      ]
     },
     "metadata": {},
     "output_type": "display_data"
    },
    {
     "name": "stdout",
     "output_type": "stream",
     "text": [
      "In 52 Pro From 81\n",
      "\n",
      "써모프로텍트 헤어드라이어 HP8244/09\n"
     ]
    },
    {
     "data": {
      "application/vnd.jupyter.widget-view+json": {
       "model_id": "6256db68b6d74e0285403a7a116f7466",
       "version_major": 2,
       "version_minor": 0
      },
      "text/plain": [
       "  0%|          | 0/7 [00:00<?, ?it/s]"
      ]
     },
     "metadata": {},
     "output_type": "display_data"
    },
    {
     "name": "stdout",
     "output_type": "stream",
     "text": [
      "In 53 Pro From 81\n",
      "\n",
      "★항공기모터장착/[유닉스] SUPER D+(슈퍼디플러스) BLDC 드라이기  UN-B4010S\n"
     ]
    },
    {
     "data": {
      "application/vnd.jupyter.widget-view+json": {
       "model_id": "5b0969ae1e7048e79be93cb1b5863b1b",
       "version_major": 2,
       "version_minor": 0
      },
      "text/plain": [
       "  0%|          | 0/7 [00:00<?, ?it/s]"
      ]
     },
     "metadata": {},
     "output_type": "display_data"
    },
    {
     "name": "stdout",
     "output_type": "stream",
     "text": [
      "In 54 Pro From 81\n",
      "\n",
      "[6천원쿠폰할인+거치홀더] JMW BLDC항공모터 드라이기 MG1800 화이트\n"
     ]
    },
    {
     "data": {
      "application/vnd.jupyter.widget-view+json": {
       "model_id": "f6854458a8a642d5bff22d69fa04d37c",
       "version_major": 2,
       "version_minor": 0
      },
      "text/plain": [
       "  0%|          | 0/6 [00:00<?, ?it/s]"
      ]
     },
     "metadata": {},
     "output_type": "display_data"
    },
    {
     "name": "stdout",
     "output_type": "stream",
     "text": [
      "In 55 Pro From 81\n",
      "\n",
      "트위니 나노 핸디 스팀다리미 DV9000\n"
     ]
    },
    {
     "data": {
      "application/vnd.jupyter.widget-view+json": {
       "model_id": "c6462e89ef3b4330b949d598311e2143",
       "version_major": 2,
       "version_minor": 0
      },
      "text/plain": [
       "  0%|          | 0/5 [00:00<?, ?it/s]"
      ]
     },
     "metadata": {},
     "output_type": "display_data"
    },
    {
     "name": "stdout",
     "output_type": "stream",
     "text": [
      "In 56 Pro From 81\n",
      "\n",
      "업소용 드라이기  /음이온/전문가용/대용량\n"
     ]
    },
    {
     "data": {
      "application/vnd.jupyter.widget-view+json": {
       "model_id": "647495f2bfc34e67b8aa5da05af64e98",
       "version_major": 2,
       "version_minor": 0
      },
      "text/plain": [
       "  0%|          | 0/5 [00:00<?, ?it/s]"
      ]
     },
     "metadata": {},
     "output_type": "display_data"
    },
    {
     "name": "stdout",
     "output_type": "stream",
     "text": [
      "In 57 Pro From 81\n",
      "\n",
      "★JMW 항공모터 헤어 드라이기 MA6001A 1600W + 거치대 세트\n"
     ]
    },
    {
     "data": {
      "application/vnd.jupyter.widget-view+json": {
       "model_id": "6ffc30aedfca4707bfc730064aeda1ff",
       "version_major": 2,
       "version_minor": 0
      },
      "text/plain": [
       "  0%|          | 0/5 [00:00<?, ?it/s]"
      ]
     },
     "metadata": {},
     "output_type": "display_data"
    },
    {
     "name": "stdout",
     "output_type": "stream",
     "text": [
      "In 58 Pro From 81\n",
      "\n",
      "한일전자 파테크 미용실 전문가용 헤어 드라이기 드라이어 RH-4200\n"
     ]
    },
    {
     "data": {
      "application/vnd.jupyter.widget-view+json": {
       "model_id": "a04832feae5c44388cc2bf4f4234c9e9",
       "version_major": 2,
       "version_minor": 0
      },
      "text/plain": [
       "  0%|          | 0/5 [00:00<?, ?it/s]"
      ]
     },
     "metadata": {},
     "output_type": "display_data"
    },
    {
     "name": "stdout",
     "output_type": "stream",
     "text": [
      "In 59 Pro From 81\n",
      "\n",
      " 라이프썸 LED거울/고데기/드라이기 등 뷰티,이미용기기 모음전\n"
     ]
    },
    {
     "data": {
      "application/vnd.jupyter.widget-view+json": {
       "model_id": "f38d962877f44a7cb9c5dd0305ac2224",
       "version_major": 2,
       "version_minor": 0
      },
      "text/plain": [
       "  0%|          | 0/5 [00:00<?, ?it/s]"
      ]
     },
     "metadata": {},
     "output_type": "display_data"
    },
    {
     "name": "stdout",
     "output_type": "stream",
     "text": [
      "In 60 Pro From 81\n",
      "\n",
      "슈퍼디플러스 BLDC 접이식 드라이기 UN-A6010\n"
     ]
    },
    {
     "data": {
      "application/vnd.jupyter.widget-view+json": {
       "model_id": "e47cc3eca9734561aa40b31090563213",
       "version_major": 2,
       "version_minor": 0
      },
      "text/plain": [
       "  0%|          | 0/5 [00:00<?, ?it/s]"
      ]
     },
     "metadata": {},
     "output_type": "display_data"
    },
    {
     "name": "stdout",
     "output_type": "stream",
     "text": [
      "In 61 Pro From 81\n",
      "\n",
      "헤어드라이어 포켓파워 HV1720K0\n"
     ]
    },
    {
     "data": {
      "application/vnd.jupyter.widget-view+json": {
       "model_id": "86e1efa540c6467aa2c980014a083a13",
       "version_major": 2,
       "version_minor": 0
      },
      "text/plain": [
       "  0%|          | 0/5 [00:00<?, ?it/s]"
      ]
     },
     "metadata": {},
     "output_type": "display_data"
    },
    {
     "name": "stdout",
     "output_type": "stream",
     "text": [
      "In 62 Pro From 81\n",
      "\n",
      "고풍량 저소음 전문가용 드라이기 UN-B1990\n"
     ]
    },
    {
     "data": {
      "application/vnd.jupyter.widget-view+json": {
       "model_id": "f9d87e07372b4d50a67681e4bc3591e6",
       "version_major": 2,
       "version_minor": 0
      },
      "text/plain": [
       "  0%|          | 0/5 [00:00<?, ?it/s]"
      ]
     },
     "metadata": {},
     "output_type": "display_data"
    },
    {
     "name": "stdout",
     "output_type": "stream",
     "text": [
      "In 63 Pro From 81\n",
      "\n",
      "[바비리스]AS100VK - 900W 3in1 멀티 에어 스타일러 브러쉬 [탈부착 필터/보관용 파우치]\n"
     ]
    },
    {
     "data": {
      "application/vnd.jupyter.widget-view+json": {
       "model_id": "26e4cced9c5449d48db23705a750c1a2",
       "version_major": 2,
       "version_minor": 0
      },
      "text/plain": [
       "  0%|          | 0/5 [00:00<?, ?it/s]"
      ]
     },
     "metadata": {},
     "output_type": "display_data"
    },
    {
     "name": "stdout",
     "output_type": "stream",
     "text": [
      "In 64 Pro From 81\n",
      "\n",
      "★[썸머위크 16% 할인쿠폰] JMW M5001A 전문가용 BLDC항공모터 헤어 드라이기 퍼플+사은품\n"
     ]
    },
    {
     "data": {
      "application/vnd.jupyter.widget-view+json": {
       "model_id": "4c3e64289a574858834b1847b9ef73a6",
       "version_major": 2,
       "version_minor": 0
      },
      "text/plain": [
       "  0%|          | 0/4 [00:00<?, ?it/s]"
      ]
     },
     "metadata": {},
     "output_type": "display_data"
    },
    {
     "name": "stdout",
     "output_type": "stream",
     "text": [
      "In 65 Pro From 81\n",
      "\n",
      "헤어 드라이기 프리미엄케어 무빙에어 HV6078\n"
     ]
    },
    {
     "data": {
      "application/vnd.jupyter.widget-view+json": {
       "model_id": "4f1202f9ae3c4754a59f9d974ee6e5e3",
       "version_major": 2,
       "version_minor": 0
      },
      "text/plain": [
       "  0%|          | 0/4 [00:00<?, ?it/s]"
      ]
     },
     "metadata": {},
     "output_type": "display_data"
    },
    {
     "name": "stdout",
     "output_type": "stream",
     "text": [
      "In 66 Pro From 81\n",
      "\n",
      "일렉맨 혼족 헤어 드라이어 HG-E2411\n"
     ]
    },
    {
     "data": {
      "application/vnd.jupyter.widget-view+json": {
       "model_id": "1f6d0d589cf54b2eb6cc3e266f6f994f",
       "version_major": 2,
       "version_minor": 0
      },
      "text/plain": [
       "  0%|          | 0/4 [00:00<?, ?it/s]"
      ]
     },
     "metadata": {},
     "output_type": "display_data"
    },
    {
     "name": "stdout",
     "output_type": "stream",
     "text": [
      "In 67 Pro From 81\n",
      "\n",
      "[로그인12%쿠폰할인] JMW 프리미엄 드라이기 에어센스 MS7002B 어반코랄\n"
     ]
    },
    {
     "data": {
      "application/vnd.jupyter.widget-view+json": {
       "model_id": "f7cbb10639d6407ab211861cba13dc73",
       "version_major": 2,
       "version_minor": 0
      },
      "text/plain": [
       "  0%|          | 0/4 [00:00<?, ?it/s]"
      ]
     },
     "metadata": {},
     "output_type": "display_data"
    },
    {
     "name": "stdout",
     "output_type": "stream",
     "text": [
      "In 68 Pro From 81\n",
      "\n",
      "헤어 드라이기 프리미엄케어 무빙에어 HV6076\n"
     ]
    },
    {
     "data": {
      "application/vnd.jupyter.widget-view+json": {
       "model_id": "f64708002cdd4a8a83f03042d8502661",
       "version_major": 2,
       "version_minor": 0
      },
      "text/plain": [
       "  0%|          | 0/4 [00:00<?, ?it/s]"
      ]
     },
     "metadata": {},
     "output_type": "display_data"
    },
    {
     "name": "stdout",
     "output_type": "stream",
     "text": [
      "In 69 Pro From 81\n",
      "\n",
      "헤어드라이기 UN-1340 외 드라이기 모음\n"
     ]
    },
    {
     "data": {
      "application/vnd.jupyter.widget-view+json": {
       "model_id": "faedc799b1f64f06afc53cfd35534687",
       "version_major": 2,
       "version_minor": 0
      },
      "text/plain": [
       "  0%|          | 0/4 [00:00<?, ?it/s]"
      ]
     },
     "metadata": {},
     "output_type": "display_data"
    },
    {
     "name": "stdout",
     "output_type": "stream",
     "text": [
      "In 70 Pro From 81\n",
      "\n",
      "[SMF] 1600W 프리미엄케어 접이식 여행용 드라이기 SMF-1601AH 냉풍/쎈힘/슬라이딩스위치\n"
     ]
    },
    {
     "data": {
      "application/vnd.jupyter.widget-view+json": {
       "model_id": "4bc86b9b11c94e8f9bff7aecac80a1e5",
       "version_major": 2,
       "version_minor": 0
      },
      "text/plain": [
       "  0%|          | 0/4 [00:00<?, ?it/s]"
      ]
     },
     "metadata": {},
     "output_type": "display_data"
    },
    {
     "name": "stdout",
     "output_type": "stream",
     "text": [
      "In 71 Pro From 81\n",
      "\n",
      "드라이기/이발기/미용가위세트 모음 셀프헤어케어 무료배송\n"
     ]
    },
    {
     "data": {
      "application/vnd.jupyter.widget-view+json": {
       "model_id": "ee437ad82bd64b988e6843f24226da5d",
       "version_major": 2,
       "version_minor": 0
      },
      "text/plain": [
       "  0%|          | 0/4 [00:00<?, ?it/s]"
      ]
     },
     "metadata": {},
     "output_type": "display_data"
    },
    {
     "name": "stdout",
     "output_type": "stream",
     "text": [
      "In 72 Pro From 81\n",
      "\n",
      "세라믹홈스타일러 고데기 UCI-2944FS\n"
     ]
    },
    {
     "data": {
      "application/vnd.jupyter.widget-view+json": {
       "model_id": "233657e40cb94a37bdfdadf7fc076c45",
       "version_major": 2,
       "version_minor": 0
      },
      "text/plain": [
       "  0%|          | 0/4 [00:00<?, ?it/s]"
      ]
     },
     "metadata": {},
     "output_type": "display_data"
    },
    {
     "name": "stdout",
     "output_type": "stream",
     "text": [
      "In 73 Pro From 81\n",
      "\n",
      " NEW! FHI MINI 블랙스완/온도에 따라 열판 색상이 변하는 시크릿 플레이트/10종 미네랄 추가/미니고데기/여행용 고데기/휴대용 고데기/코드 분리형/전용파우치/FHI_MINI2 / AT-01M\n"
     ]
    },
    {
     "data": {
      "application/vnd.jupyter.widget-view+json": {
       "model_id": "9871a2b8b237498e920eb2fe0f2002c3",
       "version_major": 2,
       "version_minor": 0
      },
      "text/plain": [
       "  0%|          | 0/3 [00:00<?, ?it/s]"
      ]
     },
     "metadata": {},
     "output_type": "display_data"
    },
    {
     "name": "stdout",
     "output_type": "stream",
     "text": [
      "In 74 Pro From 81\n",
      "\n",
      "헤어드라이어 포켓파워 HV1720K0\n"
     ]
    },
    {
     "data": {
      "application/vnd.jupyter.widget-view+json": {
       "model_id": "dc7eee0be5ed43b88e57a905cf98f214",
       "version_major": 2,
       "version_minor": 0
      },
      "text/plain": [
       "  0%|          | 0/3 [00:00<?, ?it/s]"
      ]
     },
     "metadata": {},
     "output_type": "display_data"
    },
    {
     "name": "stdout",
     "output_type": "stream",
     "text": [
      "In 75 Pro From 81\n",
      "\n",
      "드라이어/음이온/쿨버튼/온도조절 UN-B1641\n"
     ]
    },
    {
     "data": {
      "application/vnd.jupyter.widget-view+json": {
       "model_id": "9c149ae4bea747f0a0a14e1313d83da4",
       "version_major": 2,
       "version_minor": 0
      },
      "text/plain": [
       "  0%|          | 0/3 [00:00<?, ?it/s]"
      ]
     },
     "metadata": {},
     "output_type": "display_data"
    },
    {
     "name": "stdout",
     "output_type": "stream",
     "text": [
      "In 76 Pro From 81\n",
      "\n",
      "아름다움의 시작 케어에서부터, JMW 외 이미용가전 모음전\n"
     ]
    },
    {
     "data": {
      "application/vnd.jupyter.widget-view+json": {
       "model_id": "c63714bd43be403db0197ac97837a632",
       "version_major": 2,
       "version_minor": 0
      },
      "text/plain": [
       "  0%|          | 0/3 [00:00<?, ?it/s]"
      ]
     },
     "metadata": {},
     "output_type": "display_data"
    },
    {
     "name": "stdout",
     "output_type": "stream",
     "text": [
      "In 77 Pro From 81\n",
      "\n",
      "1500W UN-A1141 전문가용드라이기/미용실헤어드라이기/업소용드라이기/음이온/강약냉풍조절/4단조절\n"
     ]
    },
    {
     "ename": "TypeError",
     "evalue": "unsupported operand type(s) for //: 'NoneType' and 'int'",
     "output_type": "error",
     "traceback": [
      "\u001b[1;31m---------------------------------------------------------------------------\u001b[0m",
      "\u001b[1;31mTypeError\u001b[0m                                 Traceback (most recent call last)",
      "\u001b[1;32m<ipython-input-40-33c03263e98c>\u001b[0m in \u001b[0;36m<module>\u001b[1;34m\u001b[0m\n\u001b[0;32m      1\u001b[0m \u001b[0mpath_\u001b[0m \u001b[1;33m=\u001b[0m \u001b[1;34mr\"C:\\Users\\Samsung\\jupyter\\Project_LG_textmining\\data\\hair\\shopping_2\\SSG\\{}.xlsx\"\u001b[0m\u001b[1;33m\u001b[0m\u001b[1;33m\u001b[0m\u001b[0m\n\u001b[0;32m      2\u001b[0m \u001b[1;33m\u001b[0m\u001b[0m\n\u001b[1;32m----> 3\u001b[1;33m \u001b[0mSSG_Save_local\u001b[0m\u001b[1;33m(\u001b[0m\u001b[0mpath_\u001b[0m\u001b[1;33m,\u001b[0m\u001b[0mhead_df\u001b[0m\u001b[1;33m)\u001b[0m\u001b[1;33m\u001b[0m\u001b[1;33m\u001b[0m\u001b[0m\n\u001b[0m",
      "\u001b[1;32m<ipython-input-39-e11ca347a565>\u001b[0m in \u001b[0;36mSSG_Save_local\u001b[1;34m(path_, head_df)\u001b[0m\n\u001b[0;32m      4\u001b[0m         \u001b[0mprint\u001b[0m\u001b[1;33m(\u001b[0m\u001b[1;33m)\u001b[0m\u001b[1;33m\u001b[0m\u001b[1;33m\u001b[0m\u001b[0m\n\u001b[0;32m      5\u001b[0m         \u001b[0mprint\u001b[0m\u001b[1;33m(\u001b[0m\u001b[0mhead_df\u001b[0m\u001b[1;33m[\u001b[0m\u001b[1;34m\"Name\"\u001b[0m\u001b[1;33m]\u001b[0m\u001b[1;33m[\u001b[0m\u001b[0mi_\u001b[0m\u001b[1;33m]\u001b[0m\u001b[1;33m)\u001b[0m\u001b[1;33m\u001b[0m\u001b[1;33m\u001b[0m\u001b[0m\n\u001b[1;32m----> 6\u001b[1;33m         \u001b[0mout_\u001b[0m\u001b[1;33m,\u001b[0m\u001b[0mNA_\u001b[0m \u001b[1;33m=\u001b[0m \u001b[0mCrawling_SSG_all\u001b[0m\u001b[1;33m(\u001b[0m\u001b[0mhead_df\u001b[0m\u001b[1;33m,\u001b[0m\u001b[0mi_\u001b[0m\u001b[1;33m)\u001b[0m\u001b[1;33m\u001b[0m\u001b[1;33m\u001b[0m\u001b[0m\n\u001b[0m\u001b[0;32m      7\u001b[0m         \u001b[0mNA_\u001b[0m \u001b[1;33m=\u001b[0m \u001b[0mNA_\u001b[0m\u001b[1;33m.\u001b[0m\u001b[0mreplace\u001b[0m\u001b[1;33m(\u001b[0m\u001b[1;34m\"/\"\u001b[0m\u001b[1;33m,\u001b[0m\u001b[1;34m\"\"\u001b[0m\u001b[1;33m)\u001b[0m\u001b[1;33m\u001b[0m\u001b[1;33m\u001b[0m\u001b[0m\n\u001b[0;32m      8\u001b[0m         \u001b[0mout_\u001b[0m\u001b[1;33m.\u001b[0m\u001b[0mto_excel\u001b[0m\u001b[1;33m(\u001b[0m\u001b[0mpath_\u001b[0m\u001b[1;33m.\u001b[0m\u001b[0mformat\u001b[0m\u001b[1;33m(\u001b[0m\u001b[0mNA_\u001b[0m\u001b[1;33m)\u001b[0m\u001b[1;33m)\u001b[0m\u001b[1;33m\u001b[0m\u001b[1;33m\u001b[0m\u001b[0m\n",
      "\u001b[1;32m<ipython-input-37-a4fec7779efb>\u001b[0m in \u001b[0;36mCrawling_SSG_all\u001b[1;34m(head_df, TA_)\u001b[0m\n\u001b[0;32m      1\u001b[0m \u001b[1;32mdef\u001b[0m \u001b[0mCrawling_SSG_all\u001b[0m\u001b[1;33m(\u001b[0m\u001b[0mhead_df\u001b[0m\u001b[1;33m,\u001b[0m\u001b[0mTA_\u001b[0m\u001b[1;33m)\u001b[0m\u001b[1;33m:\u001b[0m\u001b[1;33m\u001b[0m\u001b[1;33m\u001b[0m\u001b[0m\n\u001b[0;32m      2\u001b[0m     \u001b[0mUrl_review\u001b[0m\u001b[1;33m,\u001b[0m\u001b[0mtarget_name\u001b[0m\u001b[1;33m,\u001b[0m\u001b[0mmax_page\u001b[0m \u001b[1;33m=\u001b[0m \u001b[0mReview_URL\u001b[0m\u001b[1;33m(\u001b[0m\u001b[0mhead_df\u001b[0m\u001b[1;33m,\u001b[0m\u001b[0mTA_\u001b[0m\u001b[1;33m)\u001b[0m\u001b[1;33m\u001b[0m\u001b[1;33m\u001b[0m\u001b[0m\n\u001b[1;32m----> 3\u001b[1;33m     \u001b[0mMaxPage\u001b[0m \u001b[1;33m=\u001b[0m \u001b[0mmax_page\u001b[0m\u001b[1;33m//\u001b[0m\u001b[1;36m10\u001b[0m\u001b[1;33m\u001b[0m\u001b[1;33m\u001b[0m\u001b[0m\n\u001b[0m\u001b[0;32m      4\u001b[0m     \u001b[0mtq\u001b[0m \u001b[1;33m=\u001b[0m \u001b[0mtqdm\u001b[0m\u001b[1;33m(\u001b[0m\u001b[0mrange\u001b[0m\u001b[1;33m(\u001b[0m\u001b[0mMaxPage\u001b[0m\u001b[1;33m)\u001b[0m\u001b[1;33m)\u001b[0m\u001b[1;33m\u001b[0m\u001b[1;33m\u001b[0m\u001b[0m\n\u001b[0;32m      5\u001b[0m \u001b[1;33m\u001b[0m\u001b[0m\n",
      "\u001b[1;31mTypeError\u001b[0m: unsupported operand type(s) for //: 'NoneType' and 'int'"
     ]
    }
   ],
   "source": [
    "path_ = r\"C:\\Users\\Samsung\\jupyter\\Project_LG_textmining\\data\\hair\\shopping_2\\SSG\\{}.xlsx\"\n",
    "\n",
    "SSG_Save_local(path_,head_df)"
   ]
  },
  {
   "cell_type": "code",
   "execution_count": null,
   "metadata": {},
   "outputs": [],
   "source": []
  },
  {
   "cell_type": "code",
   "execution_count": null,
   "metadata": {},
   "outputs": [],
   "source": []
  },
  {
   "cell_type": "code",
   "execution_count": null,
   "metadata": {},
   "outputs": [],
   "source": []
  },
  {
   "cell_type": "code",
   "execution_count": null,
   "metadata": {},
   "outputs": [],
   "source": []
  },
  {
   "cell_type": "code",
   "execution_count": null,
   "metadata": {},
   "outputs": [],
   "source": []
  },
  {
   "cell_type": "code",
   "execution_count": null,
   "metadata": {},
   "outputs": [],
   "source": []
  },
  {
   "cell_type": "code",
   "execution_count": null,
   "metadata": {},
   "outputs": [],
   "source": []
  },
  {
   "cell_type": "code",
   "execution_count": null,
   "metadata": {},
   "outputs": [],
   "source": []
  },
  {
   "cell_type": "code",
   "execution_count": null,
   "metadata": {},
   "outputs": [],
   "source": []
  }
 ],
 "metadata": {
  "kernelspec": {
   "display_name": "Python 3",
   "language": "python",
   "name": "python3"
  },
  "language_info": {
   "codemirror_mode": {
    "name": "ipython",
    "version": 3
   },
   "file_extension": ".py",
   "mimetype": "text/x-python",
   "name": "python",
   "nbconvert_exporter": "python",
   "pygments_lexer": "ipython3",
   "version": "3.7.6"
  }
 },
 "nbformat": 4,
 "nbformat_minor": 4
}
