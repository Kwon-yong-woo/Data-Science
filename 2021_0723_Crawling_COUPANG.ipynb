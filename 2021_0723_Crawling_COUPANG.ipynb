{
 "cells": [
  {
   "cell_type": "code",
   "execution_count": 2,
   "metadata": {},
   "outputs": [],
   "source": [
    "import numpy as np\n",
    "import pandas as pd\n",
    "import re\n",
    "from bs4 import BeautifulSoup\n",
    "#from fake_useragent import UserAgent\n",
    "import requests\n",
    "from selenium import webdriver\n",
    "from collections import Counter\n",
    "from tqdm.notebook import tqdm\n",
    "import time\n",
    "import openpyxl"
   ]
  },
  {
   "cell_type": "code",
   "execution_count": 3,
   "metadata": {},
   "outputs": [],
   "source": [
    "def url_split(url):\n",
    "    main_,para_1 = url.split(\"?\")\n",
    "    para_2 = para_1.split(\"&\")\n",
    "    para_3 = [d.replace(\"=\",\":\").split(\":\") for d in para_2]\n",
    "    params_ = {}\n",
    "    for key,value in para_3:\n",
    "        params_[key] = value\n",
    "    return main_,params_"
   ]
  },
  {
   "cell_type": "code",
   "execution_count": 4,
   "metadata": {},
   "outputs": [],
   "source": [
    "def find_product_list(product_name):\n",
    "    headers = {'User-Agent': 'Mozilla/5.0 (Windows NT 10.0; Win64; x64) AppleWebKit/537.36 (KHTML, like Gecko) Chrome/87.0.4280.88 Safari/537.36',\n",
    "          \"referer\": \"https://www.coupang.com/\"}\n",
    "    row = \"https://www.coupang.com/np/search?component=&q={}&channel=auto\".format(product_name)\n",
    "    main_,para = url_split(row)\n",
    "    html = requests.get(main_,params=para,headers=headers).text\n",
    "    soup = BeautifulSoup(html,\"html.parser\")\n",
    "    url_source = {}\n",
    "    product_list = {}\n",
    "    for tag in soup.select(\"#productList li\"):\n",
    "        url_a = \"https://www.coupang.com/vp/products/{}?isAddedCart=\".format(tag[\"data-product-id\"])\n",
    "        try:\n",
    "            product_list[tag[\"data-product-id\"]] = int(tag.find(class_=\"rating-total-count\").text.replace(\"(\",\"\").replace(\")\",\"\"))\n",
    "            url_source[url_a] =  int(tag.find(class_=\"rating-total-count\").text.replace(\"(\",\"\").replace(\")\",\"\"))\n",
    "        except:\n",
    "            pass\n",
    "    return product_list#,url_source"
   ]
  },
  {
   "cell_type": "code",
   "execution_count": 5,
   "metadata": {},
   "outputs": [],
   "source": [
    "def make_input_list(dic_,max_):\n",
    "    def extract_p(value,pa_size):\n",
    "        loop = value//pa_size\n",
    "        remain = value%pa_size\n",
    "        return loop+2\n",
    "    par_ = []\n",
    "    for key,value in dic_.items():\n",
    "        pa_ = [key,extract_p(value,max_),max_]\n",
    "        par_.append(pa_)\n",
    "    return par_"
   ]
  },
  {
   "cell_type": "code",
   "execution_count": 6,
   "metadata": {},
   "outputs": [],
   "source": [
    "def extraction_(soup_):\n",
    "    data_all = []\n",
    "    for tag in soup_.select(\".sdp-review__article__list\"):\n",
    "        info_ = tag.find(\"div\",class_=\"sdp-review\")\n",
    "        try:\n",
    "            date_ = tag.find(class_=\"sdp-review__article__list__info__product-info__reg-date\").text\n",
    "            id_ = tag.find(\"span\").text\n",
    "            item_ = tag.find(class_=\"sdp-review__article__list__info__product-info__name\").text\n",
    "            liked_ = tag.find(class_=\"sdp-review__article__list__help js_reviewArticleHelpfulContainer\")[\"data-count\"]\n",
    "            score_ = tag.find(class_=\"sdp-review__article__list__info__product-info__star-orange js_reviewArticleRatingValue\")[\"data-rating\"]\n",
    "            try:\n",
    "                contents = tag.find(class_=\"sdp-review__article__list__review__content js_reviewArticleContent\").text.strip()\n",
    "            except:\n",
    "                contents = \"None\"\n",
    "            channel_ = \"Coupang\"\n",
    "            all_ = [date_,id_,item_,score_,contents,liked_,channel_]\n",
    "            data_all.append(all_)\n",
    "        except:\n",
    "            pass\n",
    "    df_ = pd.DataFrame(data_all).rename(columns={0:\"date\",1:\"id\",2:\"item\",3:\"score\",4:\"contents\",5:\"liked\",6:\"channel\"})\n",
    "    return df_"
   ]
  },
  {
   "cell_type": "code",
   "execution_count": 7,
   "metadata": {},
   "outputs": [],
   "source": [
    "def crawler_coupang(p_id,pages,pa_size):\n",
    "    main_ = 'https://www.coupang.com/vp/product/reviews'\n",
    "    df_all = pd.DataFrame()\n",
    "    tq = tqdm(range(1,pages+2))\n",
    "    for page in tq:\n",
    "        params = {'productId': p_id,\n",
    "         'page': str(page),\n",
    "         'size': str(pa_size),\n",
    "         'sortBy': 'DATE_DESC',\n",
    "         'ratings': '',\n",
    "         'q': '',\n",
    "         'viRoleCode': '3',\n",
    "         'ratingSummary': 'true'}\n",
    "        header = {'User-Agent': 'Mozilla/5.0 (Windows NT 10.0; Win64; x64) AppleWebKit/537.36 (KHTML, like Gecko) Chrome/87.0.4280.88 Safari/537.36',\n",
    "          \"referer\": \"https://www.coupang.com/\"}\n",
    "        html = requests.get(main_,params=params,headers=header)\n",
    "        while html.status_code != 200:\n",
    "            html = requests.get(main_,params=params,headers=header)\n",
    "            print(\"requests erorr\")\n",
    "        soup= BeautifulSoup(html.text,\"html.parser\")\n",
    "        if len(extraction_(soup)) != 0:\n",
    "            df_all = pd.concat([df_all,extraction_(soup)])\n",
    "        else:\n",
    "            print(\"Page Error :\",page)\n",
    "    df_all.drop_duplicates(subset=[\"date\",\"id\",\"item\",\"score\",\"contents\",\"liked\",\"channel\"],keep = \"first\", inplace = True) \n",
    "    return df_all.reset_index(drop=True)"
   ]
  },
  {
   "cell_type": "code",
   "execution_count": 8,
   "metadata": {},
   "outputs": [],
   "source": [
    "def coupan_all(input_s,path_):\n",
    "    for input_ in input_s:\n",
    "        ID = input_[0]\n",
    "        pas = input_[1]\n",
    "        pmax = input_[2]\n",
    "        df_ = crawler_coupang(ID,pas,pmax)\n",
    "        name_ = df_[\"item\"].mode()[0].replace(\" \",\"_\").replace(\".\",\"\").replace(\"/\",\"_\").replace(\"[\",\"\").replace(\"]\",\"\").replace(\"*\",\"\")\n",
    "        print(name_)\n",
    "        df_.to_excel(path_.format(name_))"
   ]
  },
  {
   "cell_type": "code",
   "execution_count": 9,
   "metadata": {
    "scrolled": true
   },
   "outputs": [
    {
     "data": {
      "application/vnd.jupyter.widget-view+json": {
       "model_id": "be7496e1b04449e78b1b14fcb3639f4a",
       "version_major": 2,
       "version_minor": 0
      },
      "text/plain": [
       "  0%|          | 0/4 [00:00<?, ?it/s]"
      ]
     },
     "metadata": {},
     "output_type": "display_data"
    },
    {
     "name": "stdout",
     "output_type": "stream",
     "text": [
      "Page Error : 3\n",
      "Page Error : 4\n",
      "플라이코_헤어드라이기_2000W,_FH6232KR,_화이트\n"
     ]
    },
    {
     "data": {
      "application/vnd.jupyter.widget-view+json": {
       "model_id": "5444ccad3e9448de904ebd7f67f523ea",
       "version_major": 2,
       "version_minor": 0
      },
      "text/plain": [
       "  0%|          | 0/33 [00:00<?, ?it/s]"
      ]
     },
     "metadata": {},
     "output_type": "display_data"
    },
    {
     "name": "stdout",
     "output_type": "stream",
     "text": [
      "Page Error : 31\n",
      "Page Error : 32\n",
      "Page Error : 33\n",
      "홈플래닛_전문가용_헤어_드라이기_RCY-119_2200W,_블랙\n"
     ]
    },
    {
     "data": {
      "application/vnd.jupyter.widget-view+json": {
       "model_id": "d23febd104af4b67894fe1346972f419",
       "version_major": 2,
       "version_minor": 0
      },
      "text/plain": [
       "  0%|          | 0/329 [00:00<?, ?it/s]"
      ]
     },
     "metadata": {},
     "output_type": "display_data"
    },
    {
     "name": "stdout",
     "output_type": "stream",
     "text": [
      "Page Error : 31\n",
      "Page Error : 32\n",
      "Page Error : 33\n",
      "Page Error : 34\n",
      "Page Error : 35\n",
      "Page Error : 36\n",
      "Page Error : 37\n",
      "Page Error : 38\n",
      "Page Error : 39\n",
      "Page Error : 40\n",
      "Page Error : 41\n",
      "Page Error : 42\n",
      "Page Error : 43\n",
      "Page Error : 44\n",
      "Page Error : 45\n",
      "Page Error : 46\n",
      "Page Error : 47\n",
      "Page Error : 48\n",
      "Page Error : 49\n",
      "Page Error : 50\n",
      "Page Error : 51\n",
      "Page Error : 52\n",
      "Page Error : 53\n",
      "Page Error : 54\n",
      "Page Error : 55\n",
      "Page Error : 56\n",
      "Page Error : 57\n",
      "Page Error : 58\n",
      "Page Error : 59\n",
      "Page Error : 60\n",
      "Page Error : 61\n",
      "Page Error : 62\n",
      "Page Error : 63\n",
      "Page Error : 64\n",
      "Page Error : 65\n",
      "Page Error : 66\n",
      "Page Error : 67\n",
      "Page Error : 68\n",
      "Page Error : 69\n",
      "Page Error : 70\n",
      "Page Error : 71\n",
      "Page Error : 72\n",
      "Page Error : 73\n",
      "Page Error : 74\n",
      "Page Error : 75\n",
      "Page Error : 76\n",
      "Page Error : 77\n",
      "Page Error : 78\n",
      "Page Error : 79\n",
      "Page Error : 80\n",
      "Page Error : 81\n",
      "Page Error : 82\n",
      "Page Error : 83\n",
      "Page Error : 84\n",
      "Page Error : 85\n",
      "Page Error : 86\n",
      "Page Error : 87\n",
      "Page Error : 88\n",
      "Page Error : 89\n",
      "Page Error : 90\n",
      "Page Error : 91\n",
      "Page Error : 92\n",
      "Page Error : 93\n",
      "Page Error : 94\n",
      "Page Error : 95\n",
      "Page Error : 96\n",
      "Page Error : 97\n",
      "Page Error : 98\n",
      "Page Error : 99\n",
      "Page Error : 100\n",
      "Page Error : 101\n",
      "Page Error : 102\n",
      "Page Error : 103\n",
      "Page Error : 104\n",
      "Page Error : 105\n",
      "Page Error : 106\n",
      "Page Error : 107\n",
      "Page Error : 108\n",
      "Page Error : 109\n",
      "Page Error : 110\n",
      "Page Error : 111\n",
      "Page Error : 112\n",
      "Page Error : 113\n",
      "Page Error : 114\n",
      "Page Error : 115\n",
      "Page Error : 116\n",
      "Page Error : 117\n",
      "Page Error : 118\n",
      "Page Error : 119\n",
      "Page Error : 120\n",
      "Page Error : 121\n",
      "Page Error : 122\n",
      "Page Error : 123\n",
      "Page Error : 124\n",
      "Page Error : 125\n",
      "Page Error : 126\n",
      "Page Error : 127\n",
      "Page Error : 128\n",
      "Page Error : 129\n",
      "Page Error : 130\n",
      "Page Error : 131\n",
      "Page Error : 132\n",
      "Page Error : 133\n",
      "Page Error : 134\n",
      "Page Error : 135\n",
      "Page Error : 136\n",
      "Page Error : 137\n",
      "Page Error : 138\n",
      "Page Error : 139\n",
      "Page Error : 140\n",
      "Page Error : 141\n",
      "Page Error : 142\n",
      "Page Error : 143\n",
      "Page Error : 144\n",
      "Page Error : 145\n",
      "Page Error : 146\n",
      "Page Error : 147\n",
      "Page Error : 148\n",
      "Page Error : 149\n",
      "Page Error : 150\n",
      "Page Error : 151\n",
      "Page Error : 152\n",
      "Page Error : 153\n",
      "Page Error : 154\n",
      "Page Error : 155\n",
      "Page Error : 156\n",
      "Page Error : 157\n",
      "Page Error : 158\n",
      "Page Error : 159\n",
      "Page Error : 160\n",
      "Page Error : 161\n",
      "Page Error : 162\n",
      "Page Error : 163\n",
      "Page Error : 164\n",
      "Page Error : 165\n",
      "Page Error : 166\n",
      "Page Error : 167\n",
      "Page Error : 168\n",
      "Page Error : 169\n",
      "Page Error : 170\n",
      "Page Error : 171\n",
      "Page Error : 172\n",
      "Page Error : 173\n",
      "Page Error : 174\n",
      "Page Error : 175\n",
      "Page Error : 176\n",
      "Page Error : 177\n",
      "Page Error : 178\n",
      "Page Error : 179\n",
      "Page Error : 180\n",
      "Page Error : 181\n",
      "Page Error : 182\n",
      "Page Error : 183\n",
      "Page Error : 184\n",
      "Page Error : 185\n",
      "Page Error : 186\n",
      "Page Error : 187\n",
      "Page Error : 188\n",
      "Page Error : 189\n",
      "Page Error : 190\n",
      "Page Error : 191\n",
      "Page Error : 192\n",
      "Page Error : 193\n",
      "Page Error : 194\n",
      "Page Error : 195\n",
      "Page Error : 196\n",
      "Page Error : 197\n",
      "Page Error : 198\n",
      "Page Error : 199\n",
      "Page Error : 200\n",
      "Page Error : 201\n",
      "Page Error : 202\n",
      "Page Error : 203\n",
      "Page Error : 204\n",
      "Page Error : 205\n",
      "Page Error : 206\n",
      "Page Error : 207\n",
      "Page Error : 208\n",
      "Page Error : 209\n",
      "Page Error : 210\n",
      "Page Error : 211\n",
      "Page Error : 212\n",
      "Page Error : 213\n",
      "Page Error : 214\n",
      "Page Error : 215\n",
      "Page Error : 216\n",
      "Page Error : 217\n",
      "Page Error : 218\n",
      "Page Error : 219\n",
      "Page Error : 220\n",
      "Page Error : 221\n",
      "Page Error : 222\n",
      "Page Error : 223\n",
      "Page Error : 224\n",
      "Page Error : 225\n",
      "Page Error : 226\n",
      "Page Error : 227\n",
      "Page Error : 228\n",
      "Page Error : 229\n",
      "Page Error : 230\n",
      "Page Error : 231\n",
      "Page Error : 232\n",
      "Page Error : 233\n",
      "Page Error : 234\n",
      "Page Error : 235\n",
      "Page Error : 236\n",
      "Page Error : 237\n",
      "Page Error : 238\n",
      "Page Error : 239\n",
      "Page Error : 240\n",
      "Page Error : 241\n",
      "Page Error : 242\n",
      "Page Error : 243\n",
      "Page Error : 244\n",
      "Page Error : 245\n",
      "Page Error : 246\n",
      "Page Error : 247\n",
      "Page Error : 248\n",
      "Page Error : 249\n",
      "Page Error : 250\n",
      "Page Error : 251\n",
      "Page Error : 252\n",
      "Page Error : 253\n",
      "Page Error : 254\n",
      "Page Error : 255\n",
      "Page Error : 256\n",
      "Page Error : 257\n",
      "Page Error : 258\n",
      "Page Error : 259\n",
      "Page Error : 260\n",
      "Page Error : 261\n",
      "Page Error : 262\n",
      "Page Error : 263\n",
      "Page Error : 264\n",
      "Page Error : 265\n",
      "Page Error : 266\n",
      "Page Error : 267\n",
      "Page Error : 268\n",
      "Page Error : 269\n",
      "Page Error : 270\n",
      "Page Error : 271\n",
      "Page Error : 272\n",
      "Page Error : 273\n",
      "Page Error : 274\n",
      "Page Error : 275\n",
      "Page Error : 276\n",
      "Page Error : 277\n",
      "Page Error : 278\n",
      "Page Error : 279\n",
      "Page Error : 280\n",
      "Page Error : 281\n",
      "Page Error : 282\n",
      "Page Error : 283\n",
      "Page Error : 284\n",
      "Page Error : 285\n",
      "Page Error : 286\n",
      "Page Error : 287\n",
      "Page Error : 288\n",
      "Page Error : 289\n",
      "Page Error : 290\n",
      "Page Error : 291\n",
      "Page Error : 292\n",
      "Page Error : 293\n",
      "Page Error : 294\n",
      "Page Error : 295\n",
      "Page Error : 296\n",
      "Page Error : 297\n",
      "Page Error : 298\n",
      "Page Error : 299\n",
      "Page Error : 300\n",
      "Page Error : 301\n",
      "Page Error : 302\n",
      "Page Error : 303\n",
      "Page Error : 304\n",
      "Page Error : 305\n",
      "Page Error : 306\n",
      "Page Error : 307\n",
      "Page Error : 308\n",
      "Page Error : 309\n",
      "Page Error : 310\n",
      "Page Error : 311\n",
      "Page Error : 312\n",
      "Page Error : 313\n",
      "Page Error : 314\n",
      "Page Error : 315\n",
      "Page Error : 316\n",
      "Page Error : 317\n",
      "Page Error : 318\n",
      "Page Error : 319\n",
      "Page Error : 320\n",
      "Page Error : 321\n",
      "Page Error : 322\n",
      "Page Error : 323\n",
      "Page Error : 324\n",
      "Page Error : 325\n",
      "Page Error : 326\n",
      "Page Error : 327\n",
      "Page Error : 328\n",
      "Page Error : 329\n",
      "한일전자_싸이클론_전문가용_헤어_드라이기_RH-4200_2200W,_블랙\n"
     ]
    },
    {
     "data": {
      "application/vnd.jupyter.widget-view+json": {
       "model_id": "3d59e893524a4b3ba81cf5da9fd4743f",
       "version_major": 2,
       "version_minor": 0
      },
      "text/plain": [
       "  0%|          | 0/86 [00:00<?, ?it/s]"
      ]
     },
     "metadata": {},
     "output_type": "display_data"
    },
    {
     "name": "stdout",
     "output_type": "stream",
     "text": [
      "Page Error : 31\n",
      "Page Error : 32\n",
      "Page Error : 33\n",
      "Page Error : 34\n",
      "Page Error : 35\n",
      "Page Error : 36\n",
      "Page Error : 37\n",
      "Page Error : 38\n",
      "Page Error : 39\n",
      "Page Error : 40\n",
      "Page Error : 41\n",
      "Page Error : 42\n",
      "Page Error : 43\n",
      "Page Error : 44\n",
      "Page Error : 45\n",
      "Page Error : 46\n",
      "Page Error : 47\n",
      "Page Error : 48\n",
      "Page Error : 49\n",
      "Page Error : 50\n",
      "Page Error : 51\n",
      "Page Error : 52\n",
      "Page Error : 53\n",
      "Page Error : 54\n",
      "Page Error : 55\n",
      "Page Error : 56\n",
      "Page Error : 57\n",
      "Page Error : 58\n",
      "Page Error : 59\n",
      "Page Error : 60\n",
      "Page Error : 61\n",
      "Page Error : 62\n",
      "Page Error : 63\n",
      "Page Error : 64\n",
      "Page Error : 65\n",
      "Page Error : 66\n",
      "Page Error : 67\n",
      "Page Error : 68\n",
      "Page Error : 69\n",
      "Page Error : 70\n",
      "Page Error : 71\n",
      "Page Error : 72\n",
      "Page Error : 73\n",
      "Page Error : 74\n",
      "Page Error : 75\n",
      "Page Error : 76\n",
      "Page Error : 77\n",
      "Page Error : 78\n",
      "Page Error : 79\n",
      "Page Error : 80\n",
      "Page Error : 81\n",
      "Page Error : 82\n",
      "Page Error : 83\n",
      "Page Error : 84\n",
      "Page Error : 85\n",
      "Page Error : 86\n",
      "한일전자_전문가용_헤어_드라이기_PD-H4300_2300W,_블랙\n"
     ]
    },
    {
     "data": {
      "application/vnd.jupyter.widget-view+json": {
       "model_id": "6935708b25fb427a814c0096d064f477",
       "version_major": 2,
       "version_minor": 0
      },
      "text/plain": [
       "  0%|          | 0/5 [00:00<?, ?it/s]"
      ]
     },
     "metadata": {},
     "output_type": "display_data"
    },
    {
     "name": "stdout",
     "output_type": "stream",
     "text": [
      "Page Error : 4\n",
      "Page Error : 5\n",
      "유닉스_파워풍량_헤어드라이기_UN-B1530N_1400~1650W,_퍼플\n"
     ]
    },
    {
     "data": {
      "application/vnd.jupyter.widget-view+json": {
       "model_id": "c184ae55ce3849daafdc3f11745d3212",
       "version_major": 2,
       "version_minor": 0
      },
      "text/plain": [
       "  0%|          | 0/79 [00:00<?, ?it/s]"
      ]
     },
     "metadata": {},
     "output_type": "display_data"
    },
    {
     "name": "stdout",
     "output_type": "stream",
     "text": [
      "Page Error : 31\n",
      "Page Error : 32\n",
      "Page Error : 33\n",
      "Page Error : 34\n",
      "Page Error : 35\n",
      "Page Error : 36\n",
      "Page Error : 37\n",
      "Page Error : 38\n",
      "Page Error : 39\n",
      "Page Error : 40\n",
      "Page Error : 41\n",
      "Page Error : 42\n",
      "Page Error : 43\n",
      "Page Error : 44\n",
      "Page Error : 45\n",
      "Page Error : 46\n",
      "Page Error : 47\n",
      "Page Error : 48\n",
      "Page Error : 49\n",
      "Page Error : 50\n",
      "Page Error : 51\n",
      "Page Error : 52\n",
      "Page Error : 53\n",
      "Page Error : 54\n",
      "Page Error : 55\n",
      "Page Error : 56\n",
      "Page Error : 57\n",
      "Page Error : 58\n",
      "Page Error : 59\n",
      "Page Error : 60\n",
      "Page Error : 61\n",
      "Page Error : 62\n",
      "Page Error : 63\n",
      "Page Error : 64\n",
      "Page Error : 65\n",
      "Page Error : 66\n",
      "Page Error : 67\n",
      "Page Error : 68\n",
      "Page Error : 69\n",
      "Page Error : 70\n",
      "Page Error : 71\n",
      "Page Error : 72\n",
      "Page Error : 73\n",
      "Page Error : 74\n",
      "Page Error : 75\n",
      "Page Error : 76\n",
      "Page Error : 77\n",
      "Page Error : 78\n",
      "Page Error : 79\n",
      "JMW_BLDC_항공모터_드라이기,_MG1800,_화이트\n"
     ]
    },
    {
     "data": {
      "application/vnd.jupyter.widget-view+json": {
       "model_id": "ea84b3deebc842fd908d47ad00f5cdef",
       "version_major": 2,
       "version_minor": 0
      },
      "text/plain": [
       "  0%|          | 0/111 [00:00<?, ?it/s]"
      ]
     },
     "metadata": {},
     "output_type": "display_data"
    },
    {
     "name": "stdout",
     "output_type": "stream",
     "text": [
      "Page Error : 31\n",
      "Page Error : 32\n",
      "Page Error : 33\n",
      "Page Error : 34\n",
      "Page Error : 35\n",
      "Page Error : 36\n",
      "Page Error : 37\n",
      "Page Error : 38\n",
      "Page Error : 39\n",
      "Page Error : 40\n",
      "Page Error : 41\n",
      "Page Error : 42\n",
      "Page Error : 43\n",
      "Page Error : 44\n",
      "Page Error : 45\n",
      "Page Error : 46\n",
      "Page Error : 47\n",
      "Page Error : 48\n",
      "Page Error : 49\n",
      "Page Error : 50\n",
      "Page Error : 51\n",
      "Page Error : 52\n",
      "Page Error : 53\n",
      "Page Error : 54\n",
      "Page Error : 55\n",
      "Page Error : 56\n",
      "Page Error : 57\n",
      "Page Error : 58\n",
      "Page Error : 59\n",
      "Page Error : 60\n",
      "Page Error : 61\n",
      "Page Error : 62\n",
      "Page Error : 63\n",
      "Page Error : 64\n",
      "Page Error : 65\n",
      "Page Error : 66\n",
      "Page Error : 67\n",
      "Page Error : 68\n",
      "Page Error : 69\n",
      "Page Error : 70\n",
      "Page Error : 71\n",
      "Page Error : 72\n",
      "Page Error : 73\n",
      "Page Error : 74\n",
      "Page Error : 75\n",
      "Page Error : 76\n",
      "Page Error : 77\n",
      "Page Error : 78\n",
      "Page Error : 79\n",
      "Page Error : 80\n",
      "Page Error : 81\n",
      "Page Error : 82\n",
      "Page Error : 83\n",
      "Page Error : 84\n",
      "Page Error : 85\n",
      "Page Error : 86\n",
      "Page Error : 87\n",
      "Page Error : 88\n",
      "Page Error : 89\n",
      "Page Error : 90\n",
      "Page Error : 91\n",
      "Page Error : 92\n",
      "Page Error : 93\n",
      "Page Error : 94\n",
      "Page Error : 95\n",
      "Page Error : 96\n",
      "Page Error : 97\n",
      "Page Error : 98\n",
      "Page Error : 99\n",
      "Page Error : 100\n",
      "Page Error : 101\n",
      "Page Error : 102\n",
      "Page Error : 103\n",
      "Page Error : 104\n",
      "Page Error : 105\n",
      "Page Error : 106\n",
      "Page Error : 107\n",
      "Page Error : 108\n",
      "Page Error : 109\n",
      "Page Error : 110\n",
      "Page Error : 111\n",
      "유닉스_아이온_헤어드라이어_UN-B1611_1600W,_바이올렛\n"
     ]
    },
    {
     "data": {
      "application/vnd.jupyter.widget-view+json": {
       "model_id": "f4505f57641b4b08923fdf51fb748ebc",
       "version_major": 2,
       "version_minor": 0
      },
      "text/plain": [
       "  0%|          | 0/32 [00:00<?, ?it/s]"
      ]
     },
     "metadata": {},
     "output_type": "display_data"
    },
    {
     "name": "stdout",
     "output_type": "stream",
     "text": [
      "Page Error : 31\n",
      "Page Error : 32\n",
      "JMW_BLDC_항공모터_헤어_드라이기_M3001A_1500W,_혼합색상\n"
     ]
    },
    {
     "data": {
      "application/vnd.jupyter.widget-view+json": {
       "model_id": "0b2c0bd1372f4b4fa9f71b6b5c994f46",
       "version_major": 2,
       "version_minor": 0
      },
      "text/plain": [
       "  0%|          | 0/4 [00:00<?, ?it/s]"
      ]
     },
     "metadata": {},
     "output_type": "display_data"
    },
    {
     "name": "stdout",
     "output_type": "stream",
     "text": [
      "Page Error : 3\n",
      "Page Error : 4\n",
      "홈플래닛_여행용_접이식_헤어드라이어_RCY-92_(110-220V겸용)\n"
     ]
    },
    {
     "data": {
      "application/vnd.jupyter.widget-view+json": {
       "model_id": "41c0c0b3077f4ab2a3a427006df78e8e",
       "version_major": 2,
       "version_minor": 0
      },
      "text/plain": [
       "  0%|          | 0/59 [00:00<?, ?it/s]"
      ]
     },
     "metadata": {},
     "output_type": "display_data"
    },
    {
     "name": "stdout",
     "output_type": "stream",
     "text": [
      "Page Error : 31\n",
      "Page Error : 32\n",
      "Page Error : 33\n",
      "Page Error : 34\n",
      "Page Error : 35\n",
      "Page Error : 36\n",
      "Page Error : 37\n",
      "Page Error : 38\n",
      "Page Error : 39\n",
      "Page Error : 40\n",
      "Page Error : 41\n",
      "Page Error : 42\n",
      "Page Error : 43\n",
      "Page Error : 44\n",
      "Page Error : 45\n",
      "Page Error : 46\n",
      "Page Error : 47\n",
      "Page Error : 48\n",
      "Page Error : 49\n",
      "Page Error : 50\n",
      "Page Error : 51\n",
      "Page Error : 52\n",
      "Page Error : 53\n",
      "Page Error : 54\n",
      "Page Error : 55\n",
      "Page Error : 56\n",
      "Page Error : 57\n",
      "Page Error : 58\n",
      "Page Error : 59\n",
      "필립스_써모프로텍트_헤어_드라이기_HP8232_00_2200W,_화이트\n"
     ]
    },
    {
     "data": {
      "application/vnd.jupyter.widget-view+json": {
       "model_id": "b4246f75e10947cfafeca36c41772b35",
       "version_major": 2,
       "version_minor": 0
      },
      "text/plain": [
       "  0%|          | 0/14 [00:00<?, ?it/s]"
      ]
     },
     "metadata": {},
     "output_type": "display_data"
    },
    {
     "name": "stdout",
     "output_type": "stream",
     "text": [
      "Page Error : 13\n",
      "Page Error : 14\n",
      "쿠팡_직수입_샤오미_아이오닉_헤어드라이어_CMJ01LX3_1800W\n"
     ]
    },
    {
     "data": {
      "application/vnd.jupyter.widget-view+json": {
       "model_id": "c1ac8d934c824389927704eb9f42b63c",
       "version_major": 2,
       "version_minor": 0
      },
      "text/plain": [
       "  0%|          | 0/93 [00:00<?, ?it/s]"
      ]
     },
     "metadata": {},
     "output_type": "display_data"
    },
    {
     "name": "stdout",
     "output_type": "stream",
     "text": [
      "Page Error : 31\n",
      "Page Error : 32\n",
      "Page Error : 33\n",
      "Page Error : 34\n",
      "Page Error : 35\n",
      "Page Error : 36\n",
      "Page Error : 37\n",
      "Page Error : 38\n",
      "Page Error : 39\n",
      "Page Error : 40\n",
      "Page Error : 41\n",
      "Page Error : 42\n",
      "Page Error : 43\n",
      "Page Error : 44\n",
      "Page Error : 45\n",
      "Page Error : 46\n",
      "Page Error : 47\n",
      "Page Error : 48\n",
      "Page Error : 49\n",
      "Page Error : 50\n",
      "Page Error : 51\n",
      "Page Error : 52\n",
      "Page Error : 53\n",
      "Page Error : 54\n",
      "Page Error : 55\n",
      "Page Error : 56\n",
      "Page Error : 57\n",
      "Page Error : 58\n",
      "Page Error : 59\n",
      "Page Error : 60\n",
      "Page Error : 61\n",
      "Page Error : 62\n",
      "Page Error : 63\n",
      "Page Error : 64\n",
      "Page Error : 65\n",
      "Page Error : 66\n",
      "Page Error : 67\n",
      "Page Error : 68\n",
      "Page Error : 69\n",
      "Page Error : 70\n",
      "Page Error : 71\n",
      "Page Error : 72\n",
      "Page Error : 73\n",
      "Page Error : 74\n",
      "Page Error : 75\n",
      "Page Error : 76\n",
      "Page Error : 77\n",
      "Page Error : 78\n",
      "Page Error : 79\n",
      "Page Error : 80\n",
      "Page Error : 81\n",
      "Page Error : 82\n",
      "Page Error : 83\n",
      "Page Error : 84\n",
      "Page Error : 85\n",
      "Page Error : 86\n",
      "Page Error : 87\n",
      "Page Error : 88\n",
      "Page Error : 89\n",
      "Page Error : 90\n",
      "Page Error : 91\n",
      "Page Error : 92\n",
      "Page Error : 93\n",
      "비달사순_2000W_파워_블랙_앤_로즈_헤어_드라이기_VSD120K,_혼합_색상\n"
     ]
    },
    {
     "data": {
      "application/vnd.jupyter.widget-view+json": {
       "model_id": "99b50971fe9148659b3b5815bf004629",
       "version_major": 2,
       "version_minor": 0
      },
      "text/plain": [
       "  0%|          | 0/35 [00:00<?, ?it/s]"
      ]
     },
     "metadata": {},
     "output_type": "display_data"
    },
    {
     "name": "stdout",
     "output_type": "stream",
     "text": [
      "Page Error : 31\n",
      "Page Error : 32\n",
      "Page Error : 33\n",
      "Page Error : 34\n",
      "Page Error : 35\n",
      "필립스_써모프로텍트_전문가용_헤어드라이기_HP8246_09_2100W,_화이트_+_핑크\n"
     ]
    },
    {
     "data": {
      "application/vnd.jupyter.widget-view+json": {
       "model_id": "a03166e59c904807a43bc2987887dd5d",
       "version_major": 2,
       "version_minor": 0
      },
      "text/plain": [
       "  0%|          | 0/3 [00:00<?, ?it/s]"
      ]
     },
     "metadata": {},
     "output_type": "display_data"
    },
    {
     "name": "stdout",
     "output_type": "stream",
     "text": [
      "Page Error : 2\n",
      "Page Error : 3\n",
      "유닉스_접이식_헤어드라이어_UN-B1691_1700W,_화이트\n"
     ]
    },
    {
     "data": {
      "application/vnd.jupyter.widget-view+json": {
       "model_id": "b0c1a88e2b0e4a65bedfe3a213a6528e",
       "version_major": 2,
       "version_minor": 0
      },
      "text/plain": [
       "  0%|          | 0/31 [00:00<?, ?it/s]"
      ]
     },
     "metadata": {},
     "output_type": "display_data"
    },
    {
     "name": "stdout",
     "output_type": "stream",
     "text": [
      "Page Error : 30\n",
      "Page Error : 31\n",
      "필립스_모발_보호_드라이어_HP8230_00\n"
     ]
    },
    {
     "data": {
      "application/vnd.jupyter.widget-view+json": {
       "model_id": "95014a42bf534b019d930dbeae5ddcb1",
       "version_major": 2,
       "version_minor": 0
      },
      "text/plain": [
       "  0%|          | 0/16 [00:00<?, ?it/s]"
      ]
     },
     "metadata": {},
     "output_type": "display_data"
    },
    {
     "name": "stdout",
     "output_type": "stream",
     "text": [
      "Page Error : 15\n",
      "Page Error : 16\n",
      "유닉스_메탈티_화이트_골드_헤어드라이어_UN-A1690_1700W,_혼합_색상\n"
     ]
    },
    {
     "data": {
      "application/vnd.jupyter.widget-view+json": {
       "model_id": "c767b3545cf8457b90ae4f534cbbc0a9",
       "version_major": 2,
       "version_minor": 0
      },
      "text/plain": [
       "  0%|          | 0/19 [00:00<?, ?it/s]"
      ]
     },
     "metadata": {},
     "output_type": "display_data"
    },
    {
     "name": "stdout",
     "output_type": "stream",
     "text": [
      "Page Error : 18\n",
      "Page Error : 19\n",
      "필립스_써모프로텍트_드라이어_2200W,_HP8244_09,_블랙_+_골드\n"
     ]
    },
    {
     "data": {
      "application/vnd.jupyter.widget-view+json": {
       "model_id": "40e52b6157d348ff8080960eb47c0487",
       "version_major": 2,
       "version_minor": 0
      },
      "text/plain": [
       "  0%|          | 0/37 [00:00<?, ?it/s]"
      ]
     },
     "metadata": {},
     "output_type": "display_data"
    },
    {
     "name": "stdout",
     "output_type": "stream",
     "text": [
      "Page Error : 31\n",
      "Page Error : 32\n",
      "Page Error : 33\n",
      "Page Error : 34\n",
      "Page Error : 35\n",
      "Page Error : 36\n",
      "Page Error : 37\n",
      "유닉스_이온_헤어_드라이어_UN-B1453_2000W\n"
     ]
    },
    {
     "data": {
      "application/vnd.jupyter.widget-view+json": {
       "model_id": "55aebaded509436aa76bfd45d94c85d3",
       "version_major": 2,
       "version_minor": 0
      },
      "text/plain": [
       "  0%|          | 0/35 [00:00<?, ?it/s]"
      ]
     },
     "metadata": {},
     "output_type": "display_data"
    },
    {
     "name": "stdout",
     "output_type": "stream",
     "text": [
      "Page Error : 31\n",
      "Page Error : 32\n",
      "Page Error : 33\n",
      "Page Error : 34\n",
      "Page Error : 35\n",
      "유닉스_파워맥스_이온_헤어드라이어_UN-A1640_2000W,_혼합색상\n"
     ]
    },
    {
     "data": {
      "application/vnd.jupyter.widget-view+json": {
       "model_id": "2cedbaaa3058441e8c7e53ebb0b66b12",
       "version_major": 2,
       "version_minor": 0
      },
      "text/plain": [
       "  0%|          | 0/8 [00:00<?, ?it/s]"
      ]
     },
     "metadata": {},
     "output_type": "display_data"
    },
    {
     "name": "stdout",
     "output_type": "stream",
     "text": [
      "Page Error : 7\n",
      "Page Error : 8\n",
      "해피플러스_슈퍼스톰_전문가용_헤어드라이기_BY-596_1600~1800W\n"
     ]
    },
    {
     "data": {
      "application/vnd.jupyter.widget-view+json": {
       "model_id": "da85a4ce6f834cbbbb2325426f458d1b",
       "version_major": 2,
       "version_minor": 0
      },
      "text/plain": [
       "  0%|          | 0/10 [00:00<?, ?it/s]"
      ]
     },
     "metadata": {},
     "output_type": "display_data"
    },
    {
     "name": "stdout",
     "output_type": "stream",
     "text": [
      "Page Error : 9\n",
      "Page Error : 10\n",
      "유닉스_전문가용_드라이기_UN-A1958_2000W,_혼합_색상\n"
     ]
    },
    {
     "data": {
      "application/vnd.jupyter.widget-view+json": {
       "model_id": "af76778a8ab64174985bb4e57343d392",
       "version_major": 2,
       "version_minor": 0
      },
      "text/plain": [
       "  0%|          | 0/3 [00:00<?, ?it/s]"
      ]
     },
     "metadata": {},
     "output_type": "display_data"
    },
    {
     "name": "stdout",
     "output_type": "stream",
     "text": [
      "Page Error : 2\n",
      "Page Error : 3\n",
      "파테크_전문가용_헤어드라이기_PD-H4300_2300W,_화이트\n"
     ]
    },
    {
     "data": {
      "application/vnd.jupyter.widget-view+json": {
       "model_id": "9dc93f4356e94630873a10be6a9de8f6",
       "version_major": 2,
       "version_minor": 0
      },
      "text/plain": [
       "  0%|          | 0/31 [00:00<?, ?it/s]"
      ]
     },
     "metadata": {},
     "output_type": "display_data"
    },
    {
     "name": "stdout",
     "output_type": "stream",
     "text": [
      "Page Error : 30\n",
      "Page Error : 31\n",
      "엘마스터_전문가용_드라이기_LM-24_2400W,_혼합_색상\n"
     ]
    },
    {
     "data": {
      "application/vnd.jupyter.widget-view+json": {
       "model_id": "12c70b76af994470b56b022eef4297b5",
       "version_major": 2,
       "version_minor": 0
      },
      "text/plain": [
       "  0%|          | 0/18 [00:00<?, ?it/s]"
      ]
     },
     "metadata": {},
     "output_type": "display_data"
    },
    {
     "name": "stdout",
     "output_type": "stream",
     "text": [
      "Page Error : 17\n",
      "Page Error : 18\n",
      "비달사순_파워_블랙앤로즈_드라이어_VSD5129K_2000W,_로즈골드\n"
     ]
    },
    {
     "data": {
      "application/vnd.jupyter.widget-view+json": {
       "model_id": "0ee66e94c6ab418281da72d234fd0f38",
       "version_major": 2,
       "version_minor": 0
      },
      "text/plain": [
       "  0%|          | 0/23 [00:00<?, ?it/s]"
      ]
     },
     "metadata": {},
     "output_type": "display_data"
    },
    {
     "name": "stdout",
     "output_type": "stream",
     "text": [
      "Page Error : 22\n",
      "Page Error : 23\n",
      "유닉스_프리미엄_메탈_이온_헤어드라이기_UN-B1612_1600W,_혼합_색상\n"
     ]
    },
    {
     "data": {
      "application/vnd.jupyter.widget-view+json": {
       "model_id": "78c7433dbf9445fc94e48b83aba4fe28",
       "version_major": 2,
       "version_minor": 0
      },
      "text/plain": [
       "  0%|          | 0/39 [00:00<?, ?it/s]"
      ]
     },
     "metadata": {},
     "output_type": "display_data"
    },
    {
     "name": "stdout",
     "output_type": "stream",
     "text": [
      "Page Error : 31\n",
      "Page Error : 32\n",
      "Page Error : 33\n",
      "Page Error : 34\n",
      "Page Error : 35\n",
      "Page Error : 36\n",
      "Page Error : 37\n",
      "Page Error : 38\n",
      "Page Error : 39\n",
      "CKI_가정용_접이식_헤어_드라이어_1200W,_CKI-D200,_혼합_색상\n"
     ]
    },
    {
     "data": {
      "application/vnd.jupyter.widget-view+json": {
       "model_id": "5ffe02560aeb44d996c43fd92d17012e",
       "version_major": 2,
       "version_minor": 0
      },
      "text/plain": [
       "  0%|          | 0/3 [00:00<?, ?it/s]"
      ]
     },
     "metadata": {},
     "output_type": "display_data"
    },
    {
     "name": "stdout",
     "output_type": "stream",
     "text": [
      "Page Error : 2\n",
      "Page Error : 3\n",
      "조아스_전문가용_헤어드라이기_고출력_JHC-3880WS_2200W,_화이트_+_골드\n"
     ]
    },
    {
     "data": {
      "application/vnd.jupyter.widget-view+json": {
       "model_id": "0cd62b8f90e24dc0986d6d34094e2beb",
       "version_major": 2,
       "version_minor": 0
      },
      "text/plain": [
       "  0%|          | 0/46 [00:00<?, ?it/s]"
      ]
     },
     "metadata": {},
     "output_type": "display_data"
    },
    {
     "name": "stdout",
     "output_type": "stream",
     "text": [
      "Page Error : 31\n",
      "Page Error : 32\n",
      "Page Error : 33\n",
      "Page Error : 34\n",
      "Page Error : 35\n",
      "Page Error : 36\n",
      "Page Error : 37\n",
      "Page Error : 38\n",
      "Page Error : 39\n",
      "Page Error : 40\n",
      "Page Error : 41\n",
      "Page Error : 42\n",
      "Page Error : 43\n",
      "Page Error : 44\n",
      "Page Error : 45\n",
      "Page Error : 46\n",
      "바비리스_전문가용_프로_스피드_헤어_드라이기_D105K_2000W\n"
     ]
    },
    {
     "data": {
      "application/vnd.jupyter.widget-view+json": {
       "model_id": "901942e940164c66a006f1c238f73f3c",
       "version_major": 2,
       "version_minor": 0
      },
      "text/plain": [
       "  0%|          | 0/14 [00:00<?, ?it/s]"
      ]
     },
     "metadata": {},
     "output_type": "display_data"
    },
    {
     "name": "stdout",
     "output_type": "stream",
     "text": [
      "Page Error : 13\n",
      "Page Error : 14\n",
      "유닉스_마스터_네오_헤어드라이기_UN-A1770_2000_W,_혼합_색상\n"
     ]
    },
    {
     "data": {
      "application/vnd.jupyter.widget-view+json": {
       "model_id": "07241139b6514fadb465e879e73417dc",
       "version_major": 2,
       "version_minor": 0
      },
      "text/plain": [
       "  0%|          | 0/15 [00:00<?, ?it/s]"
      ]
     },
     "metadata": {},
     "output_type": "display_data"
    },
    {
     "name": "stdout",
     "output_type": "stream",
     "text": [
      "Page Error : 14\n",
      "Page Error : 15\n",
      "유닉스_40주년_리미티드_에디션_헤어_드라이어_UN-B1642_2000W,_핑크골드\n"
     ]
    },
    {
     "data": {
      "application/vnd.jupyter.widget-view+json": {
       "model_id": "ca5f429951ec4c22a2e95c4e7afb9202",
       "version_major": 2,
       "version_minor": 0
      },
      "text/plain": [
       "  0%|          | 0/5 [00:00<?, ?it/s]"
      ]
     },
     "metadata": {},
     "output_type": "display_data"
    },
    {
     "name": "stdout",
     "output_type": "stream",
     "text": [
      "Page Error : 4\n",
      "Page Error : 5\n",
      "필립스_듀얼_에어케어_헤어드라이기_2100W,_BHD340_19,_퍼플\n"
     ]
    },
    {
     "data": {
      "application/vnd.jupyter.widget-view+json": {
       "model_id": "f605e5346ca44a889ad0920c65303299",
       "version_major": 2,
       "version_minor": 0
      },
      "text/plain": [
       "  0%|          | 0/5 [00:00<?, ?it/s]"
      ]
     },
     "metadata": {},
     "output_type": "display_data"
    },
    {
     "name": "stdout",
     "output_type": "stream",
     "text": [
      "Page Error : 4\n",
      "Page Error : 5\n",
      "CKI_가정용_접이식_헤어_드라이어_CKI-D213_1200W,_화이트\n"
     ]
    },
    {
     "data": {
      "application/vnd.jupyter.widget-view+json": {
       "model_id": "0dca0284c2a74661b73104755d298e11",
       "version_major": 2,
       "version_minor": 0
      },
      "text/plain": [
       "  0%|          | 0/5 [00:00<?, ?it/s]"
      ]
     },
     "metadata": {},
     "output_type": "display_data"
    },
    {
     "name": "stdout",
     "output_type": "stream",
     "text": [
      "Page Error : 4\n",
      "Page Error : 5\n",
      "유닉스_BLDC_SUPER_D_플러스_럭셔리골드_에디션_헤어드라이기_UN-B3011_1800W,_혼합색상\n"
     ]
    }
   ],
   "source": [
    "pro_dic = find_product_list(\"헤어드라이기\")\n",
    "input_ = make_input_list(pro_dic,100)\n",
    "path_ = r\"C:\\Users\\Samsung\\jupyter\\Project_LG_textmining\\data\\hair\\shopping_2\\coupang\\{}.xlsx\"\n",
    "coupan_all(input_,path_)"
   ]
  },
  {
   "cell_type": "code",
   "execution_count": null,
   "metadata": {},
   "outputs": [],
   "source": []
  },
  {
   "cell_type": "code",
   "execution_count": null,
   "metadata": {},
   "outputs": [],
   "source": []
  },
  {
   "cell_type": "code",
   "execution_count": null,
   "metadata": {},
   "outputs": [],
   "source": []
  },
  {
   "cell_type": "code",
   "execution_count": null,
   "metadata": {},
   "outputs": [],
   "source": []
  }
 ],
 "metadata": {
  "kernelspec": {
   "display_name": "Python 3",
   "language": "python",
   "name": "python3"
  },
  "language_info": {
   "codemirror_mode": {
    "name": "ipython",
    "version": 3
   },
   "file_extension": ".py",
   "mimetype": "text/x-python",
   "name": "python",
   "nbconvert_exporter": "python",
   "pygments_lexer": "ipython3",
   "version": "3.7.6"
  }
 },
 "nbformat": 4,
 "nbformat_minor": 4
}
